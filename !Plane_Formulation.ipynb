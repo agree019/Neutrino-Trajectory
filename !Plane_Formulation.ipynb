{
 "cells": [
  {
   "cell_type": "markdown",
   "metadata": {},
   "source": [
    "# Detector Plane Computation"
   ]
  },
  {
   "cell_type": "markdown",
   "metadata": {
    "heading_collapsed": true
   },
   "source": [
    "## Known Issues"
   ]
  },
  {
   "cell_type": "markdown",
   "metadata": {
    "hidden": true
   },
   "source": [
    "1. **Resolved** I don't understand how the neutrino energy spectrum comes into play in the Lorentz force. [This wiki page](Measurements_of_neutrino_speed) seems to say that above energies of a few eV, neutrinos move at the speed of light. The only place I can think of where energy comes into play with the lorentz force is that the neutrinos would emit B-L radiation since they are bending, which would give us the spectrum we see.\n",
    "\n",
    "    Resolution: The neutrino spectrum is originating at the sun. It is NOT a result of any process as they traverse from the sun to the Earth. See the wiki page. The sun has a few processes that create neutrinos, and these neutrinos have different energies. This is the spectrum we see at Earth.\n",
    "\n",
    "\n",
    "2. What is the domininant location and process that gives us the spectrum of neutrinos we see coming from the sun? [This wiki page](https://en.wikipedia.org/wiki/Solar_neutrino#Observed_data) says that the dominant flux **at Earth** of low energy neutrinos comes from PP fusion, and the dominant source of high energy neutrinos comes fro \"hep\" processes. For now, the neutrino spectrum ranges from $10^{-1} - 10$ MeV. I need the flux **at production.**\n",
    "\n",
    "3. **Resolved** In calculating the trajectory, the relevant distances are measured in au. The algorithm computes the distance at each point in the trajectory and compares it to 1 au, the distance between the sun and Earth. In the current formulation, we compute the distance until it turns over from $<1$ to $>1$, and then stops. This difference ends up being $\\sim10^{-3}$au, which translates to $\\sim 10^6$ km. Given the neutrinos are moving at the speed of light, and the magnetic field falls off as 1/r, the amount of bending that occurs over this distance is **hopefully** negligible.\n",
    "\n",
    "    Resolution: Meeting with Flip on 1/21/22, he said missing Earth by this much isn't such a big deal."
   ]
  },
  {
   "cell_type": "markdown",
   "metadata": {
    "heading_collapsed": true
   },
   "source": [
    "## Changes from !Current_Notebook"
   ]
  },
  {
   "cell_type": "markdown",
   "metadata": {
    "hidden": true
   },
   "source": [
    "1. Function definitions. Just copy-paste all of them into !Current_Notebook\n",
    "\n",
    "2. Section 1.5.1.1: Reworked code (no deletion) so that we don't scan over initial velocities, only initial positions. All velocities set to 1.\n",
    "\n",
    "3. Section 1.5.1.2: Reworked code (no deletion) so that we don't scan over initial velocities, only initial positions. All velocities set to 1."
   ]
  },
  {
   "cell_type": "markdown",
   "metadata": {
    "heading_collapsed": true
   },
   "source": [
    "## Intro"
   ]
  },
  {
   "cell_type": "markdown",
   "metadata": {
    "hidden": true
   },
   "source": [
    "Our detector is essentially a photographic plate, so a plane located at $R_{\\text{Earth}}$. For clarity, I will refer to this plane as the \"detector plane\" for the rest of this notebook.\n",
    "\n",
    "We would like the following:\n",
    "\n",
    "1. The equation of this plane\n",
    "2. To know where on this plane do the other trajectories hit "
   ]
  },
  {
   "cell_type": "markdown",
   "metadata": {
    "heading_collapsed": true
   },
   "source": [
    "## The Reasoning"
   ]
  },
  {
   "cell_type": "markdown",
   "metadata": {
    "hidden": true
   },
   "source": [
    "We will be working in the $\\vec{B} = B_0 \\hat{z}$ limit\n",
    "\n",
    "1. Pick **one** trajectory and evolove it according to the code. Obtain the location of Earth and the velocity vector at Earth. The velocity vector at Earth defines the normal vector to the detector plane.\n",
    "\n",
    "For a point $\\vec{p} = (p_x, p_y, p_z)$ and a normal vector $\\vec{n} = (n_X, n_y, n_z)$, the equation of a plane is given by $$n_xx+n_yy+n_zz - (p_x+ p_y+ p_z) = 0$$\n",
    "\n",
    "2. Given a list of points from the origin of the sun (a trajectory), call this list $\\{\\vec{r}\\}$. Compute the minimum **two** distances between $\\{\\vec{r}\\}$ and the detector plane. In principle, these two points will be on opposite sides of the detector plane. I believe this will always be the case because our point resolution is not high enough to yield the two closest points on the same side of the plane, but I don't know for certain. Something about the trajectory taking a very sharp turn, which is only visible with high resolution.\n",
    "\n",
    "Given a point $\\vec{p}$ **in** the plane, point $\\vec{r}$ in space, and normal vector $\\vec{n}$, we can calculate the distance between $\\vec{r}$ and the plane, $D$, as: $$D = \\frac{(\\vec{p}-\\vec{r}) \\cdot \\vec{n}} {|\\vec{n}|} = \\frac{ n_xr_x+n_yr_y+n_zr_z - d} {|\\vec{n}|}$$\n",
    "\n",
    "3. Make a line between the minimum and next to minimum distance points, and determine where that line intersects the detector plane.\n",
    "\n"
   ]
  },
  {
   "cell_type": "markdown",
   "metadata": {},
   "source": [
    "## The Computation"
   ]
  },
  {
   "cell_type": "markdown",
   "metadata": {},
   "source": [
    "1. Get the set of initial conditions that actually hits Earth.\n",
    "2. Compute loss on these initial conditions\n",
    "3. Define the detector plane based on the conditon with minimal loss.\n",
    "4. For every other trajectory:\n",
    " 1. Compute the minimum and second minimum distances between each point and the detector plane. These will always be the last and second to last points in the trajectory by algorithm design.\n",
    " 2. Make a line (continuous function) between these two points\n",
    " 3. Determine at what location this line intersects the detector plane\n",
    " 4. Record this location as a \"hit\"\n",
    "5. Repeat for all trajectories\n",
    "6. Plot all \"hits\" in the detector plane"
   ]
  },
  {
   "cell_type": "code",
   "execution_count": 1,
   "metadata": {
    "ExecuteTime": {
     "end_time": "2022-02-16T19:22:36.410088Z",
     "start_time": "2022-02-16T19:22:33.825037Z"
    }
   },
   "outputs": [
    {
     "data": {
      "text/html": [
       "        <script type=\"text/javascript\">\n",
       "        window.PlotlyConfig = {MathJaxConfig: 'local'};\n",
       "        if (window.MathJax) {MathJax.Hub.Config({SVG: {font: \"STIX-Web\"}});}\n",
       "        if (typeof require !== 'undefined') {\n",
       "        require.undef(\"plotly\");\n",
       "        requirejs.config({\n",
       "            paths: {\n",
       "                'plotly': ['https://cdn.plot.ly/plotly-latest.min']\n",
       "            }\n",
       "        });\n",
       "        require(['plotly'], function(Plotly) {\n",
       "            window._Plotly = Plotly;\n",
       "        });\n",
       "        }\n",
       "        </script>\n",
       "        "
      ]
     },
     "metadata": {},
     "output_type": "display_data"
    },
    {
     "name": "stdout",
     "output_type": "stream",
     "text": [
      "Complete\n"
     ]
    }
   ],
   "source": [
    "import numpy as np\n",
    "import pandas as pd\n",
    "import matplotlib as mpl\n",
    "\n",
    "import matplotlib.pyplot as plt\n",
    "from mpl_toolkits.mplot3d import Axes3D\n",
    "from random import random\n",
    "\n",
    "import plotly\n",
    "import plotly.express as px\n",
    "import plotly.offline as offline\n",
    "offline.init_notebook_mode(connected=True)\n",
    "import plotly.graph_objs as go\n",
    "import plotly.tools as tls\n",
    "\n",
    "%matplotlib inline \n",
    "\n",
    "print ('Complete')"
   ]
  },
  {
   "cell_type": "code",
   "execution_count": 2,
   "metadata": {
    "ExecuteTime": {
     "end_time": "2022-02-16T19:22:36.849839Z",
     "start_time": "2022-02-16T19:22:36.454490Z"
    },
    "code_folding": [
     4,
     17,
     26,
     32,
     35,
     38,
     41,
     44,
     47,
     50,
     54,
     58,
     74,
     94,
     122,
     159,
     234,
     244,
     255,
     375,
     405,
     416,
     508,
     523,
     573,
     590,
     598,
     631,
     641,
     658,
     727
    ],
    "scrolled": true
   },
   "outputs": [
    {
     "name": "stdout",
     "output_type": "stream",
     "text": [
      "Complete\n"
     ]
    }
   ],
   "source": [
    "rDot = 0.00465047 # in au\n",
    "rHalf = rDot/2\n",
    "lightTime = 1 # in Au/C\n",
    "\n",
    "def sph2Cartesian(rVect):\n",
    "    '''\n",
    "    '''\n",
    "    r = rVect[0]\n",
    "    theta = rVect[1]\n",
    "    phi = rVect[2]\n",
    "\n",
    "    X = r*np.sin(theta)*np.cos(phi)\n",
    "    Y = r*np.sin(theta)*np.sin(phi)\n",
    "    Z = r*np.cos(theta)\n",
    "\n",
    "    return [X,Y,Z]\n",
    "    \n",
    "def distance(vect1,vect2):\n",
    "    ''' \n",
    "    vect1 and vect2 must be in cartesian coordinates\n",
    "    Returns the distance between vect1 and vect2\n",
    "    '''\n",
    "    x,y,z = vect1[0],vect1[1],vect1[2]\n",
    "    x0,y0,z0 = vect2[0],vect2[1],vect2[2]\n",
    "    return np.sqrt( (x-x0)**2 + (y-y0)**2 +(z-z0)**2 )\n",
    "\n",
    "def norm(cartesianVector):\n",
    "    x = cartesianVector[0]\n",
    "    y = cartesianVector[1]\n",
    "    z = cartesianVector[2]\n",
    "    return (np.sqrt(x**2+y**2+z**2))\n",
    "\n",
    "def km2au(num):\n",
    "    return num*6.6846e-9\n",
    "\n",
    "def sec2geVInv(num):\n",
    "    return 1.52E24* num\n",
    "\n",
    "def km2geVInv(num):\n",
    "    return 5.06E18*num\n",
    "\n",
    "def geVInv2km(num):\n",
    "    return 5.06E18**-1 * num\n",
    "\n",
    "def geVInv2au(num):\n",
    "    return num*5.06*10**13 * 10**-5 *6.6846*10**-9\n",
    "\n",
    "def au2km(num):\n",
    "    return num*1.496e+8\n",
    "\n",
    "def auOverc2min(num):\n",
    "    return 8.3167464*num \n",
    "\n",
    "\n",
    "def rFunction(x,y,z):\n",
    "    return np.sqrt(x**2+y**2+z**2)\n",
    "\n",
    "\n",
    "def cosBeta(vec1,vec2):\n",
    "    ''' \n",
    "    Returns cos of the angle between 3-vectors vec1 and vec2\n",
    "    '''\n",
    "    x1 = vec1[0]\n",
    "    y1 = vec1[1]\n",
    "    z1 = vec1[2]\n",
    "    x2 = vec2[0]\n",
    "    y2 = vec2[1]\n",
    "    z2 = vec2[2]\n",
    "\n",
    "    numerator = (x1*x2) + (y1*y2) + (z1*z2) \n",
    "    denominator = np.sqrt(x1**2 +y1**2 +z1**2) * np.sqrt(x2**2 +y2**2 +z2**2 )\n",
    "    return (numerator/denominator)\n",
    "\n",
    "\n",
    "def posAvg(r1,r2):\n",
    "    ''' \n",
    "    Averages two position 3-vectors\n",
    "    r1 is the initial position 3-vector\n",
    "    r2 is the final position 3-vector\n",
    "    '''\n",
    "    x1 = r1[0]\n",
    "    y1 = r1[1]\n",
    "    z1 = r1[2]\n",
    "    x2 = r2[0]\n",
    "    y2 = r2[1]\n",
    "    z2 = r2[2]\n",
    "\n",
    "    xavg = (x2+x1)/2\n",
    "    yavg = (y2+y1)/2\n",
    "    zavg = (z2+z1)/2\n",
    "\n",
    "    return [xavg,yavg,zavg]\n",
    "\n",
    "\n",
    "def velocityAvg(r1, r2):\n",
    "    '''\n",
    "    Newtonian estimate of the velocity vector between two locations.\n",
    "\n",
    "    r1 and r2 are both velocity 3-vectors in cartesian\n",
    "\n",
    "    returns the cartesian 3-velocity \n",
    "\n",
    "    eg: vAvgX = x1 + 1/2*(deltaX)\n",
    "    '''\n",
    "    x1 = r1[0]\n",
    "    y1 = r1[1]\n",
    "    z1 = r1[2]\n",
    "    x2 = r2[0]\n",
    "    y2 = r2[1]\n",
    "    z2 = r2[2]\n",
    "\n",
    "    deltavX = x2 - x1\n",
    "    deltavY = y2 - y1\n",
    "    deltavZ = z2 - z1\n",
    "\n",
    "    vavgX = x1 + (1/2)*deltavX\n",
    "    vavgY = y1 + (1/2)*deltavY\n",
    "    vavgZ = z1 + (1/2)*deltavZ\n",
    "\n",
    "    return [vavgX,vavgY,vavgZ]\n",
    "\n",
    "\n",
    "def conditionSph2Car(sphCon,row='Null'):\n",
    "    '''\n",
    "    sphCon: one six-dimensional array consisting of [r,theta,phi,vr,vtheta,vphi]\n",
    "    '''\n",
    "    r,theta,phi = sphCon[0],sphCon[1],sphCon[2]\n",
    "    vr,vtheta,vphi = sphCon[3],sphCon[4],sphCon[5]\n",
    "\n",
    "    x = r*np.sin(theta)*np.cos(phi)\n",
    "    y = r*np.sin(theta)*np.sin(phi)\n",
    "    z = r*np.cos(theta)\n",
    "\n",
    "    vx = vr*np.sin(theta)*np.cos(phi) + vtheta*r*np.cos(theta)*np.cos(phi) - vphi*r*np.sin(theta)*np.sin(phi)\n",
    "    vy = vr*np.sin(theta)*np.sin(phi) + vtheta*r*np.cos(theta)*np.sin(phi) + vphi*r*np.sin(theta)*np.cos(phi)\n",
    "    vz = vr*np.cos(theta)             - vtheta*r*np.sin(theta)\n",
    "\n",
    "    error = 0.000000001\n",
    "    assert r-(error*r) <= np.sqrt(x**2 + y**2 + z**2) <= r+(error*r), \\\n",
    "    \"Row {0}: Cartesian <-> spherical distance larger than {1}% incorrect\".format(row,100*error)\n",
    "    \n",
    "    zeroLimit = 1e-15\n",
    "    if (np.abs(x) <= zeroLimit):\n",
    "        x=0\n",
    "    if (np.abs(y) <= zeroLimit):\n",
    "        y=0\n",
    "    if (np.abs(z) <= zeroLimit):\n",
    "        z=0\n",
    "        \n",
    "    if (np.abs(vx) <= zeroLimit):\n",
    "        vx=0\n",
    "    if (np.abs(vy) <= zeroLimit):\n",
    "        vy=0\n",
    "    if (np.abs(vz) <= zeroLimit):\n",
    "        vz=0\n",
    "    \n",
    "    return [x,y,z,vx,vy,vz]\n",
    "\n",
    "\n",
    "def conditionCar2Sph(carCon,row = 'Null'):\n",
    "    x,y,z    = carCon[0],carCon[1],carCon[2]\n",
    "    vx,vy,vz = carCon[3],carCon[4],carCon[5]\n",
    "    \n",
    "    r     = np.sqrt(x**2+y**2+z**2)\n",
    "    theta = np.arctan2(np.sqrt(x**2 + y**2),z) \n",
    "    phi   = np.arctan2(y,x)\n",
    "#     print ('pos',r,theta,phi)\n",
    "      \n",
    "    vr     = (x*vx+y*vy+z*vz)/r\n",
    "    vtheta = 1/np.sin(theta) * z/r**2 * (x*vx+y*vy+z*vz)**(-3/2) -vz/r\n",
    "    vphi   = (np.cos(theta)/x)**2*(x*vy-y*vx)\n",
    "#     print('vel',vr,vtheta,vphi)\n",
    "    \n",
    "    return [r,theta,phi,vr,vtheta,vphi]\n",
    "      \n",
    "    \n",
    "def Bfield(x,y,z):\n",
    "    '''\n",
    "    Returns cartesian components of the B-field measured in MeV^2 at location x,y,z.\n",
    "    \n",
    "    x,y,z must be in cartesian coordinates measured in Au\n",
    "    '''\n",
    "    assert x**2 + y**2 > 0, 'Bfield function, both x & y zero simultaneously'\n",
    "#  T = 1 kg⋅s−2⋅A−1 = N s / C m = kg / C s \n",
    "#    = [mass] / [charge] [time]\n",
    "\n",
    "    # 3.3 in nT\n",
    "    Br     = 0\n",
    "#     Btheta = 3.3e-9/np.sqrt(2) * 1/rFunction(x,y,z)\n",
    "    Btheta = 0\n",
    "    Bphi   = 3.3e-9/np.sqrt(2) * 1/rFunction(x,y,z)\n",
    "#     Bphi = 0\n",
    "\n",
    "    # Spherical unit vector decompositions\n",
    "    # Schematically, we decompose rhat = Axhat + Byhat + Czhat and read off the ABC from wiki\n",
    "    # The arguments of the ABCs are the cartesian location where we are evaluating the B field\n",
    "    def A(x,y,z):\n",
    "        return x/np.sqrt(x**2 +y**2 +z**2)\n",
    "\n",
    "    def B(x,y,z):\n",
    "        return y/np.sqrt(x**2 +y**2 +z**2)\n",
    "\n",
    "    def C(x,y,z):\n",
    "        return z/np.sqrt(x**2 +y**2 +z**2)\n",
    "\n",
    "    def D(x,y,z):\n",
    "        return x*z / (np.sqrt(x**2 +y**2 +z**2) * np.sqrt(x**2+y**2))\n",
    "\n",
    "    def E(x,y,z):\n",
    "        return y*z / (np.sqrt(x**2 +y**2 +z**2) * np.sqrt(x**2+y**2))\n",
    "        \n",
    "    def F(x,y,z): \n",
    "        return -(x**2 + y**2) / (np.sqrt(x**2 +y**2 +z**2) * np.sqrt(x**2+y**2)) \n",
    "\n",
    "    def G(x,y,z):\n",
    "        return -y / np.sqrt(x**2 + y**2)\n",
    "\n",
    "    def H(x,y,z):\n",
    "        return x / np.sqrt(x**2 + y**2)\n",
    "\n",
    "    def I(x,y,z):\n",
    "        return 0\n",
    "\n",
    "#     Bx = Br * A(x,y,z) + Btheta * D(x,y,z) + Bphi * G(x,y,z)\n",
    "#     By = Br * B(x,y,z) + Btheta * E(x,y,z) + Bphi * H(x,y,z)\n",
    "#     Bz = Br * C(x,y,z) + Btheta * F(x,y,z) + Bphi * I(x,y,z)\n",
    "\n",
    "    Bx, By, Bz = 0,0,1\n",
    "#     Bx, By, Bz = 0,0,0\n",
    "#     tesla2MeV2 = 1\n",
    "    tesla2MeV2 = 1.6e-19*1e3*1e6/(1.78e-24*1.52e24)\n",
    "    return (tesla2MeV2*Bx, tesla2MeV2*By, tesla2MeV2*Bz)\n",
    "\n",
    "\n",
    "def acceleration_normed(vel, pos):\n",
    "    '''\n",
    "    Returns acceleration of a unit charge of unit mass with velocity vel at position pos\n",
    "    '''\n",
    "    x = pos[0]\n",
    "    y = pos[1]\n",
    "    z = pos[2]\n",
    "    return np.cross(vel,Bfield(x,y,z)) \n",
    "\n",
    "\n",
    "def step(pos, vel, acc, dt, q_by_E):\n",
    "    '''Computes the new position given the old position, velocity, acceleration, and dt\n",
    "    using the simplest differential equation solver.\n",
    "    '''\n",
    "    \n",
    "    x,y,z = pos[0],pos[1],pos[2]\n",
    "    \n",
    "\n",
    "    return next_pos, next_vel, next_acc\n",
    "\n",
    "\n",
    "def trajectorySolver(initialConditions, q_e, E_MeV, dt):\n",
    "    '''\n",
    "    xi = gB-L/q_e\n",
    "\n",
    "    Inputs:\n",
    "        initialConditions: array of [r0,v0] in cartesian coordinates\n",
    "                           in units of au and \"c\" respectively\n",
    "        q : the electric charge in units of \"e\"\n",
    "        m : the mass/energy of the particle in MeV.\n",
    "        dt: the time increment between each step in Au/c\n",
    "\n",
    "    Returns:\n",
    "        trajectory: the 3-vector (x,y,z), the position of the neutrino at each step\n",
    "        velocity  : the 3-vector (vX,vY,vZ), the velocity of the neutrino at each step\n",
    "    '''\n",
    "    r0 = initialConditions[0:3] # In units of au\n",
    "    v0 = initialConditions[3:6] # In units of c\n",
    "    \n",
    "#     assert ((r0[0] != 0) or (r0[1] !=0)), \"X and Y initial positions cannot be simultaneously zero. See Jacobian tranformation in the definition of Bfield.\"\n",
    "#     assert ((r0[0] != 0) and (r0[1] !=0)), \"X and Y initial positions cannot be simultaneously zero. See Jacobian tranformation in the definition of Bfield.\"\n",
    "\n",
    "#     q_coulombs  = q_e * 1.60217662e-19  # units of Coulombs\n",
    "#     m_kg  = E_MeV * 1.78e-30 * (2e-3)**2 # units of kilograms\n",
    "#     q_by_E  = q_coulombs/m_kg\n",
    "    q_by_E = q_e/E_MeV\n",
    "#     print ('q/E',q_by_E)\n",
    "\n",
    "    # pos = np.array([r0[0],r0[1],r0[2]])\n",
    "    # vel = np.array([v0[0],v0[1],v0[2]]) \n",
    "    pos = np.asarray(r0)\n",
    "    vel = np.asarray(v0)\n",
    "\n",
    "#     acc = q_by_E * acceleration_normed(vel, pos)\n",
    "\n",
    "    xPoints=[] # record of x-values\n",
    "    yPoints=[] # record of y-values\n",
    "    zPoints=[] # record of z-values\n",
    "    vxPoints=[] # record of x-velocities\n",
    "    vyPoints=[] # record of y-velocities\n",
    "    vzPoints=[] # record of z-velocities\n",
    "    \n",
    "\n",
    "    def dvdt(pos,vel,dt,q_by_E):\n",
    "        x,y,z = pos[0],pos[1],pos[2]\n",
    "        return q_by_E*np.cross(vel,Bfield(x,y,z))\n",
    "\n",
    "    def drdt(pos,vel,dt,q_by_E):\n",
    "        return vel\n",
    "    \n",
    "    \n",
    "\n",
    "    # Initialize half values\n",
    "    x_half = pos[0] + 0.5*dt*drdt(pos,vel,dt,q_by_E)[0]\n",
    "    y_half = pos[1] + 0.5*dt*drdt(pos,vel,dt,q_by_E)[1]\n",
    "    z_half = pos[2] + 0.5*dt*drdt(pos,vel,dt,q_by_E)[2]\n",
    "    \n",
    "    vx_half = vel[0] + 0.5*dt*dvdt(pos,vel,dt,q_by_E)[0]\n",
    "    vy_half = vel[1] + 0.5*dt*dvdt(pos,vel,dt,q_by_E)[1]\n",
    "    vz_half = vel[2] + 0.5*dt*dvdt(pos,vel,dt,q_by_E)[2]\n",
    "\n",
    "    posHalf = [x_half,y_half,z_half]\n",
    "    velHalf = [vx_half,vy_half,vz_half]\n",
    "    \n",
    "    distance = np.sqrt(pos[0]**2 + pos[1]**2 + pos[2]**2)\n",
    "    \n",
    "    earthDist = 1.0\n",
    "    while distance < earthDist:\n",
    "        \n",
    "        # Append Points\n",
    "        xPoints.append(pos[0])\n",
    "        yPoints.append(pos[1])\n",
    "        zPoints.append(pos[2])\n",
    "        velPrecision = 1e-5\n",
    "        velNorm = np.sqrt(vel[0]**2 + vel[1]**2 + vel[2]**2)\n",
    "        if (np.abs(1-velNorm) >= velPrecision ):\n",
    "            print ('Velocity normalization outside precision {0}'.format(velPrecision))\n",
    "#         print ('VelNorm', velNorm)\n",
    "        vxPoints.append(vel[0])\n",
    "        vyPoints.append(vel[1])\n",
    "        vzPoints.append(vel[2])\n",
    "        \n",
    "        # We put the distance update specifically here so that \n",
    "        # we record the last distance that is larger than 1\n",
    "        distance = np.sqrt(pos[0]**2 + pos[1]**2 + pos[2]**2)\n",
    "#         print ('distance',distance)\n",
    "\n",
    "        # Leapfrog\n",
    "        # I actually don't know which of these should come first...\n",
    "        #     Do we need to update the half positions first    \n",
    "        pos[0] += dt*drdt(posHalf,velHalf,dt,q_by_E)[0]\n",
    "        pos[1] += dt*drdt(posHalf,velHalf,dt,q_by_E)[1]\n",
    "        pos[2] += dt*drdt(posHalf,velHalf,dt,q_by_E)[2]\n",
    "        vel[0] += dt*dvdt(posHalf,velHalf,dt,q_by_E)[0]\n",
    "        vel[1] += dt*dvdt(posHalf,velHalf,dt,q_by_E)[1]\n",
    "        vel[2] += dt*dvdt(posHalf,velHalf,dt,q_by_E)[2] \n",
    "        \n",
    "        posHalf[0] += dt*drdt(pos,vel,dt,q_by_E)[0]\n",
    "        posHalf[1] += dt*drdt(pos,vel,dt,q_by_E)[1]\n",
    "        posHalf[2] += dt*drdt(pos,vel,dt,q_by_E)[2]\n",
    "        velHalf[0] += dt*dvdt(pos,vel,dt,q_by_E)[0]\n",
    "        velHalf[1] += dt*dvdt(pos,vel,dt,q_by_E)[1]\n",
    "        velHalf[2] += dt*dvdt(pos,vel,dt,q_by_E)[2]\n",
    "            \n",
    "    \n",
    "    trajectory = [xPoints,yPoints,zPoints]\n",
    "    velocity   = [vxPoints,vyPoints,vzPoints]\n",
    "\n",
    "    trajTime = auOverc2min(len(trajectory[0])*dt)\n",
    "\n",
    "#     assert(trajTime > auOverc2min(lightTime)), \"Trajectory Time: {0} min. Neutrino is moving faster than light.\".format(trajTime)\n",
    "#     if (trajTime < auOverc2min(lightTime)):\n",
    "#         print ('WARNING: neutrino moving faster than light. Change dt')\n",
    "#         print ('Current dt: ',dt)\n",
    "#     if (len(trajectory[0]) <= 2):\n",
    "#         print ('WARNING: only two data points in the trajectory. Decrease dt')\n",
    "#         print ('Current dt: ',dt)\n",
    "\n",
    "    return (trajectory,velocity)\n",
    "\n",
    "\n",
    "def sphDF2CarDF(dataDFSph):\n",
    "    columns = ['ConNo','x','y','z','vx','vy','vz','L','cosBeta']\n",
    "    dataDFCar = pd.DataFrame(columns=columns)\n",
    "    \n",
    "    for row in dataDFSph.ConNo:\n",
    "        sphCon = np.asarray(dataDFSph.loc[row]['r':'vPhi'])\n",
    "        L = dataDFSph.L[row]\n",
    "        cosBeta = dataDFSph.cosBeta[row]\n",
    "        carCon = conditionSph2Car(sphCon,row)\n",
    "\n",
    "        x = carCon[0]\n",
    "        y = carCon[1]\n",
    "        z = carCon[2]\n",
    "        zeroLimit = 1e-16\n",
    "#         if (x <= zeroLimit):\n",
    "#             x=0\n",
    "#         if (y <= zeroLimit):\n",
    "#             y=0\n",
    "#         if (z <= zeroLimit):\n",
    "#             z=0\n",
    "        vx = carCon[0]\n",
    "        vy = carCon[1]\n",
    "        vz = carCon[2]\n",
    "\n",
    "        appendThis = ({'ConNo': int(row),'x':x,'y':y,'z':z,'vx':vx,'vy':vy,'vz':vz,'L':L,'cosBeta':cosBeta})\n",
    "        dataDFCar = dataDFCar.append(appendThis,ignore_index=True)\n",
    "    return dataDFCar\n",
    "\n",
    "\n",
    "\n",
    "def lossFunction(trajectorySolverOutput):\n",
    "    '''\n",
    "    This breaks for vmax 3 digits and larger\n",
    "    vmax = 99 is fine, but vmax = 100 breaks this function\n",
    "    '''\n",
    "    positions = trajectorySolverOutput[0]\n",
    "    zlocations = positions[2]\n",
    "    zLoss = (zlocations[-1] + zlocations[-2]) * 0.5\n",
    "    return zLoss\n",
    "\n",
    "\n",
    "def endingAngle(trajectorySolverOutput):\n",
    "    positions   = trajectorySolverOutput[0]\n",
    "    velocities  = trajectorySolverOutput[1]\n",
    "    x,y,z       = positions[0],positions[1],positions[2]\n",
    "    vx,vy,vz    = velocities[0],velocities[1],velocities[2]\n",
    "    lastPos     = [x[-1],y[-1],z[-1]]\n",
    "    nextlastPos = [x[-2],y[-2],z[-2]]\n",
    "    avgPos      = np.asarray(posAvg(nextlastPos,lastPos))\n",
    "    lastVel     = [vx[-1],vy[-1],vz[-1]]\n",
    "    nextlastVel = [vx[-2],vy[-2],vz[-2]]\n",
    "    avgVel      = np.asarray(velocityAvg(lastVel,nextlastVel))\n",
    "        \n",
    "    return cosBeta(avgVel,avgPos)\n",
    "\n",
    "\n",
    "def computeLossAndBeta(dataDFSph,q,m,dt):\n",
    "    for row in np.arange(0,(dataDFSph.shape[0])):\n",
    "        ICSph = np.asarray(dataDFSph.loc[row]['r':'vPhi'])\n",
    "        ICCar = conditionSph2Car(ICSph,row)\n",
    "            \n",
    "        output = trajectorySolver(ICCar,q,m,dt)\n",
    "        \n",
    "        loss = lossFunction(output)\n",
    "        cosBeta = endingAngle(output)        \n",
    "\n",
    "        dataDFSph.iloc[row]['L'] = loss\n",
    "        dataDFSph.iloc[row]['cosBeta'] = cosBeta\n",
    "    return dataDFSph\n",
    "\n",
    "# def computeLossAndBeta(condition,q,m,dt,cartesian = False):\n",
    "#     if not cartesian: \n",
    "#         ICCar = conditionSph2Car(condition)\n",
    "\n",
    "#     if cartesian:\n",
    "#         ICCar = condition\n",
    "\n",
    "#     output = trajectorySolver(ICCar,q,m,dt)\n",
    "#     loss = lossFunction(output)\n",
    "#     cosB = endingAngle(output)        \n",
    "    \n",
    "# #     dataDF.iloc[row]['L'] = loss\n",
    "# #     dataDF.iloc[row]['cosBeta'] = cosBeta\n",
    "#     return loss,cosB\n",
    "\n",
    "\n",
    "def determineDetectorPlane(dataDFSph,q,m,dt,rHatPerp = True):\n",
    "    '''\n",
    "    Input:\n",
    "        dataDFSph: The initial condition data frame in spherical coordinates. \n",
    "                   This function converts to cartesian \n",
    "        q,m,dt   : The usual conditions required to evolve trajectories\n",
    "        \n",
    "    Returns:\n",
    "        planePos: a point in space within the plane in cartesian\n",
    "        planeVel: the unnormalized normal vector for the plane in cartesian\n",
    "        \n",
    "        \n",
    "    rHatPerp: This option sets the normal of the plane to the -rhat direction and also\n",
    "              assigns to each initial velocity, the velocity of the condition used\n",
    "              to determine the plane. All initial velocities should point in the same\n",
    "              direction.\n",
    "    '''\n",
    "    dataDFSph  = computeLossAndBeta(dataDFSph,q,m,dt)\n",
    "    planeConditionSph   = np.asarray(dataDFSph.loc[0]['r':'vPhi'])\n",
    "    planeConditionCar   = conditionSph2Car(planeConditionSph)\n",
    "    output              = trajectorySolver(planeConditionCar,q,m,dt)\n",
    "    planeTraj, planeVel = output[0], output[1]\n",
    "    \n",
    "    r1 = np.transpose(planeTraj)[-1]\n",
    "    r2 = np.transpose(planeTraj)[-2]    \n",
    "    \n",
    "    v1 = np.transpose(planeVel)[-1]\n",
    "    v2 = np.transpose(planeVel)[-2]\n",
    "    \n",
    "    planePos = posAvg(r2,r1)\n",
    "    auLimit = 0.01\n",
    "    if np.abs(norm(planePos)) >= auLimit:\n",
    "        print ('WARNING: Plane distance larger than {:.2e} km away from earth'.format(au2km(auLimit)))\n",
    "        print ('Plane distance: {0} au'.format(norm(planePos)))\n",
    "\n",
    "    planeVel = velocityAvg(r2,r1)\n",
    "    \n",
    "    # This defines the normal of the plane to be pointing back to the\n",
    "    # origin from the point that defines the location of the plane.\n",
    "    if rHatPerp:\n",
    "        planeVel = np.multiply(-1,planePos)\n",
    "        sphCon = planeConditionSph[0:6]\n",
    "        return (planePos,planeVel,sphCon)\n",
    "    \n",
    "    return (planePos,planeVel)\n",
    "\n",
    "\n",
    "def planeDistance(Spoint,Ppoint,Pnorm):\n",
    "    '''\n",
    "    Spoint: An arbitrary point in space\n",
    "    Ppoint: A point on the plane\n",
    "    Pnorm : The normal vector of the plane\n",
    "    Note  : All points must be in cartesian\n",
    "    \n",
    "    Returns the perpindicular distance between Spoint and the plane\n",
    "    Note: We leave the distance \"signed\" in order to make the computation easier \n",
    "    '''\n",
    "    numerator   = (np.dot(Spoint,Pnorm)-np.dot(Ppoint,Pnorm))\n",
    "    denominator = np.dot(Pnorm,Pnorm)**0.5\n",
    "    return numerator/denominator\n",
    "\n",
    "\n",
    "def planeLineIntersection(line,plane):\n",
    "    '''\n",
    "    Inputs are tuples of vectors\n",
    "    \n",
    "    line: [point1, point2], line starts at r1 and ends at r2 in cartesian\n",
    "    plane: [point, normal], plane parameters in cartesian\n",
    "    '''\n",
    "    \n",
    "    p0 = np.asarray(plane[0])\n",
    "    n  = np.asarray(plane[1])\n",
    "    r1 = np.asarray(line[0])\n",
    "    r2 = np.asarray(line[1])\n",
    "    \n",
    "    numerator = (np.dot(n,p0))-(np.dot(n,r1))\n",
    "    denominator = (np.dot(n,(r2-r1)))\n",
    "    \n",
    "    tStar = numerator / denominator\n",
    "    intersection = r1 + tStar*(r2-r1)\n",
    "    return (intersection)\n",
    "\n",
    "\n",
    "def trajectoryHit(InitialCondition,plane,q,m,dt,cartesian = True):\n",
    "    '''\n",
    "    InitialCondition must be given in spherical coordinates. \n",
    "    It is then converted to cartesian within this function.\n",
    "    \n",
    "    plane: tuple of [p0,n], the point and normal of the plane\n",
    "    \n",
    "    returns: hit location on the plane in cartesian\n",
    "    '''\n",
    "    \n",
    "    if not cartesian:\n",
    "        carCon = conditionSph2Car(InitialCondition)\n",
    "    \n",
    "    if cartesian:\n",
    "        carCon = InitialCondition\n",
    "        \n",
    "    output = trajectorySolver(carCon,q,m,dt)\n",
    "    traj, vel = np.asarray(output[0]),np.asarray(output[1])\n",
    "        \n",
    "    r1 = np.transpose(traj)[-2] # Line starts at r1\n",
    "    r2 = np.transpose(traj)[-1] # and ends at r2\n",
    "        \n",
    "    line = [r1,r2]\n",
    "    \n",
    "    p0 = plane[0]\n",
    "    n  = plane[1]\n",
    "    \n",
    "    hitPoint = planeLineIntersection(line,plane)\n",
    "    return hitPoint\n",
    "\n",
    "\n",
    "def planeHitCheck(plane,point):\n",
    "    '''\n",
    "    This function ensures that the point is actually contained in the plane.\n",
    "    \n",
    "    Plane: Tuple of [point,normal] in cartesian\n",
    "    Point: 3-vector of [x,y,z] in cartesian\n",
    "    \n",
    "    Returns: None\n",
    "    If any point is NOT contained within the plane, this will trigger an assertion error\n",
    "    '''\n",
    "    p0 = plane[0]\n",
    "    n  = plane[1]\n",
    "    hitCondition = np.dot(n,(point-p0))\n",
    "    assert hitCondition <= 1e-14, \"Trajectory doesn't hit plane within error.\"\n",
    "    return None\n",
    "\n",
    "\n",
    "class itterativeDict(dict):\n",
    "    def __init__(self):\n",
    "        self = dict()\n",
    "        \n",
    "    def update(self,key,value):\n",
    "        self[key] = value\n",
    "\n",
    "    \n",
    "def makeInitialConditions(numConditions):\n",
    "    rHalf = rDot/2\n",
    "    positionRange = np.arange(0,numConditions)\n",
    "\n",
    "    columns = ['ConNo','r','theta','phi','vr','vTheta','vPhi','L','cosBeta']\n",
    "    dataDFSph = pd.DataFrame(columns=columns)\n",
    "\n",
    "    vr = 1\n",
    "    v1 = [vr,0,0]\n",
    "    row = int(0)\n",
    "    for i in positionRange:\n",
    "\n",
    "        randPhi = random()*2*np.pi\n",
    "        randTheta = random()*np.pi\n",
    "\n",
    "        p1 = [rHalf,randTheta,randPhi]\n",
    "\n",
    "        initialCondition = np.concatenate((p1,v1))\n",
    "\n",
    "        r      = p1[0]\n",
    "        theta  = p1[1]\n",
    "        phi    = p1[2]\n",
    "        vr     = v1[0]\n",
    "        vtheta = v1[1]\n",
    "        vphi   = v1[2]\n",
    "\n",
    "        appendThis = ({'ConNo':row,'r':r,'theta':theta,'phi':phi,'vr':vr,'vTheta':vtheta,'vPhi':vphi,'L':0,'cosBeta':0})\n",
    "#         appendThis = ({'r':r,'theta':theta,'phi':phi,'vr':vr,'vTheta':vtheta,'vPhi':vphi})\n",
    "        dataDFSph = dataDFSph.append(appendThis,ignore_index=True)\n",
    "        row += 1\n",
    "    return dataDFSph\n",
    "\n",
    "\n",
    "def updateVelocities(dataDFSph2,planeCon):\n",
    "    carCon = conditionSph2Car(planeCon)\n",
    "    dataDFCar2 = sphDF2CarDF(dataDFSph2)\n",
    "\n",
    "    dataDFCar2.vx = carCon[3]\n",
    "    dataDFCar2.vy = carCon[4]\n",
    "    dataDFCar2.vz = carCon[5]\n",
    "    return dataDFCar2\n",
    "\n",
    "\n",
    "def getPlaneHits(dataDFCar2,q,E,dt,cartesian = True):\n",
    "    hitVector = []\n",
    "    for row in np.arange(0,(dataDFCar2.shape[0])):\n",
    "        ICCar = np.asarray(dataDFCar2.loc[row]['x':'vz']) \n",
    "        \n",
    "        if type(E) != int:\n",
    "            E = np.mean(E)\n",
    "        \n",
    "        planePos, planeVel, planeCon =  determineDetectorPlane(dataDFSph2,q,E,dt,True)\n",
    "        plane = [planePos,planeVel]\n",
    "        \n",
    "        hitLocation = trajectoryHit(ICCar,plane,q,E,dt,cartesian = True)\n",
    "        planeHitCheck(plane,hitLocation)\n",
    "        hitVector.append(hitLocation) \n",
    "        return hitVector\n",
    "\n",
    "    \n",
    "def getHitDictionary(updatedDF,energySpectrum,plane,q,dt,cartesian = True):\n",
    "    '''\n",
    "    udpatedDF: The initial condition dataframe after the plane has been calculated and\n",
    "               all velocities have been updated to match the plane condition.\n",
    "    energySpectrum: The energy spectrum of the neutrinos in MeV\n",
    "    plane: The first two outputs of the \"determineDetectorPlane\" function grouped as\n",
    "           an array\n",
    "    energySpectrum: Array of neutrino energies in MeV \n",
    "    q        : Electric charge in units of e\n",
    "    dt       : Time step in units of au/c\n",
    "    cartesian: Boolean stating if updatedDF is in Cartesian. (It should be)\n",
    "    '''\n",
    "    assert ('vx' in (updatedDF.columns)), 'Dataframe not in cartesian. Convert to cartesian using \"sphDF2CarDF\".'\n",
    "    \n",
    "    assert (len(updatedDF.vx.unique())==1), 'Not all x-velocities identical. Did you run \"updateVelocities\" the velocities after calculating the plane?'\n",
    "    assert (len(updatedDF.vy.unique())==1), 'Not all y-velocities identical. Did you run \"updateVelocities\" the velocities after calculating the plane?'\n",
    "    assert (len(updatedDF.vz.unique())==1), 'Not all z-velocities identical. Did you run \"updateVelocities\" the velocities after calculating the plane?'\n",
    "    \n",
    "    cartesian1 = cartesian\n",
    "    hitVector = []\n",
    "    hitDictionary = itterativeDict()\n",
    "    # for row in range(0,(ICDFUpdate.shape[0])):\n",
    "    for row in range(0,(updatedDF.shape[0])):\n",
    "        for energy in energySpectrum:\n",
    "            ICCar = np.asarray(updatedDF.iloc[row]['x':'vz'])\n",
    "            hitLocation = trajectoryHit(ICCar,plane,q,energy,dt,cartesian1)\n",
    "#             print (energy,hitLocation)\n",
    "            planeHitCheck(plane,hitLocation)\n",
    "            hitVector.append(hitLocation)\n",
    "            key = energy\n",
    "            value = hitVector\n",
    "            hitDictionary.update(key,value)\n",
    "    return hitDictionary\n",
    "\n",
    "\n",
    "def getHitDF(updatedDF,energySpectrum,plane,q,dt,cartesian = True):\n",
    "    '''\n",
    "    udpatedDF: The initial condition dataframe after the plane has been calculated and\n",
    "               all velocities have been updated to match the plane condition.\n",
    "    energySpectrum: The energy spectrum of the neutrinos in MeV\n",
    "    plane: The first two outputs of the \"determineDetectorPlane\" function grouped as\n",
    "           an array\n",
    "    energySpectrum: Array of neutrino energies in MeV \n",
    "    q        : Electric charge in units of e\n",
    "    dt       : Time step in units of au/c\n",
    "    cartesian: Boolean stating if updatedDF is in Cartesian. (It should be)\n",
    "    '''\n",
    "    assert ('vx' in (updatedDF.columns)), 'Dataframe not in cartesian. Convert to cartesian using \"sphDF2CarDF\".'\n",
    "    \n",
    "    assert (len(updatedDF.vx.unique())==1), 'Not all x-velocities identical. Did you run \"updateVelocities\" the velocities after calculating the plane?'\n",
    "    assert (len(updatedDF.vy.unique())==1), 'Not all y-velocities identical. Did you run \"updateVelocities\" the velocities after calculating the plane?'\n",
    "    assert (len(updatedDF.vz.unique())==1), 'Not all z-velocities identical. Did you run \"updateVelocities\" the velocities after calculating the plane?'\n",
    "    \n",
    "    cartesian1 = cartesian\n",
    "    hitVector = []\n",
    "    columns = ['ConNo','x','y','z','Dist','E']\n",
    "    hitDF = pd.DataFrame(columns=columns)\n",
    "    p0 = plane[0]\n",
    "    for row in updatedDF.ConNo:\n",
    "        for energy in energySpectrum:\n",
    "            ICCar = np.asarray(updatedDF.loc[row]['x':'vz'])\n",
    "            hitLocation = trajectoryHit(ICCar,plane,q,energy,dt,cartesian1)\n",
    "            planeHitCheck(plane,hitLocation)\n",
    "            hitDistance = distance(hitLocation,p0)\n",
    "            x,y,z = hitLocation[0],hitLocation[1],hitLocation[2]\n",
    "            \n",
    "            appendThis = ({'ConNo':row,'x':x,'y':y,'z':z,'Dist':hitDistance,'E':energy})\n",
    "            hitDF = hitDF.append(appendThis,ignore_index=True)\n",
    "    return hitDF\n",
    "\n",
    "\n",
    "def plotConditions(dataDFSph2,coneSize = 0.5):\n",
    "    dataDFCar = sphDF2CarDF(dataDFSph2)\n",
    "    x,y,z = dataDFCar.x,dataDFCar.y,dataDFCar.z\n",
    "    loss = dataDFCar.L\n",
    "    vx,vy,vz = dataDFCar.vx,dataDFCar.vy,dataDFCar.vz\n",
    "\n",
    "    # Trajectories\n",
    "    fig1 = go.Figure(data=go.Cone(\n",
    "    x=x, \n",
    "    y=y, \n",
    "    z=z, \n",
    "    u=vx, \n",
    "    v=vy, \n",
    "    w=vz,\n",
    "    #     sizemode = 'absolute',\n",
    "    sizeref = coneSize\n",
    "    ))\n",
    "\n",
    "    # Add the location of the sun\n",
    "    fig1.add_trace(\n",
    "    go.Scatter3d(\n",
    "        x=[0],\n",
    "        y=[0],\n",
    "        z=[0],\n",
    "        mode = 'markers',\n",
    "        marker = dict(\n",
    "            size = 6,\n",
    "            color = 'orange')\n",
    "                )\n",
    "            )\n",
    "    fig1.show()\n",
    "\n",
    "print ('Complete')"
   ]
  },
  {
   "cell_type": "markdown",
   "metadata": {
    "heading_collapsed": true
   },
   "source": [
    "### Debug Section"
   ]
  },
  {
   "cell_type": "markdown",
   "metadata": {
    "hidden": true
   },
   "source": [
    "----------------------"
   ]
  },
  {
   "cell_type": "code",
   "execution_count": 33,
   "metadata": {
    "ExecuteTime": {
     "end_time": "2022-01-24T18:50:34.017144Z",
     "start_time": "2022-01-24T18:50:33.972184Z"
    },
    "code_folding": [
     0,
     37
    ],
    "hidden": true
   },
   "outputs": [],
   "source": [
    "def conditionSph2Car(sphCon,row='Null'):\n",
    "    '''\n",
    "    vel and pos are in spherical coordinates \n",
    "    '''\n",
    "    r,theta,phi = sphCon[0],sphCon[1],sphCon[2]\n",
    "    vr,vtheta,vphi = sphCon[3],sphCon[4],sphCon[5]\n",
    "\n",
    "    x = r*np.sin(theta)*np.cos(phi)\n",
    "    y = r*np.sin(theta)*np.sin(phi)\n",
    "    z = r*np.cos(theta)\n",
    "    \n",
    "    vx = vr*np.sin(theta)*np.cos(phi)\n",
    "    vy = vr*np.sin(theta)*np.sin(phi)\n",
    "    vz = vr*np.cos(theta)\n",
    "\n",
    "    error = 0.000000001\n",
    "    assert r-(error*r) <= np.sqrt(x**2 + y**2 + z**2) <= r+(error*r), \\\n",
    "    \"Row {0}: Cartesian <-> spherical distance larger than {1}% incorrect\".format(row,100*error)\n",
    "    \n",
    "    zeroLimit = 1e-15\n",
    "    if (np.abs(x) <= zeroLimit):\n",
    "        x=0\n",
    "    if (np.abs(y) <= zeroLimit):\n",
    "        y=0\n",
    "    if (np.abs(z) <= zeroLimit):\n",
    "        z=0\n",
    "        \n",
    "    if (np.abs(vx) <= zeroLimit):\n",
    "        vx=0\n",
    "    if (np.abs(vy) <= zeroLimit):\n",
    "        vy=0\n",
    "    if (np.abs(vz) <= zeroLimit):\n",
    "        vz=0\n",
    "    \n",
    "    return [x,y,z,vx,vy,vz]\n",
    "\n",
    "\n",
    "def Bfield(x,y,z):\n",
    "    '''\n",
    "    Returns cartesian components of the B-field at location x,y,z\n",
    "    \n",
    "    x,y,z must be in cartesian coordinates measured in Au'''\n",
    "    \n",
    "    assert ((x != 0) or (y !=0)), \"X and Y initial positions cannot be simultaneously zero. See Jacobian tranformation in the definition of Bfield.\"\n",
    "\n",
    "#  T = 1 kg⋅s−2⋅A−1 = N s / C m = kg / C s \n",
    "#    = [mass] / [charge] [time]\n",
    "\n",
    "    # 3.3 in nT\n",
    "    Br     = 0\n",
    "    Btheta = 3.3e-9/np.sqrt(2) * 1/rFunction(x,y,z)\n",
    "#     Bphi   = 3.3e-9/np.sqrt(2) * 1/rFunction(x,y,z)\n",
    "    Bphi = 0\n",
    "\n",
    "    # Spherical unit vector decompositions\n",
    "    # Schematically, we decompose rhat = Axhat + Byhat + Czhat and read off the ABC from wiki\n",
    "    # The arguments of the ABCs are the cartesian location where we are evaluating the B field\n",
    "    def A(x,y,z):\n",
    "        return x/np.sqrt(x**2 +y**2 +z**2)\n",
    "\n",
    "    def B(x,y,z):\n",
    "        return y/np.sqrt(x**2 +y**2 +z**2)\n",
    "\n",
    "    def C(x,y,z):\n",
    "        return z/np.sqrt(x**2 +y**2 +z**2)\n",
    "\n",
    "    def D(x,y,z):\n",
    "        return x*z / (np.sqrt(x**2 +y**2 +z**2) * np.sqrt(x**2+y**2))\n",
    "\n",
    "    def E(x,y,z):\n",
    "        return y*z / (np.sqrt(x**2 +y**2 +z**2) * np.sqrt(x**2+y**2))\n",
    "        \n",
    "    def F(x,y,z): \n",
    "        return -(x**2 + y**2) / (np.sqrt(x**2 +y**2 +z**2) * np.sqrt(x**2+y**2)) \n",
    "\n",
    "    def G(x,y,z):\n",
    "        return -y / np.sqrt(x**2 + y**2)\n",
    "\n",
    "    def H(x,y,z):\n",
    "        return x / np.sqrt(x**2 + y**2)\n",
    "\n",
    "    def I(x,y,z):\n",
    "        return 0\n",
    "\n",
    "#     Bx = Br * A(x,y,z) + Btheta * D(x,y,z) + Bphi * G(x,y,z)\n",
    "#     By = Br * B(x,y,z) + Btheta * E(x,y,z) + Bphi * H(x,y,z)\n",
    "#     Bz = Br * C(x,y,z) + Btheta * F(x,y,z) + Bphi * I(x,y,z)\n",
    "\n",
    "#     Bx, By, Bz = 0,0,1\n",
    "    Bx, By, Bz = 0,0,0\n",
    "\n",
    "    return (Bx,By,Bz)\n",
    "\n",
    "\n",
    "def trajectorySolver(initialConditions, q_e, m_MeV, dt):\n",
    "    '''\n",
    "    xi = gB-L/q_e\n",
    "\n",
    "    Inputs:\n",
    "        initialConditions: array of [r0,v0] in cartesian\n",
    "        q : the electric charge in units of \"e\"\n",
    "        m : the mass/energy of the particle in kg.\n",
    "        dt: the time increment between each step in Au/c\n",
    "\n",
    "    Returns:\n",
    "        trajectory: the 3-vector (x,y,z), the position of the neutrino at each step\n",
    "        velocity  : the 3-vector (vX,vY,vZ), the velocity of the neutrino at each step\n",
    "    '''\n",
    "    r0 = initialConditions[0:3]\n",
    "    v0 = initialConditions[3:6]\n",
    "\n",
    "    q_coulombs  = q_e * 1.60217662E10-19  # units of Coulombs\n",
    "    m_kg  = m_MeV / 5.6095861672249E+29 # units of kilograms\n",
    "    \n",
    "#     q_by_m  = q_coulombs/m_kg\n",
    "    q_by_m  = 1\n",
    "\n",
    "    # pos = np.array([r0[0],r0[1],r0[2]])\n",
    "    # vel = np.array([v0[0],v0[1],v0[2]]) \n",
    "    pos = np.asarray(r0)\n",
    "    vel = np.asarray(v0)\n",
    "\n",
    "#     acc = q_by_m * acceleration_normed(vel, pos)\n",
    "\n",
    "    xPoints=[] # record of x-values\n",
    "    yPoints=[] # record of y-values\n",
    "    zPoints=[] # record of z-values\n",
    "    vxPoints=[] # record of x-velocities\n",
    "    vyPoints=[] # record of y-velocities\n",
    "    vzPoints=[] # record of z-velocities\n",
    "    \n",
    "\n",
    "    def dvdt(pos,vel,dt,q_by_m):\n",
    "        x,y,z = pos[0],pos[1],pos[2]\n",
    "        return q_by_m*np.cross(vel,Bfield(x,y,z))\n",
    "\n",
    "    def drdt(pos,vel,dt,q_by_m):\n",
    "        return vel\n",
    "    \n",
    "    \n",
    "\n",
    "    # Initialize half values\n",
    "    x_half = pos[0] + 0.5*dt*drdt(pos,vel,dt,q_by_m)[0]\n",
    "    y_half = pos[1] + 0.5*dt*drdt(pos,vel,dt,q_by_m)[1]\n",
    "    z_half = pos[2] + 0.5*dt*drdt(pos,vel,dt,q_by_m)[2]\n",
    "    \n",
    "    vx_half = vel[0] + 0.5*dt*dvdt(pos,vel,dt,q_by_m)[0]\n",
    "    vy_half = vel[1] + 0.5*dt*dvdt(pos,vel,dt,q_by_m)[1]\n",
    "    vz_half = vel[2] + 0.5*dt*dvdt(pos,vel,dt,q_by_m)[2]\n",
    "\n",
    "    posHalf = [x_half,y_half,z_half]\n",
    "    velHalf = [vx_half,vy_half,vz_half]\n",
    "    \n",
    "    distance = np.sqrt(pos[0]**2 + pos[1]**2 + pos[2]**2)\n",
    "    earthDist = 1\n",
    "    \n",
    "    while distance < earthDist:\n",
    "        \n",
    "#     for i in range(0,1):\n",
    "#         print ('------------------------')\n",
    "#         print ('Step: ', i)\n",
    "\n",
    "        # Append Points\n",
    "        xPoints.append(pos[0])\n",
    "        yPoints.append(pos[1])\n",
    "        zPoints.append(pos[2])\n",
    "        vxPoints.append(vel[0])\n",
    "        vyPoints.append(vel[1])\n",
    "        vzPoints.append(vel[2])\n",
    "        \n",
    "        # Leapfrog\n",
    "        pos[0] += dt*drdt(posHalf,velHalf,dt,q_by_m)[0]\n",
    "        pos[1] += dt*drdt(posHalf,velHalf,dt,q_by_m)[1]\n",
    "        pos[2] += dt*drdt(posHalf,velHalf,dt,q_by_m)[2]\n",
    "        vel[0] += dt*dvdt(posHalf,velHalf,dt,q_by_m)[0]\n",
    "        vel[1] += dt*dvdt(posHalf,velHalf,dt,q_by_m)[1]\n",
    "        vel[2] += dt*dvdt(posHalf,velHalf,dt,q_by_m)[2]\n",
    "          \n",
    "        \n",
    "        posHalf[0] += dt*drdt(pos,vel,dt,q_by_m)[0]\n",
    "        posHalf[1] += dt*drdt(pos,vel,dt,q_by_m)[1]\n",
    "        posHalf[2] += dt*drdt(pos,vel,dt,q_by_m)[2]\n",
    "        velHalf[0] += dt*dvdt(pos,vel,dt,q_by_m)[0]\n",
    "        velHalf[1] += dt*dvdt(pos,vel,dt,q_by_m)[1]\n",
    "        velHalf[2] += dt*dvdt(pos,vel,dt,q_by_m)[2]\n",
    "    \n",
    "        distance = np.sqrt(pos[0]**2 + pos[1]**2 + pos[2]**2)\n",
    "    \n",
    "    trajectory = [xPoints,yPoints,zPoints]\n",
    "    velocity   = [vxPoints,vyPoints,vzPoints]\n",
    "\n",
    "    trajTime = auOverc2min(len(trajectory[0])*dt)\n",
    "\n",
    "#     assert(trajTime > auOverc2min(lightTime)), \"Trajectory Time: {0} min. Neutrino is moving faster than light.\".format(trajTime)\n",
    "    if (trajTime < auOverc2min(lightTime)):\n",
    "        print ('WARNING: neutrino moving faster than light. Change dt')\n",
    "        print ('Current dt: ',dt)\n",
    "        \n",
    "    if (len(trajectory[0]) <= 2):\n",
    "        print ('WARNING: only two data points in the trajectory. Decrease dt')\n",
    "        print ('Current dt: ',dt)\n",
    "\n",
    "    return (trajectory,velocity)"
   ]
  },
  {
   "cell_type": "code",
   "execution_count": 40,
   "metadata": {
    "ExecuteTime": {
     "end_time": "2022-01-24T18:51:24.019734Z",
     "start_time": "2022-01-24T18:51:23.963717Z"
    },
    "hidden": true
   },
   "outputs": [
    {
     "name": "stdout",
     "output_type": "stream",
     "text": [
      "[-0.002325235, 0, 0]\n",
      "[-1.0, 0, 0]\n",
      "posHalf_Initial:  [-0.007325235, 0.0, 0.0]\n",
      "velHalf_Initial:  [-1.0, 0.0, 0.0]\n",
      "100\n"
     ]
    }
   ],
   "source": [
    "q,m = 1,1\n",
    "dt = 0.01\n",
    "\n",
    "carRow = (rDot/2,np.pi/2,np.pi,1,0,0)\n",
    "sphRow = conditionSph2Car(carRow)\n",
    "traj,vel = trajectorySolver(sphRow,q,m,dt)\n",
    "\n",
    "print (len(traj[0]))"
   ]
  },
  {
   "cell_type": "code",
   "execution_count": null,
   "metadata": {
    "hidden": true
   },
   "outputs": [],
   "source": []
  },
  {
   "cell_type": "markdown",
   "metadata": {
    "hidden": true
   },
   "source": [
    "-----------------------"
   ]
  },
  {
   "cell_type": "markdown",
   "metadata": {
    "heading_collapsed": true
   },
   "source": [
    "## Purely Radial Velocities"
   ]
  },
  {
   "cell_type": "markdown",
   "metadata": {
    "heading_collapsed": true,
    "hidden": true
   },
   "source": [
    "### Radial Initial Conditions, Compute Loss and Beta"
   ]
  },
  {
   "cell_type": "code",
   "execution_count": 73,
   "metadata": {
    "ExecuteTime": {
     "end_time": "2022-02-01T21:40:13.325890Z",
     "start_time": "2022-02-01T21:40:05.196525Z"
    },
    "hidden": true
   },
   "outputs": [
    {
     "name": "stdout",
     "output_type": "stream",
     "text": [
      "150 Initial Conditions\n",
      "          r     theta       phi   vr  vTheta  vPhi         L  cosBeta\n",
      "0  0.002325  1.075601  6.117935  1.0     0.0   0.0  0.473932      1.0\n",
      "1  0.002325  2.179460  3.886870  1.0     0.0   0.0 -0.570242      1.0\n",
      "2  0.002325  2.012632  3.560607  1.0     0.0   0.0 -0.426456      1.0\n",
      "3  0.002325  0.030098  5.921584  1.0     0.0   0.0  0.996874      1.0\n",
      "4  0.002325  2.772475  0.912443  1.0     0.0   0.0 -0.930151      1.0\n",
      "Complete\n"
     ]
    }
   ],
   "source": [
    "q,m,dt = 1,1,0.01\n",
    "\n",
    "numPositions = 150\n",
    "\n",
    "rHalf = rDot/2\n",
    "\n",
    "positionRange = np.arange(0,numPositions)\n",
    "\n",
    "columns = ['r','theta','phi','vr','vTheta','vPhi','L','cosBeta']\n",
    "dataDFSph = pd.DataFrame(columns=columns)\n",
    "\n",
    "vr = 1\n",
    "v1 = [vr,0,0]\n",
    "\n",
    "for i in positionRange:\n",
    "\n",
    "    randPhi = random()*2*np.pi\n",
    "    randTheta = random()*np.pi\n",
    "\n",
    "    p1 = [rHalf,randTheta,randPhi]\n",
    "\n",
    "    initialCondition = np.concatenate((p1,v1))\n",
    "\n",
    "    r      = p1[0]\n",
    "    theta  = p1[1]\n",
    "    phi    = p1[2]\n",
    "    vr     = v1[0]\n",
    "    vtheta = v1[1]\n",
    "    vphi   = v1[2]\n",
    "\n",
    "    appendThis = ({'r':r,'theta':theta,'phi':phi,'vr':vr,'vTheta':vtheta,'vPhi':vphi,'L':0,'cosBeta':0})\n",
    "    dataDFSph = dataDFSph.append(appendThis,ignore_index=True)\n",
    "\n",
    "print ('{0} Initial Conditions'.format(dataDFSph.shape[0]))\n",
    "\n",
    "dataDFSph = computeLossAndBeta(dataDFSph,q,m,dt)\n",
    "print (dataDFSph.head(5))\n",
    "print ('Complete')"
   ]
  },
  {
   "cell_type": "markdown",
   "metadata": {
    "heading_collapsed": true,
    "hidden": true
   },
   "source": [
    "### Minimize Loss, Get New Conditions, Compute new Loss and Beta"
   ]
  },
  {
   "cell_type": "code",
   "execution_count": 74,
   "metadata": {
    "ExecuteTime": {
     "end_time": "2022-02-01T21:40:21.442453Z",
     "start_time": "2022-02-01T21:40:13.423380Z"
    },
    "hidden": true,
    "scrolled": true
   },
   "outputs": [
    {
     "name": "stdout",
     "output_type": "stream",
     "text": [
      "          r     theta       phi   vr  vTheta  vPhi         L  cosBeta\n",
      "0  0.002325  1.573303  3.906547  1.0     0.0   0.0 -0.002500      1.0\n",
      "1  0.002325  1.572042  3.909362  1.0     0.0   0.0 -0.001242      1.0\n",
      "2  0.002325  1.571634  3.906405  1.0     0.0   0.0 -0.000836      1.0\n",
      "3  0.002325  1.571135  3.908764  1.0     0.0   0.0 -0.000337      1.0\n",
      "4  0.002325  1.571992  3.906878  1.0     0.0   0.0 -0.001192      1.0\n",
      "Complete\n"
     ]
    }
   ],
   "source": [
    "lossList  = np.abs(dataDFSph.L)\n",
    "lossLimit = min(lossList)\n",
    "dataDFSph1 = dataDFSph.loc[(np.abs(dataDFSph['L']) <=  lossLimit)]\n",
    "\n",
    "# theta = np.pi/2\n",
    "theta = dataDFSph1.theta\n",
    "# phi = 0\n",
    "phi   = dataDFSph1.phi\n",
    "\n",
    "margin = 0.001\n",
    "# deltaTheta = 0\n",
    "deltaTheta = margin*np.pi/2\n",
    "# deltaPhi = 0\n",
    "deltaPhi = margin*(2*np.pi)/2\n",
    "\n",
    "columns = ['ConNo','r','theta','phi','vr','vTheta','vPhi','L','cosBeta']\n",
    "dataDFSph2 = pd.DataFrame(columns=columns)\n",
    "\n",
    "v1 = [1,0,0]\n",
    "for row in dataDFSph1.ConNo: # Just to keep the same number of rows\n",
    "    randTheta = float(np.random.uniform((theta-deltaTheta),(theta+deltaTheta)))\n",
    "    randPhi   = float(np.random.uniform((phi-deltaPhi),(phi+deltaPhi)))\n",
    "    p1 = [rHalf,randTheta,randPhi]\n",
    "\n",
    "    initialCondition = np.concatenate((p1,v1))\n",
    "\n",
    "    r      = p1[0]\n",
    "    theta  = p1[1]\n",
    "    phi    = p1[2]\n",
    "    vr     = v1[0]\n",
    "    vtheta = v1[1]\n",
    "    vphi   = v1[2]\n",
    "\n",
    "    appendThis = ({'ConNo':row,'r':r,'theta':theta,'phi':phi,'vr':vr,'vTheta':vtheta,'vPhi':vphi,'L':0,'cosBeta':0})\n",
    "    dataDFSph2 = dataDFSph2.append(appendThis,ignore_index=True)\n",
    "    row +=1\n",
    "dataDFSph2 = computeLossAndBeta(dataDFSph2,q,m,dt)\n",
    "print (dataDFSph2.head(5))\n",
    "# print (dataDFSph2)\n",
    "print ('Complete')"
   ]
  },
  {
   "cell_type": "markdown",
   "metadata": {
    "heading_collapsed": true,
    "hidden": true
   },
   "source": [
    "### Plot Initial Conditions"
   ]
  },
  {
   "cell_type": "code",
   "execution_count": 75,
   "metadata": {
    "ExecuteTime": {
     "end_time": "2022-02-01T21:40:28.539605Z",
     "start_time": "2022-02-01T21:40:28.213799Z"
    },
    "hidden": true
   },
   "outputs": [
    {
     "data": {
      "application/vnd.plotly.v1+json": {
       "config": {
        "plotlyServerURL": "https://plot.ly"
       },
       "data": [
        {
         "type": "cone",
         "u": [
          -0.7214116282696474,
          -0.7194608234894693,
          -0.7215118890900755,
          -0.719876596927938,
          -0.7211844406370068,
          -0.7226868107420726,
          -0.7228781940454553,
          -0.7245740520966374,
          -0.7248900724396021,
          -0.7257903657614924,
          -0.7239879639309581,
          -0.7245635856316975,
          -0.7261236683866548,
          -0.7268595567116763,
          -0.7272943828693229,
          -0.7282272511931197,
          -0.7264170450886097,
          -0.7264468667797886,
          -0.7252938960205139,
          -0.7245843595031205,
          -0.7228986491854209,
          -0.7219195776484472,
          -0.7220759675166568,
          -0.7236516574359617,
          -0.7246205204138864,
          -0.7264506323250167,
          -0.7270067612913156,
          -0.7277979001343613,
          -0.7289536468359032,
          -0.7301681842137997,
          -0.728570354446151,
          -0.7289808024315516,
          -0.7276538115007679,
          -0.7296668387820405,
          -0.7290271788135295,
          -0.7301992121025078,
          -0.7281103513977564,
          -0.7296456029618436,
          -0.7288500205018917,
          -0.7282753278160352,
          -0.7284232746779039,
          -0.7289706702701209,
          -0.7273149499318664,
          -0.7282456327560819,
          -0.729195291403002,
          -0.7302652088852184,
          -0.7304290311446455,
          -0.7304720133373049,
          -0.7317881329193255,
          -0.731662914552524,
          -0.7306560046487739,
          -0.7314558642189006,
          -0.7327417712883092,
          -0.73249252158225,
          -0.732415113471239,
          -0.7307546991693051,
          -0.7296735130964075,
          -0.729565063393212,
          -0.7298465424547652,
          -0.7303568978868863,
          -0.7323092686331863,
          -0.734366136535503,
          -0.7337517792425208,
          -0.7341041088215982,
          -0.7344399453590141,
          -0.7338387450553971,
          -0.7348871836513263,
          -0.7347929805965054,
          -0.7351385351650634,
          -0.7362552266871513,
          -0.7356078730790432,
          -0.736212336751207,
          -0.7363589093030285,
          -0.7378960133353052,
          -0.7378935197133478,
          -0.7376865409357863,
          -0.7388321788306046,
          -0.7372920426152013,
          -0.7382596002140155,
          -0.7387431653216588,
          -0.7370769284580482,
          -0.7388592669643186,
          -0.7381744798025422,
          -0.7402304838529036,
          -0.7395090164109999,
          -0.7403366826650616,
          -0.7410726065994885,
          -0.7425436052181859,
          -0.7418689127122778,
          -0.7413607736902624,
          -0.7408093521911082,
          -0.7399181027894929,
          -0.7408064548180927,
          -0.7388815205834439,
          -0.7390890538403424,
          -0.7388338514526384,
          -0.7371232513577143,
          -0.7350755662096982,
          -0.7352205630493778,
          -0.7368369860484939,
          -0.7360392219819311,
          -0.7341100491590296,
          -0.7359987078411374,
          -0.7353480752001875,
          -0.73676600125114,
          -0.7383476177845463,
          -0.7399187107061242,
          -0.7408939285897245,
          -0.74144451041036,
          -0.7428920993474453,
          -0.7417880770405387,
          -0.743339212921308,
          -0.745070262300292,
          -0.7458283352713833,
          -0.7448734110328782,
          -0.7468491683335992,
          -0.7473209075862146,
          -0.7468837548490364,
          -0.7483760752637864,
          -0.7476964350891964,
          -0.7461180221500959,
          -0.7481161003112716,
          -0.7481652698273505,
          -0.7493523547152712,
          -0.74853794750144,
          -0.7478646399764244,
          -0.7488122972703561,
          -0.7469974877275484,
          -0.7479473011172948,
          -0.7481748417953429,
          -0.7477266656920148,
          -0.747558602387858,
          -0.7459633589976769,
          -0.7474430859931864,
          -0.7460424345174982,
          -0.7473097623502303,
          -0.7487534317618834,
          -0.7477098040664896,
          -0.746198283908082,
          -0.7479013462475723,
          -0.7462203374293177,
          -0.7453932360621623,
          -0.7470671095232678,
          -0.7483388789807107,
          -0.7492197433774602,
          -0.7509259739876417,
          -0.7521198567501682,
          -0.7532487864352074,
          -0.7548606187145935,
          -0.7533662169721359
         ],
         "v": [
          -0.6925019708930568,
          -0.69453190876371,
          -0.6924015391668517,
          -0.6941019886657707,
          -0.6927420689394835,
          -0.6911754361389145,
          -0.6909743845676525,
          -0.6891967351815863,
          -0.6888645317458572,
          -0.6879146685178045,
          -0.6898118635677984,
          -0.6892060631943898,
          -0.6875639663549874,
          -0.6867846011296196,
          -0.686323418060192,
          -0.6853307791661549,
          -0.6872487068107784,
          -0.6872104530095489,
          -0.6884235917452759,
          -0.6891611967523821,
          -0.6909154032332434,
          -0.6919368833488827,
          -0.6917861293878289,
          -0.6901396293694134,
          -0.6891188394543158,
          -0.6871880081090145,
          -0.6865898778130133,
          -0.6857553697815101,
          -0.6845348528539166,
          -0.6832454688897523,
          -0.6849496800183504,
          -0.684509939463807,
          -0.6859113425230107,
          -0.6837534139588496,
          -0.6844498000298933,
          -0.6832089291189559,
          -0.6854301584016208,
          -0.6837867956322458,
          -0.6846472411344766,
          -0.6852486045777776,
          -0.6851021394287894,
          -0.6845132607624668,
          -0.6862587995230663,
          -0.6852748153289672,
          -0.6842594118993545,
          -0.6831204252406994,
          -0.6829596624175278,
          -0.6829204490822782,
          -0.6815145246597348,
          -0.6816453385178878,
          -0.6827333655248848,
          -0.6818767416768938,
          -0.6804880571880696,
          -0.6807645200402425,
          -0.6808513805216616,
          -0.682635384114356,
          -0.68379392218735,
          -0.6839111021259501,
          -0.6836080806827471,
          -0.6830591643582884,
          -0.6809627698637181,
          -0.6787431611730894,
          -0.6794068565178017,
          -0.6790259068256949,
          -0.6786691847357179,
          -0.6793120524637184,
          -0.6781829082840257,
          -0.6782866575908386,
          -0.6779150111183063,
          -0.676702702726179,
          -0.6774075185374026,
          -0.6767480964865578,
          -0.6765831517973446,
          -0.6749103131161978,
          -0.6749121157640342,
          -0.6751403643814861,
          -0.6738846351387763,
          -0.6755637146358519,
          -0.6744966655844765,
          -0.6739578747751026,
          -0.6757698984387139,
          -0.6738185797384145,
          -0.6745618948535951,
          -0.6722847228952662,
          -0.6730743746016634,
          -0.6721497801588739,
          -0.6713593442584816,
          -0.6697082489889592,
          -0.6704531630298669,
          -0.6710250059926534,
          -0.6716247751173532,
          -0.6726093942752897,
          -0.6716125344860933,
          -0.6737246311848022,
          -0.6734705555437138,
          -0.673722451117672,
          -0.6755859333994791,
          -0.677782912367354,
          -0.6776525499526185,
          -0.6758780697552718,
          -0.6767737675750531,
          -0.6788620888096286,
          -0.6768160621370137,
          -0.6775294359016811,
          -0.6759830355291553,
          -0.6742487149195164,
          -0.6725284923755052,
          -0.6714831587552357,
          -0.6708907255239999,
          -0.6693110858250457,
          -0.6705131970952467,
          -0.6687902996715465,
          -0.6668820978298385,
          -0.6660262508697801,
          -0.6671096232798763,
          -0.6648977345740733,
          -0.6643740472318678,
          -0.6648442793731242,
          -0.663182631417327,
          -0.6639254937131992,
          -0.6656849934692262,
          -0.6634501163193665,
          -0.6634059119642047,
          -0.6620466823116811,
          -0.6629369020371164,
          -0.6637138189156914,
          -0.6626562429040059,
          -0.6646884099821911,
          -0.6635926735733341,
          -0.6633693319020418,
          -0.6638823819024735,
          -0.6640507155964281,
          -0.6658721636027176,
          -0.6642050446048303,
          -0.6657997122702851,
          -0.6643863575743613,
          -0.6627404104579384,
          -0.6639322426565524,
          -0.66560391402463,
          -0.6636993913840253,
          -0.6655772107258408,
          -0.6664908972896205,
          -0.66461986860601,
          -0.6631774643235148,
          -0.6621644241505685,
          -0.6602411189475177,
          -0.6589081628912847,
          -0.6576116808375948,
          -0.6557755794905378,
          -0.6575068410964393
         ],
         "w": [
          -0.002506572673626574,
          -0.0012454609156413207,
          -0.0008381294919748994,
          -0.00033841642007824565,
          -0.001195200623808838,
          -0.0005385699888901778,
          -0.0012314401873327909,
          -0.0005506753144433216,
          -0.00019945192273177612,
          0.0013243133459424367,
          0.0010104277443752268,
          0.001616425880858869,
          0.0004586708024710578,
          0.0014479185525425988,
          0.0017454136775142078,
          0.002606481771243974,
          0.0027370772085082568,
          0.004091823583494489,
          0.004660764306180852,
          0.005860960183880932,
          0.007310853639514488,
          0.00744801109843716,
          0.0061845227374541555,
          0.005964114689900562,
          0.006350315287093628,
          0.006490015851189402,
          0.0074504175335013585,
          0.0070561587169355065,
          0.006214176768008994,
          0.005481970772001496,
          0.0054013391829405896,
          0.005756080394361005,
          0.00674987456818311,
          0.008220296919321829,
          0.006916920573852854,
          0.005888108100765297,
          0.006388594600127723,
          0.007274077084619273,
          0.005983545883674324,
          0.0070282870356173106,
          0.00588145029856024,
          0.0065846584016222435,
          0.00786280374718334,
          0.007531656361241506,
          0.007955138140894212,
          0.007694758657325758,
          0.0062872865077599925,
          0.005504357928382631,
          0.00490725954717188,
          0.005386273789944893,
          0.0041175805705219275,
          0.004053129640613445,
          0.0050498152122364845,
          0.0037913164541281685,
          0.0030820773286296507,
          0.00254990137533825,
          0.0015608539928899893,
          0.0006501268543681643,
          0.002004118777756136,
          0.0029966139559865273,
          0.003583452728930266,
          0.0037548196602075856,
          0.0038275024538429233,
          0.0038697895020027378,
          0.002470698525597174,
          0.00397889847192988,
          0.0029614551225286734,
          0.0025467234541360208,
          0.001603688196459906,
          0.0013012682030166907,
          0.00033300619370170073,
          0.0018463794702269817,
          0.0032856344935961066,
          0.0023543052603918623,
          0.0026056784072624717,
          0.0020138781066870288,
          0.002551479629500511,
          0.003756509511950769,
          0.00519719224819979,
          0.006270464030936461,
          0.007255749374074482,
          0.007450182565247402,
          0.008042846496956583,
          0.009595943754077298,
          0.009864121928232512,
          0.01078282582950711,
          0.009382037340640952,
          0.010947857585905057,
          0.01109380612547196,
          0.010471130117379056,
          0.011030192870273355,
          0.010853750366820437,
          0.01193314799268499,
          0.012215558734663835,
          0.01359342889152656,
          0.014919745562732964,
          0.015262991207049739,
          0.016560062328367445,
          0.015418988685056203,
          0.01612733129998525,
          0.01495096072169023,
          0.015122833754130826,
          0.015030638360432643,
          0.014733356241159352,
          0.014926321623026886,
          0.015213998201200046,
          0.015024263380175233,
          0.013658480405050808,
          0.01287137864498472,
          0.011575798842573764,
          0.012747599052789193,
          0.012897658654712341,
          0.011771653658171528,
          0.012211775409901673,
          0.011329256975920635,
          0.01128371914203951,
          0.01088974055083801,
          0.0121136669690053,
          0.011047504657675926,
          0.012368498396802744,
          0.013091466407756828,
          0.012499744432362977,
          0.011888018973306817,
          0.012854529270821796,
          0.014338935377571655,
          0.013507288894594521,
          0.012916934506255001,
          0.01356727548470135,
          0.014818850534013895,
          0.013248984729111785,
          0.012845871422376922,
          0.013884635817481767,
          0.012366437317947407,
          0.012668540660917124,
          0.01146425052107888,
          0.010903529938294174,
          0.011976926602679815,
          0.011136698967491835,
          0.012631339110584233,
          0.012111736355429288,
          0.012735170563639327,
          0.013371890773331575,
          0.013082970713101886,
          0.013585765319864319,
          0.01442399122152823,
          0.0138508642922153,
          0.012480142520759284,
          0.01277274284720003,
          0.011993150448079151,
          0.01113988493990956
         ],
         "x": [
          -0.0016774515674595736,
          -0.0016729154879065362,
          -0.0016776846974283616,
          -0.001673882258857734,
          -0.0016769233028245906,
          -0.0016804166663758437,
          -0.0016808616775312842,
          -0.0016848049460269248,
          -0.0016855397675890984,
          -0.0016876331611314235,
          -0.0016834421533110013,
          -0.0016847806090363204,
          -0.0016884081680610431,
          -0.0016901192813504747,
          -0.00169113035435115,
          -0.0016932994924280336,
          -0.0016890903378366138,
          -0.001689159680276702,
          -0.0016864787523132596,
          -0.0016848289131692388,
          -0.0016809092405386623,
          -0.001678632669133387,
          -0.0016789963123285936,
          -0.0016826601616781087,
          -0.001684912995784583,
          -0.0016891684360542602,
          -0.0016904615665912122,
          -0.0016923011503189218,
          -0.0016949885330004816,
          -0.0016978126178203744,
          -0.001694097288120596,
          -0.001695051676141929,
          -0.001691966110384988,
          -0.001696646871875358,
          -0.0016951595121284773,
          -0.001697884764953175,
          -0.0016930276729323623,
          -0.0016965974936029823,
          -0.0016947475774217163,
          -0.0016934112818743187,
          -0.0016937552930956763,
          -0.0016950281164855446,
          -0.0016911781776048236,
          -0.0016933422338815884,
          -0.0016955504134054593,
          -0.0016980382229822208,
          -0.00169841914823362,
          -0.0016985190919323683,
          -0.001701579379248668,
          -0.0017012882171195383,
          -0.001698946914969492,
          -0.0017008067764370353,
          -0.0017037968125615719,
          -0.001703217248421303,
          -0.0017030372563722966,
          -0.0016991764029229395,
          -0.0016966623912247252,
          -0.0016964102201791154,
          -0.001697064725144806,
          -0.0016982514214580141,
          -0.0017027911422502874,
          -0.0017075738434871302,
          -0.001706145318406983,
          -0.0017069645674757888,
          -0.0017077454663468673,
          -0.0017063475343588866,
          -0.0017087854004774919,
          -0.0017085663562373156,
          -0.0017093698518145365,
          -0.0017119664220258983,
          -0.0017104611727589492,
          -0.0017118666928456932,
          -0.0017122075084732278,
          -0.0017157816365677187,
          -0.0017157758383106664,
          -0.0017152945640128232,
          -0.001717958441343181,
          -0.0017143772627103576,
          -0.0017166270615036367,
          -0.0017177514640167074,
          -0.00171387707174315,
          -0.0017180214276197776,
          -0.0017164291365436644,
          -0.0017212098291217064,
          -0.0017195322477744316,
          -0.0017214567663166947,
          -0.001723167962406362,
          -0.0017265883798795083,
          -0.0017250195612505336,
          -0.0017238380186116774,
          -0.0017225558340420916,
          -0.0017204834697397266,
          -0.001722549096968948,
          -0.0017180731725138444,
          -0.0017185557361064487,
          -0.0017179623305824756,
          -0.001713984783370755,
          -0.0017092234341956076,
          -0.0017095605859221202,
          -0.00171331914925447,
          -0.0017114641603251557,
          -0.0017069783801562963,
          -0.0017113699554269874,
          -0.0017098570816381081,
          -0.0017131540929191946,
          -0.0017168317230392496,
          -0.001720484883288755,
          -0.001722752494044328,
          -0.0017240327261640335,
          -0.0017273987106261573,
          -0.0017248315993173573,
          -0.0017284383547570778,
          -0.0017324634513598198,
          -0.0017342261491647552,
          -0.0017320057259030347,
          -0.0017365998259301766,
          -0.0017376967305512317,
          -0.001736680247706399,
          -0.0017401502433659905,
          -0.0017385699202446276,
          -0.0017348997392341785,
          -0.00173954574050728,
          -0.0017396600711869993,
          -0.0017424203225163638,
          -0.001740526634358511,
          -0.0017389610361355813,
          -0.0017411645620434367,
          -0.0017369447033761662,
          -0.001739153242713473,
          -0.0017396823282619942,
          -0.0017386402135003722,
          -0.0017382494268233309,
          -0.0017345401110589634,
          -0.001737980824059367,
          -0.001734723980225295,
          -0.0017376708152584378,
          -0.001741027685902843,
          -0.001738601006258544,
          -0.0017350863666830089,
          -0.0017390463868419738,
          -0.0017351376463024598,
          -0.001733214441255002,
          -0.0017371065904123355,
          -0.001740063753266713,
          -0.0017421119699922887,
          -0.0017460793571251543,
          -0.0017488554151104776,
          -0.0017514804419266694,
          -0.001755228330756828,
          -0.0017517534955212046
         ],
         "y": [
          -0.0016102298202895168,
          -0.0016149499028741854,
          -0.0016099962929246342,
          -0.0016139502376152533,
          -0.0016107881046705,
          -0.001607145315250469,
          -0.0016066778231001656,
          -0.0016025443705299561,
          -0.0016017719194740784,
          -0.001599563264250997,
          -0.0016039746885830699,
          -0.0016025660603518072,
          -0.0015987477993074392,
          -0.001596935592007631,
          -0.0015958632329931906,
          -0.0015935551142944144,
          -0.0015980147467811606,
          -0.0015979257977036586,
          -0.0016007466303518268,
          -0.0016024617353305253,
          -0.0016065406776370507,
          -0.0016089158589537391,
          -0.0016085653205671084,
          -0.001604736821096788,
          -0.0016023632446585563,
          -0.0015978736080353641,
          -0.001596482814536542,
          -0.0015945423872539097,
          -0.001591704398575777,
          -0.0015887062778538632,
          -0.0015926689692174693,
          -0.0015916464690891253,
          -0.0015949050605314928,
          -0.0015898873695066055,
          -0.001591506630772509,
          -0.0015886213142999157,
          -0.001593786194370993,
          -0.0015899649897419452,
          -0.0015919657277393248,
          -0.0015933640390654088,
          -0.0015930234731747015,
          -0.0015916541918890145,
          -0.0015957129797090173,
          -0.001593424985221451,
          -0.0015910639336277955,
          -0.0015884155219845577,
          -0.0015880417106414206,
          -0.0015879505304218313,
          -0.0015846814257471787,
          -0.001584985598708641,
          -0.0015875155171862557,
          -0.0015855236654330723,
          -0.0015822946476557011,
          -0.0015829374887557732,
          -0.0015831394597872858,
          -0.0015872876873811446,
          -0.001589981560657303,
          -0.0015902540315518336,
          -0.0015895494354863477,
          -0.001588273076036645,
          -0.0015833984661840627,
          -0.0015782373543703086,
          -0.0015797806020151708,
          -0.0015788948044578447,
          -0.0015780653417689571,
          -0.0015795601603104746,
          -0.0015769346347438067,
          -0.001577175876263234,
          -0.0015763117108776752,
          -0.0015734928089735068,
          -0.0015751316713663174,
          -0.0015735983601339212,
          -0.0015732148249694988,
          -0.0015693250819187425,
          -0.001569329273498584,
          -0.0015698600051725848,
          -0.0015669401395869125,
          -0.001570844394001295,
          -0.0015683632542003204,
          -0.0015671104389526859,
          -0.0015713238197961432,
          -0.0015667865452580524,
          -0.001568514927579899,
          -0.0015632199676413744,
          -0.001565056093426899,
          -0.0015629061940677193,
          -0.001561068244846871,
          -0.0015572290603378424,
          -0.0015589611605377528,
          -0.0015602908298093271,
          -0.001561685433969999,
          -0.0015639749048977033,
          -0.0015616569716257712,
          -0.0015665680927929937,
          -0.0015659773072196875,
          -0.0015665630236246003,
          -0.0015708960578481382,
          -0.0015760045502385043,
          -0.001575701426989077,
          -0.0015715753435273994,
          -0.001573658051447379,
          -0.001578513889073257,
          -0.001573756396243159,
          -0.0015754151578888456,
          -0.0015718194136186353,
          -0.001567786710635882,
          -0.001563786788968758,
          -0.0015613561426482305,
          -0.001559978596163798,
          -0.0015563055626484005,
          -0.001559100753847766,
          -0.0015550946124567686,
          -0.0015506575947473648,
          -0.0015486675494411932,
          -0.0015511866448871833,
          -0.0015460434838523455,
          -0.001544825787715192,
          -0.0015459191879481663,
          -0.0015420554659636685,
          -0.001543782795374211,
          -0.0015478740457894162,
          -0.0015426774312198622,
          -0.0015425746457060877,
          -0.0015394141173450018,
          -0.0015414840874082745,
          -0.0015432906017264277,
          -0.001540831488968896,
          -0.0015455567549849405,
          -0.0015430089103362916,
          -0.0015424895884652444,
          -0.0015436825502829982,
          -0.0015440739656798607,
          -0.0015483092603347653,
          -0.0015444328168917128,
          -0.0015481407939607963,
          -0.00154485441215442,
          -0.0015410271983111645,
          -0.0015437984882535087,
          -0.0015476855170270607,
          -0.001543257054324834,
          -0.0015476234255821003,
          -0.0015497479615592309,
          -0.0015453973801780954,
          -0.0015420434512562879,
          -0.0015396878947897472,
          -0.0015352157582159316,
          -0.0015321163221405166,
          -0.0015291016966924049,
          -0.0015248323295766807,
          -0.0015288579196568793
         ],
         "z": [
          -5.8283705107600875e-06,
          -2.8959893121812465e-06,
          -1.9488480292722554e-06,
          -7.868977045406396e-07,
          -2.7791223225021432e-06,
          -1.2523017881170525e-06,
          -2.863387823992762e-06,
          -1.2804495147796168e-06,
          -4.6377259155322147e-07,
          3.079339742952462e-06,
          2.3494819561923306e-06,
          3.7585700330788727e-06,
          1.0665174033837902e-06,
          3.36675089552139e-06,
          4.05849697243475e-06,
          6.0606826413584824e-06,
          6.364347722925697e-06,
          9.51445141016681e-06,
          1.0837372291482434e-05,
          1.3628109753166381e-05,
          1.699945276247647e-05,
          1.7318376086474533e-05,
          1.4380468727424214e-05,
          1.3867968220970936e-05,
          1.4765975366585154e-05,
          1.509081200774039e-05,
          1.7323971613511032e-05,
          1.6407227214173533e-05,
          1.4449421317161394e-05,
          1.27468703080349e-05,
          1.2559382915044863e-05,
          1.3384239595782012e-05,
          1.5695044591549255e-05,
          1.9114122107199294e-05,
          1.608346581054274e-05,
          1.3691235039682995e-05,
          1.4854983765027985e-05,
          1.6913938629854697e-05,
          1.3913150312825467e-05,
          1.634241900526362e-05,
          1.367575408497272e-05,
          1.53108781784961e-05,
          1.8282866471081854e-05,
          1.7512870979131392e-05,
          1.8497565635042154e-05,
          1.7892122146566862e-05,
          1.4619418642871307e-05,
          1.2798925707602788e-05,
          1.1410531653168207e-05,
          1.2524352335962513e-05,
          9.574342457897555e-06,
          9.424478899891804e-06,
          1.1742007075024703e-05,
          8.815701715214712e-06,
          7.166554077236167e-06,
          5.929119924484636e-06,
          3.6293523341575545e-06,
          1.5116977162167587e-06,
          4.6600471261957895e-06,
          6.967831651948333e-06,
          8.332369706154167e-06,
          8.730838092602785e-06,
          8.89984266826145e-06,
          8.998169992689336e-06,
          5.744954686166945e-06,
          9.251873988377875e-06,
          6.886079101832961e-06,
          5.92173051087797e-06,
          3.72895192349545e-06,
          3.025754370041515e-06,
          7.743176568119742e-07,
          4.293266167453236e-06,
          7.639872321716943e-06,
          5.474312992147272e-06,
          6.058814631310954e-06,
          4.682739859402413e-06,
          5.932789736301621e-06,
          8.734767395020847e-06,
          1.208469331724284e-05,
          1.4580302430974542e-05,
          1.6871322395826078e-05,
          1.7323425257103044e-05,
          1.8701508174350842e-05,
          2.2312824275011926e-05,
          2.2936401551793727e-05,
          2.5072604017673968e-05,
          2.1815441595765265e-05,
          2.5456341633761948e-05,
          2.5795706286161795e-05,
          2.4347838238483893e-05,
          2.5647790518710066e-05,
          2.5237520234193722e-05,
          2.7747373372770883e-05,
          2.8404044714396063e-05,
          3.1607916628588764e-05,
          3.4691914573561385e-05,
          3.54900413593243e-05,
          3.850603652810148e-05,
          3.585277215509666e-05,
          3.749983519532121e-05,
          3.476449715369938e-05,
          3.516414234428639e-05,
          3.49497663880206e-05,
          3.425851559941217e-05,
          3.470720545911893e-05,
          3.537612110736739e-05,
          3.493494306080176e-05,
          3.175917668463832e-05,
          2.9928980123571048e-05,
          2.691645262171201e-05,
          2.964116348351228e-05,
          2.999008732199005e-05,
          2.7371861093858475e-05,
          2.8395247595242718e-05,
          2.634318484440482e-05,
          2.6237298679240242e-05,
          2.5321205869727824e-05,
          2.816712241467504e-05,
          2.5688044492691082e-05,
          2.875966536968963e-05,
          3.044073589264045e-05,
          2.906484324518553e-05,
          2.764243779739708e-05,
          2.9889801369039318e-05,
          3.334139440266783e-05,
          3.140762089282249e-05,
          3.003490820665185e-05,
          3.154710381166955e-05,
          3.44573099214578e-05,
          3.0807003006596245e-05,
          2.9869669836810603e-05,
          3.228504116506222e-05,
          2.875487287699744e-05,
          2.945733414368763e-05,
          2.665707656038085e-05,
          2.5353269436069453e-05,
          2.78491689289822e-05,
          2.589544222367588e-05,
          2.937083179679933e-05,
          2.8162633284416622e-05,
          2.9612264325543892e-05,
          3.109278844232765e-05,
          3.0420981406079467e-05,
          3.159009702353471e-05,
          3.3539169227990194e-05,
          3.220651443250924e-05,
          2.9019264194257716e-05,
          2.9699628714309165e-05,
          2.7886893182139327e-05,
          2.590285035825061e-05
         ]
        },
        {
         "marker": {
          "color": [
           -5.8283705107600875e-06,
           -2.8959893121812465e-06,
           -1.9488480292722554e-06,
           -7.868977045406396e-07,
           -2.7791223225021432e-06,
           -1.2523017881170525e-06,
           -2.863387823992762e-06,
           -1.2804495147796168e-06,
           -4.6377259155322147e-07,
           3.079339742952462e-06,
           2.3494819561923306e-06,
           3.7585700330788727e-06,
           1.0665174033837902e-06,
           3.36675089552139e-06,
           4.05849697243475e-06,
           6.0606826413584824e-06,
           6.364347722925697e-06,
           9.51445141016681e-06,
           1.0837372291482434e-05,
           1.3628109753166381e-05,
           1.699945276247647e-05,
           1.7318376086474533e-05,
           1.4380468727424214e-05,
           1.3867968220970936e-05,
           1.4765975366585154e-05,
           1.509081200774039e-05,
           1.7323971613511032e-05,
           1.6407227214173533e-05,
           1.4449421317161394e-05,
           1.27468703080349e-05,
           1.2559382915044863e-05,
           1.3384239595782012e-05,
           1.5695044591549255e-05,
           1.9114122107199294e-05,
           1.608346581054274e-05,
           1.3691235039682995e-05,
           1.4854983765027985e-05,
           1.6913938629854697e-05,
           1.3913150312825467e-05,
           1.634241900526362e-05,
           1.367575408497272e-05,
           1.53108781784961e-05,
           1.8282866471081854e-05,
           1.7512870979131392e-05,
           1.8497565635042154e-05,
           1.7892122146566862e-05,
           1.4619418642871307e-05,
           1.2798925707602788e-05,
           1.1410531653168207e-05,
           1.2524352335962513e-05,
           9.574342457897555e-06,
           9.424478899891804e-06,
           1.1742007075024703e-05,
           8.815701715214712e-06,
           7.166554077236167e-06,
           5.929119924484636e-06,
           3.6293523341575545e-06,
           1.5116977162167587e-06,
           4.6600471261957895e-06,
           6.967831651948333e-06,
           8.332369706154167e-06,
           8.730838092602785e-06,
           8.89984266826145e-06,
           8.998169992689336e-06,
           5.744954686166945e-06,
           9.251873988377875e-06,
           6.886079101832961e-06,
           5.92173051087797e-06,
           3.72895192349545e-06,
           3.025754370041515e-06,
           7.743176568119742e-07,
           4.293266167453236e-06,
           7.639872321716943e-06,
           5.474312992147272e-06,
           6.058814631310954e-06,
           4.682739859402413e-06,
           5.932789736301621e-06,
           8.734767395020847e-06,
           1.208469331724284e-05,
           1.4580302430974542e-05,
           1.6871322395826078e-05,
           1.7323425257103044e-05,
           1.8701508174350842e-05,
           2.2312824275011926e-05,
           2.2936401551793727e-05,
           2.5072604017673968e-05,
           2.1815441595765265e-05,
           2.5456341633761948e-05,
           2.5795706286161795e-05,
           2.4347838238483893e-05,
           2.5647790518710066e-05,
           2.5237520234193722e-05,
           2.7747373372770883e-05,
           2.8404044714396063e-05,
           3.1607916628588764e-05,
           3.4691914573561385e-05,
           3.54900413593243e-05,
           3.850603652810148e-05,
           3.585277215509666e-05,
           3.749983519532121e-05,
           3.476449715369938e-05,
           3.516414234428639e-05,
           3.49497663880206e-05,
           3.425851559941217e-05,
           3.470720545911893e-05,
           3.537612110736739e-05,
           3.493494306080176e-05,
           3.175917668463832e-05,
           2.9928980123571048e-05,
           2.691645262171201e-05,
           2.964116348351228e-05,
           2.999008732199005e-05,
           2.7371861093858475e-05,
           2.8395247595242718e-05,
           2.634318484440482e-05,
           2.6237298679240242e-05,
           2.5321205869727824e-05,
           2.816712241467504e-05,
           2.5688044492691082e-05,
           2.875966536968963e-05,
           3.044073589264045e-05,
           2.906484324518553e-05,
           2.764243779739708e-05,
           2.9889801369039318e-05,
           3.334139440266783e-05,
           3.140762089282249e-05,
           3.003490820665185e-05,
           3.154710381166955e-05,
           3.44573099214578e-05,
           3.0807003006596245e-05,
           2.9869669836810603e-05,
           3.228504116506222e-05,
           2.875487287699744e-05,
           2.945733414368763e-05,
           2.665707656038085e-05,
           2.5353269436069453e-05,
           2.78491689289822e-05,
           2.589544222367588e-05,
           2.937083179679933e-05,
           2.8162633284416622e-05,
           2.9612264325543892e-05,
           3.109278844232765e-05,
           3.0420981406079467e-05,
           3.159009702353471e-05,
           3.3539169227990194e-05,
           3.220651443250924e-05,
           2.9019264194257716e-05,
           2.9699628714309165e-05,
           2.7886893182139327e-05,
           2.590285035825061e-05
          ],
          "colorscale": [
           [
            0,
            "#440154"
           ],
           [
            0.1111111111111111,
            "#482878"
           ],
           [
            0.2222222222222222,
            "#3e4989"
           ],
           [
            0.3333333333333333,
            "#31688e"
           ],
           [
            0.4444444444444444,
            "#26828e"
           ],
           [
            0.5555555555555556,
            "#1f9e89"
           ],
           [
            0.6666666666666666,
            "#35b779"
           ],
           [
            0.7777777777777778,
            "#6ece58"
           ],
           [
            0.8888888888888888,
            "#b5de2b"
           ],
           [
            1,
            "#fde725"
           ]
          ],
          "size": 3
         },
         "mode": "markers",
         "type": "scatter3d",
         "x": [
          -0.0016774515674595736,
          -0.0016729154879065362,
          -0.0016776846974283616,
          -0.001673882258857734,
          -0.0016769233028245906,
          -0.0016804166663758437,
          -0.0016808616775312842,
          -0.0016848049460269248,
          -0.0016855397675890984,
          -0.0016876331611314235,
          -0.0016834421533110013,
          -0.0016847806090363204,
          -0.0016884081680610431,
          -0.0016901192813504747,
          -0.00169113035435115,
          -0.0016932994924280336,
          -0.0016890903378366138,
          -0.001689159680276702,
          -0.0016864787523132596,
          -0.0016848289131692388,
          -0.0016809092405386623,
          -0.001678632669133387,
          -0.0016789963123285936,
          -0.0016826601616781087,
          -0.001684912995784583,
          -0.0016891684360542602,
          -0.0016904615665912122,
          -0.0016923011503189218,
          -0.0016949885330004816,
          -0.0016978126178203744,
          -0.001694097288120596,
          -0.001695051676141929,
          -0.001691966110384988,
          -0.001696646871875358,
          -0.0016951595121284773,
          -0.001697884764953175,
          -0.0016930276729323623,
          -0.0016965974936029823,
          -0.0016947475774217163,
          -0.0016934112818743187,
          -0.0016937552930956763,
          -0.0016950281164855446,
          -0.0016911781776048236,
          -0.0016933422338815884,
          -0.0016955504134054593,
          -0.0016980382229822208,
          -0.00169841914823362,
          -0.0016985190919323683,
          -0.001701579379248668,
          -0.0017012882171195383,
          -0.001698946914969492,
          -0.0017008067764370353,
          -0.0017037968125615719,
          -0.001703217248421303,
          -0.0017030372563722966,
          -0.0016991764029229395,
          -0.0016966623912247252,
          -0.0016964102201791154,
          -0.001697064725144806,
          -0.0016982514214580141,
          -0.0017027911422502874,
          -0.0017075738434871302,
          -0.001706145318406983,
          -0.0017069645674757888,
          -0.0017077454663468673,
          -0.0017063475343588866,
          -0.0017087854004774919,
          -0.0017085663562373156,
          -0.0017093698518145365,
          -0.0017119664220258983,
          -0.0017104611727589492,
          -0.0017118666928456932,
          -0.0017122075084732278,
          -0.0017157816365677187,
          -0.0017157758383106664,
          -0.0017152945640128232,
          -0.001717958441343181,
          -0.0017143772627103576,
          -0.0017166270615036367,
          -0.0017177514640167074,
          -0.00171387707174315,
          -0.0017180214276197776,
          -0.0017164291365436644,
          -0.0017212098291217064,
          -0.0017195322477744316,
          -0.0017214567663166947,
          -0.001723167962406362,
          -0.0017265883798795083,
          -0.0017250195612505336,
          -0.0017238380186116774,
          -0.0017225558340420916,
          -0.0017204834697397266,
          -0.001722549096968948,
          -0.0017180731725138444,
          -0.0017185557361064487,
          -0.0017179623305824756,
          -0.001713984783370755,
          -0.0017092234341956076,
          -0.0017095605859221202,
          -0.00171331914925447,
          -0.0017114641603251557,
          -0.0017069783801562963,
          -0.0017113699554269874,
          -0.0017098570816381081,
          -0.0017131540929191946,
          -0.0017168317230392496,
          -0.001720484883288755,
          -0.001722752494044328,
          -0.0017240327261640335,
          -0.0017273987106261573,
          -0.0017248315993173573,
          -0.0017284383547570778,
          -0.0017324634513598198,
          -0.0017342261491647552,
          -0.0017320057259030347,
          -0.0017365998259301766,
          -0.0017376967305512317,
          -0.001736680247706399,
          -0.0017401502433659905,
          -0.0017385699202446276,
          -0.0017348997392341785,
          -0.00173954574050728,
          -0.0017396600711869993,
          -0.0017424203225163638,
          -0.001740526634358511,
          -0.0017389610361355813,
          -0.0017411645620434367,
          -0.0017369447033761662,
          -0.001739153242713473,
          -0.0017396823282619942,
          -0.0017386402135003722,
          -0.0017382494268233309,
          -0.0017345401110589634,
          -0.001737980824059367,
          -0.001734723980225295,
          -0.0017376708152584378,
          -0.001741027685902843,
          -0.001738601006258544,
          -0.0017350863666830089,
          -0.0017390463868419738,
          -0.0017351376463024598,
          -0.001733214441255002,
          -0.0017371065904123355,
          -0.001740063753266713,
          -0.0017421119699922887,
          -0.0017460793571251543,
          -0.0017488554151104776,
          -0.0017514804419266694,
          -0.001755228330756828,
          -0.0017517534955212046
         ],
         "y": [
          -0.0016102298202895168,
          -0.0016149499028741854,
          -0.0016099962929246342,
          -0.0016139502376152533,
          -0.0016107881046705,
          -0.001607145315250469,
          -0.0016066778231001656,
          -0.0016025443705299561,
          -0.0016017719194740784,
          -0.001599563264250997,
          -0.0016039746885830699,
          -0.0016025660603518072,
          -0.0015987477993074392,
          -0.001596935592007631,
          -0.0015958632329931906,
          -0.0015935551142944144,
          -0.0015980147467811606,
          -0.0015979257977036586,
          -0.0016007466303518268,
          -0.0016024617353305253,
          -0.0016065406776370507,
          -0.0016089158589537391,
          -0.0016085653205671084,
          -0.001604736821096788,
          -0.0016023632446585563,
          -0.0015978736080353641,
          -0.001596482814536542,
          -0.0015945423872539097,
          -0.001591704398575777,
          -0.0015887062778538632,
          -0.0015926689692174693,
          -0.0015916464690891253,
          -0.0015949050605314928,
          -0.0015898873695066055,
          -0.001591506630772509,
          -0.0015886213142999157,
          -0.001593786194370993,
          -0.0015899649897419452,
          -0.0015919657277393248,
          -0.0015933640390654088,
          -0.0015930234731747015,
          -0.0015916541918890145,
          -0.0015957129797090173,
          -0.001593424985221451,
          -0.0015910639336277955,
          -0.0015884155219845577,
          -0.0015880417106414206,
          -0.0015879505304218313,
          -0.0015846814257471787,
          -0.001584985598708641,
          -0.0015875155171862557,
          -0.0015855236654330723,
          -0.0015822946476557011,
          -0.0015829374887557732,
          -0.0015831394597872858,
          -0.0015872876873811446,
          -0.001589981560657303,
          -0.0015902540315518336,
          -0.0015895494354863477,
          -0.001588273076036645,
          -0.0015833984661840627,
          -0.0015782373543703086,
          -0.0015797806020151708,
          -0.0015788948044578447,
          -0.0015780653417689571,
          -0.0015795601603104746,
          -0.0015769346347438067,
          -0.001577175876263234,
          -0.0015763117108776752,
          -0.0015734928089735068,
          -0.0015751316713663174,
          -0.0015735983601339212,
          -0.0015732148249694988,
          -0.0015693250819187425,
          -0.001569329273498584,
          -0.0015698600051725848,
          -0.0015669401395869125,
          -0.001570844394001295,
          -0.0015683632542003204,
          -0.0015671104389526859,
          -0.0015713238197961432,
          -0.0015667865452580524,
          -0.001568514927579899,
          -0.0015632199676413744,
          -0.001565056093426899,
          -0.0015629061940677193,
          -0.001561068244846871,
          -0.0015572290603378424,
          -0.0015589611605377528,
          -0.0015602908298093271,
          -0.001561685433969999,
          -0.0015639749048977033,
          -0.0015616569716257712,
          -0.0015665680927929937,
          -0.0015659773072196875,
          -0.0015665630236246003,
          -0.0015708960578481382,
          -0.0015760045502385043,
          -0.001575701426989077,
          -0.0015715753435273994,
          -0.001573658051447379,
          -0.001578513889073257,
          -0.001573756396243159,
          -0.0015754151578888456,
          -0.0015718194136186353,
          -0.001567786710635882,
          -0.001563786788968758,
          -0.0015613561426482305,
          -0.001559978596163798,
          -0.0015563055626484005,
          -0.001559100753847766,
          -0.0015550946124567686,
          -0.0015506575947473648,
          -0.0015486675494411932,
          -0.0015511866448871833,
          -0.0015460434838523455,
          -0.001544825787715192,
          -0.0015459191879481663,
          -0.0015420554659636685,
          -0.001543782795374211,
          -0.0015478740457894162,
          -0.0015426774312198622,
          -0.0015425746457060877,
          -0.0015394141173450018,
          -0.0015414840874082745,
          -0.0015432906017264277,
          -0.001540831488968896,
          -0.0015455567549849405,
          -0.0015430089103362916,
          -0.0015424895884652444,
          -0.0015436825502829982,
          -0.0015440739656798607,
          -0.0015483092603347653,
          -0.0015444328168917128,
          -0.0015481407939607963,
          -0.00154485441215442,
          -0.0015410271983111645,
          -0.0015437984882535087,
          -0.0015476855170270607,
          -0.001543257054324834,
          -0.0015476234255821003,
          -0.0015497479615592309,
          -0.0015453973801780954,
          -0.0015420434512562879,
          -0.0015396878947897472,
          -0.0015352157582159316,
          -0.0015321163221405166,
          -0.0015291016966924049,
          -0.0015248323295766807,
          -0.0015288579196568793
         ],
         "z": [
          -5.8283705107600875e-06,
          -2.8959893121812465e-06,
          -1.9488480292722554e-06,
          -7.868977045406396e-07,
          -2.7791223225021432e-06,
          -1.2523017881170525e-06,
          -2.863387823992762e-06,
          -1.2804495147796168e-06,
          -4.6377259155322147e-07,
          3.079339742952462e-06,
          2.3494819561923306e-06,
          3.7585700330788727e-06,
          1.0665174033837902e-06,
          3.36675089552139e-06,
          4.05849697243475e-06,
          6.0606826413584824e-06,
          6.364347722925697e-06,
          9.51445141016681e-06,
          1.0837372291482434e-05,
          1.3628109753166381e-05,
          1.699945276247647e-05,
          1.7318376086474533e-05,
          1.4380468727424214e-05,
          1.3867968220970936e-05,
          1.4765975366585154e-05,
          1.509081200774039e-05,
          1.7323971613511032e-05,
          1.6407227214173533e-05,
          1.4449421317161394e-05,
          1.27468703080349e-05,
          1.2559382915044863e-05,
          1.3384239595782012e-05,
          1.5695044591549255e-05,
          1.9114122107199294e-05,
          1.608346581054274e-05,
          1.3691235039682995e-05,
          1.4854983765027985e-05,
          1.6913938629854697e-05,
          1.3913150312825467e-05,
          1.634241900526362e-05,
          1.367575408497272e-05,
          1.53108781784961e-05,
          1.8282866471081854e-05,
          1.7512870979131392e-05,
          1.8497565635042154e-05,
          1.7892122146566862e-05,
          1.4619418642871307e-05,
          1.2798925707602788e-05,
          1.1410531653168207e-05,
          1.2524352335962513e-05,
          9.574342457897555e-06,
          9.424478899891804e-06,
          1.1742007075024703e-05,
          8.815701715214712e-06,
          7.166554077236167e-06,
          5.929119924484636e-06,
          3.6293523341575545e-06,
          1.5116977162167587e-06,
          4.6600471261957895e-06,
          6.967831651948333e-06,
          8.332369706154167e-06,
          8.730838092602785e-06,
          8.89984266826145e-06,
          8.998169992689336e-06,
          5.744954686166945e-06,
          9.251873988377875e-06,
          6.886079101832961e-06,
          5.92173051087797e-06,
          3.72895192349545e-06,
          3.025754370041515e-06,
          7.743176568119742e-07,
          4.293266167453236e-06,
          7.639872321716943e-06,
          5.474312992147272e-06,
          6.058814631310954e-06,
          4.682739859402413e-06,
          5.932789736301621e-06,
          8.734767395020847e-06,
          1.208469331724284e-05,
          1.4580302430974542e-05,
          1.6871322395826078e-05,
          1.7323425257103044e-05,
          1.8701508174350842e-05,
          2.2312824275011926e-05,
          2.2936401551793727e-05,
          2.5072604017673968e-05,
          2.1815441595765265e-05,
          2.5456341633761948e-05,
          2.5795706286161795e-05,
          2.4347838238483893e-05,
          2.5647790518710066e-05,
          2.5237520234193722e-05,
          2.7747373372770883e-05,
          2.8404044714396063e-05,
          3.1607916628588764e-05,
          3.4691914573561385e-05,
          3.54900413593243e-05,
          3.850603652810148e-05,
          3.585277215509666e-05,
          3.749983519532121e-05,
          3.476449715369938e-05,
          3.516414234428639e-05,
          3.49497663880206e-05,
          3.425851559941217e-05,
          3.470720545911893e-05,
          3.537612110736739e-05,
          3.493494306080176e-05,
          3.175917668463832e-05,
          2.9928980123571048e-05,
          2.691645262171201e-05,
          2.964116348351228e-05,
          2.999008732199005e-05,
          2.7371861093858475e-05,
          2.8395247595242718e-05,
          2.634318484440482e-05,
          2.6237298679240242e-05,
          2.5321205869727824e-05,
          2.816712241467504e-05,
          2.5688044492691082e-05,
          2.875966536968963e-05,
          3.044073589264045e-05,
          2.906484324518553e-05,
          2.764243779739708e-05,
          2.9889801369039318e-05,
          3.334139440266783e-05,
          3.140762089282249e-05,
          3.003490820665185e-05,
          3.154710381166955e-05,
          3.44573099214578e-05,
          3.0807003006596245e-05,
          2.9869669836810603e-05,
          3.228504116506222e-05,
          2.875487287699744e-05,
          2.945733414368763e-05,
          2.665707656038085e-05,
          2.5353269436069453e-05,
          2.78491689289822e-05,
          2.589544222367588e-05,
          2.937083179679933e-05,
          2.8162633284416622e-05,
          2.9612264325543892e-05,
          3.109278844232765e-05,
          3.0420981406079467e-05,
          3.159009702353471e-05,
          3.3539169227990194e-05,
          3.220651443250924e-05,
          2.9019264194257716e-05,
          2.9699628714309165e-05,
          2.7886893182139327e-05,
          2.590285035825061e-05
         ]
        },
        {
         "marker": {
          "color": "orange",
          "size": 6
         },
         "mode": "markers",
         "type": "scatter3d",
         "x": [
          0
         ],
         "y": [
          0
         ],
         "z": [
          0
         ]
        }
       ],
       "layout": {
        "template": {
         "data": {
          "bar": [
           {
            "error_x": {
             "color": "#2a3f5f"
            },
            "error_y": {
             "color": "#2a3f5f"
            },
            "marker": {
             "line": {
              "color": "#E5ECF6",
              "width": 0.5
             }
            },
            "type": "bar"
           }
          ],
          "barpolar": [
           {
            "marker": {
             "line": {
              "color": "#E5ECF6",
              "width": 0.5
             }
            },
            "type": "barpolar"
           }
          ],
          "carpet": [
           {
            "aaxis": {
             "endlinecolor": "#2a3f5f",
             "gridcolor": "white",
             "linecolor": "white",
             "minorgridcolor": "white",
             "startlinecolor": "#2a3f5f"
            },
            "baxis": {
             "endlinecolor": "#2a3f5f",
             "gridcolor": "white",
             "linecolor": "white",
             "minorgridcolor": "white",
             "startlinecolor": "#2a3f5f"
            },
            "type": "carpet"
           }
          ],
          "choropleth": [
           {
            "colorbar": {
             "outlinewidth": 0,
             "ticks": ""
            },
            "type": "choropleth"
           }
          ],
          "contour": [
           {
            "colorbar": {
             "outlinewidth": 0,
             "ticks": ""
            },
            "colorscale": [
             [
              0,
              "#0d0887"
             ],
             [
              0.1111111111111111,
              "#46039f"
             ],
             [
              0.2222222222222222,
              "#7201a8"
             ],
             [
              0.3333333333333333,
              "#9c179e"
             ],
             [
              0.4444444444444444,
              "#bd3786"
             ],
             [
              0.5555555555555556,
              "#d8576b"
             ],
             [
              0.6666666666666666,
              "#ed7953"
             ],
             [
              0.7777777777777778,
              "#fb9f3a"
             ],
             [
              0.8888888888888888,
              "#fdca26"
             ],
             [
              1,
              "#f0f921"
             ]
            ],
            "type": "contour"
           }
          ],
          "contourcarpet": [
           {
            "colorbar": {
             "outlinewidth": 0,
             "ticks": ""
            },
            "type": "contourcarpet"
           }
          ],
          "heatmap": [
           {
            "colorbar": {
             "outlinewidth": 0,
             "ticks": ""
            },
            "colorscale": [
             [
              0,
              "#0d0887"
             ],
             [
              0.1111111111111111,
              "#46039f"
             ],
             [
              0.2222222222222222,
              "#7201a8"
             ],
             [
              0.3333333333333333,
              "#9c179e"
             ],
             [
              0.4444444444444444,
              "#bd3786"
             ],
             [
              0.5555555555555556,
              "#d8576b"
             ],
             [
              0.6666666666666666,
              "#ed7953"
             ],
             [
              0.7777777777777778,
              "#fb9f3a"
             ],
             [
              0.8888888888888888,
              "#fdca26"
             ],
             [
              1,
              "#f0f921"
             ]
            ],
            "type": "heatmap"
           }
          ],
          "heatmapgl": [
           {
            "colorbar": {
             "outlinewidth": 0,
             "ticks": ""
            },
            "colorscale": [
             [
              0,
              "#0d0887"
             ],
             [
              0.1111111111111111,
              "#46039f"
             ],
             [
              0.2222222222222222,
              "#7201a8"
             ],
             [
              0.3333333333333333,
              "#9c179e"
             ],
             [
              0.4444444444444444,
              "#bd3786"
             ],
             [
              0.5555555555555556,
              "#d8576b"
             ],
             [
              0.6666666666666666,
              "#ed7953"
             ],
             [
              0.7777777777777778,
              "#fb9f3a"
             ],
             [
              0.8888888888888888,
              "#fdca26"
             ],
             [
              1,
              "#f0f921"
             ]
            ],
            "type": "heatmapgl"
           }
          ],
          "histogram": [
           {
            "marker": {
             "colorbar": {
              "outlinewidth": 0,
              "ticks": ""
             }
            },
            "type": "histogram"
           }
          ],
          "histogram2d": [
           {
            "colorbar": {
             "outlinewidth": 0,
             "ticks": ""
            },
            "colorscale": [
             [
              0,
              "#0d0887"
             ],
             [
              0.1111111111111111,
              "#46039f"
             ],
             [
              0.2222222222222222,
              "#7201a8"
             ],
             [
              0.3333333333333333,
              "#9c179e"
             ],
             [
              0.4444444444444444,
              "#bd3786"
             ],
             [
              0.5555555555555556,
              "#d8576b"
             ],
             [
              0.6666666666666666,
              "#ed7953"
             ],
             [
              0.7777777777777778,
              "#fb9f3a"
             ],
             [
              0.8888888888888888,
              "#fdca26"
             ],
             [
              1,
              "#f0f921"
             ]
            ],
            "type": "histogram2d"
           }
          ],
          "histogram2dcontour": [
           {
            "colorbar": {
             "outlinewidth": 0,
             "ticks": ""
            },
            "colorscale": [
             [
              0,
              "#0d0887"
             ],
             [
              0.1111111111111111,
              "#46039f"
             ],
             [
              0.2222222222222222,
              "#7201a8"
             ],
             [
              0.3333333333333333,
              "#9c179e"
             ],
             [
              0.4444444444444444,
              "#bd3786"
             ],
             [
              0.5555555555555556,
              "#d8576b"
             ],
             [
              0.6666666666666666,
              "#ed7953"
             ],
             [
              0.7777777777777778,
              "#fb9f3a"
             ],
             [
              0.8888888888888888,
              "#fdca26"
             ],
             [
              1,
              "#f0f921"
             ]
            ],
            "type": "histogram2dcontour"
           }
          ],
          "mesh3d": [
           {
            "colorbar": {
             "outlinewidth": 0,
             "ticks": ""
            },
            "type": "mesh3d"
           }
          ],
          "parcoords": [
           {
            "line": {
             "colorbar": {
              "outlinewidth": 0,
              "ticks": ""
             }
            },
            "type": "parcoords"
           }
          ],
          "pie": [
           {
            "automargin": true,
            "type": "pie"
           }
          ],
          "scatter": [
           {
            "marker": {
             "colorbar": {
              "outlinewidth": 0,
              "ticks": ""
             }
            },
            "type": "scatter"
           }
          ],
          "scatter3d": [
           {
            "line": {
             "colorbar": {
              "outlinewidth": 0,
              "ticks": ""
             }
            },
            "marker": {
             "colorbar": {
              "outlinewidth": 0,
              "ticks": ""
             }
            },
            "type": "scatter3d"
           }
          ],
          "scattercarpet": [
           {
            "marker": {
             "colorbar": {
              "outlinewidth": 0,
              "ticks": ""
             }
            },
            "type": "scattercarpet"
           }
          ],
          "scattergeo": [
           {
            "marker": {
             "colorbar": {
              "outlinewidth": 0,
              "ticks": ""
             }
            },
            "type": "scattergeo"
           }
          ],
          "scattergl": [
           {
            "marker": {
             "colorbar": {
              "outlinewidth": 0,
              "ticks": ""
             }
            },
            "type": "scattergl"
           }
          ],
          "scattermapbox": [
           {
            "marker": {
             "colorbar": {
              "outlinewidth": 0,
              "ticks": ""
             }
            },
            "type": "scattermapbox"
           }
          ],
          "scatterpolar": [
           {
            "marker": {
             "colorbar": {
              "outlinewidth": 0,
              "ticks": ""
             }
            },
            "type": "scatterpolar"
           }
          ],
          "scatterpolargl": [
           {
            "marker": {
             "colorbar": {
              "outlinewidth": 0,
              "ticks": ""
             }
            },
            "type": "scatterpolargl"
           }
          ],
          "scatterternary": [
           {
            "marker": {
             "colorbar": {
              "outlinewidth": 0,
              "ticks": ""
             }
            },
            "type": "scatterternary"
           }
          ],
          "surface": [
           {
            "colorbar": {
             "outlinewidth": 0,
             "ticks": ""
            },
            "colorscale": [
             [
              0,
              "#0d0887"
             ],
             [
              0.1111111111111111,
              "#46039f"
             ],
             [
              0.2222222222222222,
              "#7201a8"
             ],
             [
              0.3333333333333333,
              "#9c179e"
             ],
             [
              0.4444444444444444,
              "#bd3786"
             ],
             [
              0.5555555555555556,
              "#d8576b"
             ],
             [
              0.6666666666666666,
              "#ed7953"
             ],
             [
              0.7777777777777778,
              "#fb9f3a"
             ],
             [
              0.8888888888888888,
              "#fdca26"
             ],
             [
              1,
              "#f0f921"
             ]
            ],
            "type": "surface"
           }
          ],
          "table": [
           {
            "cells": {
             "fill": {
              "color": "#EBF0F8"
             },
             "line": {
              "color": "white"
             }
            },
            "header": {
             "fill": {
              "color": "#C8D4E3"
             },
             "line": {
              "color": "white"
             }
            },
            "type": "table"
           }
          ]
         },
         "layout": {
          "annotationdefaults": {
           "arrowcolor": "#2a3f5f",
           "arrowhead": 0,
           "arrowwidth": 1
          },
          "autotypenumbers": "strict",
          "coloraxis": {
           "colorbar": {
            "outlinewidth": 0,
            "ticks": ""
           }
          },
          "colorscale": {
           "diverging": [
            [
             0,
             "#8e0152"
            ],
            [
             0.1,
             "#c51b7d"
            ],
            [
             0.2,
             "#de77ae"
            ],
            [
             0.3,
             "#f1b6da"
            ],
            [
             0.4,
             "#fde0ef"
            ],
            [
             0.5,
             "#f7f7f7"
            ],
            [
             0.6,
             "#e6f5d0"
            ],
            [
             0.7,
             "#b8e186"
            ],
            [
             0.8,
             "#7fbc41"
            ],
            [
             0.9,
             "#4d9221"
            ],
            [
             1,
             "#276419"
            ]
           ],
           "sequential": [
            [
             0,
             "#0d0887"
            ],
            [
             0.1111111111111111,
             "#46039f"
            ],
            [
             0.2222222222222222,
             "#7201a8"
            ],
            [
             0.3333333333333333,
             "#9c179e"
            ],
            [
             0.4444444444444444,
             "#bd3786"
            ],
            [
             0.5555555555555556,
             "#d8576b"
            ],
            [
             0.6666666666666666,
             "#ed7953"
            ],
            [
             0.7777777777777778,
             "#fb9f3a"
            ],
            [
             0.8888888888888888,
             "#fdca26"
            ],
            [
             1,
             "#f0f921"
            ]
           ],
           "sequentialminus": [
            [
             0,
             "#0d0887"
            ],
            [
             0.1111111111111111,
             "#46039f"
            ],
            [
             0.2222222222222222,
             "#7201a8"
            ],
            [
             0.3333333333333333,
             "#9c179e"
            ],
            [
             0.4444444444444444,
             "#bd3786"
            ],
            [
             0.5555555555555556,
             "#d8576b"
            ],
            [
             0.6666666666666666,
             "#ed7953"
            ],
            [
             0.7777777777777778,
             "#fb9f3a"
            ],
            [
             0.8888888888888888,
             "#fdca26"
            ],
            [
             1,
             "#f0f921"
            ]
           ]
          },
          "colorway": [
           "#636efa",
           "#EF553B",
           "#00cc96",
           "#ab63fa",
           "#FFA15A",
           "#19d3f3",
           "#FF6692",
           "#B6E880",
           "#FF97FF",
           "#FECB52"
          ],
          "font": {
           "color": "#2a3f5f"
          },
          "geo": {
           "bgcolor": "white",
           "lakecolor": "white",
           "landcolor": "#E5ECF6",
           "showlakes": true,
           "showland": true,
           "subunitcolor": "white"
          },
          "hoverlabel": {
           "align": "left"
          },
          "hovermode": "closest",
          "mapbox": {
           "style": "light"
          },
          "paper_bgcolor": "white",
          "plot_bgcolor": "#E5ECF6",
          "polar": {
           "angularaxis": {
            "gridcolor": "white",
            "linecolor": "white",
            "ticks": ""
           },
           "bgcolor": "#E5ECF6",
           "radialaxis": {
            "gridcolor": "white",
            "linecolor": "white",
            "ticks": ""
           }
          },
          "scene": {
           "xaxis": {
            "backgroundcolor": "#E5ECF6",
            "gridcolor": "white",
            "gridwidth": 2,
            "linecolor": "white",
            "showbackground": true,
            "ticks": "",
            "zerolinecolor": "white"
           },
           "yaxis": {
            "backgroundcolor": "#E5ECF6",
            "gridcolor": "white",
            "gridwidth": 2,
            "linecolor": "white",
            "showbackground": true,
            "ticks": "",
            "zerolinecolor": "white"
           },
           "zaxis": {
            "backgroundcolor": "#E5ECF6",
            "gridcolor": "white",
            "gridwidth": 2,
            "linecolor": "white",
            "showbackground": true,
            "ticks": "",
            "zerolinecolor": "white"
           }
          },
          "shapedefaults": {
           "line": {
            "color": "#2a3f5f"
           }
          },
          "ternary": {
           "aaxis": {
            "gridcolor": "white",
            "linecolor": "white",
            "ticks": ""
           },
           "baxis": {
            "gridcolor": "white",
            "linecolor": "white",
            "ticks": ""
           },
           "bgcolor": "#E5ECF6",
           "caxis": {
            "gridcolor": "white",
            "linecolor": "white",
            "ticks": ""
           }
          },
          "title": {
           "x": 0.05
          },
          "xaxis": {
           "automargin": true,
           "gridcolor": "white",
           "linecolor": "white",
           "ticks": "",
           "title": {
            "standoff": 15
           },
           "zerolinecolor": "white",
           "zerolinewidth": 2
          },
          "yaxis": {
           "automargin": true,
           "gridcolor": "white",
           "linecolor": "white",
           "ticks": "",
           "title": {
            "standoff": 15
           },
           "zerolinecolor": "white",
           "zerolinewidth": 2
          }
         }
        }
       }
      },
      "text/html": [
       "<div>                            <div id=\"1f83f18a-e91a-4394-8bb5-8dc7f1da6069\" class=\"plotly-graph-div\" style=\"height:525px; width:100%;\"></div>            <script type=\"text/javascript\">                require([\"plotly\"], function(Plotly) {                    window.PLOTLYENV=window.PLOTLYENV || {};                                    if (document.getElementById(\"1f83f18a-e91a-4394-8bb5-8dc7f1da6069\")) {                    Plotly.newPlot(                        \"1f83f18a-e91a-4394-8bb5-8dc7f1da6069\",                        [{\"type\": \"cone\", \"u\": [-0.7214116282696474, -0.7194608234894693, -0.7215118890900755, -0.719876596927938, -0.7211844406370068, -0.7226868107420726, -0.7228781940454553, -0.7245740520966374, -0.7248900724396021, -0.7257903657614924, -0.7239879639309581, -0.7245635856316975, -0.7261236683866548, -0.7268595567116763, -0.7272943828693229, -0.7282272511931197, -0.7264170450886097, -0.7264468667797886, -0.7252938960205139, -0.7245843595031205, -0.7228986491854209, -0.7219195776484472, -0.7220759675166568, -0.7236516574359617, -0.7246205204138864, -0.7264506323250167, -0.7270067612913156, -0.7277979001343613, -0.7289536468359032, -0.7301681842137997, -0.728570354446151, -0.7289808024315516, -0.7276538115007679, -0.7296668387820405, -0.7290271788135295, -0.7301992121025078, -0.7281103513977564, -0.7296456029618436, -0.7288500205018917, -0.7282753278160352, -0.7284232746779039, -0.7289706702701209, -0.7273149499318664, -0.7282456327560819, -0.729195291403002, -0.7302652088852184, -0.7304290311446455, -0.7304720133373049, -0.7317881329193255, -0.731662914552524, -0.7306560046487739, -0.7314558642189006, -0.7327417712883092, -0.73249252158225, -0.732415113471239, -0.7307546991693051, -0.7296735130964075, -0.729565063393212, -0.7298465424547652, -0.7303568978868863, -0.7323092686331863, -0.734366136535503, -0.7337517792425208, -0.7341041088215982, -0.7344399453590141, -0.7338387450553971, -0.7348871836513263, -0.7347929805965054, -0.7351385351650634, -0.7362552266871513, -0.7356078730790432, -0.736212336751207, -0.7363589093030285, -0.7378960133353052, -0.7378935197133478, -0.7376865409357863, -0.7388321788306046, -0.7372920426152013, -0.7382596002140155, -0.7387431653216588, -0.7370769284580482, -0.7388592669643186, -0.7381744798025422, -0.7402304838529036, -0.7395090164109999, -0.7403366826650616, -0.7410726065994885, -0.7425436052181859, -0.7418689127122778, -0.7413607736902624, -0.7408093521911082, -0.7399181027894929, -0.7408064548180927, -0.7388815205834439, -0.7390890538403424, -0.7388338514526384, -0.7371232513577143, -0.7350755662096982, -0.7352205630493778, -0.7368369860484939, -0.7360392219819311, -0.7341100491590296, -0.7359987078411374, -0.7353480752001875, -0.73676600125114, -0.7383476177845463, -0.7399187107061242, -0.7408939285897245, -0.74144451041036, -0.7428920993474453, -0.7417880770405387, -0.743339212921308, -0.745070262300292, -0.7458283352713833, -0.7448734110328782, -0.7468491683335992, -0.7473209075862146, -0.7468837548490364, -0.7483760752637864, -0.7476964350891964, -0.7461180221500959, -0.7481161003112716, -0.7481652698273505, -0.7493523547152712, -0.74853794750144, -0.7478646399764244, -0.7488122972703561, -0.7469974877275484, -0.7479473011172948, -0.7481748417953429, -0.7477266656920148, -0.747558602387858, -0.7459633589976769, -0.7474430859931864, -0.7460424345174982, -0.7473097623502303, -0.7487534317618834, -0.7477098040664896, -0.746198283908082, -0.7479013462475723, -0.7462203374293177, -0.7453932360621623, -0.7470671095232678, -0.7483388789807107, -0.7492197433774602, -0.7509259739876417, -0.7521198567501682, -0.7532487864352074, -0.7548606187145935, -0.7533662169721359], \"v\": [-0.6925019708930568, -0.69453190876371, -0.6924015391668517, -0.6941019886657707, -0.6927420689394835, -0.6911754361389145, -0.6909743845676525, -0.6891967351815863, -0.6888645317458572, -0.6879146685178045, -0.6898118635677984, -0.6892060631943898, -0.6875639663549874, -0.6867846011296196, -0.686323418060192, -0.6853307791661549, -0.6872487068107784, -0.6872104530095489, -0.6884235917452759, -0.6891611967523821, -0.6909154032332434, -0.6919368833488827, -0.6917861293878289, -0.6901396293694134, -0.6891188394543158, -0.6871880081090145, -0.6865898778130133, -0.6857553697815101, -0.6845348528539166, -0.6832454688897523, -0.6849496800183504, -0.684509939463807, -0.6859113425230107, -0.6837534139588496, -0.6844498000298933, -0.6832089291189559, -0.6854301584016208, -0.6837867956322458, -0.6846472411344766, -0.6852486045777776, -0.6851021394287894, -0.6845132607624668, -0.6862587995230663, -0.6852748153289672, -0.6842594118993545, -0.6831204252406994, -0.6829596624175278, -0.6829204490822782, -0.6815145246597348, -0.6816453385178878, -0.6827333655248848, -0.6818767416768938, -0.6804880571880696, -0.6807645200402425, -0.6808513805216616, -0.682635384114356, -0.68379392218735, -0.6839111021259501, -0.6836080806827471, -0.6830591643582884, -0.6809627698637181, -0.6787431611730894, -0.6794068565178017, -0.6790259068256949, -0.6786691847357179, -0.6793120524637184, -0.6781829082840257, -0.6782866575908386, -0.6779150111183063, -0.676702702726179, -0.6774075185374026, -0.6767480964865578, -0.6765831517973446, -0.6749103131161978, -0.6749121157640342, -0.6751403643814861, -0.6738846351387763, -0.6755637146358519, -0.6744966655844765, -0.6739578747751026, -0.6757698984387139, -0.6738185797384145, -0.6745618948535951, -0.6722847228952662, -0.6730743746016634, -0.6721497801588739, -0.6713593442584816, -0.6697082489889592, -0.6704531630298669, -0.6710250059926534, -0.6716247751173532, -0.6726093942752897, -0.6716125344860933, -0.6737246311848022, -0.6734705555437138, -0.673722451117672, -0.6755859333994791, -0.677782912367354, -0.6776525499526185, -0.6758780697552718, -0.6767737675750531, -0.6788620888096286, -0.6768160621370137, -0.6775294359016811, -0.6759830355291553, -0.6742487149195164, -0.6725284923755052, -0.6714831587552357, -0.6708907255239999, -0.6693110858250457, -0.6705131970952467, -0.6687902996715465, -0.6668820978298385, -0.6660262508697801, -0.6671096232798763, -0.6648977345740733, -0.6643740472318678, -0.6648442793731242, -0.663182631417327, -0.6639254937131992, -0.6656849934692262, -0.6634501163193665, -0.6634059119642047, -0.6620466823116811, -0.6629369020371164, -0.6637138189156914, -0.6626562429040059, -0.6646884099821911, -0.6635926735733341, -0.6633693319020418, -0.6638823819024735, -0.6640507155964281, -0.6658721636027176, -0.6642050446048303, -0.6657997122702851, -0.6643863575743613, -0.6627404104579384, -0.6639322426565524, -0.66560391402463, -0.6636993913840253, -0.6655772107258408, -0.6664908972896205, -0.66461986860601, -0.6631774643235148, -0.6621644241505685, -0.6602411189475177, -0.6589081628912847, -0.6576116808375948, -0.6557755794905378, -0.6575068410964393], \"w\": [-0.002506572673626574, -0.0012454609156413207, -0.0008381294919748994, -0.00033841642007824565, -0.001195200623808838, -0.0005385699888901778, -0.0012314401873327909, -0.0005506753144433216, -0.00019945192273177612, 0.0013243133459424367, 0.0010104277443752268, 0.001616425880858869, 0.0004586708024710578, 0.0014479185525425988, 0.0017454136775142078, 0.002606481771243974, 0.0027370772085082568, 0.004091823583494489, 0.004660764306180852, 0.005860960183880932, 0.007310853639514488, 0.00744801109843716, 0.0061845227374541555, 0.005964114689900562, 0.006350315287093628, 0.006490015851189402, 0.0074504175335013585, 0.0070561587169355065, 0.006214176768008994, 0.005481970772001496, 0.0054013391829405896, 0.005756080394361005, 0.00674987456818311, 0.008220296919321829, 0.006916920573852854, 0.005888108100765297, 0.006388594600127723, 0.007274077084619273, 0.005983545883674324, 0.0070282870356173106, 0.00588145029856024, 0.0065846584016222435, 0.00786280374718334, 0.007531656361241506, 0.007955138140894212, 0.007694758657325758, 0.0062872865077599925, 0.005504357928382631, 0.00490725954717188, 0.005386273789944893, 0.0041175805705219275, 0.004053129640613445, 0.0050498152122364845, 0.0037913164541281685, 0.0030820773286296507, 0.00254990137533825, 0.0015608539928899893, 0.0006501268543681643, 0.002004118777756136, 0.0029966139559865273, 0.003583452728930266, 0.0037548196602075856, 0.0038275024538429233, 0.0038697895020027378, 0.002470698525597174, 0.00397889847192988, 0.0029614551225286734, 0.0025467234541360208, 0.001603688196459906, 0.0013012682030166907, 0.00033300619370170073, 0.0018463794702269817, 0.0032856344935961066, 0.0023543052603918623, 0.0026056784072624717, 0.0020138781066870288, 0.002551479629500511, 0.003756509511950769, 0.00519719224819979, 0.006270464030936461, 0.007255749374074482, 0.007450182565247402, 0.008042846496956583, 0.009595943754077298, 0.009864121928232512, 0.01078282582950711, 0.009382037340640952, 0.010947857585905057, 0.01109380612547196, 0.010471130117379056, 0.011030192870273355, 0.010853750366820437, 0.01193314799268499, 0.012215558734663835, 0.01359342889152656, 0.014919745562732964, 0.015262991207049739, 0.016560062328367445, 0.015418988685056203, 0.01612733129998525, 0.01495096072169023, 0.015122833754130826, 0.015030638360432643, 0.014733356241159352, 0.014926321623026886, 0.015213998201200046, 0.015024263380175233, 0.013658480405050808, 0.01287137864498472, 0.011575798842573764, 0.012747599052789193, 0.012897658654712341, 0.011771653658171528, 0.012211775409901673, 0.011329256975920635, 0.01128371914203951, 0.01088974055083801, 0.0121136669690053, 0.011047504657675926, 0.012368498396802744, 0.013091466407756828, 0.012499744432362977, 0.011888018973306817, 0.012854529270821796, 0.014338935377571655, 0.013507288894594521, 0.012916934506255001, 0.01356727548470135, 0.014818850534013895, 0.013248984729111785, 0.012845871422376922, 0.013884635817481767, 0.012366437317947407, 0.012668540660917124, 0.01146425052107888, 0.010903529938294174, 0.011976926602679815, 0.011136698967491835, 0.012631339110584233, 0.012111736355429288, 0.012735170563639327, 0.013371890773331575, 0.013082970713101886, 0.013585765319864319, 0.01442399122152823, 0.0138508642922153, 0.012480142520759284, 0.01277274284720003, 0.011993150448079151, 0.01113988493990956], \"x\": [-0.0016774515674595736, -0.0016729154879065362, -0.0016776846974283616, -0.001673882258857734, -0.0016769233028245906, -0.0016804166663758437, -0.0016808616775312842, -0.0016848049460269248, -0.0016855397675890984, -0.0016876331611314235, -0.0016834421533110013, -0.0016847806090363204, -0.0016884081680610431, -0.0016901192813504747, -0.00169113035435115, -0.0016932994924280336, -0.0016890903378366138, -0.001689159680276702, -0.0016864787523132596, -0.0016848289131692388, -0.0016809092405386623, -0.001678632669133387, -0.0016789963123285936, -0.0016826601616781087, -0.001684912995784583, -0.0016891684360542602, -0.0016904615665912122, -0.0016923011503189218, -0.0016949885330004816, -0.0016978126178203744, -0.001694097288120596, -0.001695051676141929, -0.001691966110384988, -0.001696646871875358, -0.0016951595121284773, -0.001697884764953175, -0.0016930276729323623, -0.0016965974936029823, -0.0016947475774217163, -0.0016934112818743187, -0.0016937552930956763, -0.0016950281164855446, -0.0016911781776048236, -0.0016933422338815884, -0.0016955504134054593, -0.0016980382229822208, -0.00169841914823362, -0.0016985190919323683, -0.001701579379248668, -0.0017012882171195383, -0.001698946914969492, -0.0017008067764370353, -0.0017037968125615719, -0.001703217248421303, -0.0017030372563722966, -0.0016991764029229395, -0.0016966623912247252, -0.0016964102201791154, -0.001697064725144806, -0.0016982514214580141, -0.0017027911422502874, -0.0017075738434871302, -0.001706145318406983, -0.0017069645674757888, -0.0017077454663468673, -0.0017063475343588866, -0.0017087854004774919, -0.0017085663562373156, -0.0017093698518145365, -0.0017119664220258983, -0.0017104611727589492, -0.0017118666928456932, -0.0017122075084732278, -0.0017157816365677187, -0.0017157758383106664, -0.0017152945640128232, -0.001717958441343181, -0.0017143772627103576, -0.0017166270615036367, -0.0017177514640167074, -0.00171387707174315, -0.0017180214276197776, -0.0017164291365436644, -0.0017212098291217064, -0.0017195322477744316, -0.0017214567663166947, -0.001723167962406362, -0.0017265883798795083, -0.0017250195612505336, -0.0017238380186116774, -0.0017225558340420916, -0.0017204834697397266, -0.001722549096968948, -0.0017180731725138444, -0.0017185557361064487, -0.0017179623305824756, -0.001713984783370755, -0.0017092234341956076, -0.0017095605859221202, -0.00171331914925447, -0.0017114641603251557, -0.0017069783801562963, -0.0017113699554269874, -0.0017098570816381081, -0.0017131540929191946, -0.0017168317230392496, -0.001720484883288755, -0.001722752494044328, -0.0017240327261640335, -0.0017273987106261573, -0.0017248315993173573, -0.0017284383547570778, -0.0017324634513598198, -0.0017342261491647552, -0.0017320057259030347, -0.0017365998259301766, -0.0017376967305512317, -0.001736680247706399, -0.0017401502433659905, -0.0017385699202446276, -0.0017348997392341785, -0.00173954574050728, -0.0017396600711869993, -0.0017424203225163638, -0.001740526634358511, -0.0017389610361355813, -0.0017411645620434367, -0.0017369447033761662, -0.001739153242713473, -0.0017396823282619942, -0.0017386402135003722, -0.0017382494268233309, -0.0017345401110589634, -0.001737980824059367, -0.001734723980225295, -0.0017376708152584378, -0.001741027685902843, -0.001738601006258544, -0.0017350863666830089, -0.0017390463868419738, -0.0017351376463024598, -0.001733214441255002, -0.0017371065904123355, -0.001740063753266713, -0.0017421119699922887, -0.0017460793571251543, -0.0017488554151104776, -0.0017514804419266694, -0.001755228330756828, -0.0017517534955212046], \"y\": [-0.0016102298202895168, -0.0016149499028741854, -0.0016099962929246342, -0.0016139502376152533, -0.0016107881046705, -0.001607145315250469, -0.0016066778231001656, -0.0016025443705299561, -0.0016017719194740784, -0.001599563264250997, -0.0016039746885830699, -0.0016025660603518072, -0.0015987477993074392, -0.001596935592007631, -0.0015958632329931906, -0.0015935551142944144, -0.0015980147467811606, -0.0015979257977036586, -0.0016007466303518268, -0.0016024617353305253, -0.0016065406776370507, -0.0016089158589537391, -0.0016085653205671084, -0.001604736821096788, -0.0016023632446585563, -0.0015978736080353641, -0.001596482814536542, -0.0015945423872539097, -0.001591704398575777, -0.0015887062778538632, -0.0015926689692174693, -0.0015916464690891253, -0.0015949050605314928, -0.0015898873695066055, -0.001591506630772509, -0.0015886213142999157, -0.001593786194370993, -0.0015899649897419452, -0.0015919657277393248, -0.0015933640390654088, -0.0015930234731747015, -0.0015916541918890145, -0.0015957129797090173, -0.001593424985221451, -0.0015910639336277955, -0.0015884155219845577, -0.0015880417106414206, -0.0015879505304218313, -0.0015846814257471787, -0.001584985598708641, -0.0015875155171862557, -0.0015855236654330723, -0.0015822946476557011, -0.0015829374887557732, -0.0015831394597872858, -0.0015872876873811446, -0.001589981560657303, -0.0015902540315518336, -0.0015895494354863477, -0.001588273076036645, -0.0015833984661840627, -0.0015782373543703086, -0.0015797806020151708, -0.0015788948044578447, -0.0015780653417689571, -0.0015795601603104746, -0.0015769346347438067, -0.001577175876263234, -0.0015763117108776752, -0.0015734928089735068, -0.0015751316713663174, -0.0015735983601339212, -0.0015732148249694988, -0.0015693250819187425, -0.001569329273498584, -0.0015698600051725848, -0.0015669401395869125, -0.001570844394001295, -0.0015683632542003204, -0.0015671104389526859, -0.0015713238197961432, -0.0015667865452580524, -0.001568514927579899, -0.0015632199676413744, -0.001565056093426899, -0.0015629061940677193, -0.001561068244846871, -0.0015572290603378424, -0.0015589611605377528, -0.0015602908298093271, -0.001561685433969999, -0.0015639749048977033, -0.0015616569716257712, -0.0015665680927929937, -0.0015659773072196875, -0.0015665630236246003, -0.0015708960578481382, -0.0015760045502385043, -0.001575701426989077, -0.0015715753435273994, -0.001573658051447379, -0.001578513889073257, -0.001573756396243159, -0.0015754151578888456, -0.0015718194136186353, -0.001567786710635882, -0.001563786788968758, -0.0015613561426482305, -0.001559978596163798, -0.0015563055626484005, -0.001559100753847766, -0.0015550946124567686, -0.0015506575947473648, -0.0015486675494411932, -0.0015511866448871833, -0.0015460434838523455, -0.001544825787715192, -0.0015459191879481663, -0.0015420554659636685, -0.001543782795374211, -0.0015478740457894162, -0.0015426774312198622, -0.0015425746457060877, -0.0015394141173450018, -0.0015414840874082745, -0.0015432906017264277, -0.001540831488968896, -0.0015455567549849405, -0.0015430089103362916, -0.0015424895884652444, -0.0015436825502829982, -0.0015440739656798607, -0.0015483092603347653, -0.0015444328168917128, -0.0015481407939607963, -0.00154485441215442, -0.0015410271983111645, -0.0015437984882535087, -0.0015476855170270607, -0.001543257054324834, -0.0015476234255821003, -0.0015497479615592309, -0.0015453973801780954, -0.0015420434512562879, -0.0015396878947897472, -0.0015352157582159316, -0.0015321163221405166, -0.0015291016966924049, -0.0015248323295766807, -0.0015288579196568793], \"z\": [-5.8283705107600875e-06, -2.8959893121812465e-06, -1.9488480292722554e-06, -7.868977045406396e-07, -2.7791223225021432e-06, -1.2523017881170525e-06, -2.863387823992762e-06, -1.2804495147796168e-06, -4.6377259155322147e-07, 3.079339742952462e-06, 2.3494819561923306e-06, 3.7585700330788727e-06, 1.0665174033837902e-06, 3.36675089552139e-06, 4.05849697243475e-06, 6.0606826413584824e-06, 6.364347722925697e-06, 9.51445141016681e-06, 1.0837372291482434e-05, 1.3628109753166381e-05, 1.699945276247647e-05, 1.7318376086474533e-05, 1.4380468727424214e-05, 1.3867968220970936e-05, 1.4765975366585154e-05, 1.509081200774039e-05, 1.7323971613511032e-05, 1.6407227214173533e-05, 1.4449421317161394e-05, 1.27468703080349e-05, 1.2559382915044863e-05, 1.3384239595782012e-05, 1.5695044591549255e-05, 1.9114122107199294e-05, 1.608346581054274e-05, 1.3691235039682995e-05, 1.4854983765027985e-05, 1.6913938629854697e-05, 1.3913150312825467e-05, 1.634241900526362e-05, 1.367575408497272e-05, 1.53108781784961e-05, 1.8282866471081854e-05, 1.7512870979131392e-05, 1.8497565635042154e-05, 1.7892122146566862e-05, 1.4619418642871307e-05, 1.2798925707602788e-05, 1.1410531653168207e-05, 1.2524352335962513e-05, 9.574342457897555e-06, 9.424478899891804e-06, 1.1742007075024703e-05, 8.815701715214712e-06, 7.166554077236167e-06, 5.929119924484636e-06, 3.6293523341575545e-06, 1.5116977162167587e-06, 4.6600471261957895e-06, 6.967831651948333e-06, 8.332369706154167e-06, 8.730838092602785e-06, 8.89984266826145e-06, 8.998169992689336e-06, 5.744954686166945e-06, 9.251873988377875e-06, 6.886079101832961e-06, 5.92173051087797e-06, 3.72895192349545e-06, 3.025754370041515e-06, 7.743176568119742e-07, 4.293266167453236e-06, 7.639872321716943e-06, 5.474312992147272e-06, 6.058814631310954e-06, 4.682739859402413e-06, 5.932789736301621e-06, 8.734767395020847e-06, 1.208469331724284e-05, 1.4580302430974542e-05, 1.6871322395826078e-05, 1.7323425257103044e-05, 1.8701508174350842e-05, 2.2312824275011926e-05, 2.2936401551793727e-05, 2.5072604017673968e-05, 2.1815441595765265e-05, 2.5456341633761948e-05, 2.5795706286161795e-05, 2.4347838238483893e-05, 2.5647790518710066e-05, 2.5237520234193722e-05, 2.7747373372770883e-05, 2.8404044714396063e-05, 3.1607916628588764e-05, 3.4691914573561385e-05, 3.54900413593243e-05, 3.850603652810148e-05, 3.585277215509666e-05, 3.749983519532121e-05, 3.476449715369938e-05, 3.516414234428639e-05, 3.49497663880206e-05, 3.425851559941217e-05, 3.470720545911893e-05, 3.537612110736739e-05, 3.493494306080176e-05, 3.175917668463832e-05, 2.9928980123571048e-05, 2.691645262171201e-05, 2.964116348351228e-05, 2.999008732199005e-05, 2.7371861093858475e-05, 2.8395247595242718e-05, 2.634318484440482e-05, 2.6237298679240242e-05, 2.5321205869727824e-05, 2.816712241467504e-05, 2.5688044492691082e-05, 2.875966536968963e-05, 3.044073589264045e-05, 2.906484324518553e-05, 2.764243779739708e-05, 2.9889801369039318e-05, 3.334139440266783e-05, 3.140762089282249e-05, 3.003490820665185e-05, 3.154710381166955e-05, 3.44573099214578e-05, 3.0807003006596245e-05, 2.9869669836810603e-05, 3.228504116506222e-05, 2.875487287699744e-05, 2.945733414368763e-05, 2.665707656038085e-05, 2.5353269436069453e-05, 2.78491689289822e-05, 2.589544222367588e-05, 2.937083179679933e-05, 2.8162633284416622e-05, 2.9612264325543892e-05, 3.109278844232765e-05, 3.0420981406079467e-05, 3.159009702353471e-05, 3.3539169227990194e-05, 3.220651443250924e-05, 2.9019264194257716e-05, 2.9699628714309165e-05, 2.7886893182139327e-05, 2.590285035825061e-05]}, {\"marker\": {\"color\": [-5.8283705107600875e-06, -2.8959893121812465e-06, -1.9488480292722554e-06, -7.868977045406396e-07, -2.7791223225021432e-06, -1.2523017881170525e-06, -2.863387823992762e-06, -1.2804495147796168e-06, -4.6377259155322147e-07, 3.079339742952462e-06, 2.3494819561923306e-06, 3.7585700330788727e-06, 1.0665174033837902e-06, 3.36675089552139e-06, 4.05849697243475e-06, 6.0606826413584824e-06, 6.364347722925697e-06, 9.51445141016681e-06, 1.0837372291482434e-05, 1.3628109753166381e-05, 1.699945276247647e-05, 1.7318376086474533e-05, 1.4380468727424214e-05, 1.3867968220970936e-05, 1.4765975366585154e-05, 1.509081200774039e-05, 1.7323971613511032e-05, 1.6407227214173533e-05, 1.4449421317161394e-05, 1.27468703080349e-05, 1.2559382915044863e-05, 1.3384239595782012e-05, 1.5695044591549255e-05, 1.9114122107199294e-05, 1.608346581054274e-05, 1.3691235039682995e-05, 1.4854983765027985e-05, 1.6913938629854697e-05, 1.3913150312825467e-05, 1.634241900526362e-05, 1.367575408497272e-05, 1.53108781784961e-05, 1.8282866471081854e-05, 1.7512870979131392e-05, 1.8497565635042154e-05, 1.7892122146566862e-05, 1.4619418642871307e-05, 1.2798925707602788e-05, 1.1410531653168207e-05, 1.2524352335962513e-05, 9.574342457897555e-06, 9.424478899891804e-06, 1.1742007075024703e-05, 8.815701715214712e-06, 7.166554077236167e-06, 5.929119924484636e-06, 3.6293523341575545e-06, 1.5116977162167587e-06, 4.6600471261957895e-06, 6.967831651948333e-06, 8.332369706154167e-06, 8.730838092602785e-06, 8.89984266826145e-06, 8.998169992689336e-06, 5.744954686166945e-06, 9.251873988377875e-06, 6.886079101832961e-06, 5.92173051087797e-06, 3.72895192349545e-06, 3.025754370041515e-06, 7.743176568119742e-07, 4.293266167453236e-06, 7.639872321716943e-06, 5.474312992147272e-06, 6.058814631310954e-06, 4.682739859402413e-06, 5.932789736301621e-06, 8.734767395020847e-06, 1.208469331724284e-05, 1.4580302430974542e-05, 1.6871322395826078e-05, 1.7323425257103044e-05, 1.8701508174350842e-05, 2.2312824275011926e-05, 2.2936401551793727e-05, 2.5072604017673968e-05, 2.1815441595765265e-05, 2.5456341633761948e-05, 2.5795706286161795e-05, 2.4347838238483893e-05, 2.5647790518710066e-05, 2.5237520234193722e-05, 2.7747373372770883e-05, 2.8404044714396063e-05, 3.1607916628588764e-05, 3.4691914573561385e-05, 3.54900413593243e-05, 3.850603652810148e-05, 3.585277215509666e-05, 3.749983519532121e-05, 3.476449715369938e-05, 3.516414234428639e-05, 3.49497663880206e-05, 3.425851559941217e-05, 3.470720545911893e-05, 3.537612110736739e-05, 3.493494306080176e-05, 3.175917668463832e-05, 2.9928980123571048e-05, 2.691645262171201e-05, 2.964116348351228e-05, 2.999008732199005e-05, 2.7371861093858475e-05, 2.8395247595242718e-05, 2.634318484440482e-05, 2.6237298679240242e-05, 2.5321205869727824e-05, 2.816712241467504e-05, 2.5688044492691082e-05, 2.875966536968963e-05, 3.044073589264045e-05, 2.906484324518553e-05, 2.764243779739708e-05, 2.9889801369039318e-05, 3.334139440266783e-05, 3.140762089282249e-05, 3.003490820665185e-05, 3.154710381166955e-05, 3.44573099214578e-05, 3.0807003006596245e-05, 2.9869669836810603e-05, 3.228504116506222e-05, 2.875487287699744e-05, 2.945733414368763e-05, 2.665707656038085e-05, 2.5353269436069453e-05, 2.78491689289822e-05, 2.589544222367588e-05, 2.937083179679933e-05, 2.8162633284416622e-05, 2.9612264325543892e-05, 3.109278844232765e-05, 3.0420981406079467e-05, 3.159009702353471e-05, 3.3539169227990194e-05, 3.220651443250924e-05, 2.9019264194257716e-05, 2.9699628714309165e-05, 2.7886893182139327e-05, 2.590285035825061e-05], \"colorscale\": [[0.0, \"#440154\"], [0.1111111111111111, \"#482878\"], [0.2222222222222222, \"#3e4989\"], [0.3333333333333333, \"#31688e\"], [0.4444444444444444, \"#26828e\"], [0.5555555555555556, \"#1f9e89\"], [0.6666666666666666, \"#35b779\"], [0.7777777777777778, \"#6ece58\"], [0.8888888888888888, \"#b5de2b\"], [1.0, \"#fde725\"]], \"size\": 3}, \"mode\": \"markers\", \"type\": \"scatter3d\", \"x\": [-0.0016774515674595736, -0.0016729154879065362, -0.0016776846974283616, -0.001673882258857734, -0.0016769233028245906, -0.0016804166663758437, -0.0016808616775312842, -0.0016848049460269248, -0.0016855397675890984, -0.0016876331611314235, -0.0016834421533110013, -0.0016847806090363204, -0.0016884081680610431, -0.0016901192813504747, -0.00169113035435115, -0.0016932994924280336, -0.0016890903378366138, -0.001689159680276702, -0.0016864787523132596, -0.0016848289131692388, -0.0016809092405386623, -0.001678632669133387, -0.0016789963123285936, -0.0016826601616781087, -0.001684912995784583, -0.0016891684360542602, -0.0016904615665912122, -0.0016923011503189218, -0.0016949885330004816, -0.0016978126178203744, -0.001694097288120596, -0.001695051676141929, -0.001691966110384988, -0.001696646871875358, -0.0016951595121284773, -0.001697884764953175, -0.0016930276729323623, -0.0016965974936029823, -0.0016947475774217163, -0.0016934112818743187, -0.0016937552930956763, -0.0016950281164855446, -0.0016911781776048236, -0.0016933422338815884, -0.0016955504134054593, -0.0016980382229822208, -0.00169841914823362, -0.0016985190919323683, -0.001701579379248668, -0.0017012882171195383, -0.001698946914969492, -0.0017008067764370353, -0.0017037968125615719, -0.001703217248421303, -0.0017030372563722966, -0.0016991764029229395, -0.0016966623912247252, -0.0016964102201791154, -0.001697064725144806, -0.0016982514214580141, -0.0017027911422502874, -0.0017075738434871302, -0.001706145318406983, -0.0017069645674757888, -0.0017077454663468673, -0.0017063475343588866, -0.0017087854004774919, -0.0017085663562373156, -0.0017093698518145365, -0.0017119664220258983, -0.0017104611727589492, -0.0017118666928456932, -0.0017122075084732278, -0.0017157816365677187, -0.0017157758383106664, -0.0017152945640128232, -0.001717958441343181, -0.0017143772627103576, -0.0017166270615036367, -0.0017177514640167074, -0.00171387707174315, -0.0017180214276197776, -0.0017164291365436644, -0.0017212098291217064, -0.0017195322477744316, -0.0017214567663166947, -0.001723167962406362, -0.0017265883798795083, -0.0017250195612505336, -0.0017238380186116774, -0.0017225558340420916, -0.0017204834697397266, -0.001722549096968948, -0.0017180731725138444, -0.0017185557361064487, -0.0017179623305824756, -0.001713984783370755, -0.0017092234341956076, -0.0017095605859221202, -0.00171331914925447, -0.0017114641603251557, -0.0017069783801562963, -0.0017113699554269874, -0.0017098570816381081, -0.0017131540929191946, -0.0017168317230392496, -0.001720484883288755, -0.001722752494044328, -0.0017240327261640335, -0.0017273987106261573, -0.0017248315993173573, -0.0017284383547570778, -0.0017324634513598198, -0.0017342261491647552, -0.0017320057259030347, -0.0017365998259301766, -0.0017376967305512317, -0.001736680247706399, -0.0017401502433659905, -0.0017385699202446276, -0.0017348997392341785, -0.00173954574050728, -0.0017396600711869993, -0.0017424203225163638, -0.001740526634358511, -0.0017389610361355813, -0.0017411645620434367, -0.0017369447033761662, -0.001739153242713473, -0.0017396823282619942, -0.0017386402135003722, -0.0017382494268233309, -0.0017345401110589634, -0.001737980824059367, -0.001734723980225295, -0.0017376708152584378, -0.001741027685902843, -0.001738601006258544, -0.0017350863666830089, -0.0017390463868419738, -0.0017351376463024598, -0.001733214441255002, -0.0017371065904123355, -0.001740063753266713, -0.0017421119699922887, -0.0017460793571251543, -0.0017488554151104776, -0.0017514804419266694, -0.001755228330756828, -0.0017517534955212046], \"y\": [-0.0016102298202895168, -0.0016149499028741854, -0.0016099962929246342, -0.0016139502376152533, -0.0016107881046705, -0.001607145315250469, -0.0016066778231001656, -0.0016025443705299561, -0.0016017719194740784, -0.001599563264250997, -0.0016039746885830699, -0.0016025660603518072, -0.0015987477993074392, -0.001596935592007631, -0.0015958632329931906, -0.0015935551142944144, -0.0015980147467811606, -0.0015979257977036586, -0.0016007466303518268, -0.0016024617353305253, -0.0016065406776370507, -0.0016089158589537391, -0.0016085653205671084, -0.001604736821096788, -0.0016023632446585563, -0.0015978736080353641, -0.001596482814536542, -0.0015945423872539097, -0.001591704398575777, -0.0015887062778538632, -0.0015926689692174693, -0.0015916464690891253, -0.0015949050605314928, -0.0015898873695066055, -0.001591506630772509, -0.0015886213142999157, -0.001593786194370993, -0.0015899649897419452, -0.0015919657277393248, -0.0015933640390654088, -0.0015930234731747015, -0.0015916541918890145, -0.0015957129797090173, -0.001593424985221451, -0.0015910639336277955, -0.0015884155219845577, -0.0015880417106414206, -0.0015879505304218313, -0.0015846814257471787, -0.001584985598708641, -0.0015875155171862557, -0.0015855236654330723, -0.0015822946476557011, -0.0015829374887557732, -0.0015831394597872858, -0.0015872876873811446, -0.001589981560657303, -0.0015902540315518336, -0.0015895494354863477, -0.001588273076036645, -0.0015833984661840627, -0.0015782373543703086, -0.0015797806020151708, -0.0015788948044578447, -0.0015780653417689571, -0.0015795601603104746, -0.0015769346347438067, -0.001577175876263234, -0.0015763117108776752, -0.0015734928089735068, -0.0015751316713663174, -0.0015735983601339212, -0.0015732148249694988, -0.0015693250819187425, -0.001569329273498584, -0.0015698600051725848, -0.0015669401395869125, -0.001570844394001295, -0.0015683632542003204, -0.0015671104389526859, -0.0015713238197961432, -0.0015667865452580524, -0.001568514927579899, -0.0015632199676413744, -0.001565056093426899, -0.0015629061940677193, -0.001561068244846871, -0.0015572290603378424, -0.0015589611605377528, -0.0015602908298093271, -0.001561685433969999, -0.0015639749048977033, -0.0015616569716257712, -0.0015665680927929937, -0.0015659773072196875, -0.0015665630236246003, -0.0015708960578481382, -0.0015760045502385043, -0.001575701426989077, -0.0015715753435273994, -0.001573658051447379, -0.001578513889073257, -0.001573756396243159, -0.0015754151578888456, -0.0015718194136186353, -0.001567786710635882, -0.001563786788968758, -0.0015613561426482305, -0.001559978596163798, -0.0015563055626484005, -0.001559100753847766, -0.0015550946124567686, -0.0015506575947473648, -0.0015486675494411932, -0.0015511866448871833, -0.0015460434838523455, -0.001544825787715192, -0.0015459191879481663, -0.0015420554659636685, -0.001543782795374211, -0.0015478740457894162, -0.0015426774312198622, -0.0015425746457060877, -0.0015394141173450018, -0.0015414840874082745, -0.0015432906017264277, -0.001540831488968896, -0.0015455567549849405, -0.0015430089103362916, -0.0015424895884652444, -0.0015436825502829982, -0.0015440739656798607, -0.0015483092603347653, -0.0015444328168917128, -0.0015481407939607963, -0.00154485441215442, -0.0015410271983111645, -0.0015437984882535087, -0.0015476855170270607, -0.001543257054324834, -0.0015476234255821003, -0.0015497479615592309, -0.0015453973801780954, -0.0015420434512562879, -0.0015396878947897472, -0.0015352157582159316, -0.0015321163221405166, -0.0015291016966924049, -0.0015248323295766807, -0.0015288579196568793], \"z\": [-5.8283705107600875e-06, -2.8959893121812465e-06, -1.9488480292722554e-06, -7.868977045406396e-07, -2.7791223225021432e-06, -1.2523017881170525e-06, -2.863387823992762e-06, -1.2804495147796168e-06, -4.6377259155322147e-07, 3.079339742952462e-06, 2.3494819561923306e-06, 3.7585700330788727e-06, 1.0665174033837902e-06, 3.36675089552139e-06, 4.05849697243475e-06, 6.0606826413584824e-06, 6.364347722925697e-06, 9.51445141016681e-06, 1.0837372291482434e-05, 1.3628109753166381e-05, 1.699945276247647e-05, 1.7318376086474533e-05, 1.4380468727424214e-05, 1.3867968220970936e-05, 1.4765975366585154e-05, 1.509081200774039e-05, 1.7323971613511032e-05, 1.6407227214173533e-05, 1.4449421317161394e-05, 1.27468703080349e-05, 1.2559382915044863e-05, 1.3384239595782012e-05, 1.5695044591549255e-05, 1.9114122107199294e-05, 1.608346581054274e-05, 1.3691235039682995e-05, 1.4854983765027985e-05, 1.6913938629854697e-05, 1.3913150312825467e-05, 1.634241900526362e-05, 1.367575408497272e-05, 1.53108781784961e-05, 1.8282866471081854e-05, 1.7512870979131392e-05, 1.8497565635042154e-05, 1.7892122146566862e-05, 1.4619418642871307e-05, 1.2798925707602788e-05, 1.1410531653168207e-05, 1.2524352335962513e-05, 9.574342457897555e-06, 9.424478899891804e-06, 1.1742007075024703e-05, 8.815701715214712e-06, 7.166554077236167e-06, 5.929119924484636e-06, 3.6293523341575545e-06, 1.5116977162167587e-06, 4.6600471261957895e-06, 6.967831651948333e-06, 8.332369706154167e-06, 8.730838092602785e-06, 8.89984266826145e-06, 8.998169992689336e-06, 5.744954686166945e-06, 9.251873988377875e-06, 6.886079101832961e-06, 5.92173051087797e-06, 3.72895192349545e-06, 3.025754370041515e-06, 7.743176568119742e-07, 4.293266167453236e-06, 7.639872321716943e-06, 5.474312992147272e-06, 6.058814631310954e-06, 4.682739859402413e-06, 5.932789736301621e-06, 8.734767395020847e-06, 1.208469331724284e-05, 1.4580302430974542e-05, 1.6871322395826078e-05, 1.7323425257103044e-05, 1.8701508174350842e-05, 2.2312824275011926e-05, 2.2936401551793727e-05, 2.5072604017673968e-05, 2.1815441595765265e-05, 2.5456341633761948e-05, 2.5795706286161795e-05, 2.4347838238483893e-05, 2.5647790518710066e-05, 2.5237520234193722e-05, 2.7747373372770883e-05, 2.8404044714396063e-05, 3.1607916628588764e-05, 3.4691914573561385e-05, 3.54900413593243e-05, 3.850603652810148e-05, 3.585277215509666e-05, 3.749983519532121e-05, 3.476449715369938e-05, 3.516414234428639e-05, 3.49497663880206e-05, 3.425851559941217e-05, 3.470720545911893e-05, 3.537612110736739e-05, 3.493494306080176e-05, 3.175917668463832e-05, 2.9928980123571048e-05, 2.691645262171201e-05, 2.964116348351228e-05, 2.999008732199005e-05, 2.7371861093858475e-05, 2.8395247595242718e-05, 2.634318484440482e-05, 2.6237298679240242e-05, 2.5321205869727824e-05, 2.816712241467504e-05, 2.5688044492691082e-05, 2.875966536968963e-05, 3.044073589264045e-05, 2.906484324518553e-05, 2.764243779739708e-05, 2.9889801369039318e-05, 3.334139440266783e-05, 3.140762089282249e-05, 3.003490820665185e-05, 3.154710381166955e-05, 3.44573099214578e-05, 3.0807003006596245e-05, 2.9869669836810603e-05, 3.228504116506222e-05, 2.875487287699744e-05, 2.945733414368763e-05, 2.665707656038085e-05, 2.5353269436069453e-05, 2.78491689289822e-05, 2.589544222367588e-05, 2.937083179679933e-05, 2.8162633284416622e-05, 2.9612264325543892e-05, 3.109278844232765e-05, 3.0420981406079467e-05, 3.159009702353471e-05, 3.3539169227990194e-05, 3.220651443250924e-05, 2.9019264194257716e-05, 2.9699628714309165e-05, 2.7886893182139327e-05, 2.590285035825061e-05]}, {\"marker\": {\"color\": \"orange\", \"size\": 6}, \"mode\": \"markers\", \"type\": \"scatter3d\", \"x\": [0], \"y\": [0], \"z\": [0]}],                        {\"template\": {\"data\": {\"bar\": [{\"error_x\": {\"color\": \"#2a3f5f\"}, \"error_y\": {\"color\": \"#2a3f5f\"}, \"marker\": {\"line\": {\"color\": \"#E5ECF6\", \"width\": 0.5}}, \"type\": \"bar\"}], \"barpolar\": [{\"marker\": {\"line\": {\"color\": \"#E5ECF6\", \"width\": 0.5}}, \"type\": \"barpolar\"}], \"carpet\": [{\"aaxis\": {\"endlinecolor\": \"#2a3f5f\", \"gridcolor\": \"white\", \"linecolor\": \"white\", \"minorgridcolor\": \"white\", \"startlinecolor\": \"#2a3f5f\"}, \"baxis\": {\"endlinecolor\": \"#2a3f5f\", \"gridcolor\": \"white\", \"linecolor\": \"white\", \"minorgridcolor\": \"white\", \"startlinecolor\": \"#2a3f5f\"}, \"type\": \"carpet\"}], \"choropleth\": [{\"colorbar\": {\"outlinewidth\": 0, \"ticks\": \"\"}, \"type\": \"choropleth\"}], \"contour\": [{\"colorbar\": {\"outlinewidth\": 0, \"ticks\": \"\"}, \"colorscale\": [[0.0, \"#0d0887\"], [0.1111111111111111, \"#46039f\"], [0.2222222222222222, \"#7201a8\"], [0.3333333333333333, \"#9c179e\"], [0.4444444444444444, \"#bd3786\"], [0.5555555555555556, \"#d8576b\"], [0.6666666666666666, \"#ed7953\"], [0.7777777777777778, \"#fb9f3a\"], [0.8888888888888888, \"#fdca26\"], [1.0, \"#f0f921\"]], \"type\": \"contour\"}], \"contourcarpet\": [{\"colorbar\": {\"outlinewidth\": 0, \"ticks\": \"\"}, \"type\": \"contourcarpet\"}], \"heatmap\": [{\"colorbar\": {\"outlinewidth\": 0, \"ticks\": \"\"}, \"colorscale\": [[0.0, \"#0d0887\"], [0.1111111111111111, \"#46039f\"], [0.2222222222222222, \"#7201a8\"], [0.3333333333333333, \"#9c179e\"], [0.4444444444444444, \"#bd3786\"], [0.5555555555555556, \"#d8576b\"], [0.6666666666666666, \"#ed7953\"], [0.7777777777777778, \"#fb9f3a\"], [0.8888888888888888, \"#fdca26\"], [1.0, \"#f0f921\"]], \"type\": \"heatmap\"}], \"heatmapgl\": [{\"colorbar\": {\"outlinewidth\": 0, \"ticks\": \"\"}, \"colorscale\": [[0.0, \"#0d0887\"], [0.1111111111111111, \"#46039f\"], [0.2222222222222222, \"#7201a8\"], [0.3333333333333333, \"#9c179e\"], [0.4444444444444444, \"#bd3786\"], [0.5555555555555556, \"#d8576b\"], [0.6666666666666666, \"#ed7953\"], [0.7777777777777778, \"#fb9f3a\"], [0.8888888888888888, \"#fdca26\"], [1.0, \"#f0f921\"]], \"type\": \"heatmapgl\"}], \"histogram\": [{\"marker\": {\"colorbar\": {\"outlinewidth\": 0, \"ticks\": \"\"}}, \"type\": \"histogram\"}], \"histogram2d\": [{\"colorbar\": {\"outlinewidth\": 0, \"ticks\": \"\"}, \"colorscale\": [[0.0, \"#0d0887\"], [0.1111111111111111, \"#46039f\"], [0.2222222222222222, \"#7201a8\"], [0.3333333333333333, \"#9c179e\"], [0.4444444444444444, \"#bd3786\"], [0.5555555555555556, \"#d8576b\"], [0.6666666666666666, \"#ed7953\"], [0.7777777777777778, \"#fb9f3a\"], [0.8888888888888888, \"#fdca26\"], [1.0, \"#f0f921\"]], \"type\": \"histogram2d\"}], \"histogram2dcontour\": [{\"colorbar\": {\"outlinewidth\": 0, \"ticks\": \"\"}, \"colorscale\": [[0.0, \"#0d0887\"], [0.1111111111111111, \"#46039f\"], [0.2222222222222222, \"#7201a8\"], [0.3333333333333333, \"#9c179e\"], [0.4444444444444444, \"#bd3786\"], [0.5555555555555556, \"#d8576b\"], [0.6666666666666666, \"#ed7953\"], [0.7777777777777778, \"#fb9f3a\"], [0.8888888888888888, \"#fdca26\"], [1.0, \"#f0f921\"]], \"type\": \"histogram2dcontour\"}], \"mesh3d\": [{\"colorbar\": {\"outlinewidth\": 0, \"ticks\": \"\"}, \"type\": \"mesh3d\"}], \"parcoords\": [{\"line\": {\"colorbar\": {\"outlinewidth\": 0, \"ticks\": \"\"}}, \"type\": \"parcoords\"}], \"pie\": [{\"automargin\": true, \"type\": \"pie\"}], \"scatter\": [{\"marker\": {\"colorbar\": {\"outlinewidth\": 0, \"ticks\": \"\"}}, \"type\": \"scatter\"}], \"scatter3d\": [{\"line\": {\"colorbar\": {\"outlinewidth\": 0, \"ticks\": \"\"}}, \"marker\": {\"colorbar\": {\"outlinewidth\": 0, \"ticks\": \"\"}}, \"type\": \"scatter3d\"}], \"scattercarpet\": [{\"marker\": {\"colorbar\": {\"outlinewidth\": 0, \"ticks\": \"\"}}, \"type\": \"scattercarpet\"}], \"scattergeo\": [{\"marker\": {\"colorbar\": {\"outlinewidth\": 0, \"ticks\": \"\"}}, \"type\": \"scattergeo\"}], \"scattergl\": [{\"marker\": {\"colorbar\": {\"outlinewidth\": 0, \"ticks\": \"\"}}, \"type\": \"scattergl\"}], \"scattermapbox\": [{\"marker\": {\"colorbar\": {\"outlinewidth\": 0, \"ticks\": \"\"}}, \"type\": \"scattermapbox\"}], \"scatterpolar\": [{\"marker\": {\"colorbar\": {\"outlinewidth\": 0, \"ticks\": \"\"}}, \"type\": \"scatterpolar\"}], \"scatterpolargl\": [{\"marker\": {\"colorbar\": {\"outlinewidth\": 0, \"ticks\": \"\"}}, \"type\": \"scatterpolargl\"}], \"scatterternary\": [{\"marker\": {\"colorbar\": {\"outlinewidth\": 0, \"ticks\": \"\"}}, \"type\": \"scatterternary\"}], \"surface\": [{\"colorbar\": {\"outlinewidth\": 0, \"ticks\": \"\"}, \"colorscale\": [[0.0, \"#0d0887\"], [0.1111111111111111, \"#46039f\"], [0.2222222222222222, \"#7201a8\"], [0.3333333333333333, \"#9c179e\"], [0.4444444444444444, \"#bd3786\"], [0.5555555555555556, \"#d8576b\"], [0.6666666666666666, \"#ed7953\"], [0.7777777777777778, \"#fb9f3a\"], [0.8888888888888888, \"#fdca26\"], [1.0, \"#f0f921\"]], \"type\": \"surface\"}], \"table\": [{\"cells\": {\"fill\": {\"color\": \"#EBF0F8\"}, \"line\": {\"color\": \"white\"}}, \"header\": {\"fill\": {\"color\": \"#C8D4E3\"}, \"line\": {\"color\": \"white\"}}, \"type\": \"table\"}]}, \"layout\": {\"annotationdefaults\": {\"arrowcolor\": \"#2a3f5f\", \"arrowhead\": 0, \"arrowwidth\": 1}, \"autotypenumbers\": \"strict\", \"coloraxis\": {\"colorbar\": {\"outlinewidth\": 0, \"ticks\": \"\"}}, \"colorscale\": {\"diverging\": [[0, \"#8e0152\"], [0.1, \"#c51b7d\"], [0.2, \"#de77ae\"], [0.3, \"#f1b6da\"], [0.4, \"#fde0ef\"], [0.5, \"#f7f7f7\"], [0.6, \"#e6f5d0\"], [0.7, \"#b8e186\"], [0.8, \"#7fbc41\"], [0.9, \"#4d9221\"], [1, \"#276419\"]], \"sequential\": [[0.0, \"#0d0887\"], [0.1111111111111111, \"#46039f\"], [0.2222222222222222, \"#7201a8\"], [0.3333333333333333, \"#9c179e\"], [0.4444444444444444, \"#bd3786\"], [0.5555555555555556, \"#d8576b\"], [0.6666666666666666, \"#ed7953\"], [0.7777777777777778, \"#fb9f3a\"], [0.8888888888888888, \"#fdca26\"], [1.0, \"#f0f921\"]], \"sequentialminus\": [[0.0, \"#0d0887\"], [0.1111111111111111, \"#46039f\"], [0.2222222222222222, \"#7201a8\"], [0.3333333333333333, \"#9c179e\"], [0.4444444444444444, \"#bd3786\"], [0.5555555555555556, \"#d8576b\"], [0.6666666666666666, \"#ed7953\"], [0.7777777777777778, \"#fb9f3a\"], [0.8888888888888888, \"#fdca26\"], [1.0, \"#f0f921\"]]}, \"colorway\": [\"#636efa\", \"#EF553B\", \"#00cc96\", \"#ab63fa\", \"#FFA15A\", \"#19d3f3\", \"#FF6692\", \"#B6E880\", \"#FF97FF\", \"#FECB52\"], \"font\": {\"color\": \"#2a3f5f\"}, \"geo\": {\"bgcolor\": \"white\", \"lakecolor\": \"white\", \"landcolor\": \"#E5ECF6\", \"showlakes\": true, \"showland\": true, \"subunitcolor\": \"white\"}, \"hoverlabel\": {\"align\": \"left\"}, \"hovermode\": \"closest\", \"mapbox\": {\"style\": \"light\"}, \"paper_bgcolor\": \"white\", \"plot_bgcolor\": \"#E5ECF6\", \"polar\": {\"angularaxis\": {\"gridcolor\": \"white\", \"linecolor\": \"white\", \"ticks\": \"\"}, \"bgcolor\": \"#E5ECF6\", \"radialaxis\": {\"gridcolor\": \"white\", \"linecolor\": \"white\", \"ticks\": \"\"}}, \"scene\": {\"xaxis\": {\"backgroundcolor\": \"#E5ECF6\", \"gridcolor\": \"white\", \"gridwidth\": 2, \"linecolor\": \"white\", \"showbackground\": true, \"ticks\": \"\", \"zerolinecolor\": \"white\"}, \"yaxis\": {\"backgroundcolor\": \"#E5ECF6\", \"gridcolor\": \"white\", \"gridwidth\": 2, \"linecolor\": \"white\", \"showbackground\": true, \"ticks\": \"\", \"zerolinecolor\": \"white\"}, \"zaxis\": {\"backgroundcolor\": \"#E5ECF6\", \"gridcolor\": \"white\", \"gridwidth\": 2, \"linecolor\": \"white\", \"showbackground\": true, \"ticks\": \"\", \"zerolinecolor\": \"white\"}}, \"shapedefaults\": {\"line\": {\"color\": \"#2a3f5f\"}}, \"ternary\": {\"aaxis\": {\"gridcolor\": \"white\", \"linecolor\": \"white\", \"ticks\": \"\"}, \"baxis\": {\"gridcolor\": \"white\", \"linecolor\": \"white\", \"ticks\": \"\"}, \"bgcolor\": \"#E5ECF6\", \"caxis\": {\"gridcolor\": \"white\", \"linecolor\": \"white\", \"ticks\": \"\"}}, \"title\": {\"x\": 0.05}, \"xaxis\": {\"automargin\": true, \"gridcolor\": \"white\", \"linecolor\": \"white\", \"ticks\": \"\", \"title\": {\"standoff\": 15}, \"zerolinecolor\": \"white\", \"zerolinewidth\": 2}, \"yaxis\": {\"automargin\": true, \"gridcolor\": \"white\", \"linecolor\": \"white\", \"ticks\": \"\", \"title\": {\"standoff\": 15}, \"zerolinecolor\": \"white\", \"zerolinewidth\": 2}}}},                        {\"responsive\": true}                    ).then(function(){\n",
       "                            \n",
       "var gd = document.getElementById('1f83f18a-e91a-4394-8bb5-8dc7f1da6069');\n",
       "var x = new MutationObserver(function (mutations, observer) {{\n",
       "        var display = window.getComputedStyle(gd).display;\n",
       "        if (!display || display === 'none') {{\n",
       "            console.log([gd, 'removed!']);\n",
       "            Plotly.purge(gd);\n",
       "            observer.disconnect();\n",
       "        }}\n",
       "}});\n",
       "\n",
       "// Listen for the removal of the full notebook cells\n",
       "var notebookContainer = gd.closest('#notebook-container');\n",
       "if (notebookContainer) {{\n",
       "    x.observe(notebookContainer, {childList: true});\n",
       "}}\n",
       "\n",
       "// Listen for the clearing of the current output cell\n",
       "var outputEl = gd.closest('.output');\n",
       "if (outputEl) {{\n",
       "    x.observe(outputEl, {childList: true});\n",
       "}}\n",
       "\n",
       "                        })                };                });            </script>        </div>"
      ]
     },
     "metadata": {},
     "output_type": "display_data"
    }
   ],
   "source": [
    "dataDFCar = sphDF2CarDF(dataDFSph2)\n",
    "x,y,z = dataDFCar.x,dataDFCar.y,dataDFCar.z\n",
    "loss = dataDFCar.L\n",
    "vx,vy,vz = dataDFCar.vx,dataDFCar.vy,dataDFCar.vz\n",
    "\n",
    "fig1 = go.Figure(data=go.Cone(\n",
    "    x=x, \n",
    "    y=y, \n",
    "    z=z, \n",
    "    u=vx, \n",
    "    v=vy, \n",
    "    w=vz))\n",
    "\n",
    "## Add the intial position markers\n",
    "fig1.add_trace(\n",
    "    go.Scatter3d(\n",
    "        x=x,\n",
    "        y=y,\n",
    "        z=z,\n",
    "        mode = 'markers',\n",
    "            marker=dict(\n",
    "            size=3,\n",
    "            color = z,\n",
    "            colorscale='Viridis'\n",
    "                )\n",
    "            )\n",
    ")\n",
    "\n",
    "# Add the location of the sun\n",
    "fig1.add_trace(\n",
    "    go.Scatter3d(\n",
    "        x=[0],\n",
    "        y=[0],\n",
    "        z=[0],\n",
    "        mode = 'markers',\n",
    "        marker = dict(\n",
    "            size = 6,\n",
    "            color = 'orange')\n",
    "                )\n",
    "            )\n",
    "\n",
    "fig1.show()"
   ]
  },
  {
   "cell_type": "markdown",
   "metadata": {
    "heading_collapsed": true,
    "hidden": true
   },
   "source": [
    "### B=0 debug Check"
   ]
  },
  {
   "cell_type": "markdown",
   "metadata": {
    "hidden": true
   },
   "source": [
    "Double check that for each initial condition, every single z location along a trajectory is identically zero.\n",
    "\n",
    "If this works, it should run with no error.\n",
    "If this fails, an assertion should trigger and output the row(condition) and step at which z is not zero."
   ]
  },
  {
   "cell_type": "code",
   "execution_count": 247,
   "metadata": {
    "ExecuteTime": {
     "end_time": "2022-01-25T03:33:01.727767Z",
     "start_time": "2022-01-25T03:32:58.820046Z"
    },
    "hidden": true
   },
   "outputs": [
    {
     "name": "stdout",
     "output_type": "stream",
     "text": [
      "Complete\n"
     ]
    }
   ],
   "source": [
    "for row in range(0,dataDFSph2.shape[0]):\n",
    "    conditionSph = np.asarray(dataDFSph2.iloc[row][:-2])\n",
    "    conditionCar = conditionSph2Car(conditionSph)\n",
    "\n",
    "    output = trajectorySolver(conditionCar,q,m,dt)\n",
    "    xVect = output[0][0]\n",
    "    yVect = output[0][1]\n",
    "    zVect = output[0][2]\n",
    "    vxVect = output[1][0]\n",
    "    vyVect = output[1][1]\n",
    "    vzVect = output[1][2]\n",
    "\n",
    "    posLimit = 1e-10\n",
    "    velLimit = 1e-10\n",
    "    for i in range(0,len(zVect)):\n",
    "        x = xVect[i]\n",
    "        y = yVect[i]\n",
    "        z = zVect[i]\n",
    "#         distance = np.sqrt(x**2+y**2+z**2)\n",
    "#         assert (1-posLimit <= distance <= 1+posLimit),'{0}'.format(distance)\n",
    "        assert (z==0),'z not equal to 0 in this (row,step): {0,1}'.format(row,i)\n",
    "    \n",
    "        vx = vxVect[i]\n",
    "        vy = vyVect[i]\n",
    "        vz = vzVect[i]\n",
    "        assert (1-1e-8 <= np.sqrt(vx**2+vy**2+vz**2) <= 1+1e-8), 'Velocity norm is not 1 in (row,step): {0,1}'.format(row,i)\n",
    "\n",
    "print ('Complete')"
   ]
  },
  {
   "cell_type": "markdown",
   "metadata": {
    "heading_collapsed": true,
    "hidden": true
   },
   "source": [
    "### Plot a single Trajectory"
   ]
  },
  {
   "cell_type": "code",
   "execution_count": 76,
   "metadata": {
    "ExecuteTime": {
     "end_time": "2022-02-01T21:41:22.608958Z",
     "start_time": "2022-02-01T21:41:22.490844Z"
    },
    "hidden": true
   },
   "outputs": [
    {
     "data": {
      "application/vnd.plotly.v1+json": {
       "config": {
        "linkText": "Export to plot.ly",
        "plotlyServerURL": "https://plot.ly",
        "showLink": false
       },
       "data": [
        {
         "marker": {
          "color": [
           6.0606826413584824e-06,
           3.212555053032773e-05,
           5.8190437351548176e-05,
           8.42553346248174e-05,
           0.00011032023911673313,
           0.00013638514912177704,
           0.00016245006358632207,
           0.0001885149817948473,
           0.00021457990322969382,
           0.00024064482749896218,
           0.0002667097542956484,
           0.000292774683372754,
           0.00031883961452725955,
           0.00034490454758933915,
           0.0003709694824148348,
           0.0003970344188798461,
           0.0004230993568767405,
           0.0004491642963111467,
           0.00047522923709964615,
           0.0005012941791679709,
           0.0005273591224495761,
           0.000553424066884495,
           0.0005794890124184091,
           0.0006055539590018867,
           0.0006316189065897513,
           0.000657683855140555,
           0.0006837488046161352,
           0.0007098137549812389,
           0.000735878706203202,
           0.0007619436582516744,
           0.0007880086110983825,
           0.0008140735647169232,
           0.0008401385190825839,
           0.0008662034741721856,
           0.0008922684299639442,
           0.0009183333864373482,
           0.0009443983435730506,
           0.0009704633013527723,
           0.000996528259759216,
           0.0010225932187759895,
           0.001048658178387536,
           0.001074723138579072,
           0.0011007880993365313,
           0.0011268530606465138,
           0.001152918022496239,
           0.0011789829848735047,
           0.0012050479477666478,
           0.0012311129111645103,
           0.0012571778750564062,
           0.0012832428394320928,
           0.0013093078042817434,
           0.0013353727695959226,
           0.0013614377353655634,
           0.0013875027015819458,
           0.0014135676682366777,
           0.001439632635321676,
           0.001465697602829151,
           0.0014917625707515894,
           0.0015178275390817409,
           0.0015438925078126039,
           0.0015699574769374135,
           0.0015960224464496291,
           0.001622087416342924,
           0.0016481523866111747,
           0.0016742173572484513,
           0.0017002823282490087,
           0.001726347299607278,
           0.0017524122713178582,
           0.0017784772433755093,
           0.0018045422157751444,
           0.0018306071885118241,
           0.0018566721615807494,
           0.001882737134977256,
           0.0019088021086968087,
           0.0019348670827349966,
           0.0019609320570875273,
           0.001986997031750222,
           0.0020130620067190124,
           0.002039126981989935,
           0.0020651919575591284,
           0.0020912569334228274,
           0.0021173219095773615,
           0.0021433868860191506,
           0.0021694518627447014,
           0.0021955168397506048,
           0.0022215818170335322,
           0.0022476467945902337,
           0.0022737117724175343,
           0.002299776750512332,
           0.002325841728871595,
           0.00235190670749236,
           0.002377971686371728,
           0.0024040366655068653,
           0.002430101644894998,
           0.0024561666245334133,
           0.0024822316044194547,
           0.0025082965845505223,
           0.0025343615649240695,
           0.0025604265455376027,
           0.002586491526388679,
           0.0026125565074749044
          ],
          "colorscale": [
           [
            0,
            "#440154"
           ],
           [
            0.1111111111111111,
            "#482878"
           ],
           [
            0.2222222222222222,
            "#3e4989"
           ],
           [
            0.3333333333333333,
            "#31688e"
           ],
           [
            0.4444444444444444,
            "#26828e"
           ],
           [
            0.5555555555555556,
            "#1f9e89"
           ],
           [
            0.6666666666666666,
            "#35b779"
           ],
           [
            0.7777777777777778,
            "#6ece58"
           ],
           [
            0.8888888888888888,
            "#b5de2b"
           ],
           [
            1,
            "#fde725"
           ]
          ],
          "size": 2
         },
         "mode": "markers",
         "type": "scatter3d",
         "x": [
          -0.0016932994924280336,
          -0.00897557200426399,
          -0.01625784451606401,
          -0.02354011702784419,
          -0.030822389539610667,
          -0.03810466205136668,
          -0.045386934563114226,
          -0.05266920707485467,
          -0.05995147958658899,
          -0.06723375209831793,
          -0.07451602461004207,
          -0.08179829712176188,
          -0.08908056963347775,
          -0.09636284214519,
          -0.1036451146568989,
          -0.1109273871686047,
          -0.11820965968030758,
          -0.12549193219200774,
          -0.13277420470370532,
          -0.1400564772154005,
          -0.14733874972709335,
          -0.15462102223878402,
          -0.1619032947504726,
          -0.1691855672621592,
          -0.17646783977384387,
          -0.1837501122855267,
          -0.1910323847972078,
          -0.1983146573088872,
          -0.205596929820565,
          -0.2128792023322412,
          -0.2201614748439159,
          -0.22744374735558914,
          -0.23472601986726097,
          -0.2420082923789314,
          -0.2492905648906005,
          -0.25657283740226833,
          -0.2638551099139349,
          -0.27113738242560026,
          -0.2784196549372644,
          -0.28570192744892736,
          -0.2929841999605892,
          -0.30026647247224997,
          -0.30754874498390966,
          -0.3148310174955683,
          -0.3221132900072259,
          -0.32939556251888247,
          -0.3366778350305381,
          -0.34396010754219275,
          -0.3512423800538465,
          -0.3585246525654993,
          -0.36580692507715123,
          -0.37308919758880227,
          -0.3803714701004524,
          -0.3876537426121017,
          -0.3949360151237502,
          -0.40221828763539785,
          -0.4095005601470447,
          -0.4167828326586908,
          -0.42406510517033613,
          -0.43134737768198067,
          -0.4386296501936245,
          -0.4459119227052675,
          -0.45319419521690985,
          -0.4604764677285515,
          -0.4677587402401924,
          -0.47504101275183264,
          -0.4823232852634722,
          -0.48960555777511106,
          -0.49688783028674927,
          -0.5041701027983868,
          -0.5114523753100237,
          -0.51873464782166,
          -0.5260169203332957,
          -0.5332991928449308,
          -0.5405814653565653,
          -0.5478637378681991,
          -0.5551460103798324,
          -0.5624282828914651,
          -0.5697105554030972,
          -0.5769928279147288,
          -0.5842751004263599,
          -0.5915573729379904,
          -0.5988396454496203,
          -0.6061219179612497,
          -0.6134041904728785,
          -0.6206864629845068,
          -0.6279687354961346,
          -0.6352510080077619,
          -0.6425332805193886,
          -0.6498155530310149,
          -0.6570978255426406,
          -0.6643800980542659,
          -0.6716623705658907,
          -0.678944643077515,
          -0.6862269155891388,
          -0.6935091881007622,
          -0.7007914606123852,
          -0.7080737331240077,
          -0.7153560056356296,
          -0.7226382781472511,
          -0.7299205506588722
         ],
         "y": [
          -0.0015935551142944144,
          -0.008446862905866333,
          -0.015300170697404433,
          -0.022153478488923864,
          -0.029006786280430397,
          -0.035860094071927084,
          -0.04271340186341581,
          -0.049566709654897845,
          -0.056420017446374114,
          -0.06327332523784532,
          -0.070126633029312,
          -0.07697994082077463,
          -0.08383324861223353,
          -0.09068655640368903,
          -0.09753986419514138,
          -0.1043931719865908,
          -0.11124647977803749,
          -0.11809978756948161,
          -0.1249530953609233,
          -0.13180640315236272,
          -0.13865971094379997,
          -0.14551301873523514,
          -0.15236632652666837,
          -0.1592196343180997,
          -0.16607294210952928,
          -0.17292624990095712,
          -0.1797795576923833,
          -0.1866328654838079,
          -0.19348617327523096,
          -0.20033948106665256,
          -0.2071927888580727,
          -0.21404609664949148,
          -0.22089940444090891,
          -0.22775271223232507,
          -0.23460602002373998,
          -0.24145932781515367,
          -0.24831263560656616,
          -0.2551659433979775,
          -0.26201925118938774,
          -0.26887255898079687,
          -0.27572586677220495,
          -0.282579174563612,
          -0.289432482355018,
          -0.29628579014642303,
          -0.3031390979378271,
          -0.30999240572923026,
          -0.31684571352063245,
          -0.32369902131203376,
          -0.3305523291034342,
          -0.33740563689483377,
          -0.34425894468623247,
          -0.35111225247763034,
          -0.3579655602690274,
          -0.3648188680604237,
          -0.37167217585181916,
          -0.37852548364321387,
          -0.38537879143460785,
          -0.39223209922600105,
          -0.39908540701739353,
          -0.4059387148087853,
          -0.4127920226001764,
          -0.41964533039156676,
          -0.42649863818295647,
          -0.4333519459743455,
          -0.4402052537657339,
          -0.4470585615571216,
          -0.4539118693485087,
          -0.4607651771398952,
          -0.467618484931281,
          -0.4744717927226662,
          -0.48132510051405086,
          -0.4881784083054349,
          -0.49503171609681834,
          -0.5018850238882012,
          -0.5087383316795835,
          -0.5155916394709652,
          -0.5224449472623464,
          -0.529298255053727,
          -0.536151562845107,
          -0.5430048706364866,
          -0.5498581784278657,
          -0.5567114862192442,
          -0.5635647940106222,
          -0.5704181018019997,
          -0.5772714095933767,
          -0.5841247173847532,
          -0.5909780251761293,
          -0.5978313329675048,
          -0.6046846407588798,
          -0.6115379485502545,
          -0.6183912563416286,
          -0.6252445641330022,
          -0.6320978719243754,
          -0.6389511797157481,
          -0.6458044875071204,
          -0.6526577952984922,
          -0.6595111030898636,
          -0.6663644108812345,
          -0.6732177186726052,
          -0.6800710264639753,
          -0.686924334255345
         ],
         "z": [
          6.0606826413584824e-06,
          3.212555053032773e-05,
          5.8190437351548176e-05,
          8.42553346248174e-05,
          0.00011032023911673313,
          0.00013638514912177704,
          0.00016245006358632207,
          0.0001885149817948473,
          0.00021457990322969382,
          0.00024064482749896218,
          0.0002667097542956484,
          0.000292774683372754,
          0.00031883961452725955,
          0.00034490454758933915,
          0.0003709694824148348,
          0.0003970344188798461,
          0.0004230993568767405,
          0.0004491642963111467,
          0.00047522923709964615,
          0.0005012941791679709,
          0.0005273591224495761,
          0.000553424066884495,
          0.0005794890124184091,
          0.0006055539590018867,
          0.0006316189065897513,
          0.000657683855140555,
          0.0006837488046161352,
          0.0007098137549812389,
          0.000735878706203202,
          0.0007619436582516744,
          0.0007880086110983825,
          0.0008140735647169232,
          0.0008401385190825839,
          0.0008662034741721856,
          0.0008922684299639442,
          0.0009183333864373482,
          0.0009443983435730506,
          0.0009704633013527723,
          0.000996528259759216,
          0.0010225932187759895,
          0.001048658178387536,
          0.001074723138579072,
          0.0011007880993365313,
          0.0011268530606465138,
          0.001152918022496239,
          0.0011789829848735047,
          0.0012050479477666478,
          0.0012311129111645103,
          0.0012571778750564062,
          0.0012832428394320928,
          0.0013093078042817434,
          0.0013353727695959226,
          0.0013614377353655634,
          0.0013875027015819458,
          0.0014135676682366777,
          0.001439632635321676,
          0.001465697602829151,
          0.0014917625707515894,
          0.0015178275390817409,
          0.0015438925078126039,
          0.0015699574769374135,
          0.0015960224464496291,
          0.001622087416342924,
          0.0016481523866111747,
          0.0016742173572484513,
          0.0017002823282490087,
          0.001726347299607278,
          0.0017524122713178582,
          0.0017784772433755093,
          0.0018045422157751444,
          0.0018306071885118241,
          0.0018566721615807494,
          0.001882737134977256,
          0.0019088021086968087,
          0.0019348670827349966,
          0.0019609320570875273,
          0.001986997031750222,
          0.0020130620067190124,
          0.002039126981989935,
          0.0020651919575591284,
          0.0020912569334228274,
          0.0021173219095773615,
          0.0021433868860191506,
          0.0021694518627447014,
          0.0021955168397506048,
          0.0022215818170335322,
          0.0022476467945902337,
          0.0022737117724175343,
          0.002299776750512332,
          0.002325841728871595,
          0.00235190670749236,
          0.002377971686371728,
          0.0024040366655068653,
          0.002430101644894998,
          0.0024561666245334133,
          0.0024822316044194547,
          0.0025082965845505223,
          0.0025343615649240695,
          0.0025604265455376027,
          0.002586491526388679,
          0.0026125565074749044
         ]
        },
        {
         "marker": {
          "color": "orange",
          "size": 6
         },
         "mode": "markers",
         "type": "scatter3d",
         "x": [
          0
         ],
         "y": [
          0
         ],
         "z": [
          0
         ]
        }
       ],
       "layout": {
        "scene": {
         "zaxis": {
          "range": [
           -0.026125565074749044,
           0.026125565074749044
          ]
         }
        },
        "template": {
         "data": {
          "bar": [
           {
            "error_x": {
             "color": "#2a3f5f"
            },
            "error_y": {
             "color": "#2a3f5f"
            },
            "marker": {
             "line": {
              "color": "#E5ECF6",
              "width": 0.5
             }
            },
            "type": "bar"
           }
          ],
          "barpolar": [
           {
            "marker": {
             "line": {
              "color": "#E5ECF6",
              "width": 0.5
             }
            },
            "type": "barpolar"
           }
          ],
          "carpet": [
           {
            "aaxis": {
             "endlinecolor": "#2a3f5f",
             "gridcolor": "white",
             "linecolor": "white",
             "minorgridcolor": "white",
             "startlinecolor": "#2a3f5f"
            },
            "baxis": {
             "endlinecolor": "#2a3f5f",
             "gridcolor": "white",
             "linecolor": "white",
             "minorgridcolor": "white",
             "startlinecolor": "#2a3f5f"
            },
            "type": "carpet"
           }
          ],
          "choropleth": [
           {
            "colorbar": {
             "outlinewidth": 0,
             "ticks": ""
            },
            "type": "choropleth"
           }
          ],
          "contour": [
           {
            "colorbar": {
             "outlinewidth": 0,
             "ticks": ""
            },
            "colorscale": [
             [
              0,
              "#0d0887"
             ],
             [
              0.1111111111111111,
              "#46039f"
             ],
             [
              0.2222222222222222,
              "#7201a8"
             ],
             [
              0.3333333333333333,
              "#9c179e"
             ],
             [
              0.4444444444444444,
              "#bd3786"
             ],
             [
              0.5555555555555556,
              "#d8576b"
             ],
             [
              0.6666666666666666,
              "#ed7953"
             ],
             [
              0.7777777777777778,
              "#fb9f3a"
             ],
             [
              0.8888888888888888,
              "#fdca26"
             ],
             [
              1,
              "#f0f921"
             ]
            ],
            "type": "contour"
           }
          ],
          "contourcarpet": [
           {
            "colorbar": {
             "outlinewidth": 0,
             "ticks": ""
            },
            "type": "contourcarpet"
           }
          ],
          "heatmap": [
           {
            "colorbar": {
             "outlinewidth": 0,
             "ticks": ""
            },
            "colorscale": [
             [
              0,
              "#0d0887"
             ],
             [
              0.1111111111111111,
              "#46039f"
             ],
             [
              0.2222222222222222,
              "#7201a8"
             ],
             [
              0.3333333333333333,
              "#9c179e"
             ],
             [
              0.4444444444444444,
              "#bd3786"
             ],
             [
              0.5555555555555556,
              "#d8576b"
             ],
             [
              0.6666666666666666,
              "#ed7953"
             ],
             [
              0.7777777777777778,
              "#fb9f3a"
             ],
             [
              0.8888888888888888,
              "#fdca26"
             ],
             [
              1,
              "#f0f921"
             ]
            ],
            "type": "heatmap"
           }
          ],
          "heatmapgl": [
           {
            "colorbar": {
             "outlinewidth": 0,
             "ticks": ""
            },
            "colorscale": [
             [
              0,
              "#0d0887"
             ],
             [
              0.1111111111111111,
              "#46039f"
             ],
             [
              0.2222222222222222,
              "#7201a8"
             ],
             [
              0.3333333333333333,
              "#9c179e"
             ],
             [
              0.4444444444444444,
              "#bd3786"
             ],
             [
              0.5555555555555556,
              "#d8576b"
             ],
             [
              0.6666666666666666,
              "#ed7953"
             ],
             [
              0.7777777777777778,
              "#fb9f3a"
             ],
             [
              0.8888888888888888,
              "#fdca26"
             ],
             [
              1,
              "#f0f921"
             ]
            ],
            "type": "heatmapgl"
           }
          ],
          "histogram": [
           {
            "marker": {
             "colorbar": {
              "outlinewidth": 0,
              "ticks": ""
             }
            },
            "type": "histogram"
           }
          ],
          "histogram2d": [
           {
            "colorbar": {
             "outlinewidth": 0,
             "ticks": ""
            },
            "colorscale": [
             [
              0,
              "#0d0887"
             ],
             [
              0.1111111111111111,
              "#46039f"
             ],
             [
              0.2222222222222222,
              "#7201a8"
             ],
             [
              0.3333333333333333,
              "#9c179e"
             ],
             [
              0.4444444444444444,
              "#bd3786"
             ],
             [
              0.5555555555555556,
              "#d8576b"
             ],
             [
              0.6666666666666666,
              "#ed7953"
             ],
             [
              0.7777777777777778,
              "#fb9f3a"
             ],
             [
              0.8888888888888888,
              "#fdca26"
             ],
             [
              1,
              "#f0f921"
             ]
            ],
            "type": "histogram2d"
           }
          ],
          "histogram2dcontour": [
           {
            "colorbar": {
             "outlinewidth": 0,
             "ticks": ""
            },
            "colorscale": [
             [
              0,
              "#0d0887"
             ],
             [
              0.1111111111111111,
              "#46039f"
             ],
             [
              0.2222222222222222,
              "#7201a8"
             ],
             [
              0.3333333333333333,
              "#9c179e"
             ],
             [
              0.4444444444444444,
              "#bd3786"
             ],
             [
              0.5555555555555556,
              "#d8576b"
             ],
             [
              0.6666666666666666,
              "#ed7953"
             ],
             [
              0.7777777777777778,
              "#fb9f3a"
             ],
             [
              0.8888888888888888,
              "#fdca26"
             ],
             [
              1,
              "#f0f921"
             ]
            ],
            "type": "histogram2dcontour"
           }
          ],
          "mesh3d": [
           {
            "colorbar": {
             "outlinewidth": 0,
             "ticks": ""
            },
            "type": "mesh3d"
           }
          ],
          "parcoords": [
           {
            "line": {
             "colorbar": {
              "outlinewidth": 0,
              "ticks": ""
             }
            },
            "type": "parcoords"
           }
          ],
          "pie": [
           {
            "automargin": true,
            "type": "pie"
           }
          ],
          "scatter": [
           {
            "marker": {
             "colorbar": {
              "outlinewidth": 0,
              "ticks": ""
             }
            },
            "type": "scatter"
           }
          ],
          "scatter3d": [
           {
            "line": {
             "colorbar": {
              "outlinewidth": 0,
              "ticks": ""
             }
            },
            "marker": {
             "colorbar": {
              "outlinewidth": 0,
              "ticks": ""
             }
            },
            "type": "scatter3d"
           }
          ],
          "scattercarpet": [
           {
            "marker": {
             "colorbar": {
              "outlinewidth": 0,
              "ticks": ""
             }
            },
            "type": "scattercarpet"
           }
          ],
          "scattergeo": [
           {
            "marker": {
             "colorbar": {
              "outlinewidth": 0,
              "ticks": ""
             }
            },
            "type": "scattergeo"
           }
          ],
          "scattergl": [
           {
            "marker": {
             "colorbar": {
              "outlinewidth": 0,
              "ticks": ""
             }
            },
            "type": "scattergl"
           }
          ],
          "scattermapbox": [
           {
            "marker": {
             "colorbar": {
              "outlinewidth": 0,
              "ticks": ""
             }
            },
            "type": "scattermapbox"
           }
          ],
          "scatterpolar": [
           {
            "marker": {
             "colorbar": {
              "outlinewidth": 0,
              "ticks": ""
             }
            },
            "type": "scatterpolar"
           }
          ],
          "scatterpolargl": [
           {
            "marker": {
             "colorbar": {
              "outlinewidth": 0,
              "ticks": ""
             }
            },
            "type": "scatterpolargl"
           }
          ],
          "scatterternary": [
           {
            "marker": {
             "colorbar": {
              "outlinewidth": 0,
              "ticks": ""
             }
            },
            "type": "scatterternary"
           }
          ],
          "surface": [
           {
            "colorbar": {
             "outlinewidth": 0,
             "ticks": ""
            },
            "colorscale": [
             [
              0,
              "#0d0887"
             ],
             [
              0.1111111111111111,
              "#46039f"
             ],
             [
              0.2222222222222222,
              "#7201a8"
             ],
             [
              0.3333333333333333,
              "#9c179e"
             ],
             [
              0.4444444444444444,
              "#bd3786"
             ],
             [
              0.5555555555555556,
              "#d8576b"
             ],
             [
              0.6666666666666666,
              "#ed7953"
             ],
             [
              0.7777777777777778,
              "#fb9f3a"
             ],
             [
              0.8888888888888888,
              "#fdca26"
             ],
             [
              1,
              "#f0f921"
             ]
            ],
            "type": "surface"
           }
          ],
          "table": [
           {
            "cells": {
             "fill": {
              "color": "#EBF0F8"
             },
             "line": {
              "color": "white"
             }
            },
            "header": {
             "fill": {
              "color": "#C8D4E3"
             },
             "line": {
              "color": "white"
             }
            },
            "type": "table"
           }
          ]
         },
         "layout": {
          "annotationdefaults": {
           "arrowcolor": "#2a3f5f",
           "arrowhead": 0,
           "arrowwidth": 1
          },
          "autotypenumbers": "strict",
          "coloraxis": {
           "colorbar": {
            "outlinewidth": 0,
            "ticks": ""
           }
          },
          "colorscale": {
           "diverging": [
            [
             0,
             "#8e0152"
            ],
            [
             0.1,
             "#c51b7d"
            ],
            [
             0.2,
             "#de77ae"
            ],
            [
             0.3,
             "#f1b6da"
            ],
            [
             0.4,
             "#fde0ef"
            ],
            [
             0.5,
             "#f7f7f7"
            ],
            [
             0.6,
             "#e6f5d0"
            ],
            [
             0.7,
             "#b8e186"
            ],
            [
             0.8,
             "#7fbc41"
            ],
            [
             0.9,
             "#4d9221"
            ],
            [
             1,
             "#276419"
            ]
           ],
           "sequential": [
            [
             0,
             "#0d0887"
            ],
            [
             0.1111111111111111,
             "#46039f"
            ],
            [
             0.2222222222222222,
             "#7201a8"
            ],
            [
             0.3333333333333333,
             "#9c179e"
            ],
            [
             0.4444444444444444,
             "#bd3786"
            ],
            [
             0.5555555555555556,
             "#d8576b"
            ],
            [
             0.6666666666666666,
             "#ed7953"
            ],
            [
             0.7777777777777778,
             "#fb9f3a"
            ],
            [
             0.8888888888888888,
             "#fdca26"
            ],
            [
             1,
             "#f0f921"
            ]
           ],
           "sequentialminus": [
            [
             0,
             "#0d0887"
            ],
            [
             0.1111111111111111,
             "#46039f"
            ],
            [
             0.2222222222222222,
             "#7201a8"
            ],
            [
             0.3333333333333333,
             "#9c179e"
            ],
            [
             0.4444444444444444,
             "#bd3786"
            ],
            [
             0.5555555555555556,
             "#d8576b"
            ],
            [
             0.6666666666666666,
             "#ed7953"
            ],
            [
             0.7777777777777778,
             "#fb9f3a"
            ],
            [
             0.8888888888888888,
             "#fdca26"
            ],
            [
             1,
             "#f0f921"
            ]
           ]
          },
          "colorway": [
           "#636efa",
           "#EF553B",
           "#00cc96",
           "#ab63fa",
           "#FFA15A",
           "#19d3f3",
           "#FF6692",
           "#B6E880",
           "#FF97FF",
           "#FECB52"
          ],
          "font": {
           "color": "#2a3f5f"
          },
          "geo": {
           "bgcolor": "white",
           "lakecolor": "white",
           "landcolor": "#E5ECF6",
           "showlakes": true,
           "showland": true,
           "subunitcolor": "white"
          },
          "hoverlabel": {
           "align": "left"
          },
          "hovermode": "closest",
          "mapbox": {
           "style": "light"
          },
          "paper_bgcolor": "white",
          "plot_bgcolor": "#E5ECF6",
          "polar": {
           "angularaxis": {
            "gridcolor": "white",
            "linecolor": "white",
            "ticks": ""
           },
           "bgcolor": "#E5ECF6",
           "radialaxis": {
            "gridcolor": "white",
            "linecolor": "white",
            "ticks": ""
           }
          },
          "scene": {
           "xaxis": {
            "backgroundcolor": "#E5ECF6",
            "gridcolor": "white",
            "gridwidth": 2,
            "linecolor": "white",
            "showbackground": true,
            "ticks": "",
            "zerolinecolor": "white"
           },
           "yaxis": {
            "backgroundcolor": "#E5ECF6",
            "gridcolor": "white",
            "gridwidth": 2,
            "linecolor": "white",
            "showbackground": true,
            "ticks": "",
            "zerolinecolor": "white"
           },
           "zaxis": {
            "backgroundcolor": "#E5ECF6",
            "gridcolor": "white",
            "gridwidth": 2,
            "linecolor": "white",
            "showbackground": true,
            "ticks": "",
            "zerolinecolor": "white"
           }
          },
          "shapedefaults": {
           "line": {
            "color": "#2a3f5f"
           }
          },
          "ternary": {
           "aaxis": {
            "gridcolor": "white",
            "linecolor": "white",
            "ticks": ""
           },
           "baxis": {
            "gridcolor": "white",
            "linecolor": "white",
            "ticks": ""
           },
           "bgcolor": "#E5ECF6",
           "caxis": {
            "gridcolor": "white",
            "linecolor": "white",
            "ticks": ""
           }
          },
          "title": {
           "x": 0.05
          },
          "xaxis": {
           "automargin": true,
           "gridcolor": "white",
           "linecolor": "white",
           "ticks": "",
           "title": {
            "standoff": 15
           },
           "zerolinecolor": "white",
           "zerolinewidth": 2
          },
          "yaxis": {
           "automargin": true,
           "gridcolor": "white",
           "linecolor": "white",
           "ticks": "",
           "title": {
            "standoff": 15
           },
           "zerolinecolor": "white",
           "zerolinewidth": 2
          }
         }
        }
       }
      },
      "text/html": [
       "<div>                            <div id=\"71d52201-676f-4c6a-be94-be00b8efa756\" class=\"plotly-graph-div\" style=\"height:525px; width:100%;\"></div>            <script type=\"text/javascript\">                require([\"plotly\"], function(Plotly) {                    window.PLOTLYENV=window.PLOTLYENV || {};                                    if (document.getElementById(\"71d52201-676f-4c6a-be94-be00b8efa756\")) {                    Plotly.newPlot(                        \"71d52201-676f-4c6a-be94-be00b8efa756\",                        [{\"marker\": {\"color\": [6.0606826413584824e-06, 3.212555053032773e-05, 5.8190437351548176e-05, 8.42553346248174e-05, 0.00011032023911673313, 0.00013638514912177704, 0.00016245006358632207, 0.0001885149817948473, 0.00021457990322969382, 0.00024064482749896218, 0.0002667097542956484, 0.000292774683372754, 0.00031883961452725955, 0.00034490454758933915, 0.0003709694824148348, 0.0003970344188798461, 0.0004230993568767405, 0.0004491642963111467, 0.00047522923709964615, 0.0005012941791679709, 0.0005273591224495761, 0.000553424066884495, 0.0005794890124184091, 0.0006055539590018867, 0.0006316189065897513, 0.000657683855140555, 0.0006837488046161352, 0.0007098137549812389, 0.000735878706203202, 0.0007619436582516744, 0.0007880086110983825, 0.0008140735647169232, 0.0008401385190825839, 0.0008662034741721856, 0.0008922684299639442, 0.0009183333864373482, 0.0009443983435730506, 0.0009704633013527723, 0.000996528259759216, 0.0010225932187759895, 0.001048658178387536, 0.001074723138579072, 0.0011007880993365313, 0.0011268530606465138, 0.001152918022496239, 0.0011789829848735047, 0.0012050479477666478, 0.0012311129111645103, 0.0012571778750564062, 0.0012832428394320928, 0.0013093078042817434, 0.0013353727695959226, 0.0013614377353655634, 0.0013875027015819458, 0.0014135676682366777, 0.001439632635321676, 0.001465697602829151, 0.0014917625707515894, 0.0015178275390817409, 0.0015438925078126039, 0.0015699574769374135, 0.0015960224464496291, 0.001622087416342924, 0.0016481523866111747, 0.0016742173572484513, 0.0017002823282490087, 0.001726347299607278, 0.0017524122713178582, 0.0017784772433755093, 0.0018045422157751444, 0.0018306071885118241, 0.0018566721615807494, 0.001882737134977256, 0.0019088021086968087, 0.0019348670827349966, 0.0019609320570875273, 0.001986997031750222, 0.0020130620067190124, 0.002039126981989935, 0.0020651919575591284, 0.0020912569334228274, 0.0021173219095773615, 0.0021433868860191506, 0.0021694518627447014, 0.0021955168397506048, 0.0022215818170335322, 0.0022476467945902337, 0.0022737117724175343, 0.002299776750512332, 0.002325841728871595, 0.00235190670749236, 0.002377971686371728, 0.0024040366655068653, 0.002430101644894998, 0.0024561666245334133, 0.0024822316044194547, 0.0025082965845505223, 0.0025343615649240695, 0.0025604265455376027, 0.002586491526388679, 0.0026125565074749044], \"colorscale\": [[0.0, \"#440154\"], [0.1111111111111111, \"#482878\"], [0.2222222222222222, \"#3e4989\"], [0.3333333333333333, \"#31688e\"], [0.4444444444444444, \"#26828e\"], [0.5555555555555556, \"#1f9e89\"], [0.6666666666666666, \"#35b779\"], [0.7777777777777778, \"#6ece58\"], [0.8888888888888888, \"#b5de2b\"], [1.0, \"#fde725\"]], \"size\": 2}, \"mode\": \"markers\", \"type\": \"scatter3d\", \"x\": [-0.0016932994924280336, -0.00897557200426399, -0.01625784451606401, -0.02354011702784419, -0.030822389539610667, -0.03810466205136668, -0.045386934563114226, -0.05266920707485467, -0.05995147958658899, -0.06723375209831793, -0.07451602461004207, -0.08179829712176188, -0.08908056963347775, -0.09636284214519, -0.1036451146568989, -0.1109273871686047, -0.11820965968030758, -0.12549193219200774, -0.13277420470370532, -0.1400564772154005, -0.14733874972709335, -0.15462102223878402, -0.1619032947504726, -0.1691855672621592, -0.17646783977384387, -0.1837501122855267, -0.1910323847972078, -0.1983146573088872, -0.205596929820565, -0.2128792023322412, -0.2201614748439159, -0.22744374735558914, -0.23472601986726097, -0.2420082923789314, -0.2492905648906005, -0.25657283740226833, -0.2638551099139349, -0.27113738242560026, -0.2784196549372644, -0.28570192744892736, -0.2929841999605892, -0.30026647247224997, -0.30754874498390966, -0.3148310174955683, -0.3221132900072259, -0.32939556251888247, -0.3366778350305381, -0.34396010754219275, -0.3512423800538465, -0.3585246525654993, -0.36580692507715123, -0.37308919758880227, -0.3803714701004524, -0.3876537426121017, -0.3949360151237502, -0.40221828763539785, -0.4095005601470447, -0.4167828326586908, -0.42406510517033613, -0.43134737768198067, -0.4386296501936245, -0.4459119227052675, -0.45319419521690985, -0.4604764677285515, -0.4677587402401924, -0.47504101275183264, -0.4823232852634722, -0.48960555777511106, -0.49688783028674927, -0.5041701027983868, -0.5114523753100237, -0.51873464782166, -0.5260169203332957, -0.5332991928449308, -0.5405814653565653, -0.5478637378681991, -0.5551460103798324, -0.5624282828914651, -0.5697105554030972, -0.5769928279147288, -0.5842751004263599, -0.5915573729379904, -0.5988396454496203, -0.6061219179612497, -0.6134041904728785, -0.6206864629845068, -0.6279687354961346, -0.6352510080077619, -0.6425332805193886, -0.6498155530310149, -0.6570978255426406, -0.6643800980542659, -0.6716623705658907, -0.678944643077515, -0.6862269155891388, -0.6935091881007622, -0.7007914606123852, -0.7080737331240077, -0.7153560056356296, -0.7226382781472511, -0.7299205506588722], \"y\": [-0.0015935551142944144, -0.008446862905866333, -0.015300170697404433, -0.022153478488923864, -0.029006786280430397, -0.035860094071927084, -0.04271340186341581, -0.049566709654897845, -0.056420017446374114, -0.06327332523784532, -0.070126633029312, -0.07697994082077463, -0.08383324861223353, -0.09068655640368903, -0.09753986419514138, -0.1043931719865908, -0.11124647977803749, -0.11809978756948161, -0.1249530953609233, -0.13180640315236272, -0.13865971094379997, -0.14551301873523514, -0.15236632652666837, -0.1592196343180997, -0.16607294210952928, -0.17292624990095712, -0.1797795576923833, -0.1866328654838079, -0.19348617327523096, -0.20033948106665256, -0.2071927888580727, -0.21404609664949148, -0.22089940444090891, -0.22775271223232507, -0.23460602002373998, -0.24145932781515367, -0.24831263560656616, -0.2551659433979775, -0.26201925118938774, -0.26887255898079687, -0.27572586677220495, -0.282579174563612, -0.289432482355018, -0.29628579014642303, -0.3031390979378271, -0.30999240572923026, -0.31684571352063245, -0.32369902131203376, -0.3305523291034342, -0.33740563689483377, -0.34425894468623247, -0.35111225247763034, -0.3579655602690274, -0.3648188680604237, -0.37167217585181916, -0.37852548364321387, -0.38537879143460785, -0.39223209922600105, -0.39908540701739353, -0.4059387148087853, -0.4127920226001764, -0.41964533039156676, -0.42649863818295647, -0.4333519459743455, -0.4402052537657339, -0.4470585615571216, -0.4539118693485087, -0.4607651771398952, -0.467618484931281, -0.4744717927226662, -0.48132510051405086, -0.4881784083054349, -0.49503171609681834, -0.5018850238882012, -0.5087383316795835, -0.5155916394709652, -0.5224449472623464, -0.529298255053727, -0.536151562845107, -0.5430048706364866, -0.5498581784278657, -0.5567114862192442, -0.5635647940106222, -0.5704181018019997, -0.5772714095933767, -0.5841247173847532, -0.5909780251761293, -0.5978313329675048, -0.6046846407588798, -0.6115379485502545, -0.6183912563416286, -0.6252445641330022, -0.6320978719243754, -0.6389511797157481, -0.6458044875071204, -0.6526577952984922, -0.6595111030898636, -0.6663644108812345, -0.6732177186726052, -0.6800710264639753, -0.686924334255345], \"z\": [6.0606826413584824e-06, 3.212555053032773e-05, 5.8190437351548176e-05, 8.42553346248174e-05, 0.00011032023911673313, 0.00013638514912177704, 0.00016245006358632207, 0.0001885149817948473, 0.00021457990322969382, 0.00024064482749896218, 0.0002667097542956484, 0.000292774683372754, 0.00031883961452725955, 0.00034490454758933915, 0.0003709694824148348, 0.0003970344188798461, 0.0004230993568767405, 0.0004491642963111467, 0.00047522923709964615, 0.0005012941791679709, 0.0005273591224495761, 0.000553424066884495, 0.0005794890124184091, 0.0006055539590018867, 0.0006316189065897513, 0.000657683855140555, 0.0006837488046161352, 0.0007098137549812389, 0.000735878706203202, 0.0007619436582516744, 0.0007880086110983825, 0.0008140735647169232, 0.0008401385190825839, 0.0008662034741721856, 0.0008922684299639442, 0.0009183333864373482, 0.0009443983435730506, 0.0009704633013527723, 0.000996528259759216, 0.0010225932187759895, 0.001048658178387536, 0.001074723138579072, 0.0011007880993365313, 0.0011268530606465138, 0.001152918022496239, 0.0011789829848735047, 0.0012050479477666478, 0.0012311129111645103, 0.0012571778750564062, 0.0012832428394320928, 0.0013093078042817434, 0.0013353727695959226, 0.0013614377353655634, 0.0013875027015819458, 0.0014135676682366777, 0.001439632635321676, 0.001465697602829151, 0.0014917625707515894, 0.0015178275390817409, 0.0015438925078126039, 0.0015699574769374135, 0.0015960224464496291, 0.001622087416342924, 0.0016481523866111747, 0.0016742173572484513, 0.0017002823282490087, 0.001726347299607278, 0.0017524122713178582, 0.0017784772433755093, 0.0018045422157751444, 0.0018306071885118241, 0.0018566721615807494, 0.001882737134977256, 0.0019088021086968087, 0.0019348670827349966, 0.0019609320570875273, 0.001986997031750222, 0.0020130620067190124, 0.002039126981989935, 0.0020651919575591284, 0.0020912569334228274, 0.0021173219095773615, 0.0021433868860191506, 0.0021694518627447014, 0.0021955168397506048, 0.0022215818170335322, 0.0022476467945902337, 0.0022737117724175343, 0.002299776750512332, 0.002325841728871595, 0.00235190670749236, 0.002377971686371728, 0.0024040366655068653, 0.002430101644894998, 0.0024561666245334133, 0.0024822316044194547, 0.0025082965845505223, 0.0025343615649240695, 0.0025604265455376027, 0.002586491526388679, 0.0026125565074749044]}, {\"marker\": {\"color\": \"orange\", \"size\": 6}, \"mode\": \"markers\", \"type\": \"scatter3d\", \"x\": [0], \"y\": [0], \"z\": [0]}],                        {\"scene\": {\"zaxis\": {\"range\": [-0.026125565074749044, 0.026125565074749044]}}, \"template\": {\"data\": {\"bar\": [{\"error_x\": {\"color\": \"#2a3f5f\"}, \"error_y\": {\"color\": \"#2a3f5f\"}, \"marker\": {\"line\": {\"color\": \"#E5ECF6\", \"width\": 0.5}}, \"type\": \"bar\"}], \"barpolar\": [{\"marker\": {\"line\": {\"color\": \"#E5ECF6\", \"width\": 0.5}}, \"type\": \"barpolar\"}], \"carpet\": [{\"aaxis\": {\"endlinecolor\": \"#2a3f5f\", \"gridcolor\": \"white\", \"linecolor\": \"white\", \"minorgridcolor\": \"white\", \"startlinecolor\": \"#2a3f5f\"}, \"baxis\": {\"endlinecolor\": \"#2a3f5f\", \"gridcolor\": \"white\", \"linecolor\": \"white\", \"minorgridcolor\": \"white\", \"startlinecolor\": \"#2a3f5f\"}, \"type\": \"carpet\"}], \"choropleth\": [{\"colorbar\": {\"outlinewidth\": 0, \"ticks\": \"\"}, \"type\": \"choropleth\"}], \"contour\": [{\"colorbar\": {\"outlinewidth\": 0, \"ticks\": \"\"}, \"colorscale\": [[0.0, \"#0d0887\"], [0.1111111111111111, \"#46039f\"], [0.2222222222222222, \"#7201a8\"], [0.3333333333333333, \"#9c179e\"], [0.4444444444444444, \"#bd3786\"], [0.5555555555555556, \"#d8576b\"], [0.6666666666666666, \"#ed7953\"], [0.7777777777777778, \"#fb9f3a\"], [0.8888888888888888, \"#fdca26\"], [1.0, \"#f0f921\"]], \"type\": \"contour\"}], \"contourcarpet\": [{\"colorbar\": {\"outlinewidth\": 0, \"ticks\": \"\"}, \"type\": \"contourcarpet\"}], \"heatmap\": [{\"colorbar\": {\"outlinewidth\": 0, \"ticks\": \"\"}, \"colorscale\": [[0.0, \"#0d0887\"], [0.1111111111111111, \"#46039f\"], [0.2222222222222222, \"#7201a8\"], [0.3333333333333333, \"#9c179e\"], [0.4444444444444444, \"#bd3786\"], [0.5555555555555556, \"#d8576b\"], [0.6666666666666666, \"#ed7953\"], [0.7777777777777778, \"#fb9f3a\"], [0.8888888888888888, \"#fdca26\"], [1.0, \"#f0f921\"]], \"type\": \"heatmap\"}], \"heatmapgl\": [{\"colorbar\": {\"outlinewidth\": 0, \"ticks\": \"\"}, \"colorscale\": [[0.0, \"#0d0887\"], [0.1111111111111111, \"#46039f\"], [0.2222222222222222, \"#7201a8\"], [0.3333333333333333, \"#9c179e\"], [0.4444444444444444, \"#bd3786\"], [0.5555555555555556, \"#d8576b\"], [0.6666666666666666, \"#ed7953\"], [0.7777777777777778, \"#fb9f3a\"], [0.8888888888888888, \"#fdca26\"], [1.0, \"#f0f921\"]], \"type\": \"heatmapgl\"}], \"histogram\": [{\"marker\": {\"colorbar\": {\"outlinewidth\": 0, \"ticks\": \"\"}}, \"type\": \"histogram\"}], \"histogram2d\": [{\"colorbar\": {\"outlinewidth\": 0, \"ticks\": \"\"}, \"colorscale\": [[0.0, \"#0d0887\"], [0.1111111111111111, \"#46039f\"], [0.2222222222222222, \"#7201a8\"], [0.3333333333333333, \"#9c179e\"], [0.4444444444444444, \"#bd3786\"], [0.5555555555555556, \"#d8576b\"], [0.6666666666666666, \"#ed7953\"], [0.7777777777777778, \"#fb9f3a\"], [0.8888888888888888, \"#fdca26\"], [1.0, \"#f0f921\"]], \"type\": \"histogram2d\"}], \"histogram2dcontour\": [{\"colorbar\": {\"outlinewidth\": 0, \"ticks\": \"\"}, \"colorscale\": [[0.0, \"#0d0887\"], [0.1111111111111111, \"#46039f\"], [0.2222222222222222, \"#7201a8\"], [0.3333333333333333, \"#9c179e\"], [0.4444444444444444, \"#bd3786\"], [0.5555555555555556, \"#d8576b\"], [0.6666666666666666, \"#ed7953\"], [0.7777777777777778, \"#fb9f3a\"], [0.8888888888888888, \"#fdca26\"], [1.0, \"#f0f921\"]], \"type\": \"histogram2dcontour\"}], \"mesh3d\": [{\"colorbar\": {\"outlinewidth\": 0, \"ticks\": \"\"}, \"type\": \"mesh3d\"}], \"parcoords\": [{\"line\": {\"colorbar\": {\"outlinewidth\": 0, \"ticks\": \"\"}}, \"type\": \"parcoords\"}], \"pie\": [{\"automargin\": true, \"type\": \"pie\"}], \"scatter\": [{\"marker\": {\"colorbar\": {\"outlinewidth\": 0, \"ticks\": \"\"}}, \"type\": \"scatter\"}], \"scatter3d\": [{\"line\": {\"colorbar\": {\"outlinewidth\": 0, \"ticks\": \"\"}}, \"marker\": {\"colorbar\": {\"outlinewidth\": 0, \"ticks\": \"\"}}, \"type\": \"scatter3d\"}], \"scattercarpet\": [{\"marker\": {\"colorbar\": {\"outlinewidth\": 0, \"ticks\": \"\"}}, \"type\": \"scattercarpet\"}], \"scattergeo\": [{\"marker\": {\"colorbar\": {\"outlinewidth\": 0, \"ticks\": \"\"}}, \"type\": \"scattergeo\"}], \"scattergl\": [{\"marker\": {\"colorbar\": {\"outlinewidth\": 0, \"ticks\": \"\"}}, \"type\": \"scattergl\"}], \"scattermapbox\": [{\"marker\": {\"colorbar\": {\"outlinewidth\": 0, \"ticks\": \"\"}}, \"type\": \"scattermapbox\"}], \"scatterpolar\": [{\"marker\": {\"colorbar\": {\"outlinewidth\": 0, \"ticks\": \"\"}}, \"type\": \"scatterpolar\"}], \"scatterpolargl\": [{\"marker\": {\"colorbar\": {\"outlinewidth\": 0, \"ticks\": \"\"}}, \"type\": \"scatterpolargl\"}], \"scatterternary\": [{\"marker\": {\"colorbar\": {\"outlinewidth\": 0, \"ticks\": \"\"}}, \"type\": \"scatterternary\"}], \"surface\": [{\"colorbar\": {\"outlinewidth\": 0, \"ticks\": \"\"}, \"colorscale\": [[0.0, \"#0d0887\"], [0.1111111111111111, \"#46039f\"], [0.2222222222222222, \"#7201a8\"], [0.3333333333333333, \"#9c179e\"], [0.4444444444444444, \"#bd3786\"], [0.5555555555555556, \"#d8576b\"], [0.6666666666666666, \"#ed7953\"], [0.7777777777777778, \"#fb9f3a\"], [0.8888888888888888, \"#fdca26\"], [1.0, \"#f0f921\"]], \"type\": \"surface\"}], \"table\": [{\"cells\": {\"fill\": {\"color\": \"#EBF0F8\"}, \"line\": {\"color\": \"white\"}}, \"header\": {\"fill\": {\"color\": \"#C8D4E3\"}, \"line\": {\"color\": \"white\"}}, \"type\": \"table\"}]}, \"layout\": {\"annotationdefaults\": {\"arrowcolor\": \"#2a3f5f\", \"arrowhead\": 0, \"arrowwidth\": 1}, \"autotypenumbers\": \"strict\", \"coloraxis\": {\"colorbar\": {\"outlinewidth\": 0, \"ticks\": \"\"}}, \"colorscale\": {\"diverging\": [[0, \"#8e0152\"], [0.1, \"#c51b7d\"], [0.2, \"#de77ae\"], [0.3, \"#f1b6da\"], [0.4, \"#fde0ef\"], [0.5, \"#f7f7f7\"], [0.6, \"#e6f5d0\"], [0.7, \"#b8e186\"], [0.8, \"#7fbc41\"], [0.9, \"#4d9221\"], [1, \"#276419\"]], \"sequential\": [[0.0, \"#0d0887\"], [0.1111111111111111, \"#46039f\"], [0.2222222222222222, \"#7201a8\"], [0.3333333333333333, \"#9c179e\"], [0.4444444444444444, \"#bd3786\"], [0.5555555555555556, \"#d8576b\"], [0.6666666666666666, \"#ed7953\"], [0.7777777777777778, \"#fb9f3a\"], [0.8888888888888888, \"#fdca26\"], [1.0, \"#f0f921\"]], \"sequentialminus\": [[0.0, \"#0d0887\"], [0.1111111111111111, \"#46039f\"], [0.2222222222222222, \"#7201a8\"], [0.3333333333333333, \"#9c179e\"], [0.4444444444444444, \"#bd3786\"], [0.5555555555555556, \"#d8576b\"], [0.6666666666666666, \"#ed7953\"], [0.7777777777777778, \"#fb9f3a\"], [0.8888888888888888, \"#fdca26\"], [1.0, \"#f0f921\"]]}, \"colorway\": [\"#636efa\", \"#EF553B\", \"#00cc96\", \"#ab63fa\", \"#FFA15A\", \"#19d3f3\", \"#FF6692\", \"#B6E880\", \"#FF97FF\", \"#FECB52\"], \"font\": {\"color\": \"#2a3f5f\"}, \"geo\": {\"bgcolor\": \"white\", \"lakecolor\": \"white\", \"landcolor\": \"#E5ECF6\", \"showlakes\": true, \"showland\": true, \"subunitcolor\": \"white\"}, \"hoverlabel\": {\"align\": \"left\"}, \"hovermode\": \"closest\", \"mapbox\": {\"style\": \"light\"}, \"paper_bgcolor\": \"white\", \"plot_bgcolor\": \"#E5ECF6\", \"polar\": {\"angularaxis\": {\"gridcolor\": \"white\", \"linecolor\": \"white\", \"ticks\": \"\"}, \"bgcolor\": \"#E5ECF6\", \"radialaxis\": {\"gridcolor\": \"white\", \"linecolor\": \"white\", \"ticks\": \"\"}}, \"scene\": {\"xaxis\": {\"backgroundcolor\": \"#E5ECF6\", \"gridcolor\": \"white\", \"gridwidth\": 2, \"linecolor\": \"white\", \"showbackground\": true, \"ticks\": \"\", \"zerolinecolor\": \"white\"}, \"yaxis\": {\"backgroundcolor\": \"#E5ECF6\", \"gridcolor\": \"white\", \"gridwidth\": 2, \"linecolor\": \"white\", \"showbackground\": true, \"ticks\": \"\", \"zerolinecolor\": \"white\"}, \"zaxis\": {\"backgroundcolor\": \"#E5ECF6\", \"gridcolor\": \"white\", \"gridwidth\": 2, \"linecolor\": \"white\", \"showbackground\": true, \"ticks\": \"\", \"zerolinecolor\": \"white\"}}, \"shapedefaults\": {\"line\": {\"color\": \"#2a3f5f\"}}, \"ternary\": {\"aaxis\": {\"gridcolor\": \"white\", \"linecolor\": \"white\", \"ticks\": \"\"}, \"baxis\": {\"gridcolor\": \"white\", \"linecolor\": \"white\", \"ticks\": \"\"}, \"bgcolor\": \"#E5ECF6\", \"caxis\": {\"gridcolor\": \"white\", \"linecolor\": \"white\", \"ticks\": \"\"}}, \"title\": {\"x\": 0.05}, \"xaxis\": {\"automargin\": true, \"gridcolor\": \"white\", \"linecolor\": \"white\", \"ticks\": \"\", \"title\": {\"standoff\": 15}, \"zerolinecolor\": \"white\", \"zerolinewidth\": 2}, \"yaxis\": {\"automargin\": true, \"gridcolor\": \"white\", \"linecolor\": \"white\", \"ticks\": \"\", \"title\": {\"standoff\": 15}, \"zerolinecolor\": \"white\", \"zerolinewidth\": 2}}}},                        {\"responsive\": true}                    ).then(function(){\n",
       "                            \n",
       "var gd = document.getElementById('71d52201-676f-4c6a-be94-be00b8efa756');\n",
       "var x = new MutationObserver(function (mutations, observer) {{\n",
       "        var display = window.getComputedStyle(gd).display;\n",
       "        if (!display || display === 'none') {{\n",
       "            console.log([gd, 'removed!']);\n",
       "            Plotly.purge(gd);\n",
       "            observer.disconnect();\n",
       "        }}\n",
       "}});\n",
       "\n",
       "// Listen for the removal of the full notebook cells\n",
       "var notebookContainer = gd.closest('#notebook-container');\n",
       "if (notebookContainer) {{\n",
       "    x.observe(notebookContainer, {childList: true});\n",
       "}}\n",
       "\n",
       "// Listen for the clearing of the current output cell\n",
       "var outputEl = gd.closest('.output');\n",
       "if (outputEl) {{\n",
       "    x.observe(outputEl, {childList: true});\n",
       "}}\n",
       "\n",
       "                        })                };                });            </script>        </div>"
      ]
     },
     "metadata": {},
     "output_type": "display_data"
    },
    {
     "name": "stdout",
     "output_type": "stream",
     "text": [
      "Complete\n"
     ]
    }
   ],
   "source": [
    "row = 15\n",
    "\n",
    "conditionSph = np.asarray(dataDFSph2.iloc[row][:-2])\n",
    "conditionCar = conditionSph2Car(conditionSph)\n",
    "output = trajectorySolver(conditionCar,q,m,dt)\n",
    "trajectory = output[0]\n",
    "velocity   = output[1]\n",
    "\n",
    "x,y,z = trajectory[0],trajectory[1],trajectory[2]\n",
    "\n",
    "trace1 = go.Scatter3d(\n",
    "    x=x,\n",
    "    y=y,\n",
    "    z=z,\n",
    "    mode = 'markers',\n",
    "    marker=dict(\n",
    "        size=2,\n",
    "        color = z,\n",
    "        colorscale='Viridis'\n",
    "    )\n",
    ")\n",
    "\n",
    "data1 = [trace1]\n",
    "fig1 = go.Figure(data=data1)\n",
    "fig1.update_layout(\n",
    "    scene = dict(\n",
    "        zaxis = dict(range=[-10*max(z),10*max(z)])\n",
    "    )\n",
    ")\n",
    "\n",
    "fig1.add_trace(\n",
    "    go.Scatter3d(\n",
    "        x=[0],\n",
    "        y=[0],\n",
    "        z=[0],\n",
    "        mode = 'markers',\n",
    "        marker = dict(\n",
    "            size = 6,\n",
    "            color = 'orange')\n",
    "                )\n",
    "            )\n",
    "offline.iplot(fig1, filename='simple-3d-scatter')\n",
    "\n",
    "print ('Complete')"
   ]
  },
  {
   "cell_type": "markdown",
   "metadata": {
    "heading_collapsed": true,
    "hidden": true
   },
   "source": [
    "### Determine Detector Plane and Hit Locations"
   ]
  },
  {
   "cell_type": "code",
   "execution_count": 77,
   "metadata": {
    "ExecuteTime": {
     "end_time": "2022-02-01T21:41:47.199007Z",
     "start_time": "2022-02-01T21:41:31.601519Z"
    },
    "hidden": true
   },
   "outputs": [
    {
     "name": "stdout",
     "output_type": "stream",
     "text": [
      "WARNING: Plane distance larger than 1.50e+06 km away from earth\n",
      "Plane distance: 0.9973252350000004 au\n",
      "Complete\n"
     ]
    }
   ],
   "source": [
    "plane = determineDetectorPlane(dataDFSph2,q,m,dt,rHatPerp = True) \n",
    "\n",
    "hitVector = []\n",
    "for row in np.arange(0,(dataDFSph2.shape[0])):\n",
    "    ICSph = np.asarray(dataDFSph2.iloc[row][:-2]) \n",
    "    hitLocation = trajectoryHit(ICSph,plane,q,m,dt)\n",
    "    hitVector.append(hitLocation)\n",
    "\n",
    "\n",
    "print ('Complete')"
   ]
  },
  {
   "cell_type": "markdown",
   "metadata": {
    "heading_collapsed": true,
    "hidden": true
   },
   "source": [
    "### Plot Hits on the Detector Plane"
   ]
  },
  {
   "cell_type": "code",
   "execution_count": 78,
   "metadata": {
    "ExecuteTime": {
     "end_time": "2022-02-01T21:41:48.676999Z",
     "start_time": "2022-02-01T21:41:48.650603Z"
    },
    "hidden": true
   },
   "outputs": [
    {
     "data": {
      "application/vnd.plotly.v1+json": {
       "config": {
        "plotlyServerURL": "https://plot.ly"
       },
       "data": [
        {
         "marker": {
          "color": [
           -0.0024998542088629557,
           -0.0012421215388677064,
           -0.0008358748924261312,
           -0.0003374988866324759,
           -0.0011919908611205913,
           -0.0005371174181964613,
           -0.0012281361544124341,
           -0.0005491952119860238,
           -0.00019890751231437957,
           0.001320821342466054,
           0.001007752283043839,
           0.0016121467605866094,
           0.00045747060520859995,
           0.0014441160077329758,
           0.001740838165024648,
           0.002599685226198415,
           0.0027298795377957642,
           0.004081090602716441,
           0.0046485049181982045,
           0.005845564146770662,
           0.007291681427776488,
           0.007428473592682493,
           0.006168230464894336,
           0.005948420985476957,
           0.006333660933153099,
           0.006473106093412877,
           0.007431117942700548,
           0.007037924607107704,
           0.006198177964765541,
           0.005467940121401089,
           0.005387365975541724,
           0.005741242004030749,
           0.006732400012922499,
           0.008199388430253154,
           0.006899163465338003,
           0.0058730600707112245,
           0.006372074976936178,
           0.00725550314321518,
           0.005968119587773808,
           0.007010170184022743,
           0.0058662439564482645,
           0.006567728584289795,
           0.007842497686547458,
           0.007512275028259329,
           0.007934818122193935,
           0.0076752289039913974,
           0.006271266437095443,
           0.005490302577778907,
           0.0048948412560999195,
           0.005372647025537594,
           0.004107042538953814,
           0.0040428215657191775,
           0.005037152755145269,
           0.003781757220348966,
           0.0030742902367100118,
           0.002543362281184742,
           0.0015568180854133658,
           0.0006484506035804009,
           0.001998942708326883,
           0.0029889107882580053,
           0.003574398307984995,
           0.0037455326042124186,
           0.0038179734021327196,
           0.0038601926211223347,
           0.0024645794466994562,
           0.003969005021527905,
           0.0029541631404926797,
           0.002540442102484046,
           0.0015997471082416712,
           0.001298116024338829,
           0.00033220211193810004,
           0.0018419025722683161,
           0.003277696600780909,
           0.0023487323110003887,
           0.002599512002429411,
           0.00200909482937077,
           0.0025455289557636054,
           0.0037475593453525106,
           0.005185035181350161,
           0.006255962204909338,
           0.007238602302003897,
           0.0074330662102128995,
           0.008024212909611594,
           0.009574644218471599,
           0.009841973805870723,
           0.010759103349923015,
           0.009361519858538973,
           0.010924854758609995,
           0.01107017792109532,
           0.010448504976266468,
           0.011006181296643894,
           0.010829696912178463,
           0.011907322485115137,
           0.01218822842368879,
           0.013563417047228849,
           0.01488699759251315,
           0.015228643031950593,
           0.016522117351217704,
           0.015383394789656318,
           0.01609113985416304,
           0.01491669829006764,
           0.015087362136847892,
           0.014996195331321021,
           0.014699221449565009,
           0.014892461535664469,
           0.015180407763594335,
           0.01499195262413149,
           0.013629339117876765,
           0.012844060043240329,
           0.011551767130625298,
           0.012720712272036699,
           0.012871414395887258,
           0.01174852253718996,
           0.012188350927630634,
           0.011306807178794696,
           0.011262557552973493,
           0.010869550558708242,
           0.012091119050054984,
           0.011027730999210457,
           0.012346101351701408,
           0.013066739827723602,
           0.012477443979216277,
           0.011866734633408205,
           0.012832634825147748,
           0.014314149431874212,
           0.013483207558988831,
           0.012894516005661612,
           0.013542420499939301,
           0.014792837415762379,
           0.013225551183987983,
           0.012822728025299442,
           0.01385972074881496,
           0.012342835627761398,
           0.012645472525012226,
           0.011442267097883334,
           0.010883309460135323,
           0.01195592307136078,
           0.011116340218453943,
           0.012607445405952334,
           0.012089902651665124,
           0.012711116496293938,
           0.01334617319519245,
           0.013058951512960172,
           0.01356194445114081,
           0.01439968226725347,
           0.013828899982913272,
           0.012461081244808646,
           0.01275430855904405,
           0.011977122359549236,
           0.011123628564208815
          ],
          "colorscale": [
           [
            0,
            "#440154"
           ],
           [
            0.1111111111111111,
            "#482878"
           ],
           [
            0.2222222222222222,
            "#3e4989"
           ],
           [
            0.3333333333333333,
            "#31688e"
           ],
           [
            0.4444444444444444,
            "#26828e"
           ],
           [
            0.5555555555555556,
            "#1f9e89"
           ],
           [
            0.6666666666666666,
            "#35b779"
           ],
           [
            0.7777777777777778,
            "#6ece58"
           ],
           [
            0.8888888888888888,
            "#b5de2b"
           ],
           [
            1,
            "#fde725"
           ]
          ],
          "size": 2
         },
         "mode": "markers",
         "type": "scatter3d",
         "x": [
          -0.7194820217210243,
          -0.7175398491745719,
          -0.7195830231488434,
          -0.7179545485903889,
          -0.7192560994932693,
          -0.7207564092804652,
          -0.720946867365303,
          -0.7226449298952797,
          -0.7229622424520106,
          -0.7238689145215441,
          -0.7220609409484484,
          -0.7226392050787221,
          -0.7242015113044376,
          -0.7249436532598558,
          -0.7253819956512492,
          -0.726324454520569,
          -0.7245030834914402,
          -0.7245388933210222,
          -0.7233839531315147,
          -0.7226792361262001,
          -0.7210015154414665,
          -0.7200244951617895,
          -0.7201721265213428,
          -0.7217457774690766,
          -0.7227185342555762,
          -0.7245562987126832,
          -0.725122156582505,
          -0.7259157263568949,
          -0.727075268947359,
          -0.7282975179021558,
          -0.7266836657874016,
          -0.7270998196228888,
          -0.7257685031765879,
          -0.7278096761965785,
          -0.7271541484644989,
          -0.7283313347848135,
          -0.7262260116075712,
          -0.7277810927590426,
          -0.7269692559747014,
          -0.7263966007839406,
          -0.7265382239406996,
          -0.7270948665295109,
          -0.7254353322602377,
          -0.7263702753434432,
          -0.7273314077454932,
          -0.7284104262761321,
          -0.7285662669957943,
          -0.7286049022087209,
          -0.7299341889267242,
          -0.7298099781519568,
          -0.7287835734906548,
          -0.7295930757124718,
          -0.7309023869190472,
          -0.7306429520317936,
          -0.7305612927400381,
          -0.7288767107967712,
          -0.7277802606014332,
          -0.7276683130192251,
          -0.7279564674587566,
          -0.7284760191644816,
          -0.7304560643463153,
          -0.7325470445363962,
          -0.7319223322531897,
          -0.7322809169093414,
          -0.7326168334643757,
          -0.7320114924292406,
          -0.7330742051438298,
          -0.7329766223837036,
          -0.7333255146147695,
          -0.7344638220726637,
          -0.733800791449686,
          -0.7344216773459914,
          -0.7345767787601912,
          -0.7361449359708737,
          -0.7361433176733496,
          -0.7359292996441241,
          -0.7371049942511604,
          -0.7355326456145919,
          -0.7365307070031941,
          -0.7370330126060582,
          -0.7353336193988215,
          -0.7371603950847943,
          -0.7364630015320827,
          -0.7385863606298132,
          -0.7378475330717118,
          -0.7387069640372105,
          -0.7394508581493375,
          -0.7409824792605557,
          -0.7402879041138951,
          -0.7397579135437542,
          -0.7391957489017913,
          -0.7382773859718991,
          -0.739202346653835,
          -0.7372275486429725,
          -0.7374565180850833,
          -0.7372114619324575,
          -0.7354637376023413,
          -0.7333906267781576,
          -0.7335226798465385,
          -0.7351828067594736,
          -0.7343517863961253,
          -0.7323874663950756,
          -0.7343114665271758,
          -0.7336436955234669,
          -0.735093971002647,
          -0.7367167682057392,
          -0.7383267738537775,
          -0.739312423082835,
          -0.7398700408203963,
          -0.7413489353047079,
          -0.7402227104786054,
          -0.741825854431761,
          -0.7436053254010546,
          -0.7443968420864037,
          -0.7433964674503446,
          -0.7454475949393911,
          -0.7459343864540412,
          -0.7454926714955812,
          -0.747035627706576,
          -0.7463416506716998,
          -0.7447079904851768,
          -0.7467805696158543,
          -0.7468248725078526,
          -0.7480752066583124,
          -0.7472433121884949,
          -0.746530542476151,
          -0.747511855308618,
          -0.7456282327550381,
          -0.7466336429358441,
          -0.7468507513297986,
          -0.7463787311474591,
          -0.746216404381747,
          -0.74453882351334,
          -0.7460812422228208,
          -0.7446109410153942,
          -0.7459229259029213,
          -0.7474394937019467,
          -0.7463419935295624,
          -0.7447859334480134,
          -0.7465522483966528,
          -0.7448100641448204,
          -0.7439588739524131,
          -0.7456947603893728,
          -0.747025993784412,
          -0.7479563462043592,
          -0.7497344182649728,
          -0.7509702795237939,
          -0.7521608333068499,
          -0.7538509143002152,
          -0.7522658873077419
         ],
         "y": [
          -0.6906496908831337,
          -0.6926774951333179,
          -0.69055049586909,
          -0.6922487577382788,
          -0.6908897785151996,
          -0.6893292061367645,
          -0.6891282958694321,
          -0.6873618023419482,
          -0.6870325109303165,
          -0.6860934890765273,
          -0.6879758063666733,
          -0.6873755892769797,
          -0.6857438825249923,
          -0.6849743298388159,
          -0.6845187621147071,
          -0.6835400673738435,
          -0.685437945841672,
          -0.6854055318723139,
          -0.6866107407742598,
          -0.6873492102125411,
          -0.6891022044851638,
          -0.6901205072453583,
          -0.6899621512298965,
          -0.6883220099658607,
          -0.6873100382167743,
          -0.6853960579284675,
          -0.6848100449618723,
          -0.6839819230945643,
          -0.6827709339310603,
          -0.6814950169954237,
          -0.6831759504324314,
          -0.6827437044351267,
          -0.684134186486349,
          -0.6820131111376251,
          -0.6826912987214361,
          -0.6814612547298349,
          -0.6836562743765006,
          -0.6820394713808265,
          -0.6828805398810717,
          -0.6834808732981998,
          -0.683329197325091,
          -0.6827518558289054,
          -0.6844852842570665,
          -0.6835101151415346,
          -0.682510388077654,
          -0.6813853845058654,
          -0.6812179562147107,
          -0.6811748813573852,
          -0.679787946020337,
          -0.6799190716333771,
          -0.6809837443376748,
          -0.6801402156343377,
          -0.6787798440836628,
          -0.6790455655250783,
          -0.6791280730955008,
          -0.6808810590097696,
          -0.6820197114944938,
          -0.6821330446176888,
          -0.6818377488866659,
          -0.6813000908805101,
          -0.6792395046008514,
          -0.6770618523647023,
          -0.6777129065154309,
          -0.6773395049561773,
          -0.6769845134824244,
          -0.6776205708675123,
          -0.676509820136316,
          -0.6766099791607469,
          -0.6762431169273236,
          -0.6750561971390409,
          -0.6757434108964474,
          -0.6751020695410124,
          -0.6749456901134374,
          -0.6733087050969637,
          -0.673311298667431,
          -0.6735321141828942,
          -0.672309279891014,
          -0.6739516196930733,
          -0.6729170955991858,
          -0.6723976966998906,
          -0.6741715906632073,
          -0.6722692570348883,
          -0.6729979041485377,
          -0.6707915137535843,
          -0.6715621525263604,
          -0.6706701627860215,
          -0.6698901549154267,
          -0.6683002523081065,
          -0.6690243496675602,
          -0.6695742153957049,
          -0.6701618670923519,
          -0.6711179298271326,
          -0.6701582556487803,
          -0.6722165116764071,
          -0.6719829611106384,
          -0.672243038334873,
          -0.674064960960544,
          -0.676229299096054,
          -0.6760876115657574,
          -0.6743607415998435,
          -0.675222203331138,
          -0.6772691448979837,
          -0.6752644941657332,
          -0.6759590674736188,
          -0.6744489472556011,
          -0.6727594459000845,
          -0.6710815457369431,
          -0.6700498168524667,
          -0.6694660780545062,
          -0.6679207670937548,
          -0.6690982391435699,
          -0.6674287147313991,
          -0.6655708923744824,
          -0.6647479244854777,
          -0.6657868706317676,
          -0.6636499552175973,
          -0.66314141925799,
          -0.6636059959003995,
          -0.6619947773855758,
          -0.6627224975893056,
          -0.6644269660636586,
          -0.6622657306406542,
          -0.6622173677454376,
          -0.6609183324391409,
          -0.6617903181845596,
          -0.6625298360137319,
          -0.6615054258199091,
          -0.6634700284943138,
          -0.6624271717478867,
          -0.6621953268988818,
          -0.6626855943099642,
          -0.662858451145744,
          -0.6646005749735404,
          -0.6629948608206852,
          -0.6645221871353587,
          -0.6631534080503497,
          -0.6615774109814487,
          -0.6627176892129941,
          -0.6643441067931352,
          -0.6625021807798922,
          -0.6643193439645425,
          -0.6652083671520846,
          -0.6633989736028384,
          -0.6620139862524367,
          -0.6610478269586304,
          -0.6591934603088834,
          -0.6579010550326987,
          -0.6566618609397126,
          -0.6548984115988272,
          -0.6565465189244308
         ],
         "z": [
          -0.0024998542088629557,
          -0.0012421215388677064,
          -0.0008358748924261312,
          -0.0003374988866324759,
          -0.0011919908611205913,
          -0.0005371174181964613,
          -0.0012281361544124341,
          -0.0005491952119860238,
          -0.00019890751231437957,
          0.001320821342466054,
          0.001007752283043839,
          0.0016121467605866094,
          0.00045747060520859995,
          0.0014441160077329758,
          0.001740838165024648,
          0.002599685226198415,
          0.0027298795377957642,
          0.004081090602716441,
          0.0046485049181982045,
          0.005845564146770662,
          0.007291681427776488,
          0.007428473592682493,
          0.006168230464894336,
          0.005948420985476957,
          0.006333660933153099,
          0.006473106093412877,
          0.007431117942700548,
          0.007037924607107704,
          0.006198177964765541,
          0.005467940121401089,
          0.005387365975541724,
          0.005741242004030749,
          0.006732400012922499,
          0.008199388430253154,
          0.006899163465338003,
          0.0058730600707112245,
          0.006372074976936178,
          0.00725550314321518,
          0.005968119587773808,
          0.007010170184022743,
          0.0058662439564482645,
          0.006567728584289795,
          0.007842497686547458,
          0.007512275028259329,
          0.007934818122193935,
          0.0076752289039913974,
          0.006271266437095443,
          0.005490302577778907,
          0.0048948412560999195,
          0.005372647025537594,
          0.004107042538953814,
          0.0040428215657191775,
          0.005037152755145269,
          0.003781757220348966,
          0.0030742902367100118,
          0.002543362281184742,
          0.0015568180854133658,
          0.0006484506035804009,
          0.001998942708326883,
          0.0029889107882580053,
          0.003574398307984995,
          0.0037455326042124186,
          0.0038179734021327196,
          0.0038601926211223347,
          0.0024645794466994562,
          0.003969005021527905,
          0.0029541631404926797,
          0.002540442102484046,
          0.0015997471082416712,
          0.001298116024338829,
          0.00033220211193810004,
          0.0018419025722683161,
          0.003277696600780909,
          0.0023487323110003887,
          0.002599512002429411,
          0.00200909482937077,
          0.0025455289557636054,
          0.0037475593453525106,
          0.005185035181350161,
          0.006255962204909338,
          0.007238602302003897,
          0.0074330662102128995,
          0.008024212909611594,
          0.009574644218471599,
          0.009841973805870723,
          0.010759103349923015,
          0.009361519858538973,
          0.010924854758609995,
          0.01107017792109532,
          0.010448504976266468,
          0.011006181296643894,
          0.010829696912178463,
          0.011907322485115137,
          0.01218822842368879,
          0.013563417047228849,
          0.01488699759251315,
          0.015228643031950593,
          0.016522117351217704,
          0.015383394789656318,
          0.01609113985416304,
          0.01491669829006764,
          0.015087362136847892,
          0.014996195331321021,
          0.014699221449565009,
          0.014892461535664469,
          0.015180407763594335,
          0.01499195262413149,
          0.013629339117876765,
          0.012844060043240329,
          0.011551767130625298,
          0.012720712272036699,
          0.012871414395887258,
          0.01174852253718996,
          0.012188350927630634,
          0.011306807178794696,
          0.011262557552973493,
          0.010869550558708242,
          0.012091119050054984,
          0.011027730999210457,
          0.012346101351701408,
          0.013066739827723602,
          0.012477443979216277,
          0.011866734633408205,
          0.012832634825147748,
          0.014314149431874212,
          0.013483207558988831,
          0.012894516005661612,
          0.013542420499939301,
          0.014792837415762379,
          0.013225551183987983,
          0.012822728025299442,
          0.01385972074881496,
          0.012342835627761398,
          0.012645472525012226,
          0.011442267097883334,
          0.010883309460135323,
          0.01195592307136078,
          0.011116340218453943,
          0.012607445405952334,
          0.012089902651665124,
          0.012711116496293938,
          0.01334617319519245,
          0.013058951512960172,
          0.01356194445114081,
          0.01439968226725347,
          0.013828899982913272,
          0.012461081244808646,
          0.01275430855904405,
          0.011977122359549236,
          0.011123628564208815
         ]
        },
        {
         "marker": {
          "color": "orange",
          "size": 6
         },
         "mode": "markers",
         "type": "scatter3d",
         "x": [
          0
         ],
         "y": [
          0
         ],
         "z": [
          0
         ]
        }
       ],
       "layout": {
        "template": {
         "data": {
          "bar": [
           {
            "error_x": {
             "color": "#2a3f5f"
            },
            "error_y": {
             "color": "#2a3f5f"
            },
            "marker": {
             "line": {
              "color": "#E5ECF6",
              "width": 0.5
             }
            },
            "type": "bar"
           }
          ],
          "barpolar": [
           {
            "marker": {
             "line": {
              "color": "#E5ECF6",
              "width": 0.5
             }
            },
            "type": "barpolar"
           }
          ],
          "carpet": [
           {
            "aaxis": {
             "endlinecolor": "#2a3f5f",
             "gridcolor": "white",
             "linecolor": "white",
             "minorgridcolor": "white",
             "startlinecolor": "#2a3f5f"
            },
            "baxis": {
             "endlinecolor": "#2a3f5f",
             "gridcolor": "white",
             "linecolor": "white",
             "minorgridcolor": "white",
             "startlinecolor": "#2a3f5f"
            },
            "type": "carpet"
           }
          ],
          "choropleth": [
           {
            "colorbar": {
             "outlinewidth": 0,
             "ticks": ""
            },
            "type": "choropleth"
           }
          ],
          "contour": [
           {
            "colorbar": {
             "outlinewidth": 0,
             "ticks": ""
            },
            "colorscale": [
             [
              0,
              "#0d0887"
             ],
             [
              0.1111111111111111,
              "#46039f"
             ],
             [
              0.2222222222222222,
              "#7201a8"
             ],
             [
              0.3333333333333333,
              "#9c179e"
             ],
             [
              0.4444444444444444,
              "#bd3786"
             ],
             [
              0.5555555555555556,
              "#d8576b"
             ],
             [
              0.6666666666666666,
              "#ed7953"
             ],
             [
              0.7777777777777778,
              "#fb9f3a"
             ],
             [
              0.8888888888888888,
              "#fdca26"
             ],
             [
              1,
              "#f0f921"
             ]
            ],
            "type": "contour"
           }
          ],
          "contourcarpet": [
           {
            "colorbar": {
             "outlinewidth": 0,
             "ticks": ""
            },
            "type": "contourcarpet"
           }
          ],
          "heatmap": [
           {
            "colorbar": {
             "outlinewidth": 0,
             "ticks": ""
            },
            "colorscale": [
             [
              0,
              "#0d0887"
             ],
             [
              0.1111111111111111,
              "#46039f"
             ],
             [
              0.2222222222222222,
              "#7201a8"
             ],
             [
              0.3333333333333333,
              "#9c179e"
             ],
             [
              0.4444444444444444,
              "#bd3786"
             ],
             [
              0.5555555555555556,
              "#d8576b"
             ],
             [
              0.6666666666666666,
              "#ed7953"
             ],
             [
              0.7777777777777778,
              "#fb9f3a"
             ],
             [
              0.8888888888888888,
              "#fdca26"
             ],
             [
              1,
              "#f0f921"
             ]
            ],
            "type": "heatmap"
           }
          ],
          "heatmapgl": [
           {
            "colorbar": {
             "outlinewidth": 0,
             "ticks": ""
            },
            "colorscale": [
             [
              0,
              "#0d0887"
             ],
             [
              0.1111111111111111,
              "#46039f"
             ],
             [
              0.2222222222222222,
              "#7201a8"
             ],
             [
              0.3333333333333333,
              "#9c179e"
             ],
             [
              0.4444444444444444,
              "#bd3786"
             ],
             [
              0.5555555555555556,
              "#d8576b"
             ],
             [
              0.6666666666666666,
              "#ed7953"
             ],
             [
              0.7777777777777778,
              "#fb9f3a"
             ],
             [
              0.8888888888888888,
              "#fdca26"
             ],
             [
              1,
              "#f0f921"
             ]
            ],
            "type": "heatmapgl"
           }
          ],
          "histogram": [
           {
            "marker": {
             "colorbar": {
              "outlinewidth": 0,
              "ticks": ""
             }
            },
            "type": "histogram"
           }
          ],
          "histogram2d": [
           {
            "colorbar": {
             "outlinewidth": 0,
             "ticks": ""
            },
            "colorscale": [
             [
              0,
              "#0d0887"
             ],
             [
              0.1111111111111111,
              "#46039f"
             ],
             [
              0.2222222222222222,
              "#7201a8"
             ],
             [
              0.3333333333333333,
              "#9c179e"
             ],
             [
              0.4444444444444444,
              "#bd3786"
             ],
             [
              0.5555555555555556,
              "#d8576b"
             ],
             [
              0.6666666666666666,
              "#ed7953"
             ],
             [
              0.7777777777777778,
              "#fb9f3a"
             ],
             [
              0.8888888888888888,
              "#fdca26"
             ],
             [
              1,
              "#f0f921"
             ]
            ],
            "type": "histogram2d"
           }
          ],
          "histogram2dcontour": [
           {
            "colorbar": {
             "outlinewidth": 0,
             "ticks": ""
            },
            "colorscale": [
             [
              0,
              "#0d0887"
             ],
             [
              0.1111111111111111,
              "#46039f"
             ],
             [
              0.2222222222222222,
              "#7201a8"
             ],
             [
              0.3333333333333333,
              "#9c179e"
             ],
             [
              0.4444444444444444,
              "#bd3786"
             ],
             [
              0.5555555555555556,
              "#d8576b"
             ],
             [
              0.6666666666666666,
              "#ed7953"
             ],
             [
              0.7777777777777778,
              "#fb9f3a"
             ],
             [
              0.8888888888888888,
              "#fdca26"
             ],
             [
              1,
              "#f0f921"
             ]
            ],
            "type": "histogram2dcontour"
           }
          ],
          "mesh3d": [
           {
            "colorbar": {
             "outlinewidth": 0,
             "ticks": ""
            },
            "type": "mesh3d"
           }
          ],
          "parcoords": [
           {
            "line": {
             "colorbar": {
              "outlinewidth": 0,
              "ticks": ""
             }
            },
            "type": "parcoords"
           }
          ],
          "pie": [
           {
            "automargin": true,
            "type": "pie"
           }
          ],
          "scatter": [
           {
            "marker": {
             "colorbar": {
              "outlinewidth": 0,
              "ticks": ""
             }
            },
            "type": "scatter"
           }
          ],
          "scatter3d": [
           {
            "line": {
             "colorbar": {
              "outlinewidth": 0,
              "ticks": ""
             }
            },
            "marker": {
             "colorbar": {
              "outlinewidth": 0,
              "ticks": ""
             }
            },
            "type": "scatter3d"
           }
          ],
          "scattercarpet": [
           {
            "marker": {
             "colorbar": {
              "outlinewidth": 0,
              "ticks": ""
             }
            },
            "type": "scattercarpet"
           }
          ],
          "scattergeo": [
           {
            "marker": {
             "colorbar": {
              "outlinewidth": 0,
              "ticks": ""
             }
            },
            "type": "scattergeo"
           }
          ],
          "scattergl": [
           {
            "marker": {
             "colorbar": {
              "outlinewidth": 0,
              "ticks": ""
             }
            },
            "type": "scattergl"
           }
          ],
          "scattermapbox": [
           {
            "marker": {
             "colorbar": {
              "outlinewidth": 0,
              "ticks": ""
             }
            },
            "type": "scattermapbox"
           }
          ],
          "scatterpolar": [
           {
            "marker": {
             "colorbar": {
              "outlinewidth": 0,
              "ticks": ""
             }
            },
            "type": "scatterpolar"
           }
          ],
          "scatterpolargl": [
           {
            "marker": {
             "colorbar": {
              "outlinewidth": 0,
              "ticks": ""
             }
            },
            "type": "scatterpolargl"
           }
          ],
          "scatterternary": [
           {
            "marker": {
             "colorbar": {
              "outlinewidth": 0,
              "ticks": ""
             }
            },
            "type": "scatterternary"
           }
          ],
          "surface": [
           {
            "colorbar": {
             "outlinewidth": 0,
             "ticks": ""
            },
            "colorscale": [
             [
              0,
              "#0d0887"
             ],
             [
              0.1111111111111111,
              "#46039f"
             ],
             [
              0.2222222222222222,
              "#7201a8"
             ],
             [
              0.3333333333333333,
              "#9c179e"
             ],
             [
              0.4444444444444444,
              "#bd3786"
             ],
             [
              0.5555555555555556,
              "#d8576b"
             ],
             [
              0.6666666666666666,
              "#ed7953"
             ],
             [
              0.7777777777777778,
              "#fb9f3a"
             ],
             [
              0.8888888888888888,
              "#fdca26"
             ],
             [
              1,
              "#f0f921"
             ]
            ],
            "type": "surface"
           }
          ],
          "table": [
           {
            "cells": {
             "fill": {
              "color": "#EBF0F8"
             },
             "line": {
              "color": "white"
             }
            },
            "header": {
             "fill": {
              "color": "#C8D4E3"
             },
             "line": {
              "color": "white"
             }
            },
            "type": "table"
           }
          ]
         },
         "layout": {
          "annotationdefaults": {
           "arrowcolor": "#2a3f5f",
           "arrowhead": 0,
           "arrowwidth": 1
          },
          "autotypenumbers": "strict",
          "coloraxis": {
           "colorbar": {
            "outlinewidth": 0,
            "ticks": ""
           }
          },
          "colorscale": {
           "diverging": [
            [
             0,
             "#8e0152"
            ],
            [
             0.1,
             "#c51b7d"
            ],
            [
             0.2,
             "#de77ae"
            ],
            [
             0.3,
             "#f1b6da"
            ],
            [
             0.4,
             "#fde0ef"
            ],
            [
             0.5,
             "#f7f7f7"
            ],
            [
             0.6,
             "#e6f5d0"
            ],
            [
             0.7,
             "#b8e186"
            ],
            [
             0.8,
             "#7fbc41"
            ],
            [
             0.9,
             "#4d9221"
            ],
            [
             1,
             "#276419"
            ]
           ],
           "sequential": [
            [
             0,
             "#0d0887"
            ],
            [
             0.1111111111111111,
             "#46039f"
            ],
            [
             0.2222222222222222,
             "#7201a8"
            ],
            [
             0.3333333333333333,
             "#9c179e"
            ],
            [
             0.4444444444444444,
             "#bd3786"
            ],
            [
             0.5555555555555556,
             "#d8576b"
            ],
            [
             0.6666666666666666,
             "#ed7953"
            ],
            [
             0.7777777777777778,
             "#fb9f3a"
            ],
            [
             0.8888888888888888,
             "#fdca26"
            ],
            [
             1,
             "#f0f921"
            ]
           ],
           "sequentialminus": [
            [
             0,
             "#0d0887"
            ],
            [
             0.1111111111111111,
             "#46039f"
            ],
            [
             0.2222222222222222,
             "#7201a8"
            ],
            [
             0.3333333333333333,
             "#9c179e"
            ],
            [
             0.4444444444444444,
             "#bd3786"
            ],
            [
             0.5555555555555556,
             "#d8576b"
            ],
            [
             0.6666666666666666,
             "#ed7953"
            ],
            [
             0.7777777777777778,
             "#fb9f3a"
            ],
            [
             0.8888888888888888,
             "#fdca26"
            ],
            [
             1,
             "#f0f921"
            ]
           ]
          },
          "colorway": [
           "#636efa",
           "#EF553B",
           "#00cc96",
           "#ab63fa",
           "#FFA15A",
           "#19d3f3",
           "#FF6692",
           "#B6E880",
           "#FF97FF",
           "#FECB52"
          ],
          "font": {
           "color": "#2a3f5f"
          },
          "geo": {
           "bgcolor": "white",
           "lakecolor": "white",
           "landcolor": "#E5ECF6",
           "showlakes": true,
           "showland": true,
           "subunitcolor": "white"
          },
          "hoverlabel": {
           "align": "left"
          },
          "hovermode": "closest",
          "mapbox": {
           "style": "light"
          },
          "paper_bgcolor": "white",
          "plot_bgcolor": "#E5ECF6",
          "polar": {
           "angularaxis": {
            "gridcolor": "white",
            "linecolor": "white",
            "ticks": ""
           },
           "bgcolor": "#E5ECF6",
           "radialaxis": {
            "gridcolor": "white",
            "linecolor": "white",
            "ticks": ""
           }
          },
          "scene": {
           "xaxis": {
            "backgroundcolor": "#E5ECF6",
            "gridcolor": "white",
            "gridwidth": 2,
            "linecolor": "white",
            "showbackground": true,
            "ticks": "",
            "zerolinecolor": "white"
           },
           "yaxis": {
            "backgroundcolor": "#E5ECF6",
            "gridcolor": "white",
            "gridwidth": 2,
            "linecolor": "white",
            "showbackground": true,
            "ticks": "",
            "zerolinecolor": "white"
           },
           "zaxis": {
            "backgroundcolor": "#E5ECF6",
            "gridcolor": "white",
            "gridwidth": 2,
            "linecolor": "white",
            "showbackground": true,
            "ticks": "",
            "zerolinecolor": "white"
           }
          },
          "shapedefaults": {
           "line": {
            "color": "#2a3f5f"
           }
          },
          "ternary": {
           "aaxis": {
            "gridcolor": "white",
            "linecolor": "white",
            "ticks": ""
           },
           "baxis": {
            "gridcolor": "white",
            "linecolor": "white",
            "ticks": ""
           },
           "bgcolor": "#E5ECF6",
           "caxis": {
            "gridcolor": "white",
            "linecolor": "white",
            "ticks": ""
           }
          },
          "title": {
           "x": 0.05
          },
          "xaxis": {
           "automargin": true,
           "gridcolor": "white",
           "linecolor": "white",
           "ticks": "",
           "title": {
            "standoff": 15
           },
           "zerolinecolor": "white",
           "zerolinewidth": 2
          },
          "yaxis": {
           "automargin": true,
           "gridcolor": "white",
           "linecolor": "white",
           "ticks": "",
           "title": {
            "standoff": 15
           },
           "zerolinecolor": "white",
           "zerolinewidth": 2
          }
         }
        }
       }
      },
      "text/html": [
       "<div>                            <div id=\"a4cbe6d4-e6ef-4655-91c2-7bc647405298\" class=\"plotly-graph-div\" style=\"height:525px; width:100%;\"></div>            <script type=\"text/javascript\">                require([\"plotly\"], function(Plotly) {                    window.PLOTLYENV=window.PLOTLYENV || {};                                    if (document.getElementById(\"a4cbe6d4-e6ef-4655-91c2-7bc647405298\")) {                    Plotly.newPlot(                        \"a4cbe6d4-e6ef-4655-91c2-7bc647405298\",                        [{\"marker\": {\"color\": [-0.0024998542088629557, -0.0012421215388677064, -0.0008358748924261312, -0.0003374988866324759, -0.0011919908611205913, -0.0005371174181964613, -0.0012281361544124341, -0.0005491952119860238, -0.00019890751231437957, 0.001320821342466054, 0.001007752283043839, 0.0016121467605866094, 0.00045747060520859995, 0.0014441160077329758, 0.001740838165024648, 0.002599685226198415, 0.0027298795377957642, 0.004081090602716441, 0.0046485049181982045, 0.005845564146770662, 0.007291681427776488, 0.007428473592682493, 0.006168230464894336, 0.005948420985476957, 0.006333660933153099, 0.006473106093412877, 0.007431117942700548, 0.007037924607107704, 0.006198177964765541, 0.005467940121401089, 0.005387365975541724, 0.005741242004030749, 0.006732400012922499, 0.008199388430253154, 0.006899163465338003, 0.0058730600707112245, 0.006372074976936178, 0.00725550314321518, 0.005968119587773808, 0.007010170184022743, 0.0058662439564482645, 0.006567728584289795, 0.007842497686547458, 0.007512275028259329, 0.007934818122193935, 0.0076752289039913974, 0.006271266437095443, 0.005490302577778907, 0.0048948412560999195, 0.005372647025537594, 0.004107042538953814, 0.0040428215657191775, 0.005037152755145269, 0.003781757220348966, 0.0030742902367100118, 0.002543362281184742, 0.0015568180854133658, 0.0006484506035804009, 0.001998942708326883, 0.0029889107882580053, 0.003574398307984995, 0.0037455326042124186, 0.0038179734021327196, 0.0038601926211223347, 0.0024645794466994562, 0.003969005021527905, 0.0029541631404926797, 0.002540442102484046, 0.0015997471082416712, 0.001298116024338829, 0.00033220211193810004, 0.0018419025722683161, 0.003277696600780909, 0.0023487323110003887, 0.002599512002429411, 0.00200909482937077, 0.0025455289557636054, 0.0037475593453525106, 0.005185035181350161, 0.006255962204909338, 0.007238602302003897, 0.0074330662102128995, 0.008024212909611594, 0.009574644218471599, 0.009841973805870723, 0.010759103349923015, 0.009361519858538973, 0.010924854758609995, 0.01107017792109532, 0.010448504976266468, 0.011006181296643894, 0.010829696912178463, 0.011907322485115137, 0.01218822842368879, 0.013563417047228849, 0.01488699759251315, 0.015228643031950593, 0.016522117351217704, 0.015383394789656318, 0.01609113985416304, 0.01491669829006764, 0.015087362136847892, 0.014996195331321021, 0.014699221449565009, 0.014892461535664469, 0.015180407763594335, 0.01499195262413149, 0.013629339117876765, 0.012844060043240329, 0.011551767130625298, 0.012720712272036699, 0.012871414395887258, 0.01174852253718996, 0.012188350927630634, 0.011306807178794696, 0.011262557552973493, 0.010869550558708242, 0.012091119050054984, 0.011027730999210457, 0.012346101351701408, 0.013066739827723602, 0.012477443979216277, 0.011866734633408205, 0.012832634825147748, 0.014314149431874212, 0.013483207558988831, 0.012894516005661612, 0.013542420499939301, 0.014792837415762379, 0.013225551183987983, 0.012822728025299442, 0.01385972074881496, 0.012342835627761398, 0.012645472525012226, 0.011442267097883334, 0.010883309460135323, 0.01195592307136078, 0.011116340218453943, 0.012607445405952334, 0.012089902651665124, 0.012711116496293938, 0.01334617319519245, 0.013058951512960172, 0.01356194445114081, 0.01439968226725347, 0.013828899982913272, 0.012461081244808646, 0.01275430855904405, 0.011977122359549236, 0.011123628564208815], \"colorscale\": [[0.0, \"#440154\"], [0.1111111111111111, \"#482878\"], [0.2222222222222222, \"#3e4989\"], [0.3333333333333333, \"#31688e\"], [0.4444444444444444, \"#26828e\"], [0.5555555555555556, \"#1f9e89\"], [0.6666666666666666, \"#35b779\"], [0.7777777777777778, \"#6ece58\"], [0.8888888888888888, \"#b5de2b\"], [1.0, \"#fde725\"]], \"size\": 2}, \"mode\": \"markers\", \"type\": \"scatter3d\", \"x\": [-0.7194820217210243, -0.7175398491745719, -0.7195830231488434, -0.7179545485903889, -0.7192560994932693, -0.7207564092804652, -0.720946867365303, -0.7226449298952797, -0.7229622424520106, -0.7238689145215441, -0.7220609409484484, -0.7226392050787221, -0.7242015113044376, -0.7249436532598558, -0.7253819956512492, -0.726324454520569, -0.7245030834914402, -0.7245388933210222, -0.7233839531315147, -0.7226792361262001, -0.7210015154414665, -0.7200244951617895, -0.7201721265213428, -0.7217457774690766, -0.7227185342555762, -0.7245562987126832, -0.725122156582505, -0.7259157263568949, -0.727075268947359, -0.7282975179021558, -0.7266836657874016, -0.7270998196228888, -0.7257685031765879, -0.7278096761965785, -0.7271541484644989, -0.7283313347848135, -0.7262260116075712, -0.7277810927590426, -0.7269692559747014, -0.7263966007839406, -0.7265382239406996, -0.7270948665295109, -0.7254353322602377, -0.7263702753434432, -0.7273314077454932, -0.7284104262761321, -0.7285662669957943, -0.7286049022087209, -0.7299341889267242, -0.7298099781519568, -0.7287835734906548, -0.7295930757124718, -0.7309023869190472, -0.7306429520317936, -0.7305612927400381, -0.7288767107967712, -0.7277802606014332, -0.7276683130192251, -0.7279564674587566, -0.7284760191644816, -0.7304560643463153, -0.7325470445363962, -0.7319223322531897, -0.7322809169093414, -0.7326168334643757, -0.7320114924292406, -0.7330742051438298, -0.7329766223837036, -0.7333255146147695, -0.7344638220726637, -0.733800791449686, -0.7344216773459914, -0.7345767787601912, -0.7361449359708737, -0.7361433176733496, -0.7359292996441241, -0.7371049942511604, -0.7355326456145919, -0.7365307070031941, -0.7370330126060582, -0.7353336193988215, -0.7371603950847943, -0.7364630015320827, -0.7385863606298132, -0.7378475330717118, -0.7387069640372105, -0.7394508581493375, -0.7409824792605557, -0.7402879041138951, -0.7397579135437542, -0.7391957489017913, -0.7382773859718991, -0.739202346653835, -0.7372275486429725, -0.7374565180850833, -0.7372114619324575, -0.7354637376023413, -0.7333906267781576, -0.7335226798465385, -0.7351828067594736, -0.7343517863961253, -0.7323874663950756, -0.7343114665271758, -0.7336436955234669, -0.735093971002647, -0.7367167682057392, -0.7383267738537775, -0.739312423082835, -0.7398700408203963, -0.7413489353047079, -0.7402227104786054, -0.741825854431761, -0.7436053254010546, -0.7443968420864037, -0.7433964674503446, -0.7454475949393911, -0.7459343864540412, -0.7454926714955812, -0.747035627706576, -0.7463416506716998, -0.7447079904851768, -0.7467805696158543, -0.7468248725078526, -0.7480752066583124, -0.7472433121884949, -0.746530542476151, -0.747511855308618, -0.7456282327550381, -0.7466336429358441, -0.7468507513297986, -0.7463787311474591, -0.746216404381747, -0.74453882351334, -0.7460812422228208, -0.7446109410153942, -0.7459229259029213, -0.7474394937019467, -0.7463419935295624, -0.7447859334480134, -0.7465522483966528, -0.7448100641448204, -0.7439588739524131, -0.7456947603893728, -0.747025993784412, -0.7479563462043592, -0.7497344182649728, -0.7509702795237939, -0.7521608333068499, -0.7538509143002152, -0.7522658873077419], \"y\": [-0.6906496908831337, -0.6926774951333179, -0.69055049586909, -0.6922487577382788, -0.6908897785151996, -0.6893292061367645, -0.6891282958694321, -0.6873618023419482, -0.6870325109303165, -0.6860934890765273, -0.6879758063666733, -0.6873755892769797, -0.6857438825249923, -0.6849743298388159, -0.6845187621147071, -0.6835400673738435, -0.685437945841672, -0.6854055318723139, -0.6866107407742598, -0.6873492102125411, -0.6891022044851638, -0.6901205072453583, -0.6899621512298965, -0.6883220099658607, -0.6873100382167743, -0.6853960579284675, -0.6848100449618723, -0.6839819230945643, -0.6827709339310603, -0.6814950169954237, -0.6831759504324314, -0.6827437044351267, -0.684134186486349, -0.6820131111376251, -0.6826912987214361, -0.6814612547298349, -0.6836562743765006, -0.6820394713808265, -0.6828805398810717, -0.6834808732981998, -0.683329197325091, -0.6827518558289054, -0.6844852842570665, -0.6835101151415346, -0.682510388077654, -0.6813853845058654, -0.6812179562147107, -0.6811748813573852, -0.679787946020337, -0.6799190716333771, -0.6809837443376748, -0.6801402156343377, -0.6787798440836628, -0.6790455655250783, -0.6791280730955008, -0.6808810590097696, -0.6820197114944938, -0.6821330446176888, -0.6818377488866659, -0.6813000908805101, -0.6792395046008514, -0.6770618523647023, -0.6777129065154309, -0.6773395049561773, -0.6769845134824244, -0.6776205708675123, -0.676509820136316, -0.6766099791607469, -0.6762431169273236, -0.6750561971390409, -0.6757434108964474, -0.6751020695410124, -0.6749456901134374, -0.6733087050969637, -0.673311298667431, -0.6735321141828942, -0.672309279891014, -0.6739516196930733, -0.6729170955991858, -0.6723976966998906, -0.6741715906632073, -0.6722692570348883, -0.6729979041485377, -0.6707915137535843, -0.6715621525263604, -0.6706701627860215, -0.6698901549154267, -0.6683002523081065, -0.6690243496675602, -0.6695742153957049, -0.6701618670923519, -0.6711179298271326, -0.6701582556487803, -0.6722165116764071, -0.6719829611106384, -0.672243038334873, -0.674064960960544, -0.676229299096054, -0.6760876115657574, -0.6743607415998435, -0.675222203331138, -0.6772691448979837, -0.6752644941657332, -0.6759590674736188, -0.6744489472556011, -0.6727594459000845, -0.6710815457369431, -0.6700498168524667, -0.6694660780545062, -0.6679207670937548, -0.6690982391435699, -0.6674287147313991, -0.6655708923744824, -0.6647479244854777, -0.6657868706317676, -0.6636499552175973, -0.66314141925799, -0.6636059959003995, -0.6619947773855758, -0.6627224975893056, -0.6644269660636586, -0.6622657306406542, -0.6622173677454376, -0.6609183324391409, -0.6617903181845596, -0.6625298360137319, -0.6615054258199091, -0.6634700284943138, -0.6624271717478867, -0.6621953268988818, -0.6626855943099642, -0.662858451145744, -0.6646005749735404, -0.6629948608206852, -0.6645221871353587, -0.6631534080503497, -0.6615774109814487, -0.6627176892129941, -0.6643441067931352, -0.6625021807798922, -0.6643193439645425, -0.6652083671520846, -0.6633989736028384, -0.6620139862524367, -0.6610478269586304, -0.6591934603088834, -0.6579010550326987, -0.6566618609397126, -0.6548984115988272, -0.6565465189244308], \"z\": [-0.0024998542088629557, -0.0012421215388677064, -0.0008358748924261312, -0.0003374988866324759, -0.0011919908611205913, -0.0005371174181964613, -0.0012281361544124341, -0.0005491952119860238, -0.00019890751231437957, 0.001320821342466054, 0.001007752283043839, 0.0016121467605866094, 0.00045747060520859995, 0.0014441160077329758, 0.001740838165024648, 0.002599685226198415, 0.0027298795377957642, 0.004081090602716441, 0.0046485049181982045, 0.005845564146770662, 0.007291681427776488, 0.007428473592682493, 0.006168230464894336, 0.005948420985476957, 0.006333660933153099, 0.006473106093412877, 0.007431117942700548, 0.007037924607107704, 0.006198177964765541, 0.005467940121401089, 0.005387365975541724, 0.005741242004030749, 0.006732400012922499, 0.008199388430253154, 0.006899163465338003, 0.0058730600707112245, 0.006372074976936178, 0.00725550314321518, 0.005968119587773808, 0.007010170184022743, 0.0058662439564482645, 0.006567728584289795, 0.007842497686547458, 0.007512275028259329, 0.007934818122193935, 0.0076752289039913974, 0.006271266437095443, 0.005490302577778907, 0.0048948412560999195, 0.005372647025537594, 0.004107042538953814, 0.0040428215657191775, 0.005037152755145269, 0.003781757220348966, 0.0030742902367100118, 0.002543362281184742, 0.0015568180854133658, 0.0006484506035804009, 0.001998942708326883, 0.0029889107882580053, 0.003574398307984995, 0.0037455326042124186, 0.0038179734021327196, 0.0038601926211223347, 0.0024645794466994562, 0.003969005021527905, 0.0029541631404926797, 0.002540442102484046, 0.0015997471082416712, 0.001298116024338829, 0.00033220211193810004, 0.0018419025722683161, 0.003277696600780909, 0.0023487323110003887, 0.002599512002429411, 0.00200909482937077, 0.0025455289557636054, 0.0037475593453525106, 0.005185035181350161, 0.006255962204909338, 0.007238602302003897, 0.0074330662102128995, 0.008024212909611594, 0.009574644218471599, 0.009841973805870723, 0.010759103349923015, 0.009361519858538973, 0.010924854758609995, 0.01107017792109532, 0.010448504976266468, 0.011006181296643894, 0.010829696912178463, 0.011907322485115137, 0.01218822842368879, 0.013563417047228849, 0.01488699759251315, 0.015228643031950593, 0.016522117351217704, 0.015383394789656318, 0.01609113985416304, 0.01491669829006764, 0.015087362136847892, 0.014996195331321021, 0.014699221449565009, 0.014892461535664469, 0.015180407763594335, 0.01499195262413149, 0.013629339117876765, 0.012844060043240329, 0.011551767130625298, 0.012720712272036699, 0.012871414395887258, 0.01174852253718996, 0.012188350927630634, 0.011306807178794696, 0.011262557552973493, 0.010869550558708242, 0.012091119050054984, 0.011027730999210457, 0.012346101351701408, 0.013066739827723602, 0.012477443979216277, 0.011866734633408205, 0.012832634825147748, 0.014314149431874212, 0.013483207558988831, 0.012894516005661612, 0.013542420499939301, 0.014792837415762379, 0.013225551183987983, 0.012822728025299442, 0.01385972074881496, 0.012342835627761398, 0.012645472525012226, 0.011442267097883334, 0.010883309460135323, 0.01195592307136078, 0.011116340218453943, 0.012607445405952334, 0.012089902651665124, 0.012711116496293938, 0.01334617319519245, 0.013058951512960172, 0.01356194445114081, 0.01439968226725347, 0.013828899982913272, 0.012461081244808646, 0.01275430855904405, 0.011977122359549236, 0.011123628564208815]}, {\"marker\": {\"color\": \"orange\", \"size\": 6}, \"mode\": \"markers\", \"type\": \"scatter3d\", \"x\": [0], \"y\": [0], \"z\": [0]}],                        {\"template\": {\"data\": {\"bar\": [{\"error_x\": {\"color\": \"#2a3f5f\"}, \"error_y\": {\"color\": \"#2a3f5f\"}, \"marker\": {\"line\": {\"color\": \"#E5ECF6\", \"width\": 0.5}}, \"type\": \"bar\"}], \"barpolar\": [{\"marker\": {\"line\": {\"color\": \"#E5ECF6\", \"width\": 0.5}}, \"type\": \"barpolar\"}], \"carpet\": [{\"aaxis\": {\"endlinecolor\": \"#2a3f5f\", \"gridcolor\": \"white\", \"linecolor\": \"white\", \"minorgridcolor\": \"white\", \"startlinecolor\": \"#2a3f5f\"}, \"baxis\": {\"endlinecolor\": \"#2a3f5f\", \"gridcolor\": \"white\", \"linecolor\": \"white\", \"minorgridcolor\": \"white\", \"startlinecolor\": \"#2a3f5f\"}, \"type\": \"carpet\"}], \"choropleth\": [{\"colorbar\": {\"outlinewidth\": 0, \"ticks\": \"\"}, \"type\": \"choropleth\"}], \"contour\": [{\"colorbar\": {\"outlinewidth\": 0, \"ticks\": \"\"}, \"colorscale\": [[0.0, \"#0d0887\"], [0.1111111111111111, \"#46039f\"], [0.2222222222222222, \"#7201a8\"], [0.3333333333333333, \"#9c179e\"], [0.4444444444444444, \"#bd3786\"], [0.5555555555555556, \"#d8576b\"], [0.6666666666666666, \"#ed7953\"], [0.7777777777777778, \"#fb9f3a\"], [0.8888888888888888, \"#fdca26\"], [1.0, \"#f0f921\"]], \"type\": \"contour\"}], \"contourcarpet\": [{\"colorbar\": {\"outlinewidth\": 0, \"ticks\": \"\"}, \"type\": \"contourcarpet\"}], \"heatmap\": [{\"colorbar\": {\"outlinewidth\": 0, \"ticks\": \"\"}, \"colorscale\": [[0.0, \"#0d0887\"], [0.1111111111111111, \"#46039f\"], [0.2222222222222222, \"#7201a8\"], [0.3333333333333333, \"#9c179e\"], [0.4444444444444444, \"#bd3786\"], [0.5555555555555556, \"#d8576b\"], [0.6666666666666666, \"#ed7953\"], [0.7777777777777778, \"#fb9f3a\"], [0.8888888888888888, \"#fdca26\"], [1.0, \"#f0f921\"]], \"type\": \"heatmap\"}], \"heatmapgl\": [{\"colorbar\": {\"outlinewidth\": 0, \"ticks\": \"\"}, \"colorscale\": [[0.0, \"#0d0887\"], [0.1111111111111111, \"#46039f\"], [0.2222222222222222, \"#7201a8\"], [0.3333333333333333, \"#9c179e\"], [0.4444444444444444, \"#bd3786\"], [0.5555555555555556, \"#d8576b\"], [0.6666666666666666, \"#ed7953\"], [0.7777777777777778, \"#fb9f3a\"], [0.8888888888888888, \"#fdca26\"], [1.0, \"#f0f921\"]], \"type\": \"heatmapgl\"}], \"histogram\": [{\"marker\": {\"colorbar\": {\"outlinewidth\": 0, \"ticks\": \"\"}}, \"type\": \"histogram\"}], \"histogram2d\": [{\"colorbar\": {\"outlinewidth\": 0, \"ticks\": \"\"}, \"colorscale\": [[0.0, \"#0d0887\"], [0.1111111111111111, \"#46039f\"], [0.2222222222222222, \"#7201a8\"], [0.3333333333333333, \"#9c179e\"], [0.4444444444444444, \"#bd3786\"], [0.5555555555555556, \"#d8576b\"], [0.6666666666666666, \"#ed7953\"], [0.7777777777777778, \"#fb9f3a\"], [0.8888888888888888, \"#fdca26\"], [1.0, \"#f0f921\"]], \"type\": \"histogram2d\"}], \"histogram2dcontour\": [{\"colorbar\": {\"outlinewidth\": 0, \"ticks\": \"\"}, \"colorscale\": [[0.0, \"#0d0887\"], [0.1111111111111111, \"#46039f\"], [0.2222222222222222, \"#7201a8\"], [0.3333333333333333, \"#9c179e\"], [0.4444444444444444, \"#bd3786\"], [0.5555555555555556, \"#d8576b\"], [0.6666666666666666, \"#ed7953\"], [0.7777777777777778, \"#fb9f3a\"], [0.8888888888888888, \"#fdca26\"], [1.0, \"#f0f921\"]], \"type\": \"histogram2dcontour\"}], \"mesh3d\": [{\"colorbar\": {\"outlinewidth\": 0, \"ticks\": \"\"}, \"type\": \"mesh3d\"}], \"parcoords\": [{\"line\": {\"colorbar\": {\"outlinewidth\": 0, \"ticks\": \"\"}}, \"type\": \"parcoords\"}], \"pie\": [{\"automargin\": true, \"type\": \"pie\"}], \"scatter\": [{\"marker\": {\"colorbar\": {\"outlinewidth\": 0, \"ticks\": \"\"}}, \"type\": \"scatter\"}], \"scatter3d\": [{\"line\": {\"colorbar\": {\"outlinewidth\": 0, \"ticks\": \"\"}}, \"marker\": {\"colorbar\": {\"outlinewidth\": 0, \"ticks\": \"\"}}, \"type\": \"scatter3d\"}], \"scattercarpet\": [{\"marker\": {\"colorbar\": {\"outlinewidth\": 0, \"ticks\": \"\"}}, \"type\": \"scattercarpet\"}], \"scattergeo\": [{\"marker\": {\"colorbar\": {\"outlinewidth\": 0, \"ticks\": \"\"}}, \"type\": \"scattergeo\"}], \"scattergl\": [{\"marker\": {\"colorbar\": {\"outlinewidth\": 0, \"ticks\": \"\"}}, \"type\": \"scattergl\"}], \"scattermapbox\": [{\"marker\": {\"colorbar\": {\"outlinewidth\": 0, \"ticks\": \"\"}}, \"type\": \"scattermapbox\"}], \"scatterpolar\": [{\"marker\": {\"colorbar\": {\"outlinewidth\": 0, \"ticks\": \"\"}}, \"type\": \"scatterpolar\"}], \"scatterpolargl\": [{\"marker\": {\"colorbar\": {\"outlinewidth\": 0, \"ticks\": \"\"}}, \"type\": \"scatterpolargl\"}], \"scatterternary\": [{\"marker\": {\"colorbar\": {\"outlinewidth\": 0, \"ticks\": \"\"}}, \"type\": \"scatterternary\"}], \"surface\": [{\"colorbar\": {\"outlinewidth\": 0, \"ticks\": \"\"}, \"colorscale\": [[0.0, \"#0d0887\"], [0.1111111111111111, \"#46039f\"], [0.2222222222222222, \"#7201a8\"], [0.3333333333333333, \"#9c179e\"], [0.4444444444444444, \"#bd3786\"], [0.5555555555555556, \"#d8576b\"], [0.6666666666666666, \"#ed7953\"], [0.7777777777777778, \"#fb9f3a\"], [0.8888888888888888, \"#fdca26\"], [1.0, \"#f0f921\"]], \"type\": \"surface\"}], \"table\": [{\"cells\": {\"fill\": {\"color\": \"#EBF0F8\"}, \"line\": {\"color\": \"white\"}}, \"header\": {\"fill\": {\"color\": \"#C8D4E3\"}, \"line\": {\"color\": \"white\"}}, \"type\": \"table\"}]}, \"layout\": {\"annotationdefaults\": {\"arrowcolor\": \"#2a3f5f\", \"arrowhead\": 0, \"arrowwidth\": 1}, \"autotypenumbers\": \"strict\", \"coloraxis\": {\"colorbar\": {\"outlinewidth\": 0, \"ticks\": \"\"}}, \"colorscale\": {\"diverging\": [[0, \"#8e0152\"], [0.1, \"#c51b7d\"], [0.2, \"#de77ae\"], [0.3, \"#f1b6da\"], [0.4, \"#fde0ef\"], [0.5, \"#f7f7f7\"], [0.6, \"#e6f5d0\"], [0.7, \"#b8e186\"], [0.8, \"#7fbc41\"], [0.9, \"#4d9221\"], [1, \"#276419\"]], \"sequential\": [[0.0, \"#0d0887\"], [0.1111111111111111, \"#46039f\"], [0.2222222222222222, \"#7201a8\"], [0.3333333333333333, \"#9c179e\"], [0.4444444444444444, \"#bd3786\"], [0.5555555555555556, \"#d8576b\"], [0.6666666666666666, \"#ed7953\"], [0.7777777777777778, \"#fb9f3a\"], [0.8888888888888888, \"#fdca26\"], [1.0, \"#f0f921\"]], \"sequentialminus\": [[0.0, \"#0d0887\"], [0.1111111111111111, \"#46039f\"], [0.2222222222222222, \"#7201a8\"], [0.3333333333333333, \"#9c179e\"], [0.4444444444444444, \"#bd3786\"], [0.5555555555555556, \"#d8576b\"], [0.6666666666666666, \"#ed7953\"], [0.7777777777777778, \"#fb9f3a\"], [0.8888888888888888, \"#fdca26\"], [1.0, \"#f0f921\"]]}, \"colorway\": [\"#636efa\", \"#EF553B\", \"#00cc96\", \"#ab63fa\", \"#FFA15A\", \"#19d3f3\", \"#FF6692\", \"#B6E880\", \"#FF97FF\", \"#FECB52\"], \"font\": {\"color\": \"#2a3f5f\"}, \"geo\": {\"bgcolor\": \"white\", \"lakecolor\": \"white\", \"landcolor\": \"#E5ECF6\", \"showlakes\": true, \"showland\": true, \"subunitcolor\": \"white\"}, \"hoverlabel\": {\"align\": \"left\"}, \"hovermode\": \"closest\", \"mapbox\": {\"style\": \"light\"}, \"paper_bgcolor\": \"white\", \"plot_bgcolor\": \"#E5ECF6\", \"polar\": {\"angularaxis\": {\"gridcolor\": \"white\", \"linecolor\": \"white\", \"ticks\": \"\"}, \"bgcolor\": \"#E5ECF6\", \"radialaxis\": {\"gridcolor\": \"white\", \"linecolor\": \"white\", \"ticks\": \"\"}}, \"scene\": {\"xaxis\": {\"backgroundcolor\": \"#E5ECF6\", \"gridcolor\": \"white\", \"gridwidth\": 2, \"linecolor\": \"white\", \"showbackground\": true, \"ticks\": \"\", \"zerolinecolor\": \"white\"}, \"yaxis\": {\"backgroundcolor\": \"#E5ECF6\", \"gridcolor\": \"white\", \"gridwidth\": 2, \"linecolor\": \"white\", \"showbackground\": true, \"ticks\": \"\", \"zerolinecolor\": \"white\"}, \"zaxis\": {\"backgroundcolor\": \"#E5ECF6\", \"gridcolor\": \"white\", \"gridwidth\": 2, \"linecolor\": \"white\", \"showbackground\": true, \"ticks\": \"\", \"zerolinecolor\": \"white\"}}, \"shapedefaults\": {\"line\": {\"color\": \"#2a3f5f\"}}, \"ternary\": {\"aaxis\": {\"gridcolor\": \"white\", \"linecolor\": \"white\", \"ticks\": \"\"}, \"baxis\": {\"gridcolor\": \"white\", \"linecolor\": \"white\", \"ticks\": \"\"}, \"bgcolor\": \"#E5ECF6\", \"caxis\": {\"gridcolor\": \"white\", \"linecolor\": \"white\", \"ticks\": \"\"}}, \"title\": {\"x\": 0.05}, \"xaxis\": {\"automargin\": true, \"gridcolor\": \"white\", \"linecolor\": \"white\", \"ticks\": \"\", \"title\": {\"standoff\": 15}, \"zerolinecolor\": \"white\", \"zerolinewidth\": 2}, \"yaxis\": {\"automargin\": true, \"gridcolor\": \"white\", \"linecolor\": \"white\", \"ticks\": \"\", \"title\": {\"standoff\": 15}, \"zerolinecolor\": \"white\", \"zerolinewidth\": 2}}}},                        {\"responsive\": true}                    ).then(function(){\n",
       "                            \n",
       "var gd = document.getElementById('a4cbe6d4-e6ef-4655-91c2-7bc647405298');\n",
       "var x = new MutationObserver(function (mutations, observer) {{\n",
       "        var display = window.getComputedStyle(gd).display;\n",
       "        if (!display || display === 'none') {{\n",
       "            console.log([gd, 'removed!']);\n",
       "            Plotly.purge(gd);\n",
       "            observer.disconnect();\n",
       "        }}\n",
       "}});\n",
       "\n",
       "// Listen for the removal of the full notebook cells\n",
       "var notebookContainer = gd.closest('#notebook-container');\n",
       "if (notebookContainer) {{\n",
       "    x.observe(notebookContainer, {childList: true});\n",
       "}}\n",
       "\n",
       "// Listen for the clearing of the current output cell\n",
       "var outputEl = gd.closest('.output');\n",
       "if (outputEl) {{\n",
       "    x.observe(outputEl, {childList: true});\n",
       "}}\n",
       "\n",
       "                        })                };                });            </script>        </div>"
      ]
     },
     "metadata": {},
     "output_type": "display_data"
    }
   ],
   "source": [
    "hitVectorT = np.asarray(np.transpose(hitVector))\n",
    "x,y,z = hitVectorT[0],hitVectorT[1],hitVectorT[2]\n",
    "# fig1.add_trace(\n",
    "#     go.Figure(data=go.Cone(\n",
    "#     x=[plane[0][0]], \n",
    "#     y=[plane[0][1]], \n",
    "#     z=[plane[0][2]], \n",
    "#     u=[plane[1][0]], \n",
    "#     v=[plane[1][1]], \n",
    "#     w=[plane[1][2]])\n",
    "#                 ))\n",
    "trace1 = go.Scatter3d(\n",
    "    x=x,\n",
    "    y=y,\n",
    "    z=z,\n",
    "    mode = 'markers',\n",
    "    marker=dict(\n",
    "        size=2,\n",
    "        color = z,\n",
    "        colorscale='Viridis'\n",
    "    )\n",
    ")\n",
    "\n",
    "data1 = [trace1]\n",
    "fig1 = go.Figure(data=data1)\n",
    "\n",
    "\n",
    "fig1.add_trace(\n",
    "    go.Scatter3d(\n",
    "        x=[0],\n",
    "        y=[0],\n",
    "        z=[0],\n",
    "        mode = 'markers',\n",
    "        marker = dict(\n",
    "            size = 6,\n",
    "            color = 'orange')\n",
    "    )\n",
    ")\n",
    "\n",
    "fig1.show()\n",
    "# offline.iplot(fig1, filename='simple-3d-scatter')"
   ]
  },
  {
   "cell_type": "markdown",
   "metadata": {
    "hidden": true
   },
   "source": [
    "------------------"
   ]
  },
  {
   "cell_type": "markdown",
   "metadata": {
    "heading_collapsed": true
   },
   "source": [
    "## Non-radial Velocities"
   ]
  },
  {
   "cell_type": "markdown",
   "metadata": {
    "heading_collapsed": true,
    "hidden": true
   },
   "source": [
    "### \"Minimizing Loss\""
   ]
  },
  {
   "cell_type": "markdown",
   "metadata": {
    "hidden": true
   },
   "source": [
    "We need to think a little more carefully about what it means to minimize the loss now that we have nonradial velocities. \n",
    "\n",
    "For $\\vec{B} = 0$ or constant, minimizing loss meant evolving the trajectory until the particle was 1au away from the sun and subtracting its ending z-location from $z=0$, the presumed z-location of Earth. With a nonzero B, this should still hold true no? What will change is the patch of the sun whose neutrinos actually hit Earth, but minimizing loss still equates to \"hitting Earth.\""
   ]
  },
  {
   "cell_type": "markdown",
   "metadata": {
    "heading_collapsed": true,
    "hidden": true
   },
   "source": [
    "### A Helpful Picture"
   ]
  },
  {
   "cell_type": "markdown",
   "metadata": {
    "hidden": true
   },
   "source": [
    "We now move onto addressing the directions that hit Earth that are **not** in the radial direction. These are represented by the points $\\vec{r_A}$ and $\\vec{r_B}$ in the following picture.\n",
    "\n",
    "The algorithm is the following:\n",
    "\n",
    "1. Set the magnetic field to the full Parker model.\n",
    "2. For purely **radial** initial conditions, determine the one that minimizes loss. This condition defines the Earth plane, $\\vec{p_0}$ and $\\vec{n_0}$. We will call this trajectory the \"plane trajectory\" since it defined the Earth plane.\n",
    "3. For the nonradial conditions we have at least two approaches:\n",
    "    1. A \"nearby\" point to the \"plane trajectory\" should have roughly the same direction as the plane direction. In the picture below, the plane trajectory is $(\\vec{r_B},\\vec{v_B})$ so a nearby point should have an initial condition $(\\vec{r_A},\\vec{v_B} + \\delta \\vec{v})$. We determine $\\delta \\vec{V}$ by taking a small cone of velocities centered at $\\vec{v_B}$.\n",
    "   \n",
    "    2. Another way is to take the straight connecting the two points $\\vec{r_A}$ and $\\vec{p_0}$ and take that to be the center of our cone of velocities.\n",
    "    \n",
    "After discussing with Filp, we think the best approach is to make the detector plane perpindicular to the $\\hat{r}$ direction always. To find the direction of the other trajectories, we parallel transport the velocity from the trajectory that defiend the plane onto the other two points and evolve a cone around them."
   ]
  },
  {
   "cell_type": "markdown",
   "metadata": {
    "ExecuteTime": {
     "end_time": "2022-01-27T21:57:07.011335Z",
     "start_time": "2022-01-27T21:57:06.936251Z"
    },
    "hidden": true
   },
   "source": [
    "![title](SunPlaneFormulation.png)"
   ]
  },
  {
   "cell_type": "markdown",
   "metadata": {
    "heading_collapsed": true,
    "hidden": true
   },
   "source": [
    "### The Algorithm"
   ]
  },
  {
   "cell_type": "markdown",
   "metadata": {
    "hidden": true
   },
   "source": [
    "1. Make the 3 points on the belt of the sun\n",
    "2. Determine the detector plane\n",
    "3. Parallel transport the velocity from the plane trajectory to the other two points (all points)on the belt\n",
    "\n",
    "4. Generate a cone of trajectories at each point\n",
    "5. Evolve each trajectory and check that $\\beta \\leq 30^\\circ$ "
   ]
  },
  {
   "cell_type": "markdown",
   "metadata": {
    "hidden": true
   },
   "source": [
    "### Initialize Dataframe"
   ]
  },
  {
   "cell_type": "code",
   "execution_count": 146,
   "metadata": {
    "ExecuteTime": {
     "end_time": "2022-02-15T22:57:55.654264Z",
     "start_time": "2022-02-15T22:57:53.751607Z"
    },
    "hidden": true
   },
   "outputs": [
    {
     "name": "stdout",
     "output_type": "stream",
     "text": [
      "10 Initial Conditions\n",
      "   ConNo         r     theta       phi   vr  vTheta  vPhi         L  cosBeta\n",
      "0    0.0  0.002325  2.537986  3.829376  1.0     0.0   0.0 -0.821092      1.0\n",
      "1    1.0  0.002325  0.120218  1.967753  1.0     0.0   0.0  0.990127      1.0\n",
      "2    2.0  0.002325  3.018670  0.010094  1.0     0.0   0.0 -0.989800      1.0\n",
      "3    3.0  0.002325  0.406812  2.696644  1.0     0.0   0.0  0.915931      1.0\n",
      "4    4.0  0.002325  1.975723  4.197043  1.0     0.0   0.0 -0.392897      1.0\n",
      "Complete\n"
     ]
    }
   ],
   "source": [
    "q,E,dt = 0.3,1,0.01\n",
    "\n",
    "dataDFSph = makeInitialConditions(10)\n",
    "print ('{0} Initial Conditions'.format(dataDFSph.shape[0]))\n",
    "\n",
    "dataDFSph = computeLossAndBeta(dataDFSph,q,E,dt)\n",
    "print (dataDFSph.head(5))\n",
    "print ('Complete')"
   ]
  },
  {
   "cell_type": "markdown",
   "metadata": {
    "hidden": true
   },
   "source": [
    "### Minimize loss, generate new Dataframe"
   ]
  },
  {
   "cell_type": "code",
   "execution_count": 148,
   "metadata": {
    "ExecuteTime": {
     "end_time": "2022-02-15T22:58:27.859809Z",
     "start_time": "2022-02-15T22:58:27.723071Z"
    },
    "hidden": true,
    "scrolled": true
   },
   "outputs": [
    {
     "name": "stdout",
     "output_type": "stream",
     "text": [
      "   ConNo         r     theta       phi   vr  vTheta  vPhi    L  cosBeta\n",
      "0    0.0  0.002325  1.570796  0.500326  1.0     0.0   0.0  0.0      0.0\n",
      "1    1.0  0.002325  1.570796  0.405714  1.0     0.0   0.0  0.0      0.0\n",
      "2    2.0  0.002325  1.570796 -0.597409  1.0     0.0   0.0  0.0      0.0\n",
      "3    3.0  0.002325  1.570796 -0.287155  1.0     0.0   0.0  0.0      0.0\n",
      "4    4.0  0.002325  1.570796  0.553563  1.0     0.0   0.0  0.0      0.0\n",
      "Complete\n"
     ]
    }
   ],
   "source": [
    "lossList  = np.abs(dataDFSph.L)\n",
    "lossLimit = min(lossList)\n",
    "minLossCondition = dataDFSph.loc[(np.abs(dataDFSph['L']) <=  lossLimit)]\n",
    "\n",
    "columns = ['ConNo','r','theta','phi','vr','vTheta','vPhi','L','cosBeta']\n",
    "dataDFSph2 = pd.DataFrame(columns=columns)\n",
    "v1 = [1,0,0]\n",
    "\n",
    "# margin = 1e-8\n",
    "margin = 1/4\n",
    "# deltaTheta = (margin*(np.pi/2))\n",
    "deltaTheta = 0\n",
    "deltaPhi = margin*2*np.pi/2\n",
    "# deltaPhi = 0\n",
    "for row in dataDFSph.ConNo:\n",
    "#     phi = float(minLossCondition.phi)\n",
    "    phi = 0\n",
    "#     theta = float(minLossCondition.theta)\n",
    "    theta = np.pi/2\n",
    "    \n",
    "    randTheta = np.random.uniform( (theta-deltaTheta), (theta+deltaTheta) )\n",
    "    randPhi   = np.random.uniform( (phi-deltaPhi), (phi+deltaPhi) )\n",
    "    p1 = [rHalf,randTheta,randPhi]\n",
    "\n",
    "    r      = p1[0]\n",
    "    theta  = p1[1]\n",
    "    phi    = p1[2]\n",
    "    vr     = v1[0]\n",
    "    vtheta = v1[1]\n",
    "    vphi   = v1[2]\n",
    "\n",
    "    appendThis = ({'ConNo':row,'r':r,'theta':theta,'phi':phi,'vr':vr,'vTheta':vtheta,'vPhi':vphi,'L':0,'cosBeta':0})\n",
    "#     appendThis = ({'r':r,'theta':theta,'phi':phi,'vr':vr,'vTheta':vtheta,'vPhi':vphi})\n",
    "\n",
    "    dataDFSph2 = dataDFSph2.append(appendThis,ignore_index=True)\n",
    "    \n",
    "# dataDFSph2 = computeLossAndBeta(dataDFSph2,q,m,dt)\n",
    "print (dataDFSph2.head(5))\n",
    "print ('Complete')"
   ]
  },
  {
   "cell_type": "markdown",
   "metadata": {
    "hidden": true
   },
   "source": [
    "### Plot Initial Conditions"
   ]
  },
  {
   "cell_type": "code",
   "execution_count": 149,
   "metadata": {
    "ExecuteTime": {
     "end_time": "2022-02-15T22:58:37.091940Z",
     "start_time": "2022-02-15T22:58:36.905117Z"
    },
    "hidden": true,
    "scrolled": false
   },
   "outputs": [
    {
     "data": {
      "application/vnd.plotly.v1+json": {
       "config": {
        "plotlyServerURL": "https://plot.ly"
       },
       "data": [
        {
         "sizeref": 5,
         "type": "cone",
         "u": [
          0.0020402224618183873,
          0.0021364747995212953,
          0.0019224940265836186,
          0.0022300247097443732,
          0.0019779766900595197,
          0.0022886139369557254,
          0.0019834585899214984,
          0.002273678002667439,
          0.0020404008186613943,
          0.002065219437053244
         ],
         "v": [
          0.0011154416665683242,
          0.0009177108674497881,
          -0.0013079505047880464,
          -0.0006585648025475735,
          0.0012224262835877622,
          0.0004110523723286557,
          -0.0012135113626545167,
          0.0004869354632918052,
          -0.0011151153771834165,
          0.0010684505051908033
         ],
         "w": [
          0,
          0,
          0,
          0,
          0,
          0,
          0,
          0,
          0,
          0
         ],
         "x": [
          0.0020402224618183873,
          0.0021364747995212953,
          0.0019224940265836186,
          0.0022300247097443732,
          0.0019779766900595197,
          0.0022886139369557254,
          0.0019834585899214984,
          0.002273678002667439,
          0.0020404008186613943,
          0.002065219437053244
         ],
         "y": [
          0.0011154416665683242,
          0.0009177108674497881,
          -0.0013079505047880464,
          -0.0006585648025475735,
          0.0012224262835877622,
          0.0004110523723286557,
          -0.0012135113626545167,
          0.0004869354632918052,
          -0.0011151153771834165,
          0.0010684505051908033
         ],
         "z": [
          0,
          0,
          0,
          0,
          0,
          0,
          0,
          0,
          0,
          0
         ]
        },
        {
         "marker": {
          "color": "orange",
          "size": 6
         },
         "mode": "markers",
         "type": "scatter3d",
         "x": [
          0
         ],
         "y": [
          0
         ],
         "z": [
          0
         ]
        }
       ],
       "layout": {
        "template": {
         "data": {
          "bar": [
           {
            "error_x": {
             "color": "#2a3f5f"
            },
            "error_y": {
             "color": "#2a3f5f"
            },
            "marker": {
             "line": {
              "color": "#E5ECF6",
              "width": 0.5
             }
            },
            "type": "bar"
           }
          ],
          "barpolar": [
           {
            "marker": {
             "line": {
              "color": "#E5ECF6",
              "width": 0.5
             }
            },
            "type": "barpolar"
           }
          ],
          "carpet": [
           {
            "aaxis": {
             "endlinecolor": "#2a3f5f",
             "gridcolor": "white",
             "linecolor": "white",
             "minorgridcolor": "white",
             "startlinecolor": "#2a3f5f"
            },
            "baxis": {
             "endlinecolor": "#2a3f5f",
             "gridcolor": "white",
             "linecolor": "white",
             "minorgridcolor": "white",
             "startlinecolor": "#2a3f5f"
            },
            "type": "carpet"
           }
          ],
          "choropleth": [
           {
            "colorbar": {
             "outlinewidth": 0,
             "ticks": ""
            },
            "type": "choropleth"
           }
          ],
          "contour": [
           {
            "colorbar": {
             "outlinewidth": 0,
             "ticks": ""
            },
            "colorscale": [
             [
              0,
              "#0d0887"
             ],
             [
              0.1111111111111111,
              "#46039f"
             ],
             [
              0.2222222222222222,
              "#7201a8"
             ],
             [
              0.3333333333333333,
              "#9c179e"
             ],
             [
              0.4444444444444444,
              "#bd3786"
             ],
             [
              0.5555555555555556,
              "#d8576b"
             ],
             [
              0.6666666666666666,
              "#ed7953"
             ],
             [
              0.7777777777777778,
              "#fb9f3a"
             ],
             [
              0.8888888888888888,
              "#fdca26"
             ],
             [
              1,
              "#f0f921"
             ]
            ],
            "type": "contour"
           }
          ],
          "contourcarpet": [
           {
            "colorbar": {
             "outlinewidth": 0,
             "ticks": ""
            },
            "type": "contourcarpet"
           }
          ],
          "heatmap": [
           {
            "colorbar": {
             "outlinewidth": 0,
             "ticks": ""
            },
            "colorscale": [
             [
              0,
              "#0d0887"
             ],
             [
              0.1111111111111111,
              "#46039f"
             ],
             [
              0.2222222222222222,
              "#7201a8"
             ],
             [
              0.3333333333333333,
              "#9c179e"
             ],
             [
              0.4444444444444444,
              "#bd3786"
             ],
             [
              0.5555555555555556,
              "#d8576b"
             ],
             [
              0.6666666666666666,
              "#ed7953"
             ],
             [
              0.7777777777777778,
              "#fb9f3a"
             ],
             [
              0.8888888888888888,
              "#fdca26"
             ],
             [
              1,
              "#f0f921"
             ]
            ],
            "type": "heatmap"
           }
          ],
          "heatmapgl": [
           {
            "colorbar": {
             "outlinewidth": 0,
             "ticks": ""
            },
            "colorscale": [
             [
              0,
              "#0d0887"
             ],
             [
              0.1111111111111111,
              "#46039f"
             ],
             [
              0.2222222222222222,
              "#7201a8"
             ],
             [
              0.3333333333333333,
              "#9c179e"
             ],
             [
              0.4444444444444444,
              "#bd3786"
             ],
             [
              0.5555555555555556,
              "#d8576b"
             ],
             [
              0.6666666666666666,
              "#ed7953"
             ],
             [
              0.7777777777777778,
              "#fb9f3a"
             ],
             [
              0.8888888888888888,
              "#fdca26"
             ],
             [
              1,
              "#f0f921"
             ]
            ],
            "type": "heatmapgl"
           }
          ],
          "histogram": [
           {
            "marker": {
             "colorbar": {
              "outlinewidth": 0,
              "ticks": ""
             }
            },
            "type": "histogram"
           }
          ],
          "histogram2d": [
           {
            "colorbar": {
             "outlinewidth": 0,
             "ticks": ""
            },
            "colorscale": [
             [
              0,
              "#0d0887"
             ],
             [
              0.1111111111111111,
              "#46039f"
             ],
             [
              0.2222222222222222,
              "#7201a8"
             ],
             [
              0.3333333333333333,
              "#9c179e"
             ],
             [
              0.4444444444444444,
              "#bd3786"
             ],
             [
              0.5555555555555556,
              "#d8576b"
             ],
             [
              0.6666666666666666,
              "#ed7953"
             ],
             [
              0.7777777777777778,
              "#fb9f3a"
             ],
             [
              0.8888888888888888,
              "#fdca26"
             ],
             [
              1,
              "#f0f921"
             ]
            ],
            "type": "histogram2d"
           }
          ],
          "histogram2dcontour": [
           {
            "colorbar": {
             "outlinewidth": 0,
             "ticks": ""
            },
            "colorscale": [
             [
              0,
              "#0d0887"
             ],
             [
              0.1111111111111111,
              "#46039f"
             ],
             [
              0.2222222222222222,
              "#7201a8"
             ],
             [
              0.3333333333333333,
              "#9c179e"
             ],
             [
              0.4444444444444444,
              "#bd3786"
             ],
             [
              0.5555555555555556,
              "#d8576b"
             ],
             [
              0.6666666666666666,
              "#ed7953"
             ],
             [
              0.7777777777777778,
              "#fb9f3a"
             ],
             [
              0.8888888888888888,
              "#fdca26"
             ],
             [
              1,
              "#f0f921"
             ]
            ],
            "type": "histogram2dcontour"
           }
          ],
          "mesh3d": [
           {
            "colorbar": {
             "outlinewidth": 0,
             "ticks": ""
            },
            "type": "mesh3d"
           }
          ],
          "parcoords": [
           {
            "line": {
             "colorbar": {
              "outlinewidth": 0,
              "ticks": ""
             }
            },
            "type": "parcoords"
           }
          ],
          "pie": [
           {
            "automargin": true,
            "type": "pie"
           }
          ],
          "scatter": [
           {
            "marker": {
             "colorbar": {
              "outlinewidth": 0,
              "ticks": ""
             }
            },
            "type": "scatter"
           }
          ],
          "scatter3d": [
           {
            "line": {
             "colorbar": {
              "outlinewidth": 0,
              "ticks": ""
             }
            },
            "marker": {
             "colorbar": {
              "outlinewidth": 0,
              "ticks": ""
             }
            },
            "type": "scatter3d"
           }
          ],
          "scattercarpet": [
           {
            "marker": {
             "colorbar": {
              "outlinewidth": 0,
              "ticks": ""
             }
            },
            "type": "scattercarpet"
           }
          ],
          "scattergeo": [
           {
            "marker": {
             "colorbar": {
              "outlinewidth": 0,
              "ticks": ""
             }
            },
            "type": "scattergeo"
           }
          ],
          "scattergl": [
           {
            "marker": {
             "colorbar": {
              "outlinewidth": 0,
              "ticks": ""
             }
            },
            "type": "scattergl"
           }
          ],
          "scattermapbox": [
           {
            "marker": {
             "colorbar": {
              "outlinewidth": 0,
              "ticks": ""
             }
            },
            "type": "scattermapbox"
           }
          ],
          "scatterpolar": [
           {
            "marker": {
             "colorbar": {
              "outlinewidth": 0,
              "ticks": ""
             }
            },
            "type": "scatterpolar"
           }
          ],
          "scatterpolargl": [
           {
            "marker": {
             "colorbar": {
              "outlinewidth": 0,
              "ticks": ""
             }
            },
            "type": "scatterpolargl"
           }
          ],
          "scatterternary": [
           {
            "marker": {
             "colorbar": {
              "outlinewidth": 0,
              "ticks": ""
             }
            },
            "type": "scatterternary"
           }
          ],
          "surface": [
           {
            "colorbar": {
             "outlinewidth": 0,
             "ticks": ""
            },
            "colorscale": [
             [
              0,
              "#0d0887"
             ],
             [
              0.1111111111111111,
              "#46039f"
             ],
             [
              0.2222222222222222,
              "#7201a8"
             ],
             [
              0.3333333333333333,
              "#9c179e"
             ],
             [
              0.4444444444444444,
              "#bd3786"
             ],
             [
              0.5555555555555556,
              "#d8576b"
             ],
             [
              0.6666666666666666,
              "#ed7953"
             ],
             [
              0.7777777777777778,
              "#fb9f3a"
             ],
             [
              0.8888888888888888,
              "#fdca26"
             ],
             [
              1,
              "#f0f921"
             ]
            ],
            "type": "surface"
           }
          ],
          "table": [
           {
            "cells": {
             "fill": {
              "color": "#EBF0F8"
             },
             "line": {
              "color": "white"
             }
            },
            "header": {
             "fill": {
              "color": "#C8D4E3"
             },
             "line": {
              "color": "white"
             }
            },
            "type": "table"
           }
          ]
         },
         "layout": {
          "annotationdefaults": {
           "arrowcolor": "#2a3f5f",
           "arrowhead": 0,
           "arrowwidth": 1
          },
          "autotypenumbers": "strict",
          "coloraxis": {
           "colorbar": {
            "outlinewidth": 0,
            "ticks": ""
           }
          },
          "colorscale": {
           "diverging": [
            [
             0,
             "#8e0152"
            ],
            [
             0.1,
             "#c51b7d"
            ],
            [
             0.2,
             "#de77ae"
            ],
            [
             0.3,
             "#f1b6da"
            ],
            [
             0.4,
             "#fde0ef"
            ],
            [
             0.5,
             "#f7f7f7"
            ],
            [
             0.6,
             "#e6f5d0"
            ],
            [
             0.7,
             "#b8e186"
            ],
            [
             0.8,
             "#7fbc41"
            ],
            [
             0.9,
             "#4d9221"
            ],
            [
             1,
             "#276419"
            ]
           ],
           "sequential": [
            [
             0,
             "#0d0887"
            ],
            [
             0.1111111111111111,
             "#46039f"
            ],
            [
             0.2222222222222222,
             "#7201a8"
            ],
            [
             0.3333333333333333,
             "#9c179e"
            ],
            [
             0.4444444444444444,
             "#bd3786"
            ],
            [
             0.5555555555555556,
             "#d8576b"
            ],
            [
             0.6666666666666666,
             "#ed7953"
            ],
            [
             0.7777777777777778,
             "#fb9f3a"
            ],
            [
             0.8888888888888888,
             "#fdca26"
            ],
            [
             1,
             "#f0f921"
            ]
           ],
           "sequentialminus": [
            [
             0,
             "#0d0887"
            ],
            [
             0.1111111111111111,
             "#46039f"
            ],
            [
             0.2222222222222222,
             "#7201a8"
            ],
            [
             0.3333333333333333,
             "#9c179e"
            ],
            [
             0.4444444444444444,
             "#bd3786"
            ],
            [
             0.5555555555555556,
             "#d8576b"
            ],
            [
             0.6666666666666666,
             "#ed7953"
            ],
            [
             0.7777777777777778,
             "#fb9f3a"
            ],
            [
             0.8888888888888888,
             "#fdca26"
            ],
            [
             1,
             "#f0f921"
            ]
           ]
          },
          "colorway": [
           "#636efa",
           "#EF553B",
           "#00cc96",
           "#ab63fa",
           "#FFA15A",
           "#19d3f3",
           "#FF6692",
           "#B6E880",
           "#FF97FF",
           "#FECB52"
          ],
          "font": {
           "color": "#2a3f5f"
          },
          "geo": {
           "bgcolor": "white",
           "lakecolor": "white",
           "landcolor": "#E5ECF6",
           "showlakes": true,
           "showland": true,
           "subunitcolor": "white"
          },
          "hoverlabel": {
           "align": "left"
          },
          "hovermode": "closest",
          "mapbox": {
           "style": "light"
          },
          "paper_bgcolor": "white",
          "plot_bgcolor": "#E5ECF6",
          "polar": {
           "angularaxis": {
            "gridcolor": "white",
            "linecolor": "white",
            "ticks": ""
           },
           "bgcolor": "#E5ECF6",
           "radialaxis": {
            "gridcolor": "white",
            "linecolor": "white",
            "ticks": ""
           }
          },
          "scene": {
           "xaxis": {
            "backgroundcolor": "#E5ECF6",
            "gridcolor": "white",
            "gridwidth": 2,
            "linecolor": "white",
            "showbackground": true,
            "ticks": "",
            "zerolinecolor": "white"
           },
           "yaxis": {
            "backgroundcolor": "#E5ECF6",
            "gridcolor": "white",
            "gridwidth": 2,
            "linecolor": "white",
            "showbackground": true,
            "ticks": "",
            "zerolinecolor": "white"
           },
           "zaxis": {
            "backgroundcolor": "#E5ECF6",
            "gridcolor": "white",
            "gridwidth": 2,
            "linecolor": "white",
            "showbackground": true,
            "ticks": "",
            "zerolinecolor": "white"
           }
          },
          "shapedefaults": {
           "line": {
            "color": "#2a3f5f"
           }
          },
          "ternary": {
           "aaxis": {
            "gridcolor": "white",
            "linecolor": "white",
            "ticks": ""
           },
           "baxis": {
            "gridcolor": "white",
            "linecolor": "white",
            "ticks": ""
           },
           "bgcolor": "#E5ECF6",
           "caxis": {
            "gridcolor": "white",
            "linecolor": "white",
            "ticks": ""
           }
          },
          "title": {
           "x": 0.05
          },
          "xaxis": {
           "automargin": true,
           "gridcolor": "white",
           "linecolor": "white",
           "ticks": "",
           "title": {
            "standoff": 15
           },
           "zerolinecolor": "white",
           "zerolinewidth": 2
          },
          "yaxis": {
           "automargin": true,
           "gridcolor": "white",
           "linecolor": "white",
           "ticks": "",
           "title": {
            "standoff": 15
           },
           "zerolinecolor": "white",
           "zerolinewidth": 2
          }
         }
        }
       }
      },
      "text/html": [
       "<div>                            <div id=\"0b822db1-f0eb-47d4-9bd7-7b91a8baf689\" class=\"plotly-graph-div\" style=\"height:525px; width:100%;\"></div>            <script type=\"text/javascript\">                require([\"plotly\"], function(Plotly) {                    window.PLOTLYENV=window.PLOTLYENV || {};                                    if (document.getElementById(\"0b822db1-f0eb-47d4-9bd7-7b91a8baf689\")) {                    Plotly.newPlot(                        \"0b822db1-f0eb-47d4-9bd7-7b91a8baf689\",                        [{\"sizeref\": 5, \"type\": \"cone\", \"u\": [0.0020402224618183873, 0.0021364747995212953, 0.0019224940265836186, 0.0022300247097443732, 0.0019779766900595197, 0.0022886139369557254, 0.0019834585899214984, 0.002273678002667439, 0.0020404008186613943, 0.002065219437053244], \"v\": [0.0011154416665683242, 0.0009177108674497881, -0.0013079505047880464, -0.0006585648025475735, 0.0012224262835877622, 0.0004110523723286557, -0.0012135113626545167, 0.0004869354632918052, -0.0011151153771834165, 0.0010684505051908033], \"w\": [0.0, 0.0, 0.0, 0.0, 0.0, 0.0, 0.0, 0.0, 0.0, 0.0], \"x\": [0.0020402224618183873, 0.0021364747995212953, 0.0019224940265836186, 0.0022300247097443732, 0.0019779766900595197, 0.0022886139369557254, 0.0019834585899214984, 0.002273678002667439, 0.0020404008186613943, 0.002065219437053244], \"y\": [0.0011154416665683242, 0.0009177108674497881, -0.0013079505047880464, -0.0006585648025475735, 0.0012224262835877622, 0.0004110523723286557, -0.0012135113626545167, 0.0004869354632918052, -0.0011151153771834165, 0.0010684505051908033], \"z\": [0.0, 0.0, 0.0, 0.0, 0.0, 0.0, 0.0, 0.0, 0.0, 0.0]}, {\"marker\": {\"color\": \"orange\", \"size\": 6}, \"mode\": \"markers\", \"type\": \"scatter3d\", \"x\": [0], \"y\": [0], \"z\": [0]}],                        {\"template\": {\"data\": {\"bar\": [{\"error_x\": {\"color\": \"#2a3f5f\"}, \"error_y\": {\"color\": \"#2a3f5f\"}, \"marker\": {\"line\": {\"color\": \"#E5ECF6\", \"width\": 0.5}}, \"type\": \"bar\"}], \"barpolar\": [{\"marker\": {\"line\": {\"color\": \"#E5ECF6\", \"width\": 0.5}}, \"type\": \"barpolar\"}], \"carpet\": [{\"aaxis\": {\"endlinecolor\": \"#2a3f5f\", \"gridcolor\": \"white\", \"linecolor\": \"white\", \"minorgridcolor\": \"white\", \"startlinecolor\": \"#2a3f5f\"}, \"baxis\": {\"endlinecolor\": \"#2a3f5f\", \"gridcolor\": \"white\", \"linecolor\": \"white\", \"minorgridcolor\": \"white\", \"startlinecolor\": \"#2a3f5f\"}, \"type\": \"carpet\"}], \"choropleth\": [{\"colorbar\": {\"outlinewidth\": 0, \"ticks\": \"\"}, \"type\": \"choropleth\"}], \"contour\": [{\"colorbar\": {\"outlinewidth\": 0, \"ticks\": \"\"}, \"colorscale\": [[0.0, \"#0d0887\"], [0.1111111111111111, \"#46039f\"], [0.2222222222222222, \"#7201a8\"], [0.3333333333333333, \"#9c179e\"], [0.4444444444444444, \"#bd3786\"], [0.5555555555555556, \"#d8576b\"], [0.6666666666666666, \"#ed7953\"], [0.7777777777777778, \"#fb9f3a\"], [0.8888888888888888, \"#fdca26\"], [1.0, \"#f0f921\"]], \"type\": \"contour\"}], \"contourcarpet\": [{\"colorbar\": {\"outlinewidth\": 0, \"ticks\": \"\"}, \"type\": \"contourcarpet\"}], \"heatmap\": [{\"colorbar\": {\"outlinewidth\": 0, \"ticks\": \"\"}, \"colorscale\": [[0.0, \"#0d0887\"], [0.1111111111111111, \"#46039f\"], [0.2222222222222222, \"#7201a8\"], [0.3333333333333333, \"#9c179e\"], [0.4444444444444444, \"#bd3786\"], [0.5555555555555556, \"#d8576b\"], [0.6666666666666666, \"#ed7953\"], [0.7777777777777778, \"#fb9f3a\"], [0.8888888888888888, \"#fdca26\"], [1.0, \"#f0f921\"]], \"type\": \"heatmap\"}], \"heatmapgl\": [{\"colorbar\": {\"outlinewidth\": 0, \"ticks\": \"\"}, \"colorscale\": [[0.0, \"#0d0887\"], [0.1111111111111111, \"#46039f\"], [0.2222222222222222, \"#7201a8\"], [0.3333333333333333, \"#9c179e\"], [0.4444444444444444, \"#bd3786\"], [0.5555555555555556, \"#d8576b\"], [0.6666666666666666, \"#ed7953\"], [0.7777777777777778, \"#fb9f3a\"], [0.8888888888888888, \"#fdca26\"], [1.0, \"#f0f921\"]], \"type\": \"heatmapgl\"}], \"histogram\": [{\"marker\": {\"colorbar\": {\"outlinewidth\": 0, \"ticks\": \"\"}}, \"type\": \"histogram\"}], \"histogram2d\": [{\"colorbar\": {\"outlinewidth\": 0, \"ticks\": \"\"}, \"colorscale\": [[0.0, \"#0d0887\"], [0.1111111111111111, \"#46039f\"], [0.2222222222222222, \"#7201a8\"], [0.3333333333333333, \"#9c179e\"], [0.4444444444444444, \"#bd3786\"], [0.5555555555555556, \"#d8576b\"], [0.6666666666666666, \"#ed7953\"], [0.7777777777777778, \"#fb9f3a\"], [0.8888888888888888, \"#fdca26\"], [1.0, \"#f0f921\"]], \"type\": \"histogram2d\"}], \"histogram2dcontour\": [{\"colorbar\": {\"outlinewidth\": 0, \"ticks\": \"\"}, \"colorscale\": [[0.0, \"#0d0887\"], [0.1111111111111111, \"#46039f\"], [0.2222222222222222, \"#7201a8\"], [0.3333333333333333, \"#9c179e\"], [0.4444444444444444, \"#bd3786\"], [0.5555555555555556, \"#d8576b\"], [0.6666666666666666, \"#ed7953\"], [0.7777777777777778, \"#fb9f3a\"], [0.8888888888888888, \"#fdca26\"], [1.0, \"#f0f921\"]], \"type\": \"histogram2dcontour\"}], \"mesh3d\": [{\"colorbar\": {\"outlinewidth\": 0, \"ticks\": \"\"}, \"type\": \"mesh3d\"}], \"parcoords\": [{\"line\": {\"colorbar\": {\"outlinewidth\": 0, \"ticks\": \"\"}}, \"type\": \"parcoords\"}], \"pie\": [{\"automargin\": true, \"type\": \"pie\"}], \"scatter\": [{\"marker\": {\"colorbar\": {\"outlinewidth\": 0, \"ticks\": \"\"}}, \"type\": \"scatter\"}], \"scatter3d\": [{\"line\": {\"colorbar\": {\"outlinewidth\": 0, \"ticks\": \"\"}}, \"marker\": {\"colorbar\": {\"outlinewidth\": 0, \"ticks\": \"\"}}, \"type\": \"scatter3d\"}], \"scattercarpet\": [{\"marker\": {\"colorbar\": {\"outlinewidth\": 0, \"ticks\": \"\"}}, \"type\": \"scattercarpet\"}], \"scattergeo\": [{\"marker\": {\"colorbar\": {\"outlinewidth\": 0, \"ticks\": \"\"}}, \"type\": \"scattergeo\"}], \"scattergl\": [{\"marker\": {\"colorbar\": {\"outlinewidth\": 0, \"ticks\": \"\"}}, \"type\": \"scattergl\"}], \"scattermapbox\": [{\"marker\": {\"colorbar\": {\"outlinewidth\": 0, \"ticks\": \"\"}}, \"type\": \"scattermapbox\"}], \"scatterpolar\": [{\"marker\": {\"colorbar\": {\"outlinewidth\": 0, \"ticks\": \"\"}}, \"type\": \"scatterpolar\"}], \"scatterpolargl\": [{\"marker\": {\"colorbar\": {\"outlinewidth\": 0, \"ticks\": \"\"}}, \"type\": \"scatterpolargl\"}], \"scatterternary\": [{\"marker\": {\"colorbar\": {\"outlinewidth\": 0, \"ticks\": \"\"}}, \"type\": \"scatterternary\"}], \"surface\": [{\"colorbar\": {\"outlinewidth\": 0, \"ticks\": \"\"}, \"colorscale\": [[0.0, \"#0d0887\"], [0.1111111111111111, \"#46039f\"], [0.2222222222222222, \"#7201a8\"], [0.3333333333333333, \"#9c179e\"], [0.4444444444444444, \"#bd3786\"], [0.5555555555555556, \"#d8576b\"], [0.6666666666666666, \"#ed7953\"], [0.7777777777777778, \"#fb9f3a\"], [0.8888888888888888, \"#fdca26\"], [1.0, \"#f0f921\"]], \"type\": \"surface\"}], \"table\": [{\"cells\": {\"fill\": {\"color\": \"#EBF0F8\"}, \"line\": {\"color\": \"white\"}}, \"header\": {\"fill\": {\"color\": \"#C8D4E3\"}, \"line\": {\"color\": \"white\"}}, \"type\": \"table\"}]}, \"layout\": {\"annotationdefaults\": {\"arrowcolor\": \"#2a3f5f\", \"arrowhead\": 0, \"arrowwidth\": 1}, \"autotypenumbers\": \"strict\", \"coloraxis\": {\"colorbar\": {\"outlinewidth\": 0, \"ticks\": \"\"}}, \"colorscale\": {\"diverging\": [[0, \"#8e0152\"], [0.1, \"#c51b7d\"], [0.2, \"#de77ae\"], [0.3, \"#f1b6da\"], [0.4, \"#fde0ef\"], [0.5, \"#f7f7f7\"], [0.6, \"#e6f5d0\"], [0.7, \"#b8e186\"], [0.8, \"#7fbc41\"], [0.9, \"#4d9221\"], [1, \"#276419\"]], \"sequential\": [[0.0, \"#0d0887\"], [0.1111111111111111, \"#46039f\"], [0.2222222222222222, \"#7201a8\"], [0.3333333333333333, \"#9c179e\"], [0.4444444444444444, \"#bd3786\"], [0.5555555555555556, \"#d8576b\"], [0.6666666666666666, \"#ed7953\"], [0.7777777777777778, \"#fb9f3a\"], [0.8888888888888888, \"#fdca26\"], [1.0, \"#f0f921\"]], \"sequentialminus\": [[0.0, \"#0d0887\"], [0.1111111111111111, \"#46039f\"], [0.2222222222222222, \"#7201a8\"], [0.3333333333333333, \"#9c179e\"], [0.4444444444444444, \"#bd3786\"], [0.5555555555555556, \"#d8576b\"], [0.6666666666666666, \"#ed7953\"], [0.7777777777777778, \"#fb9f3a\"], [0.8888888888888888, \"#fdca26\"], [1.0, \"#f0f921\"]]}, \"colorway\": [\"#636efa\", \"#EF553B\", \"#00cc96\", \"#ab63fa\", \"#FFA15A\", \"#19d3f3\", \"#FF6692\", \"#B6E880\", \"#FF97FF\", \"#FECB52\"], \"font\": {\"color\": \"#2a3f5f\"}, \"geo\": {\"bgcolor\": \"white\", \"lakecolor\": \"white\", \"landcolor\": \"#E5ECF6\", \"showlakes\": true, \"showland\": true, \"subunitcolor\": \"white\"}, \"hoverlabel\": {\"align\": \"left\"}, \"hovermode\": \"closest\", \"mapbox\": {\"style\": \"light\"}, \"paper_bgcolor\": \"white\", \"plot_bgcolor\": \"#E5ECF6\", \"polar\": {\"angularaxis\": {\"gridcolor\": \"white\", \"linecolor\": \"white\", \"ticks\": \"\"}, \"bgcolor\": \"#E5ECF6\", \"radialaxis\": {\"gridcolor\": \"white\", \"linecolor\": \"white\", \"ticks\": \"\"}}, \"scene\": {\"xaxis\": {\"backgroundcolor\": \"#E5ECF6\", \"gridcolor\": \"white\", \"gridwidth\": 2, \"linecolor\": \"white\", \"showbackground\": true, \"ticks\": \"\", \"zerolinecolor\": \"white\"}, \"yaxis\": {\"backgroundcolor\": \"#E5ECF6\", \"gridcolor\": \"white\", \"gridwidth\": 2, \"linecolor\": \"white\", \"showbackground\": true, \"ticks\": \"\", \"zerolinecolor\": \"white\"}, \"zaxis\": {\"backgroundcolor\": \"#E5ECF6\", \"gridcolor\": \"white\", \"gridwidth\": 2, \"linecolor\": \"white\", \"showbackground\": true, \"ticks\": \"\", \"zerolinecolor\": \"white\"}}, \"shapedefaults\": {\"line\": {\"color\": \"#2a3f5f\"}}, \"ternary\": {\"aaxis\": {\"gridcolor\": \"white\", \"linecolor\": \"white\", \"ticks\": \"\"}, \"baxis\": {\"gridcolor\": \"white\", \"linecolor\": \"white\", \"ticks\": \"\"}, \"bgcolor\": \"#E5ECF6\", \"caxis\": {\"gridcolor\": \"white\", \"linecolor\": \"white\", \"ticks\": \"\"}}, \"title\": {\"x\": 0.05}, \"xaxis\": {\"automargin\": true, \"gridcolor\": \"white\", \"linecolor\": \"white\", \"ticks\": \"\", \"title\": {\"standoff\": 15}, \"zerolinecolor\": \"white\", \"zerolinewidth\": 2}, \"yaxis\": {\"automargin\": true, \"gridcolor\": \"white\", \"linecolor\": \"white\", \"ticks\": \"\", \"title\": {\"standoff\": 15}, \"zerolinecolor\": \"white\", \"zerolinewidth\": 2}}}},                        {\"responsive\": true}                    ).then(function(){\n",
       "                            \n",
       "var gd = document.getElementById('0b822db1-f0eb-47d4-9bd7-7b91a8baf689');\n",
       "var x = new MutationObserver(function (mutations, observer) {{\n",
       "        var display = window.getComputedStyle(gd).display;\n",
       "        if (!display || display === 'none') {{\n",
       "            console.log([gd, 'removed!']);\n",
       "            Plotly.purge(gd);\n",
       "            observer.disconnect();\n",
       "        }}\n",
       "}});\n",
       "\n",
       "// Listen for the removal of the full notebook cells\n",
       "var notebookContainer = gd.closest('#notebook-container');\n",
       "if (notebookContainer) {{\n",
       "    x.observe(notebookContainer, {childList: true});\n",
       "}}\n",
       "\n",
       "// Listen for the clearing of the current output cell\n",
       "var outputEl = gd.closest('.output');\n",
       "if (outputEl) {{\n",
       "    x.observe(outputEl, {childList: true});\n",
       "}}\n",
       "\n",
       "                        })                };                });            </script>        </div>"
      ]
     },
     "metadata": {},
     "output_type": "display_data"
    },
    {
     "name": "stdout",
     "output_type": "stream",
     "text": [
      "None\n"
     ]
    }
   ],
   "source": [
    "# dataDFCar = sphDF2CarDF(dataDFSph2)\n",
    "# x,y,z = dataDFCar.x,dataDFCar.y,dataDFCar.z\n",
    "# loss = dataDFCar.L\n",
    "# vx,vy,vz = dataDFCar.vx,dataDFCar.vy,dataDFCar.vz\n",
    "\n",
    "def plotConditions(dataDFSph2,coneSize = 0.5):\n",
    "    dataDFCar = sphDF2CarDF(dataDFSph2)\n",
    "    x,y,z = dataDFCar.x,dataDFCar.y,dataDFCar.z\n",
    "    loss = dataDFCar.L\n",
    "    vx,vy,vz = dataDFCar.vx,dataDFCar.vy,dataDFCar.vz\n",
    "\n",
    "    # Trajectories\n",
    "    fig1 = go.Figure(data=go.Cone(\n",
    "    x=x, \n",
    "    y=y, \n",
    "    z=z, \n",
    "    u=vx, \n",
    "    v=vy, \n",
    "    w=vz,\n",
    "    #     sizemode = 'absolute',\n",
    "    sizeref = coneSize\n",
    "    ))\n",
    "\n",
    "    # Add the location of the sun\n",
    "    fig1.add_trace(\n",
    "    go.Scatter3d(\n",
    "        x=[0],\n",
    "        y=[0],\n",
    "        z=[0],\n",
    "        mode = 'markers',\n",
    "        marker = dict(\n",
    "            size = 6,\n",
    "            color = 'orange')\n",
    "                )\n",
    "            )\n",
    "    fig1.show()\n",
    "    \n",
    "print (plotConditions(dataDFSph2,5))"
   ]
  },
  {
   "cell_type": "markdown",
   "metadata": {
    "hidden": true
   },
   "source": [
    "### Plot a Single Trajectory"
   ]
  },
  {
   "cell_type": "code",
   "execution_count": 151,
   "metadata": {
    "ExecuteTime": {
     "end_time": "2022-02-15T22:59:21.375884Z",
     "start_time": "2022-02-15T22:59:21.005248Z"
    },
    "hidden": true
   },
   "outputs": [
    {
     "data": {
      "application/vnd.plotly.v1+json": {
       "config": {
        "linkText": "Export to plot.ly",
        "plotlyServerURL": "https://plot.ly",
        "showLink": false
       },
       "data": [
        {
         "marker": {
          "color": [
           0,
           0,
           0,
           0,
           0,
           0,
           0,
           0,
           0,
           0,
           0,
           0,
           0,
           0,
           0,
           0,
           0,
           0,
           0,
           0,
           0,
           0,
           0,
           0,
           0,
           0,
           0,
           0,
           0,
           0,
           0,
           0,
           0,
           0,
           0,
           0,
           0,
           0,
           0,
           0,
           0,
           0,
           0,
           0,
           0,
           0,
           0,
           0,
           0,
           0,
           0,
           0,
           0,
           0,
           0,
           0,
           0,
           0,
           0,
           0,
           0,
           0,
           0,
           0,
           0,
           0,
           0,
           0,
           0,
           0,
           0,
           0,
           0,
           0,
           0,
           0,
           0,
           0,
           0,
           0,
           0,
           0,
           0,
           0,
           0,
           0,
           0,
           0,
           0,
           0,
           0,
           0,
           0,
           0,
           0,
           0,
           0,
           0,
           0,
           0,
           0
          ],
          "colorscale": [
           [
            0,
            "#440154"
           ],
           [
            0.1111111111111111,
            "#482878"
           ],
           [
            0.2222222222222222,
            "#3e4989"
           ],
           [
            0.3333333333333333,
            "#31688e"
           ],
           [
            0.4444444444444444,
            "#26828e"
           ],
           [
            0.5555555555555556,
            "#1f9e89"
           ],
           [
            0.6666666666666666,
            "#35b779"
           ],
           [
            0.7777777777777778,
            "#6ece58"
           ],
           [
            0.8888888888888888,
            "#b5de2b"
           ],
           [
            1,
            "#fde725"
           ]
          ],
          "size": 2
         },
         "mode": "markers",
         "type": "scatter3d",
         "x": [
          0.002273678002667439,
          0.012051949887734894,
          0.02183022177280272,
          0.03160849365787092,
          0.04138676554293949,
          0.05116503742800843,
          0.060943309313077745,
          0.07072158119814743,
          0.0804998530832175,
          0.09027812496828792,
          0.10005639685335872,
          0.1098346687384299,
          0.11961294062350145,
          0.12939121250857336,
          0.13916948439364565,
          0.1489477562787183,
          0.15872602816379133,
          0.16850430004886474,
          0.1782825719339385,
          0.18806084381901267,
          0.1978391157040872,
          0.2076173875891621,
          0.21739565947423736,
          0.227173931359313,
          0.236952203244389,
          0.2467304751294654,
          0.2565087470145421,
          0.26628701889961925,
          0.27606529078469677,
          0.2858435626697746,
          0.29562183455485286,
          0.3054001064399315,
          0.31517837832501044,
          0.3249566502100898,
          0.33473492209516953,
          0.34451319398024965,
          0.3542914658653301,
          0.36406973775041096,
          0.3738480096354922,
          0.38362628152057376,
          0.3934045534056557,
          0.40318282529073807,
          0.41296109717582075,
          0.4227393690609038,
          0.43251764094598727,
          0.4422959128310711,
          0.4520741847161553,
          0.46185245660123986,
          0.4716307284863248,
          0.4814090003714101,
          0.4911872722564958,
          0.5009655441415818,
          0.5107438160266682,
          0.520522087911755,
          0.5303003597968422,
          0.5400786316819297,
          0.5498569035670177,
          0.559635175452106,
          0.5694134473371946,
          0.5791917192222836,
          0.588969991107373,
          0.5987482629924628,
          0.6085265348775529,
          0.6183048067626434,
          0.6280830786477343,
          0.6378613505328256,
          0.6476396224179172,
          0.6574178943030091,
          0.6671961661881015,
          0.6769744380731942,
          0.6867527099582874,
          0.6965309818433809,
          0.7063092537284748,
          0.716087525613569,
          0.7258657974986636,
          0.7356440693837586,
          0.745422341268854,
          0.7552006131539497,
          0.7649788850390458,
          0.7747571569241423,
          0.7845354288092391,
          0.7943137006943363,
          0.8040919725794339,
          0.8138702444645318,
          0.8236485163496301,
          0.8334267882347288,
          0.8432050601198279,
          0.8529833320049273,
          0.8627616038900271,
          0.8725398757751273,
          0.8823181476602279,
          0.8920964195453288,
          0.9018746914304301,
          0.9116529633155318,
          0.9214312352006339,
          0.9312095070857362,
          0.9409877789708391,
          0.9507660508559422,
          0.9605443227410457,
          0.9703225946261497,
          0.9801008665112539
         ],
         "y": [
          0.0004869354632918052,
          0.002581069876766587,
          0.004675204290239634,
          0.006769338703710947,
          0.008863473117180524,
          0.010957607530648367,
          0.013051741944114474,
          0.015145876357578848,
          0.017240010771041488,
          0.019334145184502393,
          0.021428279597961564,
          0.023522414011419,
          0.0256165484248747,
          0.027710682838328667,
          0.0298048172517809,
          0.03189895166523139,
          0.03399308607868015,
          0.036087220492127176,
          0.038181354905572465,
          0.04027548931901602,
          0.04236962373245784,
          0.044463758145897925,
          0.046557892559336275,
          0.04865202697277289,
          0.05074616138620777,
          0.05284029579964092,
          0.05493443021307233,
          0.05702856462650201,
          0.05912269903992995,
          0.061216833453356156,
          0.06331096786678063,
          0.06540510228020337,
          0.06749923669362437,
          0.06959337110704364,
          0.07168750552046117,
          0.07378163993387697,
          0.07587577434729104,
          0.07796990876070337,
          0.08006404317411396,
          0.08215817758752282,
          0.08425231200092995,
          0.08634644641433534,
          0.088440580827739,
          0.09053471524114091,
          0.0926288496545411,
          0.09472298406793955,
          0.09681711848133627,
          0.09891125289473125,
          0.1010053873081245,
          0.10309952172151601,
          0.10519365613490579,
          0.10728779054829383,
          0.10938192496168014,
          0.11147605937506472,
          0.11357019378844756,
          0.11566432820182866,
          0.11775846261520803,
          0.11985259702858567,
          0.12194673144196157,
          0.12404086585533573,
          0.12613500026870816,
          0.12822913468207886,
          0.13032326909544784,
          0.13241740350881506,
          0.13451153792218057,
          0.13660567233554433,
          0.13869980674890636,
          0.14079394116226665,
          0.14288807557562522,
          0.14498220998898204,
          0.14707634440233713,
          0.14917047881569048,
          0.1512646132290421,
          0.153358747642392,
          0.15545288205574015,
          0.15754701646908656,
          0.15964115088243125,
          0.1617352852957742,
          0.1638294197091154,
          0.16592355412245488,
          0.16801768853579263,
          0.17011182294912863,
          0.1722059573624629,
          0.17430009177579545,
          0.17639422618912626,
          0.17848836060245532,
          0.18058249501578266,
          0.18267662942910826,
          0.18477076384243213,
          0.18686489825575425,
          0.18895903266907466,
          0.1910531670823933,
          0.19314730149571024,
          0.19524143590902543,
          0.1973355703223389,
          0.1994297047356506,
          0.2015238391489606,
          0.20361797356226885,
          0.20571210797557538,
          0.20780624238888015,
          0.2099003768021832
         ],
         "z": [
          0,
          0,
          0,
          0,
          0,
          0,
          0,
          0,
          0,
          0,
          0,
          0,
          0,
          0,
          0,
          0,
          0,
          0,
          0,
          0,
          0,
          0,
          0,
          0,
          0,
          0,
          0,
          0,
          0,
          0,
          0,
          0,
          0,
          0,
          0,
          0,
          0,
          0,
          0,
          0,
          0,
          0,
          0,
          0,
          0,
          0,
          0,
          0,
          0,
          0,
          0,
          0,
          0,
          0,
          0,
          0,
          0,
          0,
          0,
          0,
          0,
          0,
          0,
          0,
          0,
          0,
          0,
          0,
          0,
          0,
          0,
          0,
          0,
          0,
          0,
          0,
          0,
          0,
          0,
          0,
          0,
          0,
          0,
          0,
          0,
          0,
          0,
          0,
          0,
          0,
          0,
          0,
          0,
          0,
          0,
          0,
          0,
          0,
          0,
          0,
          0
         ]
        },
        {
         "marker": {
          "color": "orange",
          "size": 6
         },
         "mode": "markers",
         "type": "scatter3d",
         "x": [
          0
         ],
         "y": [
          0
         ],
         "z": [
          0
         ]
        }
       ],
       "layout": {
        "scene": {
         "zaxis": {
          "range": [
           0,
           0
          ]
         }
        },
        "template": {
         "data": {
          "bar": [
           {
            "error_x": {
             "color": "#2a3f5f"
            },
            "error_y": {
             "color": "#2a3f5f"
            },
            "marker": {
             "line": {
              "color": "#E5ECF6",
              "width": 0.5
             }
            },
            "type": "bar"
           }
          ],
          "barpolar": [
           {
            "marker": {
             "line": {
              "color": "#E5ECF6",
              "width": 0.5
             }
            },
            "type": "barpolar"
           }
          ],
          "carpet": [
           {
            "aaxis": {
             "endlinecolor": "#2a3f5f",
             "gridcolor": "white",
             "linecolor": "white",
             "minorgridcolor": "white",
             "startlinecolor": "#2a3f5f"
            },
            "baxis": {
             "endlinecolor": "#2a3f5f",
             "gridcolor": "white",
             "linecolor": "white",
             "minorgridcolor": "white",
             "startlinecolor": "#2a3f5f"
            },
            "type": "carpet"
           }
          ],
          "choropleth": [
           {
            "colorbar": {
             "outlinewidth": 0,
             "ticks": ""
            },
            "type": "choropleth"
           }
          ],
          "contour": [
           {
            "colorbar": {
             "outlinewidth": 0,
             "ticks": ""
            },
            "colorscale": [
             [
              0,
              "#0d0887"
             ],
             [
              0.1111111111111111,
              "#46039f"
             ],
             [
              0.2222222222222222,
              "#7201a8"
             ],
             [
              0.3333333333333333,
              "#9c179e"
             ],
             [
              0.4444444444444444,
              "#bd3786"
             ],
             [
              0.5555555555555556,
              "#d8576b"
             ],
             [
              0.6666666666666666,
              "#ed7953"
             ],
             [
              0.7777777777777778,
              "#fb9f3a"
             ],
             [
              0.8888888888888888,
              "#fdca26"
             ],
             [
              1,
              "#f0f921"
             ]
            ],
            "type": "contour"
           }
          ],
          "contourcarpet": [
           {
            "colorbar": {
             "outlinewidth": 0,
             "ticks": ""
            },
            "type": "contourcarpet"
           }
          ],
          "heatmap": [
           {
            "colorbar": {
             "outlinewidth": 0,
             "ticks": ""
            },
            "colorscale": [
             [
              0,
              "#0d0887"
             ],
             [
              0.1111111111111111,
              "#46039f"
             ],
             [
              0.2222222222222222,
              "#7201a8"
             ],
             [
              0.3333333333333333,
              "#9c179e"
             ],
             [
              0.4444444444444444,
              "#bd3786"
             ],
             [
              0.5555555555555556,
              "#d8576b"
             ],
             [
              0.6666666666666666,
              "#ed7953"
             ],
             [
              0.7777777777777778,
              "#fb9f3a"
             ],
             [
              0.8888888888888888,
              "#fdca26"
             ],
             [
              1,
              "#f0f921"
             ]
            ],
            "type": "heatmap"
           }
          ],
          "heatmapgl": [
           {
            "colorbar": {
             "outlinewidth": 0,
             "ticks": ""
            },
            "colorscale": [
             [
              0,
              "#0d0887"
             ],
             [
              0.1111111111111111,
              "#46039f"
             ],
             [
              0.2222222222222222,
              "#7201a8"
             ],
             [
              0.3333333333333333,
              "#9c179e"
             ],
             [
              0.4444444444444444,
              "#bd3786"
             ],
             [
              0.5555555555555556,
              "#d8576b"
             ],
             [
              0.6666666666666666,
              "#ed7953"
             ],
             [
              0.7777777777777778,
              "#fb9f3a"
             ],
             [
              0.8888888888888888,
              "#fdca26"
             ],
             [
              1,
              "#f0f921"
             ]
            ],
            "type": "heatmapgl"
           }
          ],
          "histogram": [
           {
            "marker": {
             "colorbar": {
              "outlinewidth": 0,
              "ticks": ""
             }
            },
            "type": "histogram"
           }
          ],
          "histogram2d": [
           {
            "colorbar": {
             "outlinewidth": 0,
             "ticks": ""
            },
            "colorscale": [
             [
              0,
              "#0d0887"
             ],
             [
              0.1111111111111111,
              "#46039f"
             ],
             [
              0.2222222222222222,
              "#7201a8"
             ],
             [
              0.3333333333333333,
              "#9c179e"
             ],
             [
              0.4444444444444444,
              "#bd3786"
             ],
             [
              0.5555555555555556,
              "#d8576b"
             ],
             [
              0.6666666666666666,
              "#ed7953"
             ],
             [
              0.7777777777777778,
              "#fb9f3a"
             ],
             [
              0.8888888888888888,
              "#fdca26"
             ],
             [
              1,
              "#f0f921"
             ]
            ],
            "type": "histogram2d"
           }
          ],
          "histogram2dcontour": [
           {
            "colorbar": {
             "outlinewidth": 0,
             "ticks": ""
            },
            "colorscale": [
             [
              0,
              "#0d0887"
             ],
             [
              0.1111111111111111,
              "#46039f"
             ],
             [
              0.2222222222222222,
              "#7201a8"
             ],
             [
              0.3333333333333333,
              "#9c179e"
             ],
             [
              0.4444444444444444,
              "#bd3786"
             ],
             [
              0.5555555555555556,
              "#d8576b"
             ],
             [
              0.6666666666666666,
              "#ed7953"
             ],
             [
              0.7777777777777778,
              "#fb9f3a"
             ],
             [
              0.8888888888888888,
              "#fdca26"
             ],
             [
              1,
              "#f0f921"
             ]
            ],
            "type": "histogram2dcontour"
           }
          ],
          "mesh3d": [
           {
            "colorbar": {
             "outlinewidth": 0,
             "ticks": ""
            },
            "type": "mesh3d"
           }
          ],
          "parcoords": [
           {
            "line": {
             "colorbar": {
              "outlinewidth": 0,
              "ticks": ""
             }
            },
            "type": "parcoords"
           }
          ],
          "pie": [
           {
            "automargin": true,
            "type": "pie"
           }
          ],
          "scatter": [
           {
            "marker": {
             "colorbar": {
              "outlinewidth": 0,
              "ticks": ""
             }
            },
            "type": "scatter"
           }
          ],
          "scatter3d": [
           {
            "line": {
             "colorbar": {
              "outlinewidth": 0,
              "ticks": ""
             }
            },
            "marker": {
             "colorbar": {
              "outlinewidth": 0,
              "ticks": ""
             }
            },
            "type": "scatter3d"
           }
          ],
          "scattercarpet": [
           {
            "marker": {
             "colorbar": {
              "outlinewidth": 0,
              "ticks": ""
             }
            },
            "type": "scattercarpet"
           }
          ],
          "scattergeo": [
           {
            "marker": {
             "colorbar": {
              "outlinewidth": 0,
              "ticks": ""
             }
            },
            "type": "scattergeo"
           }
          ],
          "scattergl": [
           {
            "marker": {
             "colorbar": {
              "outlinewidth": 0,
              "ticks": ""
             }
            },
            "type": "scattergl"
           }
          ],
          "scattermapbox": [
           {
            "marker": {
             "colorbar": {
              "outlinewidth": 0,
              "ticks": ""
             }
            },
            "type": "scattermapbox"
           }
          ],
          "scatterpolar": [
           {
            "marker": {
             "colorbar": {
              "outlinewidth": 0,
              "ticks": ""
             }
            },
            "type": "scatterpolar"
           }
          ],
          "scatterpolargl": [
           {
            "marker": {
             "colorbar": {
              "outlinewidth": 0,
              "ticks": ""
             }
            },
            "type": "scatterpolargl"
           }
          ],
          "scatterternary": [
           {
            "marker": {
             "colorbar": {
              "outlinewidth": 0,
              "ticks": ""
             }
            },
            "type": "scatterternary"
           }
          ],
          "surface": [
           {
            "colorbar": {
             "outlinewidth": 0,
             "ticks": ""
            },
            "colorscale": [
             [
              0,
              "#0d0887"
             ],
             [
              0.1111111111111111,
              "#46039f"
             ],
             [
              0.2222222222222222,
              "#7201a8"
             ],
             [
              0.3333333333333333,
              "#9c179e"
             ],
             [
              0.4444444444444444,
              "#bd3786"
             ],
             [
              0.5555555555555556,
              "#d8576b"
             ],
             [
              0.6666666666666666,
              "#ed7953"
             ],
             [
              0.7777777777777778,
              "#fb9f3a"
             ],
             [
              0.8888888888888888,
              "#fdca26"
             ],
             [
              1,
              "#f0f921"
             ]
            ],
            "type": "surface"
           }
          ],
          "table": [
           {
            "cells": {
             "fill": {
              "color": "#EBF0F8"
             },
             "line": {
              "color": "white"
             }
            },
            "header": {
             "fill": {
              "color": "#C8D4E3"
             },
             "line": {
              "color": "white"
             }
            },
            "type": "table"
           }
          ]
         },
         "layout": {
          "annotationdefaults": {
           "arrowcolor": "#2a3f5f",
           "arrowhead": 0,
           "arrowwidth": 1
          },
          "autotypenumbers": "strict",
          "coloraxis": {
           "colorbar": {
            "outlinewidth": 0,
            "ticks": ""
           }
          },
          "colorscale": {
           "diverging": [
            [
             0,
             "#8e0152"
            ],
            [
             0.1,
             "#c51b7d"
            ],
            [
             0.2,
             "#de77ae"
            ],
            [
             0.3,
             "#f1b6da"
            ],
            [
             0.4,
             "#fde0ef"
            ],
            [
             0.5,
             "#f7f7f7"
            ],
            [
             0.6,
             "#e6f5d0"
            ],
            [
             0.7,
             "#b8e186"
            ],
            [
             0.8,
             "#7fbc41"
            ],
            [
             0.9,
             "#4d9221"
            ],
            [
             1,
             "#276419"
            ]
           ],
           "sequential": [
            [
             0,
             "#0d0887"
            ],
            [
             0.1111111111111111,
             "#46039f"
            ],
            [
             0.2222222222222222,
             "#7201a8"
            ],
            [
             0.3333333333333333,
             "#9c179e"
            ],
            [
             0.4444444444444444,
             "#bd3786"
            ],
            [
             0.5555555555555556,
             "#d8576b"
            ],
            [
             0.6666666666666666,
             "#ed7953"
            ],
            [
             0.7777777777777778,
             "#fb9f3a"
            ],
            [
             0.8888888888888888,
             "#fdca26"
            ],
            [
             1,
             "#f0f921"
            ]
           ],
           "sequentialminus": [
            [
             0,
             "#0d0887"
            ],
            [
             0.1111111111111111,
             "#46039f"
            ],
            [
             0.2222222222222222,
             "#7201a8"
            ],
            [
             0.3333333333333333,
             "#9c179e"
            ],
            [
             0.4444444444444444,
             "#bd3786"
            ],
            [
             0.5555555555555556,
             "#d8576b"
            ],
            [
             0.6666666666666666,
             "#ed7953"
            ],
            [
             0.7777777777777778,
             "#fb9f3a"
            ],
            [
             0.8888888888888888,
             "#fdca26"
            ],
            [
             1,
             "#f0f921"
            ]
           ]
          },
          "colorway": [
           "#636efa",
           "#EF553B",
           "#00cc96",
           "#ab63fa",
           "#FFA15A",
           "#19d3f3",
           "#FF6692",
           "#B6E880",
           "#FF97FF",
           "#FECB52"
          ],
          "font": {
           "color": "#2a3f5f"
          },
          "geo": {
           "bgcolor": "white",
           "lakecolor": "white",
           "landcolor": "#E5ECF6",
           "showlakes": true,
           "showland": true,
           "subunitcolor": "white"
          },
          "hoverlabel": {
           "align": "left"
          },
          "hovermode": "closest",
          "mapbox": {
           "style": "light"
          },
          "paper_bgcolor": "white",
          "plot_bgcolor": "#E5ECF6",
          "polar": {
           "angularaxis": {
            "gridcolor": "white",
            "linecolor": "white",
            "ticks": ""
           },
           "bgcolor": "#E5ECF6",
           "radialaxis": {
            "gridcolor": "white",
            "linecolor": "white",
            "ticks": ""
           }
          },
          "scene": {
           "xaxis": {
            "backgroundcolor": "#E5ECF6",
            "gridcolor": "white",
            "gridwidth": 2,
            "linecolor": "white",
            "showbackground": true,
            "ticks": "",
            "zerolinecolor": "white"
           },
           "yaxis": {
            "backgroundcolor": "#E5ECF6",
            "gridcolor": "white",
            "gridwidth": 2,
            "linecolor": "white",
            "showbackground": true,
            "ticks": "",
            "zerolinecolor": "white"
           },
           "zaxis": {
            "backgroundcolor": "#E5ECF6",
            "gridcolor": "white",
            "gridwidth": 2,
            "linecolor": "white",
            "showbackground": true,
            "ticks": "",
            "zerolinecolor": "white"
           }
          },
          "shapedefaults": {
           "line": {
            "color": "#2a3f5f"
           }
          },
          "ternary": {
           "aaxis": {
            "gridcolor": "white",
            "linecolor": "white",
            "ticks": ""
           },
           "baxis": {
            "gridcolor": "white",
            "linecolor": "white",
            "ticks": ""
           },
           "bgcolor": "#E5ECF6",
           "caxis": {
            "gridcolor": "white",
            "linecolor": "white",
            "ticks": ""
           }
          },
          "title": {
           "x": 0.05
          },
          "xaxis": {
           "automargin": true,
           "gridcolor": "white",
           "linecolor": "white",
           "ticks": "",
           "title": {
            "standoff": 15
           },
           "zerolinecolor": "white",
           "zerolinewidth": 2
          },
          "yaxis": {
           "automargin": true,
           "gridcolor": "white",
           "linecolor": "white",
           "ticks": "",
           "title": {
            "standoff": 15
           },
           "zerolinecolor": "white",
           "zerolinewidth": 2
          }
         }
        }
       }
      },
      "text/html": [
       "<div>                            <div id=\"715077aa-2ceb-47e1-a0c3-f4b9887ccd58\" class=\"plotly-graph-div\" style=\"height:525px; width:100%;\"></div>            <script type=\"text/javascript\">                require([\"plotly\"], function(Plotly) {                    window.PLOTLYENV=window.PLOTLYENV || {};                                    if (document.getElementById(\"715077aa-2ceb-47e1-a0c3-f4b9887ccd58\")) {                    Plotly.newPlot(                        \"715077aa-2ceb-47e1-a0c3-f4b9887ccd58\",                        [{\"marker\": {\"color\": [0.0, 0.0, 0.0, 0.0, 0.0, 0.0, 0.0, 0.0, 0.0, 0.0, 0.0, 0.0, 0.0, 0.0, 0.0, 0.0, 0.0, 0.0, 0.0, 0.0, 0.0, 0.0, 0.0, 0.0, 0.0, 0.0, 0.0, 0.0, 0.0, 0.0, 0.0, 0.0, 0.0, 0.0, 0.0, 0.0, 0.0, 0.0, 0.0, 0.0, 0.0, 0.0, 0.0, 0.0, 0.0, 0.0, 0.0, 0.0, 0.0, 0.0, 0.0, 0.0, 0.0, 0.0, 0.0, 0.0, 0.0, 0.0, 0.0, 0.0, 0.0, 0.0, 0.0, 0.0, 0.0, 0.0, 0.0, 0.0, 0.0, 0.0, 0.0, 0.0, 0.0, 0.0, 0.0, 0.0, 0.0, 0.0, 0.0, 0.0, 0.0, 0.0, 0.0, 0.0, 0.0, 0.0, 0.0, 0.0, 0.0, 0.0, 0.0, 0.0, 0.0, 0.0, 0.0, 0.0, 0.0, 0.0, 0.0, 0.0, 0.0], \"colorscale\": [[0.0, \"#440154\"], [0.1111111111111111, \"#482878\"], [0.2222222222222222, \"#3e4989\"], [0.3333333333333333, \"#31688e\"], [0.4444444444444444, \"#26828e\"], [0.5555555555555556, \"#1f9e89\"], [0.6666666666666666, \"#35b779\"], [0.7777777777777778, \"#6ece58\"], [0.8888888888888888, \"#b5de2b\"], [1.0, \"#fde725\"]], \"size\": 2}, \"mode\": \"markers\", \"type\": \"scatter3d\", \"x\": [0.002273678002667439, 0.012051949887734894, 0.02183022177280272, 0.03160849365787092, 0.04138676554293949, 0.05116503742800843, 0.060943309313077745, 0.07072158119814743, 0.0804998530832175, 0.09027812496828792, 0.10005639685335872, 0.1098346687384299, 0.11961294062350145, 0.12939121250857336, 0.13916948439364565, 0.1489477562787183, 0.15872602816379133, 0.16850430004886474, 0.1782825719339385, 0.18806084381901267, 0.1978391157040872, 0.2076173875891621, 0.21739565947423736, 0.227173931359313, 0.236952203244389, 0.2467304751294654, 0.2565087470145421, 0.26628701889961925, 0.27606529078469677, 0.2858435626697746, 0.29562183455485286, 0.3054001064399315, 0.31517837832501044, 0.3249566502100898, 0.33473492209516953, 0.34451319398024965, 0.3542914658653301, 0.36406973775041096, 0.3738480096354922, 0.38362628152057376, 0.3934045534056557, 0.40318282529073807, 0.41296109717582075, 0.4227393690609038, 0.43251764094598727, 0.4422959128310711, 0.4520741847161553, 0.46185245660123986, 0.4716307284863248, 0.4814090003714101, 0.4911872722564958, 0.5009655441415818, 0.5107438160266682, 0.520522087911755, 0.5303003597968422, 0.5400786316819297, 0.5498569035670177, 0.559635175452106, 0.5694134473371946, 0.5791917192222836, 0.588969991107373, 0.5987482629924628, 0.6085265348775529, 0.6183048067626434, 0.6280830786477343, 0.6378613505328256, 0.6476396224179172, 0.6574178943030091, 0.6671961661881015, 0.6769744380731942, 0.6867527099582874, 0.6965309818433809, 0.7063092537284748, 0.716087525613569, 0.7258657974986636, 0.7356440693837586, 0.745422341268854, 0.7552006131539497, 0.7649788850390458, 0.7747571569241423, 0.7845354288092391, 0.7943137006943363, 0.8040919725794339, 0.8138702444645318, 0.8236485163496301, 0.8334267882347288, 0.8432050601198279, 0.8529833320049273, 0.8627616038900271, 0.8725398757751273, 0.8823181476602279, 0.8920964195453288, 0.9018746914304301, 0.9116529633155318, 0.9214312352006339, 0.9312095070857362, 0.9409877789708391, 0.9507660508559422, 0.9605443227410457, 0.9703225946261497, 0.9801008665112539], \"y\": [0.0004869354632918052, 0.002581069876766587, 0.004675204290239634, 0.006769338703710947, 0.008863473117180524, 0.010957607530648367, 0.013051741944114474, 0.015145876357578848, 0.017240010771041488, 0.019334145184502393, 0.021428279597961564, 0.023522414011419, 0.0256165484248747, 0.027710682838328667, 0.0298048172517809, 0.03189895166523139, 0.03399308607868015, 0.036087220492127176, 0.038181354905572465, 0.04027548931901602, 0.04236962373245784, 0.044463758145897925, 0.046557892559336275, 0.04865202697277289, 0.05074616138620777, 0.05284029579964092, 0.05493443021307233, 0.05702856462650201, 0.05912269903992995, 0.061216833453356156, 0.06331096786678063, 0.06540510228020337, 0.06749923669362437, 0.06959337110704364, 0.07168750552046117, 0.07378163993387697, 0.07587577434729104, 0.07796990876070337, 0.08006404317411396, 0.08215817758752282, 0.08425231200092995, 0.08634644641433534, 0.088440580827739, 0.09053471524114091, 0.0926288496545411, 0.09472298406793955, 0.09681711848133627, 0.09891125289473125, 0.1010053873081245, 0.10309952172151601, 0.10519365613490579, 0.10728779054829383, 0.10938192496168014, 0.11147605937506472, 0.11357019378844756, 0.11566432820182866, 0.11775846261520803, 0.11985259702858567, 0.12194673144196157, 0.12404086585533573, 0.12613500026870816, 0.12822913468207886, 0.13032326909544784, 0.13241740350881506, 0.13451153792218057, 0.13660567233554433, 0.13869980674890636, 0.14079394116226665, 0.14288807557562522, 0.14498220998898204, 0.14707634440233713, 0.14917047881569048, 0.1512646132290421, 0.153358747642392, 0.15545288205574015, 0.15754701646908656, 0.15964115088243125, 0.1617352852957742, 0.1638294197091154, 0.16592355412245488, 0.16801768853579263, 0.17011182294912863, 0.1722059573624629, 0.17430009177579545, 0.17639422618912626, 0.17848836060245532, 0.18058249501578266, 0.18267662942910826, 0.18477076384243213, 0.18686489825575425, 0.18895903266907466, 0.1910531670823933, 0.19314730149571024, 0.19524143590902543, 0.1973355703223389, 0.1994297047356506, 0.2015238391489606, 0.20361797356226885, 0.20571210797557538, 0.20780624238888015, 0.2099003768021832], \"z\": [0.0, 0.0, 0.0, 0.0, 0.0, 0.0, 0.0, 0.0, 0.0, 0.0, 0.0, 0.0, 0.0, 0.0, 0.0, 0.0, 0.0, 0.0, 0.0, 0.0, 0.0, 0.0, 0.0, 0.0, 0.0, 0.0, 0.0, 0.0, 0.0, 0.0, 0.0, 0.0, 0.0, 0.0, 0.0, 0.0, 0.0, 0.0, 0.0, 0.0, 0.0, 0.0, 0.0, 0.0, 0.0, 0.0, 0.0, 0.0, 0.0, 0.0, 0.0, 0.0, 0.0, 0.0, 0.0, 0.0, 0.0, 0.0, 0.0, 0.0, 0.0, 0.0, 0.0, 0.0, 0.0, 0.0, 0.0, 0.0, 0.0, 0.0, 0.0, 0.0, 0.0, 0.0, 0.0, 0.0, 0.0, 0.0, 0.0, 0.0, 0.0, 0.0, 0.0, 0.0, 0.0, 0.0, 0.0, 0.0, 0.0, 0.0, 0.0, 0.0, 0.0, 0.0, 0.0, 0.0, 0.0, 0.0, 0.0, 0.0, 0.0]}, {\"marker\": {\"color\": \"orange\", \"size\": 6}, \"mode\": \"markers\", \"type\": \"scatter3d\", \"x\": [0], \"y\": [0], \"z\": [0]}],                        {\"scene\": {\"zaxis\": {\"range\": [-0.0, 0.0]}}, \"template\": {\"data\": {\"bar\": [{\"error_x\": {\"color\": \"#2a3f5f\"}, \"error_y\": {\"color\": \"#2a3f5f\"}, \"marker\": {\"line\": {\"color\": \"#E5ECF6\", \"width\": 0.5}}, \"type\": \"bar\"}], \"barpolar\": [{\"marker\": {\"line\": {\"color\": \"#E5ECF6\", \"width\": 0.5}}, \"type\": \"barpolar\"}], \"carpet\": [{\"aaxis\": {\"endlinecolor\": \"#2a3f5f\", \"gridcolor\": \"white\", \"linecolor\": \"white\", \"minorgridcolor\": \"white\", \"startlinecolor\": \"#2a3f5f\"}, \"baxis\": {\"endlinecolor\": \"#2a3f5f\", \"gridcolor\": \"white\", \"linecolor\": \"white\", \"minorgridcolor\": \"white\", \"startlinecolor\": \"#2a3f5f\"}, \"type\": \"carpet\"}], \"choropleth\": [{\"colorbar\": {\"outlinewidth\": 0, \"ticks\": \"\"}, \"type\": \"choropleth\"}], \"contour\": [{\"colorbar\": {\"outlinewidth\": 0, \"ticks\": \"\"}, \"colorscale\": [[0.0, \"#0d0887\"], [0.1111111111111111, \"#46039f\"], [0.2222222222222222, \"#7201a8\"], [0.3333333333333333, \"#9c179e\"], [0.4444444444444444, \"#bd3786\"], [0.5555555555555556, \"#d8576b\"], [0.6666666666666666, \"#ed7953\"], [0.7777777777777778, \"#fb9f3a\"], [0.8888888888888888, \"#fdca26\"], [1.0, \"#f0f921\"]], \"type\": \"contour\"}], \"contourcarpet\": [{\"colorbar\": {\"outlinewidth\": 0, \"ticks\": \"\"}, \"type\": \"contourcarpet\"}], \"heatmap\": [{\"colorbar\": {\"outlinewidth\": 0, \"ticks\": \"\"}, \"colorscale\": [[0.0, \"#0d0887\"], [0.1111111111111111, \"#46039f\"], [0.2222222222222222, \"#7201a8\"], [0.3333333333333333, \"#9c179e\"], [0.4444444444444444, \"#bd3786\"], [0.5555555555555556, \"#d8576b\"], [0.6666666666666666, \"#ed7953\"], [0.7777777777777778, \"#fb9f3a\"], [0.8888888888888888, \"#fdca26\"], [1.0, \"#f0f921\"]], \"type\": \"heatmap\"}], \"heatmapgl\": [{\"colorbar\": {\"outlinewidth\": 0, \"ticks\": \"\"}, \"colorscale\": [[0.0, \"#0d0887\"], [0.1111111111111111, \"#46039f\"], [0.2222222222222222, \"#7201a8\"], [0.3333333333333333, \"#9c179e\"], [0.4444444444444444, \"#bd3786\"], [0.5555555555555556, \"#d8576b\"], [0.6666666666666666, \"#ed7953\"], [0.7777777777777778, \"#fb9f3a\"], [0.8888888888888888, \"#fdca26\"], [1.0, \"#f0f921\"]], \"type\": \"heatmapgl\"}], \"histogram\": [{\"marker\": {\"colorbar\": {\"outlinewidth\": 0, \"ticks\": \"\"}}, \"type\": \"histogram\"}], \"histogram2d\": [{\"colorbar\": {\"outlinewidth\": 0, \"ticks\": \"\"}, \"colorscale\": [[0.0, \"#0d0887\"], [0.1111111111111111, \"#46039f\"], [0.2222222222222222, \"#7201a8\"], [0.3333333333333333, \"#9c179e\"], [0.4444444444444444, \"#bd3786\"], [0.5555555555555556, \"#d8576b\"], [0.6666666666666666, \"#ed7953\"], [0.7777777777777778, \"#fb9f3a\"], [0.8888888888888888, \"#fdca26\"], [1.0, \"#f0f921\"]], \"type\": \"histogram2d\"}], \"histogram2dcontour\": [{\"colorbar\": {\"outlinewidth\": 0, \"ticks\": \"\"}, \"colorscale\": [[0.0, \"#0d0887\"], [0.1111111111111111, \"#46039f\"], [0.2222222222222222, \"#7201a8\"], [0.3333333333333333, \"#9c179e\"], [0.4444444444444444, \"#bd3786\"], [0.5555555555555556, \"#d8576b\"], [0.6666666666666666, \"#ed7953\"], [0.7777777777777778, \"#fb9f3a\"], [0.8888888888888888, \"#fdca26\"], [1.0, \"#f0f921\"]], \"type\": \"histogram2dcontour\"}], \"mesh3d\": [{\"colorbar\": {\"outlinewidth\": 0, \"ticks\": \"\"}, \"type\": \"mesh3d\"}], \"parcoords\": [{\"line\": {\"colorbar\": {\"outlinewidth\": 0, \"ticks\": \"\"}}, \"type\": \"parcoords\"}], \"pie\": [{\"automargin\": true, \"type\": \"pie\"}], \"scatter\": [{\"marker\": {\"colorbar\": {\"outlinewidth\": 0, \"ticks\": \"\"}}, \"type\": \"scatter\"}], \"scatter3d\": [{\"line\": {\"colorbar\": {\"outlinewidth\": 0, \"ticks\": \"\"}}, \"marker\": {\"colorbar\": {\"outlinewidth\": 0, \"ticks\": \"\"}}, \"type\": \"scatter3d\"}], \"scattercarpet\": [{\"marker\": {\"colorbar\": {\"outlinewidth\": 0, \"ticks\": \"\"}}, \"type\": \"scattercarpet\"}], \"scattergeo\": [{\"marker\": {\"colorbar\": {\"outlinewidth\": 0, \"ticks\": \"\"}}, \"type\": \"scattergeo\"}], \"scattergl\": [{\"marker\": {\"colorbar\": {\"outlinewidth\": 0, \"ticks\": \"\"}}, \"type\": \"scattergl\"}], \"scattermapbox\": [{\"marker\": {\"colorbar\": {\"outlinewidth\": 0, \"ticks\": \"\"}}, \"type\": \"scattermapbox\"}], \"scatterpolar\": [{\"marker\": {\"colorbar\": {\"outlinewidth\": 0, \"ticks\": \"\"}}, \"type\": \"scatterpolar\"}], \"scatterpolargl\": [{\"marker\": {\"colorbar\": {\"outlinewidth\": 0, \"ticks\": \"\"}}, \"type\": \"scatterpolargl\"}], \"scatterternary\": [{\"marker\": {\"colorbar\": {\"outlinewidth\": 0, \"ticks\": \"\"}}, \"type\": \"scatterternary\"}], \"surface\": [{\"colorbar\": {\"outlinewidth\": 0, \"ticks\": \"\"}, \"colorscale\": [[0.0, \"#0d0887\"], [0.1111111111111111, \"#46039f\"], [0.2222222222222222, \"#7201a8\"], [0.3333333333333333, \"#9c179e\"], [0.4444444444444444, \"#bd3786\"], [0.5555555555555556, \"#d8576b\"], [0.6666666666666666, \"#ed7953\"], [0.7777777777777778, \"#fb9f3a\"], [0.8888888888888888, \"#fdca26\"], [1.0, \"#f0f921\"]], \"type\": \"surface\"}], \"table\": [{\"cells\": {\"fill\": {\"color\": \"#EBF0F8\"}, \"line\": {\"color\": \"white\"}}, \"header\": {\"fill\": {\"color\": \"#C8D4E3\"}, \"line\": {\"color\": \"white\"}}, \"type\": \"table\"}]}, \"layout\": {\"annotationdefaults\": {\"arrowcolor\": \"#2a3f5f\", \"arrowhead\": 0, \"arrowwidth\": 1}, \"autotypenumbers\": \"strict\", \"coloraxis\": {\"colorbar\": {\"outlinewidth\": 0, \"ticks\": \"\"}}, \"colorscale\": {\"diverging\": [[0, \"#8e0152\"], [0.1, \"#c51b7d\"], [0.2, \"#de77ae\"], [0.3, \"#f1b6da\"], [0.4, \"#fde0ef\"], [0.5, \"#f7f7f7\"], [0.6, \"#e6f5d0\"], [0.7, \"#b8e186\"], [0.8, \"#7fbc41\"], [0.9, \"#4d9221\"], [1, \"#276419\"]], \"sequential\": [[0.0, \"#0d0887\"], [0.1111111111111111, \"#46039f\"], [0.2222222222222222, \"#7201a8\"], [0.3333333333333333, \"#9c179e\"], [0.4444444444444444, \"#bd3786\"], [0.5555555555555556, \"#d8576b\"], [0.6666666666666666, \"#ed7953\"], [0.7777777777777778, \"#fb9f3a\"], [0.8888888888888888, \"#fdca26\"], [1.0, \"#f0f921\"]], \"sequentialminus\": [[0.0, \"#0d0887\"], [0.1111111111111111, \"#46039f\"], [0.2222222222222222, \"#7201a8\"], [0.3333333333333333, \"#9c179e\"], [0.4444444444444444, \"#bd3786\"], [0.5555555555555556, \"#d8576b\"], [0.6666666666666666, \"#ed7953\"], [0.7777777777777778, \"#fb9f3a\"], [0.8888888888888888, \"#fdca26\"], [1.0, \"#f0f921\"]]}, \"colorway\": [\"#636efa\", \"#EF553B\", \"#00cc96\", \"#ab63fa\", \"#FFA15A\", \"#19d3f3\", \"#FF6692\", \"#B6E880\", \"#FF97FF\", \"#FECB52\"], \"font\": {\"color\": \"#2a3f5f\"}, \"geo\": {\"bgcolor\": \"white\", \"lakecolor\": \"white\", \"landcolor\": \"#E5ECF6\", \"showlakes\": true, \"showland\": true, \"subunitcolor\": \"white\"}, \"hoverlabel\": {\"align\": \"left\"}, \"hovermode\": \"closest\", \"mapbox\": {\"style\": \"light\"}, \"paper_bgcolor\": \"white\", \"plot_bgcolor\": \"#E5ECF6\", \"polar\": {\"angularaxis\": {\"gridcolor\": \"white\", \"linecolor\": \"white\", \"ticks\": \"\"}, \"bgcolor\": \"#E5ECF6\", \"radialaxis\": {\"gridcolor\": \"white\", \"linecolor\": \"white\", \"ticks\": \"\"}}, \"scene\": {\"xaxis\": {\"backgroundcolor\": \"#E5ECF6\", \"gridcolor\": \"white\", \"gridwidth\": 2, \"linecolor\": \"white\", \"showbackground\": true, \"ticks\": \"\", \"zerolinecolor\": \"white\"}, \"yaxis\": {\"backgroundcolor\": \"#E5ECF6\", \"gridcolor\": \"white\", \"gridwidth\": 2, \"linecolor\": \"white\", \"showbackground\": true, \"ticks\": \"\", \"zerolinecolor\": \"white\"}, \"zaxis\": {\"backgroundcolor\": \"#E5ECF6\", \"gridcolor\": \"white\", \"gridwidth\": 2, \"linecolor\": \"white\", \"showbackground\": true, \"ticks\": \"\", \"zerolinecolor\": \"white\"}}, \"shapedefaults\": {\"line\": {\"color\": \"#2a3f5f\"}}, \"ternary\": {\"aaxis\": {\"gridcolor\": \"white\", \"linecolor\": \"white\", \"ticks\": \"\"}, \"baxis\": {\"gridcolor\": \"white\", \"linecolor\": \"white\", \"ticks\": \"\"}, \"bgcolor\": \"#E5ECF6\", \"caxis\": {\"gridcolor\": \"white\", \"linecolor\": \"white\", \"ticks\": \"\"}}, \"title\": {\"x\": 0.05}, \"xaxis\": {\"automargin\": true, \"gridcolor\": \"white\", \"linecolor\": \"white\", \"ticks\": \"\", \"title\": {\"standoff\": 15}, \"zerolinecolor\": \"white\", \"zerolinewidth\": 2}, \"yaxis\": {\"automargin\": true, \"gridcolor\": \"white\", \"linecolor\": \"white\", \"ticks\": \"\", \"title\": {\"standoff\": 15}, \"zerolinecolor\": \"white\", \"zerolinewidth\": 2}}}},                        {\"responsive\": true}                    ).then(function(){\n",
       "                            \n",
       "var gd = document.getElementById('715077aa-2ceb-47e1-a0c3-f4b9887ccd58');\n",
       "var x = new MutationObserver(function (mutations, observer) {{\n",
       "        var display = window.getComputedStyle(gd).display;\n",
       "        if (!display || display === 'none') {{\n",
       "            console.log([gd, 'removed!']);\n",
       "            Plotly.purge(gd);\n",
       "            observer.disconnect();\n",
       "        }}\n",
       "}});\n",
       "\n",
       "// Listen for the removal of the full notebook cells\n",
       "var notebookContainer = gd.closest('#notebook-container');\n",
       "if (notebookContainer) {{\n",
       "    x.observe(notebookContainer, {childList: true});\n",
       "}}\n",
       "\n",
       "// Listen for the clearing of the current output cell\n",
       "var outputEl = gd.closest('.output');\n",
       "if (outputEl) {{\n",
       "    x.observe(outputEl, {childList: true});\n",
       "}}\n",
       "\n",
       "                        })                };                });            </script>        </div>"
      ]
     },
     "metadata": {},
     "output_type": "display_data"
    },
    {
     "name": "stdout",
     "output_type": "stream",
     "text": [
      "Complete\n"
     ]
    }
   ],
   "source": [
    "row = 7\n",
    "\n",
    "conditionSph = np.asarray(dataDFSph2.iloc[row]['r':'vPhi'])\n",
    "conditionCar = conditionSph2Car(conditionSph)\n",
    "output = trajectorySolver(conditionCar,q,E,dt)\n",
    "trajectory = output[0]\n",
    "velocity   = output[1]\n",
    "\n",
    "x,y,z = trajectory[0],trajectory[1],trajectory[2]\n",
    "\n",
    "trace1 = go.Scatter3d(\n",
    "    x=x,\n",
    "    y=y,\n",
    "    z=z,\n",
    "    mode = 'markers',\n",
    "    marker=dict(\n",
    "        size=2,\n",
    "        color = z,\n",
    "        colorscale='Viridis'\n",
    "    )\n",
    ")\n",
    "\n",
    "data1 = [trace1]\n",
    "fig1 = go.Figure(data=data1)\n",
    "fig1.update_layout(\n",
    "    scene = dict(\n",
    "        zaxis = dict(range=[-10*max(z),10*max(z)])\n",
    "    )\n",
    ")\n",
    "\n",
    "fig1.add_trace(\n",
    "    go.Scatter3d(\n",
    "        x=[0],\n",
    "        y=[0],\n",
    "        z=[0],\n",
    "        mode = 'markers',\n",
    "        marker = dict(\n",
    "            size = 6,\n",
    "            color = 'orange')\n",
    "                )\n",
    "            )\n",
    "offline.iplot(fig1, filename='simple-3d-scatter')\n",
    "\n",
    "print ('Complete')"
   ]
  },
  {
   "cell_type": "markdown",
   "metadata": {
    "hidden": true
   },
   "source": [
    "### Determine Detector Plane"
   ]
  },
  {
   "cell_type": "code",
   "execution_count": 152,
   "metadata": {
    "ExecuteTime": {
     "end_time": "2022-02-15T22:59:35.060072Z",
     "start_time": "2022-02-15T22:59:32.943432Z"
    },
    "hidden": true
   },
   "outputs": [
    {
     "name": "stdout",
     "output_type": "stream",
     "text": [
      "WARNING: Plane distance larger than 1.50e+06 km away from earth\n",
      "Plane distance: 0.9973252350000024 au\n",
      "Location,normal [0.8750794419467722, 0.4784282544435849, 0.0] [-0.87507944 -0.47842825 -0.        ]\n",
      "Condition (Spherical) [0.00232524 1.57079633 0.50032573 1.         0.         0.        ]\n",
      "Complete\n"
     ]
    }
   ],
   "source": [
    "planePos, planeVel, planeCon =  determineDetectorPlane(dataDFSph2,q,E,dt,True)\n",
    "plane = [planePos,planeVel]\n",
    "print ('Location,normal',plane[0],plane[1])\n",
    "print ('Condition (Spherical)',planeCon)\n",
    "print ('Complete')"
   ]
  },
  {
   "cell_type": "markdown",
   "metadata": {
    "hidden": true
   },
   "source": [
    "### Plot condition corresponding to Plane"
   ]
  },
  {
   "cell_type": "code",
   "execution_count": 153,
   "metadata": {
    "ExecuteTime": {
     "end_time": "2022-02-15T22:59:41.080953Z",
     "start_time": "2022-02-15T22:59:40.995951Z"
    },
    "hidden": true
   },
   "outputs": [
    {
     "data": {
      "application/vnd.plotly.v1+json": {
       "config": {
        "plotlyServerURL": "https://plot.ly"
       },
       "data": [
        {
         "sizeref": 0.1,
         "type": "cone",
         "u": [
          0.8774263512369231
         ],
         "v": [
          0.4797113696328862
         ],
         "w": [
          0
         ],
         "x": [
          0.0020402224618183873
         ],
         "y": [
          0.0011154416665683242
         ],
         "z": [
          0
         ]
        },
        {
         "sizeref": 0.1,
         "type": "cone",
         "u": [
          -0.8750794419467722
         ],
         "v": [
          -0.4784282544435849
         ],
         "w": [
          0
         ],
         "x": [
          0.8750794419467722
         ],
         "y": [
          0.4784282544435849
         ],
         "z": [
          0
         ]
        },
        {
         "marker": {
          "color": "orange",
          "size": 10
         },
         "mode": "markers",
         "type": "scatter3d",
         "x": [
          0
         ],
         "y": [
          0
         ],
         "z": [
          0
         ]
        }
       ],
       "layout": {
        "template": {
         "data": {
          "bar": [
           {
            "error_x": {
             "color": "#2a3f5f"
            },
            "error_y": {
             "color": "#2a3f5f"
            },
            "marker": {
             "line": {
              "color": "#E5ECF6",
              "width": 0.5
             }
            },
            "type": "bar"
           }
          ],
          "barpolar": [
           {
            "marker": {
             "line": {
              "color": "#E5ECF6",
              "width": 0.5
             }
            },
            "type": "barpolar"
           }
          ],
          "carpet": [
           {
            "aaxis": {
             "endlinecolor": "#2a3f5f",
             "gridcolor": "white",
             "linecolor": "white",
             "minorgridcolor": "white",
             "startlinecolor": "#2a3f5f"
            },
            "baxis": {
             "endlinecolor": "#2a3f5f",
             "gridcolor": "white",
             "linecolor": "white",
             "minorgridcolor": "white",
             "startlinecolor": "#2a3f5f"
            },
            "type": "carpet"
           }
          ],
          "choropleth": [
           {
            "colorbar": {
             "outlinewidth": 0,
             "ticks": ""
            },
            "type": "choropleth"
           }
          ],
          "contour": [
           {
            "colorbar": {
             "outlinewidth": 0,
             "ticks": ""
            },
            "colorscale": [
             [
              0,
              "#0d0887"
             ],
             [
              0.1111111111111111,
              "#46039f"
             ],
             [
              0.2222222222222222,
              "#7201a8"
             ],
             [
              0.3333333333333333,
              "#9c179e"
             ],
             [
              0.4444444444444444,
              "#bd3786"
             ],
             [
              0.5555555555555556,
              "#d8576b"
             ],
             [
              0.6666666666666666,
              "#ed7953"
             ],
             [
              0.7777777777777778,
              "#fb9f3a"
             ],
             [
              0.8888888888888888,
              "#fdca26"
             ],
             [
              1,
              "#f0f921"
             ]
            ],
            "type": "contour"
           }
          ],
          "contourcarpet": [
           {
            "colorbar": {
             "outlinewidth": 0,
             "ticks": ""
            },
            "type": "contourcarpet"
           }
          ],
          "heatmap": [
           {
            "colorbar": {
             "outlinewidth": 0,
             "ticks": ""
            },
            "colorscale": [
             [
              0,
              "#0d0887"
             ],
             [
              0.1111111111111111,
              "#46039f"
             ],
             [
              0.2222222222222222,
              "#7201a8"
             ],
             [
              0.3333333333333333,
              "#9c179e"
             ],
             [
              0.4444444444444444,
              "#bd3786"
             ],
             [
              0.5555555555555556,
              "#d8576b"
             ],
             [
              0.6666666666666666,
              "#ed7953"
             ],
             [
              0.7777777777777778,
              "#fb9f3a"
             ],
             [
              0.8888888888888888,
              "#fdca26"
             ],
             [
              1,
              "#f0f921"
             ]
            ],
            "type": "heatmap"
           }
          ],
          "heatmapgl": [
           {
            "colorbar": {
             "outlinewidth": 0,
             "ticks": ""
            },
            "colorscale": [
             [
              0,
              "#0d0887"
             ],
             [
              0.1111111111111111,
              "#46039f"
             ],
             [
              0.2222222222222222,
              "#7201a8"
             ],
             [
              0.3333333333333333,
              "#9c179e"
             ],
             [
              0.4444444444444444,
              "#bd3786"
             ],
             [
              0.5555555555555556,
              "#d8576b"
             ],
             [
              0.6666666666666666,
              "#ed7953"
             ],
             [
              0.7777777777777778,
              "#fb9f3a"
             ],
             [
              0.8888888888888888,
              "#fdca26"
             ],
             [
              1,
              "#f0f921"
             ]
            ],
            "type": "heatmapgl"
           }
          ],
          "histogram": [
           {
            "marker": {
             "colorbar": {
              "outlinewidth": 0,
              "ticks": ""
             }
            },
            "type": "histogram"
           }
          ],
          "histogram2d": [
           {
            "colorbar": {
             "outlinewidth": 0,
             "ticks": ""
            },
            "colorscale": [
             [
              0,
              "#0d0887"
             ],
             [
              0.1111111111111111,
              "#46039f"
             ],
             [
              0.2222222222222222,
              "#7201a8"
             ],
             [
              0.3333333333333333,
              "#9c179e"
             ],
             [
              0.4444444444444444,
              "#bd3786"
             ],
             [
              0.5555555555555556,
              "#d8576b"
             ],
             [
              0.6666666666666666,
              "#ed7953"
             ],
             [
              0.7777777777777778,
              "#fb9f3a"
             ],
             [
              0.8888888888888888,
              "#fdca26"
             ],
             [
              1,
              "#f0f921"
             ]
            ],
            "type": "histogram2d"
           }
          ],
          "histogram2dcontour": [
           {
            "colorbar": {
             "outlinewidth": 0,
             "ticks": ""
            },
            "colorscale": [
             [
              0,
              "#0d0887"
             ],
             [
              0.1111111111111111,
              "#46039f"
             ],
             [
              0.2222222222222222,
              "#7201a8"
             ],
             [
              0.3333333333333333,
              "#9c179e"
             ],
             [
              0.4444444444444444,
              "#bd3786"
             ],
             [
              0.5555555555555556,
              "#d8576b"
             ],
             [
              0.6666666666666666,
              "#ed7953"
             ],
             [
              0.7777777777777778,
              "#fb9f3a"
             ],
             [
              0.8888888888888888,
              "#fdca26"
             ],
             [
              1,
              "#f0f921"
             ]
            ],
            "type": "histogram2dcontour"
           }
          ],
          "mesh3d": [
           {
            "colorbar": {
             "outlinewidth": 0,
             "ticks": ""
            },
            "type": "mesh3d"
           }
          ],
          "parcoords": [
           {
            "line": {
             "colorbar": {
              "outlinewidth": 0,
              "ticks": ""
             }
            },
            "type": "parcoords"
           }
          ],
          "pie": [
           {
            "automargin": true,
            "type": "pie"
           }
          ],
          "scatter": [
           {
            "marker": {
             "colorbar": {
              "outlinewidth": 0,
              "ticks": ""
             }
            },
            "type": "scatter"
           }
          ],
          "scatter3d": [
           {
            "line": {
             "colorbar": {
              "outlinewidth": 0,
              "ticks": ""
             }
            },
            "marker": {
             "colorbar": {
              "outlinewidth": 0,
              "ticks": ""
             }
            },
            "type": "scatter3d"
           }
          ],
          "scattercarpet": [
           {
            "marker": {
             "colorbar": {
              "outlinewidth": 0,
              "ticks": ""
             }
            },
            "type": "scattercarpet"
           }
          ],
          "scattergeo": [
           {
            "marker": {
             "colorbar": {
              "outlinewidth": 0,
              "ticks": ""
             }
            },
            "type": "scattergeo"
           }
          ],
          "scattergl": [
           {
            "marker": {
             "colorbar": {
              "outlinewidth": 0,
              "ticks": ""
             }
            },
            "type": "scattergl"
           }
          ],
          "scattermapbox": [
           {
            "marker": {
             "colorbar": {
              "outlinewidth": 0,
              "ticks": ""
             }
            },
            "type": "scattermapbox"
           }
          ],
          "scatterpolar": [
           {
            "marker": {
             "colorbar": {
              "outlinewidth": 0,
              "ticks": ""
             }
            },
            "type": "scatterpolar"
           }
          ],
          "scatterpolargl": [
           {
            "marker": {
             "colorbar": {
              "outlinewidth": 0,
              "ticks": ""
             }
            },
            "type": "scatterpolargl"
           }
          ],
          "scatterternary": [
           {
            "marker": {
             "colorbar": {
              "outlinewidth": 0,
              "ticks": ""
             }
            },
            "type": "scatterternary"
           }
          ],
          "surface": [
           {
            "colorbar": {
             "outlinewidth": 0,
             "ticks": ""
            },
            "colorscale": [
             [
              0,
              "#0d0887"
             ],
             [
              0.1111111111111111,
              "#46039f"
             ],
             [
              0.2222222222222222,
              "#7201a8"
             ],
             [
              0.3333333333333333,
              "#9c179e"
             ],
             [
              0.4444444444444444,
              "#bd3786"
             ],
             [
              0.5555555555555556,
              "#d8576b"
             ],
             [
              0.6666666666666666,
              "#ed7953"
             ],
             [
              0.7777777777777778,
              "#fb9f3a"
             ],
             [
              0.8888888888888888,
              "#fdca26"
             ],
             [
              1,
              "#f0f921"
             ]
            ],
            "type": "surface"
           }
          ],
          "table": [
           {
            "cells": {
             "fill": {
              "color": "#EBF0F8"
             },
             "line": {
              "color": "white"
             }
            },
            "header": {
             "fill": {
              "color": "#C8D4E3"
             },
             "line": {
              "color": "white"
             }
            },
            "type": "table"
           }
          ]
         },
         "layout": {
          "annotationdefaults": {
           "arrowcolor": "#2a3f5f",
           "arrowhead": 0,
           "arrowwidth": 1
          },
          "autotypenumbers": "strict",
          "coloraxis": {
           "colorbar": {
            "outlinewidth": 0,
            "ticks": ""
           }
          },
          "colorscale": {
           "diverging": [
            [
             0,
             "#8e0152"
            ],
            [
             0.1,
             "#c51b7d"
            ],
            [
             0.2,
             "#de77ae"
            ],
            [
             0.3,
             "#f1b6da"
            ],
            [
             0.4,
             "#fde0ef"
            ],
            [
             0.5,
             "#f7f7f7"
            ],
            [
             0.6,
             "#e6f5d0"
            ],
            [
             0.7,
             "#b8e186"
            ],
            [
             0.8,
             "#7fbc41"
            ],
            [
             0.9,
             "#4d9221"
            ],
            [
             1,
             "#276419"
            ]
           ],
           "sequential": [
            [
             0,
             "#0d0887"
            ],
            [
             0.1111111111111111,
             "#46039f"
            ],
            [
             0.2222222222222222,
             "#7201a8"
            ],
            [
             0.3333333333333333,
             "#9c179e"
            ],
            [
             0.4444444444444444,
             "#bd3786"
            ],
            [
             0.5555555555555556,
             "#d8576b"
            ],
            [
             0.6666666666666666,
             "#ed7953"
            ],
            [
             0.7777777777777778,
             "#fb9f3a"
            ],
            [
             0.8888888888888888,
             "#fdca26"
            ],
            [
             1,
             "#f0f921"
            ]
           ],
           "sequentialminus": [
            [
             0,
             "#0d0887"
            ],
            [
             0.1111111111111111,
             "#46039f"
            ],
            [
             0.2222222222222222,
             "#7201a8"
            ],
            [
             0.3333333333333333,
             "#9c179e"
            ],
            [
             0.4444444444444444,
             "#bd3786"
            ],
            [
             0.5555555555555556,
             "#d8576b"
            ],
            [
             0.6666666666666666,
             "#ed7953"
            ],
            [
             0.7777777777777778,
             "#fb9f3a"
            ],
            [
             0.8888888888888888,
             "#fdca26"
            ],
            [
             1,
             "#f0f921"
            ]
           ]
          },
          "colorway": [
           "#636efa",
           "#EF553B",
           "#00cc96",
           "#ab63fa",
           "#FFA15A",
           "#19d3f3",
           "#FF6692",
           "#B6E880",
           "#FF97FF",
           "#FECB52"
          ],
          "font": {
           "color": "#2a3f5f"
          },
          "geo": {
           "bgcolor": "white",
           "lakecolor": "white",
           "landcolor": "#E5ECF6",
           "showlakes": true,
           "showland": true,
           "subunitcolor": "white"
          },
          "hoverlabel": {
           "align": "left"
          },
          "hovermode": "closest",
          "mapbox": {
           "style": "light"
          },
          "paper_bgcolor": "white",
          "plot_bgcolor": "#E5ECF6",
          "polar": {
           "angularaxis": {
            "gridcolor": "white",
            "linecolor": "white",
            "ticks": ""
           },
           "bgcolor": "#E5ECF6",
           "radialaxis": {
            "gridcolor": "white",
            "linecolor": "white",
            "ticks": ""
           }
          },
          "scene": {
           "xaxis": {
            "backgroundcolor": "#E5ECF6",
            "gridcolor": "white",
            "gridwidth": 2,
            "linecolor": "white",
            "showbackground": true,
            "ticks": "",
            "zerolinecolor": "white"
           },
           "yaxis": {
            "backgroundcolor": "#E5ECF6",
            "gridcolor": "white",
            "gridwidth": 2,
            "linecolor": "white",
            "showbackground": true,
            "ticks": "",
            "zerolinecolor": "white"
           },
           "zaxis": {
            "backgroundcolor": "#E5ECF6",
            "gridcolor": "white",
            "gridwidth": 2,
            "linecolor": "white",
            "showbackground": true,
            "ticks": "",
            "zerolinecolor": "white"
           }
          },
          "shapedefaults": {
           "line": {
            "color": "#2a3f5f"
           }
          },
          "ternary": {
           "aaxis": {
            "gridcolor": "white",
            "linecolor": "white",
            "ticks": ""
           },
           "baxis": {
            "gridcolor": "white",
            "linecolor": "white",
            "ticks": ""
           },
           "bgcolor": "#E5ECF6",
           "caxis": {
            "gridcolor": "white",
            "linecolor": "white",
            "ticks": ""
           }
          },
          "title": {
           "x": 0.05
          },
          "xaxis": {
           "automargin": true,
           "gridcolor": "white",
           "linecolor": "white",
           "ticks": "",
           "title": {
            "standoff": 15
           },
           "zerolinecolor": "white",
           "zerolinewidth": 2
          },
          "yaxis": {
           "automargin": true,
           "gridcolor": "white",
           "linecolor": "white",
           "ticks": "",
           "title": {
            "standoff": 15
           },
           "zerolinecolor": "white",
           "zerolinewidth": 2
          }
         }
        }
       }
      },
      "text/html": [
       "<div>                            <div id=\"6f5b4e4f-a2f1-4d93-a3a6-141aee9473b5\" class=\"plotly-graph-div\" style=\"height:525px; width:100%;\"></div>            <script type=\"text/javascript\">                require([\"plotly\"], function(Plotly) {                    window.PLOTLYENV=window.PLOTLYENV || {};                                    if (document.getElementById(\"6f5b4e4f-a2f1-4d93-a3a6-141aee9473b5\")) {                    Plotly.newPlot(                        \"6f5b4e4f-a2f1-4d93-a3a6-141aee9473b5\",                        [{\"sizeref\": 0.1, \"type\": \"cone\", \"u\": [0.8774263512369231], \"v\": [0.4797113696328862], \"w\": [0], \"x\": [0.0020402224618183873], \"y\": [0.0011154416665683242], \"z\": [0]}, {\"sizeref\": 0.1, \"type\": \"cone\", \"u\": [-0.8750794419467722], \"v\": [-0.4784282544435849], \"w\": [-0.0], \"x\": [0.8750794419467722], \"y\": [0.4784282544435849], \"z\": [0.0]}, {\"marker\": {\"color\": \"orange\", \"size\": 10}, \"mode\": \"markers\", \"type\": \"scatter3d\", \"x\": [0], \"y\": [0], \"z\": [0]}],                        {\"template\": {\"data\": {\"bar\": [{\"error_x\": {\"color\": \"#2a3f5f\"}, \"error_y\": {\"color\": \"#2a3f5f\"}, \"marker\": {\"line\": {\"color\": \"#E5ECF6\", \"width\": 0.5}}, \"type\": \"bar\"}], \"barpolar\": [{\"marker\": {\"line\": {\"color\": \"#E5ECF6\", \"width\": 0.5}}, \"type\": \"barpolar\"}], \"carpet\": [{\"aaxis\": {\"endlinecolor\": \"#2a3f5f\", \"gridcolor\": \"white\", \"linecolor\": \"white\", \"minorgridcolor\": \"white\", \"startlinecolor\": \"#2a3f5f\"}, \"baxis\": {\"endlinecolor\": \"#2a3f5f\", \"gridcolor\": \"white\", \"linecolor\": \"white\", \"minorgridcolor\": \"white\", \"startlinecolor\": \"#2a3f5f\"}, \"type\": \"carpet\"}], \"choropleth\": [{\"colorbar\": {\"outlinewidth\": 0, \"ticks\": \"\"}, \"type\": \"choropleth\"}], \"contour\": [{\"colorbar\": {\"outlinewidth\": 0, \"ticks\": \"\"}, \"colorscale\": [[0.0, \"#0d0887\"], [0.1111111111111111, \"#46039f\"], [0.2222222222222222, \"#7201a8\"], [0.3333333333333333, \"#9c179e\"], [0.4444444444444444, \"#bd3786\"], [0.5555555555555556, \"#d8576b\"], [0.6666666666666666, \"#ed7953\"], [0.7777777777777778, \"#fb9f3a\"], [0.8888888888888888, \"#fdca26\"], [1.0, \"#f0f921\"]], \"type\": \"contour\"}], \"contourcarpet\": [{\"colorbar\": {\"outlinewidth\": 0, \"ticks\": \"\"}, \"type\": \"contourcarpet\"}], \"heatmap\": [{\"colorbar\": {\"outlinewidth\": 0, \"ticks\": \"\"}, \"colorscale\": [[0.0, \"#0d0887\"], [0.1111111111111111, \"#46039f\"], [0.2222222222222222, \"#7201a8\"], [0.3333333333333333, \"#9c179e\"], [0.4444444444444444, \"#bd3786\"], [0.5555555555555556, \"#d8576b\"], [0.6666666666666666, \"#ed7953\"], [0.7777777777777778, \"#fb9f3a\"], [0.8888888888888888, \"#fdca26\"], [1.0, \"#f0f921\"]], \"type\": \"heatmap\"}], \"heatmapgl\": [{\"colorbar\": {\"outlinewidth\": 0, \"ticks\": \"\"}, \"colorscale\": [[0.0, \"#0d0887\"], [0.1111111111111111, \"#46039f\"], [0.2222222222222222, \"#7201a8\"], [0.3333333333333333, \"#9c179e\"], [0.4444444444444444, \"#bd3786\"], [0.5555555555555556, \"#d8576b\"], [0.6666666666666666, \"#ed7953\"], [0.7777777777777778, \"#fb9f3a\"], [0.8888888888888888, \"#fdca26\"], [1.0, \"#f0f921\"]], \"type\": \"heatmapgl\"}], \"histogram\": [{\"marker\": {\"colorbar\": {\"outlinewidth\": 0, \"ticks\": \"\"}}, \"type\": \"histogram\"}], \"histogram2d\": [{\"colorbar\": {\"outlinewidth\": 0, \"ticks\": \"\"}, \"colorscale\": [[0.0, \"#0d0887\"], [0.1111111111111111, \"#46039f\"], [0.2222222222222222, \"#7201a8\"], [0.3333333333333333, \"#9c179e\"], [0.4444444444444444, \"#bd3786\"], [0.5555555555555556, \"#d8576b\"], [0.6666666666666666, \"#ed7953\"], [0.7777777777777778, \"#fb9f3a\"], [0.8888888888888888, \"#fdca26\"], [1.0, \"#f0f921\"]], \"type\": \"histogram2d\"}], \"histogram2dcontour\": [{\"colorbar\": {\"outlinewidth\": 0, \"ticks\": \"\"}, \"colorscale\": [[0.0, \"#0d0887\"], [0.1111111111111111, \"#46039f\"], [0.2222222222222222, \"#7201a8\"], [0.3333333333333333, \"#9c179e\"], [0.4444444444444444, \"#bd3786\"], [0.5555555555555556, \"#d8576b\"], [0.6666666666666666, \"#ed7953\"], [0.7777777777777778, \"#fb9f3a\"], [0.8888888888888888, \"#fdca26\"], [1.0, \"#f0f921\"]], \"type\": \"histogram2dcontour\"}], \"mesh3d\": [{\"colorbar\": {\"outlinewidth\": 0, \"ticks\": \"\"}, \"type\": \"mesh3d\"}], \"parcoords\": [{\"line\": {\"colorbar\": {\"outlinewidth\": 0, \"ticks\": \"\"}}, \"type\": \"parcoords\"}], \"pie\": [{\"automargin\": true, \"type\": \"pie\"}], \"scatter\": [{\"marker\": {\"colorbar\": {\"outlinewidth\": 0, \"ticks\": \"\"}}, \"type\": \"scatter\"}], \"scatter3d\": [{\"line\": {\"colorbar\": {\"outlinewidth\": 0, \"ticks\": \"\"}}, \"marker\": {\"colorbar\": {\"outlinewidth\": 0, \"ticks\": \"\"}}, \"type\": \"scatter3d\"}], \"scattercarpet\": [{\"marker\": {\"colorbar\": {\"outlinewidth\": 0, \"ticks\": \"\"}}, \"type\": \"scattercarpet\"}], \"scattergeo\": [{\"marker\": {\"colorbar\": {\"outlinewidth\": 0, \"ticks\": \"\"}}, \"type\": \"scattergeo\"}], \"scattergl\": [{\"marker\": {\"colorbar\": {\"outlinewidth\": 0, \"ticks\": \"\"}}, \"type\": \"scattergl\"}], \"scattermapbox\": [{\"marker\": {\"colorbar\": {\"outlinewidth\": 0, \"ticks\": \"\"}}, \"type\": \"scattermapbox\"}], \"scatterpolar\": [{\"marker\": {\"colorbar\": {\"outlinewidth\": 0, \"ticks\": \"\"}}, \"type\": \"scatterpolar\"}], \"scatterpolargl\": [{\"marker\": {\"colorbar\": {\"outlinewidth\": 0, \"ticks\": \"\"}}, \"type\": \"scatterpolargl\"}], \"scatterternary\": [{\"marker\": {\"colorbar\": {\"outlinewidth\": 0, \"ticks\": \"\"}}, \"type\": \"scatterternary\"}], \"surface\": [{\"colorbar\": {\"outlinewidth\": 0, \"ticks\": \"\"}, \"colorscale\": [[0.0, \"#0d0887\"], [0.1111111111111111, \"#46039f\"], [0.2222222222222222, \"#7201a8\"], [0.3333333333333333, \"#9c179e\"], [0.4444444444444444, \"#bd3786\"], [0.5555555555555556, \"#d8576b\"], [0.6666666666666666, \"#ed7953\"], [0.7777777777777778, \"#fb9f3a\"], [0.8888888888888888, \"#fdca26\"], [1.0, \"#f0f921\"]], \"type\": \"surface\"}], \"table\": [{\"cells\": {\"fill\": {\"color\": \"#EBF0F8\"}, \"line\": {\"color\": \"white\"}}, \"header\": {\"fill\": {\"color\": \"#C8D4E3\"}, \"line\": {\"color\": \"white\"}}, \"type\": \"table\"}]}, \"layout\": {\"annotationdefaults\": {\"arrowcolor\": \"#2a3f5f\", \"arrowhead\": 0, \"arrowwidth\": 1}, \"autotypenumbers\": \"strict\", \"coloraxis\": {\"colorbar\": {\"outlinewidth\": 0, \"ticks\": \"\"}}, \"colorscale\": {\"diverging\": [[0, \"#8e0152\"], [0.1, \"#c51b7d\"], [0.2, \"#de77ae\"], [0.3, \"#f1b6da\"], [0.4, \"#fde0ef\"], [0.5, \"#f7f7f7\"], [0.6, \"#e6f5d0\"], [0.7, \"#b8e186\"], [0.8, \"#7fbc41\"], [0.9, \"#4d9221\"], [1, \"#276419\"]], \"sequential\": [[0.0, \"#0d0887\"], [0.1111111111111111, \"#46039f\"], [0.2222222222222222, \"#7201a8\"], [0.3333333333333333, \"#9c179e\"], [0.4444444444444444, \"#bd3786\"], [0.5555555555555556, \"#d8576b\"], [0.6666666666666666, \"#ed7953\"], [0.7777777777777778, \"#fb9f3a\"], [0.8888888888888888, \"#fdca26\"], [1.0, \"#f0f921\"]], \"sequentialminus\": [[0.0, \"#0d0887\"], [0.1111111111111111, \"#46039f\"], [0.2222222222222222, \"#7201a8\"], [0.3333333333333333, \"#9c179e\"], [0.4444444444444444, \"#bd3786\"], [0.5555555555555556, \"#d8576b\"], [0.6666666666666666, \"#ed7953\"], [0.7777777777777778, \"#fb9f3a\"], [0.8888888888888888, \"#fdca26\"], [1.0, \"#f0f921\"]]}, \"colorway\": [\"#636efa\", \"#EF553B\", \"#00cc96\", \"#ab63fa\", \"#FFA15A\", \"#19d3f3\", \"#FF6692\", \"#B6E880\", \"#FF97FF\", \"#FECB52\"], \"font\": {\"color\": \"#2a3f5f\"}, \"geo\": {\"bgcolor\": \"white\", \"lakecolor\": \"white\", \"landcolor\": \"#E5ECF6\", \"showlakes\": true, \"showland\": true, \"subunitcolor\": \"white\"}, \"hoverlabel\": {\"align\": \"left\"}, \"hovermode\": \"closest\", \"mapbox\": {\"style\": \"light\"}, \"paper_bgcolor\": \"white\", \"plot_bgcolor\": \"#E5ECF6\", \"polar\": {\"angularaxis\": {\"gridcolor\": \"white\", \"linecolor\": \"white\", \"ticks\": \"\"}, \"bgcolor\": \"#E5ECF6\", \"radialaxis\": {\"gridcolor\": \"white\", \"linecolor\": \"white\", \"ticks\": \"\"}}, \"scene\": {\"xaxis\": {\"backgroundcolor\": \"#E5ECF6\", \"gridcolor\": \"white\", \"gridwidth\": 2, \"linecolor\": \"white\", \"showbackground\": true, \"ticks\": \"\", \"zerolinecolor\": \"white\"}, \"yaxis\": {\"backgroundcolor\": \"#E5ECF6\", \"gridcolor\": \"white\", \"gridwidth\": 2, \"linecolor\": \"white\", \"showbackground\": true, \"ticks\": \"\", \"zerolinecolor\": \"white\"}, \"zaxis\": {\"backgroundcolor\": \"#E5ECF6\", \"gridcolor\": \"white\", \"gridwidth\": 2, \"linecolor\": \"white\", \"showbackground\": true, \"ticks\": \"\", \"zerolinecolor\": \"white\"}}, \"shapedefaults\": {\"line\": {\"color\": \"#2a3f5f\"}}, \"ternary\": {\"aaxis\": {\"gridcolor\": \"white\", \"linecolor\": \"white\", \"ticks\": \"\"}, \"baxis\": {\"gridcolor\": \"white\", \"linecolor\": \"white\", \"ticks\": \"\"}, \"bgcolor\": \"#E5ECF6\", \"caxis\": {\"gridcolor\": \"white\", \"linecolor\": \"white\", \"ticks\": \"\"}}, \"title\": {\"x\": 0.05}, \"xaxis\": {\"automargin\": true, \"gridcolor\": \"white\", \"linecolor\": \"white\", \"ticks\": \"\", \"title\": {\"standoff\": 15}, \"zerolinecolor\": \"white\", \"zerolinewidth\": 2}, \"yaxis\": {\"automargin\": true, \"gridcolor\": \"white\", \"linecolor\": \"white\", \"ticks\": \"\", \"title\": {\"standoff\": 15}, \"zerolinecolor\": \"white\", \"zerolinewidth\": 2}}}},                        {\"responsive\": true}                    ).then(function(){\n",
       "                            \n",
       "var gd = document.getElementById('6f5b4e4f-a2f1-4d93-a3a6-141aee9473b5');\n",
       "var x = new MutationObserver(function (mutations, observer) {{\n",
       "        var display = window.getComputedStyle(gd).display;\n",
       "        if (!display || display === 'none') {{\n",
       "            console.log([gd, 'removed!']);\n",
       "            Plotly.purge(gd);\n",
       "            observer.disconnect();\n",
       "        }}\n",
       "}});\n",
       "\n",
       "// Listen for the removal of the full notebook cells\n",
       "var notebookContainer = gd.closest('#notebook-container');\n",
       "if (notebookContainer) {{\n",
       "    x.observe(notebookContainer, {childList: true});\n",
       "}}\n",
       "\n",
       "// Listen for the clearing of the current output cell\n",
       "var outputEl = gd.closest('.output');\n",
       "if (outputEl) {{\n",
       "    x.observe(outputEl, {childList: true});\n",
       "}}\n",
       "\n",
       "                        })                };                });            </script>        </div>"
      ]
     },
     "metadata": {},
     "output_type": "display_data"
    }
   ],
   "source": [
    "planeConCar = conditionSph2Car(planeCon)\n",
    "\n",
    "# Plot the plane condition\n",
    "fig1 =go.Figure(data=go.Cone(\n",
    "    x=[planeConCar[0]], \n",
    "    y=[planeConCar[1]], \n",
    "    z=[planeConCar[2]], \n",
    "    u=[planeConCar[3]], \n",
    "    v=[planeConCar[4]], \n",
    "    w=[planeConCar[5]],\n",
    "sizeref = 0.1\n",
    "))\n",
    "\n",
    "fig1.add_trace(\n",
    "    go.Cone(\n",
    "    x = [planePos[0]],\n",
    "    y = [planePos[1]],\n",
    "    z = [planePos[2]],\n",
    "    u = [planeVel[0]],\n",
    "    v = [planeVel[1]],\n",
    "    w = [planeVel[2]],\n",
    "sizeref = 0.1\n",
    "    ))\n",
    "\n",
    "fig1.add_trace(\n",
    "    go.Scatter3d(\n",
    "        x=[0],\n",
    "        y=[0],\n",
    "        z=[0],\n",
    "        mode = 'markers',\n",
    "        marker = dict(\n",
    "            size = 10,\n",
    "            color = 'orange')\n",
    "                )\n",
    "            )\n",
    "\n",
    "fig1.show()"
   ]
  },
  {
   "cell_type": "markdown",
   "metadata": {
    "hidden": true
   },
   "source": [
    "### Assign all vectors the Initial Velocity of the plane condition"
   ]
  },
  {
   "cell_type": "code",
   "execution_count": 154,
   "metadata": {
    "ExecuteTime": {
     "end_time": "2022-02-15T22:59:52.994445Z",
     "start_time": "2022-02-15T22:59:52.849938Z"
    },
    "hidden": true
   },
   "outputs": [
    {
     "name": "stdout",
     "output_type": "stream",
     "text": [
      "   ConNo         x         y    z        vx        vy  vz    L  cosBeta\n",
      "0    0.0  0.002040  0.001115  0.0  0.877426  0.479711   0  0.0      1.0\n",
      "1    1.0  0.002136  0.000918  0.0  0.877426  0.479711   0  0.0      1.0\n",
      "2    2.0  0.001922 -0.001308  0.0  0.877426  0.479711   0  0.0      1.0\n",
      "3    3.0  0.002230 -0.000659  0.0  0.877426  0.479711   0  0.0      1.0\n",
      "4    4.0  0.001978  0.001222  0.0  0.877426  0.479711   0  0.0      1.0\n"
     ]
    }
   ],
   "source": [
    "dataDFCar2 = updateVelocities(dataDFSph2,planeCon)\n",
    "\n",
    "print (dataDFCar2.head(5))"
   ]
  },
  {
   "cell_type": "markdown",
   "metadata": {
    "hidden": true
   },
   "source": [
    "### Plot Initial Conditions and plane condition"
   ]
  },
  {
   "cell_type": "markdown",
   "metadata": {
    "hidden": true
   },
   "source": [
    "Double check that all conditions (smaller cones) are parallel to the plane condition (larger cone)"
   ]
  },
  {
   "cell_type": "code",
   "execution_count": 156,
   "metadata": {
    "ExecuteTime": {
     "end_time": "2022-02-15T23:00:10.323761Z",
     "start_time": "2022-02-15T23:00:10.243528Z"
    },
    "hidden": true,
    "scrolled": false
   },
   "outputs": [
    {
     "data": {
      "application/vnd.plotly.v1+json": {
       "config": {
        "plotlyServerURL": "https://plot.ly"
       },
       "data": [
        {
         "sizeref": 25,
         "type": "cone",
         "u": [
          0.8774263512369231,
          0.8774263512369231,
          0.8774263512369231,
          0.8774263512369231,
          0.8774263512369231,
          0.8774263512369231,
          0.8774263512369231,
          0.8774263512369231,
          0.8774263512369231,
          0.8774263512369231
         ],
         "v": [
          0.4797113696328862,
          0.4797113696328862,
          0.4797113696328862,
          0.4797113696328862,
          0.4797113696328862,
          0.4797113696328862,
          0.4797113696328862,
          0.4797113696328862,
          0.4797113696328862,
          0.4797113696328862
         ],
         "w": [
          0,
          0,
          0,
          0,
          0,
          0,
          0,
          0,
          0,
          0
         ],
         "x": [
          0.0020402224618183873,
          0.0021364747995212953,
          0.0019224940265836186,
          0.0022300247097443732,
          0.0019779766900595197,
          0.0022886139369557254,
          0.0019834585899214984,
          0.002273678002667439,
          0.0020404008186613943,
          0.002065219437053244
         ],
         "y": [
          0.0011154416665683242,
          0.0009177108674497881,
          -0.0013079505047880464,
          -0.0006585648025475735,
          0.0012224262835877622,
          0.0004110523723286557,
          -0.0012135113626545167,
          0.0004869354632918052,
          -0.0011151153771834165,
          0.0010684505051908033
         ],
         "z": [
          0,
          0,
          0,
          0,
          0,
          0,
          0,
          0,
          0,
          0
         ]
        },
        {
         "sizeref": 0.0002,
         "type": "cone",
         "u": [
          0.8774263512369231
         ],
         "v": [
          0.4797113696328862
         ],
         "w": [
          0
         ],
         "x": [
          0.0020402224618183873
         ],
         "y": [
          0.0011154416665683242
         ],
         "z": [
          0
         ]
        },
        {
         "marker": {
          "color": [
           0,
           0,
           0,
           0,
           0,
           0,
           0,
           0,
           0,
           0
          ],
          "colorscale": [
           [
            0,
            "#440154"
           ],
           [
            0.1111111111111111,
            "#482878"
           ],
           [
            0.2222222222222222,
            "#3e4989"
           ],
           [
            0.3333333333333333,
            "#31688e"
           ],
           [
            0.4444444444444444,
            "#26828e"
           ],
           [
            0.5555555555555556,
            "#1f9e89"
           ],
           [
            0.6666666666666666,
            "#35b779"
           ],
           [
            0.7777777777777778,
            "#6ece58"
           ],
           [
            0.8888888888888888,
            "#b5de2b"
           ],
           [
            1,
            "#fde725"
           ]
          ],
          "size": 3
         },
         "mode": "markers",
         "type": "scatter3d",
         "x": [
          0.0020402224618183873,
          0.0021364747995212953,
          0.0019224940265836186,
          0.0022300247097443732,
          0.0019779766900595197,
          0.0022886139369557254,
          0.0019834585899214984,
          0.002273678002667439,
          0.0020404008186613943,
          0.002065219437053244
         ],
         "y": [
          0.0011154416665683242,
          0.0009177108674497881,
          -0.0013079505047880464,
          -0.0006585648025475735,
          0.0012224262835877622,
          0.0004110523723286557,
          -0.0012135113626545167,
          0.0004869354632918052,
          -0.0011151153771834165,
          0.0010684505051908033
         ],
         "z": [
          0,
          0,
          0,
          0,
          0,
          0,
          0,
          0,
          0,
          0
         ]
        },
        {
         "marker": {
          "color": "orange",
          "size": 6
         },
         "mode": "markers",
         "type": "scatter3d",
         "x": [
          0
         ],
         "y": [
          0
         ],
         "z": [
          0
         ]
        }
       ],
       "layout": {
        "template": {
         "data": {
          "bar": [
           {
            "error_x": {
             "color": "#2a3f5f"
            },
            "error_y": {
             "color": "#2a3f5f"
            },
            "marker": {
             "line": {
              "color": "#E5ECF6",
              "width": 0.5
             }
            },
            "type": "bar"
           }
          ],
          "barpolar": [
           {
            "marker": {
             "line": {
              "color": "#E5ECF6",
              "width": 0.5
             }
            },
            "type": "barpolar"
           }
          ],
          "carpet": [
           {
            "aaxis": {
             "endlinecolor": "#2a3f5f",
             "gridcolor": "white",
             "linecolor": "white",
             "minorgridcolor": "white",
             "startlinecolor": "#2a3f5f"
            },
            "baxis": {
             "endlinecolor": "#2a3f5f",
             "gridcolor": "white",
             "linecolor": "white",
             "minorgridcolor": "white",
             "startlinecolor": "#2a3f5f"
            },
            "type": "carpet"
           }
          ],
          "choropleth": [
           {
            "colorbar": {
             "outlinewidth": 0,
             "ticks": ""
            },
            "type": "choropleth"
           }
          ],
          "contour": [
           {
            "colorbar": {
             "outlinewidth": 0,
             "ticks": ""
            },
            "colorscale": [
             [
              0,
              "#0d0887"
             ],
             [
              0.1111111111111111,
              "#46039f"
             ],
             [
              0.2222222222222222,
              "#7201a8"
             ],
             [
              0.3333333333333333,
              "#9c179e"
             ],
             [
              0.4444444444444444,
              "#bd3786"
             ],
             [
              0.5555555555555556,
              "#d8576b"
             ],
             [
              0.6666666666666666,
              "#ed7953"
             ],
             [
              0.7777777777777778,
              "#fb9f3a"
             ],
             [
              0.8888888888888888,
              "#fdca26"
             ],
             [
              1,
              "#f0f921"
             ]
            ],
            "type": "contour"
           }
          ],
          "contourcarpet": [
           {
            "colorbar": {
             "outlinewidth": 0,
             "ticks": ""
            },
            "type": "contourcarpet"
           }
          ],
          "heatmap": [
           {
            "colorbar": {
             "outlinewidth": 0,
             "ticks": ""
            },
            "colorscale": [
             [
              0,
              "#0d0887"
             ],
             [
              0.1111111111111111,
              "#46039f"
             ],
             [
              0.2222222222222222,
              "#7201a8"
             ],
             [
              0.3333333333333333,
              "#9c179e"
             ],
             [
              0.4444444444444444,
              "#bd3786"
             ],
             [
              0.5555555555555556,
              "#d8576b"
             ],
             [
              0.6666666666666666,
              "#ed7953"
             ],
             [
              0.7777777777777778,
              "#fb9f3a"
             ],
             [
              0.8888888888888888,
              "#fdca26"
             ],
             [
              1,
              "#f0f921"
             ]
            ],
            "type": "heatmap"
           }
          ],
          "heatmapgl": [
           {
            "colorbar": {
             "outlinewidth": 0,
             "ticks": ""
            },
            "colorscale": [
             [
              0,
              "#0d0887"
             ],
             [
              0.1111111111111111,
              "#46039f"
             ],
             [
              0.2222222222222222,
              "#7201a8"
             ],
             [
              0.3333333333333333,
              "#9c179e"
             ],
             [
              0.4444444444444444,
              "#bd3786"
             ],
             [
              0.5555555555555556,
              "#d8576b"
             ],
             [
              0.6666666666666666,
              "#ed7953"
             ],
             [
              0.7777777777777778,
              "#fb9f3a"
             ],
             [
              0.8888888888888888,
              "#fdca26"
             ],
             [
              1,
              "#f0f921"
             ]
            ],
            "type": "heatmapgl"
           }
          ],
          "histogram": [
           {
            "marker": {
             "colorbar": {
              "outlinewidth": 0,
              "ticks": ""
             }
            },
            "type": "histogram"
           }
          ],
          "histogram2d": [
           {
            "colorbar": {
             "outlinewidth": 0,
             "ticks": ""
            },
            "colorscale": [
             [
              0,
              "#0d0887"
             ],
             [
              0.1111111111111111,
              "#46039f"
             ],
             [
              0.2222222222222222,
              "#7201a8"
             ],
             [
              0.3333333333333333,
              "#9c179e"
             ],
             [
              0.4444444444444444,
              "#bd3786"
             ],
             [
              0.5555555555555556,
              "#d8576b"
             ],
             [
              0.6666666666666666,
              "#ed7953"
             ],
             [
              0.7777777777777778,
              "#fb9f3a"
             ],
             [
              0.8888888888888888,
              "#fdca26"
             ],
             [
              1,
              "#f0f921"
             ]
            ],
            "type": "histogram2d"
           }
          ],
          "histogram2dcontour": [
           {
            "colorbar": {
             "outlinewidth": 0,
             "ticks": ""
            },
            "colorscale": [
             [
              0,
              "#0d0887"
             ],
             [
              0.1111111111111111,
              "#46039f"
             ],
             [
              0.2222222222222222,
              "#7201a8"
             ],
             [
              0.3333333333333333,
              "#9c179e"
             ],
             [
              0.4444444444444444,
              "#bd3786"
             ],
             [
              0.5555555555555556,
              "#d8576b"
             ],
             [
              0.6666666666666666,
              "#ed7953"
             ],
             [
              0.7777777777777778,
              "#fb9f3a"
             ],
             [
              0.8888888888888888,
              "#fdca26"
             ],
             [
              1,
              "#f0f921"
             ]
            ],
            "type": "histogram2dcontour"
           }
          ],
          "mesh3d": [
           {
            "colorbar": {
             "outlinewidth": 0,
             "ticks": ""
            },
            "type": "mesh3d"
           }
          ],
          "parcoords": [
           {
            "line": {
             "colorbar": {
              "outlinewidth": 0,
              "ticks": ""
             }
            },
            "type": "parcoords"
           }
          ],
          "pie": [
           {
            "automargin": true,
            "type": "pie"
           }
          ],
          "scatter": [
           {
            "marker": {
             "colorbar": {
              "outlinewidth": 0,
              "ticks": ""
             }
            },
            "type": "scatter"
           }
          ],
          "scatter3d": [
           {
            "line": {
             "colorbar": {
              "outlinewidth": 0,
              "ticks": ""
             }
            },
            "marker": {
             "colorbar": {
              "outlinewidth": 0,
              "ticks": ""
             }
            },
            "type": "scatter3d"
           }
          ],
          "scattercarpet": [
           {
            "marker": {
             "colorbar": {
              "outlinewidth": 0,
              "ticks": ""
             }
            },
            "type": "scattercarpet"
           }
          ],
          "scattergeo": [
           {
            "marker": {
             "colorbar": {
              "outlinewidth": 0,
              "ticks": ""
             }
            },
            "type": "scattergeo"
           }
          ],
          "scattergl": [
           {
            "marker": {
             "colorbar": {
              "outlinewidth": 0,
              "ticks": ""
             }
            },
            "type": "scattergl"
           }
          ],
          "scattermapbox": [
           {
            "marker": {
             "colorbar": {
              "outlinewidth": 0,
              "ticks": ""
             }
            },
            "type": "scattermapbox"
           }
          ],
          "scatterpolar": [
           {
            "marker": {
             "colorbar": {
              "outlinewidth": 0,
              "ticks": ""
             }
            },
            "type": "scatterpolar"
           }
          ],
          "scatterpolargl": [
           {
            "marker": {
             "colorbar": {
              "outlinewidth": 0,
              "ticks": ""
             }
            },
            "type": "scatterpolargl"
           }
          ],
          "scatterternary": [
           {
            "marker": {
             "colorbar": {
              "outlinewidth": 0,
              "ticks": ""
             }
            },
            "type": "scatterternary"
           }
          ],
          "surface": [
           {
            "colorbar": {
             "outlinewidth": 0,
             "ticks": ""
            },
            "colorscale": [
             [
              0,
              "#0d0887"
             ],
             [
              0.1111111111111111,
              "#46039f"
             ],
             [
              0.2222222222222222,
              "#7201a8"
             ],
             [
              0.3333333333333333,
              "#9c179e"
             ],
             [
              0.4444444444444444,
              "#bd3786"
             ],
             [
              0.5555555555555556,
              "#d8576b"
             ],
             [
              0.6666666666666666,
              "#ed7953"
             ],
             [
              0.7777777777777778,
              "#fb9f3a"
             ],
             [
              0.8888888888888888,
              "#fdca26"
             ],
             [
              1,
              "#f0f921"
             ]
            ],
            "type": "surface"
           }
          ],
          "table": [
           {
            "cells": {
             "fill": {
              "color": "#EBF0F8"
             },
             "line": {
              "color": "white"
             }
            },
            "header": {
             "fill": {
              "color": "#C8D4E3"
             },
             "line": {
              "color": "white"
             }
            },
            "type": "table"
           }
          ]
         },
         "layout": {
          "annotationdefaults": {
           "arrowcolor": "#2a3f5f",
           "arrowhead": 0,
           "arrowwidth": 1
          },
          "autotypenumbers": "strict",
          "coloraxis": {
           "colorbar": {
            "outlinewidth": 0,
            "ticks": ""
           }
          },
          "colorscale": {
           "diverging": [
            [
             0,
             "#8e0152"
            ],
            [
             0.1,
             "#c51b7d"
            ],
            [
             0.2,
             "#de77ae"
            ],
            [
             0.3,
             "#f1b6da"
            ],
            [
             0.4,
             "#fde0ef"
            ],
            [
             0.5,
             "#f7f7f7"
            ],
            [
             0.6,
             "#e6f5d0"
            ],
            [
             0.7,
             "#b8e186"
            ],
            [
             0.8,
             "#7fbc41"
            ],
            [
             0.9,
             "#4d9221"
            ],
            [
             1,
             "#276419"
            ]
           ],
           "sequential": [
            [
             0,
             "#0d0887"
            ],
            [
             0.1111111111111111,
             "#46039f"
            ],
            [
             0.2222222222222222,
             "#7201a8"
            ],
            [
             0.3333333333333333,
             "#9c179e"
            ],
            [
             0.4444444444444444,
             "#bd3786"
            ],
            [
             0.5555555555555556,
             "#d8576b"
            ],
            [
             0.6666666666666666,
             "#ed7953"
            ],
            [
             0.7777777777777778,
             "#fb9f3a"
            ],
            [
             0.8888888888888888,
             "#fdca26"
            ],
            [
             1,
             "#f0f921"
            ]
           ],
           "sequentialminus": [
            [
             0,
             "#0d0887"
            ],
            [
             0.1111111111111111,
             "#46039f"
            ],
            [
             0.2222222222222222,
             "#7201a8"
            ],
            [
             0.3333333333333333,
             "#9c179e"
            ],
            [
             0.4444444444444444,
             "#bd3786"
            ],
            [
             0.5555555555555556,
             "#d8576b"
            ],
            [
             0.6666666666666666,
             "#ed7953"
            ],
            [
             0.7777777777777778,
             "#fb9f3a"
            ],
            [
             0.8888888888888888,
             "#fdca26"
            ],
            [
             1,
             "#f0f921"
            ]
           ]
          },
          "colorway": [
           "#636efa",
           "#EF553B",
           "#00cc96",
           "#ab63fa",
           "#FFA15A",
           "#19d3f3",
           "#FF6692",
           "#B6E880",
           "#FF97FF",
           "#FECB52"
          ],
          "font": {
           "color": "#2a3f5f"
          },
          "geo": {
           "bgcolor": "white",
           "lakecolor": "white",
           "landcolor": "#E5ECF6",
           "showlakes": true,
           "showland": true,
           "subunitcolor": "white"
          },
          "hoverlabel": {
           "align": "left"
          },
          "hovermode": "closest",
          "mapbox": {
           "style": "light"
          },
          "paper_bgcolor": "white",
          "plot_bgcolor": "#E5ECF6",
          "polar": {
           "angularaxis": {
            "gridcolor": "white",
            "linecolor": "white",
            "ticks": ""
           },
           "bgcolor": "#E5ECF6",
           "radialaxis": {
            "gridcolor": "white",
            "linecolor": "white",
            "ticks": ""
           }
          },
          "scene": {
           "xaxis": {
            "backgroundcolor": "#E5ECF6",
            "gridcolor": "white",
            "gridwidth": 2,
            "linecolor": "white",
            "showbackground": true,
            "ticks": "",
            "zerolinecolor": "white"
           },
           "yaxis": {
            "backgroundcolor": "#E5ECF6",
            "gridcolor": "white",
            "gridwidth": 2,
            "linecolor": "white",
            "showbackground": true,
            "ticks": "",
            "zerolinecolor": "white"
           },
           "zaxis": {
            "backgroundcolor": "#E5ECF6",
            "gridcolor": "white",
            "gridwidth": 2,
            "linecolor": "white",
            "showbackground": true,
            "ticks": "",
            "zerolinecolor": "white"
           }
          },
          "shapedefaults": {
           "line": {
            "color": "#2a3f5f"
           }
          },
          "ternary": {
           "aaxis": {
            "gridcolor": "white",
            "linecolor": "white",
            "ticks": ""
           },
           "baxis": {
            "gridcolor": "white",
            "linecolor": "white",
            "ticks": ""
           },
           "bgcolor": "#E5ECF6",
           "caxis": {
            "gridcolor": "white",
            "linecolor": "white",
            "ticks": ""
           }
          },
          "title": {
           "x": 0.05
          },
          "xaxis": {
           "automargin": true,
           "gridcolor": "white",
           "linecolor": "white",
           "ticks": "",
           "title": {
            "standoff": 15
           },
           "zerolinecolor": "white",
           "zerolinewidth": 2
          },
          "yaxis": {
           "automargin": true,
           "gridcolor": "white",
           "linecolor": "white",
           "ticks": "",
           "title": {
            "standoff": 15
           },
           "zerolinecolor": "white",
           "zerolinewidth": 2
          }
         }
        }
       }
      },
      "text/html": [
       "<div>                            <div id=\"d8678326-ecf3-4756-9d73-a03bee692251\" class=\"plotly-graph-div\" style=\"height:525px; width:100%;\"></div>            <script type=\"text/javascript\">                require([\"plotly\"], function(Plotly) {                    window.PLOTLYENV=window.PLOTLYENV || {};                                    if (document.getElementById(\"d8678326-ecf3-4756-9d73-a03bee692251\")) {                    Plotly.newPlot(                        \"d8678326-ecf3-4756-9d73-a03bee692251\",                        [{\"sizeref\": 25, \"type\": \"cone\", \"u\": [0.8774263512369231, 0.8774263512369231, 0.8774263512369231, 0.8774263512369231, 0.8774263512369231, 0.8774263512369231, 0.8774263512369231, 0.8774263512369231, 0.8774263512369231, 0.8774263512369231], \"v\": [0.4797113696328862, 0.4797113696328862, 0.4797113696328862, 0.4797113696328862, 0.4797113696328862, 0.4797113696328862, 0.4797113696328862, 0.4797113696328862, 0.4797113696328862, 0.4797113696328862], \"w\": [0, 0, 0, 0, 0, 0, 0, 0, 0, 0], \"x\": [0.0020402224618183873, 0.0021364747995212953, 0.0019224940265836186, 0.0022300247097443732, 0.0019779766900595197, 0.0022886139369557254, 0.0019834585899214984, 0.002273678002667439, 0.0020404008186613943, 0.002065219437053244], \"y\": [0.0011154416665683242, 0.0009177108674497881, -0.0013079505047880464, -0.0006585648025475735, 0.0012224262835877622, 0.0004110523723286557, -0.0012135113626545167, 0.0004869354632918052, -0.0011151153771834165, 0.0010684505051908033], \"z\": [0.0, 0.0, 0.0, 0.0, 0.0, 0.0, 0.0, 0.0, 0.0, 0.0]}, {\"sizeref\": 0.0002, \"type\": \"cone\", \"u\": [0.8774263512369231], \"v\": [0.4797113696328862], \"w\": [0], \"x\": [0.0020402224618183873], \"y\": [0.0011154416665683242], \"z\": [0]}, {\"marker\": {\"color\": [0.0, 0.0, 0.0, 0.0, 0.0, 0.0, 0.0, 0.0, 0.0, 0.0], \"colorscale\": [[0.0, \"#440154\"], [0.1111111111111111, \"#482878\"], [0.2222222222222222, \"#3e4989\"], [0.3333333333333333, \"#31688e\"], [0.4444444444444444, \"#26828e\"], [0.5555555555555556, \"#1f9e89\"], [0.6666666666666666, \"#35b779\"], [0.7777777777777778, \"#6ece58\"], [0.8888888888888888, \"#b5de2b\"], [1.0, \"#fde725\"]], \"size\": 3}, \"mode\": \"markers\", \"type\": \"scatter3d\", \"x\": [0.0020402224618183873, 0.0021364747995212953, 0.0019224940265836186, 0.0022300247097443732, 0.0019779766900595197, 0.0022886139369557254, 0.0019834585899214984, 0.002273678002667439, 0.0020404008186613943, 0.002065219437053244], \"y\": [0.0011154416665683242, 0.0009177108674497881, -0.0013079505047880464, -0.0006585648025475735, 0.0012224262835877622, 0.0004110523723286557, -0.0012135113626545167, 0.0004869354632918052, -0.0011151153771834165, 0.0010684505051908033], \"z\": [0.0, 0.0, 0.0, 0.0, 0.0, 0.0, 0.0, 0.0, 0.0, 0.0]}, {\"marker\": {\"color\": \"orange\", \"size\": 6}, \"mode\": \"markers\", \"type\": \"scatter3d\", \"x\": [0], \"y\": [0], \"z\": [0]}],                        {\"template\": {\"data\": {\"bar\": [{\"error_x\": {\"color\": \"#2a3f5f\"}, \"error_y\": {\"color\": \"#2a3f5f\"}, \"marker\": {\"line\": {\"color\": \"#E5ECF6\", \"width\": 0.5}}, \"type\": \"bar\"}], \"barpolar\": [{\"marker\": {\"line\": {\"color\": \"#E5ECF6\", \"width\": 0.5}}, \"type\": \"barpolar\"}], \"carpet\": [{\"aaxis\": {\"endlinecolor\": \"#2a3f5f\", \"gridcolor\": \"white\", \"linecolor\": \"white\", \"minorgridcolor\": \"white\", \"startlinecolor\": \"#2a3f5f\"}, \"baxis\": {\"endlinecolor\": \"#2a3f5f\", \"gridcolor\": \"white\", \"linecolor\": \"white\", \"minorgridcolor\": \"white\", \"startlinecolor\": \"#2a3f5f\"}, \"type\": \"carpet\"}], \"choropleth\": [{\"colorbar\": {\"outlinewidth\": 0, \"ticks\": \"\"}, \"type\": \"choropleth\"}], \"contour\": [{\"colorbar\": {\"outlinewidth\": 0, \"ticks\": \"\"}, \"colorscale\": [[0.0, \"#0d0887\"], [0.1111111111111111, \"#46039f\"], [0.2222222222222222, \"#7201a8\"], [0.3333333333333333, \"#9c179e\"], [0.4444444444444444, \"#bd3786\"], [0.5555555555555556, \"#d8576b\"], [0.6666666666666666, \"#ed7953\"], [0.7777777777777778, \"#fb9f3a\"], [0.8888888888888888, \"#fdca26\"], [1.0, \"#f0f921\"]], \"type\": \"contour\"}], \"contourcarpet\": [{\"colorbar\": {\"outlinewidth\": 0, \"ticks\": \"\"}, \"type\": \"contourcarpet\"}], \"heatmap\": [{\"colorbar\": {\"outlinewidth\": 0, \"ticks\": \"\"}, \"colorscale\": [[0.0, \"#0d0887\"], [0.1111111111111111, \"#46039f\"], [0.2222222222222222, \"#7201a8\"], [0.3333333333333333, \"#9c179e\"], [0.4444444444444444, \"#bd3786\"], [0.5555555555555556, \"#d8576b\"], [0.6666666666666666, \"#ed7953\"], [0.7777777777777778, \"#fb9f3a\"], [0.8888888888888888, \"#fdca26\"], [1.0, \"#f0f921\"]], \"type\": \"heatmap\"}], \"heatmapgl\": [{\"colorbar\": {\"outlinewidth\": 0, \"ticks\": \"\"}, \"colorscale\": [[0.0, \"#0d0887\"], [0.1111111111111111, \"#46039f\"], [0.2222222222222222, \"#7201a8\"], [0.3333333333333333, \"#9c179e\"], [0.4444444444444444, \"#bd3786\"], [0.5555555555555556, \"#d8576b\"], [0.6666666666666666, \"#ed7953\"], [0.7777777777777778, \"#fb9f3a\"], [0.8888888888888888, \"#fdca26\"], [1.0, \"#f0f921\"]], \"type\": \"heatmapgl\"}], \"histogram\": [{\"marker\": {\"colorbar\": {\"outlinewidth\": 0, \"ticks\": \"\"}}, \"type\": \"histogram\"}], \"histogram2d\": [{\"colorbar\": {\"outlinewidth\": 0, \"ticks\": \"\"}, \"colorscale\": [[0.0, \"#0d0887\"], [0.1111111111111111, \"#46039f\"], [0.2222222222222222, \"#7201a8\"], [0.3333333333333333, \"#9c179e\"], [0.4444444444444444, \"#bd3786\"], [0.5555555555555556, \"#d8576b\"], [0.6666666666666666, \"#ed7953\"], [0.7777777777777778, \"#fb9f3a\"], [0.8888888888888888, \"#fdca26\"], [1.0, \"#f0f921\"]], \"type\": \"histogram2d\"}], \"histogram2dcontour\": [{\"colorbar\": {\"outlinewidth\": 0, \"ticks\": \"\"}, \"colorscale\": [[0.0, \"#0d0887\"], [0.1111111111111111, \"#46039f\"], [0.2222222222222222, \"#7201a8\"], [0.3333333333333333, \"#9c179e\"], [0.4444444444444444, \"#bd3786\"], [0.5555555555555556, \"#d8576b\"], [0.6666666666666666, \"#ed7953\"], [0.7777777777777778, \"#fb9f3a\"], [0.8888888888888888, \"#fdca26\"], [1.0, \"#f0f921\"]], \"type\": \"histogram2dcontour\"}], \"mesh3d\": [{\"colorbar\": {\"outlinewidth\": 0, \"ticks\": \"\"}, \"type\": \"mesh3d\"}], \"parcoords\": [{\"line\": {\"colorbar\": {\"outlinewidth\": 0, \"ticks\": \"\"}}, \"type\": \"parcoords\"}], \"pie\": [{\"automargin\": true, \"type\": \"pie\"}], \"scatter\": [{\"marker\": {\"colorbar\": {\"outlinewidth\": 0, \"ticks\": \"\"}}, \"type\": \"scatter\"}], \"scatter3d\": [{\"line\": {\"colorbar\": {\"outlinewidth\": 0, \"ticks\": \"\"}}, \"marker\": {\"colorbar\": {\"outlinewidth\": 0, \"ticks\": \"\"}}, \"type\": \"scatter3d\"}], \"scattercarpet\": [{\"marker\": {\"colorbar\": {\"outlinewidth\": 0, \"ticks\": \"\"}}, \"type\": \"scattercarpet\"}], \"scattergeo\": [{\"marker\": {\"colorbar\": {\"outlinewidth\": 0, \"ticks\": \"\"}}, \"type\": \"scattergeo\"}], \"scattergl\": [{\"marker\": {\"colorbar\": {\"outlinewidth\": 0, \"ticks\": \"\"}}, \"type\": \"scattergl\"}], \"scattermapbox\": [{\"marker\": {\"colorbar\": {\"outlinewidth\": 0, \"ticks\": \"\"}}, \"type\": \"scattermapbox\"}], \"scatterpolar\": [{\"marker\": {\"colorbar\": {\"outlinewidth\": 0, \"ticks\": \"\"}}, \"type\": \"scatterpolar\"}], \"scatterpolargl\": [{\"marker\": {\"colorbar\": {\"outlinewidth\": 0, \"ticks\": \"\"}}, \"type\": \"scatterpolargl\"}], \"scatterternary\": [{\"marker\": {\"colorbar\": {\"outlinewidth\": 0, \"ticks\": \"\"}}, \"type\": \"scatterternary\"}], \"surface\": [{\"colorbar\": {\"outlinewidth\": 0, \"ticks\": \"\"}, \"colorscale\": [[0.0, \"#0d0887\"], [0.1111111111111111, \"#46039f\"], [0.2222222222222222, \"#7201a8\"], [0.3333333333333333, \"#9c179e\"], [0.4444444444444444, \"#bd3786\"], [0.5555555555555556, \"#d8576b\"], [0.6666666666666666, \"#ed7953\"], [0.7777777777777778, \"#fb9f3a\"], [0.8888888888888888, \"#fdca26\"], [1.0, \"#f0f921\"]], \"type\": \"surface\"}], \"table\": [{\"cells\": {\"fill\": {\"color\": \"#EBF0F8\"}, \"line\": {\"color\": \"white\"}}, \"header\": {\"fill\": {\"color\": \"#C8D4E3\"}, \"line\": {\"color\": \"white\"}}, \"type\": \"table\"}]}, \"layout\": {\"annotationdefaults\": {\"arrowcolor\": \"#2a3f5f\", \"arrowhead\": 0, \"arrowwidth\": 1}, \"autotypenumbers\": \"strict\", \"coloraxis\": {\"colorbar\": {\"outlinewidth\": 0, \"ticks\": \"\"}}, \"colorscale\": {\"diverging\": [[0, \"#8e0152\"], [0.1, \"#c51b7d\"], [0.2, \"#de77ae\"], [0.3, \"#f1b6da\"], [0.4, \"#fde0ef\"], [0.5, \"#f7f7f7\"], [0.6, \"#e6f5d0\"], [0.7, \"#b8e186\"], [0.8, \"#7fbc41\"], [0.9, \"#4d9221\"], [1, \"#276419\"]], \"sequential\": [[0.0, \"#0d0887\"], [0.1111111111111111, \"#46039f\"], [0.2222222222222222, \"#7201a8\"], [0.3333333333333333, \"#9c179e\"], [0.4444444444444444, \"#bd3786\"], [0.5555555555555556, \"#d8576b\"], [0.6666666666666666, \"#ed7953\"], [0.7777777777777778, \"#fb9f3a\"], [0.8888888888888888, \"#fdca26\"], [1.0, \"#f0f921\"]], \"sequentialminus\": [[0.0, \"#0d0887\"], [0.1111111111111111, \"#46039f\"], [0.2222222222222222, \"#7201a8\"], [0.3333333333333333, \"#9c179e\"], [0.4444444444444444, \"#bd3786\"], [0.5555555555555556, \"#d8576b\"], [0.6666666666666666, \"#ed7953\"], [0.7777777777777778, \"#fb9f3a\"], [0.8888888888888888, \"#fdca26\"], [1.0, \"#f0f921\"]]}, \"colorway\": [\"#636efa\", \"#EF553B\", \"#00cc96\", \"#ab63fa\", \"#FFA15A\", \"#19d3f3\", \"#FF6692\", \"#B6E880\", \"#FF97FF\", \"#FECB52\"], \"font\": {\"color\": \"#2a3f5f\"}, \"geo\": {\"bgcolor\": \"white\", \"lakecolor\": \"white\", \"landcolor\": \"#E5ECF6\", \"showlakes\": true, \"showland\": true, \"subunitcolor\": \"white\"}, \"hoverlabel\": {\"align\": \"left\"}, \"hovermode\": \"closest\", \"mapbox\": {\"style\": \"light\"}, \"paper_bgcolor\": \"white\", \"plot_bgcolor\": \"#E5ECF6\", \"polar\": {\"angularaxis\": {\"gridcolor\": \"white\", \"linecolor\": \"white\", \"ticks\": \"\"}, \"bgcolor\": \"#E5ECF6\", \"radialaxis\": {\"gridcolor\": \"white\", \"linecolor\": \"white\", \"ticks\": \"\"}}, \"scene\": {\"xaxis\": {\"backgroundcolor\": \"#E5ECF6\", \"gridcolor\": \"white\", \"gridwidth\": 2, \"linecolor\": \"white\", \"showbackground\": true, \"ticks\": \"\", \"zerolinecolor\": \"white\"}, \"yaxis\": {\"backgroundcolor\": \"#E5ECF6\", \"gridcolor\": \"white\", \"gridwidth\": 2, \"linecolor\": \"white\", \"showbackground\": true, \"ticks\": \"\", \"zerolinecolor\": \"white\"}, \"zaxis\": {\"backgroundcolor\": \"#E5ECF6\", \"gridcolor\": \"white\", \"gridwidth\": 2, \"linecolor\": \"white\", \"showbackground\": true, \"ticks\": \"\", \"zerolinecolor\": \"white\"}}, \"shapedefaults\": {\"line\": {\"color\": \"#2a3f5f\"}}, \"ternary\": {\"aaxis\": {\"gridcolor\": \"white\", \"linecolor\": \"white\", \"ticks\": \"\"}, \"baxis\": {\"gridcolor\": \"white\", \"linecolor\": \"white\", \"ticks\": \"\"}, \"bgcolor\": \"#E5ECF6\", \"caxis\": {\"gridcolor\": \"white\", \"linecolor\": \"white\", \"ticks\": \"\"}}, \"title\": {\"x\": 0.05}, \"xaxis\": {\"automargin\": true, \"gridcolor\": \"white\", \"linecolor\": \"white\", \"ticks\": \"\", \"title\": {\"standoff\": 15}, \"zerolinecolor\": \"white\", \"zerolinewidth\": 2}, \"yaxis\": {\"automargin\": true, \"gridcolor\": \"white\", \"linecolor\": \"white\", \"ticks\": \"\", \"title\": {\"standoff\": 15}, \"zerolinecolor\": \"white\", \"zerolinewidth\": 2}}}},                        {\"responsive\": true}                    ).then(function(){\n",
       "                            \n",
       "var gd = document.getElementById('d8678326-ecf3-4756-9d73-a03bee692251');\n",
       "var x = new MutationObserver(function (mutations, observer) {{\n",
       "        var display = window.getComputedStyle(gd).display;\n",
       "        if (!display || display === 'none') {{\n",
       "            console.log([gd, 'removed!']);\n",
       "            Plotly.purge(gd);\n",
       "            observer.disconnect();\n",
       "        }}\n",
       "}});\n",
       "\n",
       "// Listen for the removal of the full notebook cells\n",
       "var notebookContainer = gd.closest('#notebook-container');\n",
       "if (notebookContainer) {{\n",
       "    x.observe(notebookContainer, {childList: true});\n",
       "}}\n",
       "\n",
       "// Listen for the clearing of the current output cell\n",
       "var outputEl = gd.closest('.output');\n",
       "if (outputEl) {{\n",
       "    x.observe(outputEl, {childList: true});\n",
       "}}\n",
       "\n",
       "                        })                };                });            </script>        </div>"
      ]
     },
     "metadata": {},
     "output_type": "display_data"
    }
   ],
   "source": [
    "x,y,z = dataDFCar2.x,dataDFCar2.y,dataDFCar2.z\n",
    "loss = dataDFCar2.L\n",
    "vx,vy,vz = dataDFCar2.vx,dataDFCar2.vy,dataDFCar2.vz\n",
    "\n",
    "planeConCar = conditionSph2Car(planeCon)\n",
    "\n",
    "refSize = 0.0001\n",
    "\n",
    "# Plot IC's\n",
    "fig1 = go.Figure(data=go.Cone(\n",
    "    x=x, \n",
    "    y=y, \n",
    "    z=z, \n",
    "    u=vx, \n",
    "    v=vy, \n",
    "    w=vz,\n",
    "    sizeref = 25\n",
    "))\n",
    "\n",
    "# Add the condition of the plane\n",
    "fig1.add_trace(\n",
    "    go.Cone(\n",
    "    x = [planeConCar[0]],\n",
    "    y = [planeConCar[1]],\n",
    "    z = [planeConCar[2]],\n",
    "    u = [planeConCar[3]],\n",
    "    v = [planeConCar[4]],\n",
    "    w = [planeConCar[5]],\n",
    "sizeref = 2*refSize\n",
    "    ))\n",
    "\n",
    "\n",
    "# Add the intial position markers\n",
    "fig1.add_trace(\n",
    "    go.Scatter3d(\n",
    "        x=x,\n",
    "        y=y,\n",
    "        z=z,\n",
    "        mode = 'markers',\n",
    "            marker=dict(\n",
    "            size=3,\n",
    "            color = z,\n",
    "            colorscale='Viridis'\n",
    "                )\n",
    "            )\n",
    ")\n",
    "\n",
    "# Add the location of the sun\n",
    "fig1.add_trace(\n",
    "    go.Scatter3d(\n",
    "        x=[0],\n",
    "        y=[0],\n",
    "        z=[0],\n",
    "        mode = 'markers',\n",
    "        marker = dict(\n",
    "            size = 6,\n",
    "            color = 'orange')\n",
    "                )\n",
    "            )\n",
    "\n",
    "fig1.show()"
   ]
  },
  {
   "cell_type": "markdown",
   "metadata": {
    "hidden": true
   },
   "source": [
    "### Plot plane condition and plane location"
   ]
  },
  {
   "cell_type": "markdown",
   "metadata": {
    "hidden": true
   },
   "source": [
    "Double check that plane points back to sun in the $-\\hat{r}$ direction"
   ]
  },
  {
   "cell_type": "code",
   "execution_count": 157,
   "metadata": {
    "ExecuteTime": {
     "end_time": "2022-02-15T23:00:25.465876Z",
     "start_time": "2022-02-15T23:00:25.391826Z"
    },
    "hidden": true
   },
   "outputs": [
    {
     "data": {
      "application/vnd.plotly.v1+json": {
       "config": {
        "plotlyServerURL": "https://plot.ly"
       },
       "data": [
        {
         "sizeref": 0.15,
         "type": "cone",
         "u": [
          0.8774263512369231
         ],
         "v": [
          0.4797113696328862
         ],
         "w": [
          0
         ],
         "x": [
          0.0020402224618183873
         ],
         "y": [
          0.0011154416665683242
         ],
         "z": [
          0
         ]
        },
        {
         "sizeref": 0.15,
         "type": "cone",
         "u": [
          -0.8750794419467722
         ],
         "v": [
          -0.4784282544435849
         ],
         "w": [
          0
         ],
         "x": [
          0.8750794419467722
         ],
         "y": [
          0.4784282544435849
         ],
         "z": [
          0
         ]
        },
        {
         "marker": {
          "color": "orange",
          "size": 8
         },
         "mode": "markers",
         "type": "scatter3d",
         "x": [
          0
         ],
         "y": [
          0
         ],
         "z": [
          0
         ]
        }
       ],
       "layout": {
        "template": {
         "data": {
          "bar": [
           {
            "error_x": {
             "color": "#2a3f5f"
            },
            "error_y": {
             "color": "#2a3f5f"
            },
            "marker": {
             "line": {
              "color": "#E5ECF6",
              "width": 0.5
             }
            },
            "type": "bar"
           }
          ],
          "barpolar": [
           {
            "marker": {
             "line": {
              "color": "#E5ECF6",
              "width": 0.5
             }
            },
            "type": "barpolar"
           }
          ],
          "carpet": [
           {
            "aaxis": {
             "endlinecolor": "#2a3f5f",
             "gridcolor": "white",
             "linecolor": "white",
             "minorgridcolor": "white",
             "startlinecolor": "#2a3f5f"
            },
            "baxis": {
             "endlinecolor": "#2a3f5f",
             "gridcolor": "white",
             "linecolor": "white",
             "minorgridcolor": "white",
             "startlinecolor": "#2a3f5f"
            },
            "type": "carpet"
           }
          ],
          "choropleth": [
           {
            "colorbar": {
             "outlinewidth": 0,
             "ticks": ""
            },
            "type": "choropleth"
           }
          ],
          "contour": [
           {
            "colorbar": {
             "outlinewidth": 0,
             "ticks": ""
            },
            "colorscale": [
             [
              0,
              "#0d0887"
             ],
             [
              0.1111111111111111,
              "#46039f"
             ],
             [
              0.2222222222222222,
              "#7201a8"
             ],
             [
              0.3333333333333333,
              "#9c179e"
             ],
             [
              0.4444444444444444,
              "#bd3786"
             ],
             [
              0.5555555555555556,
              "#d8576b"
             ],
             [
              0.6666666666666666,
              "#ed7953"
             ],
             [
              0.7777777777777778,
              "#fb9f3a"
             ],
             [
              0.8888888888888888,
              "#fdca26"
             ],
             [
              1,
              "#f0f921"
             ]
            ],
            "type": "contour"
           }
          ],
          "contourcarpet": [
           {
            "colorbar": {
             "outlinewidth": 0,
             "ticks": ""
            },
            "type": "contourcarpet"
           }
          ],
          "heatmap": [
           {
            "colorbar": {
             "outlinewidth": 0,
             "ticks": ""
            },
            "colorscale": [
             [
              0,
              "#0d0887"
             ],
             [
              0.1111111111111111,
              "#46039f"
             ],
             [
              0.2222222222222222,
              "#7201a8"
             ],
             [
              0.3333333333333333,
              "#9c179e"
             ],
             [
              0.4444444444444444,
              "#bd3786"
             ],
             [
              0.5555555555555556,
              "#d8576b"
             ],
             [
              0.6666666666666666,
              "#ed7953"
             ],
             [
              0.7777777777777778,
              "#fb9f3a"
             ],
             [
              0.8888888888888888,
              "#fdca26"
             ],
             [
              1,
              "#f0f921"
             ]
            ],
            "type": "heatmap"
           }
          ],
          "heatmapgl": [
           {
            "colorbar": {
             "outlinewidth": 0,
             "ticks": ""
            },
            "colorscale": [
             [
              0,
              "#0d0887"
             ],
             [
              0.1111111111111111,
              "#46039f"
             ],
             [
              0.2222222222222222,
              "#7201a8"
             ],
             [
              0.3333333333333333,
              "#9c179e"
             ],
             [
              0.4444444444444444,
              "#bd3786"
             ],
             [
              0.5555555555555556,
              "#d8576b"
             ],
             [
              0.6666666666666666,
              "#ed7953"
             ],
             [
              0.7777777777777778,
              "#fb9f3a"
             ],
             [
              0.8888888888888888,
              "#fdca26"
             ],
             [
              1,
              "#f0f921"
             ]
            ],
            "type": "heatmapgl"
           }
          ],
          "histogram": [
           {
            "marker": {
             "colorbar": {
              "outlinewidth": 0,
              "ticks": ""
             }
            },
            "type": "histogram"
           }
          ],
          "histogram2d": [
           {
            "colorbar": {
             "outlinewidth": 0,
             "ticks": ""
            },
            "colorscale": [
             [
              0,
              "#0d0887"
             ],
             [
              0.1111111111111111,
              "#46039f"
             ],
             [
              0.2222222222222222,
              "#7201a8"
             ],
             [
              0.3333333333333333,
              "#9c179e"
             ],
             [
              0.4444444444444444,
              "#bd3786"
             ],
             [
              0.5555555555555556,
              "#d8576b"
             ],
             [
              0.6666666666666666,
              "#ed7953"
             ],
             [
              0.7777777777777778,
              "#fb9f3a"
             ],
             [
              0.8888888888888888,
              "#fdca26"
             ],
             [
              1,
              "#f0f921"
             ]
            ],
            "type": "histogram2d"
           }
          ],
          "histogram2dcontour": [
           {
            "colorbar": {
             "outlinewidth": 0,
             "ticks": ""
            },
            "colorscale": [
             [
              0,
              "#0d0887"
             ],
             [
              0.1111111111111111,
              "#46039f"
             ],
             [
              0.2222222222222222,
              "#7201a8"
             ],
             [
              0.3333333333333333,
              "#9c179e"
             ],
             [
              0.4444444444444444,
              "#bd3786"
             ],
             [
              0.5555555555555556,
              "#d8576b"
             ],
             [
              0.6666666666666666,
              "#ed7953"
             ],
             [
              0.7777777777777778,
              "#fb9f3a"
             ],
             [
              0.8888888888888888,
              "#fdca26"
             ],
             [
              1,
              "#f0f921"
             ]
            ],
            "type": "histogram2dcontour"
           }
          ],
          "mesh3d": [
           {
            "colorbar": {
             "outlinewidth": 0,
             "ticks": ""
            },
            "type": "mesh3d"
           }
          ],
          "parcoords": [
           {
            "line": {
             "colorbar": {
              "outlinewidth": 0,
              "ticks": ""
             }
            },
            "type": "parcoords"
           }
          ],
          "pie": [
           {
            "automargin": true,
            "type": "pie"
           }
          ],
          "scatter": [
           {
            "marker": {
             "colorbar": {
              "outlinewidth": 0,
              "ticks": ""
             }
            },
            "type": "scatter"
           }
          ],
          "scatter3d": [
           {
            "line": {
             "colorbar": {
              "outlinewidth": 0,
              "ticks": ""
             }
            },
            "marker": {
             "colorbar": {
              "outlinewidth": 0,
              "ticks": ""
             }
            },
            "type": "scatter3d"
           }
          ],
          "scattercarpet": [
           {
            "marker": {
             "colorbar": {
              "outlinewidth": 0,
              "ticks": ""
             }
            },
            "type": "scattercarpet"
           }
          ],
          "scattergeo": [
           {
            "marker": {
             "colorbar": {
              "outlinewidth": 0,
              "ticks": ""
             }
            },
            "type": "scattergeo"
           }
          ],
          "scattergl": [
           {
            "marker": {
             "colorbar": {
              "outlinewidth": 0,
              "ticks": ""
             }
            },
            "type": "scattergl"
           }
          ],
          "scattermapbox": [
           {
            "marker": {
             "colorbar": {
              "outlinewidth": 0,
              "ticks": ""
             }
            },
            "type": "scattermapbox"
           }
          ],
          "scatterpolar": [
           {
            "marker": {
             "colorbar": {
              "outlinewidth": 0,
              "ticks": ""
             }
            },
            "type": "scatterpolar"
           }
          ],
          "scatterpolargl": [
           {
            "marker": {
             "colorbar": {
              "outlinewidth": 0,
              "ticks": ""
             }
            },
            "type": "scatterpolargl"
           }
          ],
          "scatterternary": [
           {
            "marker": {
             "colorbar": {
              "outlinewidth": 0,
              "ticks": ""
             }
            },
            "type": "scatterternary"
           }
          ],
          "surface": [
           {
            "colorbar": {
             "outlinewidth": 0,
             "ticks": ""
            },
            "colorscale": [
             [
              0,
              "#0d0887"
             ],
             [
              0.1111111111111111,
              "#46039f"
             ],
             [
              0.2222222222222222,
              "#7201a8"
             ],
             [
              0.3333333333333333,
              "#9c179e"
             ],
             [
              0.4444444444444444,
              "#bd3786"
             ],
             [
              0.5555555555555556,
              "#d8576b"
             ],
             [
              0.6666666666666666,
              "#ed7953"
             ],
             [
              0.7777777777777778,
              "#fb9f3a"
             ],
             [
              0.8888888888888888,
              "#fdca26"
             ],
             [
              1,
              "#f0f921"
             ]
            ],
            "type": "surface"
           }
          ],
          "table": [
           {
            "cells": {
             "fill": {
              "color": "#EBF0F8"
             },
             "line": {
              "color": "white"
             }
            },
            "header": {
             "fill": {
              "color": "#C8D4E3"
             },
             "line": {
              "color": "white"
             }
            },
            "type": "table"
           }
          ]
         },
         "layout": {
          "annotationdefaults": {
           "arrowcolor": "#2a3f5f",
           "arrowhead": 0,
           "arrowwidth": 1
          },
          "autotypenumbers": "strict",
          "coloraxis": {
           "colorbar": {
            "outlinewidth": 0,
            "ticks": ""
           }
          },
          "colorscale": {
           "diverging": [
            [
             0,
             "#8e0152"
            ],
            [
             0.1,
             "#c51b7d"
            ],
            [
             0.2,
             "#de77ae"
            ],
            [
             0.3,
             "#f1b6da"
            ],
            [
             0.4,
             "#fde0ef"
            ],
            [
             0.5,
             "#f7f7f7"
            ],
            [
             0.6,
             "#e6f5d0"
            ],
            [
             0.7,
             "#b8e186"
            ],
            [
             0.8,
             "#7fbc41"
            ],
            [
             0.9,
             "#4d9221"
            ],
            [
             1,
             "#276419"
            ]
           ],
           "sequential": [
            [
             0,
             "#0d0887"
            ],
            [
             0.1111111111111111,
             "#46039f"
            ],
            [
             0.2222222222222222,
             "#7201a8"
            ],
            [
             0.3333333333333333,
             "#9c179e"
            ],
            [
             0.4444444444444444,
             "#bd3786"
            ],
            [
             0.5555555555555556,
             "#d8576b"
            ],
            [
             0.6666666666666666,
             "#ed7953"
            ],
            [
             0.7777777777777778,
             "#fb9f3a"
            ],
            [
             0.8888888888888888,
             "#fdca26"
            ],
            [
             1,
             "#f0f921"
            ]
           ],
           "sequentialminus": [
            [
             0,
             "#0d0887"
            ],
            [
             0.1111111111111111,
             "#46039f"
            ],
            [
             0.2222222222222222,
             "#7201a8"
            ],
            [
             0.3333333333333333,
             "#9c179e"
            ],
            [
             0.4444444444444444,
             "#bd3786"
            ],
            [
             0.5555555555555556,
             "#d8576b"
            ],
            [
             0.6666666666666666,
             "#ed7953"
            ],
            [
             0.7777777777777778,
             "#fb9f3a"
            ],
            [
             0.8888888888888888,
             "#fdca26"
            ],
            [
             1,
             "#f0f921"
            ]
           ]
          },
          "colorway": [
           "#636efa",
           "#EF553B",
           "#00cc96",
           "#ab63fa",
           "#FFA15A",
           "#19d3f3",
           "#FF6692",
           "#B6E880",
           "#FF97FF",
           "#FECB52"
          ],
          "font": {
           "color": "#2a3f5f"
          },
          "geo": {
           "bgcolor": "white",
           "lakecolor": "white",
           "landcolor": "#E5ECF6",
           "showlakes": true,
           "showland": true,
           "subunitcolor": "white"
          },
          "hoverlabel": {
           "align": "left"
          },
          "hovermode": "closest",
          "mapbox": {
           "style": "light"
          },
          "paper_bgcolor": "white",
          "plot_bgcolor": "#E5ECF6",
          "polar": {
           "angularaxis": {
            "gridcolor": "white",
            "linecolor": "white",
            "ticks": ""
           },
           "bgcolor": "#E5ECF6",
           "radialaxis": {
            "gridcolor": "white",
            "linecolor": "white",
            "ticks": ""
           }
          },
          "scene": {
           "xaxis": {
            "backgroundcolor": "#E5ECF6",
            "gridcolor": "white",
            "gridwidth": 2,
            "linecolor": "white",
            "showbackground": true,
            "ticks": "",
            "zerolinecolor": "white"
           },
           "yaxis": {
            "backgroundcolor": "#E5ECF6",
            "gridcolor": "white",
            "gridwidth": 2,
            "linecolor": "white",
            "showbackground": true,
            "ticks": "",
            "zerolinecolor": "white"
           },
           "zaxis": {
            "backgroundcolor": "#E5ECF6",
            "gridcolor": "white",
            "gridwidth": 2,
            "linecolor": "white",
            "showbackground": true,
            "ticks": "",
            "zerolinecolor": "white"
           }
          },
          "shapedefaults": {
           "line": {
            "color": "#2a3f5f"
           }
          },
          "ternary": {
           "aaxis": {
            "gridcolor": "white",
            "linecolor": "white",
            "ticks": ""
           },
           "baxis": {
            "gridcolor": "white",
            "linecolor": "white",
            "ticks": ""
           },
           "bgcolor": "#E5ECF6",
           "caxis": {
            "gridcolor": "white",
            "linecolor": "white",
            "ticks": ""
           }
          },
          "title": {
           "x": 0.05
          },
          "xaxis": {
           "automargin": true,
           "gridcolor": "white",
           "linecolor": "white",
           "ticks": "",
           "title": {
            "standoff": 15
           },
           "zerolinecolor": "white",
           "zerolinewidth": 2
          },
          "yaxis": {
           "automargin": true,
           "gridcolor": "white",
           "linecolor": "white",
           "ticks": "",
           "title": {
            "standoff": 15
           },
           "zerolinecolor": "white",
           "zerolinewidth": 2
          }
         }
        }
       }
      },
      "text/html": [
       "<div>                            <div id=\"d751595a-cbee-4624-8e7e-e04e8a7840e8\" class=\"plotly-graph-div\" style=\"height:525px; width:100%;\"></div>            <script type=\"text/javascript\">                require([\"plotly\"], function(Plotly) {                    window.PLOTLYENV=window.PLOTLYENV || {};                                    if (document.getElementById(\"d751595a-cbee-4624-8e7e-e04e8a7840e8\")) {                    Plotly.newPlot(                        \"d751595a-cbee-4624-8e7e-e04e8a7840e8\",                        [{\"sizeref\": 0.15, \"type\": \"cone\", \"u\": [0.8774263512369231], \"v\": [0.4797113696328862], \"w\": [0], \"x\": [0.0020402224618183873], \"y\": [0.0011154416665683242], \"z\": [0]}, {\"sizeref\": 0.15, \"type\": \"cone\", \"u\": [-0.8750794419467722], \"v\": [-0.4784282544435849], \"w\": [-0.0], \"x\": [0.8750794419467722], \"y\": [0.4784282544435849], \"z\": [0.0]}, {\"marker\": {\"color\": \"orange\", \"size\": 8}, \"mode\": \"markers\", \"type\": \"scatter3d\", \"x\": [0], \"y\": [0], \"z\": [0]}],                        {\"template\": {\"data\": {\"bar\": [{\"error_x\": {\"color\": \"#2a3f5f\"}, \"error_y\": {\"color\": \"#2a3f5f\"}, \"marker\": {\"line\": {\"color\": \"#E5ECF6\", \"width\": 0.5}}, \"type\": \"bar\"}], \"barpolar\": [{\"marker\": {\"line\": {\"color\": \"#E5ECF6\", \"width\": 0.5}}, \"type\": \"barpolar\"}], \"carpet\": [{\"aaxis\": {\"endlinecolor\": \"#2a3f5f\", \"gridcolor\": \"white\", \"linecolor\": \"white\", \"minorgridcolor\": \"white\", \"startlinecolor\": \"#2a3f5f\"}, \"baxis\": {\"endlinecolor\": \"#2a3f5f\", \"gridcolor\": \"white\", \"linecolor\": \"white\", \"minorgridcolor\": \"white\", \"startlinecolor\": \"#2a3f5f\"}, \"type\": \"carpet\"}], \"choropleth\": [{\"colorbar\": {\"outlinewidth\": 0, \"ticks\": \"\"}, \"type\": \"choropleth\"}], \"contour\": [{\"colorbar\": {\"outlinewidth\": 0, \"ticks\": \"\"}, \"colorscale\": [[0.0, \"#0d0887\"], [0.1111111111111111, \"#46039f\"], [0.2222222222222222, \"#7201a8\"], [0.3333333333333333, \"#9c179e\"], [0.4444444444444444, \"#bd3786\"], [0.5555555555555556, \"#d8576b\"], [0.6666666666666666, \"#ed7953\"], [0.7777777777777778, \"#fb9f3a\"], [0.8888888888888888, \"#fdca26\"], [1.0, \"#f0f921\"]], \"type\": \"contour\"}], \"contourcarpet\": [{\"colorbar\": {\"outlinewidth\": 0, \"ticks\": \"\"}, \"type\": \"contourcarpet\"}], \"heatmap\": [{\"colorbar\": {\"outlinewidth\": 0, \"ticks\": \"\"}, \"colorscale\": [[0.0, \"#0d0887\"], [0.1111111111111111, \"#46039f\"], [0.2222222222222222, \"#7201a8\"], [0.3333333333333333, \"#9c179e\"], [0.4444444444444444, \"#bd3786\"], [0.5555555555555556, \"#d8576b\"], [0.6666666666666666, \"#ed7953\"], [0.7777777777777778, \"#fb9f3a\"], [0.8888888888888888, \"#fdca26\"], [1.0, \"#f0f921\"]], \"type\": \"heatmap\"}], \"heatmapgl\": [{\"colorbar\": {\"outlinewidth\": 0, \"ticks\": \"\"}, \"colorscale\": [[0.0, \"#0d0887\"], [0.1111111111111111, \"#46039f\"], [0.2222222222222222, \"#7201a8\"], [0.3333333333333333, \"#9c179e\"], [0.4444444444444444, \"#bd3786\"], [0.5555555555555556, \"#d8576b\"], [0.6666666666666666, \"#ed7953\"], [0.7777777777777778, \"#fb9f3a\"], [0.8888888888888888, \"#fdca26\"], [1.0, \"#f0f921\"]], \"type\": \"heatmapgl\"}], \"histogram\": [{\"marker\": {\"colorbar\": {\"outlinewidth\": 0, \"ticks\": \"\"}}, \"type\": \"histogram\"}], \"histogram2d\": [{\"colorbar\": {\"outlinewidth\": 0, \"ticks\": \"\"}, \"colorscale\": [[0.0, \"#0d0887\"], [0.1111111111111111, \"#46039f\"], [0.2222222222222222, \"#7201a8\"], [0.3333333333333333, \"#9c179e\"], [0.4444444444444444, \"#bd3786\"], [0.5555555555555556, \"#d8576b\"], [0.6666666666666666, \"#ed7953\"], [0.7777777777777778, \"#fb9f3a\"], [0.8888888888888888, \"#fdca26\"], [1.0, \"#f0f921\"]], \"type\": \"histogram2d\"}], \"histogram2dcontour\": [{\"colorbar\": {\"outlinewidth\": 0, \"ticks\": \"\"}, \"colorscale\": [[0.0, \"#0d0887\"], [0.1111111111111111, \"#46039f\"], [0.2222222222222222, \"#7201a8\"], [0.3333333333333333, \"#9c179e\"], [0.4444444444444444, \"#bd3786\"], [0.5555555555555556, \"#d8576b\"], [0.6666666666666666, \"#ed7953\"], [0.7777777777777778, \"#fb9f3a\"], [0.8888888888888888, \"#fdca26\"], [1.0, \"#f0f921\"]], \"type\": \"histogram2dcontour\"}], \"mesh3d\": [{\"colorbar\": {\"outlinewidth\": 0, \"ticks\": \"\"}, \"type\": \"mesh3d\"}], \"parcoords\": [{\"line\": {\"colorbar\": {\"outlinewidth\": 0, \"ticks\": \"\"}}, \"type\": \"parcoords\"}], \"pie\": [{\"automargin\": true, \"type\": \"pie\"}], \"scatter\": [{\"marker\": {\"colorbar\": {\"outlinewidth\": 0, \"ticks\": \"\"}}, \"type\": \"scatter\"}], \"scatter3d\": [{\"line\": {\"colorbar\": {\"outlinewidth\": 0, \"ticks\": \"\"}}, \"marker\": {\"colorbar\": {\"outlinewidth\": 0, \"ticks\": \"\"}}, \"type\": \"scatter3d\"}], \"scattercarpet\": [{\"marker\": {\"colorbar\": {\"outlinewidth\": 0, \"ticks\": \"\"}}, \"type\": \"scattercarpet\"}], \"scattergeo\": [{\"marker\": {\"colorbar\": {\"outlinewidth\": 0, \"ticks\": \"\"}}, \"type\": \"scattergeo\"}], \"scattergl\": [{\"marker\": {\"colorbar\": {\"outlinewidth\": 0, \"ticks\": \"\"}}, \"type\": \"scattergl\"}], \"scattermapbox\": [{\"marker\": {\"colorbar\": {\"outlinewidth\": 0, \"ticks\": \"\"}}, \"type\": \"scattermapbox\"}], \"scatterpolar\": [{\"marker\": {\"colorbar\": {\"outlinewidth\": 0, \"ticks\": \"\"}}, \"type\": \"scatterpolar\"}], \"scatterpolargl\": [{\"marker\": {\"colorbar\": {\"outlinewidth\": 0, \"ticks\": \"\"}}, \"type\": \"scatterpolargl\"}], \"scatterternary\": [{\"marker\": {\"colorbar\": {\"outlinewidth\": 0, \"ticks\": \"\"}}, \"type\": \"scatterternary\"}], \"surface\": [{\"colorbar\": {\"outlinewidth\": 0, \"ticks\": \"\"}, \"colorscale\": [[0.0, \"#0d0887\"], [0.1111111111111111, \"#46039f\"], [0.2222222222222222, \"#7201a8\"], [0.3333333333333333, \"#9c179e\"], [0.4444444444444444, \"#bd3786\"], [0.5555555555555556, \"#d8576b\"], [0.6666666666666666, \"#ed7953\"], [0.7777777777777778, \"#fb9f3a\"], [0.8888888888888888, \"#fdca26\"], [1.0, \"#f0f921\"]], \"type\": \"surface\"}], \"table\": [{\"cells\": {\"fill\": {\"color\": \"#EBF0F8\"}, \"line\": {\"color\": \"white\"}}, \"header\": {\"fill\": {\"color\": \"#C8D4E3\"}, \"line\": {\"color\": \"white\"}}, \"type\": \"table\"}]}, \"layout\": {\"annotationdefaults\": {\"arrowcolor\": \"#2a3f5f\", \"arrowhead\": 0, \"arrowwidth\": 1}, \"autotypenumbers\": \"strict\", \"coloraxis\": {\"colorbar\": {\"outlinewidth\": 0, \"ticks\": \"\"}}, \"colorscale\": {\"diverging\": [[0, \"#8e0152\"], [0.1, \"#c51b7d\"], [0.2, \"#de77ae\"], [0.3, \"#f1b6da\"], [0.4, \"#fde0ef\"], [0.5, \"#f7f7f7\"], [0.6, \"#e6f5d0\"], [0.7, \"#b8e186\"], [0.8, \"#7fbc41\"], [0.9, \"#4d9221\"], [1, \"#276419\"]], \"sequential\": [[0.0, \"#0d0887\"], [0.1111111111111111, \"#46039f\"], [0.2222222222222222, \"#7201a8\"], [0.3333333333333333, \"#9c179e\"], [0.4444444444444444, \"#bd3786\"], [0.5555555555555556, \"#d8576b\"], [0.6666666666666666, \"#ed7953\"], [0.7777777777777778, \"#fb9f3a\"], [0.8888888888888888, \"#fdca26\"], [1.0, \"#f0f921\"]], \"sequentialminus\": [[0.0, \"#0d0887\"], [0.1111111111111111, \"#46039f\"], [0.2222222222222222, \"#7201a8\"], [0.3333333333333333, \"#9c179e\"], [0.4444444444444444, \"#bd3786\"], [0.5555555555555556, \"#d8576b\"], [0.6666666666666666, \"#ed7953\"], [0.7777777777777778, \"#fb9f3a\"], [0.8888888888888888, \"#fdca26\"], [1.0, \"#f0f921\"]]}, \"colorway\": [\"#636efa\", \"#EF553B\", \"#00cc96\", \"#ab63fa\", \"#FFA15A\", \"#19d3f3\", \"#FF6692\", \"#B6E880\", \"#FF97FF\", \"#FECB52\"], \"font\": {\"color\": \"#2a3f5f\"}, \"geo\": {\"bgcolor\": \"white\", \"lakecolor\": \"white\", \"landcolor\": \"#E5ECF6\", \"showlakes\": true, \"showland\": true, \"subunitcolor\": \"white\"}, \"hoverlabel\": {\"align\": \"left\"}, \"hovermode\": \"closest\", \"mapbox\": {\"style\": \"light\"}, \"paper_bgcolor\": \"white\", \"plot_bgcolor\": \"#E5ECF6\", \"polar\": {\"angularaxis\": {\"gridcolor\": \"white\", \"linecolor\": \"white\", \"ticks\": \"\"}, \"bgcolor\": \"#E5ECF6\", \"radialaxis\": {\"gridcolor\": \"white\", \"linecolor\": \"white\", \"ticks\": \"\"}}, \"scene\": {\"xaxis\": {\"backgroundcolor\": \"#E5ECF6\", \"gridcolor\": \"white\", \"gridwidth\": 2, \"linecolor\": \"white\", \"showbackground\": true, \"ticks\": \"\", \"zerolinecolor\": \"white\"}, \"yaxis\": {\"backgroundcolor\": \"#E5ECF6\", \"gridcolor\": \"white\", \"gridwidth\": 2, \"linecolor\": \"white\", \"showbackground\": true, \"ticks\": \"\", \"zerolinecolor\": \"white\"}, \"zaxis\": {\"backgroundcolor\": \"#E5ECF6\", \"gridcolor\": \"white\", \"gridwidth\": 2, \"linecolor\": \"white\", \"showbackground\": true, \"ticks\": \"\", \"zerolinecolor\": \"white\"}}, \"shapedefaults\": {\"line\": {\"color\": \"#2a3f5f\"}}, \"ternary\": {\"aaxis\": {\"gridcolor\": \"white\", \"linecolor\": \"white\", \"ticks\": \"\"}, \"baxis\": {\"gridcolor\": \"white\", \"linecolor\": \"white\", \"ticks\": \"\"}, \"bgcolor\": \"#E5ECF6\", \"caxis\": {\"gridcolor\": \"white\", \"linecolor\": \"white\", \"ticks\": \"\"}}, \"title\": {\"x\": 0.05}, \"xaxis\": {\"automargin\": true, \"gridcolor\": \"white\", \"linecolor\": \"white\", \"ticks\": \"\", \"title\": {\"standoff\": 15}, \"zerolinecolor\": \"white\", \"zerolinewidth\": 2}, \"yaxis\": {\"automargin\": true, \"gridcolor\": \"white\", \"linecolor\": \"white\", \"ticks\": \"\", \"title\": {\"standoff\": 15}, \"zerolinecolor\": \"white\", \"zerolinewidth\": 2}}}},                        {\"responsive\": true}                    ).then(function(){\n",
       "                            \n",
       "var gd = document.getElementById('d751595a-cbee-4624-8e7e-e04e8a7840e8');\n",
       "var x = new MutationObserver(function (mutations, observer) {{\n",
       "        var display = window.getComputedStyle(gd).display;\n",
       "        if (!display || display === 'none') {{\n",
       "            console.log([gd, 'removed!']);\n",
       "            Plotly.purge(gd);\n",
       "            observer.disconnect();\n",
       "        }}\n",
       "}});\n",
       "\n",
       "// Listen for the removal of the full notebook cells\n",
       "var notebookContainer = gd.closest('#notebook-container');\n",
       "if (notebookContainer) {{\n",
       "    x.observe(notebookContainer, {childList: true});\n",
       "}}\n",
       "\n",
       "// Listen for the clearing of the current output cell\n",
       "var outputEl = gd.closest('.output');\n",
       "if (outputEl) {{\n",
       "    x.observe(outputEl, {childList: true});\n",
       "}}\n",
       "\n",
       "                        })                };                });            </script>        </div>"
      ]
     },
     "metadata": {},
     "output_type": "display_data"
    }
   ],
   "source": [
    "# Add the condition of the plane\n",
    "fig1 = go.Figure(data=go.Cone(\n",
    "    x = [planeConCar[0]],\n",
    "    y = [planeConCar[1]],\n",
    "    z = [planeConCar[2]],\n",
    "    u = [planeConCar[3]],\n",
    "    v = [planeConCar[4]],\n",
    "    w = [planeConCar[5]],\n",
    "sizeref = 0.15\n",
    "))\n",
    "\n",
    "\n",
    "# Add the location of the plane\n",
    "fig1.add_trace(\n",
    "    go.Cone(\n",
    "    x = [planePos[0]],\n",
    "    y = [planePos[1]],\n",
    "    z = [planePos[2]],\n",
    "    u = [planeVel[0]],\n",
    "    v = [planeVel[1]],\n",
    "    w = [planeVel[2]],\n",
    "sizeref = 0.15\n",
    "    ))\n",
    "\n",
    "\n",
    "# Add the location of the sun\n",
    "fig1.add_trace(\n",
    "    go.Scatter3d(\n",
    "        x=[0],\n",
    "        y=[0],\n",
    "        z=[0],\n",
    "        mode = 'markers',\n",
    "        marker = dict(\n",
    "            size = 8,\n",
    "            color = 'orange')\n",
    "                )\n",
    "            )\n",
    "\n",
    "\n",
    "fig1.show()"
   ]
  },
  {
   "cell_type": "markdown",
   "metadata": {
    "hidden": true
   },
   "source": [
    "### Determine Plane Hits"
   ]
  },
  {
   "cell_type": "code",
   "execution_count": 158,
   "metadata": {
    "ExecuteTime": {
     "end_time": "2022-02-15T23:00:42.061483Z",
     "start_time": "2022-02-15T23:00:40.104475Z"
    },
    "hidden": true
   },
   "outputs": [
    {
     "name": "stdout",
     "output_type": "stream",
     "text": [
      "Complete\n"
     ]
    }
   ],
   "source": [
    "hitVector = []\n",
    "for row in np.arange(0,(dataDFCar2.shape[0])):\n",
    "    ICCar = np.asarray(dataDFCar2.iloc[row]['x':'vz']) \n",
    "    \n",
    "    hitLocation = trajectoryHit(ICCar,plane,q,E,dt,cartesian = True)\n",
    "    planeHitCheck(plane,hitLocation)\n",
    "    hitVector.append(hitLocation) \n",
    "\n",
    "    \n",
    "print ('Complete')"
   ]
  },
  {
   "cell_type": "markdown",
   "metadata": {
    "ExecuteTime": {
     "end_time": "2022-02-03T18:14:13.837964Z",
     "start_time": "2022-02-03T18:14:13.826934Z"
    },
    "hidden": true
   },
   "source": [
    "### Plot hits on detector plane and plane normal"
   ]
  },
  {
   "cell_type": "markdown",
   "metadata": {
    "hidden": true
   },
   "source": [
    "The hits in the detector plane don't look to be in the actual plane given the normal vector, but they pass the \"in-plane\" check."
   ]
  },
  {
   "cell_type": "code",
   "execution_count": 159,
   "metadata": {
    "ExecuteTime": {
     "end_time": "2022-02-15T23:00:46.272148Z",
     "start_time": "2022-02-15T23:00:46.192215Z"
    },
    "hidden": true
   },
   "outputs": [
    {
     "data": {
      "application/vnd.plotly.v1+json": {
       "config": {
        "plotlyServerURL": "https://plot.ly"
       },
       "data": [
        {
         "marker": {
          "color": [
           0,
           0,
           0,
           0,
           0,
           0,
           0,
           0,
           0,
           0
          ],
          "colorscale": [
           [
            0,
            "#440154"
           ],
           [
            0.1111111111111111,
            "#482878"
           ],
           [
            0.2222222222222222,
            "#3e4989"
           ],
           [
            0.3333333333333333,
            "#31688e"
           ],
           [
            0.4444444444444444,
            "#26828e"
           ],
           [
            0.5555555555555556,
            "#1f9e89"
           ],
           [
            0.6666666666666666,
            "#35b779"
           ],
           [
            0.7777777777777778,
            "#6ece58"
           ],
           [
            0.8888888888888888,
            "#b5de2b"
           ],
           [
            1,
            "#fde725"
           ]
          ],
          "size": 2
         },
         "mode": "markers",
         "type": "scatter3d",
         "x": [
          0.8750794419467722,
          0.8751848189701307,
          0.8760723833098893,
          0.8758698193497919,
          0.8750200867185781,
          0.875433088019404,
          0.8760466621467666,
          0.8753977108596221,
          0.8760183498714909,
          0.8751049734410259
         ],
         "y": [
          0.4784282544435849,
          0.47823551234288747,
          0.4766120937844846,
          0.47698259773259877,
          0.4785368193945097,
          0.4777814105228696,
          0.47665913962858497,
          0.47784611787439407,
          0.4767109248018444,
          0.4783815555173906
         ],
         "z": [
          0,
          0,
          0,
          0,
          0,
          0,
          0,
          0,
          0,
          0
         ]
        },
        {
         "sizeref": 5e-05,
         "type": "cone",
         "u": [
          -0.8750794419467722
         ],
         "v": [
          -0.4784282544435849
         ],
         "w": [
          0
         ],
         "x": [
          0.8750794419467722
         ],
         "y": [
          0.4784282544435849
         ],
         "z": [
          0
         ]
        }
       ],
       "layout": {
        "template": {
         "data": {
          "bar": [
           {
            "error_x": {
             "color": "#2a3f5f"
            },
            "error_y": {
             "color": "#2a3f5f"
            },
            "marker": {
             "line": {
              "color": "#E5ECF6",
              "width": 0.5
             }
            },
            "type": "bar"
           }
          ],
          "barpolar": [
           {
            "marker": {
             "line": {
              "color": "#E5ECF6",
              "width": 0.5
             }
            },
            "type": "barpolar"
           }
          ],
          "carpet": [
           {
            "aaxis": {
             "endlinecolor": "#2a3f5f",
             "gridcolor": "white",
             "linecolor": "white",
             "minorgridcolor": "white",
             "startlinecolor": "#2a3f5f"
            },
            "baxis": {
             "endlinecolor": "#2a3f5f",
             "gridcolor": "white",
             "linecolor": "white",
             "minorgridcolor": "white",
             "startlinecolor": "#2a3f5f"
            },
            "type": "carpet"
           }
          ],
          "choropleth": [
           {
            "colorbar": {
             "outlinewidth": 0,
             "ticks": ""
            },
            "type": "choropleth"
           }
          ],
          "contour": [
           {
            "colorbar": {
             "outlinewidth": 0,
             "ticks": ""
            },
            "colorscale": [
             [
              0,
              "#0d0887"
             ],
             [
              0.1111111111111111,
              "#46039f"
             ],
             [
              0.2222222222222222,
              "#7201a8"
             ],
             [
              0.3333333333333333,
              "#9c179e"
             ],
             [
              0.4444444444444444,
              "#bd3786"
             ],
             [
              0.5555555555555556,
              "#d8576b"
             ],
             [
              0.6666666666666666,
              "#ed7953"
             ],
             [
              0.7777777777777778,
              "#fb9f3a"
             ],
             [
              0.8888888888888888,
              "#fdca26"
             ],
             [
              1,
              "#f0f921"
             ]
            ],
            "type": "contour"
           }
          ],
          "contourcarpet": [
           {
            "colorbar": {
             "outlinewidth": 0,
             "ticks": ""
            },
            "type": "contourcarpet"
           }
          ],
          "heatmap": [
           {
            "colorbar": {
             "outlinewidth": 0,
             "ticks": ""
            },
            "colorscale": [
             [
              0,
              "#0d0887"
             ],
             [
              0.1111111111111111,
              "#46039f"
             ],
             [
              0.2222222222222222,
              "#7201a8"
             ],
             [
              0.3333333333333333,
              "#9c179e"
             ],
             [
              0.4444444444444444,
              "#bd3786"
             ],
             [
              0.5555555555555556,
              "#d8576b"
             ],
             [
              0.6666666666666666,
              "#ed7953"
             ],
             [
              0.7777777777777778,
              "#fb9f3a"
             ],
             [
              0.8888888888888888,
              "#fdca26"
             ],
             [
              1,
              "#f0f921"
             ]
            ],
            "type": "heatmap"
           }
          ],
          "heatmapgl": [
           {
            "colorbar": {
             "outlinewidth": 0,
             "ticks": ""
            },
            "colorscale": [
             [
              0,
              "#0d0887"
             ],
             [
              0.1111111111111111,
              "#46039f"
             ],
             [
              0.2222222222222222,
              "#7201a8"
             ],
             [
              0.3333333333333333,
              "#9c179e"
             ],
             [
              0.4444444444444444,
              "#bd3786"
             ],
             [
              0.5555555555555556,
              "#d8576b"
             ],
             [
              0.6666666666666666,
              "#ed7953"
             ],
             [
              0.7777777777777778,
              "#fb9f3a"
             ],
             [
              0.8888888888888888,
              "#fdca26"
             ],
             [
              1,
              "#f0f921"
             ]
            ],
            "type": "heatmapgl"
           }
          ],
          "histogram": [
           {
            "marker": {
             "colorbar": {
              "outlinewidth": 0,
              "ticks": ""
             }
            },
            "type": "histogram"
           }
          ],
          "histogram2d": [
           {
            "colorbar": {
             "outlinewidth": 0,
             "ticks": ""
            },
            "colorscale": [
             [
              0,
              "#0d0887"
             ],
             [
              0.1111111111111111,
              "#46039f"
             ],
             [
              0.2222222222222222,
              "#7201a8"
             ],
             [
              0.3333333333333333,
              "#9c179e"
             ],
             [
              0.4444444444444444,
              "#bd3786"
             ],
             [
              0.5555555555555556,
              "#d8576b"
             ],
             [
              0.6666666666666666,
              "#ed7953"
             ],
             [
              0.7777777777777778,
              "#fb9f3a"
             ],
             [
              0.8888888888888888,
              "#fdca26"
             ],
             [
              1,
              "#f0f921"
             ]
            ],
            "type": "histogram2d"
           }
          ],
          "histogram2dcontour": [
           {
            "colorbar": {
             "outlinewidth": 0,
             "ticks": ""
            },
            "colorscale": [
             [
              0,
              "#0d0887"
             ],
             [
              0.1111111111111111,
              "#46039f"
             ],
             [
              0.2222222222222222,
              "#7201a8"
             ],
             [
              0.3333333333333333,
              "#9c179e"
             ],
             [
              0.4444444444444444,
              "#bd3786"
             ],
             [
              0.5555555555555556,
              "#d8576b"
             ],
             [
              0.6666666666666666,
              "#ed7953"
             ],
             [
              0.7777777777777778,
              "#fb9f3a"
             ],
             [
              0.8888888888888888,
              "#fdca26"
             ],
             [
              1,
              "#f0f921"
             ]
            ],
            "type": "histogram2dcontour"
           }
          ],
          "mesh3d": [
           {
            "colorbar": {
             "outlinewidth": 0,
             "ticks": ""
            },
            "type": "mesh3d"
           }
          ],
          "parcoords": [
           {
            "line": {
             "colorbar": {
              "outlinewidth": 0,
              "ticks": ""
             }
            },
            "type": "parcoords"
           }
          ],
          "pie": [
           {
            "automargin": true,
            "type": "pie"
           }
          ],
          "scatter": [
           {
            "marker": {
             "colorbar": {
              "outlinewidth": 0,
              "ticks": ""
             }
            },
            "type": "scatter"
           }
          ],
          "scatter3d": [
           {
            "line": {
             "colorbar": {
              "outlinewidth": 0,
              "ticks": ""
             }
            },
            "marker": {
             "colorbar": {
              "outlinewidth": 0,
              "ticks": ""
             }
            },
            "type": "scatter3d"
           }
          ],
          "scattercarpet": [
           {
            "marker": {
             "colorbar": {
              "outlinewidth": 0,
              "ticks": ""
             }
            },
            "type": "scattercarpet"
           }
          ],
          "scattergeo": [
           {
            "marker": {
             "colorbar": {
              "outlinewidth": 0,
              "ticks": ""
             }
            },
            "type": "scattergeo"
           }
          ],
          "scattergl": [
           {
            "marker": {
             "colorbar": {
              "outlinewidth": 0,
              "ticks": ""
             }
            },
            "type": "scattergl"
           }
          ],
          "scattermapbox": [
           {
            "marker": {
             "colorbar": {
              "outlinewidth": 0,
              "ticks": ""
             }
            },
            "type": "scattermapbox"
           }
          ],
          "scatterpolar": [
           {
            "marker": {
             "colorbar": {
              "outlinewidth": 0,
              "ticks": ""
             }
            },
            "type": "scatterpolar"
           }
          ],
          "scatterpolargl": [
           {
            "marker": {
             "colorbar": {
              "outlinewidth": 0,
              "ticks": ""
             }
            },
            "type": "scatterpolargl"
           }
          ],
          "scatterternary": [
           {
            "marker": {
             "colorbar": {
              "outlinewidth": 0,
              "ticks": ""
             }
            },
            "type": "scatterternary"
           }
          ],
          "surface": [
           {
            "colorbar": {
             "outlinewidth": 0,
             "ticks": ""
            },
            "colorscale": [
             [
              0,
              "#0d0887"
             ],
             [
              0.1111111111111111,
              "#46039f"
             ],
             [
              0.2222222222222222,
              "#7201a8"
             ],
             [
              0.3333333333333333,
              "#9c179e"
             ],
             [
              0.4444444444444444,
              "#bd3786"
             ],
             [
              0.5555555555555556,
              "#d8576b"
             ],
             [
              0.6666666666666666,
              "#ed7953"
             ],
             [
              0.7777777777777778,
              "#fb9f3a"
             ],
             [
              0.8888888888888888,
              "#fdca26"
             ],
             [
              1,
              "#f0f921"
             ]
            ],
            "type": "surface"
           }
          ],
          "table": [
           {
            "cells": {
             "fill": {
              "color": "#EBF0F8"
             },
             "line": {
              "color": "white"
             }
            },
            "header": {
             "fill": {
              "color": "#C8D4E3"
             },
             "line": {
              "color": "white"
             }
            },
            "type": "table"
           }
          ]
         },
         "layout": {
          "annotationdefaults": {
           "arrowcolor": "#2a3f5f",
           "arrowhead": 0,
           "arrowwidth": 1
          },
          "autotypenumbers": "strict",
          "coloraxis": {
           "colorbar": {
            "outlinewidth": 0,
            "ticks": ""
           }
          },
          "colorscale": {
           "diverging": [
            [
             0,
             "#8e0152"
            ],
            [
             0.1,
             "#c51b7d"
            ],
            [
             0.2,
             "#de77ae"
            ],
            [
             0.3,
             "#f1b6da"
            ],
            [
             0.4,
             "#fde0ef"
            ],
            [
             0.5,
             "#f7f7f7"
            ],
            [
             0.6,
             "#e6f5d0"
            ],
            [
             0.7,
             "#b8e186"
            ],
            [
             0.8,
             "#7fbc41"
            ],
            [
             0.9,
             "#4d9221"
            ],
            [
             1,
             "#276419"
            ]
           ],
           "sequential": [
            [
             0,
             "#0d0887"
            ],
            [
             0.1111111111111111,
             "#46039f"
            ],
            [
             0.2222222222222222,
             "#7201a8"
            ],
            [
             0.3333333333333333,
             "#9c179e"
            ],
            [
             0.4444444444444444,
             "#bd3786"
            ],
            [
             0.5555555555555556,
             "#d8576b"
            ],
            [
             0.6666666666666666,
             "#ed7953"
            ],
            [
             0.7777777777777778,
             "#fb9f3a"
            ],
            [
             0.8888888888888888,
             "#fdca26"
            ],
            [
             1,
             "#f0f921"
            ]
           ],
           "sequentialminus": [
            [
             0,
             "#0d0887"
            ],
            [
             0.1111111111111111,
             "#46039f"
            ],
            [
             0.2222222222222222,
             "#7201a8"
            ],
            [
             0.3333333333333333,
             "#9c179e"
            ],
            [
             0.4444444444444444,
             "#bd3786"
            ],
            [
             0.5555555555555556,
             "#d8576b"
            ],
            [
             0.6666666666666666,
             "#ed7953"
            ],
            [
             0.7777777777777778,
             "#fb9f3a"
            ],
            [
             0.8888888888888888,
             "#fdca26"
            ],
            [
             1,
             "#f0f921"
            ]
           ]
          },
          "colorway": [
           "#636efa",
           "#EF553B",
           "#00cc96",
           "#ab63fa",
           "#FFA15A",
           "#19d3f3",
           "#FF6692",
           "#B6E880",
           "#FF97FF",
           "#FECB52"
          ],
          "font": {
           "color": "#2a3f5f"
          },
          "geo": {
           "bgcolor": "white",
           "lakecolor": "white",
           "landcolor": "#E5ECF6",
           "showlakes": true,
           "showland": true,
           "subunitcolor": "white"
          },
          "hoverlabel": {
           "align": "left"
          },
          "hovermode": "closest",
          "mapbox": {
           "style": "light"
          },
          "paper_bgcolor": "white",
          "plot_bgcolor": "#E5ECF6",
          "polar": {
           "angularaxis": {
            "gridcolor": "white",
            "linecolor": "white",
            "ticks": ""
           },
           "bgcolor": "#E5ECF6",
           "radialaxis": {
            "gridcolor": "white",
            "linecolor": "white",
            "ticks": ""
           }
          },
          "scene": {
           "xaxis": {
            "backgroundcolor": "#E5ECF6",
            "gridcolor": "white",
            "gridwidth": 2,
            "linecolor": "white",
            "showbackground": true,
            "ticks": "",
            "zerolinecolor": "white"
           },
           "yaxis": {
            "backgroundcolor": "#E5ECF6",
            "gridcolor": "white",
            "gridwidth": 2,
            "linecolor": "white",
            "showbackground": true,
            "ticks": "",
            "zerolinecolor": "white"
           },
           "zaxis": {
            "backgroundcolor": "#E5ECF6",
            "gridcolor": "white",
            "gridwidth": 2,
            "linecolor": "white",
            "showbackground": true,
            "ticks": "",
            "zerolinecolor": "white"
           }
          },
          "shapedefaults": {
           "line": {
            "color": "#2a3f5f"
           }
          },
          "ternary": {
           "aaxis": {
            "gridcolor": "white",
            "linecolor": "white",
            "ticks": ""
           },
           "baxis": {
            "gridcolor": "white",
            "linecolor": "white",
            "ticks": ""
           },
           "bgcolor": "#E5ECF6",
           "caxis": {
            "gridcolor": "white",
            "linecolor": "white",
            "ticks": ""
           }
          },
          "title": {
           "x": 0.05
          },
          "xaxis": {
           "automargin": true,
           "gridcolor": "white",
           "linecolor": "white",
           "ticks": "",
           "title": {
            "standoff": 15
           },
           "zerolinecolor": "white",
           "zerolinewidth": 2
          },
          "yaxis": {
           "automargin": true,
           "gridcolor": "white",
           "linecolor": "white",
           "ticks": "",
           "title": {
            "standoff": 15
           },
           "zerolinecolor": "white",
           "zerolinewidth": 2
          }
         }
        }
       }
      },
      "text/html": [
       "<div>                            <div id=\"3cdba059-20f5-4185-929a-54b2f835380a\" class=\"plotly-graph-div\" style=\"height:525px; width:100%;\"></div>            <script type=\"text/javascript\">                require([\"plotly\"], function(Plotly) {                    window.PLOTLYENV=window.PLOTLYENV || {};                                    if (document.getElementById(\"3cdba059-20f5-4185-929a-54b2f835380a\")) {                    Plotly.newPlot(                        \"3cdba059-20f5-4185-929a-54b2f835380a\",                        [{\"marker\": {\"color\": [0.0, 0.0, 0.0, 0.0, 0.0, 0.0, 0.0, 0.0, 0.0, 0.0], \"colorscale\": [[0.0, \"#440154\"], [0.1111111111111111, \"#482878\"], [0.2222222222222222, \"#3e4989\"], [0.3333333333333333, \"#31688e\"], [0.4444444444444444, \"#26828e\"], [0.5555555555555556, \"#1f9e89\"], [0.6666666666666666, \"#35b779\"], [0.7777777777777778, \"#6ece58\"], [0.8888888888888888, \"#b5de2b\"], [1.0, \"#fde725\"]], \"size\": 2}, \"mode\": \"markers\", \"type\": \"scatter3d\", \"x\": [0.8750794419467722, 0.8751848189701307, 0.8760723833098893, 0.8758698193497919, 0.8750200867185781, 0.875433088019404, 0.8760466621467666, 0.8753977108596221, 0.8760183498714909, 0.8751049734410259], \"y\": [0.4784282544435849, 0.47823551234288747, 0.4766120937844846, 0.47698259773259877, 0.4785368193945097, 0.4777814105228696, 0.47665913962858497, 0.47784611787439407, 0.4767109248018444, 0.4783815555173906], \"z\": [0.0, 0.0, 0.0, 0.0, 0.0, 0.0, 0.0, 0.0, 0.0, 0.0]}, {\"sizeref\": 5e-05, \"type\": \"cone\", \"u\": [-0.8750794419467722], \"v\": [-0.4784282544435849], \"w\": [-0.0], \"x\": [0.8750794419467722], \"y\": [0.4784282544435849], \"z\": [0.0]}],                        {\"template\": {\"data\": {\"bar\": [{\"error_x\": {\"color\": \"#2a3f5f\"}, \"error_y\": {\"color\": \"#2a3f5f\"}, \"marker\": {\"line\": {\"color\": \"#E5ECF6\", \"width\": 0.5}}, \"type\": \"bar\"}], \"barpolar\": [{\"marker\": {\"line\": {\"color\": \"#E5ECF6\", \"width\": 0.5}}, \"type\": \"barpolar\"}], \"carpet\": [{\"aaxis\": {\"endlinecolor\": \"#2a3f5f\", \"gridcolor\": \"white\", \"linecolor\": \"white\", \"minorgridcolor\": \"white\", \"startlinecolor\": \"#2a3f5f\"}, \"baxis\": {\"endlinecolor\": \"#2a3f5f\", \"gridcolor\": \"white\", \"linecolor\": \"white\", \"minorgridcolor\": \"white\", \"startlinecolor\": \"#2a3f5f\"}, \"type\": \"carpet\"}], \"choropleth\": [{\"colorbar\": {\"outlinewidth\": 0, \"ticks\": \"\"}, \"type\": \"choropleth\"}], \"contour\": [{\"colorbar\": {\"outlinewidth\": 0, \"ticks\": \"\"}, \"colorscale\": [[0.0, \"#0d0887\"], [0.1111111111111111, \"#46039f\"], [0.2222222222222222, \"#7201a8\"], [0.3333333333333333, \"#9c179e\"], [0.4444444444444444, \"#bd3786\"], [0.5555555555555556, \"#d8576b\"], [0.6666666666666666, \"#ed7953\"], [0.7777777777777778, \"#fb9f3a\"], [0.8888888888888888, \"#fdca26\"], [1.0, \"#f0f921\"]], \"type\": \"contour\"}], \"contourcarpet\": [{\"colorbar\": {\"outlinewidth\": 0, \"ticks\": \"\"}, \"type\": \"contourcarpet\"}], \"heatmap\": [{\"colorbar\": {\"outlinewidth\": 0, \"ticks\": \"\"}, \"colorscale\": [[0.0, \"#0d0887\"], [0.1111111111111111, \"#46039f\"], [0.2222222222222222, \"#7201a8\"], [0.3333333333333333, \"#9c179e\"], [0.4444444444444444, \"#bd3786\"], [0.5555555555555556, \"#d8576b\"], [0.6666666666666666, \"#ed7953\"], [0.7777777777777778, \"#fb9f3a\"], [0.8888888888888888, \"#fdca26\"], [1.0, \"#f0f921\"]], \"type\": \"heatmap\"}], \"heatmapgl\": [{\"colorbar\": {\"outlinewidth\": 0, \"ticks\": \"\"}, \"colorscale\": [[0.0, \"#0d0887\"], [0.1111111111111111, \"#46039f\"], [0.2222222222222222, \"#7201a8\"], [0.3333333333333333, \"#9c179e\"], [0.4444444444444444, \"#bd3786\"], [0.5555555555555556, \"#d8576b\"], [0.6666666666666666, \"#ed7953\"], [0.7777777777777778, \"#fb9f3a\"], [0.8888888888888888, \"#fdca26\"], [1.0, \"#f0f921\"]], \"type\": \"heatmapgl\"}], \"histogram\": [{\"marker\": {\"colorbar\": {\"outlinewidth\": 0, \"ticks\": \"\"}}, \"type\": \"histogram\"}], \"histogram2d\": [{\"colorbar\": {\"outlinewidth\": 0, \"ticks\": \"\"}, \"colorscale\": [[0.0, \"#0d0887\"], [0.1111111111111111, \"#46039f\"], [0.2222222222222222, \"#7201a8\"], [0.3333333333333333, \"#9c179e\"], [0.4444444444444444, \"#bd3786\"], [0.5555555555555556, \"#d8576b\"], [0.6666666666666666, \"#ed7953\"], [0.7777777777777778, \"#fb9f3a\"], [0.8888888888888888, \"#fdca26\"], [1.0, \"#f0f921\"]], \"type\": \"histogram2d\"}], \"histogram2dcontour\": [{\"colorbar\": {\"outlinewidth\": 0, \"ticks\": \"\"}, \"colorscale\": [[0.0, \"#0d0887\"], [0.1111111111111111, \"#46039f\"], [0.2222222222222222, \"#7201a8\"], [0.3333333333333333, \"#9c179e\"], [0.4444444444444444, \"#bd3786\"], [0.5555555555555556, \"#d8576b\"], [0.6666666666666666, \"#ed7953\"], [0.7777777777777778, \"#fb9f3a\"], [0.8888888888888888, \"#fdca26\"], [1.0, \"#f0f921\"]], \"type\": \"histogram2dcontour\"}], \"mesh3d\": [{\"colorbar\": {\"outlinewidth\": 0, \"ticks\": \"\"}, \"type\": \"mesh3d\"}], \"parcoords\": [{\"line\": {\"colorbar\": {\"outlinewidth\": 0, \"ticks\": \"\"}}, \"type\": \"parcoords\"}], \"pie\": [{\"automargin\": true, \"type\": \"pie\"}], \"scatter\": [{\"marker\": {\"colorbar\": {\"outlinewidth\": 0, \"ticks\": \"\"}}, \"type\": \"scatter\"}], \"scatter3d\": [{\"line\": {\"colorbar\": {\"outlinewidth\": 0, \"ticks\": \"\"}}, \"marker\": {\"colorbar\": {\"outlinewidth\": 0, \"ticks\": \"\"}}, \"type\": \"scatter3d\"}], \"scattercarpet\": [{\"marker\": {\"colorbar\": {\"outlinewidth\": 0, \"ticks\": \"\"}}, \"type\": \"scattercarpet\"}], \"scattergeo\": [{\"marker\": {\"colorbar\": {\"outlinewidth\": 0, \"ticks\": \"\"}}, \"type\": \"scattergeo\"}], \"scattergl\": [{\"marker\": {\"colorbar\": {\"outlinewidth\": 0, \"ticks\": \"\"}}, \"type\": \"scattergl\"}], \"scattermapbox\": [{\"marker\": {\"colorbar\": {\"outlinewidth\": 0, \"ticks\": \"\"}}, \"type\": \"scattermapbox\"}], \"scatterpolar\": [{\"marker\": {\"colorbar\": {\"outlinewidth\": 0, \"ticks\": \"\"}}, \"type\": \"scatterpolar\"}], \"scatterpolargl\": [{\"marker\": {\"colorbar\": {\"outlinewidth\": 0, \"ticks\": \"\"}}, \"type\": \"scatterpolargl\"}], \"scatterternary\": [{\"marker\": {\"colorbar\": {\"outlinewidth\": 0, \"ticks\": \"\"}}, \"type\": \"scatterternary\"}], \"surface\": [{\"colorbar\": {\"outlinewidth\": 0, \"ticks\": \"\"}, \"colorscale\": [[0.0, \"#0d0887\"], [0.1111111111111111, \"#46039f\"], [0.2222222222222222, \"#7201a8\"], [0.3333333333333333, \"#9c179e\"], [0.4444444444444444, \"#bd3786\"], [0.5555555555555556, \"#d8576b\"], [0.6666666666666666, \"#ed7953\"], [0.7777777777777778, \"#fb9f3a\"], [0.8888888888888888, \"#fdca26\"], [1.0, \"#f0f921\"]], \"type\": \"surface\"}], \"table\": [{\"cells\": {\"fill\": {\"color\": \"#EBF0F8\"}, \"line\": {\"color\": \"white\"}}, \"header\": {\"fill\": {\"color\": \"#C8D4E3\"}, \"line\": {\"color\": \"white\"}}, \"type\": \"table\"}]}, \"layout\": {\"annotationdefaults\": {\"arrowcolor\": \"#2a3f5f\", \"arrowhead\": 0, \"arrowwidth\": 1}, \"autotypenumbers\": \"strict\", \"coloraxis\": {\"colorbar\": {\"outlinewidth\": 0, \"ticks\": \"\"}}, \"colorscale\": {\"diverging\": [[0, \"#8e0152\"], [0.1, \"#c51b7d\"], [0.2, \"#de77ae\"], [0.3, \"#f1b6da\"], [0.4, \"#fde0ef\"], [0.5, \"#f7f7f7\"], [0.6, \"#e6f5d0\"], [0.7, \"#b8e186\"], [0.8, \"#7fbc41\"], [0.9, \"#4d9221\"], [1, \"#276419\"]], \"sequential\": [[0.0, \"#0d0887\"], [0.1111111111111111, \"#46039f\"], [0.2222222222222222, \"#7201a8\"], [0.3333333333333333, \"#9c179e\"], [0.4444444444444444, \"#bd3786\"], [0.5555555555555556, \"#d8576b\"], [0.6666666666666666, \"#ed7953\"], [0.7777777777777778, \"#fb9f3a\"], [0.8888888888888888, \"#fdca26\"], [1.0, \"#f0f921\"]], \"sequentialminus\": [[0.0, \"#0d0887\"], [0.1111111111111111, \"#46039f\"], [0.2222222222222222, \"#7201a8\"], [0.3333333333333333, \"#9c179e\"], [0.4444444444444444, \"#bd3786\"], [0.5555555555555556, \"#d8576b\"], [0.6666666666666666, \"#ed7953\"], [0.7777777777777778, \"#fb9f3a\"], [0.8888888888888888, \"#fdca26\"], [1.0, \"#f0f921\"]]}, \"colorway\": [\"#636efa\", \"#EF553B\", \"#00cc96\", \"#ab63fa\", \"#FFA15A\", \"#19d3f3\", \"#FF6692\", \"#B6E880\", \"#FF97FF\", \"#FECB52\"], \"font\": {\"color\": \"#2a3f5f\"}, \"geo\": {\"bgcolor\": \"white\", \"lakecolor\": \"white\", \"landcolor\": \"#E5ECF6\", \"showlakes\": true, \"showland\": true, \"subunitcolor\": \"white\"}, \"hoverlabel\": {\"align\": \"left\"}, \"hovermode\": \"closest\", \"mapbox\": {\"style\": \"light\"}, \"paper_bgcolor\": \"white\", \"plot_bgcolor\": \"#E5ECF6\", \"polar\": {\"angularaxis\": {\"gridcolor\": \"white\", \"linecolor\": \"white\", \"ticks\": \"\"}, \"bgcolor\": \"#E5ECF6\", \"radialaxis\": {\"gridcolor\": \"white\", \"linecolor\": \"white\", \"ticks\": \"\"}}, \"scene\": {\"xaxis\": {\"backgroundcolor\": \"#E5ECF6\", \"gridcolor\": \"white\", \"gridwidth\": 2, \"linecolor\": \"white\", \"showbackground\": true, \"ticks\": \"\", \"zerolinecolor\": \"white\"}, \"yaxis\": {\"backgroundcolor\": \"#E5ECF6\", \"gridcolor\": \"white\", \"gridwidth\": 2, \"linecolor\": \"white\", \"showbackground\": true, \"ticks\": \"\", \"zerolinecolor\": \"white\"}, \"zaxis\": {\"backgroundcolor\": \"#E5ECF6\", \"gridcolor\": \"white\", \"gridwidth\": 2, \"linecolor\": \"white\", \"showbackground\": true, \"ticks\": \"\", \"zerolinecolor\": \"white\"}}, \"shapedefaults\": {\"line\": {\"color\": \"#2a3f5f\"}}, \"ternary\": {\"aaxis\": {\"gridcolor\": \"white\", \"linecolor\": \"white\", \"ticks\": \"\"}, \"baxis\": {\"gridcolor\": \"white\", \"linecolor\": \"white\", \"ticks\": \"\"}, \"bgcolor\": \"#E5ECF6\", \"caxis\": {\"gridcolor\": \"white\", \"linecolor\": \"white\", \"ticks\": \"\"}}, \"title\": {\"x\": 0.05}, \"xaxis\": {\"automargin\": true, \"gridcolor\": \"white\", \"linecolor\": \"white\", \"ticks\": \"\", \"title\": {\"standoff\": 15}, \"zerolinecolor\": \"white\", \"zerolinewidth\": 2}, \"yaxis\": {\"automargin\": true, \"gridcolor\": \"white\", \"linecolor\": \"white\", \"ticks\": \"\", \"title\": {\"standoff\": 15}, \"zerolinecolor\": \"white\", \"zerolinewidth\": 2}}}},                        {\"responsive\": true}                    ).then(function(){\n",
       "                            \n",
       "var gd = document.getElementById('3cdba059-20f5-4185-929a-54b2f835380a');\n",
       "var x = new MutationObserver(function (mutations, observer) {{\n",
       "        var display = window.getComputedStyle(gd).display;\n",
       "        if (!display || display === 'none') {{\n",
       "            console.log([gd, 'removed!']);\n",
       "            Plotly.purge(gd);\n",
       "            observer.disconnect();\n",
       "        }}\n",
       "}});\n",
       "\n",
       "// Listen for the removal of the full notebook cells\n",
       "var notebookContainer = gd.closest('#notebook-container');\n",
       "if (notebookContainer) {{\n",
       "    x.observe(notebookContainer, {childList: true});\n",
       "}}\n",
       "\n",
       "// Listen for the clearing of the current output cell\n",
       "var outputEl = gd.closest('.output');\n",
       "if (outputEl) {{\n",
       "    x.observe(outputEl, {childList: true});\n",
       "}}\n",
       "\n",
       "                        })                };                });            </script>        </div>"
      ]
     },
     "metadata": {},
     "output_type": "display_data"
    }
   ],
   "source": [
    "hitVectorT = np.asarray(np.transpose(hitVector))\n",
    "x,y,z = hitVectorT[0],hitVectorT[1],hitVectorT[2]\n",
    "\n",
    "trace1 = go.Scatter3d(\n",
    "    x=x,\n",
    "    y=y,\n",
    "    z=z,\n",
    "    mode = 'markers',\n",
    "    marker=dict(\n",
    "        size=2,\n",
    "        color = z,\n",
    "        colorscale='Viridis'\n",
    "    )\n",
    ")\n",
    "\n",
    "\n",
    "data1 = [trace1]\n",
    "fig1 = go.Figure(data=data1)\n",
    "\n",
    "\n",
    "fig1.add_trace(\n",
    "    go.Cone(\n",
    "    x = [planePos[0]],\n",
    "    y = [planePos[1]],\n",
    "    z = [planePos[2]],\n",
    "    u = [planeVel[0]],\n",
    "    v = [planeVel[1]],\n",
    "    w = [planeVel[2]],\n",
    "sizeref = 0.00005\n",
    "    ))\n",
    "\n",
    "\n",
    "fig1.show()"
   ]
  },
  {
   "cell_type": "markdown",
   "metadata": {
    "hidden": true
   },
   "source": [
    "### MatPlotLib Detector Hits"
   ]
  },
  {
   "cell_type": "code",
   "execution_count": 160,
   "metadata": {
    "ExecuteTime": {
     "end_time": "2022-02-15T23:00:57.607786Z",
     "start_time": "2022-02-15T23:00:56.933288Z"
    },
    "hidden": true
   },
   "outputs": [
    {
     "data": {
      "text/plain": [
       "Text(0.5, 0.98, 'Detector Hits')"
      ]
     },
     "execution_count": 160,
     "metadata": {},
     "output_type": "execute_result"
    },
    {
     "data": {
      "image/png": "[encoded data removed]",
      "text/plain": [
       "<Figure size 576x576 with 1 Axes>"
      ]
     },
     "metadata": {
      "needs_background": "light"
     },
     "output_type": "display_data"
    }
   ],
   "source": [
    "distanceArray = []\n",
    "for point in hitVector:\n",
    "    distanceArray.append(distance(point,plane[0]))\n",
    "\n",
    "zeroArray = np.zeros(np.shape(distanceArray))\n",
    "\n",
    "fig2 = plt.figure(figsize = (8,8))\n",
    "plt.plot(distanceArray,zeroArray,'.')\n",
    "plt.xlabel('Distance from \"center\" of plane [au]',size = 16)\n",
    "plt.ylabel('Currently Meaningless', size = 16)\n",
    "plt.suptitle('Detector Hits', size = 20)"
   ]
  },
  {
   "cell_type": "code",
   "execution_count": 101,
   "metadata": {
    "ExecuteTime": {
     "end_time": "2022-02-09T02:06:55.241994Z",
     "start_time": "2022-02-09T02:06:55.222251Z"
    },
    "hidden": true
   },
   "outputs": [
    {
     "name": "stdout",
     "output_type": "stream",
     "text": [
      "2.67384e-10\n"
     ]
    }
   ],
   "source": [
    "print (km2au(0.04))"
   ]
  },
  {
   "cell_type": "markdown",
   "metadata": {
    "heading_collapsed": true
   },
   "source": [
    "## Incorporating The Energy Spectrum"
   ]
  },
  {
   "cell_type": "markdown",
   "metadata": {
    "heading_collapsed": true,
    "hidden": true
   },
   "source": [
    "### Single Initial Condition"
   ]
  },
  {
   "cell_type": "code",
   "execution_count": 173,
   "metadata": {
    "ExecuteTime": {
     "end_time": "2022-02-15T23:03:48.475333Z",
     "start_time": "2022-02-15T23:03:48.452977Z"
    },
    "hidden": true
   },
   "outputs": [],
   "source": [
    "IC1 = [1,rHalf,np.pi/2,0,1,0,0,0,0]\n",
    "IC2 = [0,rHalf,np.pi/2,np.pi/2,1,0,0,0,0]\n",
    "IC3 = [2,rHalf,np.pi/2,np.pi,1,0,0,0,0]\n",
    "energySpectrum = np.linspace(1,100,10)"
   ]
  },
  {
   "cell_type": "code",
   "execution_count": 174,
   "metadata": {
    "ExecuteTime": {
     "end_time": "2022-02-15T23:03:49.195381Z",
     "start_time": "2022-02-15T23:03:49.141149Z"
    },
    "hidden": true
   },
   "outputs": [
    {
     "name": "stdout",
     "output_type": "stream",
     "text": [
      "   ConNo         r     theta       phi  vr  vTheta  vPhi  L  cosBeta\n",
      "0      0  0.002325  1.570796  1.570796   1       0     0  0        0\n"
     ]
    }
   ],
   "source": [
    "columns = ['ConNo','r','theta','phi','vr','vTheta','vPhi','L','cosBeta']\n",
    "data = [IC2]\n",
    "testDF = pd.DataFrame(data,columns=columns)\n",
    "# testDF = makeInitialConditions(100)\n",
    "# testDF = testDF.append(data,ignore_index = True)\n",
    "# appendThis = ({'r':r,'theta':theta,'phi':phi,'vr':vr,'vTheta':vtheta,'vPhi':vphi,'L':0,'cosBeta':0})\n",
    "# dataDFSph = dataDFSph.append(appendThis,ignore_index=True)\n",
    "print (testDF)"
   ]
  },
  {
   "cell_type": "code",
   "execution_count": 175,
   "metadata": {
    "ExecuteTime": {
     "end_time": "2022-02-15T23:03:51.983694Z",
     "start_time": "2022-02-15T23:03:51.637829Z"
    },
    "hidden": true
   },
   "outputs": [
    {
     "name": "stdout",
     "output_type": "stream",
     "text": [
      "WARNING: Plane distance larger than 1.50e+06 km away from earth\n",
      "Plane distance: 0.9973252350000007 au\n",
      "Location,normal [1.7390553366395181e-13, 0.9973252350000007, 0.0] [-1.73905534e-13 -9.97325235e-01 -0.00000000e+00]\n",
      "Condition (Spherical) [0.00232524 1.57079633 1.57079633 1.         0.         0.        ]\n",
      "Complete\n"
     ]
    },
    {
     "name": "stderr",
     "output_type": "stream",
     "text": [
      "<ipython-input-145-31ad5abb1dce>:442: SettingWithCopyWarning:\n",
      "\n",
      "\n",
      "A value is trying to be set on a copy of a slice from a DataFrame\n",
      "\n",
      "See the caveats in the documentation: https://pandas.pydata.org/pandas-docs/stable/user_guide/indexing.html#returning-a-view-versus-a-copy\n",
      "\n",
      "<ipython-input-145-31ad5abb1dce>:443: SettingWithCopyWarning:\n",
      "\n",
      "\n",
      "A value is trying to be set on a copy of a slice from a DataFrame\n",
      "\n",
      "See the caveats in the documentation: https://pandas.pydata.org/pandas-docs/stable/user_guide/indexing.html#returning-a-view-versus-a-copy\n",
      "\n"
     ]
    }
   ],
   "source": [
    "q,m = 0.3,np.mean(energySpectrum)\n",
    "dt = 0.01\n",
    "planePos, planeVel, planeCon = determineDetectorPlane(testDF,q,m,dt,True)\n",
    "plane = [planePos,planeVel]\n",
    "print ('Location,normal',plane[0],plane[1])\n",
    "print ('Condition (Spherical)',planeCon)\n",
    "print ('Complete')"
   ]
  },
  {
   "cell_type": "code",
   "execution_count": 176,
   "metadata": {
    "ExecuteTime": {
     "end_time": "2022-02-15T23:03:54.243098Z",
     "start_time": "2022-02-15T23:03:54.171834Z"
    },
    "hidden": true
   },
   "outputs": [
    {
     "name": "stdout",
     "output_type": "stream",
     "text": [
      "   ConNo         r     theta       phi  vr  vTheta  vPhi  L  cosBeta\n",
      "0      0  0.002325  1.570796  1.570796   1       0     0  0        0\n",
      "   ConNo    x         y    z  vx   vy  vz    L  cosBeta\n",
      "0    0.0  0.0  0.002325  0.0   0  1.0   0  0.0      0.0\n"
     ]
    }
   ],
   "source": [
    "testDF1 = updateVelocities(testDF,planeCon)\n",
    "print (testDF)\n",
    "print (testDF1.head(5))"
   ]
  },
  {
   "cell_type": "code",
   "execution_count": 177,
   "metadata": {
    "ExecuteTime": {
     "end_time": "2022-02-15T23:04:00.638092Z",
     "start_time": "2022-02-15T23:03:58.801875Z"
    },
    "hidden": true,
    "scrolled": false
   },
   "outputs": [
    {
     "name": "stdout",
     "output_type": "stream",
     "text": [
      "Complete\n"
     ]
    }
   ],
   "source": [
    "hitDictionary = getHitDictionary(testDF1,energySpectrum,plane,q,dt,cartesian = True)\n",
    "\n",
    "print ('Complete')"
   ]
  },
  {
   "cell_type": "code",
   "execution_count": 178,
   "metadata": {
    "ExecuteTime": {
     "end_time": "2022-02-15T23:04:02.420023Z",
     "start_time": "2022-02-15T23:04:01.811312Z"
    },
    "hidden": true
   },
   "outputs": [
    {
     "name": "stdout",
     "output_type": "stream",
     "text": [
      "Locations x Spectra points:  10\n",
      "Unique Hits on Detector   :  10\n"
     ]
    },
    {
     "data": {
      "text/plain": [
       "Text(0.5, 0, 'Distance from plane reference point [au]')"
      ]
     },
     "execution_count": 178,
     "metadata": {},
     "output_type": "execute_result"
    },
    {
     "data": {
      "image/png": "[encoded data removed]",
      "text/plain": [
       "<Figure size 576x576 with 1 Axes>"
      ]
     },
     "metadata": {
      "needs_background": "light"
     },
     "output_type": "display_data"
    }
   ],
   "source": [
    "# fig = plt.figure(figsize = (8,8))\n",
    "distanceArray = []\n",
    "for key in hitDictionary:\n",
    "    hitVector = hitDictionary[key]\n",
    "    for i in range(np.shape(hitVector)[0]):\n",
    "        point = hitVector[i]\n",
    "        distanceArray.append(distance(point,plane[0]))\n",
    "\n",
    "# print (distanceArray)\n",
    "print ('Locations x Spectra points: ',len(testDF1)*len(hitDictionary.keys()))\n",
    "print ('Unique Hits on Detector   : ',len(np.unique(np.asarray(distanceArray))))\n",
    "zeroArray = np.zeros(np.shape(distanceArray)[0])\n",
    "fig3 = plt.figure(figsize = (8,8))\n",
    "plt.plot(distanceArray,zeroArray,'.')\n",
    "plt.xlabel('Distance from plane reference point [au]', size = 16)"
   ]
  },
  {
   "cell_type": "code",
   "execution_count": 126,
   "metadata": {
    "ExecuteTime": {
     "end_time": "2022-02-15T04:32:25.279917Z",
     "start_time": "2022-02-15T04:32:25.253854Z"
    },
    "hidden": true
   },
   "outputs": [
    {
     "name": "stdout",
     "output_type": "stream",
     "text": [
      "(3, 10)\n"
     ]
    }
   ],
   "source": [
    "def plotEnergy(hitDictionary,condition):\n",
    "    '''\n",
    "    Plots hits from a single initial conditions conrresponding to all energies\n",
    "    '''\n",
    "    hitVect = []\n",
    "    for key in hitDictionary:\n",
    "        hits = hitDictionary[key][condition]\n",
    "        # Add distance calculation here\n",
    "    return hitVect\n",
    "\n",
    "hitsAgain =  (plotEnergy(hitDictionary,1))\n",
    "print (np.shape(np.transpose(hitsAgain)))\n",
    "plt.plot(hitsAgain[0])"
   ]
  },
  {
   "cell_type": "markdown",
   "metadata": {},
   "source": [
    "## The Full Pipeline"
   ]
  },
  {
   "cell_type": "code",
   "execution_count": 153,
   "metadata": {
    "ExecuteTime": {
     "end_time": "2022-02-17T01:32:22.653165Z",
     "start_time": "2022-02-17T01:32:22.074545Z"
    }
   },
   "outputs": [
    {
     "name": "stdout",
     "output_type": "stream",
     "text": [
      "5 Initial Conditions\n",
      "   ConNo         r     theta       phi   vr  vTheta  vPhi         L  cosBeta\n",
      "0    0.0  0.002325  3.015457  0.568980  1.0     0.0   0.0 -0.989402      1.0\n",
      "1    1.0  0.002325  1.792860  1.549651  1.0     0.0   0.0 -0.219654      1.0\n",
      "2    2.0  0.002325  2.764430  6.211060  1.0     0.0   0.0 -0.927227      1.0\n",
      "3    3.0  0.002325  1.717403  0.144279  1.0     0.0   0.0 -0.145691      1.0\n",
      "4    4.0  0.002325  0.684084  0.948440  1.0     0.0   0.0  0.772925      1.0\n",
      "Complete\n"
     ]
    }
   ],
   "source": [
    "energySpectrum = np.linspace(1,100,10)\n",
    "q = 0.3\n",
    "E = energySpectrum[-1]\n",
    "dt = 0.01\n",
    "\n",
    "dataDFSph = makeInitialConditions(5)\n",
    "print ('{0} Initial Conditions'.format(dataDFSph.shape[0]))\n",
    "\n",
    "dataDFSph = computeLossAndBeta(dataDFSph,q,E,dt)\n",
    "print (dataDFSph.head(5))\n",
    "print ('Complete')"
   ]
  },
  {
   "cell_type": "code",
   "execution_count": 156,
   "metadata": {
    "ExecuteTime": {
     "end_time": "2022-02-17T01:32:36.351459Z",
     "start_time": "2022-02-17T01:32:36.263365Z"
    }
   },
   "outputs": [
    {
     "name": "stdout",
     "output_type": "stream",
     "text": [
      "   ConNo         r     theta       phi   vr  vTheta  vPhi    L  cosBeta\n",
      "0    0.0  0.002325  1.570796  0.144277  1.0     0.0   0.0  0.0      0.0\n",
      "1    1.0  0.002325  1.570796  0.144280  1.0     0.0   0.0  0.0      0.0\n",
      "2    2.0  0.002325  1.570796  0.144282  1.0     0.0   0.0  0.0      0.0\n",
      "3    3.0  0.002325  1.570796  0.144279  1.0     0.0   0.0  0.0      0.0\n",
      "4    4.0  0.002325  1.570796  0.144280  1.0     0.0   0.0  0.0      0.0\n",
      "Complete\n"
     ]
    }
   ],
   "source": [
    "lossList  = np.abs(dataDFSph.L)\n",
    "lossLimit = min(lossList)\n",
    "minLossCondition = dataDFSph.loc[(np.abs(dataDFSph['L']) <=  lossLimit)]\n",
    "\n",
    "columns = np.asarray(dataDFSph.columns)\n",
    "dataDFSph2 = pd.DataFrame(columns=columns)\n",
    "v1 = [1,0,0]\n",
    "\n",
    "margin = 1e-6\n",
    "# margin = 1/4\n",
    "# deltaTheta = (margin*(np.pi/2))\n",
    "deltaTheta = 0\n",
    "deltaPhi = margin*2*np.pi/2\n",
    "# deltaPhi = 0\n",
    "\n",
    "for row in dataDFSph.ConNo:\n",
    "    phi = float(minLossCondition.phi)\n",
    "#     phi = np.pi/2\n",
    "#     theta = float(minLossCondition.theta)\n",
    "    theta = np.pi/2\n",
    "    \n",
    "    randTheta = np.random.uniform( (theta-deltaTheta), (theta+deltaTheta) )\n",
    "    randPhi   = np.random.uniform( (phi-deltaPhi), (phi+deltaPhi) )\n",
    "    p1 = [rHalf,randTheta,randPhi]\n",
    "\n",
    "    r      = p1[0]\n",
    "    theta  = p1[1]\n",
    "    phi    = p1[2]\n",
    "    vr     = v1[0]\n",
    "    vtheta = v1[1]\n",
    "    vphi   = v1[2]\n",
    "\n",
    "    appendThis = ({'ConNo':row,'r':r,'theta':theta,'phi':phi,'vr':vr,'vTheta':vtheta,'vPhi':vphi,'L':0,'cosBeta':0})\n",
    "#     appendThis = ({'r':r,'theta':theta,'phi':phi,'vr':vr,'vTheta':vtheta,'vPhi':vphi})\n",
    "\n",
    "    dataDFSph2 = dataDFSph2.append(appendThis,ignore_index=True)\n",
    "    \n",
    "# dataDFSph2 = computeLossAndBeta(dataDFSph2,q,m,dt)\n",
    "print (dataDFSph2.head(5))\n",
    "print ('Complete')"
   ]
  },
  {
   "cell_type": "code",
   "execution_count": 157,
   "metadata": {
    "ExecuteTime": {
     "end_time": "2022-02-17T01:32:37.489694Z",
     "start_time": "2022-02-17T01:32:37.407002Z"
    }
   },
   "outputs": [
    {
     "data": {
      "application/vnd.plotly.v1+json": {
       "config": {
        "plotlyServerURL": "https://plot.ly"
       },
       "data": [
        {
         "sizeref": 2,
         "type": "cone",
         "u": [
          0.002301076231089628,
          0.002301075099333077,
          0.002301074454858849,
          0.002301075512266987,
          0.002301075012530925
         ],
         "v": [
          0.0003343141994282542,
          0.00033432198918747455,
          0.0003343264249518006,
          0.0003343191470290377,
          0.00033432258662974344
         ],
         "w": [
          0,
          0,
          0,
          0,
          0
         ],
         "x": [
          0.002301076231089628,
          0.002301075099333077,
          0.002301074454858849,
          0.002301075512266987,
          0.002301075012530925
         ],
         "y": [
          0.0003343141994282542,
          0.00033432198918747455,
          0.0003343264249518006,
          0.0003343191470290377,
          0.00033432258662974344
         ],
         "z": [
          0,
          0,
          0,
          0,
          0
         ]
        },
        {
         "marker": {
          "color": "orange",
          "size": 6
         },
         "mode": "markers",
         "type": "scatter3d",
         "x": [
          0
         ],
         "y": [
          0
         ],
         "z": [
          0
         ]
        }
       ],
       "layout": {
        "template": {
         "data": {
          "bar": [
           {
            "error_x": {
             "color": "#2a3f5f"
            },
            "error_y": {
             "color": "#2a3f5f"
            },
            "marker": {
             "line": {
              "color": "#E5ECF6",
              "width": 0.5
             }
            },
            "type": "bar"
           }
          ],
          "barpolar": [
           {
            "marker": {
             "line": {
              "color": "#E5ECF6",
              "width": 0.5
             }
            },
            "type": "barpolar"
           }
          ],
          "carpet": [
           {
            "aaxis": {
             "endlinecolor": "#2a3f5f",
             "gridcolor": "white",
             "linecolor": "white",
             "minorgridcolor": "white",
             "startlinecolor": "#2a3f5f"
            },
            "baxis": {
             "endlinecolor": "#2a3f5f",
             "gridcolor": "white",
             "linecolor": "white",
             "minorgridcolor": "white",
             "startlinecolor": "#2a3f5f"
            },
            "type": "carpet"
           }
          ],
          "choropleth": [
           {
            "colorbar": {
             "outlinewidth": 0,
             "ticks": ""
            },
            "type": "choropleth"
           }
          ],
          "contour": [
           {
            "colorbar": {
             "outlinewidth": 0,
             "ticks": ""
            },
            "colorscale": [
             [
              0,
              "#0d0887"
             ],
             [
              0.1111111111111111,
              "#46039f"
             ],
             [
              0.2222222222222222,
              "#7201a8"
             ],
             [
              0.3333333333333333,
              "#9c179e"
             ],
             [
              0.4444444444444444,
              "#bd3786"
             ],
             [
              0.5555555555555556,
              "#d8576b"
             ],
             [
              0.6666666666666666,
              "#ed7953"
             ],
             [
              0.7777777777777778,
              "#fb9f3a"
             ],
             [
              0.8888888888888888,
              "#fdca26"
             ],
             [
              1,
              "#f0f921"
             ]
            ],
            "type": "contour"
           }
          ],
          "contourcarpet": [
           {
            "colorbar": {
             "outlinewidth": 0,
             "ticks": ""
            },
            "type": "contourcarpet"
           }
          ],
          "heatmap": [
           {
            "colorbar": {
             "outlinewidth": 0,
             "ticks": ""
            },
            "colorscale": [
             [
              0,
              "#0d0887"
             ],
             [
              0.1111111111111111,
              "#46039f"
             ],
             [
              0.2222222222222222,
              "#7201a8"
             ],
             [
              0.3333333333333333,
              "#9c179e"
             ],
             [
              0.4444444444444444,
              "#bd3786"
             ],
             [
              0.5555555555555556,
              "#d8576b"
             ],
             [
              0.6666666666666666,
              "#ed7953"
             ],
             [
              0.7777777777777778,
              "#fb9f3a"
             ],
             [
              0.8888888888888888,
              "#fdca26"
             ],
             [
              1,
              "#f0f921"
             ]
            ],
            "type": "heatmap"
           }
          ],
          "heatmapgl": [
           {
            "colorbar": {
             "outlinewidth": 0,
             "ticks": ""
            },
            "colorscale": [
             [
              0,
              "#0d0887"
             ],
             [
              0.1111111111111111,
              "#46039f"
             ],
             [
              0.2222222222222222,
              "#7201a8"
             ],
             [
              0.3333333333333333,
              "#9c179e"
             ],
             [
              0.4444444444444444,
              "#bd3786"
             ],
             [
              0.5555555555555556,
              "#d8576b"
             ],
             [
              0.6666666666666666,
              "#ed7953"
             ],
             [
              0.7777777777777778,
              "#fb9f3a"
             ],
             [
              0.8888888888888888,
              "#fdca26"
             ],
             [
              1,
              "#f0f921"
             ]
            ],
            "type": "heatmapgl"
           }
          ],
          "histogram": [
           {
            "marker": {
             "colorbar": {
              "outlinewidth": 0,
              "ticks": ""
             }
            },
            "type": "histogram"
           }
          ],
          "histogram2d": [
           {
            "colorbar": {
             "outlinewidth": 0,
             "ticks": ""
            },
            "colorscale": [
             [
              0,
              "#0d0887"
             ],
             [
              0.1111111111111111,
              "#46039f"
             ],
             [
              0.2222222222222222,
              "#7201a8"
             ],
             [
              0.3333333333333333,
              "#9c179e"
             ],
             [
              0.4444444444444444,
              "#bd3786"
             ],
             [
              0.5555555555555556,
              "#d8576b"
             ],
             [
              0.6666666666666666,
              "#ed7953"
             ],
             [
              0.7777777777777778,
              "#fb9f3a"
             ],
             [
              0.8888888888888888,
              "#fdca26"
             ],
             [
              1,
              "#f0f921"
             ]
            ],
            "type": "histogram2d"
           }
          ],
          "histogram2dcontour": [
           {
            "colorbar": {
             "outlinewidth": 0,
             "ticks": ""
            },
            "colorscale": [
             [
              0,
              "#0d0887"
             ],
             [
              0.1111111111111111,
              "#46039f"
             ],
             [
              0.2222222222222222,
              "#7201a8"
             ],
             [
              0.3333333333333333,
              "#9c179e"
             ],
             [
              0.4444444444444444,
              "#bd3786"
             ],
             [
              0.5555555555555556,
              "#d8576b"
             ],
             [
              0.6666666666666666,
              "#ed7953"
             ],
             [
              0.7777777777777778,
              "#fb9f3a"
             ],
             [
              0.8888888888888888,
              "#fdca26"
             ],
             [
              1,
              "#f0f921"
             ]
            ],
            "type": "histogram2dcontour"
           }
          ],
          "mesh3d": [
           {
            "colorbar": {
             "outlinewidth": 0,
             "ticks": ""
            },
            "type": "mesh3d"
           }
          ],
          "parcoords": [
           {
            "line": {
             "colorbar": {
              "outlinewidth": 0,
              "ticks": ""
             }
            },
            "type": "parcoords"
           }
          ],
          "pie": [
           {
            "automargin": true,
            "type": "pie"
           }
          ],
          "scatter": [
           {
            "marker": {
             "colorbar": {
              "outlinewidth": 0,
              "ticks": ""
             }
            },
            "type": "scatter"
           }
          ],
          "scatter3d": [
           {
            "line": {
             "colorbar": {
              "outlinewidth": 0,
              "ticks": ""
             }
            },
            "marker": {
             "colorbar": {
              "outlinewidth": 0,
              "ticks": ""
             }
            },
            "type": "scatter3d"
           }
          ],
          "scattercarpet": [
           {
            "marker": {
             "colorbar": {
              "outlinewidth": 0,
              "ticks": ""
             }
            },
            "type": "scattercarpet"
           }
          ],
          "scattergeo": [
           {
            "marker": {
             "colorbar": {
              "outlinewidth": 0,
              "ticks": ""
             }
            },
            "type": "scattergeo"
           }
          ],
          "scattergl": [
           {
            "marker": {
             "colorbar": {
              "outlinewidth": 0,
              "ticks": ""
             }
            },
            "type": "scattergl"
           }
          ],
          "scattermapbox": [
           {
            "marker": {
             "colorbar": {
              "outlinewidth": 0,
              "ticks": ""
             }
            },
            "type": "scattermapbox"
           }
          ],
          "scatterpolar": [
           {
            "marker": {
             "colorbar": {
              "outlinewidth": 0,
              "ticks": ""
             }
            },
            "type": "scatterpolar"
           }
          ],
          "scatterpolargl": [
           {
            "marker": {
             "colorbar": {
              "outlinewidth": 0,
              "ticks": ""
             }
            },
            "type": "scatterpolargl"
           }
          ],
          "scatterternary": [
           {
            "marker": {
             "colorbar": {
              "outlinewidth": 0,
              "ticks": ""
             }
            },
            "type": "scatterternary"
           }
          ],
          "surface": [
           {
            "colorbar": {
             "outlinewidth": 0,
             "ticks": ""
            },
            "colorscale": [
             [
              0,
              "#0d0887"
             ],
             [
              0.1111111111111111,
              "#46039f"
             ],
             [
              0.2222222222222222,
              "#7201a8"
             ],
             [
              0.3333333333333333,
              "#9c179e"
             ],
             [
              0.4444444444444444,
              "#bd3786"
             ],
             [
              0.5555555555555556,
              "#d8576b"
             ],
             [
              0.6666666666666666,
              "#ed7953"
             ],
             [
              0.7777777777777778,
              "#fb9f3a"
             ],
             [
              0.8888888888888888,
              "#fdca26"
             ],
             [
              1,
              "#f0f921"
             ]
            ],
            "type": "surface"
           }
          ],
          "table": [
           {
            "cells": {
             "fill": {
              "color": "#EBF0F8"
             },
             "line": {
              "color": "white"
             }
            },
            "header": {
             "fill": {
              "color": "#C8D4E3"
             },
             "line": {
              "color": "white"
             }
            },
            "type": "table"
           }
          ]
         },
         "layout": {
          "annotationdefaults": {
           "arrowcolor": "#2a3f5f",
           "arrowhead": 0,
           "arrowwidth": 1
          },
          "autotypenumbers": "strict",
          "coloraxis": {
           "colorbar": {
            "outlinewidth": 0,
            "ticks": ""
           }
          },
          "colorscale": {
           "diverging": [
            [
             0,
             "#8e0152"
            ],
            [
             0.1,
             "#c51b7d"
            ],
            [
             0.2,
             "#de77ae"
            ],
            [
             0.3,
             "#f1b6da"
            ],
            [
             0.4,
             "#fde0ef"
            ],
            [
             0.5,
             "#f7f7f7"
            ],
            [
             0.6,
             "#e6f5d0"
            ],
            [
             0.7,
             "#b8e186"
            ],
            [
             0.8,
             "#7fbc41"
            ],
            [
             0.9,
             "#4d9221"
            ],
            [
             1,
             "#276419"
            ]
           ],
           "sequential": [
            [
             0,
             "#0d0887"
            ],
            [
             0.1111111111111111,
             "#46039f"
            ],
            [
             0.2222222222222222,
             "#7201a8"
            ],
            [
             0.3333333333333333,
             "#9c179e"
            ],
            [
             0.4444444444444444,
             "#bd3786"
            ],
            [
             0.5555555555555556,
             "#d8576b"
            ],
            [
             0.6666666666666666,
             "#ed7953"
            ],
            [
             0.7777777777777778,
             "#fb9f3a"
            ],
            [
             0.8888888888888888,
             "#fdca26"
            ],
            [
             1,
             "#f0f921"
            ]
           ],
           "sequentialminus": [
            [
             0,
             "#0d0887"
            ],
            [
             0.1111111111111111,
             "#46039f"
            ],
            [
             0.2222222222222222,
             "#7201a8"
            ],
            [
             0.3333333333333333,
             "#9c179e"
            ],
            [
             0.4444444444444444,
             "#bd3786"
            ],
            [
             0.5555555555555556,
             "#d8576b"
            ],
            [
             0.6666666666666666,
             "#ed7953"
            ],
            [
             0.7777777777777778,
             "#fb9f3a"
            ],
            [
             0.8888888888888888,
             "#fdca26"
            ],
            [
             1,
             "#f0f921"
            ]
           ]
          },
          "colorway": [
           "#636efa",
           "#EF553B",
           "#00cc96",
           "#ab63fa",
           "#FFA15A",
           "#19d3f3",
           "#FF6692",
           "#B6E880",
           "#FF97FF",
           "#FECB52"
          ],
          "font": {
           "color": "#2a3f5f"
          },
          "geo": {
           "bgcolor": "white",
           "lakecolor": "white",
           "landcolor": "#E5ECF6",
           "showlakes": true,
           "showland": true,
           "subunitcolor": "white"
          },
          "hoverlabel": {
           "align": "left"
          },
          "hovermode": "closest",
          "mapbox": {
           "style": "light"
          },
          "paper_bgcolor": "white",
          "plot_bgcolor": "#E5ECF6",
          "polar": {
           "angularaxis": {
            "gridcolor": "white",
            "linecolor": "white",
            "ticks": ""
           },
           "bgcolor": "#E5ECF6",
           "radialaxis": {
            "gridcolor": "white",
            "linecolor": "white",
            "ticks": ""
           }
          },
          "scene": {
           "xaxis": {
            "backgroundcolor": "#E5ECF6",
            "gridcolor": "white",
            "gridwidth": 2,
            "linecolor": "white",
            "showbackground": true,
            "ticks": "",
            "zerolinecolor": "white"
           },
           "yaxis": {
            "backgroundcolor": "#E5ECF6",
            "gridcolor": "white",
            "gridwidth": 2,
            "linecolor": "white",
            "showbackground": true,
            "ticks": "",
            "zerolinecolor": "white"
           },
           "zaxis": {
            "backgroundcolor": "#E5ECF6",
            "gridcolor": "white",
            "gridwidth": 2,
            "linecolor": "white",
            "showbackground": true,
            "ticks": "",
            "zerolinecolor": "white"
           }
          },
          "shapedefaults": {
           "line": {
            "color": "#2a3f5f"
           }
          },
          "ternary": {
           "aaxis": {
            "gridcolor": "white",
            "linecolor": "white",
            "ticks": ""
           },
           "baxis": {
            "gridcolor": "white",
            "linecolor": "white",
            "ticks": ""
           },
           "bgcolor": "#E5ECF6",
           "caxis": {
            "gridcolor": "white",
            "linecolor": "white",
            "ticks": ""
           }
          },
          "title": {
           "x": 0.05
          },
          "xaxis": {
           "automargin": true,
           "gridcolor": "white",
           "linecolor": "white",
           "ticks": "",
           "title": {
            "standoff": 15
           },
           "zerolinecolor": "white",
           "zerolinewidth": 2
          },
          "yaxis": {
           "automargin": true,
           "gridcolor": "white",
           "linecolor": "white",
           "ticks": "",
           "title": {
            "standoff": 15
           },
           "zerolinecolor": "white",
           "zerolinewidth": 2
          }
         }
        }
       }
      },
      "text/html": [
       "<div>                            <div id=\"70bdc479-a38a-4009-b4ef-fa68dca24062\" class=\"plotly-graph-div\" style=\"height:525px; width:100%;\"></div>            <script type=\"text/javascript\">                require([\"plotly\"], function(Plotly) {                    window.PLOTLYENV=window.PLOTLYENV || {};                                    if (document.getElementById(\"70bdc479-a38a-4009-b4ef-fa68dca24062\")) {                    Plotly.newPlot(                        \"70bdc479-a38a-4009-b4ef-fa68dca24062\",                        [{\"sizeref\": 2, \"type\": \"cone\", \"u\": [0.002301076231089628, 0.002301075099333077, 0.002301074454858849, 0.002301075512266987, 0.002301075012530925], \"v\": [0.0003343141994282542, 0.00033432198918747455, 0.0003343264249518006, 0.0003343191470290377, 0.00033432258662974344], \"w\": [0.0, 0.0, 0.0, 0.0, 0.0], \"x\": [0.002301076231089628, 0.002301075099333077, 0.002301074454858849, 0.002301075512266987, 0.002301075012530925], \"y\": [0.0003343141994282542, 0.00033432198918747455, 0.0003343264249518006, 0.0003343191470290377, 0.00033432258662974344], \"z\": [0.0, 0.0, 0.0, 0.0, 0.0]}, {\"marker\": {\"color\": \"orange\", \"size\": 6}, \"mode\": \"markers\", \"type\": \"scatter3d\", \"x\": [0], \"y\": [0], \"z\": [0]}],                        {\"template\": {\"data\": {\"bar\": [{\"error_x\": {\"color\": \"#2a3f5f\"}, \"error_y\": {\"color\": \"#2a3f5f\"}, \"marker\": {\"line\": {\"color\": \"#E5ECF6\", \"width\": 0.5}}, \"type\": \"bar\"}], \"barpolar\": [{\"marker\": {\"line\": {\"color\": \"#E5ECF6\", \"width\": 0.5}}, \"type\": \"barpolar\"}], \"carpet\": [{\"aaxis\": {\"endlinecolor\": \"#2a3f5f\", \"gridcolor\": \"white\", \"linecolor\": \"white\", \"minorgridcolor\": \"white\", \"startlinecolor\": \"#2a3f5f\"}, \"baxis\": {\"endlinecolor\": \"#2a3f5f\", \"gridcolor\": \"white\", \"linecolor\": \"white\", \"minorgridcolor\": \"white\", \"startlinecolor\": \"#2a3f5f\"}, \"type\": \"carpet\"}], \"choropleth\": [{\"colorbar\": {\"outlinewidth\": 0, \"ticks\": \"\"}, \"type\": \"choropleth\"}], \"contour\": [{\"colorbar\": {\"outlinewidth\": 0, \"ticks\": \"\"}, \"colorscale\": [[0.0, \"#0d0887\"], [0.1111111111111111, \"#46039f\"], [0.2222222222222222, \"#7201a8\"], [0.3333333333333333, \"#9c179e\"], [0.4444444444444444, \"#bd3786\"], [0.5555555555555556, \"#d8576b\"], [0.6666666666666666, \"#ed7953\"], [0.7777777777777778, \"#fb9f3a\"], [0.8888888888888888, \"#fdca26\"], [1.0, \"#f0f921\"]], \"type\": \"contour\"}], \"contourcarpet\": [{\"colorbar\": {\"outlinewidth\": 0, \"ticks\": \"\"}, \"type\": \"contourcarpet\"}], \"heatmap\": [{\"colorbar\": {\"outlinewidth\": 0, \"ticks\": \"\"}, \"colorscale\": [[0.0, \"#0d0887\"], [0.1111111111111111, \"#46039f\"], [0.2222222222222222, \"#7201a8\"], [0.3333333333333333, \"#9c179e\"], [0.4444444444444444, \"#bd3786\"], [0.5555555555555556, \"#d8576b\"], [0.6666666666666666, \"#ed7953\"], [0.7777777777777778, \"#fb9f3a\"], [0.8888888888888888, \"#fdca26\"], [1.0, \"#f0f921\"]], \"type\": \"heatmap\"}], \"heatmapgl\": [{\"colorbar\": {\"outlinewidth\": 0, \"ticks\": \"\"}, \"colorscale\": [[0.0, \"#0d0887\"], [0.1111111111111111, \"#46039f\"], [0.2222222222222222, \"#7201a8\"], [0.3333333333333333, \"#9c179e\"], [0.4444444444444444, \"#bd3786\"], [0.5555555555555556, \"#d8576b\"], [0.6666666666666666, \"#ed7953\"], [0.7777777777777778, \"#fb9f3a\"], [0.8888888888888888, \"#fdca26\"], [1.0, \"#f0f921\"]], \"type\": \"heatmapgl\"}], \"histogram\": [{\"marker\": {\"colorbar\": {\"outlinewidth\": 0, \"ticks\": \"\"}}, \"type\": \"histogram\"}], \"histogram2d\": [{\"colorbar\": {\"outlinewidth\": 0, \"ticks\": \"\"}, \"colorscale\": [[0.0, \"#0d0887\"], [0.1111111111111111, \"#46039f\"], [0.2222222222222222, \"#7201a8\"], [0.3333333333333333, \"#9c179e\"], [0.4444444444444444, \"#bd3786\"], [0.5555555555555556, \"#d8576b\"], [0.6666666666666666, \"#ed7953\"], [0.7777777777777778, \"#fb9f3a\"], [0.8888888888888888, \"#fdca26\"], [1.0, \"#f0f921\"]], \"type\": \"histogram2d\"}], \"histogram2dcontour\": [{\"colorbar\": {\"outlinewidth\": 0, \"ticks\": \"\"}, \"colorscale\": [[0.0, \"#0d0887\"], [0.1111111111111111, \"#46039f\"], [0.2222222222222222, \"#7201a8\"], [0.3333333333333333, \"#9c179e\"], [0.4444444444444444, \"#bd3786\"], [0.5555555555555556, \"#d8576b\"], [0.6666666666666666, \"#ed7953\"], [0.7777777777777778, \"#fb9f3a\"], [0.8888888888888888, \"#fdca26\"], [1.0, \"#f0f921\"]], \"type\": \"histogram2dcontour\"}], \"mesh3d\": [{\"colorbar\": {\"outlinewidth\": 0, \"ticks\": \"\"}, \"type\": \"mesh3d\"}], \"parcoords\": [{\"line\": {\"colorbar\": {\"outlinewidth\": 0, \"ticks\": \"\"}}, \"type\": \"parcoords\"}], \"pie\": [{\"automargin\": true, \"type\": \"pie\"}], \"scatter\": [{\"marker\": {\"colorbar\": {\"outlinewidth\": 0, \"ticks\": \"\"}}, \"type\": \"scatter\"}], \"scatter3d\": [{\"line\": {\"colorbar\": {\"outlinewidth\": 0, \"ticks\": \"\"}}, \"marker\": {\"colorbar\": {\"outlinewidth\": 0, \"ticks\": \"\"}}, \"type\": \"scatter3d\"}], \"scattercarpet\": [{\"marker\": {\"colorbar\": {\"outlinewidth\": 0, \"ticks\": \"\"}}, \"type\": \"scattercarpet\"}], \"scattergeo\": [{\"marker\": {\"colorbar\": {\"outlinewidth\": 0, \"ticks\": \"\"}}, \"type\": \"scattergeo\"}], \"scattergl\": [{\"marker\": {\"colorbar\": {\"outlinewidth\": 0, \"ticks\": \"\"}}, \"type\": \"scattergl\"}], \"scattermapbox\": [{\"marker\": {\"colorbar\": {\"outlinewidth\": 0, \"ticks\": \"\"}}, \"type\": \"scattermapbox\"}], \"scatterpolar\": [{\"marker\": {\"colorbar\": {\"outlinewidth\": 0, \"ticks\": \"\"}}, \"type\": \"scatterpolar\"}], \"scatterpolargl\": [{\"marker\": {\"colorbar\": {\"outlinewidth\": 0, \"ticks\": \"\"}}, \"type\": \"scatterpolargl\"}], \"scatterternary\": [{\"marker\": {\"colorbar\": {\"outlinewidth\": 0, \"ticks\": \"\"}}, \"type\": \"scatterternary\"}], \"surface\": [{\"colorbar\": {\"outlinewidth\": 0, \"ticks\": \"\"}, \"colorscale\": [[0.0, \"#0d0887\"], [0.1111111111111111, \"#46039f\"], [0.2222222222222222, \"#7201a8\"], [0.3333333333333333, \"#9c179e\"], [0.4444444444444444, \"#bd3786\"], [0.5555555555555556, \"#d8576b\"], [0.6666666666666666, \"#ed7953\"], [0.7777777777777778, \"#fb9f3a\"], [0.8888888888888888, \"#fdca26\"], [1.0, \"#f0f921\"]], \"type\": \"surface\"}], \"table\": [{\"cells\": {\"fill\": {\"color\": \"#EBF0F8\"}, \"line\": {\"color\": \"white\"}}, \"header\": {\"fill\": {\"color\": \"#C8D4E3\"}, \"line\": {\"color\": \"white\"}}, \"type\": \"table\"}]}, \"layout\": {\"annotationdefaults\": {\"arrowcolor\": \"#2a3f5f\", \"arrowhead\": 0, \"arrowwidth\": 1}, \"autotypenumbers\": \"strict\", \"coloraxis\": {\"colorbar\": {\"outlinewidth\": 0, \"ticks\": \"\"}}, \"colorscale\": {\"diverging\": [[0, \"#8e0152\"], [0.1, \"#c51b7d\"], [0.2, \"#de77ae\"], [0.3, \"#f1b6da\"], [0.4, \"#fde0ef\"], [0.5, \"#f7f7f7\"], [0.6, \"#e6f5d0\"], [0.7, \"#b8e186\"], [0.8, \"#7fbc41\"], [0.9, \"#4d9221\"], [1, \"#276419\"]], \"sequential\": [[0.0, \"#0d0887\"], [0.1111111111111111, \"#46039f\"], [0.2222222222222222, \"#7201a8\"], [0.3333333333333333, \"#9c179e\"], [0.4444444444444444, \"#bd3786\"], [0.5555555555555556, \"#d8576b\"], [0.6666666666666666, \"#ed7953\"], [0.7777777777777778, \"#fb9f3a\"], [0.8888888888888888, \"#fdca26\"], [1.0, \"#f0f921\"]], \"sequentialminus\": [[0.0, \"#0d0887\"], [0.1111111111111111, \"#46039f\"], [0.2222222222222222, \"#7201a8\"], [0.3333333333333333, \"#9c179e\"], [0.4444444444444444, \"#bd3786\"], [0.5555555555555556, \"#d8576b\"], [0.6666666666666666, \"#ed7953\"], [0.7777777777777778, \"#fb9f3a\"], [0.8888888888888888, \"#fdca26\"], [1.0, \"#f0f921\"]]}, \"colorway\": [\"#636efa\", \"#EF553B\", \"#00cc96\", \"#ab63fa\", \"#FFA15A\", \"#19d3f3\", \"#FF6692\", \"#B6E880\", \"#FF97FF\", \"#FECB52\"], \"font\": {\"color\": \"#2a3f5f\"}, \"geo\": {\"bgcolor\": \"white\", \"lakecolor\": \"white\", \"landcolor\": \"#E5ECF6\", \"showlakes\": true, \"showland\": true, \"subunitcolor\": \"white\"}, \"hoverlabel\": {\"align\": \"left\"}, \"hovermode\": \"closest\", \"mapbox\": {\"style\": \"light\"}, \"paper_bgcolor\": \"white\", \"plot_bgcolor\": \"#E5ECF6\", \"polar\": {\"angularaxis\": {\"gridcolor\": \"white\", \"linecolor\": \"white\", \"ticks\": \"\"}, \"bgcolor\": \"#E5ECF6\", \"radialaxis\": {\"gridcolor\": \"white\", \"linecolor\": \"white\", \"ticks\": \"\"}}, \"scene\": {\"xaxis\": {\"backgroundcolor\": \"#E5ECF6\", \"gridcolor\": \"white\", \"gridwidth\": 2, \"linecolor\": \"white\", \"showbackground\": true, \"ticks\": \"\", \"zerolinecolor\": \"white\"}, \"yaxis\": {\"backgroundcolor\": \"#E5ECF6\", \"gridcolor\": \"white\", \"gridwidth\": 2, \"linecolor\": \"white\", \"showbackground\": true, \"ticks\": \"\", \"zerolinecolor\": \"white\"}, \"zaxis\": {\"backgroundcolor\": \"#E5ECF6\", \"gridcolor\": \"white\", \"gridwidth\": 2, \"linecolor\": \"white\", \"showbackground\": true, \"ticks\": \"\", \"zerolinecolor\": \"white\"}}, \"shapedefaults\": {\"line\": {\"color\": \"#2a3f5f\"}}, \"ternary\": {\"aaxis\": {\"gridcolor\": \"white\", \"linecolor\": \"white\", \"ticks\": \"\"}, \"baxis\": {\"gridcolor\": \"white\", \"linecolor\": \"white\", \"ticks\": \"\"}, \"bgcolor\": \"#E5ECF6\", \"caxis\": {\"gridcolor\": \"white\", \"linecolor\": \"white\", \"ticks\": \"\"}}, \"title\": {\"x\": 0.05}, \"xaxis\": {\"automargin\": true, \"gridcolor\": \"white\", \"linecolor\": \"white\", \"ticks\": \"\", \"title\": {\"standoff\": 15}, \"zerolinecolor\": \"white\", \"zerolinewidth\": 2}, \"yaxis\": {\"automargin\": true, \"gridcolor\": \"white\", \"linecolor\": \"white\", \"ticks\": \"\", \"title\": {\"standoff\": 15}, \"zerolinecolor\": \"white\", \"zerolinewidth\": 2}}}},                        {\"responsive\": true}                    ).then(function(){\n",
       "                            \n",
       "var gd = document.getElementById('70bdc479-a38a-4009-b4ef-fa68dca24062');\n",
       "var x = new MutationObserver(function (mutations, observer) {{\n",
       "        var display = window.getComputedStyle(gd).display;\n",
       "        if (!display || display === 'none') {{\n",
       "            console.log([gd, 'removed!']);\n",
       "            Plotly.purge(gd);\n",
       "            observer.disconnect();\n",
       "        }}\n",
       "}});\n",
       "\n",
       "// Listen for the removal of the full notebook cells\n",
       "var notebookContainer = gd.closest('#notebook-container');\n",
       "if (notebookContainer) {{\n",
       "    x.observe(notebookContainer, {childList: true});\n",
       "}}\n",
       "\n",
       "// Listen for the clearing of the current output cell\n",
       "var outputEl = gd.closest('.output');\n",
       "if (outputEl) {{\n",
       "    x.observe(outputEl, {childList: true});\n",
       "}}\n",
       "\n",
       "                        })                };                });            </script>        </div>"
      ]
     },
     "metadata": {},
     "output_type": "display_data"
    }
   ],
   "source": [
    "plotConditions(dataDFSph2,2)"
   ]
  },
  {
   "cell_type": "code",
   "execution_count": 158,
   "metadata": {
    "ExecuteTime": {
     "end_time": "2022-02-17T01:32:42.784890Z",
     "start_time": "2022-02-17T01:32:42.154788Z"
    }
   },
   "outputs": [
    {
     "name": "stdout",
     "output_type": "stream",
     "text": [
      "WARNING: Plane distance larger than 1.50e+06 km away from earth\n",
      "Plane distance: 0.9973252349999984 au\n",
      "[0.9869632071271947, 0.14339195285999873, 0.0] [-0.98696321 -0.14339195 -0.        ]\n",
      "Complete\n"
     ]
    }
   ],
   "source": [
    "planePos, planeVel, planeCon = determineDetectorPlane(dataDFSph2,q,E,dt,True)\n",
    "plane = [planePos,planeVel]\n",
    "print (planePos,planeVel)\n",
    "\n",
    "print ('Complete')"
   ]
  },
  {
   "cell_type": "code",
   "execution_count": 159,
   "metadata": {
    "ExecuteTime": {
     "end_time": "2022-02-17T01:32:43.824101Z",
     "start_time": "2022-02-17T01:32:43.748447Z"
    }
   },
   "outputs": [
    {
     "name": "stdout",
     "output_type": "stream",
     "text": [
      "   ConNo         x         y    z       vx        vy  vz    L  cosBeta\n",
      "0    0.0  0.002301  0.000334  0.0  0.98961  0.143777   0  0.0      1.0\n",
      "1    1.0  0.002301  0.000334  0.0  0.98961  0.143777   0  0.0      1.0\n",
      "2    2.0  0.002301  0.000334  0.0  0.98961  0.143777   0  0.0      1.0\n",
      "3    3.0  0.002301  0.000334  0.0  0.98961  0.143777   0  0.0      1.0\n",
      "4    4.0  0.002301  0.000334  0.0  0.98961  0.143777   0  0.0      1.0\n",
      "Complete\n"
     ]
    }
   ],
   "source": [
    "testDF1 = updateVelocities(dataDFSph2,planeCon)\n",
    "print (testDF1.head(5))\n",
    "print ('Complete')"
   ]
  },
  {
   "cell_type": "code",
   "execution_count": 160,
   "metadata": {
    "ExecuteTime": {
     "end_time": "2022-02-17T01:32:50.743154Z",
     "start_time": "2022-02-17T01:32:45.473839Z"
    }
   },
   "outputs": [
    {
     "name": "stdout",
     "output_type": "stream",
     "text": [
      "Complete\n"
     ]
    }
   ],
   "source": [
    "hitDF = getHitDF(testDF1,energySpectrum,plane,q,dt,cartesian = True)\n",
    "# print (hitDF)\n",
    "print ('Complete')"
   ]
  },
  {
   "cell_type": "code",
   "execution_count": 164,
   "metadata": {
    "ExecuteTime": {
     "end_time": "2022-02-17T01:33:55.714245Z",
     "start_time": "2022-02-17T01:33:55.529000Z"
    }
   },
   "outputs": [
    {
     "data": {
      "application/vnd.plotly.v1+json": {
       "config": {
        "plotlyServerURL": "https://plot.ly"
       },
       "data": [
        {
         "hovertemplate": "Dist=%{x}<br>y=%{y}<br>E=%{marker.color}<extra></extra>",
         "legendgroup": "",
         "marker": {
          "color": [
           1,
           12,
           23,
           34,
           45,
           56,
           67,
           78,
           89,
           100
          ],
          "coloraxis": "coloraxis",
          "symbol": "circle"
         },
         "mode": "markers",
         "name": "",
         "orientation": "v",
         "showlegend": false,
         "type": "scatter",
         "x": [
          8.694749466957729e-12,
          6.443211151257276e-13,
          2.947229792724975e-13,
          1.711759797425445e-13,
          1.0841144857455566e-13,
          6.952780555765478e-14,
          4.2989865522118275e-14,
          2.52636122136566e-14,
          1.1682163181672949e-14,
          0
         ],
         "xaxis": "x",
         "y": [
          0,
          0,
          0,
          0,
          0,
          0,
          0,
          0,
          0,
          0
         ],
         "yaxis": "y"
        }
       ],
       "layout": {
        "coloraxis": {
         "colorbar": {
          "title": {
           "text": "E"
          }
         },
         "colorscale": [
          [
           0,
           "#0d0887"
          ],
          [
           0.1111111111111111,
           "#46039f"
          ],
          [
           0.2222222222222222,
           "#7201a8"
          ],
          [
           0.3333333333333333,
           "#9c179e"
          ],
          [
           0.4444444444444444,
           "#bd3786"
          ],
          [
           0.5555555555555556,
           "#d8576b"
          ],
          [
           0.6666666666666666,
           "#ed7953"
          ],
          [
           0.7777777777777778,
           "#fb9f3a"
          ],
          [
           0.8888888888888888,
           "#fdca26"
          ],
          [
           1,
           "#f0f921"
          ]
         ]
        },
        "legend": {
         "tracegroupgap": 0
        },
        "margin": {
         "t": 60
        },
        "template": {
         "data": {
          "bar": [
           {
            "error_x": {
             "color": "#2a3f5f"
            },
            "error_y": {
             "color": "#2a3f5f"
            },
            "marker": {
             "line": {
              "color": "#E5ECF6",
              "width": 0.5
             }
            },
            "type": "bar"
           }
          ],
          "barpolar": [
           {
            "marker": {
             "line": {
              "color": "#E5ECF6",
              "width": 0.5
             }
            },
            "type": "barpolar"
           }
          ],
          "carpet": [
           {
            "aaxis": {
             "endlinecolor": "#2a3f5f",
             "gridcolor": "white",
             "linecolor": "white",
             "minorgridcolor": "white",
             "startlinecolor": "#2a3f5f"
            },
            "baxis": {
             "endlinecolor": "#2a3f5f",
             "gridcolor": "white",
             "linecolor": "white",
             "minorgridcolor": "white",
             "startlinecolor": "#2a3f5f"
            },
            "type": "carpet"
           }
          ],
          "choropleth": [
           {
            "colorbar": {
             "outlinewidth": 0,
             "ticks": ""
            },
            "type": "choropleth"
           }
          ],
          "contour": [
           {
            "colorbar": {
             "outlinewidth": 0,
             "ticks": ""
            },
            "colorscale": [
             [
              0,
              "#0d0887"
             ],
             [
              0.1111111111111111,
              "#46039f"
             ],
             [
              0.2222222222222222,
              "#7201a8"
             ],
             [
              0.3333333333333333,
              "#9c179e"
             ],
             [
              0.4444444444444444,
              "#bd3786"
             ],
             [
              0.5555555555555556,
              "#d8576b"
             ],
             [
              0.6666666666666666,
              "#ed7953"
             ],
             [
              0.7777777777777778,
              "#fb9f3a"
             ],
             [
              0.8888888888888888,
              "#fdca26"
             ],
             [
              1,
              "#f0f921"
             ]
            ],
            "type": "contour"
           }
          ],
          "contourcarpet": [
           {
            "colorbar": {
             "outlinewidth": 0,
             "ticks": ""
            },
            "type": "contourcarpet"
           }
          ],
          "heatmap": [
           {
            "colorbar": {
             "outlinewidth": 0,
             "ticks": ""
            },
            "colorscale": [
             [
              0,
              "#0d0887"
             ],
             [
              0.1111111111111111,
              "#46039f"
             ],
             [
              0.2222222222222222,
              "#7201a8"
             ],
             [
              0.3333333333333333,
              "#9c179e"
             ],
             [
              0.4444444444444444,
              "#bd3786"
             ],
             [
              0.5555555555555556,
              "#d8576b"
             ],
             [
              0.6666666666666666,
              "#ed7953"
             ],
             [
              0.7777777777777778,
              "#fb9f3a"
             ],
             [
              0.8888888888888888,
              "#fdca26"
             ],
             [
              1,
              "#f0f921"
             ]
            ],
            "type": "heatmap"
           }
          ],
          "heatmapgl": [
           {
            "colorbar": {
             "outlinewidth": 0,
             "ticks": ""
            },
            "colorscale": [
             [
              0,
              "#0d0887"
             ],
             [
              0.1111111111111111,
              "#46039f"
             ],
             [
              0.2222222222222222,
              "#7201a8"
             ],
             [
              0.3333333333333333,
              "#9c179e"
             ],
             [
              0.4444444444444444,
              "#bd3786"
             ],
             [
              0.5555555555555556,
              "#d8576b"
             ],
             [
              0.6666666666666666,
              "#ed7953"
             ],
             [
              0.7777777777777778,
              "#fb9f3a"
             ],
             [
              0.8888888888888888,
              "#fdca26"
             ],
             [
              1,
              "#f0f921"
             ]
            ],
            "type": "heatmapgl"
           }
          ],
          "histogram": [
           {
            "marker": {
             "colorbar": {
              "outlinewidth": 0,
              "ticks": ""
             }
            },
            "type": "histogram"
           }
          ],
          "histogram2d": [
           {
            "colorbar": {
             "outlinewidth": 0,
             "ticks": ""
            },
            "colorscale": [
             [
              0,
              "#0d0887"
             ],
             [
              0.1111111111111111,
              "#46039f"
             ],
             [
              0.2222222222222222,
              "#7201a8"
             ],
             [
              0.3333333333333333,
              "#9c179e"
             ],
             [
              0.4444444444444444,
              "#bd3786"
             ],
             [
              0.5555555555555556,
              "#d8576b"
             ],
             [
              0.6666666666666666,
              "#ed7953"
             ],
             [
              0.7777777777777778,
              "#fb9f3a"
             ],
             [
              0.8888888888888888,
              "#fdca26"
             ],
             [
              1,
              "#f0f921"
             ]
            ],
            "type": "histogram2d"
           }
          ],
          "histogram2dcontour": [
           {
            "colorbar": {
             "outlinewidth": 0,
             "ticks": ""
            },
            "colorscale": [
             [
              0,
              "#0d0887"
             ],
             [
              0.1111111111111111,
              "#46039f"
             ],
             [
              0.2222222222222222,
              "#7201a8"
             ],
             [
              0.3333333333333333,
              "#9c179e"
             ],
             [
              0.4444444444444444,
              "#bd3786"
             ],
             [
              0.5555555555555556,
              "#d8576b"
             ],
             [
              0.6666666666666666,
              "#ed7953"
             ],
             [
              0.7777777777777778,
              "#fb9f3a"
             ],
             [
              0.8888888888888888,
              "#fdca26"
             ],
             [
              1,
              "#f0f921"
             ]
            ],
            "type": "histogram2dcontour"
           }
          ],
          "mesh3d": [
           {
            "colorbar": {
             "outlinewidth": 0,
             "ticks": ""
            },
            "type": "mesh3d"
           }
          ],
          "parcoords": [
           {
            "line": {
             "colorbar": {
              "outlinewidth": 0,
              "ticks": ""
             }
            },
            "type": "parcoords"
           }
          ],
          "pie": [
           {
            "automargin": true,
            "type": "pie"
           }
          ],
          "scatter": [
           {
            "marker": {
             "colorbar": {
              "outlinewidth": 0,
              "ticks": ""
             }
            },
            "type": "scatter"
           }
          ],
          "scatter3d": [
           {
            "line": {
             "colorbar": {
              "outlinewidth": 0,
              "ticks": ""
             }
            },
            "marker": {
             "colorbar": {
              "outlinewidth": 0,
              "ticks": ""
             }
            },
            "type": "scatter3d"
           }
          ],
          "scattercarpet": [
           {
            "marker": {
             "colorbar": {
              "outlinewidth": 0,
              "ticks": ""
             }
            },
            "type": "scattercarpet"
           }
          ],
          "scattergeo": [
           {
            "marker": {
             "colorbar": {
              "outlinewidth": 0,
              "ticks": ""
             }
            },
            "type": "scattergeo"
           }
          ],
          "scattergl": [
           {
            "marker": {
             "colorbar": {
              "outlinewidth": 0,
              "ticks": ""
             }
            },
            "type": "scattergl"
           }
          ],
          "scattermapbox": [
           {
            "marker": {
             "colorbar": {
              "outlinewidth": 0,
              "ticks": ""
             }
            },
            "type": "scattermapbox"
           }
          ],
          "scatterpolar": [
           {
            "marker": {
             "colorbar": {
              "outlinewidth": 0,
              "ticks": ""
             }
            },
            "type": "scatterpolar"
           }
          ],
          "scatterpolargl": [
           {
            "marker": {
             "colorbar": {
              "outlinewidth": 0,
              "ticks": ""
             }
            },
            "type": "scatterpolargl"
           }
          ],
          "scatterternary": [
           {
            "marker": {
             "colorbar": {
              "outlinewidth": 0,
              "ticks": ""
             }
            },
            "type": "scatterternary"
           }
          ],
          "surface": [
           {
            "colorbar": {
             "outlinewidth": 0,
             "ticks": ""
            },
            "colorscale": [
             [
              0,
              "#0d0887"
             ],
             [
              0.1111111111111111,
              "#46039f"
             ],
             [
              0.2222222222222222,
              "#7201a8"
             ],
             [
              0.3333333333333333,
              "#9c179e"
             ],
             [
              0.4444444444444444,
              "#bd3786"
             ],
             [
              0.5555555555555556,
              "#d8576b"
             ],
             [
              0.6666666666666666,
              "#ed7953"
             ],
             [
              0.7777777777777778,
              "#fb9f3a"
             ],
             [
              0.8888888888888888,
              "#fdca26"
             ],
             [
              1,
              "#f0f921"
             ]
            ],
            "type": "surface"
           }
          ],
          "table": [
           {
            "cells": {
             "fill": {
              "color": "#EBF0F8"
             },
             "line": {
              "color": "white"
             }
            },
            "header": {
             "fill": {
              "color": "#C8D4E3"
             },
             "line": {
              "color": "white"
             }
            },
            "type": "table"
           }
          ]
         },
         "layout": {
          "annotationdefaults": {
           "arrowcolor": "#2a3f5f",
           "arrowhead": 0,
           "arrowwidth": 1
          },
          "autotypenumbers": "strict",
          "coloraxis": {
           "colorbar": {
            "outlinewidth": 0,
            "ticks": ""
           }
          },
          "colorscale": {
           "diverging": [
            [
             0,
             "#8e0152"
            ],
            [
             0.1,
             "#c51b7d"
            ],
            [
             0.2,
             "#de77ae"
            ],
            [
             0.3,
             "#f1b6da"
            ],
            [
             0.4,
             "#fde0ef"
            ],
            [
             0.5,
             "#f7f7f7"
            ],
            [
             0.6,
             "#e6f5d0"
            ],
            [
             0.7,
             "#b8e186"
            ],
            [
             0.8,
             "#7fbc41"
            ],
            [
             0.9,
             "#4d9221"
            ],
            [
             1,
             "#276419"
            ]
           ],
           "sequential": [
            [
             0,
             "#0d0887"
            ],
            [
             0.1111111111111111,
             "#46039f"
            ],
            [
             0.2222222222222222,
             "#7201a8"
            ],
            [
             0.3333333333333333,
             "#9c179e"
            ],
            [
             0.4444444444444444,
             "#bd3786"
            ],
            [
             0.5555555555555556,
             "#d8576b"
            ],
            [
             0.6666666666666666,
             "#ed7953"
            ],
            [
             0.7777777777777778,
             "#fb9f3a"
            ],
            [
             0.8888888888888888,
             "#fdca26"
            ],
            [
             1,
             "#f0f921"
            ]
           ],
           "sequentialminus": [
            [
             0,
             "#0d0887"
            ],
            [
             0.1111111111111111,
             "#46039f"
            ],
            [
             0.2222222222222222,
             "#7201a8"
            ],
            [
             0.3333333333333333,
             "#9c179e"
            ],
            [
             0.4444444444444444,
             "#bd3786"
            ],
            [
             0.5555555555555556,
             "#d8576b"
            ],
            [
             0.6666666666666666,
             "#ed7953"
            ],
            [
             0.7777777777777778,
             "#fb9f3a"
            ],
            [
             0.8888888888888888,
             "#fdca26"
            ],
            [
             1,
             "#f0f921"
            ]
           ]
          },
          "colorway": [
           "#636efa",
           "#EF553B",
           "#00cc96",
           "#ab63fa",
           "#FFA15A",
           "#19d3f3",
           "#FF6692",
           "#B6E880",
           "#FF97FF",
           "#FECB52"
          ],
          "font": {
           "color": "#2a3f5f"
          },
          "geo": {
           "bgcolor": "white",
           "lakecolor": "white",
           "landcolor": "#E5ECF6",
           "showlakes": true,
           "showland": true,
           "subunitcolor": "white"
          },
          "hoverlabel": {
           "align": "left"
          },
          "hovermode": "closest",
          "mapbox": {
           "style": "light"
          },
          "paper_bgcolor": "white",
          "plot_bgcolor": "#E5ECF6",
          "polar": {
           "angularaxis": {
            "gridcolor": "white",
            "linecolor": "white",
            "ticks": ""
           },
           "bgcolor": "#E5ECF6",
           "radialaxis": {
            "gridcolor": "white",
            "linecolor": "white",
            "ticks": ""
           }
          },
          "scene": {
           "xaxis": {
            "backgroundcolor": "#E5ECF6",
            "gridcolor": "white",
            "gridwidth": 2,
            "linecolor": "white",
            "showbackground": true,
            "ticks": "",
            "zerolinecolor": "white"
           },
           "yaxis": {
            "backgroundcolor": "#E5ECF6",
            "gridcolor": "white",
            "gridwidth": 2,
            "linecolor": "white",
            "showbackground": true,
            "ticks": "",
            "zerolinecolor": "white"
           },
           "zaxis": {
            "backgroundcolor": "#E5ECF6",
            "gridcolor": "white",
            "gridwidth": 2,
            "linecolor": "white",
            "showbackground": true,
            "ticks": "",
            "zerolinecolor": "white"
           }
          },
          "shapedefaults": {
           "line": {
            "color": "#2a3f5f"
           }
          },
          "ternary": {
           "aaxis": {
            "gridcolor": "white",
            "linecolor": "white",
            "ticks": ""
           },
           "baxis": {
            "gridcolor": "white",
            "linecolor": "white",
            "ticks": ""
           },
           "bgcolor": "#E5ECF6",
           "caxis": {
            "gridcolor": "white",
            "linecolor": "white",
            "ticks": ""
           }
          },
          "title": {
           "x": 0.05
          },
          "xaxis": {
           "automargin": true,
           "gridcolor": "white",
           "linecolor": "white",
           "ticks": "",
           "title": {
            "standoff": 15
           },
           "zerolinecolor": "white",
           "zerolinewidth": 2
          },
          "yaxis": {
           "automargin": true,
           "gridcolor": "white",
           "linecolor": "white",
           "ticks": "",
           "title": {
            "standoff": 15
           },
           "zerolinecolor": "white",
           "zerolinewidth": 2
          }
         }
        },
        "xaxis": {
         "anchor": "y",
         "domain": [
          0,
          1
         ],
         "title": {
          "text": "Dist"
         }
        },
        "yaxis": {
         "anchor": "x",
         "domain": [
          0,
          1
         ],
         "title": {
          "text": "y"
         }
        }
       }
      },
      "text/html": [
       "<div>                            <div id=\"cf9ce8a5-2b0d-4f2a-8200-98d8ffac78cc\" class=\"plotly-graph-div\" style=\"height:525px; width:100%;\"></div>            <script type=\"text/javascript\">                require([\"plotly\"], function(Plotly) {                    window.PLOTLYENV=window.PLOTLYENV || {};                                    if (document.getElementById(\"cf9ce8a5-2b0d-4f2a-8200-98d8ffac78cc\")) {                    Plotly.newPlot(                        \"cf9ce8a5-2b0d-4f2a-8200-98d8ffac78cc\",                        [{\"hovertemplate\": \"Dist=%{x}<br>y=%{y}<br>E=%{marker.color}<extra></extra>\", \"legendgroup\": \"\", \"marker\": {\"color\": [1.0, 12.0, 23.0, 34.0, 45.0, 56.0, 67.0, 78.0, 89.0, 100.0], \"coloraxis\": \"coloraxis\", \"symbol\": \"circle\"}, \"mode\": \"markers\", \"name\": \"\", \"orientation\": \"v\", \"showlegend\": false, \"type\": \"scatter\", \"x\": [8.694749466957729e-12, 6.443211151257276e-13, 2.947229792724975e-13, 1.711759797425445e-13, 1.0841144857455566e-13, 6.952780555765478e-14, 4.2989865522118275e-14, 2.52636122136566e-14, 1.1682163181672949e-14, 0.0], \"xaxis\": \"x\", \"y\": [0.0, 0.0, 0.0, 0.0, 0.0, 0.0, 0.0, 0.0, 0.0, 0.0], \"yaxis\": \"y\"}],                        {\"coloraxis\": {\"colorbar\": {\"title\": {\"text\": \"E\"}}, \"colorscale\": [[0.0, \"#0d0887\"], [0.1111111111111111, \"#46039f\"], [0.2222222222222222, \"#7201a8\"], [0.3333333333333333, \"#9c179e\"], [0.4444444444444444, \"#bd3786\"], [0.5555555555555556, \"#d8576b\"], [0.6666666666666666, \"#ed7953\"], [0.7777777777777778, \"#fb9f3a\"], [0.8888888888888888, \"#fdca26\"], [1.0, \"#f0f921\"]]}, \"legend\": {\"tracegroupgap\": 0}, \"margin\": {\"t\": 60}, \"template\": {\"data\": {\"bar\": [{\"error_x\": {\"color\": \"#2a3f5f\"}, \"error_y\": {\"color\": \"#2a3f5f\"}, \"marker\": {\"line\": {\"color\": \"#E5ECF6\", \"width\": 0.5}}, \"type\": \"bar\"}], \"barpolar\": [{\"marker\": {\"line\": {\"color\": \"#E5ECF6\", \"width\": 0.5}}, \"type\": \"barpolar\"}], \"carpet\": [{\"aaxis\": {\"endlinecolor\": \"#2a3f5f\", \"gridcolor\": \"white\", \"linecolor\": \"white\", \"minorgridcolor\": \"white\", \"startlinecolor\": \"#2a3f5f\"}, \"baxis\": {\"endlinecolor\": \"#2a3f5f\", \"gridcolor\": \"white\", \"linecolor\": \"white\", \"minorgridcolor\": \"white\", \"startlinecolor\": \"#2a3f5f\"}, \"type\": \"carpet\"}], \"choropleth\": [{\"colorbar\": {\"outlinewidth\": 0, \"ticks\": \"\"}, \"type\": \"choropleth\"}], \"contour\": [{\"colorbar\": {\"outlinewidth\": 0, \"ticks\": \"\"}, \"colorscale\": [[0.0, \"#0d0887\"], [0.1111111111111111, \"#46039f\"], [0.2222222222222222, \"#7201a8\"], [0.3333333333333333, \"#9c179e\"], [0.4444444444444444, \"#bd3786\"], [0.5555555555555556, \"#d8576b\"], [0.6666666666666666, \"#ed7953\"], [0.7777777777777778, \"#fb9f3a\"], [0.8888888888888888, \"#fdca26\"], [1.0, \"#f0f921\"]], \"type\": \"contour\"}], \"contourcarpet\": [{\"colorbar\": {\"outlinewidth\": 0, \"ticks\": \"\"}, \"type\": \"contourcarpet\"}], \"heatmap\": [{\"colorbar\": {\"outlinewidth\": 0, \"ticks\": \"\"}, \"colorscale\": [[0.0, \"#0d0887\"], [0.1111111111111111, \"#46039f\"], [0.2222222222222222, \"#7201a8\"], [0.3333333333333333, \"#9c179e\"], [0.4444444444444444, \"#bd3786\"], [0.5555555555555556, \"#d8576b\"], [0.6666666666666666, \"#ed7953\"], [0.7777777777777778, \"#fb9f3a\"], [0.8888888888888888, \"#fdca26\"], [1.0, \"#f0f921\"]], \"type\": \"heatmap\"}], \"heatmapgl\": [{\"colorbar\": {\"outlinewidth\": 0, \"ticks\": \"\"}, \"colorscale\": [[0.0, \"#0d0887\"], [0.1111111111111111, \"#46039f\"], [0.2222222222222222, \"#7201a8\"], [0.3333333333333333, \"#9c179e\"], [0.4444444444444444, \"#bd3786\"], [0.5555555555555556, \"#d8576b\"], [0.6666666666666666, \"#ed7953\"], [0.7777777777777778, \"#fb9f3a\"], [0.8888888888888888, \"#fdca26\"], [1.0, \"#f0f921\"]], \"type\": \"heatmapgl\"}], \"histogram\": [{\"marker\": {\"colorbar\": {\"outlinewidth\": 0, \"ticks\": \"\"}}, \"type\": \"histogram\"}], \"histogram2d\": [{\"colorbar\": {\"outlinewidth\": 0, \"ticks\": \"\"}, \"colorscale\": [[0.0, \"#0d0887\"], [0.1111111111111111, \"#46039f\"], [0.2222222222222222, \"#7201a8\"], [0.3333333333333333, \"#9c179e\"], [0.4444444444444444, \"#bd3786\"], [0.5555555555555556, \"#d8576b\"], [0.6666666666666666, \"#ed7953\"], [0.7777777777777778, \"#fb9f3a\"], [0.8888888888888888, \"#fdca26\"], [1.0, \"#f0f921\"]], \"type\": \"histogram2d\"}], \"histogram2dcontour\": [{\"colorbar\": {\"outlinewidth\": 0, \"ticks\": \"\"}, \"colorscale\": [[0.0, \"#0d0887\"], [0.1111111111111111, \"#46039f\"], [0.2222222222222222, \"#7201a8\"], [0.3333333333333333, \"#9c179e\"], [0.4444444444444444, \"#bd3786\"], [0.5555555555555556, \"#d8576b\"], [0.6666666666666666, \"#ed7953\"], [0.7777777777777778, \"#fb9f3a\"], [0.8888888888888888, \"#fdca26\"], [1.0, \"#f0f921\"]], \"type\": \"histogram2dcontour\"}], \"mesh3d\": [{\"colorbar\": {\"outlinewidth\": 0, \"ticks\": \"\"}, \"type\": \"mesh3d\"}], \"parcoords\": [{\"line\": {\"colorbar\": {\"outlinewidth\": 0, \"ticks\": \"\"}}, \"type\": \"parcoords\"}], \"pie\": [{\"automargin\": true, \"type\": \"pie\"}], \"scatter\": [{\"marker\": {\"colorbar\": {\"outlinewidth\": 0, \"ticks\": \"\"}}, \"type\": \"scatter\"}], \"scatter3d\": [{\"line\": {\"colorbar\": {\"outlinewidth\": 0, \"ticks\": \"\"}}, \"marker\": {\"colorbar\": {\"outlinewidth\": 0, \"ticks\": \"\"}}, \"type\": \"scatter3d\"}], \"scattercarpet\": [{\"marker\": {\"colorbar\": {\"outlinewidth\": 0, \"ticks\": \"\"}}, \"type\": \"scattercarpet\"}], \"scattergeo\": [{\"marker\": {\"colorbar\": {\"outlinewidth\": 0, \"ticks\": \"\"}}, \"type\": \"scattergeo\"}], \"scattergl\": [{\"marker\": {\"colorbar\": {\"outlinewidth\": 0, \"ticks\": \"\"}}, \"type\": \"scattergl\"}], \"scattermapbox\": [{\"marker\": {\"colorbar\": {\"outlinewidth\": 0, \"ticks\": \"\"}}, \"type\": \"scattermapbox\"}], \"scatterpolar\": [{\"marker\": {\"colorbar\": {\"outlinewidth\": 0, \"ticks\": \"\"}}, \"type\": \"scatterpolar\"}], \"scatterpolargl\": [{\"marker\": {\"colorbar\": {\"outlinewidth\": 0, \"ticks\": \"\"}}, \"type\": \"scatterpolargl\"}], \"scatterternary\": [{\"marker\": {\"colorbar\": {\"outlinewidth\": 0, \"ticks\": \"\"}}, \"type\": \"scatterternary\"}], \"surface\": [{\"colorbar\": {\"outlinewidth\": 0, \"ticks\": \"\"}, \"colorscale\": [[0.0, \"#0d0887\"], [0.1111111111111111, \"#46039f\"], [0.2222222222222222, \"#7201a8\"], [0.3333333333333333, \"#9c179e\"], [0.4444444444444444, \"#bd3786\"], [0.5555555555555556, \"#d8576b\"], [0.6666666666666666, \"#ed7953\"], [0.7777777777777778, \"#fb9f3a\"], [0.8888888888888888, \"#fdca26\"], [1.0, \"#f0f921\"]], \"type\": \"surface\"}], \"table\": [{\"cells\": {\"fill\": {\"color\": \"#EBF0F8\"}, \"line\": {\"color\": \"white\"}}, \"header\": {\"fill\": {\"color\": \"#C8D4E3\"}, \"line\": {\"color\": \"white\"}}, \"type\": \"table\"}]}, \"layout\": {\"annotationdefaults\": {\"arrowcolor\": \"#2a3f5f\", \"arrowhead\": 0, \"arrowwidth\": 1}, \"autotypenumbers\": \"strict\", \"coloraxis\": {\"colorbar\": {\"outlinewidth\": 0, \"ticks\": \"\"}}, \"colorscale\": {\"diverging\": [[0, \"#8e0152\"], [0.1, \"#c51b7d\"], [0.2, \"#de77ae\"], [0.3, \"#f1b6da\"], [0.4, \"#fde0ef\"], [0.5, \"#f7f7f7\"], [0.6, \"#e6f5d0\"], [0.7, \"#b8e186\"], [0.8, \"#7fbc41\"], [0.9, \"#4d9221\"], [1, \"#276419\"]], \"sequential\": [[0.0, \"#0d0887\"], [0.1111111111111111, \"#46039f\"], [0.2222222222222222, \"#7201a8\"], [0.3333333333333333, \"#9c179e\"], [0.4444444444444444, \"#bd3786\"], [0.5555555555555556, \"#d8576b\"], [0.6666666666666666, \"#ed7953\"], [0.7777777777777778, \"#fb9f3a\"], [0.8888888888888888, \"#fdca26\"], [1.0, \"#f0f921\"]], \"sequentialminus\": [[0.0, \"#0d0887\"], [0.1111111111111111, \"#46039f\"], [0.2222222222222222, \"#7201a8\"], [0.3333333333333333, \"#9c179e\"], [0.4444444444444444, \"#bd3786\"], [0.5555555555555556, \"#d8576b\"], [0.6666666666666666, \"#ed7953\"], [0.7777777777777778, \"#fb9f3a\"], [0.8888888888888888, \"#fdca26\"], [1.0, \"#f0f921\"]]}, \"colorway\": [\"#636efa\", \"#EF553B\", \"#00cc96\", \"#ab63fa\", \"#FFA15A\", \"#19d3f3\", \"#FF6692\", \"#B6E880\", \"#FF97FF\", \"#FECB52\"], \"font\": {\"color\": \"#2a3f5f\"}, \"geo\": {\"bgcolor\": \"white\", \"lakecolor\": \"white\", \"landcolor\": \"#E5ECF6\", \"showlakes\": true, \"showland\": true, \"subunitcolor\": \"white\"}, \"hoverlabel\": {\"align\": \"left\"}, \"hovermode\": \"closest\", \"mapbox\": {\"style\": \"light\"}, \"paper_bgcolor\": \"white\", \"plot_bgcolor\": \"#E5ECF6\", \"polar\": {\"angularaxis\": {\"gridcolor\": \"white\", \"linecolor\": \"white\", \"ticks\": \"\"}, \"bgcolor\": \"#E5ECF6\", \"radialaxis\": {\"gridcolor\": \"white\", \"linecolor\": \"white\", \"ticks\": \"\"}}, \"scene\": {\"xaxis\": {\"backgroundcolor\": \"#E5ECF6\", \"gridcolor\": \"white\", \"gridwidth\": 2, \"linecolor\": \"white\", \"showbackground\": true, \"ticks\": \"\", \"zerolinecolor\": \"white\"}, \"yaxis\": {\"backgroundcolor\": \"#E5ECF6\", \"gridcolor\": \"white\", \"gridwidth\": 2, \"linecolor\": \"white\", \"showbackground\": true, \"ticks\": \"\", \"zerolinecolor\": \"white\"}, \"zaxis\": {\"backgroundcolor\": \"#E5ECF6\", \"gridcolor\": \"white\", \"gridwidth\": 2, \"linecolor\": \"white\", \"showbackground\": true, \"ticks\": \"\", \"zerolinecolor\": \"white\"}}, \"shapedefaults\": {\"line\": {\"color\": \"#2a3f5f\"}}, \"ternary\": {\"aaxis\": {\"gridcolor\": \"white\", \"linecolor\": \"white\", \"ticks\": \"\"}, \"baxis\": {\"gridcolor\": \"white\", \"linecolor\": \"white\", \"ticks\": \"\"}, \"bgcolor\": \"#E5ECF6\", \"caxis\": {\"gridcolor\": \"white\", \"linecolor\": \"white\", \"ticks\": \"\"}}, \"title\": {\"x\": 0.05}, \"xaxis\": {\"automargin\": true, \"gridcolor\": \"white\", \"linecolor\": \"white\", \"ticks\": \"\", \"title\": {\"standoff\": 15}, \"zerolinecolor\": \"white\", \"zerolinewidth\": 2}, \"yaxis\": {\"automargin\": true, \"gridcolor\": \"white\", \"linecolor\": \"white\", \"ticks\": \"\", \"title\": {\"standoff\": 15}, \"zerolinecolor\": \"white\", \"zerolinewidth\": 2}}}, \"xaxis\": {\"anchor\": \"y\", \"domain\": [0.0, 1.0], \"title\": {\"text\": \"Dist\"}}, \"yaxis\": {\"anchor\": \"x\", \"domain\": [0.0, 1.0], \"title\": {\"text\": \"y\"}}},                        {\"responsive\": true}                    ).then(function(){\n",
       "                            \n",
       "var gd = document.getElementById('cf9ce8a5-2b0d-4f2a-8200-98d8ffac78cc');\n",
       "var x = new MutationObserver(function (mutations, observer) {{\n",
       "        var display = window.getComputedStyle(gd).display;\n",
       "        if (!display || display === 'none') {{\n",
       "            console.log([gd, 'removed!']);\n",
       "            Plotly.purge(gd);\n",
       "            observer.disconnect();\n",
       "        }}\n",
       "}});\n",
       "\n",
       "// Listen for the removal of the full notebook cells\n",
       "var notebookContainer = gd.closest('#notebook-container');\n",
       "if (notebookContainer) {{\n",
       "    x.observe(notebookContainer, {childList: true});\n",
       "}}\n",
       "\n",
       "// Listen for the clearing of the current output cell\n",
       "var outputEl = gd.closest('.output');\n",
       "if (outputEl) {{\n",
       "    x.observe(outputEl, {childList: true});\n",
       "}}\n",
       "\n",
       "                        })                };                });            </script>        </div>"
      ]
     },
     "metadata": {},
     "output_type": "display_data"
    }
   ],
   "source": [
    "# distanceArray = []\n",
    "# for key in hitDictionary:\n",
    "#     hitVector = hitDictionary[key]\n",
    "#     for i in range(np.shape(hitVector)[0]):\n",
    "#         point = hitVector[i]\n",
    "#         distanceArray.append(distance(point,plane[0]))\n",
    "conList = np.unique(hitDF.ConNo)\n",
    "EList = np.unique(hitDF.E)\n",
    "\n",
    "selectionDF = hitDF[hitDF.ConNo == conList[0]]\n",
    "\n",
    "# fig = px.scatter(hitDF[hitDF.E == EList[2]], x=\"x\", y=\"y\", color='E')\n",
    "# fig = px.scatter(hitDF[hitDF.ConNo == conList[1]], x='Dist', y=\"y\", color='E')\n",
    "fig = px.scatter(selectionDF,x = 'Dist',y = np.zeros(np.shape(selectionDF.Dist)),color = 'E',\n",
    "#                 log_x = True\n",
    "                )\n",
    "# fig = px.scatter(hitDF,x='x',y='y',color = 'E')\n",
    "fig.show()"
   ]
  },
  {
   "cell_type": "markdown",
   "metadata": {},
   "source": [
    "check to see if the distance between each point goes like 1/E"
   ]
  },
  {
   "cell_type": "code",
   "execution_count": 30,
   "metadata": {
    "ExecuteTime": {
     "end_time": "2022-02-16T19:33:31.839651Z",
     "start_time": "2022-02-16T19:33:31.811994Z"
    }
   },
   "outputs": [
    {
     "name": "stdout",
     "output_type": "stream",
     "text": [
      "Complete\n"
     ]
    }
   ],
   "source": [
    "def translateDF(selectionDF,plane):\n",
    "    p0 = plane[0]\n",
    "    translatedDF = selectionDF.copy()\n",
    "    translatedDF.x = p0[0]-selectionDF.x\n",
    "    translatedDF.y = p0[1]-selectionDF.y\n",
    "    translatedDF.z = p0[2]-selectionDF.z\n",
    "    return translatedDF\n",
    "\n",
    "transDF = (translateDF(selectionDF,plane))\n",
    "\n",
    "print ('Complete')\n"
   ]
  },
  {
   "cell_type": "markdown",
   "metadata": {},
   "source": [
    "_______________________"
   ]
  },
  {
   "cell_type": "code",
   "execution_count": null,
   "metadata": {},
   "outputs": [],
   "source": [
    "hitDictionary = getHitDictionary(testDF1,energySpectrum,plane,q,dt,cartesian = True)\n",
    "\n",
    "\n",
    "distanceArray = []\n",
    "for key in hitDictionary:\n",
    "    hitVector = hitDictionary[key]\n",
    "    for i in range(np.shape(hitVector)[0]):\n",
    "        point = hitVector[i]\n",
    "        distanceArray.append(distance(point,plane[0]))\n",
    "\n",
    "# print (distanceArray)\n",
    "print ('Locations x Spectra points: ',len(testDF1)*len(hitDictionary.keys()))\n",
    "print ('Unique Hits on Detector   : ',len(np.unique(np.asarray(distanceArray))))\n",
    "zeroArray = np.zeros(np.shape(distanceArray)[0])\n",
    "fig3 = plt.figure(figsize = (8,8))\n",
    "plt.plot(distanceArray,zeroArray,'.')\n",
    "plt.xlabel('Distance from plane reference point [au]', size = 16)\n",
    "plt.show()"
   ]
  },
  {
   "cell_type": "code",
   "execution_count": null,
   "metadata": {},
   "outputs": [],
   "source": []
  },
  {
   "cell_type": "code",
   "execution_count": null,
   "metadata": {},
   "outputs": [],
   "source": []
  },
  {
   "cell_type": "code",
   "execution_count": null,
   "metadata": {},
   "outputs": [],
   "source": []
  }
 ],
 "metadata": {
  "kernelspec": {
   "display_name": "Python 3",
   "language": "python",
   "name": "python3"
  },
  "language_info": {
   "codemirror_mode": {
    "name": "ipython",
    "version": 3
   },
   "file_extension": ".py",
   "mimetype": "text/x-python",
   "name": "python",
   "nbconvert_exporter": "python",
   "pygments_lexer": "ipython3",
   "version": "3.8.3"
  },
  "latex_envs": {
   "LaTeX_envs_menu_present": true,
   "autoclose": false,
   "autocomplete": true,
   "bibliofile": "biblio.bib",
   "cite_by": "apalike",
   "current_citInitial": 1,
   "eqLabelWithNumbers": true,
   "eqNumInitial": 1,
   "hotkeys": {
    "equation": "Ctrl-E",
    "itemize": "Ctrl-I"
   },
   "labels_anchors": false,
   "latex_user_defs": false,
   "report_style_numbering": false,
   "user_envs_cfg": false
  },
  "toc": {
   "base_numbering": 1,
   "nav_menu": {},
   "number_sections": true,
   "sideBar": true,
   "skip_h1_title": false,
   "title_cell": "Table of Contents",
   "title_sidebar": "Contents",
   "toc_cell": false,
   "toc_position": {},
   "toc_section_display": true,
   "toc_window_display": false
  },
  "varInspector": {
   "cols": {
    "lenName": 16,
    "lenType": 16,
    "lenVar": 40
   },
   "kernels_config": {
    "python": {
     "delete_cmd_postfix": "",
     "delete_cmd_prefix": "del ",
     "library": "var_list.py",
     "varRefreshCmd": "print(var_dic_list())"
    },
    "r": {
     "delete_cmd_postfix": ") ",
     "delete_cmd_prefix": "rm(",
     "library": "var_list.r",
     "varRefreshCmd": "cat(var_dic_list()) "
    }
   },
   "types_to_exclude": [
    "module",
    "function",
    "builtin_function_or_method",
    "instance",
    "_Feature"
   ],
   "window_display": false
  }
 },
 "nbformat": 4,
 "nbformat_minor": 4
}

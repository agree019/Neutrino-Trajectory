{
 "cells": [
  {
   "cell_type": "markdown",
   "metadata": {},
   "source": [
    "# Neutrino Trajectories"
   ]
  },
  {
   "cell_type": "markdown",
   "metadata": {},
   "source": [
    "## Imports"
   ]
  },
  {
   "cell_type": "code",
   "execution_count": 1,
   "metadata": {
    "ExecuteTime": {
     "end_time": "2022-07-15T20:21:09.504331Z",
     "start_time": "2022-07-15T20:21:03.269178Z"
    }
   },
   "outputs": [
    {
     "data": {
      "text/html": [
       "        <script type=\"text/javascript\">\n",
       "        window.PlotlyConfig = {MathJaxConfig: 'local'};\n",
       "        if (window.MathJax) {MathJax.Hub.Config({SVG: {font: \"STIX-Web\"}});}\n",
       "        if (typeof require !== 'undefined') {\n",
       "        require.undef(\"plotly\");\n",
       "        requirejs.config({\n",
       "            paths: {\n",
       "                'plotly': ['https://cdn.plot.ly/plotly-latest.min']\n",
       "            }\n",
       "        });\n",
       "        require(['plotly'], function(Plotly) {\n",
       "            window._Plotly = Plotly;\n",
       "        });\n",
       "        }\n",
       "        </script>\n",
       "        "
      ]
     },
     "metadata": {},
     "output_type": "display_data"
    },
    {
     "name": "stdout",
     "output_type": "stream",
     "text": [
      "Complete\n"
     ]
    }
   ],
   "source": [
    "import numpy as np\n",
    "import pandas as pd\n",
    "import matplotlib as mpl\n",
    "\n",
    "import scipy.interpolate as interpolate\n",
    "import scipy.integrate as integrate\n",
    "\n",
    "import matplotlib.pyplot as plt\n",
    "from mpl_toolkits.mplot3d import Axes3D\n",
    "from random import random\n",
    "\n",
    "import plotly\n",
    "import plotly.express as px\n",
    "import plotly.offline as offline\n",
    "offline.init_notebook_mode(connected=True)\n",
    "import plotly.graph_objs as go\n",
    "import plotly.tools as tls\n",
    "\n",
    "from sklearn.preprocessing import normalize\n",
    "\n",
    "\n",
    "%matplotlib inline \n",
    "\n",
    "print ('Complete')"
   ]
  },
  {
   "cell_type": "markdown",
   "metadata": {},
   "source": [
    "## Function Definitions"
   ]
  },
  {
   "cell_type": "code",
   "execution_count": 2,
   "metadata": {
    "ExecuteTime": {
     "end_time": "2022-07-15T20:21:09.983371Z",
     "start_time": "2022-07-15T20:21:09.528476Z"
    },
    "code_folding": [
     4,
     20,
     29,
     35,
     38,
     41,
     44,
     47,
     50,
     53,
     62,
     65,
     69,
     85,
     105,
     133,
     172,
     259,
     269,
     450,
     528,
     577,
     609,
     624,
     647,
     689,
     706,
     739,
     766,
     801,
     837,
     870,
     887,
     933,
     952,
     980,
     996,
     1007,
     1021,
     1055,
     1070
    ]
   },
   "outputs": [
    {
     "name": "stdout",
     "output_type": "stream",
     "text": [
      "Complete\n"
     ]
    }
   ],
   "source": [
    "rDot = 0.00465047 # in au\n",
    "rHalf = rDot/2\n",
    "lightTime = 1 # in Au/C\n",
    "\n",
    "def sph2Cartesian(rVect):\n",
    "    '''\n",
    "    Input: rVect - the 3-position in r,theta,phi\n",
    "    \n",
    "    Returns: [X,Y,Z] - the cartesian location \n",
    "    '''\n",
    "    r = rVect[0]\n",
    "    theta = rVect[1]\n",
    "    phi = rVect[2]\n",
    "\n",
    "    X = r*np.sin(theta)*np.cos(phi)\n",
    "    Y = r*np.sin(theta)*np.sin(phi)\n",
    "    Z = r*np.cos(theta)\n",
    "\n",
    "    return [X,Y,Z]\n",
    "    \n",
    "def distance(vect1,vect2):\n",
    "    ''' \n",
    "    vect1 and vect2 must be in cartesian coordinates\n",
    "    Returns the distance between vect1 and vect2\n",
    "    '''\n",
    "    x,y,z = vect1[0],vect1[1],vect1[2]\n",
    "    x0,y0,z0 = vect2[0],vect2[1],vect2[2]\n",
    "    return np.sqrt( (x-x0)**2 + (y-y0)**2 +(z-z0)**2 )\n",
    "\n",
    "def norm(cartesianVector):\n",
    "    x = cartesianVector[0]\n",
    "    y = cartesianVector[1]\n",
    "    z = cartesianVector[2]\n",
    "    return (np.sqrt(x**2+y**2+z**2))\n",
    "\n",
    "def km2au(num):\n",
    "    return num*6.6846e-9\n",
    "\n",
    "def sec2geVInv(num):\n",
    "    return 1.52E24* num\n",
    "\n",
    "def km2geVInv(num):\n",
    "    return 5.06E18*num\n",
    "\n",
    "def geVInv2km(num):\n",
    "    return 5.06E18**-1 * num\n",
    "\n",
    "def geVInv2au(num):\n",
    "    return num*5.06*10**13 * 10**-5 *6.6846*10**-9\n",
    "\n",
    "def au2km(num):\n",
    "    return num*1.496e+8\n",
    "\n",
    "def auOverc2min(num):\n",
    "    return 8.3167464*num \n",
    "\n",
    "def tesla2MeV2(num):\n",
    "    return num*5.848e-11\n",
    "\n",
    "def MeV22tesla(num):\n",
    "    return num/5.848e-11\n",
    "\n",
    "def MeV2Joule(num):\n",
    "    return num*1.6022e-13\n",
    "\n",
    "def rFunction(x,y,z):\n",
    "    return np.sqrt(x**2+y**2+z**2)\n",
    "\n",
    "\n",
    "def cosBeta(vec1,vec2):\n",
    "    ''' \n",
    "    Returns cos of the angle between 3-vectors vec1 and vec2\n",
    "    '''\n",
    "    x1 = vec1[0]\n",
    "    y1 = vec1[1]\n",
    "    z1 = vec1[2]\n",
    "    x2 = vec2[0]\n",
    "    y2 = vec2[1]\n",
    "    z2 = vec2[2]\n",
    "\n",
    "    numerator = (x1*x2) + (y1*y2) + (z1*z2) \n",
    "    denominator = np.sqrt(x1**2 +y1**2 +z1**2) * np.sqrt(x2**2 +y2**2 +z2**2 )\n",
    "    return (numerator/denominator)\n",
    "\n",
    "\n",
    "def posAvg(r1,r2):\n",
    "    ''' \n",
    "    Averages two position 3-vectors\n",
    "    r1 is the initial position 3-vector\n",
    "    r2 is the final position 3-vector\n",
    "    '''\n",
    "    x1 = r1[0]\n",
    "    y1 = r1[1]\n",
    "    z1 = r1[2]\n",
    "    x2 = r2[0]\n",
    "    y2 = r2[1]\n",
    "    z2 = r2[2]\n",
    "\n",
    "    xavg = (x2+x1)/2\n",
    "    yavg = (y2+y1)/2\n",
    "    zavg = (z2+z1)/2\n",
    "\n",
    "    return [xavg,yavg,zavg]\n",
    "\n",
    "\n",
    "def velocityAvg(r1, r2):\n",
    "    '''\n",
    "    Newtonian estimate of the velocity vector between two locations.\n",
    "\n",
    "    r1 and r2 are both velocity 3-vectors in cartesian\n",
    "\n",
    "    returns the cartesian 3-velocity \n",
    "\n",
    "    eg: vAvgX = x1 + 1/2*(deltaX)\n",
    "    '''\n",
    "    x1 = r1[0]\n",
    "    y1 = r1[1]\n",
    "    z1 = r1[2]\n",
    "    x2 = r2[0]\n",
    "    y2 = r2[1]\n",
    "    z2 = r2[2]\n",
    "\n",
    "    deltavX = x2 - x1\n",
    "    deltavY = y2 - y1\n",
    "    deltavZ = z2 - z1\n",
    "\n",
    "    vavgX = x1 + (1/2)*deltavX\n",
    "    vavgY = y1 + (1/2)*deltavY\n",
    "    vavgZ = z1 + (1/2)*deltavZ\n",
    "\n",
    "    return [vavgX,vavgY,vavgZ]\n",
    "\n",
    "\n",
    "def conditionSph2Car(sphCon,row='Null'):\n",
    "    '''\n",
    "    sphCon: one six-dimensional array consisting of [r,theta,phi,vr,thetaDot,phiDot]\n",
    "    '''\n",
    "    r,theta,phi = sphCon[0],sphCon[1],sphCon[2]\n",
    "    vr,vtheta,vphi = sphCon[3],sphCon[4],sphCon[5]\n",
    "    \n",
    "    thetaDot = vtheta/(r*np.sin(theta))\n",
    "    phiDot   = vphi/r\n",
    "    x = r*np.sin(theta)*np.cos(phi)\n",
    "    y = r*np.sin(theta)*np.sin(phi)\n",
    "    z = r*np.cos(theta)\n",
    "\n",
    "    vx = vr*np.sin(theta)*np.cos(phi) + thetaDot*r*np.cos(theta)*np.cos(phi) - phiDot*r*np.sin(theta)*np.sin(phi)\n",
    "    vy = vr*np.sin(theta)*np.sin(phi) + thetaDot*r*np.cos(theta)*np.sin(phi) + phiDot*r*np.sin(theta)*np.cos(phi)\n",
    "    vz = vr*np.cos(theta)             - thetaDot*r*np.sin(theta)\n",
    "    \n",
    "    error = 0.000000001\n",
    "    assert r-(error*r) <= np.sqrt(x**2 + y**2 + z**2) <= r+(error*r), \\\n",
    "    \"Row {0}: Cartesian <-> spherical distance larger than {1}% incorrect\".format(row,100*error)\n",
    "    \n",
    "    zeroLimit = 1e-15\n",
    "    if (np.abs(x) <= zeroLimit):\n",
    "        x=0\n",
    "    if (np.abs(y) <= zeroLimit):\n",
    "        y=0\n",
    "    if (np.abs(z) <= zeroLimit):\n",
    "        z=0\n",
    "        \n",
    "    if (np.abs(vx) <= zeroLimit):\n",
    "        vx=0\n",
    "    if (np.abs(vy) <= zeroLimit):\n",
    "        vy=0\n",
    "    if (np.abs(vz) <= zeroLimit):\n",
    "        vz=0\n",
    "    \n",
    "    return [x,y,z,vx,vy,vz]\n",
    "\n",
    "\n",
    "def conditionCar2Sph(carCon,row = 'Null'):\n",
    "    x,y,z    = carCon[0],carCon[1],carCon[2]\n",
    "    vx,vy,vz = carCon[3],carCon[4],carCon[5]\n",
    "    \n",
    "    r     = np.sqrt(x**2+y**2+z**2)\n",
    "    theta = np.arctan2(np.sqrt(x**2 + y**2),z) \n",
    "    phi   = np.arctan2(y,x)\n",
    "#     print ('pos',r,theta,phi)\n",
    "      \n",
    "    vr     = (x*vx+y*vy+z*vz)/r\n",
    "    vtheta = 1/np.sin(theta) * z/r**2 * (x*vx+y*vy+z*vz)**(-3/2) -vz/r\n",
    "    vphi   = (np.cos(theta)/x)**2*(x*vy-y*vx)\n",
    "#     print('vel',vr,vtheta,vphi)\n",
    "    \n",
    "    return [r,theta,phi,vr,vtheta,vphi]\n",
    "      \n",
    "    \n",
    "# def bField(x,y,z,mA):\n",
    "#     '''\n",
    "#     Returns cartesian components of the B-field measured in MeV^2 at location x,y,z.\n",
    "    \n",
    "#     x,y,z must be in cartesian coordinates measured in Au\n",
    "#     '''\n",
    "#     assert x**2 + y**2 > 0, 'bField function, both x & y zero simultaneously'\n",
    "# #  T = 1 kg⋅s−2⋅A−1 = N s / C m = kg / C s \n",
    "# #    = [mass] / [charge] [time]\n",
    "\n",
    "#     # 3.3 in nT\n",
    "#     BrSun     = 0\n",
    "# #     BthetaSun = 3.3e-9/np.sqrt(2) * 1/rFunction(x,y,z)\n",
    "#     BthetaSun = 0\n",
    "#     BphiSun   = 3.3e-9/np.sqrt(2) * 1/rFunction(x,y,z)\n",
    "# #     BphiSun = 0\n",
    "\n",
    "#     # Spherical unit vector decompositions\n",
    "#     # Schematically, we decompose rhat = Axhat + Byhat + Czhat and read off the ABC from wiki\n",
    "#     # The arguments of the ABCs are the cartesian location where we are evaluating the B field\n",
    "#     def A(x,y,z):\n",
    "#         return x/np.sqrt(x**2 +y**2 +z**2)\n",
    "\n",
    "#     def B(x,y,z):\n",
    "#         return y/np.sqrt(x**2 +y**2 +z**2)\n",
    "\n",
    "#     def C(x,y,z):\n",
    "#         return z/np.sqrt(x**2 +y**2 +z**2)\n",
    "\n",
    "#     def D(x,y,z):\n",
    "#         return x*z / (np.sqrt(x**2 +y**2 +z**2) * np.sqrt(x**2+y**2))\n",
    "\n",
    "#     def E(x,y,z):\n",
    "#         return y*z / (np.sqrt(x**2 +y**2 +z**2) * np.sqrt(x**2+y**2))\n",
    "        \n",
    "#     def F(x,y,z): \n",
    "#         return -(x**2 + y**2) / (np.sqrt(x**2 +y**2 +z**2) * np.sqrt(x**2+y**2)) \n",
    "\n",
    "#     def G(x,y,z):\n",
    "#         return -y / np.sqrt(x**2 + y**2)\n",
    "\n",
    "#     def H(x,y,z):\n",
    "#         return x / np.sqrt(x**2 + y**2)\n",
    "\n",
    "#     def I(x,y,z):\n",
    "#         return 0\n",
    "\n",
    "# #     BxSun = BrSun * A(x,y,z) + BthetaSun * D(x,y,z) + BphiSun * G(x,y,z)\n",
    "# #     BySun = BrSun * B(x,y,z) + BthetaSun * E(x,y,z) + BphiSun * H(x,y,z)\n",
    "# #     BzSun = BrSun * C(x,y,z) + BthetaSun * F(x,y,z) + BphiSun * I(x,y,z)\n",
    "\n",
    "#     # Earth Magnetic field is 25-65 nanoTesla at the Surface\n",
    "#     mu0 = 4e-7*np.pi\n",
    "#     rOrbit = 1\n",
    "    \n",
    "#     BxEarth = 0\n",
    "#     ByEarth = 0\n",
    "# #     BzEarth = 45e-6/(rFunction(x,y,z)-rOrbit)\n",
    "#     BzEarth = 0\n",
    "    \n",
    "#     BxSun = 0\n",
    "#     BySun = 0\n",
    "#     BzSun = 1.5e-17 # We choose 1.5e-17 Tesla for the energy range for phi(E)\n",
    "\n",
    "#     BxTotal, ByTotal, BzTotal = BxSun+BxEarth, BySun+ByEarth, BzSun+BzEarth\n",
    "#     return (tesla2MeV2(BxTotal), tesla2MeV2(ByTotal), tesla2MeV2(BzTotal))\n",
    "# #     return ((BxTotal), (ByTotal), (BzTotal))\n",
    "\n",
    "\n",
    "\n",
    "def acceleration_normed(vel, pos):\n",
    "    '''\n",
    "    Returns acceleration of a unit charge of unit mass with velocity vel at position pos\n",
    "    '''\n",
    "    x = pos[0]\n",
    "    y = pos[1]\n",
    "    z = pos[2]\n",
    "    return np.cross(vel,bField(x,y,z,mA)) \n",
    "\n",
    "\n",
    "def step(pos, vel, acc, dt, q_by_E):\n",
    "    '''Computes the new position given the old position, velocity, acceleration, and dt\n",
    "    using the simplest differential equation solver.\n",
    "    '''\n",
    "    \n",
    "    x,y,z = pos[0],pos[1],pos[2]\n",
    "    \n",
    "\n",
    "    return next_pos, next_vel, next_acc\n",
    "\n",
    "\n",
    "def trajectorySolver(initialConditions, q_e, E_MeV, dt1, mA, epsilon):\n",
    "    '''\n",
    "    Inputs:\n",
    "        initialConditions: array of [r0,v0] in cartesian coordinates\n",
    "                           in units of au and \"c\" respectively\n",
    "        q : the electric charge in units of \"e\"\n",
    "        m : the mass/energy of the particle in MeV.\n",
    "        dt: the time increment between each step in Au/c\n",
    "\n",
    "    Returns:\n",
    "        trajectory: the 3-vector (x,y,z), the position of the neutrino at each step\n",
    "        velocity  : the 3-vector (vX,vY,vZ), the velocity of the neutrino at each step\n",
    "    '''\n",
    "#     print ('trajSolver|initialConditions:',initialConditions)\n",
    "    r0 = initialConditions[0:3] # In units of au\n",
    "#     print ('trajSolver|r0',r0)\n",
    "    v0 = initialConditions[3:6] # In units of c\n",
    "#     assert ((r0[0] != 0) or (r0[1] !=0)), \"X and Y initial positions cannot be simultaneously zero. See Jacobian tranformation in the definition of bField.\"\n",
    "    assert ((r0[0] != 0) and (r0[1] !=0)), \"X and Y initial positions cannot be simultaneously zero. See Jacobian tranformation in the definition of bField.\"\n",
    "\n",
    "    q_by_E = q_e/E_MeV\n",
    "#     print ('q/E',q_by_E)\n",
    "\n",
    "    # pos = np.array([r0[0],r0[1],r0[2]])\n",
    "    # vel = np.array([v0[0],v0[1],v0[2]]) \n",
    "    pos = np.asarray(r0)\n",
    "#     print ('trajSolver|pos',pos)\n",
    "    vel = np.asarray(v0)\n",
    "#     print ('trajSolver|vel',vel)\n",
    "#     print ('x,y,z,vx,vy,vz|BEFORE',xPoints,yPoints,zPoints,vxPoints,vyPoints,vzPoints)\n",
    "    xPoints=[] # record of x-values\n",
    "    yPoints=[] # record of y-values\n",
    "    zPoints=[] # record of z-values\n",
    "    vxPoints=[] # record of x-velocities\n",
    "    vyPoints=[] # record of y-velocities\n",
    "    vzPoints=[] # record of z-velocities\n",
    "#     print ('x,y,z,vx,vy,vz|AFTER',xPoints,yPoints,zPoints,vxPoints,vyPoints,vzPoints)\n",
    "\n",
    "    BValue = bField(pos[0],pos[1],pos[2],mA,epsilon)# Used only in calculating the magnitude for the epsilon check\n",
    "    BMagnitude = MeV22tesla(np.sqrt(np.dot(BValue,BValue)))\n",
    "#     print ('TrajSolver| BMagnitude: ', (BMagnitude))\n",
    "#     print ('E_MeV     : ', E_MeV)\n",
    "\n",
    "######### Check if the condition even hits Earth #########\n",
    "    ep = epsilonFunc(BMagnitude,E_MeV)\n",
    "    if ep >= 2:\n",
    "        return 'F'\n",
    "    #     print ('ep   : ', ep)\n",
    "\n",
    "    \n",
    "######### If it hits earth, calculate trajectory #########\n",
    "    def dvdt(pos,vel,dt,q_by_E):\n",
    "        x,y,z = pos[0],pos[1],pos[2]\n",
    "        return q_by_E*np.cross(vel,bField(x,y,z,mA,epsilon))\n",
    "\n",
    "    def drdt(pos,vel,dt,q_by_E):\n",
    "        return vel\n",
    "    \n",
    "    # Need dt in MeVInv to update the velocities\n",
    "    dt = sec2geVInv(auOverc2min(dt1)*60)*10**-3 # This is dt in MeVInv\n",
    "    \n",
    "######### Initialize half values #########\n",
    "    x_half = pos[0] + 0.5*dt1*drdt(pos,vel,dt1,q_by_E)[0]\n",
    "    y_half = pos[1] + 0.5*dt1*drdt(pos,vel,dt1,q_by_E)[1]\n",
    "    z_half = pos[2] + 0.5*dt1*drdt(pos,vel,dt1,q_by_E)[2]\n",
    "    \n",
    "    vx_half = vel[0] + 0.5*dt*dvdt(pos,vel,dt,q_by_E)[0]\n",
    "    vy_half = vel[1] + 0.5*dt*dvdt(pos,vel,dt,q_by_E)[1]\n",
    "    vz_half = vel[2] + 0.5*dt*dvdt(pos,vel,dt,q_by_E)[2]\n",
    "    \n",
    "######### Normalize the Half Velocity #########\n",
    "    vHalfNorm = np.sqrt(vx_half**2 + vy_half**2 + vz_half**2)\n",
    "    vx_half = vx_half/vHalfNorm\n",
    "    vy_half = vy_half/vHalfNorm\n",
    "    vz_half = vz_half/vHalfNorm\n",
    "    \n",
    "    posHalf = [x_half,y_half,z_half]\n",
    "    velHalf = [vx_half,vy_half,vz_half]\n",
    "\n",
    "    \n",
    "#     print ('trajSolver,above distance',pos)\n",
    "    distance = np.sqrt(pos[0]**2 + pos[1]**2 + pos[2]**2)\n",
    "#     print ('trajSolver|distance:',distance)\n",
    "    assert distance < 1, 'trajectorySolver: Distance larger than 1'\n",
    "    \n",
    "    earthDist = 1.0\n",
    "    newDistance = 0\n",
    "#     print ('trajSolver|StartLoop|IC',initialConditions)\n",
    "    \n",
    "#     print ('Initial Pos   : {0}'.format(pos))\n",
    "#     print ('Initial Vel   : {0}'.format(vel))\n",
    "#     print ('Initial 1/2Pos: {0}'.format(posHalf))\n",
    "#     print ('Initial 1/2Vel: {0}'.format(velHalf))\n",
    "\n",
    "    i = 0\n",
    "    while distance < earthDist:\n",
    "#         if i <= 3:\n",
    "#             print ('--------------')\n",
    "#             print ('index:', i)\n",
    "#             rposition = pos[0],pos[1],pos[2]\n",
    "#             print ('location:',np.sqrt(np.dot(rposition,rposition)))\n",
    "# #             print (bField(pos[0],pos[1],pos[2],mA))\n",
    "#             bJunk = MeV22tesla(np.sqrt(np.dot(bField(pos[0],pos[1],pos[2],mA,epsilon),bField(pos[0],pos[1],pos[2],mA,epsilon))))\n",
    "#             print ('bJunk:', bJunk, ' Tesla')\n",
    "        # Append Points\n",
    "        xPoints.append(pos[0])\n",
    "        yPoints.append(pos[1])\n",
    "        zPoints.append(pos[2])\n",
    "\n",
    "######### Normalize Velocity #########\n",
    "        velPrecision = 1e-5\n",
    "        velNorm = np.sqrt(vel[0]**2 + vel[1]**2 + vel[2]**2)\n",
    "        vel[0] = vel[0]/velNorm\n",
    "        vel[1] = vel[1]/velNorm\n",
    "        vel[2] = vel[2]/velNorm\n",
    "#         if (np.abs(1-velNorm) >= velPrecision ):\n",
    "#             print ('Velocity normalization outside precision {0}'.format(velPrecision))\n",
    "#         print ('VelNorm', velNorm)\n",
    "\n",
    "        vxPoints.append(vel[0])\n",
    "        vyPoints.append(vel[1])\n",
    "        vzPoints.append(vel[2])\n",
    "        \n",
    "        # We put the distance update specifically here so that \n",
    "        # we record the last distance that is larger than 1\n",
    "        newDistance = np.sqrt(pos[0]**2 + pos[1]**2 + pos[2]**2)\n",
    "#         assert newDistance>=distance, 'Step {0}, Particle never hits Earth.'.format(i)\n",
    "#         if newDistance > distance: \n",
    "#             print ('Never Hits Earth')\n",
    "#             break\n",
    "#         print ('distance',distance)\n",
    "        distance = newDistance\n",
    "        # Leapfrog\n",
    "        # I actually don't know which of these should come first...\n",
    "\n",
    "        pos[0] += dt1*drdt(posHalf,velHalf,dt1,q_by_E)[0]\n",
    "        pos[1] += dt1*drdt(posHalf,velHalf,dt1,q_by_E)[1]\n",
    "        pos[2] += dt1*drdt(posHalf,velHalf,dt1,q_by_E)[2]\n",
    "        vel[0] += dt*dvdt(posHalf,velHalf,dt,q_by_E)[0]\n",
    "        vel[1] += dt*dvdt(posHalf,velHalf,dt,q_by_E)[1]\n",
    "        vel[2] += dt*dvdt(posHalf,velHalf,dt,q_by_E)[2] \n",
    "        \n",
    "        posHalf[0] += dt1*drdt(pos,vel,dt1,q_by_E)[0]\n",
    "        posHalf[1] += dt1*drdt(pos,vel,dt1,q_by_E)[1]\n",
    "        posHalf[2] += dt1*drdt(pos,vel,dt1,q_by_E)[2]\n",
    "        velHalf[0] += dt*dvdt(pos,vel,dt,q_by_E)[0]\n",
    "        velHalf[1] += dt*dvdt(pos,vel,dt,q_by_E)[1]\n",
    "        velHalf[2] += dt*dvdt(pos,vel,dt,q_by_E)[2]\n",
    "        i+=1\n",
    "           \n",
    "#         print ('end single dt')\n",
    "#     print ('pos,vel|END',pos,vel)\n",
    "#     print ('x,y,z,vx,vy,vz|ENDLOOP|Start',xPoints[0],yPoints[0],zPoints[0],vxPoints[0],vyPoints[0],vzPoints[0])\n",
    "#     print ('x,y,z,vx,vy,vz|ENDLOOP|End',xPoints[-1],yPoints[-1],zPoints[-1],vxPoints[-1],vyPoints[-1],vzPoints[-1])\n",
    "#         print ('TrajSolver| Loop| x,y,z:',xPoints[-1],yPoints[-1],zPoints[-1])\n",
    "    \n",
    "    trajectory = [xPoints,yPoints,zPoints]\n",
    "    velocity   = [vxPoints,vyPoints,vzPoints]\n",
    "#     trajTime = auOverc2min(len(trajectory[0])*dt)\n",
    "#     assert(trajTime > auOverc2min(lightTime)), \"Trajectory Time: {0} min. Neutrino is moving faster than light.\".format(trajTime)\n",
    "#     if (trajTime < auOverc2min(lightTime)):\n",
    "#         print ('WARNING: neutrino moving faster than light. Change dt')\n",
    "#         print ('Current dt: ',dt)\n",
    "#     if (len(trajectory[0]) <= 2):\n",
    "#         print ('WARNING: only two data points in the trajectory. Decrease dt')\n",
    "#         print ('Current dt: ',dt)\n",
    "    return (trajectory,velocity)\n",
    "\n",
    "\n",
    "\n",
    "def sphDF2CarDF(dataDFSph):\n",
    "    columns = ['ConNo','x','y','z','vx','vy','vz','L','cosBeta']\n",
    "    dataDFCar = pd.DataFrame(columns=columns)\n",
    "    \n",
    "    for row in dataDFSph.ConNo:\n",
    "        sphCon = np.asarray(dataDFSph.loc[row]['r':'vPhi'])\n",
    "        L = dataDFSph.L[row]\n",
    "        cosBeta = dataDFSph.cosBeta[row]\n",
    "        carCon = conditionSph2Car(sphCon,row)\n",
    "\n",
    "        x = carCon[0]\n",
    "        y = carCon[1]\n",
    "        z = carCon[2]\n",
    "        vx = carCon[3]\n",
    "        vy = carCon[4]\n",
    "        vz = carCon[5]\n",
    "\n",
    "        appendThis = ({'ConNo': int(row),'x':x,'y':y,'z':z,'vx':vx,'vy':vy,'vz':vz,'L':L,'cosBeta':cosBeta})\n",
    "        dataDFCar = dataDFCar.append(appendThis,ignore_index=True)\n",
    "    return dataDFCar\n",
    "\n",
    "\n",
    "# def lossFunction(trajectorySolverOutput):\n",
    "#     '''\n",
    "#     This breaks for vmax 3 digits and larger\n",
    "#     vmax = 99 is fine, but vmax = 100 breaks this function\n",
    "#     '''\n",
    "#     positions = trajectorySolverOutput[0]\n",
    "#     zlocations = positions[2]\n",
    "#     zLoss = (zlocations[-1] + zlocations[-2]) * 0.5\n",
    "#     return zLoss\n",
    "\n",
    "\n",
    "# def endingAngle(trajectorySolverOutput):\n",
    "#     positions   = trajectorySolverOutput[0]\n",
    "#     velocities  = trajectorySolverOutput[1]\n",
    "#     x,y,z       = positions[0],positions[1],positions[2]\n",
    "#     vx,vy,vz    = velocities[0],velocities[1],velocities[2]\n",
    "#     lastPos     = [x[-1],y[-1],z[-1]]\n",
    "#     nextlastPos = [x[-2],y[-2],z[-2]]\n",
    "#     avgPos      = np.asarray(posAvg(nextlastPos,lastPos))\n",
    "#     lastVel     = [vx[-1],vy[-1],vz[-1]]\n",
    "#     nextlastVel = [vx[-2],vy[-2],vz[-2]]\n",
    "#     avgVel      = np.asarray(velocityAvg(lastVel,nextlastVel))\n",
    "        \n",
    "#     return cosBeta(avgVel,avgPos)\n",
    "\n",
    "\n",
    "# def computeLossAndBeta(dataDFSph,q,m,dt):\n",
    "#     for row in np.arange(0,(dataDFSph.shape[0])):\n",
    "#         ICSph = np.asarray(dataDFSph.loc[row]['r':'vPhi'])\n",
    "#         ICCar = conditionSph2Car(ICSph,row)\n",
    "            \n",
    "#         output = trajectorySolver(ICCar,q,m,dt,mA)\n",
    "        \n",
    "#         loss = lossFunction(output)\n",
    "#         cosBeta = endingAngle(output)        \n",
    "\n",
    "#         dataDFSph.iloc[row]['L'] = loss\n",
    "#         dataDFSph.iloc[row]['cosBeta'] = cosBeta\n",
    "#     return dataDFSph\n",
    "\n",
    "# def computeLossAndBeta(condition,q,m,dt,cartesian = False):\n",
    "#     if not cartesian: \n",
    "#         ICCar = conditionSph2Car(condition)\n",
    "\n",
    "#     if cartesian:\n",
    "#         ICCar = condition\n",
    "\n",
    "#     output = trajectorySolver(ICCar,q,m,dt,mA)\n",
    "#     loss = lossFunction(output)\n",
    "#     cosB = endingAngle(output)        \n",
    "    \n",
    "# #     dataDF.iloc[row]['L'] = loss\n",
    "# #     dataDF.iloc[row]['cosBeta'] = cosBeta\n",
    "#     return loss,cosB\n",
    "\n",
    "\n",
    "def determineDetectorPlane(dataDFSph,q,m,dt,rHatPerp = True):\n",
    "    '''\n",
    "    Input:\n",
    "        dataDFSph: The initial condition data frame in spherical coordinates. \n",
    "                   This function converts to cartesian \n",
    "        q,m,dt   : The usual conditions required to evolve trajectories\n",
    "        \n",
    "    Returns:\n",
    "        planePos: a point in space within the plane in cartesian\n",
    "        planeVel: the unnormalized normal vector for the plane in cartesian\n",
    "        \n",
    "        \n",
    "    rHatPerp: This option sets the normal of the plane to the -rhat direction and also\n",
    "              assigns to each initial velocity, the velocity of the condition used\n",
    "              to determine the plane. All initial velocities should point in the same\n",
    "              direction.\n",
    "    '''\n",
    "    planeConditionSph   = np.asarray(dataDFSph.loc[0]['r':'vPhi'])\n",
    "    planeConditionCar   = conditionSph2Car(planeConditionSph)\n",
    "    output              = trajectorySolver(planeConditionCar,q,m,dt,mA)\n",
    "    planeTraj, planeVel = output[0], output[1]\n",
    "    \n",
    "    r1 = np.transpose(planeTraj)[-1]\n",
    "    r2 = np.transpose(planeTraj)[-2]    \n",
    "    \n",
    "    v1 = np.transpose(planeVel)[-1]\n",
    "    v2 = np.transpose(planeVel)[-2]\n",
    "    \n",
    "#     planePos = posAvg(r2,r1)\n",
    "    planePos = get1au(output)\n",
    "    \n",
    "    auLimit = 1e-10\n",
    "    planeDist = np.sqrt(np.dot(planePos,planePos))\n",
    "    if (1-planeDist >= auLimit):\n",
    "        print ('WARNING: Plane distance larger than {:.2e} km away from earth'.format(au2km(auLimit)))\n",
    "        print ('Plane distance: {0} au'.format(planeDist))\n",
    "\n",
    "    planeVel = velocityAvg(r2,r1)\n",
    "    \n",
    "    # This defines the normal of the plane to be pointing back to the\n",
    "    # origin from the point that defines the location of the plane.\n",
    "    if rHatPerp:\n",
    "        planeVel = np.multiply(-1,planePos)\n",
    "        sphCon = planeConditionSph[0:6]\n",
    "        return (planePos,planeVel,sphCon)\n",
    "    \n",
    "    return (planePos,planeVel,sphCon)\n",
    "\n",
    "\n",
    "def get1au(trajectorySolverOutput):\n",
    "    '''\n",
    "    Obtains the location on the line connecting the last and next to last\n",
    "        positions that is exactly 1au away from the origin (sun).\n",
    "    \n",
    "    trajectorySolverOutput: The exact output from trajectorySolver\n",
    "    \n",
    "    returns: the location for a given trajectory that is 1au away from the origin in cartesian\n",
    "    '''\n",
    "    positions   = trajectorySolverOutput[0]\n",
    "    x,y,z       = positions[0],positions[1],positions[2]\n",
    "    r1 = [x[-1],y[-1],z[-1]]\n",
    "    r2 = [x[-2],y[-2],z[-2]]\n",
    "    r1 = np.asarray(r1)\n",
    "    r2 = np.asarray(r2)\n",
    "    \n",
    "    a = np.dot(r1-r2,r1-r2)\n",
    "    b = np.multiply(2,(np.dot(r2,(r1-r2))))\n",
    "    c = np.dot(r2,r2)-1**2\n",
    "    \n",
    "    tStarP = (-b+np.sqrt(b**2-4*a*c)) / (2*a)\n",
    "    tStarM = (-b-np.sqrt(b**2-4*a*c)) / (2*a)\n",
    "    tStar = None\n",
    "    if tStarP >= 0:\n",
    "        tStar = tStarP\n",
    "    if tStarM > 0:\n",
    "        tStar = tStarM\n",
    "        \n",
    "    oneauPosition = r2 + (r1-r2)*tStar\n",
    "    return oneauPosition\n",
    "\n",
    "\n",
    "def planeDistance(Spoint,Ppoint,Pnorm):\n",
    "    '''\n",
    "    Spoint: An arbitrary point in space\n",
    "    Ppoint: A point on the plane\n",
    "    Pnorm : The normal vector of the plane\n",
    "    Note  : All points must be in cartesian\n",
    "    \n",
    "    Returns the perpindicular distance between Spoint and the plane\n",
    "    Note: We leave the distance \"signed\" in order to make the computation easier \n",
    "    '''\n",
    "    numerator   = (np.dot(Spoint,Pnorm)-np.dot(Ppoint,Pnorm))\n",
    "    denominator = np.dot(Pnorm,Pnorm)**0.5\n",
    "    return numerator/denominator\n",
    "\n",
    "\n",
    "def planeLineIntersection(line,plane):\n",
    "    '''\n",
    "    Inputs are tuples of vectors\n",
    "    \n",
    "    line: [point1, point2], line starts at r1 and ends at r2 in cartesian\n",
    "    plane: [point, normal], plane parameters in cartesian\n",
    "    \n",
    "    Returns: intersection, the cartesian location of the intersection of line and plane\n",
    "    '''\n",
    "    \n",
    "    p0 = np.asarray(plane[0])\n",
    "    n  = np.asarray(plane[1])\n",
    "    r1 = np.asarray(line[0])\n",
    "    r2 = np.asarray(line[1])\n",
    "    \n",
    "    numerator = (np.dot(n,p0))-(np.dot(n,r1))\n",
    "    denominator = (np.dot(n,(r2-r1)))\n",
    "    \n",
    "    tStar = numerator / denominator\n",
    "    intersection = r1 + tStar*(r2-r1)\n",
    "    return (intersection)\n",
    "\n",
    "\n",
    "def trajectoryHit(InitialCondition,plane,q,m,dt,cartesian = True):\n",
    "    '''\n",
    "    InitialCondition must be given in spherical coordinates. \n",
    "    It is then converted to cartesian within this function.\n",
    "    \n",
    "    plane: tuple of [p0,n], the point and normal of the plane\n",
    "    \n",
    "    returns: hit location on the plane in cartesian\n",
    "    '''\n",
    "    \n",
    "    if not cartesian:\n",
    "        carCon = conditionSph2Car(InitialCondition)\n",
    "    \n",
    "    if cartesian:\n",
    "        carCon = InitialCondition\n",
    "    \n",
    "#     print ('trajHit|carCon____Before',carCon)\n",
    "    output = trajectorySolver(carCon,q,m,dt,mA)\n",
    "#     print ('trajHit|carCon____After',carCon)\n",
    "    \n",
    "    traj, vel = np.asarray(output[0]),np.asarray(output[1])\n",
    "    \n",
    "    r1 = np.transpose(traj)[-2] # Line starts at r1\n",
    "    r2 = np.transpose(traj)[-1] # and ends at r2\n",
    "    line = [r1,r2]\n",
    "    \n",
    "    p0 = plane[0]\n",
    "    n  = plane[1]\n",
    "    \n",
    "    hitPoint = planeLineIntersection(line,plane)\n",
    "    \n",
    "    rPrime = -(hitPoint-r1) # This minus sign prevents all the angles from being negative at the end\n",
    "    numerator = np.dot(rPrime,n)\n",
    "    denominator = np.sqrt(np.dot(rPrime,rPrime))*np.sqrt(np.dot(n,n))\n",
    "#     print('Numerator:',numerator)\n",
    "#     print('Denominator:',denominator)\n",
    "#     print('Ratio:', numerator/denominator)\n",
    "#     assert numerator/denominator <= 1, 'ratio greater than 1'\n",
    "    cosBeta = (numerator/denominator)\n",
    "    return (hitPoint,cosBeta)\n",
    "\n",
    "\n",
    "def planeHitCheck(plane,point):\n",
    "    '''\n",
    "    This function ensures that the point is actually contained in the plane.\n",
    "    \n",
    "    Plane: Tuple of [point,normal] in cartesian\n",
    "    Point: 3-vector of [x,y,z] in cartesian\n",
    "    \n",
    "    Returns: None\n",
    "    If any point is NOT contained within the plane, this will trigger an assertion error\n",
    "    '''\n",
    "    p0 = plane[0]\n",
    "    n  = plane[1]\n",
    "    hitCondition = np.dot(n,(point-p0))\n",
    "    assert hitCondition <= 1e-14, \"Trajectory doesn't hit plane within error.\"\n",
    "    return None\n",
    "\n",
    "    \n",
    "def makeInitialConditions(numConditions):\n",
    "    rHalf = rDot/2\n",
    "    positionRange = np.arange(0,numConditions)\n",
    "\n",
    "    columns = ['ConNo','r','theta','phi','vr','vTheta','vPhi','L','cosBeta']\n",
    "    dataDFSph = pd.DataFrame(columns=columns)\n",
    "\n",
    "    vr = 1\n",
    "    v1 = [vr,0,0]\n",
    "    row = int(0)\n",
    "    for i in positionRange:\n",
    "\n",
    "        randPhi = random()*2*np.pi\n",
    "        randTheta = random()*np.pi\n",
    "\n",
    "        p1 = [rHalf,randTheta,randPhi]\n",
    "\n",
    "        initialCondition = np.concatenate((p1,v1))\n",
    "\n",
    "        r      = p1[0]\n",
    "        theta  = p1[1]\n",
    "        phi    = p1[2]\n",
    "        vr     = v1[0]\n",
    "        vtheta = v1[1]\n",
    "        vphi   = v1[2]\n",
    "\n",
    "        appendThis = ({'ConNo':row,'r':r,'theta':theta,'phi':phi,'vr':vr,'vTheta':vtheta,'vPhi':vphi,'L':0,'cosBeta':0})\n",
    "#         appendThis = ({'r':r,'theta':theta,'phi':phi,'vr':vr,'vTheta':vtheta,'vPhi':vphi})\n",
    "        dataDFSph = dataDFSph.append(appendThis,ignore_index=True)\n",
    "        row += 1\n",
    "    return dataDFSph\n",
    "\n",
    "\n",
    "def updateVelocities(dataDFSph2,planeCon):\n",
    "    carCon = conditionSph2Car(planeCon)\n",
    "    dataDFCar2 = sphDF2CarDF(dataDFSph2)\n",
    "\n",
    "    dataDFCar2.vx = carCon[3]\n",
    "    dataDFCar2.vy = carCon[4]\n",
    "    dataDFCar2.vz = carCon[5]\n",
    "    return dataDFCar2\n",
    "\n",
    "\n",
    "# def getPlaneHits(dataDFCar2,q,E,dt,cartesian = True):\n",
    "#     hitVector = []\n",
    "#     for row in np.arange(0,(dataDFCar2.shape[0])):\n",
    "#         ICCar = np.asarray(dataDFCar2.loc[row]['x':'vz']) \n",
    "        \n",
    "#         if type(E) != int:\n",
    "#             E = np.mean(E)\n",
    "        \n",
    "#         planePos, planeVel, planeCon =  determineDetectorPlane(dataDFSph2,q,E,dt,True)\n",
    "#         plane = [planePos,planeVel]\n",
    "        \n",
    "#         hitLocation = trajectoryHit(ICCar,plane,q,E,dt,cartesian = True)\n",
    "#         planeHitCheck(plane,hitLocation)\n",
    "#         hitVector.append(hitLocation) \n",
    "#         return hitVector\n",
    "\n",
    "    \n",
    "def getHitDictionary(updatedDF,energySpectrum,plane,q,dt,cartesian = True):\n",
    "    '''\n",
    "    udpatedDF: The initial condition dataframe after the plane has been calculated and\n",
    "               all velocities have been updated to match the plane condition.\n",
    "               energySpectrum: The energy spectrum of the neutrinos in MeV\n",
    "    plane: The first two outputs of the \"determineDetectorPlane\" function grouped as\n",
    "           an array\n",
    "    energySpectrum: Array of neutrino energies in MeV \n",
    "    q        : Electric charge in units of e\n",
    "    dt       : Time step in units of au/c\n",
    "    cartesian: Boolean stating if updatedDF is in Cartesian. (It should be)\n",
    "    '''\n",
    "    assert ('vx' in (updatedDF.columns)), 'Dataframe not in cartesian. Convert to cartesian using \"sphDF2CarDF\".'\n",
    "    \n",
    "    assert (len(updatedDF.vx.unique())==1), 'Not all x-velocities identical. Did you run \"updateVelocities\" the velocities after calculating the plane?'\n",
    "    assert (len(updatedDF.vy.unique())==1), 'Not all y-velocities identical. Did you run \"updateVelocities\" the velocities after calculating the plane?'\n",
    "    assert (len(updatedDF.vz.unique())==1), 'Not all z-velocities identical. Did you run \"updateVelocities\" the velocities after calculating the plane?'\n",
    "    \n",
    "    cartesian1 = cartesian\n",
    "    hitVector = []\n",
    "    hitDictionary = itterativeDict()\n",
    "    # for row in range(0,(ICDFUpdate.shape[0])):\n",
    "    for row in range(0,(updatedDF.shape[0])):\n",
    "        for energy in energySpectrum:\n",
    "            ICCar = np.asarray(updatedDF.iloc[row]['x':'vz'])\n",
    "            hitLocation = trajectoryHit(ICCar,plane,q,energy,dt,cartesian1)\n",
    "#             print (energy,hitLocation)\n",
    "            planeHitCheck(plane,hitLocation)\n",
    "            hitVector.append(hitLocation)\n",
    "            key = energy\n",
    "            value = hitVector\n",
    "            hitDictionary.update(key,value)\n",
    "    return hitDictionary\n",
    "\n",
    "\n",
    "def getHitDF(inputDF,energy,plane,q,dt,cartesian = True):\n",
    "    '''\n",
    "    inputDF: Initial condition dataframe in cartesian\n",
    "    energySpectrum: The energy spectrum of the neutrinos in MeV\n",
    "    plane: The first two outputs of the \"determineDetectorPlane\" function grouped as\n",
    "           an array\n",
    "    energySpectrum: Array of neutrino energies in MeV \n",
    "    q        : Electric charge in units of e\n",
    "    dt       : Time step in units of au/c\n",
    "    cartesian: Boolean stating if inputDF is in Cartesian. (It should be)\n",
    "    '''\n",
    "#     assert ('vx' in (inputDF.columns)), 'Dataframe not in cartesian. Convert to cartesian using \"sphDF2CarDF\".'\n",
    "    \n",
    "#     assert (len(inputDF.vx.unique())==1), 'Not all x-velocities identical. Did you run \"updateVelocities\" the velocities after calculating the plane?'\n",
    "#     assert (len(inputDF.vy.unique())==1), 'Not all y-velocities identical. Did you run \"updateVelocities\" the velocities after calculating the plane?'\n",
    "#     assert (len(inputDF.vz.unique())==1), 'Not all z-velocities identical. Did you run \"updateVelocities\" the velocities after calculating the plane?'\n",
    "    \n",
    "    cartesian1 = cartesian\n",
    "    hitVector = []\n",
    "    columns = ['ConNo','x','y','z','Dist','E','cosBeta']\n",
    "    hitDF = pd.DataFrame(columns=columns)\n",
    "    p0 = plane[0]\n",
    "    for row in inputDF.ConNo:    \n",
    "        ICCar = np.asarray(inputDF.loc[row]['x':'vz'])\n",
    "        hitParameters = trajectoryHit(ICCar,plane,q,energy,dt,cartesian1)\n",
    "        hitLocation, hitAngle = hitParameters[0],hitParameters[1]\n",
    "        # hitAngle is cos(beta), the angle of intersection between the trjectory and the plane\n",
    "#             planeHitCheck(plane,hitLocation)\n",
    "        hitDistance = distance(hitLocation,p0)\n",
    "        x,y,z = hitLocation[0],hitLocation[1],hitLocation[2]\n",
    "\n",
    "        appendThis = ({'ConNo':row,'x':x,'y':y,'z':z,'Dist':hitDistance,'E':energy,'Beta':hitAngle})\n",
    "        hitDF = hitDF.append(appendThis,ignore_index=True)\n",
    "    return hitDF\n",
    "\n",
    "\n",
    "def plotConditions(dataDFSph2,coneSize = 0.5):\n",
    "    dataDFCar = sphDF2CarDF(dataDFSph2)\n",
    "    x,y,z = dataDFCar.x,dataDFCar.y,dataDFCar.z\n",
    "    loss = dataDFCar.L\n",
    "    vx,vy,vz = dataDFCar.vx,dataDFCar.vy,dataDFCar.vz\n",
    "\n",
    "    # Trajectories\n",
    "    fig1 = go.Figure(data=go.Cone(\n",
    "    x=x, \n",
    "    y=y, \n",
    "    z=z, \n",
    "    u=vx, \n",
    "    v=vy, \n",
    "    w=vz,\n",
    "    #     sizemode = 'absolute',\n",
    "    sizeref = coneSize\n",
    "    ))\n",
    "\n",
    "    # Add the location of the sun\n",
    "    fig1.add_trace(\n",
    "    go.Scatter3d(\n",
    "        x=[0],\n",
    "        y=[0],\n",
    "        z=[0],\n",
    "        mode = 'markers',\n",
    "        marker = dict(\n",
    "            size = 6,\n",
    "            color = 'orange')\n",
    "                )\n",
    "            )\n",
    "    fig1.show()\n",
    "\n",
    "    \n",
    "def radialCheck(sphdf):\n",
    "    for row in sphdf.ConNo:\n",
    "        theta = sphdf.loc[row]['theta']\n",
    "        phi   = sphdf.loc[row]['phi']\n",
    "        thetaHat = np.asarray([np.cos(theta)*np.cos(phi),np.cos(theta)*np.sin(phi),-np.sin(theta)])\n",
    "        phiHat   = np.asarray([-np.sin(phi),np.cos(phi),0])\n",
    "        \n",
    "        cardf = sphDF2CarDF(sphdf)\n",
    "        velocity = cardf.loc[row]['vx':'vz']\n",
    "        tperp    = np.dot(velocity,thetaHat)\n",
    "        pperp    = np.dot(velocity,phiHat)\n",
    "        \n",
    "#         assert tperp != 0, 'dot with thetaHat zero'\n",
    "        assert pperp != 0, 'dot with phiHat zero'\n",
    "    return None\n",
    "\n",
    "\n",
    "def plotTraj(ICSphDF,q,m,dt,row = 0):\n",
    "    '''\n",
    "    dataDFSph2: Initial Condition dataframe in spherical\n",
    "    '''\n",
    "    conditionSph = np.asarray(ICSphDF.loc[row]['r':'vPhi'])\n",
    "    conditionCar = conditionSph2Car(conditionSph)\n",
    "    output = trajectorySolver(conditionCar,q,m,dt,mA)\n",
    "    trajectory = output[0]\n",
    "    velocity   = output[1]\n",
    "\n",
    "    x,y,z = trajectory[0],trajectory[1],trajectory[2]\n",
    "\n",
    "    trace1 = go.Scatter3d(\n",
    "        x=x,\n",
    "        y=y,\n",
    "        z=z,\n",
    "        mode = 'markers',\n",
    "        marker=dict(\n",
    "            size=2,\n",
    "            color = x,\n",
    "            colorscale='Viridis'\n",
    "        )\n",
    "    )\n",
    "\n",
    "    data1 = [trace1]\n",
    "    fig1 = go.Figure(data=data1)\n",
    "    fig1.update_layout(\n",
    "        scene = dict(\n",
    "            zaxis = dict(range=[-10*max(z),10*max(z)])\n",
    "        )\n",
    "    )\n",
    "\n",
    "    fig1.add_trace(\n",
    "        go.Scatter3d(\n",
    "            x=[0],\n",
    "            y=[0],\n",
    "            z=[0],\n",
    "            mode = 'markers',\n",
    "            marker = dict(\n",
    "                size = 6,\n",
    "                color = 'orange')\n",
    "                    )\n",
    "                )\n",
    "    offline.iplot(fig1, filename='simple-3d-scatter')\n",
    "    \n",
    "    \n",
    "def computeBeta(ICSph,q,E,dt,mA,epsilon,rHatPerp = True):\n",
    "    '''\n",
    "    Input:\n",
    "        ICSph  : The initial condition in spherical coordinates. \n",
    "        q,E,dt : The usual conditions required to evolve trajectories\n",
    "        \n",
    "    Returns:\n",
    "        cosBeta: cosine of the angle between the plane (radial) and the direction of travel\n",
    "                 of the neutrino at 1au\n",
    "    '''\n",
    "    ICCar           = conditionSph2Car(ICSph)\n",
    "    output          = trajectorySolver(ICCar,q,E,dt,mA,epsilon)\n",
    "#     print ('output:', output)\n",
    "    if output == 'F':\n",
    "        return ('F')\n",
    "    phis = phiFunc(output)\n",
    "    return phis\n",
    "\n",
    "\n",
    "def phiFunc(trajOutput):\n",
    "    pos = trajOutput[0]\n",
    "    velocities = trajOutput[1]\n",
    "    x,y,z = pos[0],pos[1],pos[2]\n",
    "    \n",
    "    r2 = np.asarray([x[-2],y[-2],z[-2]])\n",
    "    r1 = np.asarray([x[-1],y[-1],z[-1]])\n",
    "    deltaR = (r1-r2)\n",
    "    \n",
    "    rlast = r1\n",
    "    \n",
    "    ########## Subtraction method ##########\n",
    "    alpha1 = np.arctan2(rlast[1], rlast[0])\n",
    "    beta1 = np.arctan2(deltaR[1],(deltaR[0]))\n",
    "#     phi1 = ((alpha1 - beta1)*180/np.pi)\n",
    "    phi1 = -(alpha1-beta1)\n",
    "    \n",
    "    ########## Dot product Method ##########\n",
    "\n",
    "    numerator = np.dot(deltaR,rlast)\n",
    "    denominator = np.sqrt(np.dot(deltaR,deltaR))*np.sqrt(np.dot(rlast,rlast))\n",
    "    beta2 = np.arccos(numerator/denominator)\n",
    "#     phi2 = ((beta2)*180/np.pi)%90\n",
    "    phi2 = beta2\n",
    "    \n",
    "    return (phi1,phi2) \n",
    "   \n",
    "    \n",
    "def betaFunc(plane,line):\n",
    "    p0,n = plane[0],plane[1]\n",
    "#     print (p0)\n",
    "#     print (n)\n",
    "#     print (line)\n",
    "    numerator = np.dot(n,line)\n",
    "    denominator = np.sqrt(np.dot(n,n))* np.sqrt(np.dot(line,line))\n",
    "#     print (numerator)\n",
    "#     print (denominator)\n",
    "    cosBeta = numerator / denominator\n",
    "    error = 1e-8\n",
    "#     if 1 <= cosBeta < 1+error:\n",
    "#         cosBeta = 1.0\n",
    "    return cosBeta\n",
    "\n",
    "\n",
    "def epsilonFunc(BTesla,EMeV):\n",
    "    BMeV2 = tesla2MeV2(BTesla)\n",
    "    rSync = EMeV / (c*q*BMeV2) # In MeV^-1\n",
    "    rOrbit = km2geVInv(au2km(1))/1000 # In MeV^-1\n",
    "    ep = rOrbit/rSync\n",
    "#     if 0<=ep.any()<=2:\n",
    "#     print ('From the derivation, we have ...ArcCos(1-1/2 ep^2)')\n",
    "#     print ('Epsilon outside physical range')\n",
    "    return ep\n",
    "\n",
    "\n",
    "def EgivenB(BTesla, epsilon = 2):\n",
    "    '''\n",
    "    Given B in tesla, return the value of E in MeV subject to epsilon <= 2 from the geometric argument\n",
    "    \n",
    "    This sets the minimum energy for a trajectory that will intersect with Earth.\n",
    "    Any energy lower will bend too much, and never intersect with Earth.\n",
    "    In application, it is usefull to round up the leading digit to avoid any numerical errors later on.\n",
    "    '''\n",
    "    c = 1\n",
    "    q = 0.3\n",
    "    E = km2geVInv(au2km(1))/1000*q*c*tesla2MeV2(BTesla)/epsilon\n",
    "    return (E)\n",
    "\n",
    "\n",
    "def derivative(f,a,h,method='forward'):\n",
    "    '''Compute the difference formula for f'(a) with step size h.\n",
    "    \n",
    "    Taken from https://personal.math.ubc.ca/~pwalls/math-python/differentiation/differentiation/\n",
    "\n",
    "    Parameters\n",
    "    ----------\n",
    "    f : function\n",
    "        Vectorized function of one variable\n",
    "    a : number\n",
    "        Compute derivative at x = a\n",
    "    method : string\n",
    "        Difference formula: 'forward', 'backward' or 'central'\n",
    "    h : number\n",
    "        Step size in difference formula\n",
    "\n",
    "    Returns\n",
    "    -------\n",
    "    float\n",
    "        Difference formula:\n",
    "            central: f(a+h) - f(a-h))/2h\n",
    "            forward: f(a+h) - f(a))/h\n",
    "            backward: f(a) - f(a-h))/h            \n",
    "    '''\n",
    "    if method == 'central':\n",
    "        return (f(a + h) - f(a - h))/(2*h)\n",
    "    elif method == 'forward':\n",
    "        return (f(a + h) - f(a))/h\n",
    "    elif method == 'backward':\n",
    "        return (f(a) - f(a - h))/h\n",
    "    else:\n",
    "        raise ValueError(\"Method must be 'central', 'forward' or 'backward'.\")\n",
    "        \n",
    "           \n",
    "def L1Norm(vector, binSpacing):\n",
    "    '''\n",
    "    This function normalizes a vector according to \n",
    "        Sum(vector * bin) = Normalization\n",
    "    and return vector/Normalization\n",
    "    \n",
    "    vector: vector to be normalized\n",
    "    binSpacing: constant width of each bin\n",
    "    '''\n",
    "    totalSum = 0\n",
    "    for val in vector:\n",
    "        totalSum += val*binSpacing\n",
    "    return np.multiply(vector,(1/totalSum))\n",
    "        \n",
    "\n",
    "def convolution(spectrumDF,deltaPhi,density = False):\n",
    "    '''\n",
    "    spectrumDF: The neutrino energy spectrum dataframe containing columns labeled\n",
    "                \"q_MeV\", \"spectrum\",\"step_MeV\", \"total_flux\"\n",
    "    deltaPhi  : the phi bin width in radians\n",
    "    density   : If True, the returned dN/dphi spectrum will L1-normed\n",
    "    \n",
    "    returns:\n",
    "        phiSamples: The values of phi at which dN/dPhi is calculated. These are the locations\n",
    "                    of the values on the horizontal axis\n",
    "        newCountsArray: The unnormalized weights of dN/dPhi in each bin. These are the locations\n",
    "                        of the values on the vertical axis\n",
    "        phiBinLims: An array containing the bin limits for phi. These indicate where the bin\n",
    "                    limits are as if we were plotting a histogram.\n",
    "        \n",
    "    '''\n",
    "    spectrum = spectrumDF.spectrum\n",
    "    spectrumInterp = interpolate.interp1d(spectrumDF.q_MeV,spectrum)\n",
    "\n",
    "    phiMax = phiEInterp(masterDF.E.iloc[0])\n",
    "    phiMin = phiEInterp(masterDF.E.iloc[-2]) # The phi(E) interpolation is defined up to the last\n",
    "                                             # energy, but the dPhi/dE interpolation has support up\n",
    "                                             # up to the second to last energy point\n",
    "                                             # (because of the forward derivative)\n",
    "    \n",
    "    nPhiBins = int(np.floor((phiMax * (1/deltaPhi))))\n",
    "    print (nPhiBins,'bins')\n",
    "    \n",
    "    phiBinLims = np.linspace(phiMin,phiMax,nPhiBins+1)\n",
    "#     print ('phiBinLims:',phiBinLims)\n",
    "\n",
    "    phiSamples = []\n",
    "    for i in range(0,len(phiBinLims)-1):\n",
    "        phiSamples.append( (phiBinLims[i] + phiBinLims[i+1])/2)\n",
    "    \n",
    "    eBinLims = EPhiInterp(phiBinLims)\n",
    "#     print ('eBinLims:',eBinLims)\n",
    "    \n",
    "    eSamples = EPhiInterp(phiSamples)\n",
    "    \n",
    "    dPhidELims = dPhidEInterp(eSamples)\n",
    "\n",
    "#     print ('dPhidELims:',dPhidELims)\n",
    "    \n",
    "    eventArray = spectrumInterp(eSamples) \n",
    "#     print ('eventArray:',eventArray)\n",
    "    \n",
    "    newCountsArray = []\n",
    "    for i in range(0,nPhiBins):\n",
    "        deltaEi = eBinLims[i] - eBinLims[i+1]\n",
    "        adjustedCounts = (eventArray[i]/np.abs(deltaEi)) * np.abs(1/dPhidELims[i]) * deltaPhi\n",
    "        newCountsArray.append(adjustedCounts)\n",
    "    if density:\n",
    "        newCountsArray  = (L1Norm(newCountsArray,deltaPhi))\n",
    "    \n",
    "    return phiSamples,newCountsArray,phiBinLims\n",
    "\n",
    "\n",
    "print ('Complete')"
   ]
  },
  {
   "cell_type": "markdown",
   "metadata": {
    "heading_collapsed": true
   },
   "source": [
    "# Debugging (Skip This)"
   ]
  },
  {
   "cell_type": "markdown",
   "metadata": {
    "heading_collapsed": true,
    "hidden": true
   },
   "source": [
    "## Main Pipeline"
   ]
  },
  {
   "cell_type": "code",
   "execution_count": 3,
   "metadata": {
    "ExecuteTime": {
     "end_time": "2022-05-18T17:13:48.680322Z",
     "start_time": "2022-05-18T17:13:48.604759Z"
    },
    "hidden": true
   },
   "outputs": [
    {
     "name": "stdout",
     "output_type": "stream",
     "text": [
      "1 Initial Conditions\n",
      "   ConNo         r     theta       phi   vr  vTheta  vPhi    L  cosBeta\n",
      "0    0.0  0.002325  1.176057  1.396823  1.0     0.0   0.0  0.0      0.0\n",
      "Complete\n"
     ]
    }
   ],
   "source": [
    "nPoints = 1\n",
    "dataDFSph = makeInitialConditions(nPoints)\n",
    "print ('{0} Initial Conditions'.format(dataDFSph.shape[0]))\n",
    "\n",
    "# dataDFSph = computeLossAndBeta(dataDFSph,q,E,dt)\n",
    "print (dataDFSph.head(5))\n",
    "print ('Complete')"
   ]
  },
  {
   "cell_type": "code",
   "execution_count": 5,
   "metadata": {
    "ExecuteTime": {
     "end_time": "2022-05-18T17:14:02.910580Z",
     "start_time": "2022-05-18T17:14:02.852458Z"
    },
    "hidden": true
   },
   "outputs": [
    {
     "name": "stdout",
     "output_type": "stream",
     "text": [
      "   ConNo         r     theta       phi   vr  vTheta  vPhi   L  cosBeta\n",
      "0    0.0  0.002325  1.570796  2.277701  1.0     0.0   0.0 NaN      NaN\n",
      "Complete\n"
     ]
    }
   ],
   "source": [
    "radialVelocity = True\n",
    "\n",
    "columns = np.asarray(dataDFSph.columns)\n",
    "dataDFSph2 = pd.DataFrame(columns=columns)\n",
    "v1 = [1,0,0]\n",
    "\n",
    "# margin = 1e-7\n",
    "margin = 1/2\n",
    "# deltaTheta = (margin*(np.pi/2))\n",
    "deltaTheta = 0\n",
    "deltaPhi = margin*2*np.pi/2\n",
    "# deltaPhi = 0\n",
    " \n",
    "\n",
    "for row in dataDFSph.ConNo:\n",
    "#     phi = float(minLossCondition.phi)\n",
    "    phi = np.pi/2\n",
    "#     theta = float(minLossCondition.theta)\n",
    "    theta = np.pi/2\n",
    "    \n",
    "    randTheta = np.random.uniform( (theta-deltaTheta), (theta+deltaTheta) )\n",
    "    randPhi   = np.random.uniform( (phi-deltaPhi), (phi+deltaPhi) )\n",
    "    p1 = [rHalf,randTheta,randPhi]\n",
    "\n",
    "    if radialVelocity:\n",
    "        r      = p1[0]\n",
    "        theta  = p1[1]\n",
    "        phi    = p1[2]\n",
    "        vr     = v1[0]\n",
    "        vtheta = v1[1]\n",
    "        vphi   = v1[2]\n",
    "        \n",
    "    else: \n",
    "        r      = p1[0]\n",
    "        theta  = p1[1]\n",
    "        phi    = p1[2]\n",
    "        vtheta = 0\n",
    "        vphi   = np.random.uniform(-1,1)\n",
    "        vr     = np.sqrt(1-vphi**2)\n",
    "\n",
    "\n",
    "    appendThis = ({'ConNo':row,'r':r,'theta':theta,'phi':phi,'vr':vr,'vTheta':vtheta,'vPhi':vphi})\n",
    "#     appendThis = ({'r':r,'theta':theta,'phi':phi,'vr':vr,'vTheta':vtheta,'vPhi':vphi})\n",
    "\n",
    "    dataDFSph2 = dataDFSph2.append(appendThis,ignore_index=True)\n",
    "    \n",
    "# dataDFSph2 = computeLossAndBeta(dataDFSph2,q,m,dt)\n",
    "print (dataDFSph2.head(5))\n",
    "print ('Complete')"
   ]
  },
  {
   "cell_type": "code",
   "execution_count": 6,
   "metadata": {
    "ExecuteTime": {
     "end_time": "2022-05-18T17:14:06.502599Z",
     "start_time": "2022-05-18T17:14:05.661649Z"
    },
    "hidden": true
   },
   "outputs": [
    {
     "data": {
      "application/vnd.plotly.v1+json": {
       "config": {
        "plotlyServerURL": "https://plot.ly"
       },
       "data": [
        {
         "sizeref": 5,
         "type": "cone",
         "u": [
          -0.6494829352628421
         ],
         "v": [
          0.760376167960545
         ],
         "w": [
          0
         ],
         "x": [
          -0.0015102004529758946
         ],
         "y": [
          0.001768053278907738
         ],
         "z": [
          0
         ]
        },
        {
         "marker": {
          "color": "orange",
          "size": 6
         },
         "mode": "markers",
         "type": "scatter3d",
         "x": [
          0
         ],
         "y": [
          0
         ],
         "z": [
          0
         ]
        }
       ],
       "layout": {
        "template": {
         "data": {
          "bar": [
           {
            "error_x": {
             "color": "#2a3f5f"
            },
            "error_y": {
             "color": "#2a3f5f"
            },
            "marker": {
             "line": {
              "color": "#E5ECF6",
              "width": 0.5
             }
            },
            "type": "bar"
           }
          ],
          "barpolar": [
           {
            "marker": {
             "line": {
              "color": "#E5ECF6",
              "width": 0.5
             }
            },
            "type": "barpolar"
           }
          ],
          "carpet": [
           {
            "aaxis": {
             "endlinecolor": "#2a3f5f",
             "gridcolor": "white",
             "linecolor": "white",
             "minorgridcolor": "white",
             "startlinecolor": "#2a3f5f"
            },
            "baxis": {
             "endlinecolor": "#2a3f5f",
             "gridcolor": "white",
             "linecolor": "white",
             "minorgridcolor": "white",
             "startlinecolor": "#2a3f5f"
            },
            "type": "carpet"
           }
          ],
          "choropleth": [
           {
            "colorbar": {
             "outlinewidth": 0,
             "ticks": ""
            },
            "type": "choropleth"
           }
          ],
          "contour": [
           {
            "colorbar": {
             "outlinewidth": 0,
             "ticks": ""
            },
            "colorscale": [
             [
              0,
              "#0d0887"
             ],
             [
              0.1111111111111111,
              "#46039f"
             ],
             [
              0.2222222222222222,
              "#7201a8"
             ],
             [
              0.3333333333333333,
              "#9c179e"
             ],
             [
              0.4444444444444444,
              "#bd3786"
             ],
             [
              0.5555555555555556,
              "#d8576b"
             ],
             [
              0.6666666666666666,
              "#ed7953"
             ],
             [
              0.7777777777777778,
              "#fb9f3a"
             ],
             [
              0.8888888888888888,
              "#fdca26"
             ],
             [
              1,
              "#f0f921"
             ]
            ],
            "type": "contour"
           }
          ],
          "contourcarpet": [
           {
            "colorbar": {
             "outlinewidth": 0,
             "ticks": ""
            },
            "type": "contourcarpet"
           }
          ],
          "heatmap": [
           {
            "colorbar": {
             "outlinewidth": 0,
             "ticks": ""
            },
            "colorscale": [
             [
              0,
              "#0d0887"
             ],
             [
              0.1111111111111111,
              "#46039f"
             ],
             [
              0.2222222222222222,
              "#7201a8"
             ],
             [
              0.3333333333333333,
              "#9c179e"
             ],
             [
              0.4444444444444444,
              "#bd3786"
             ],
             [
              0.5555555555555556,
              "#d8576b"
             ],
             [
              0.6666666666666666,
              "#ed7953"
             ],
             [
              0.7777777777777778,
              "#fb9f3a"
             ],
             [
              0.8888888888888888,
              "#fdca26"
             ],
             [
              1,
              "#f0f921"
             ]
            ],
            "type": "heatmap"
           }
          ],
          "heatmapgl": [
           {
            "colorbar": {
             "outlinewidth": 0,
             "ticks": ""
            },
            "colorscale": [
             [
              0,
              "#0d0887"
             ],
             [
              0.1111111111111111,
              "#46039f"
             ],
             [
              0.2222222222222222,
              "#7201a8"
             ],
             [
              0.3333333333333333,
              "#9c179e"
             ],
             [
              0.4444444444444444,
              "#bd3786"
             ],
             [
              0.5555555555555556,
              "#d8576b"
             ],
             [
              0.6666666666666666,
              "#ed7953"
             ],
             [
              0.7777777777777778,
              "#fb9f3a"
             ],
             [
              0.8888888888888888,
              "#fdca26"
             ],
             [
              1,
              "#f0f921"
             ]
            ],
            "type": "heatmapgl"
           }
          ],
          "histogram": [
           {
            "marker": {
             "colorbar": {
              "outlinewidth": 0,
              "ticks": ""
             }
            },
            "type": "histogram"
           }
          ],
          "histogram2d": [
           {
            "colorbar": {
             "outlinewidth": 0,
             "ticks": ""
            },
            "colorscale": [
             [
              0,
              "#0d0887"
             ],
             [
              0.1111111111111111,
              "#46039f"
             ],
             [
              0.2222222222222222,
              "#7201a8"
             ],
             [
              0.3333333333333333,
              "#9c179e"
             ],
             [
              0.4444444444444444,
              "#bd3786"
             ],
             [
              0.5555555555555556,
              "#d8576b"
             ],
             [
              0.6666666666666666,
              "#ed7953"
             ],
             [
              0.7777777777777778,
              "#fb9f3a"
             ],
             [
              0.8888888888888888,
              "#fdca26"
             ],
             [
              1,
              "#f0f921"
             ]
            ],
            "type": "histogram2d"
           }
          ],
          "histogram2dcontour": [
           {
            "colorbar": {
             "outlinewidth": 0,
             "ticks": ""
            },
            "colorscale": [
             [
              0,
              "#0d0887"
             ],
             [
              0.1111111111111111,
              "#46039f"
             ],
             [
              0.2222222222222222,
              "#7201a8"
             ],
             [
              0.3333333333333333,
              "#9c179e"
             ],
             [
              0.4444444444444444,
              "#bd3786"
             ],
             [
              0.5555555555555556,
              "#d8576b"
             ],
             [
              0.6666666666666666,
              "#ed7953"
             ],
             [
              0.7777777777777778,
              "#fb9f3a"
             ],
             [
              0.8888888888888888,
              "#fdca26"
             ],
             [
              1,
              "#f0f921"
             ]
            ],
            "type": "histogram2dcontour"
           }
          ],
          "mesh3d": [
           {
            "colorbar": {
             "outlinewidth": 0,
             "ticks": ""
            },
            "type": "mesh3d"
           }
          ],
          "parcoords": [
           {
            "line": {
             "colorbar": {
              "outlinewidth": 0,
              "ticks": ""
             }
            },
            "type": "parcoords"
           }
          ],
          "pie": [
           {
            "automargin": true,
            "type": "pie"
           }
          ],
          "scatter": [
           {
            "marker": {
             "colorbar": {
              "outlinewidth": 0,
              "ticks": ""
             }
            },
            "type": "scatter"
           }
          ],
          "scatter3d": [
           {
            "line": {
             "colorbar": {
              "outlinewidth": 0,
              "ticks": ""
             }
            },
            "marker": {
             "colorbar": {
              "outlinewidth": 0,
              "ticks": ""
             }
            },
            "type": "scatter3d"
           }
          ],
          "scattercarpet": [
           {
            "marker": {
             "colorbar": {
              "outlinewidth": 0,
              "ticks": ""
             }
            },
            "type": "scattercarpet"
           }
          ],
          "scattergeo": [
           {
            "marker": {
             "colorbar": {
              "outlinewidth": 0,
              "ticks": ""
             }
            },
            "type": "scattergeo"
           }
          ],
          "scattergl": [
           {
            "marker": {
             "colorbar": {
              "outlinewidth": 0,
              "ticks": ""
             }
            },
            "type": "scattergl"
           }
          ],
          "scattermapbox": [
           {
            "marker": {
             "colorbar": {
              "outlinewidth": 0,
              "ticks": ""
             }
            },
            "type": "scattermapbox"
           }
          ],
          "scatterpolar": [
           {
            "marker": {
             "colorbar": {
              "outlinewidth": 0,
              "ticks": ""
             }
            },
            "type": "scatterpolar"
           }
          ],
          "scatterpolargl": [
           {
            "marker": {
             "colorbar": {
              "outlinewidth": 0,
              "ticks": ""
             }
            },
            "type": "scatterpolargl"
           }
          ],
          "scatterternary": [
           {
            "marker": {
             "colorbar": {
              "outlinewidth": 0,
              "ticks": ""
             }
            },
            "type": "scatterternary"
           }
          ],
          "surface": [
           {
            "colorbar": {
             "outlinewidth": 0,
             "ticks": ""
            },
            "colorscale": [
             [
              0,
              "#0d0887"
             ],
             [
              0.1111111111111111,
              "#46039f"
             ],
             [
              0.2222222222222222,
              "#7201a8"
             ],
             [
              0.3333333333333333,
              "#9c179e"
             ],
             [
              0.4444444444444444,
              "#bd3786"
             ],
             [
              0.5555555555555556,
              "#d8576b"
             ],
             [
              0.6666666666666666,
              "#ed7953"
             ],
             [
              0.7777777777777778,
              "#fb9f3a"
             ],
             [
              0.8888888888888888,
              "#fdca26"
             ],
             [
              1,
              "#f0f921"
             ]
            ],
            "type": "surface"
           }
          ],
          "table": [
           {
            "cells": {
             "fill": {
              "color": "#EBF0F8"
             },
             "line": {
              "color": "white"
             }
            },
            "header": {
             "fill": {
              "color": "#C8D4E3"
             },
             "line": {
              "color": "white"
             }
            },
            "type": "table"
           }
          ]
         },
         "layout": {
          "annotationdefaults": {
           "arrowcolor": "#2a3f5f",
           "arrowhead": 0,
           "arrowwidth": 1
          },
          "autotypenumbers": "strict",
          "coloraxis": {
           "colorbar": {
            "outlinewidth": 0,
            "ticks": ""
           }
          },
          "colorscale": {
           "diverging": [
            [
             0,
             "#8e0152"
            ],
            [
             0.1,
             "#c51b7d"
            ],
            [
             0.2,
             "#de77ae"
            ],
            [
             0.3,
             "#f1b6da"
            ],
            [
             0.4,
             "#fde0ef"
            ],
            [
             0.5,
             "#f7f7f7"
            ],
            [
             0.6,
             "#e6f5d0"
            ],
            [
             0.7,
             "#b8e186"
            ],
            [
             0.8,
             "#7fbc41"
            ],
            [
             0.9,
             "#4d9221"
            ],
            [
             1,
             "#276419"
            ]
           ],
           "sequential": [
            [
             0,
             "#0d0887"
            ],
            [
             0.1111111111111111,
             "#46039f"
            ],
            [
             0.2222222222222222,
             "#7201a8"
            ],
            [
             0.3333333333333333,
             "#9c179e"
            ],
            [
             0.4444444444444444,
             "#bd3786"
            ],
            [
             0.5555555555555556,
             "#d8576b"
            ],
            [
             0.6666666666666666,
             "#ed7953"
            ],
            [
             0.7777777777777778,
             "#fb9f3a"
            ],
            [
             0.8888888888888888,
             "#fdca26"
            ],
            [
             1,
             "#f0f921"
            ]
           ],
           "sequentialminus": [
            [
             0,
             "#0d0887"
            ],
            [
             0.1111111111111111,
             "#46039f"
            ],
            [
             0.2222222222222222,
             "#7201a8"
            ],
            [
             0.3333333333333333,
             "#9c179e"
            ],
            [
             0.4444444444444444,
             "#bd3786"
            ],
            [
             0.5555555555555556,
             "#d8576b"
            ],
            [
             0.6666666666666666,
             "#ed7953"
            ],
            [
             0.7777777777777778,
             "#fb9f3a"
            ],
            [
             0.8888888888888888,
             "#fdca26"
            ],
            [
             1,
             "#f0f921"
            ]
           ]
          },
          "colorway": [
           "#636efa",
           "#EF553B",
           "#00cc96",
           "#ab63fa",
           "#FFA15A",
           "#19d3f3",
           "#FF6692",
           "#B6E880",
           "#FF97FF",
           "#FECB52"
          ],
          "font": {
           "color": "#2a3f5f"
          },
          "geo": {
           "bgcolor": "white",
           "lakecolor": "white",
           "landcolor": "#E5ECF6",
           "showlakes": true,
           "showland": true,
           "subunitcolor": "white"
          },
          "hoverlabel": {
           "align": "left"
          },
          "hovermode": "closest",
          "mapbox": {
           "style": "light"
          },
          "paper_bgcolor": "white",
          "plot_bgcolor": "#E5ECF6",
          "polar": {
           "angularaxis": {
            "gridcolor": "white",
            "linecolor": "white",
            "ticks": ""
           },
           "bgcolor": "#E5ECF6",
           "radialaxis": {
            "gridcolor": "white",
            "linecolor": "white",
            "ticks": ""
           }
          },
          "scene": {
           "xaxis": {
            "backgroundcolor": "#E5ECF6",
            "gridcolor": "white",
            "gridwidth": 2,
            "linecolor": "white",
            "showbackground": true,
            "ticks": "",
            "zerolinecolor": "white"
           },
           "yaxis": {
            "backgroundcolor": "#E5ECF6",
            "gridcolor": "white",
            "gridwidth": 2,
            "linecolor": "white",
            "showbackground": true,
            "ticks": "",
            "zerolinecolor": "white"
           },
           "zaxis": {
            "backgroundcolor": "#E5ECF6",
            "gridcolor": "white",
            "gridwidth": 2,
            "linecolor": "white",
            "showbackground": true,
            "ticks": "",
            "zerolinecolor": "white"
           }
          },
          "shapedefaults": {
           "line": {
            "color": "#2a3f5f"
           }
          },
          "ternary": {
           "aaxis": {
            "gridcolor": "white",
            "linecolor": "white",
            "ticks": ""
           },
           "baxis": {
            "gridcolor": "white",
            "linecolor": "white",
            "ticks": ""
           },
           "bgcolor": "#E5ECF6",
           "caxis": {
            "gridcolor": "white",
            "linecolor": "white",
            "ticks": ""
           }
          },
          "title": {
           "x": 0.05
          },
          "xaxis": {
           "automargin": true,
           "gridcolor": "white",
           "linecolor": "white",
           "ticks": "",
           "title": {
            "standoff": 15
           },
           "zerolinecolor": "white",
           "zerolinewidth": 2
          },
          "yaxis": {
           "automargin": true,
           "gridcolor": "white",
           "linecolor": "white",
           "ticks": "",
           "title": {
            "standoff": 15
           },
           "zerolinecolor": "white",
           "zerolinewidth": 2
          }
         }
        }
       }
      },
      "text/html": [
       "<div>                            <div id=\"0c4116b7-823e-4167-ab20-ea4fd3180683\" class=\"plotly-graph-div\" style=\"height:525px; width:100%;\"></div>            <script type=\"text/javascript\">                require([\"plotly\"], function(Plotly) {                    window.PLOTLYENV=window.PLOTLYENV || {};                                    if (document.getElementById(\"0c4116b7-823e-4167-ab20-ea4fd3180683\")) {                    Plotly.newPlot(                        \"0c4116b7-823e-4167-ab20-ea4fd3180683\",                        [{\"sizeref\": 5, \"type\": \"cone\", \"u\": [-0.6494829352628421], \"v\": [0.760376167960545], \"w\": [0.0], \"x\": [-0.0015102004529758946], \"y\": [0.001768053278907738], \"z\": [0.0]}, {\"marker\": {\"color\": \"orange\", \"size\": 6}, \"mode\": \"markers\", \"type\": \"scatter3d\", \"x\": [0], \"y\": [0], \"z\": [0]}],                        {\"template\": {\"data\": {\"bar\": [{\"error_x\": {\"color\": \"#2a3f5f\"}, \"error_y\": {\"color\": \"#2a3f5f\"}, \"marker\": {\"line\": {\"color\": \"#E5ECF6\", \"width\": 0.5}}, \"type\": \"bar\"}], \"barpolar\": [{\"marker\": {\"line\": {\"color\": \"#E5ECF6\", \"width\": 0.5}}, \"type\": \"barpolar\"}], \"carpet\": [{\"aaxis\": {\"endlinecolor\": \"#2a3f5f\", \"gridcolor\": \"white\", \"linecolor\": \"white\", \"minorgridcolor\": \"white\", \"startlinecolor\": \"#2a3f5f\"}, \"baxis\": {\"endlinecolor\": \"#2a3f5f\", \"gridcolor\": \"white\", \"linecolor\": \"white\", \"minorgridcolor\": \"white\", \"startlinecolor\": \"#2a3f5f\"}, \"type\": \"carpet\"}], \"choropleth\": [{\"colorbar\": {\"outlinewidth\": 0, \"ticks\": \"\"}, \"type\": \"choropleth\"}], \"contour\": [{\"colorbar\": {\"outlinewidth\": 0, \"ticks\": \"\"}, \"colorscale\": [[0.0, \"#0d0887\"], [0.1111111111111111, \"#46039f\"], [0.2222222222222222, \"#7201a8\"], [0.3333333333333333, \"#9c179e\"], [0.4444444444444444, \"#bd3786\"], [0.5555555555555556, \"#d8576b\"], [0.6666666666666666, \"#ed7953\"], [0.7777777777777778, \"#fb9f3a\"], [0.8888888888888888, \"#fdca26\"], [1.0, \"#f0f921\"]], \"type\": \"contour\"}], \"contourcarpet\": [{\"colorbar\": {\"outlinewidth\": 0, \"ticks\": \"\"}, \"type\": \"contourcarpet\"}], \"heatmap\": [{\"colorbar\": {\"outlinewidth\": 0, \"ticks\": \"\"}, \"colorscale\": [[0.0, \"#0d0887\"], [0.1111111111111111, \"#46039f\"], [0.2222222222222222, \"#7201a8\"], [0.3333333333333333, \"#9c179e\"], [0.4444444444444444, \"#bd3786\"], [0.5555555555555556, \"#d8576b\"], [0.6666666666666666, \"#ed7953\"], [0.7777777777777778, \"#fb9f3a\"], [0.8888888888888888, \"#fdca26\"], [1.0, \"#f0f921\"]], \"type\": \"heatmap\"}], \"heatmapgl\": [{\"colorbar\": {\"outlinewidth\": 0, \"ticks\": \"\"}, \"colorscale\": [[0.0, \"#0d0887\"], [0.1111111111111111, \"#46039f\"], [0.2222222222222222, \"#7201a8\"], [0.3333333333333333, \"#9c179e\"], [0.4444444444444444, \"#bd3786\"], [0.5555555555555556, \"#d8576b\"], [0.6666666666666666, \"#ed7953\"], [0.7777777777777778, \"#fb9f3a\"], [0.8888888888888888, \"#fdca26\"], [1.0, \"#f0f921\"]], \"type\": \"heatmapgl\"}], \"histogram\": [{\"marker\": {\"colorbar\": {\"outlinewidth\": 0, \"ticks\": \"\"}}, \"type\": \"histogram\"}], \"histogram2d\": [{\"colorbar\": {\"outlinewidth\": 0, \"ticks\": \"\"}, \"colorscale\": [[0.0, \"#0d0887\"], [0.1111111111111111, \"#46039f\"], [0.2222222222222222, \"#7201a8\"], [0.3333333333333333, \"#9c179e\"], [0.4444444444444444, \"#bd3786\"], [0.5555555555555556, \"#d8576b\"], [0.6666666666666666, \"#ed7953\"], [0.7777777777777778, \"#fb9f3a\"], [0.8888888888888888, \"#fdca26\"], [1.0, \"#f0f921\"]], \"type\": \"histogram2d\"}], \"histogram2dcontour\": [{\"colorbar\": {\"outlinewidth\": 0, \"ticks\": \"\"}, \"colorscale\": [[0.0, \"#0d0887\"], [0.1111111111111111, \"#46039f\"], [0.2222222222222222, \"#7201a8\"], [0.3333333333333333, \"#9c179e\"], [0.4444444444444444, \"#bd3786\"], [0.5555555555555556, \"#d8576b\"], [0.6666666666666666, \"#ed7953\"], [0.7777777777777778, \"#fb9f3a\"], [0.8888888888888888, \"#fdca26\"], [1.0, \"#f0f921\"]], \"type\": \"histogram2dcontour\"}], \"mesh3d\": [{\"colorbar\": {\"outlinewidth\": 0, \"ticks\": \"\"}, \"type\": \"mesh3d\"}], \"parcoords\": [{\"line\": {\"colorbar\": {\"outlinewidth\": 0, \"ticks\": \"\"}}, \"type\": \"parcoords\"}], \"pie\": [{\"automargin\": true, \"type\": \"pie\"}], \"scatter\": [{\"marker\": {\"colorbar\": {\"outlinewidth\": 0, \"ticks\": \"\"}}, \"type\": \"scatter\"}], \"scatter3d\": [{\"line\": {\"colorbar\": {\"outlinewidth\": 0, \"ticks\": \"\"}}, \"marker\": {\"colorbar\": {\"outlinewidth\": 0, \"ticks\": \"\"}}, \"type\": \"scatter3d\"}], \"scattercarpet\": [{\"marker\": {\"colorbar\": {\"outlinewidth\": 0, \"ticks\": \"\"}}, \"type\": \"scattercarpet\"}], \"scattergeo\": [{\"marker\": {\"colorbar\": {\"outlinewidth\": 0, \"ticks\": \"\"}}, \"type\": \"scattergeo\"}], \"scattergl\": [{\"marker\": {\"colorbar\": {\"outlinewidth\": 0, \"ticks\": \"\"}}, \"type\": \"scattergl\"}], \"scattermapbox\": [{\"marker\": {\"colorbar\": {\"outlinewidth\": 0, \"ticks\": \"\"}}, \"type\": \"scattermapbox\"}], \"scatterpolar\": [{\"marker\": {\"colorbar\": {\"outlinewidth\": 0, \"ticks\": \"\"}}, \"type\": \"scatterpolar\"}], \"scatterpolargl\": [{\"marker\": {\"colorbar\": {\"outlinewidth\": 0, \"ticks\": \"\"}}, \"type\": \"scatterpolargl\"}], \"scatterternary\": [{\"marker\": {\"colorbar\": {\"outlinewidth\": 0, \"ticks\": \"\"}}, \"type\": \"scatterternary\"}], \"surface\": [{\"colorbar\": {\"outlinewidth\": 0, \"ticks\": \"\"}, \"colorscale\": [[0.0, \"#0d0887\"], [0.1111111111111111, \"#46039f\"], [0.2222222222222222, \"#7201a8\"], [0.3333333333333333, \"#9c179e\"], [0.4444444444444444, \"#bd3786\"], [0.5555555555555556, \"#d8576b\"], [0.6666666666666666, \"#ed7953\"], [0.7777777777777778, \"#fb9f3a\"], [0.8888888888888888, \"#fdca26\"], [1.0, \"#f0f921\"]], \"type\": \"surface\"}], \"table\": [{\"cells\": {\"fill\": {\"color\": \"#EBF0F8\"}, \"line\": {\"color\": \"white\"}}, \"header\": {\"fill\": {\"color\": \"#C8D4E3\"}, \"line\": {\"color\": \"white\"}}, \"type\": \"table\"}]}, \"layout\": {\"annotationdefaults\": {\"arrowcolor\": \"#2a3f5f\", \"arrowhead\": 0, \"arrowwidth\": 1}, \"autotypenumbers\": \"strict\", \"coloraxis\": {\"colorbar\": {\"outlinewidth\": 0, \"ticks\": \"\"}}, \"colorscale\": {\"diverging\": [[0, \"#8e0152\"], [0.1, \"#c51b7d\"], [0.2, \"#de77ae\"], [0.3, \"#f1b6da\"], [0.4, \"#fde0ef\"], [0.5, \"#f7f7f7\"], [0.6, \"#e6f5d0\"], [0.7, \"#b8e186\"], [0.8, \"#7fbc41\"], [0.9, \"#4d9221\"], [1, \"#276419\"]], \"sequential\": [[0.0, \"#0d0887\"], [0.1111111111111111, \"#46039f\"], [0.2222222222222222, \"#7201a8\"], [0.3333333333333333, \"#9c179e\"], [0.4444444444444444, \"#bd3786\"], [0.5555555555555556, \"#d8576b\"], [0.6666666666666666, \"#ed7953\"], [0.7777777777777778, \"#fb9f3a\"], [0.8888888888888888, \"#fdca26\"], [1.0, \"#f0f921\"]], \"sequentialminus\": [[0.0, \"#0d0887\"], [0.1111111111111111, \"#46039f\"], [0.2222222222222222, \"#7201a8\"], [0.3333333333333333, \"#9c179e\"], [0.4444444444444444, \"#bd3786\"], [0.5555555555555556, \"#d8576b\"], [0.6666666666666666, \"#ed7953\"], [0.7777777777777778, \"#fb9f3a\"], [0.8888888888888888, \"#fdca26\"], [1.0, \"#f0f921\"]]}, \"colorway\": [\"#636efa\", \"#EF553B\", \"#00cc96\", \"#ab63fa\", \"#FFA15A\", \"#19d3f3\", \"#FF6692\", \"#B6E880\", \"#FF97FF\", \"#FECB52\"], \"font\": {\"color\": \"#2a3f5f\"}, \"geo\": {\"bgcolor\": \"white\", \"lakecolor\": \"white\", \"landcolor\": \"#E5ECF6\", \"showlakes\": true, \"showland\": true, \"subunitcolor\": \"white\"}, \"hoverlabel\": {\"align\": \"left\"}, \"hovermode\": \"closest\", \"mapbox\": {\"style\": \"light\"}, \"paper_bgcolor\": \"white\", \"plot_bgcolor\": \"#E5ECF6\", \"polar\": {\"angularaxis\": {\"gridcolor\": \"white\", \"linecolor\": \"white\", \"ticks\": \"\"}, \"bgcolor\": \"#E5ECF6\", \"radialaxis\": {\"gridcolor\": \"white\", \"linecolor\": \"white\", \"ticks\": \"\"}}, \"scene\": {\"xaxis\": {\"backgroundcolor\": \"#E5ECF6\", \"gridcolor\": \"white\", \"gridwidth\": 2, \"linecolor\": \"white\", \"showbackground\": true, \"ticks\": \"\", \"zerolinecolor\": \"white\"}, \"yaxis\": {\"backgroundcolor\": \"#E5ECF6\", \"gridcolor\": \"white\", \"gridwidth\": 2, \"linecolor\": \"white\", \"showbackground\": true, \"ticks\": \"\", \"zerolinecolor\": \"white\"}, \"zaxis\": {\"backgroundcolor\": \"#E5ECF6\", \"gridcolor\": \"white\", \"gridwidth\": 2, \"linecolor\": \"white\", \"showbackground\": true, \"ticks\": \"\", \"zerolinecolor\": \"white\"}}, \"shapedefaults\": {\"line\": {\"color\": \"#2a3f5f\"}}, \"ternary\": {\"aaxis\": {\"gridcolor\": \"white\", \"linecolor\": \"white\", \"ticks\": \"\"}, \"baxis\": {\"gridcolor\": \"white\", \"linecolor\": \"white\", \"ticks\": \"\"}, \"bgcolor\": \"#E5ECF6\", \"caxis\": {\"gridcolor\": \"white\", \"linecolor\": \"white\", \"ticks\": \"\"}}, \"title\": {\"x\": 0.05}, \"xaxis\": {\"automargin\": true, \"gridcolor\": \"white\", \"linecolor\": \"white\", \"ticks\": \"\", \"title\": {\"standoff\": 15}, \"zerolinecolor\": \"white\", \"zerolinewidth\": 2}, \"yaxis\": {\"automargin\": true, \"gridcolor\": \"white\", \"linecolor\": \"white\", \"ticks\": \"\", \"title\": {\"standoff\": 15}, \"zerolinecolor\": \"white\", \"zerolinewidth\": 2}}}},                        {\"responsive\": true}                    ).then(function(){\n",
       "                            \n",
       "var gd = document.getElementById('0c4116b7-823e-4167-ab20-ea4fd3180683');\n",
       "var x = new MutationObserver(function (mutations, observer) {{\n",
       "        var display = window.getComputedStyle(gd).display;\n",
       "        if (!display || display === 'none') {{\n",
       "            console.log([gd, 'removed!']);\n",
       "            Plotly.purge(gd);\n",
       "            observer.disconnect();\n",
       "        }}\n",
       "}});\n",
       "\n",
       "// Listen for the removal of the full notebook cells\n",
       "var notebookContainer = gd.closest('#notebook-container');\n",
       "if (notebookContainer) {{\n",
       "    x.observe(notebookContainer, {childList: true});\n",
       "}}\n",
       "\n",
       "// Listen for the clearing of the current output cell\n",
       "var outputEl = gd.closest('.output');\n",
       "if (outputEl) {{\n",
       "    x.observe(outputEl, {childList: true});\n",
       "}}\n",
       "\n",
       "                        })                };                });            </script>        </div>"
      ]
     },
     "metadata": {},
     "output_type": "display_data"
    },
    {
     "data": {
      "image/png": "[encoded data removed]",
      "text/plain": [
       "<Figure size 432x432 with 1 Axes>"
      ]
     },
     "metadata": {
      "needs_background": "light"
     },
     "output_type": "display_data"
    }
   ],
   "source": [
    "plotConditions(dataDFSph2,5)\n",
    "\n",
    "carDF = sphDF2CarDF(dataDFSph2)\n",
    "# print (carDF.head(5))\n",
    "figA = plt.figure(figsize = (6,6))\n",
    "plt.quiver(carDF.x,carDF.y,carDF.vx, carDF.vy)\n",
    "plt.scatter(0,0)\n",
    "# plt.axes([min(carDF.x)*0.9,max(carDF.x)*1.1,])\n",
    "plt.grid()\n",
    "plt.axis('square')\n",
    "plt.show()"
   ]
  },
  {
   "cell_type": "code",
   "execution_count": 11,
   "metadata": {
    "ExecuteTime": {
     "end_time": "2022-05-18T17:14:58.365631Z",
     "start_time": "2022-05-18T17:14:58.313220Z"
    },
    "code_folding": [],
    "hidden": true
   },
   "outputs": [
    {
     "name": "stdout",
     "output_type": "stream",
     "text": [
      "Complete\n"
     ]
    }
   ],
   "source": [
    "def Bfield(x,y,z):\n",
    "    '''\n",
    "    Returns cartesian components of the B-field measured in MeV^2 at location x,y,z.\n",
    "    \n",
    "    x,y,z must be in cartesian coordinates measured in Au\n",
    "    '''\n",
    "    assert x**2 + y**2 > 0, 'Bfield function, both x & y zero simultaneously'\n",
    "#  T = 1 kg⋅s−2⋅A−1 = N s / C m = kg / C s \n",
    "#    = [mass] / [charge] [time]\n",
    "\n",
    "    # 3.3 in nT\n",
    "    BrSun     = 0\n",
    "#     BthetaSun = 3.3e-9/np.sqrt(2) * 1/rFunction(x,y,z)\n",
    "    BthetaSun = 0\n",
    "    BphiSun   = 3.3e-9/np.sqrt(2) * 1/rFunction(x,y,z) \n",
    "#     BphiSun = 0\n",
    "\n",
    "    # Spherical unit vector decompositions\n",
    "    # Schematically, we decompose rhat = Axhat + Byhat + Czhat and read off the ABC from wiki\n",
    "    # The arguments of the ABCs are the cartesian location where we are evaluating the B field\n",
    "    def A(x,y,z):\n",
    "        return x/np.sqrt(x**2 +y**2 +z**2)\n",
    "\n",
    "    def B(x,y,z):\n",
    "        return y/np.sqrt(x**2 +y**2 +z**2)\n",
    "\n",
    "    def C(x,y,z):\n",
    "        return z/np.sqrt(x**2 +y**2 +z**2)\n",
    "\n",
    "    def D(x,y,z):\n",
    "        return x*z / (np.sqrt(x**2 +y**2 +z**2) * np.sqrt(x**2+y**2))\n",
    "\n",
    "    def E(x,y,z):\n",
    "        return y*z / (np.sqrt(x**2 +y**2 +z**2) * np.sqrt(x**2+y**2))\n",
    "        \n",
    "    def F(x,y,z): \n",
    "        return -(x**2 + y**2) / (np.sqrt(x**2 +y**2 +z**2) * np.sqrt(x**2+y**2)) \n",
    "\n",
    "    def G(x,y,z):\n",
    "        return -y / np.sqrt(x**2 + y**2)\n",
    "\n",
    "    def H(x,y,z):\n",
    "        return x / np.sqrt(x**2 + y**2)\n",
    "\n",
    "    def I(x,y,z):\n",
    "        return 0\n",
    "\n",
    "    BxSun = BrSun * A(x,y,z) + BthetaSun * D(x,y,z) + BphiSun * G(x,y,z)\n",
    "    BySun = BrSun * B(x,y,z) + BthetaSun * E(x,y,z) + BphiSun * H(x,y,z)\n",
    "    BzSun = BrSun * C(x,y,z) + BthetaSun * F(x,y,z) + BphiSun * I(x,y,z)\n",
    "\n",
    "    # Earth Magnetic field is 25-65 nanoTesla at the Surface\n",
    "    mu0 = 4e-7*np.pi\n",
    "    rOrbit = 1\n",
    "    \n",
    "    BxEarth = 0\n",
    "    ByEarth = 0\n",
    "#     BzEarth = 45e-6/(rFunction(x,y,z)-rOrbit)\n",
    "    BzEarth = 0\n",
    "    \n",
    "    BxSun = 0\n",
    "    BySun = 0\n",
    "    BzSun = 1.5e-14 # 1.5e-14 seems to work well\n",
    "    \n",
    "\n",
    "    BxTotal, ByTotal, BzTotal = BxSun+BxEarth, BySun+ByEarth, BzSun+BzEarth\n",
    "    return (tesla2MeV2(BxTotal), tesla2MeV2(ByTotal), tesla2MeV2(BzTotal))\n",
    "\n",
    "\n",
    "\n",
    "print ('Complete')"
   ]
  },
  {
   "cell_type": "code",
   "execution_count": 12,
   "metadata": {
    "ExecuteTime": {
     "end_time": "2022-05-18T17:15:09.403895Z",
     "start_time": "2022-05-18T17:15:01.042242Z"
    },
    "hidden": true
   },
   "outputs": [
    {
     "name": "stdout",
     "output_type": "stream",
     "text": [
      "   ConNo         E     Beta1     Beta2 Hit\n",
      "0    0.0  0.653845 -0.152992  0.152992   Y\n",
      "1    0.0  1.306890 -0.075779  0.075779   Y\n",
      "2    0.0  1.959935 -0.050530  0.050530   Y\n",
      "3    0.0  2.612980 -0.037901  0.037901   Y\n",
      "Complete\n"
     ]
    }
   ],
   "source": [
    "masterDFColumns = ['ConNo','E','Beta1','Beta2']\n",
    "masterDF = pd.DataFrame(columns = masterDFColumns)\n",
    "numE = 50\n",
    "eRange = np.linspace(0.0008,32,numE)\n",
    "q = 0.3\n",
    "c = 1\n",
    "dt = 1e-2\n",
    "\n",
    "for row in range(0,len(dataDFSph2)):\n",
    "    ConNo = dataDFSph2.ConNo[row]\n",
    "    for E in eRange:\n",
    "        ICSph = dataDFSph2.loc[row]['r':'vPhi']\n",
    "        BetaOutput = (computeBeta(ICSph,q,E,dt,True))\n",
    "        hit = 'Y'\n",
    "        \n",
    "        if BetaOutput == 'F':\n",
    "#             print ('Skip calculation for {0} MeV'.format(E))\n",
    "            hit = 'N'\n",
    "            continue\n",
    "            \n",
    "        beta1 = BetaOutput[0]\n",
    "        beta2 = BetaOutput[1]\n",
    "                 \n",
    "        appendThis = ({'ConNo':ConNo,'E':E,'Beta1':beta1,'Beta2':beta2,'Hit':hit})\n",
    "        masterDF = masterDF.append(appendThis,ignore_index=True)\n",
    "#         i+=1\n",
    "# hitDF1 = getHitDF(testDF1,energy,plane,q,dt,cartesian = True)\n",
    "# masterDF = masterDF.append(hitDF1,ignore_index = True).drop_duplicates().reset_index(drop=True)\n",
    "\n",
    "print (masterDF.head(4))\n",
    "\n",
    "print ('Complete')"
   ]
  },
  {
   "cell_type": "code",
   "execution_count": 13,
   "metadata": {
    "ExecuteTime": {
     "end_time": "2022-05-18T17:15:16.875400Z",
     "start_time": "2022-05-18T17:15:12.982483Z"
    },
    "hidden": true,
    "scrolled": false
   },
   "outputs": [
    {
     "name": "stdout",
     "output_type": "stream",
     "text": [
      "49/50 hits\n"
     ]
    },
    {
     "data": {
      "application/vnd.plotly.v1+json": {
       "config": {
        "plotlyServerURL": "https://plot.ly"
       },
       "data": [
        {
         "alignmentgroup": "True",
         "bingroup": "x",
         "hovertemplate": "E=0.6538448979591837<br>Beta2=%{x}<br>count=%{y}<extra></extra>",
         "legendgroup": "0.6538448979591837",
         "marker": {
          "color": "#636efa"
         },
         "name": "0.6538448979591837",
         "offsetgroup": "0.6538448979591837",
         "orientation": "v",
         "showlegend": true,
         "type": "histogram",
         "x": [
          0.152992442137892
         ],
         "xaxis": "x",
         "yaxis": "y"
        },
        {
         "alignmentgroup": "True",
         "bingroup": "x",
         "hovertemplate": "E=1.3068897959183672<br>Beta2=%{x}<br>count=%{y}<extra></extra>",
         "legendgroup": "1.3068897959183672",
         "marker": {
          "color": "#EF553B"
         },
         "name": "1.3068897959183672",
         "offsetgroup": "1.3068897959183672",
         "orientation": "v",
         "showlegend": true,
         "type": "histogram",
         "x": [
          0.07577936012550922
         ],
         "xaxis": "x",
         "yaxis": "y"
        },
        {
         "alignmentgroup": "True",
         "bingroup": "x",
         "hovertemplate": "E=1.9599346938775508<br>Beta2=%{x}<br>count=%{y}<extra></extra>",
         "legendgroup": "1.9599346938775508",
         "marker": {
          "color": "#00cc96"
         },
         "name": "1.9599346938775508",
         "offsetgroup": "1.9599346938775508",
         "orientation": "v",
         "showlegend": true,
         "type": "histogram",
         "x": [
          0.050529880860035986
         ],
         "xaxis": "x",
         "yaxis": "y"
        },
        {
         "alignmentgroup": "True",
         "bingroup": "x",
         "hovertemplate": "E=2.6129795918367344<br>Beta2=%{x}<br>count=%{y}<extra></extra>",
         "legendgroup": "2.6129795918367344",
         "marker": {
          "color": "#ab63fa"
         },
         "name": "2.6129795918367344",
         "offsetgroup": "2.6129795918367344",
         "orientation": "v",
         "showlegend": true,
         "type": "histogram",
         "x": [
          0.037901277458888515
         ],
         "xaxis": "x",
         "yaxis": "y"
        },
        {
         "alignmentgroup": "True",
         "bingroup": "x",
         "hovertemplate": "E=3.2660244897959183<br>Beta2=%{x}<br>count=%{y}<extra></extra>",
         "legendgroup": "3.2660244897959183",
         "marker": {
          "color": "#FFA15A"
         },
         "name": "3.2660244897959183",
         "offsetgroup": "3.2660244897959183",
         "orientation": "v",
         "showlegend": true,
         "type": "histogram",
         "x": [
          0.030322878427744372
         ],
         "xaxis": "x",
         "yaxis": "y"
        },
        {
         "alignmentgroup": "True",
         "bingroup": "x",
         "hovertemplate": "E=3.9190693877551017<br>Beta2=%{x}<br>count=%{y}<extra></extra>",
         "legendgroup": "3.9190693877551017",
         "marker": {
          "color": "#19d3f3"
         },
         "name": "3.9190693877551017",
         "offsetgroup": "3.9190693877551017",
         "orientation": "v",
         "showlegend": true,
         "type": "histogram",
         "x": [
          0.025270096858929107
         ],
         "xaxis": "x",
         "yaxis": "y"
        },
        {
         "alignmentgroup": "True",
         "bingroup": "x",
         "hovertemplate": "E=4.572114285714285<br>Beta2=%{x}<br>count=%{y}<extra></extra>",
         "legendgroup": "4.572114285714285",
         "marker": {
          "color": "#FF6692"
         },
         "name": "4.572114285714285",
         "offsetgroup": "4.572114285714285",
         "orientation": "v",
         "showlegend": true,
         "type": "histogram",
         "x": [
          0.021660714610933763
         ],
         "xaxis": "x",
         "yaxis": "y"
        },
        {
         "alignmentgroup": "True",
         "bingroup": "x",
         "hovertemplate": "E=5.225159183673469<br>Beta2=%{x}<br>count=%{y}<extra></extra>",
         "legendgroup": "5.225159183673469",
         "marker": {
          "color": "#B6E880"
         },
         "name": "5.225159183673469",
         "offsetgroup": "5.225159183673469",
         "orientation": "v",
         "showlegend": true,
         "type": "histogram",
         "x": [
          0.01895353979206202
         ],
         "xaxis": "x",
         "yaxis": "y"
        },
        {
         "alignmentgroup": "True",
         "bingroup": "x",
         "hovertemplate": "E=5.878204081632653<br>Beta2=%{x}<br>count=%{y}<extra></extra>",
         "legendgroup": "5.878204081632653",
         "marker": {
          "color": "#FF97FF"
         },
         "name": "5.878204081632653",
         "offsetgroup": "5.878204081632653",
         "orientation": "v",
         "showlegend": true,
         "type": "histogram",
         "x": [
          0.01684787751370245
         ],
         "xaxis": "x",
         "yaxis": "y"
        },
        {
         "alignmentgroup": "True",
         "bingroup": "x",
         "hovertemplate": "E=6.531248979591837<br>Beta2=%{x}<br>count=%{y}<extra></extra>",
         "legendgroup": "6.531248979591837",
         "marker": {
          "color": "#FECB52"
         },
         "name": "6.531248979591837",
         "offsetgroup": "6.531248979591837",
         "orientation": "v",
         "showlegend": true,
         "type": "histogram",
         "x": [
          0.015163296113414203
         ],
         "xaxis": "x",
         "yaxis": "y"
        },
        {
         "alignmentgroup": "True",
         "bingroup": "x",
         "hovertemplate": "E=7.18429387755102<br>Beta2=%{x}<br>count=%{y}<extra></extra>",
         "legendgroup": "7.18429387755102",
         "marker": {
          "color": "#636efa"
         },
         "name": "7.18429387755102",
         "offsetgroup": "7.18429387755102",
         "orientation": "v",
         "showlegend": true,
         "type": "histogram",
         "x": [
          0.013784968137717547
         ],
         "xaxis": "x",
         "yaxis": "y"
        },
        {
         "alignmentgroup": "True",
         "bingroup": "x",
         "hovertemplate": "E=7.8373387755102035<br>Beta2=%{x}<br>count=%{y}<extra></extra>",
         "legendgroup": "7.8373387755102035",
         "marker": {
          "color": "#EF553B"
         },
         "name": "7.8373387755102035",
         "offsetgroup": "7.8373387755102035",
         "orientation": "v",
         "showlegend": true,
         "type": "histogram",
         "x": [
          0.012636338044627523
         ],
         "xaxis": "x",
         "yaxis": "y"
        },
        {
         "alignmentgroup": "True",
         "bingroup": "x",
         "hovertemplate": "E=8.490383673469386<br>Beta2=%{x}<br>count=%{y}<extra></extra>",
         "legendgroup": "8.490383673469386",
         "marker": {
          "color": "#00cc96"
         },
         "name": "8.490383673469386",
         "offsetgroup": "8.490383673469386",
         "orientation": "v",
         "showlegend": true,
         "type": "histogram",
         "x": [
          0.011664403624484706
         ],
         "xaxis": "x",
         "yaxis": "y"
        },
        {
         "alignmentgroup": "True",
         "bingroup": "x",
         "hovertemplate": "E=9.14342857142857<br>Beta2=%{x}<br>count=%{y}<extra></extra>",
         "legendgroup": "9.14342857142857",
         "marker": {
          "color": "#ab63fa"
         },
         "name": "9.14342857142857",
         "offsetgroup": "9.14342857142857",
         "orientation": "v",
         "showlegend": true,
         "type": "histogram",
         "x": [
          0.010831304831177016
         ],
         "xaxis": "x",
         "yaxis": "y"
        },
        {
         "alignmentgroup": "True",
         "bingroup": "x",
         "hovertemplate": "E=9.796473469387754<br>Beta2=%{x}<br>count=%{y}<extra></extra>",
         "legendgroup": "9.796473469387754",
         "marker": {
          "color": "#FFA15A"
         },
         "name": "9.796473469387754",
         "offsetgroup": "9.796473469387754",
         "orientation": "v",
         "showlegend": true,
         "type": "histogram",
         "x": [
          0.010109276806674793
         ],
         "xaxis": "x",
         "yaxis": "y"
        },
        {
         "alignmentgroup": "True",
         "bingroup": "x",
         "hovertemplate": "E=10.449518367346938<br>Beta2=%{x}<br>count=%{y}<extra></extra>",
         "legendgroup": "10.449518367346938",
         "marker": {
          "color": "#19d3f3"
         },
         "name": "10.449518367346938",
         "offsetgroup": "10.449518367346938",
         "orientation": "v",
         "showlegend": true,
         "type": "histogram",
         "x": [
          0.009477495376013367
         ],
         "xaxis": "x",
         "yaxis": "y"
        },
        {
         "alignmentgroup": "True",
         "bingroup": "x",
         "hovertemplate": "E=11.102563265306122<br>Beta2=%{x}<br>count=%{y}<extra></extra>",
         "legendgroup": "11.102563265306122",
         "marker": {
          "color": "#FF6692"
         },
         "name": "11.102563265306122",
         "offsetgroup": "11.102563265306122",
         "orientation": "v",
         "showlegend": true,
         "type": "histogram",
         "x": [
          0.008920035817206462
         ],
         "xaxis": "x",
         "yaxis": "y"
        },
        {
         "alignmentgroup": "True",
         "bingroup": "x",
         "hovertemplate": "E=11.755608163265306<br>Beta2=%{x}<br>count=%{y}<extra></extra>",
         "legendgroup": "11.755608163265306",
         "marker": {
          "color": "#B6E880"
         },
         "name": "11.755608163265306",
         "offsetgroup": "11.755608163265306",
         "orientation": "v",
         "showlegend": true,
         "type": "histogram",
         "x": [
          0.008424511994441213
         ],
         "xaxis": "x",
         "yaxis": "y"
        },
        {
         "alignmentgroup": "True",
         "bingroup": "x",
         "hovertemplate": "E=12.40865306122449<br>Beta2=%{x}<br>count=%{y}<extra></extra>",
         "legendgroup": "12.40865306122449",
         "marker": {
          "color": "#FF97FF"
         },
         "name": "12.40865306122449",
         "offsetgroup": "12.40865306122449",
         "orientation": "v",
         "showlegend": true,
         "type": "histogram",
         "x": [
          0.007981145211427986
         ],
         "xaxis": "x",
         "yaxis": "y"
        },
        {
         "alignmentgroup": "True",
         "bingroup": "x",
         "hovertemplate": "E=13.061697959183673<br>Beta2=%{x}<br>count=%{y}<extra></extra>",
         "legendgroup": "13.061697959183673",
         "marker": {
          "color": "#FECB52"
         },
         "name": "13.061697959183673",
         "offsetgroup": "13.061697959183673",
         "orientation": "v",
         "showlegend": true,
         "type": "histogram",
         "x": [
          0.0075821123913343835
         ],
         "xaxis": "x",
         "yaxis": "y"
        },
        {
         "alignmentgroup": "True",
         "bingroup": "x",
         "hovertemplate": "E=13.714742857142856<br>Beta2=%{x}<br>count=%{y}<extra></extra>",
         "legendgroup": "13.714742857142856",
         "marker": {
          "color": "#636efa"
         },
         "name": "13.714742857142856",
         "offsetgroup": "13.714742857142856",
         "orientation": "v",
         "showlegend": true,
         "type": "histogram",
         "x": [
          0.007221080480298248
         ],
         "xaxis": "x",
         "yaxis": "y"
        },
        {
         "alignmentgroup": "True",
         "bingroup": "x",
         "hovertemplate": "E=14.36778775510204<br>Beta2=%{x}<br>count=%{y}<extra></extra>",
         "legendgroup": "14.36778775510204",
         "marker": {
          "color": "#EF553B"
         },
         "name": "14.36778775510204",
         "offsetgroup": "14.36778775510204",
         "orientation": "v",
         "showlegend": true,
         "type": "histogram",
         "x": [
          0.006892867824729795
         ],
         "xaxis": "x",
         "yaxis": "y"
        },
        {
         "alignmentgroup": "True",
         "bingroup": "x",
         "hovertemplate": "E=15.020832653061223<br>Beta2=%{x}<br>count=%{y}<extra></extra>",
         "legendgroup": "15.020832653061223",
         "marker": {
          "color": "#00cc96"
         },
         "name": "15.020832653061223",
         "offsetgroup": "15.020832653061223",
         "orientation": "v",
         "showlegend": true,
         "type": "histogram",
         "x": [
          0.006593193880075391
         ],
         "xaxis": "x",
         "yaxis": "y"
        },
        {
         "alignmentgroup": "True",
         "bingroup": "x",
         "hovertemplate": "E=15.673877551020407<br>Beta2=%{x}<br>count=%{y}<extra></extra>",
         "legendgroup": "15.673877551020407",
         "marker": {
          "color": "#ab63fa"
         },
         "name": "15.673877551020407",
         "offsetgroup": "15.673877551020407",
         "orientation": "v",
         "showlegend": true,
         "type": "histogram",
         "x": [
          0.006318491489627668
         ],
         "xaxis": "x",
         "yaxis": "y"
        },
        {
         "alignmentgroup": "True",
         "bingroup": "x",
         "hovertemplate": "E=16.32692244897959<br>Beta2=%{x}<br>count=%{y}<extra></extra>",
         "legendgroup": "16.32692244897959",
         "marker": {
          "color": "#FFA15A"
         },
         "name": "16.32692244897959",
         "offsetgroup": "16.32692244897959",
         "orientation": "v",
         "showlegend": true,
         "type": "histogram",
         "x": [
          0.006065764213619362
         ],
         "xaxis": "x",
         "yaxis": "y"
        },
        {
         "alignmentgroup": "True",
         "bingroup": "x",
         "hovertemplate": "E=16.979967346938775<br>Beta2=%{x}<br>count=%{y}<extra></extra>",
         "legendgroup": "16.979967346938775",
         "marker": {
          "color": "#19d3f3"
         },
         "name": "16.979967346938775",
         "offsetgroup": "16.979967346938775",
         "orientation": "v",
         "showlegend": true,
         "type": "histogram",
         "x": [
          0.00583247658143012
         ],
         "xaxis": "x",
         "yaxis": "y"
        },
        {
         "alignmentgroup": "True",
         "bingroup": "x",
         "hovertemplate": "E=17.63301224489796<br>Beta2=%{x}<br>count=%{y}<extra></extra>",
         "legendgroup": "17.63301224489796",
         "marker": {
          "color": "#FF6692"
         },
         "name": "17.63301224489796",
         "offsetgroup": "17.63301224489796",
         "orientation": "v",
         "showlegend": true,
         "type": "histogram",
         "x": [
          0.005616468730637243
         ],
         "xaxis": "x",
         "yaxis": "y"
        },
        {
         "alignmentgroup": "True",
         "bingroup": "x",
         "hovertemplate": "E=18.286057142857143<br>Beta2=%{x}<br>count=%{y}<extra></extra>",
         "legendgroup": "18.286057142857143",
         "marker": {
          "color": "#B6E880"
         },
         "name": "18.286057142857143",
         "offsetgroup": "18.286057142857143",
         "orientation": "v",
         "showlegend": true,
         "type": "histogram",
         "x": [
          0.0054158893369942755
         ],
         "xaxis": "x",
         "yaxis": "y"
        },
        {
         "alignmentgroup": "True",
         "bingroup": "x",
         "hovertemplate": "E=18.939102040816326<br>Beta2=%{x}<br>count=%{y}<extra></extra>",
         "legendgroup": "18.939102040816326",
         "marker": {
          "color": "#FF97FF"
         },
         "name": "18.939102040816326",
         "offsetgroup": "18.939102040816326",
         "orientation": "v",
         "showlegend": true,
         "type": "histogram",
         "x": [
          0.00522914242077755
         ],
         "xaxis": "x",
         "yaxis": "y"
        },
        {
         "alignmentgroup": "True",
         "bingroup": "x",
         "hovertemplate": "E=19.59214693877551<br>Beta2=%{x}<br>count=%{y}<extra></extra>",
         "legendgroup": "19.59214693877551",
         "marker": {
          "color": "#FECB52"
         },
         "name": "19.59214693877551",
         "offsetgroup": "19.59214693877551",
         "orientation": "v",
         "showlegend": true,
         "type": "histogram",
         "x": [
          0.005054844790552984
         ],
         "xaxis": "x",
         "yaxis": "y"
        },
        {
         "alignmentgroup": "True",
         "bingroup": "x",
         "hovertemplate": "E=20.245191836734694<br>Beta2=%{x}<br>count=%{y}<extra></extra>",
         "legendgroup": "20.245191836734694",
         "marker": {
          "color": "#636efa"
         },
         "name": "20.245191836734694",
         "offsetgroup": "20.245191836734694",
         "orientation": "v",
         "showlegend": true,
         "type": "histogram",
         "x": [
          0.004891791724398562
         ],
         "xaxis": "x",
         "yaxis": "y"
        },
        {
         "alignmentgroup": "True",
         "bingroup": "x",
         "hovertemplate": "E=20.898236734693878<br>Beta2=%{x}<br>count=%{y}<extra></extra>",
         "legendgroup": "20.898236734693878",
         "marker": {
          "color": "#EF553B"
         },
         "name": "20.898236734693878",
         "offsetgroup": "20.898236734693878",
         "orientation": "v",
         "showlegend": true,
         "type": "histogram",
         "x": [
          0.0047389290848576454
         ],
         "xaxis": "x",
         "yaxis": "y"
        },
        {
         "alignmentgroup": "True",
         "bingroup": "x",
         "hovertemplate": "E=21.551281632653062<br>Beta2=%{x}<br>count=%{y}<extra></extra>",
         "legendgroup": "21.551281632653062",
         "marker": {
          "color": "#00cc96"
         },
         "name": "21.551281632653062",
         "offsetgroup": "21.551281632653062",
         "orientation": "v",
         "showlegend": true,
         "type": "histogram",
         "x": [
          0.00459533050376093
         ],
         "xaxis": "x",
         "yaxis": "y"
        },
        {
         "alignmentgroup": "True",
         "bingroup": "x",
         "hovertemplate": "E=22.204326530612246<br>Beta2=%{x}<br>count=%{y}<extra></extra>",
         "legendgroup": "22.204326530612246",
         "marker": {
          "color": "#ab63fa"
         },
         "name": "22.204326530612246",
         "offsetgroup": "22.204326530612246",
         "orientation": "v",
         "showlegend": true,
         "type": "histogram",
         "x": [
          0.0044601785936704145
         ],
         "xaxis": "x",
         "yaxis": "y"
        },
        {
         "alignmentgroup": "True",
         "bingroup": "x",
         "hovertemplate": "E=22.85737142857143<br>Beta2=%{x}<br>count=%{y}<extra></extra>",
         "legendgroup": "22.85737142857143",
         "marker": {
          "color": "#FFA15A"
         },
         "name": "22.85737142857143",
         "offsetgroup": "22.85737142857143",
         "orientation": "v",
         "showlegend": true,
         "type": "histogram",
         "x": [
          0.004332749379592583
         ],
         "xaxis": "x",
         "yaxis": "y"
        },
        {
         "alignmentgroup": "True",
         "bingroup": "x",
         "hovertemplate": "E=23.510416326530613<br>Beta2=%{x}<br>count=%{y}<extra></extra>",
         "legendgroup": "23.510416326530613",
         "marker": {
          "color": "#19d3f3"
         },
         "name": "23.510416326530613",
         "offsetgroup": "23.510416326530613",
         "orientation": "v",
         "showlegend": true,
         "type": "histogram",
         "x": [
          0.004212399325484196
         ],
         "xaxis": "x",
         "yaxis": "y"
        },
        {
         "alignmentgroup": "True",
         "bingroup": "x",
         "hovertemplate": "E=24.163461224489797<br>Beta2=%{x}<br>count=%{y}<extra></extra>",
         "legendgroup": "24.163461224489797",
         "marker": {
          "color": "#FF6692"
         },
         "name": "24.163461224489797",
         "offsetgroup": "24.163461224489797",
         "orientation": "v",
         "showlegend": true,
         "type": "histogram",
         "x": [
          0.0040985544642373395
         ],
         "xaxis": "x",
         "yaxis": "y"
        },
        {
         "alignmentgroup": "True",
         "bingroup": "x",
         "hovertemplate": "E=24.81650612244898<br>Beta2=%{x}<br>count=%{y}<extra></extra>",
         "legendgroup": "24.81650612244898",
         "marker": {
          "color": "#B6E880"
         },
         "name": "24.81650612244898",
         "offsetgroup": "24.81650612244898",
         "orientation": "v",
         "showlegend": true,
         "type": "histogram",
         "x": [
          0.003990701244663505
         ],
         "xaxis": "x",
         "yaxis": "y"
        },
        {
         "alignmentgroup": "True",
         "bingroup": "x",
         "hovertemplate": "E=25.469551020408165<br>Beta2=%{x}<br>count=%{y}<extra></extra>",
         "legendgroup": "25.469551020408165",
         "marker": {
          "color": "#FF97FF"
         },
         "name": "25.469551020408165",
         "offsetgroup": "25.469551020408165",
         "orientation": "v",
         "showlegend": true,
         "type": "histogram",
         "x": [
          0.003888378785664286
         ],
         "xaxis": "x",
         "yaxis": "y"
        },
        {
         "alignmentgroup": "True",
         "bingroup": "x",
         "hovertemplate": "E=26.12259591836735<br>Beta2=%{x}<br>count=%{y}<extra></extra>",
         "legendgroup": "26.12259591836735",
         "marker": {
          "color": "#FECB52"
         },
         "name": "26.12259591836735",
         "offsetgroup": "26.12259591836735",
         "orientation": "v",
         "showlegend": true,
         "type": "histogram",
         "x": [
          0.0037911722930978036
         ],
         "xaxis": "x",
         "yaxis": "y"
        },
        {
         "alignmentgroup": "True",
         "bingroup": "x",
         "hovertemplate": "E=26.77564081632653<br>Beta2=%{x}<br>count=%{y}<extra></extra>",
         "legendgroup": "26.77564081632653",
         "marker": {
          "color": "#636efa"
         },
         "name": "26.77564081632653",
         "offsetgroup": "26.77564081632653",
         "orientation": "v",
         "showlegend": true,
         "type": "histogram",
         "x": [
          0.0036987074388085354
         ],
         "xaxis": "x",
         "yaxis": "y"
        },
        {
         "alignmentgroup": "True",
         "bingroup": "x",
         "hovertemplate": "E=27.428685714285713<br>Beta2=%{x}<br>count=%{y}<extra></extra>",
         "legendgroup": "27.428685714285713",
         "marker": {
          "color": "#EF553B"
         },
         "name": "27.428685714285713",
         "offsetgroup": "27.428685714285713",
         "orientation": "v",
         "showlegend": true,
         "type": "histogram",
         "x": [
          0.0036106455445674146
         ],
         "xaxis": "x",
         "yaxis": "y"
        },
        {
         "alignmentgroup": "True",
         "bingroup": "x",
         "hovertemplate": "E=28.081730612244897<br>Beta2=%{x}<br>count=%{y}<extra></extra>",
         "legendgroup": "28.081730612244897",
         "marker": {
          "color": "#00cc96"
         },
         "name": "28.081730612244897",
         "offsetgroup": "28.081730612244897",
         "orientation": "v",
         "showlegend": true,
         "type": "histogram",
         "x": [
          0.0035266794355375453
         ],
         "xaxis": "x",
         "yaxis": "y"
        },
        {
         "alignmentgroup": "True",
         "bingroup": "x",
         "hovertemplate": "E=28.73477551020408<br>Beta2=%{x}<br>count=%{y}<extra></extra>",
         "legendgroup": "28.73477551020408",
         "marker": {
          "color": "#ab63fa"
         },
         "name": "28.73477551020408",
         "offsetgroup": "28.73477551020408",
         "orientation": "v",
         "showlegend": true,
         "type": "histogram",
         "x": [
          0.0034465298616028015
         ],
         "xaxis": "x",
         "yaxis": "y"
        },
        {
         "alignmentgroup": "True",
         "bingroup": "x",
         "hovertemplate": "E=29.387820408163265<br>Beta2=%{x}<br>count=%{y}<extra></extra>",
         "legendgroup": "29.387820408163265",
         "marker": {
          "color": "#FFA15A"
         },
         "name": "29.387820408163265",
         "offsetgroup": "29.387820408163265",
         "orientation": "v",
         "showlegend": true,
         "type": "histogram",
         "x": [
          0.00336994239406957
         ],
         "xaxis": "x",
         "yaxis": "y"
        },
        {
         "alignmentgroup": "True",
         "bingroup": "x",
         "hovertemplate": "E=30.04086530612245<br>Beta2=%{x}<br>count=%{y}<extra></extra>",
         "legendgroup": "30.04086530612245",
         "marker": {
          "color": "#19d3f3"
         },
         "name": "30.04086530612245",
         "offsetgroup": "30.04086530612245",
         "orientation": "v",
         "showlegend": true,
         "type": "histogram",
         "x": [
          0.003296684727692307
         ],
         "xaxis": "x",
         "yaxis": "y"
        },
        {
         "alignmentgroup": "True",
         "bingroup": "x",
         "hovertemplate": "E=30.693910204081632<br>Beta2=%{x}<br>count=%{y}<extra></extra>",
         "legendgroup": "30.693910204081632",
         "marker": {
          "color": "#FF6692"
         },
         "name": "30.693910204081632",
         "offsetgroup": "30.693910204081632",
         "orientation": "v",
         "showlegend": true,
         "type": "histogram",
         "x": [
          0.0032265443276582287
         ],
         "xaxis": "x",
         "yaxis": "y"
        },
        {
         "alignmentgroup": "True",
         "bingroup": "x",
         "hovertemplate": "E=31.346955102040816<br>Beta2=%{x}<br>count=%{y}<extra></extra>",
         "legendgroup": "31.346955102040816",
         "marker": {
          "color": "#B6E880"
         },
         "name": "31.346955102040816",
         "offsetgroup": "31.346955102040816",
         "orientation": "v",
         "showlegend": true,
         "type": "histogram",
         "x": [
          0.0031593263695929735
         ],
         "xaxis": "x",
         "yaxis": "y"
        },
        {
         "alignmentgroup": "True",
         "bingroup": "x",
         "hovertemplate": "E=32.0<br>Beta2=%{x}<br>count=%{y}<extra></extra>",
         "legendgroup": "32.0",
         "marker": {
          "color": "#FF97FF"
         },
         "name": "32.0",
         "offsetgroup": "32.0",
         "orientation": "v",
         "showlegend": true,
         "type": "histogram",
         "x": [
          0.0030948519331158234
         ],
         "xaxis": "x",
         "yaxis": "y"
        }
       ],
       "layout": {
        "barmode": "relative",
        "legend": {
         "title": {
          "text": "E"
         },
         "tracegroupgap": 0
        },
        "margin": {
         "t": 60
        },
        "shapes": [
         {
          "line": {
           "color": "orange"
          },
          "type": "line",
          "x0": 0.3490658503988659,
          "x1": 0.3490658503988659,
          "xref": "x",
          "y0": 0,
          "y1": 1,
          "yref": "y domain"
         }
        ],
        "template": {
         "data": {
          "bar": [
           {
            "error_x": {
             "color": "#2a3f5f"
            },
            "error_y": {
             "color": "#2a3f5f"
            },
            "marker": {
             "line": {
              "color": "#E5ECF6",
              "width": 0.5
             }
            },
            "type": "bar"
           }
          ],
          "barpolar": [
           {
            "marker": {
             "line": {
              "color": "#E5ECF6",
              "width": 0.5
             }
            },
            "type": "barpolar"
           }
          ],
          "carpet": [
           {
            "aaxis": {
             "endlinecolor": "#2a3f5f",
             "gridcolor": "white",
             "linecolor": "white",
             "minorgridcolor": "white",
             "startlinecolor": "#2a3f5f"
            },
            "baxis": {
             "endlinecolor": "#2a3f5f",
             "gridcolor": "white",
             "linecolor": "white",
             "minorgridcolor": "white",
             "startlinecolor": "#2a3f5f"
            },
            "type": "carpet"
           }
          ],
          "choropleth": [
           {
            "colorbar": {
             "outlinewidth": 0,
             "ticks": ""
            },
            "type": "choropleth"
           }
          ],
          "contour": [
           {
            "colorbar": {
             "outlinewidth": 0,
             "ticks": ""
            },
            "colorscale": [
             [
              0,
              "#0d0887"
             ],
             [
              0.1111111111111111,
              "#46039f"
             ],
             [
              0.2222222222222222,
              "#7201a8"
             ],
             [
              0.3333333333333333,
              "#9c179e"
             ],
             [
              0.4444444444444444,
              "#bd3786"
             ],
             [
              0.5555555555555556,
              "#d8576b"
             ],
             [
              0.6666666666666666,
              "#ed7953"
             ],
             [
              0.7777777777777778,
              "#fb9f3a"
             ],
             [
              0.8888888888888888,
              "#fdca26"
             ],
             [
              1,
              "#f0f921"
             ]
            ],
            "type": "contour"
           }
          ],
          "contourcarpet": [
           {
            "colorbar": {
             "outlinewidth": 0,
             "ticks": ""
            },
            "type": "contourcarpet"
           }
          ],
          "heatmap": [
           {
            "colorbar": {
             "outlinewidth": 0,
             "ticks": ""
            },
            "colorscale": [
             [
              0,
              "#0d0887"
             ],
             [
              0.1111111111111111,
              "#46039f"
             ],
             [
              0.2222222222222222,
              "#7201a8"
             ],
             [
              0.3333333333333333,
              "#9c179e"
             ],
             [
              0.4444444444444444,
              "#bd3786"
             ],
             [
              0.5555555555555556,
              "#d8576b"
             ],
             [
              0.6666666666666666,
              "#ed7953"
             ],
             [
              0.7777777777777778,
              "#fb9f3a"
             ],
             [
              0.8888888888888888,
              "#fdca26"
             ],
             [
              1,
              "#f0f921"
             ]
            ],
            "type": "heatmap"
           }
          ],
          "heatmapgl": [
           {
            "colorbar": {
             "outlinewidth": 0,
             "ticks": ""
            },
            "colorscale": [
             [
              0,
              "#0d0887"
             ],
             [
              0.1111111111111111,
              "#46039f"
             ],
             [
              0.2222222222222222,
              "#7201a8"
             ],
             [
              0.3333333333333333,
              "#9c179e"
             ],
             [
              0.4444444444444444,
              "#bd3786"
             ],
             [
              0.5555555555555556,
              "#d8576b"
             ],
             [
              0.6666666666666666,
              "#ed7953"
             ],
             [
              0.7777777777777778,
              "#fb9f3a"
             ],
             [
              0.8888888888888888,
              "#fdca26"
             ],
             [
              1,
              "#f0f921"
             ]
            ],
            "type": "heatmapgl"
           }
          ],
          "histogram": [
           {
            "marker": {
             "colorbar": {
              "outlinewidth": 0,
              "ticks": ""
             }
            },
            "type": "histogram"
           }
          ],
          "histogram2d": [
           {
            "colorbar": {
             "outlinewidth": 0,
             "ticks": ""
            },
            "colorscale": [
             [
              0,
              "#0d0887"
             ],
             [
              0.1111111111111111,
              "#46039f"
             ],
             [
              0.2222222222222222,
              "#7201a8"
             ],
             [
              0.3333333333333333,
              "#9c179e"
             ],
             [
              0.4444444444444444,
              "#bd3786"
             ],
             [
              0.5555555555555556,
              "#d8576b"
             ],
             [
              0.6666666666666666,
              "#ed7953"
             ],
             [
              0.7777777777777778,
              "#fb9f3a"
             ],
             [
              0.8888888888888888,
              "#fdca26"
             ],
             [
              1,
              "#f0f921"
             ]
            ],
            "type": "histogram2d"
           }
          ],
          "histogram2dcontour": [
           {
            "colorbar": {
             "outlinewidth": 0,
             "ticks": ""
            },
            "colorscale": [
             [
              0,
              "#0d0887"
             ],
             [
              0.1111111111111111,
              "#46039f"
             ],
             [
              0.2222222222222222,
              "#7201a8"
             ],
             [
              0.3333333333333333,
              "#9c179e"
             ],
             [
              0.4444444444444444,
              "#bd3786"
             ],
             [
              0.5555555555555556,
              "#d8576b"
             ],
             [
              0.6666666666666666,
              "#ed7953"
             ],
             [
              0.7777777777777778,
              "#fb9f3a"
             ],
             [
              0.8888888888888888,
              "#fdca26"
             ],
             [
              1,
              "#f0f921"
             ]
            ],
            "type": "histogram2dcontour"
           }
          ],
          "mesh3d": [
           {
            "colorbar": {
             "outlinewidth": 0,
             "ticks": ""
            },
            "type": "mesh3d"
           }
          ],
          "parcoords": [
           {
            "line": {
             "colorbar": {
              "outlinewidth": 0,
              "ticks": ""
             }
            },
            "type": "parcoords"
           }
          ],
          "pie": [
           {
            "automargin": true,
            "type": "pie"
           }
          ],
          "scatter": [
           {
            "marker": {
             "colorbar": {
              "outlinewidth": 0,
              "ticks": ""
             }
            },
            "type": "scatter"
           }
          ],
          "scatter3d": [
           {
            "line": {
             "colorbar": {
              "outlinewidth": 0,
              "ticks": ""
             }
            },
            "marker": {
             "colorbar": {
              "outlinewidth": 0,
              "ticks": ""
             }
            },
            "type": "scatter3d"
           }
          ],
          "scattercarpet": [
           {
            "marker": {
             "colorbar": {
              "outlinewidth": 0,
              "ticks": ""
             }
            },
            "type": "scattercarpet"
           }
          ],
          "scattergeo": [
           {
            "marker": {
             "colorbar": {
              "outlinewidth": 0,
              "ticks": ""
             }
            },
            "type": "scattergeo"
           }
          ],
          "scattergl": [
           {
            "marker": {
             "colorbar": {
              "outlinewidth": 0,
              "ticks": ""
             }
            },
            "type": "scattergl"
           }
          ],
          "scattermapbox": [
           {
            "marker": {
             "colorbar": {
              "outlinewidth": 0,
              "ticks": ""
             }
            },
            "type": "scattermapbox"
           }
          ],
          "scatterpolar": [
           {
            "marker": {
             "colorbar": {
              "outlinewidth": 0,
              "ticks": ""
             }
            },
            "type": "scatterpolar"
           }
          ],
          "scatterpolargl": [
           {
            "marker": {
             "colorbar": {
              "outlinewidth": 0,
              "ticks": ""
             }
            },
            "type": "scatterpolargl"
           }
          ],
          "scatterternary": [
           {
            "marker": {
             "colorbar": {
              "outlinewidth": 0,
              "ticks": ""
             }
            },
            "type": "scatterternary"
           }
          ],
          "surface": [
           {
            "colorbar": {
             "outlinewidth": 0,
             "ticks": ""
            },
            "colorscale": [
             [
              0,
              "#0d0887"
             ],
             [
              0.1111111111111111,
              "#46039f"
             ],
             [
              0.2222222222222222,
              "#7201a8"
             ],
             [
              0.3333333333333333,
              "#9c179e"
             ],
             [
              0.4444444444444444,
              "#bd3786"
             ],
             [
              0.5555555555555556,
              "#d8576b"
             ],
             [
              0.6666666666666666,
              "#ed7953"
             ],
             [
              0.7777777777777778,
              "#fb9f3a"
             ],
             [
              0.8888888888888888,
              "#fdca26"
             ],
             [
              1,
              "#f0f921"
             ]
            ],
            "type": "surface"
           }
          ],
          "table": [
           {
            "cells": {
             "fill": {
              "color": "#EBF0F8"
             },
             "line": {
              "color": "white"
             }
            },
            "header": {
             "fill": {
              "color": "#C8D4E3"
             },
             "line": {
              "color": "white"
             }
            },
            "type": "table"
           }
          ]
         },
         "layout": {
          "annotationdefaults": {
           "arrowcolor": "#2a3f5f",
           "arrowhead": 0,
           "arrowwidth": 1
          },
          "autotypenumbers": "strict",
          "coloraxis": {
           "colorbar": {
            "outlinewidth": 0,
            "ticks": ""
           }
          },
          "colorscale": {
           "diverging": [
            [
             0,
             "#8e0152"
            ],
            [
             0.1,
             "#c51b7d"
            ],
            [
             0.2,
             "#de77ae"
            ],
            [
             0.3,
             "#f1b6da"
            ],
            [
             0.4,
             "#fde0ef"
            ],
            [
             0.5,
             "#f7f7f7"
            ],
            [
             0.6,
             "#e6f5d0"
            ],
            [
             0.7,
             "#b8e186"
            ],
            [
             0.8,
             "#7fbc41"
            ],
            [
             0.9,
             "#4d9221"
            ],
            [
             1,
             "#276419"
            ]
           ],
           "sequential": [
            [
             0,
             "#0d0887"
            ],
            [
             0.1111111111111111,
             "#46039f"
            ],
            [
             0.2222222222222222,
             "#7201a8"
            ],
            [
             0.3333333333333333,
             "#9c179e"
            ],
            [
             0.4444444444444444,
             "#bd3786"
            ],
            [
             0.5555555555555556,
             "#d8576b"
            ],
            [
             0.6666666666666666,
             "#ed7953"
            ],
            [
             0.7777777777777778,
             "#fb9f3a"
            ],
            [
             0.8888888888888888,
             "#fdca26"
            ],
            [
             1,
             "#f0f921"
            ]
           ],
           "sequentialminus": [
            [
             0,
             "#0d0887"
            ],
            [
             0.1111111111111111,
             "#46039f"
            ],
            [
             0.2222222222222222,
             "#7201a8"
            ],
            [
             0.3333333333333333,
             "#9c179e"
            ],
            [
             0.4444444444444444,
             "#bd3786"
            ],
            [
             0.5555555555555556,
             "#d8576b"
            ],
            [
             0.6666666666666666,
             "#ed7953"
            ],
            [
             0.7777777777777778,
             "#fb9f3a"
            ],
            [
             0.8888888888888888,
             "#fdca26"
            ],
            [
             1,
             "#f0f921"
            ]
           ]
          },
          "colorway": [
           "#636efa",
           "#EF553B",
           "#00cc96",
           "#ab63fa",
           "#FFA15A",
           "#19d3f3",
           "#FF6692",
           "#B6E880",
           "#FF97FF",
           "#FECB52"
          ],
          "font": {
           "color": "#2a3f5f"
          },
          "geo": {
           "bgcolor": "white",
           "lakecolor": "white",
           "landcolor": "#E5ECF6",
           "showlakes": true,
           "showland": true,
           "subunitcolor": "white"
          },
          "hoverlabel": {
           "align": "left"
          },
          "hovermode": "closest",
          "mapbox": {
           "style": "light"
          },
          "paper_bgcolor": "white",
          "plot_bgcolor": "#E5ECF6",
          "polar": {
           "angularaxis": {
            "gridcolor": "white",
            "linecolor": "white",
            "ticks": ""
           },
           "bgcolor": "#E5ECF6",
           "radialaxis": {
            "gridcolor": "white",
            "linecolor": "white",
            "ticks": ""
           }
          },
          "scene": {
           "xaxis": {
            "backgroundcolor": "#E5ECF6",
            "gridcolor": "white",
            "gridwidth": 2,
            "linecolor": "white",
            "showbackground": true,
            "ticks": "",
            "zerolinecolor": "white"
           },
           "yaxis": {
            "backgroundcolor": "#E5ECF6",
            "gridcolor": "white",
            "gridwidth": 2,
            "linecolor": "white",
            "showbackground": true,
            "ticks": "",
            "zerolinecolor": "white"
           },
           "zaxis": {
            "backgroundcolor": "#E5ECF6",
            "gridcolor": "white",
            "gridwidth": 2,
            "linecolor": "white",
            "showbackground": true,
            "ticks": "",
            "zerolinecolor": "white"
           }
          },
          "shapedefaults": {
           "line": {
            "color": "#2a3f5f"
           }
          },
          "ternary": {
           "aaxis": {
            "gridcolor": "white",
            "linecolor": "white",
            "ticks": ""
           },
           "baxis": {
            "gridcolor": "white",
            "linecolor": "white",
            "ticks": ""
           },
           "bgcolor": "#E5ECF6",
           "caxis": {
            "gridcolor": "white",
            "linecolor": "white",
            "ticks": ""
           }
          },
          "title": {
           "x": 0.05
          },
          "xaxis": {
           "automargin": true,
           "gridcolor": "white",
           "linecolor": "white",
           "ticks": "",
           "title": {
            "standoff": 15
           },
           "zerolinecolor": "white",
           "zerolinewidth": 2
          },
          "yaxis": {
           "automargin": true,
           "gridcolor": "white",
           "linecolor": "white",
           "ticks": "",
           "title": {
            "standoff": 15
           },
           "zerolinecolor": "white",
           "zerolinewidth": 2
          }
         }
        },
        "xaxis": {
         "anchor": "y",
         "domain": [
          0,
          1
         ],
         "title": {
          "text": "Beta2"
         }
        },
        "yaxis": {
         "anchor": "x",
         "domain": [
          0,
          1
         ],
         "title": {
          "text": "count"
         }
        }
       }
      },
      "text/html": [
       "<div>                            <div id=\"eb9e065d-868a-4ce3-be99-ca2ecf698062\" class=\"plotly-graph-div\" style=\"height:525px; width:100%;\"></div>            <script type=\"text/javascript\">                require([\"plotly\"], function(Plotly) {                    window.PLOTLYENV=window.PLOTLYENV || {};                                    if (document.getElementById(\"eb9e065d-868a-4ce3-be99-ca2ecf698062\")) {                    Plotly.newPlot(                        \"eb9e065d-868a-4ce3-be99-ca2ecf698062\",                        [{\"alignmentgroup\": \"True\", \"bingroup\": \"x\", \"hovertemplate\": \"E=0.6538448979591837<br>Beta2=%{x}<br>count=%{y}<extra></extra>\", \"legendgroup\": \"0.6538448979591837\", \"marker\": {\"color\": \"#636efa\"}, \"name\": \"0.6538448979591837\", \"offsetgroup\": \"0.6538448979591837\", \"orientation\": \"v\", \"showlegend\": true, \"type\": \"histogram\", \"x\": [0.152992442137892], \"xaxis\": \"x\", \"yaxis\": \"y\"}, {\"alignmentgroup\": \"True\", \"bingroup\": \"x\", \"hovertemplate\": \"E=1.3068897959183672<br>Beta2=%{x}<br>count=%{y}<extra></extra>\", \"legendgroup\": \"1.3068897959183672\", \"marker\": {\"color\": \"#EF553B\"}, \"name\": \"1.3068897959183672\", \"offsetgroup\": \"1.3068897959183672\", \"orientation\": \"v\", \"showlegend\": true, \"type\": \"histogram\", \"x\": [0.07577936012550922], \"xaxis\": \"x\", \"yaxis\": \"y\"}, {\"alignmentgroup\": \"True\", \"bingroup\": \"x\", \"hovertemplate\": \"E=1.9599346938775508<br>Beta2=%{x}<br>count=%{y}<extra></extra>\", \"legendgroup\": \"1.9599346938775508\", \"marker\": {\"color\": \"#00cc96\"}, \"name\": \"1.9599346938775508\", \"offsetgroup\": \"1.9599346938775508\", \"orientation\": \"v\", \"showlegend\": true, \"type\": \"histogram\", \"x\": [0.050529880860035986], \"xaxis\": \"x\", \"yaxis\": \"y\"}, {\"alignmentgroup\": \"True\", \"bingroup\": \"x\", \"hovertemplate\": \"E=2.6129795918367344<br>Beta2=%{x}<br>count=%{y}<extra></extra>\", \"legendgroup\": \"2.6129795918367344\", \"marker\": {\"color\": \"#ab63fa\"}, \"name\": \"2.6129795918367344\", \"offsetgroup\": \"2.6129795918367344\", \"orientation\": \"v\", \"showlegend\": true, \"type\": \"histogram\", \"x\": [0.037901277458888515], \"xaxis\": \"x\", \"yaxis\": \"y\"}, {\"alignmentgroup\": \"True\", \"bingroup\": \"x\", \"hovertemplate\": \"E=3.2660244897959183<br>Beta2=%{x}<br>count=%{y}<extra></extra>\", \"legendgroup\": \"3.2660244897959183\", \"marker\": {\"color\": \"#FFA15A\"}, \"name\": \"3.2660244897959183\", \"offsetgroup\": \"3.2660244897959183\", \"orientation\": \"v\", \"showlegend\": true, \"type\": \"histogram\", \"x\": [0.030322878427744372], \"xaxis\": \"x\", \"yaxis\": \"y\"}, {\"alignmentgroup\": \"True\", \"bingroup\": \"x\", \"hovertemplate\": \"E=3.9190693877551017<br>Beta2=%{x}<br>count=%{y}<extra></extra>\", \"legendgroup\": \"3.9190693877551017\", \"marker\": {\"color\": \"#19d3f3\"}, \"name\": \"3.9190693877551017\", \"offsetgroup\": \"3.9190693877551017\", \"orientation\": \"v\", \"showlegend\": true, \"type\": \"histogram\", \"x\": [0.025270096858929107], \"xaxis\": \"x\", \"yaxis\": \"y\"}, {\"alignmentgroup\": \"True\", \"bingroup\": \"x\", \"hovertemplate\": \"E=4.572114285714285<br>Beta2=%{x}<br>count=%{y}<extra></extra>\", \"legendgroup\": \"4.572114285714285\", \"marker\": {\"color\": \"#FF6692\"}, \"name\": \"4.572114285714285\", \"offsetgroup\": \"4.572114285714285\", \"orientation\": \"v\", \"showlegend\": true, \"type\": \"histogram\", \"x\": [0.021660714610933763], \"xaxis\": \"x\", \"yaxis\": \"y\"}, {\"alignmentgroup\": \"True\", \"bingroup\": \"x\", \"hovertemplate\": \"E=5.225159183673469<br>Beta2=%{x}<br>count=%{y}<extra></extra>\", \"legendgroup\": \"5.225159183673469\", \"marker\": {\"color\": \"#B6E880\"}, \"name\": \"5.225159183673469\", \"offsetgroup\": \"5.225159183673469\", \"orientation\": \"v\", \"showlegend\": true, \"type\": \"histogram\", \"x\": [0.01895353979206202], \"xaxis\": \"x\", \"yaxis\": \"y\"}, {\"alignmentgroup\": \"True\", \"bingroup\": \"x\", \"hovertemplate\": \"E=5.878204081632653<br>Beta2=%{x}<br>count=%{y}<extra></extra>\", \"legendgroup\": \"5.878204081632653\", \"marker\": {\"color\": \"#FF97FF\"}, \"name\": \"5.878204081632653\", \"offsetgroup\": \"5.878204081632653\", \"orientation\": \"v\", \"showlegend\": true, \"type\": \"histogram\", \"x\": [0.01684787751370245], \"xaxis\": \"x\", \"yaxis\": \"y\"}, {\"alignmentgroup\": \"True\", \"bingroup\": \"x\", \"hovertemplate\": \"E=6.531248979591837<br>Beta2=%{x}<br>count=%{y}<extra></extra>\", \"legendgroup\": \"6.531248979591837\", \"marker\": {\"color\": \"#FECB52\"}, \"name\": \"6.531248979591837\", \"offsetgroup\": \"6.531248979591837\", \"orientation\": \"v\", \"showlegend\": true, \"type\": \"histogram\", \"x\": [0.015163296113414203], \"xaxis\": \"x\", \"yaxis\": \"y\"}, {\"alignmentgroup\": \"True\", \"bingroup\": \"x\", \"hovertemplate\": \"E=7.18429387755102<br>Beta2=%{x}<br>count=%{y}<extra></extra>\", \"legendgroup\": \"7.18429387755102\", \"marker\": {\"color\": \"#636efa\"}, \"name\": \"7.18429387755102\", \"offsetgroup\": \"7.18429387755102\", \"orientation\": \"v\", \"showlegend\": true, \"type\": \"histogram\", \"x\": [0.013784968137717547], \"xaxis\": \"x\", \"yaxis\": \"y\"}, {\"alignmentgroup\": \"True\", \"bingroup\": \"x\", \"hovertemplate\": \"E=7.8373387755102035<br>Beta2=%{x}<br>count=%{y}<extra></extra>\", \"legendgroup\": \"7.8373387755102035\", \"marker\": {\"color\": \"#EF553B\"}, \"name\": \"7.8373387755102035\", \"offsetgroup\": \"7.8373387755102035\", \"orientation\": \"v\", \"showlegend\": true, \"type\": \"histogram\", \"x\": [0.012636338044627523], \"xaxis\": \"x\", \"yaxis\": \"y\"}, {\"alignmentgroup\": \"True\", \"bingroup\": \"x\", \"hovertemplate\": \"E=8.490383673469386<br>Beta2=%{x}<br>count=%{y}<extra></extra>\", \"legendgroup\": \"8.490383673469386\", \"marker\": {\"color\": \"#00cc96\"}, \"name\": \"8.490383673469386\", \"offsetgroup\": \"8.490383673469386\", \"orientation\": \"v\", \"showlegend\": true, \"type\": \"histogram\", \"x\": [0.011664403624484706], \"xaxis\": \"x\", \"yaxis\": \"y\"}, {\"alignmentgroup\": \"True\", \"bingroup\": \"x\", \"hovertemplate\": \"E=9.14342857142857<br>Beta2=%{x}<br>count=%{y}<extra></extra>\", \"legendgroup\": \"9.14342857142857\", \"marker\": {\"color\": \"#ab63fa\"}, \"name\": \"9.14342857142857\", \"offsetgroup\": \"9.14342857142857\", \"orientation\": \"v\", \"showlegend\": true, \"type\": \"histogram\", \"x\": [0.010831304831177016], \"xaxis\": \"x\", \"yaxis\": \"y\"}, {\"alignmentgroup\": \"True\", \"bingroup\": \"x\", \"hovertemplate\": \"E=9.796473469387754<br>Beta2=%{x}<br>count=%{y}<extra></extra>\", \"legendgroup\": \"9.796473469387754\", \"marker\": {\"color\": \"#FFA15A\"}, \"name\": \"9.796473469387754\", \"offsetgroup\": \"9.796473469387754\", \"orientation\": \"v\", \"showlegend\": true, \"type\": \"histogram\", \"x\": [0.010109276806674793], \"xaxis\": \"x\", \"yaxis\": \"y\"}, {\"alignmentgroup\": \"True\", \"bingroup\": \"x\", \"hovertemplate\": \"E=10.449518367346938<br>Beta2=%{x}<br>count=%{y}<extra></extra>\", \"legendgroup\": \"10.449518367346938\", \"marker\": {\"color\": \"#19d3f3\"}, \"name\": \"10.449518367346938\", \"offsetgroup\": \"10.449518367346938\", \"orientation\": \"v\", \"showlegend\": true, \"type\": \"histogram\", \"x\": [0.009477495376013367], \"xaxis\": \"x\", \"yaxis\": \"y\"}, {\"alignmentgroup\": \"True\", \"bingroup\": \"x\", \"hovertemplate\": \"E=11.102563265306122<br>Beta2=%{x}<br>count=%{y}<extra></extra>\", \"legendgroup\": \"11.102563265306122\", \"marker\": {\"color\": \"#FF6692\"}, \"name\": \"11.102563265306122\", \"offsetgroup\": \"11.102563265306122\", \"orientation\": \"v\", \"showlegend\": true, \"type\": \"histogram\", \"x\": [0.008920035817206462], \"xaxis\": \"x\", \"yaxis\": \"y\"}, {\"alignmentgroup\": \"True\", \"bingroup\": \"x\", \"hovertemplate\": \"E=11.755608163265306<br>Beta2=%{x}<br>count=%{y}<extra></extra>\", \"legendgroup\": \"11.755608163265306\", \"marker\": {\"color\": \"#B6E880\"}, \"name\": \"11.755608163265306\", \"offsetgroup\": \"11.755608163265306\", \"orientation\": \"v\", \"showlegend\": true, \"type\": \"histogram\", \"x\": [0.008424511994441213], \"xaxis\": \"x\", \"yaxis\": \"y\"}, {\"alignmentgroup\": \"True\", \"bingroup\": \"x\", \"hovertemplate\": \"E=12.40865306122449<br>Beta2=%{x}<br>count=%{y}<extra></extra>\", \"legendgroup\": \"12.40865306122449\", \"marker\": {\"color\": \"#FF97FF\"}, \"name\": \"12.40865306122449\", \"offsetgroup\": \"12.40865306122449\", \"orientation\": \"v\", \"showlegend\": true, \"type\": \"histogram\", \"x\": [0.007981145211427986], \"xaxis\": \"x\", \"yaxis\": \"y\"}, {\"alignmentgroup\": \"True\", \"bingroup\": \"x\", \"hovertemplate\": \"E=13.061697959183673<br>Beta2=%{x}<br>count=%{y}<extra></extra>\", \"legendgroup\": \"13.061697959183673\", \"marker\": {\"color\": \"#FECB52\"}, \"name\": \"13.061697959183673\", \"offsetgroup\": \"13.061697959183673\", \"orientation\": \"v\", \"showlegend\": true, \"type\": \"histogram\", \"x\": [0.0075821123913343835], \"xaxis\": \"x\", \"yaxis\": \"y\"}, {\"alignmentgroup\": \"True\", \"bingroup\": \"x\", \"hovertemplate\": \"E=13.714742857142856<br>Beta2=%{x}<br>count=%{y}<extra></extra>\", \"legendgroup\": \"13.714742857142856\", \"marker\": {\"color\": \"#636efa\"}, \"name\": \"13.714742857142856\", \"offsetgroup\": \"13.714742857142856\", \"orientation\": \"v\", \"showlegend\": true, \"type\": \"histogram\", \"x\": [0.007221080480298248], \"xaxis\": \"x\", \"yaxis\": \"y\"}, {\"alignmentgroup\": \"True\", \"bingroup\": \"x\", \"hovertemplate\": \"E=14.36778775510204<br>Beta2=%{x}<br>count=%{y}<extra></extra>\", \"legendgroup\": \"14.36778775510204\", \"marker\": {\"color\": \"#EF553B\"}, \"name\": \"14.36778775510204\", \"offsetgroup\": \"14.36778775510204\", \"orientation\": \"v\", \"showlegend\": true, \"type\": \"histogram\", \"x\": [0.006892867824729795], \"xaxis\": \"x\", \"yaxis\": \"y\"}, {\"alignmentgroup\": \"True\", \"bingroup\": \"x\", \"hovertemplate\": \"E=15.020832653061223<br>Beta2=%{x}<br>count=%{y}<extra></extra>\", \"legendgroup\": \"15.020832653061223\", \"marker\": {\"color\": \"#00cc96\"}, \"name\": \"15.020832653061223\", \"offsetgroup\": \"15.020832653061223\", \"orientation\": \"v\", \"showlegend\": true, \"type\": \"histogram\", \"x\": [0.006593193880075391], \"xaxis\": \"x\", \"yaxis\": \"y\"}, {\"alignmentgroup\": \"True\", \"bingroup\": \"x\", \"hovertemplate\": \"E=15.673877551020407<br>Beta2=%{x}<br>count=%{y}<extra></extra>\", \"legendgroup\": \"15.673877551020407\", \"marker\": {\"color\": \"#ab63fa\"}, \"name\": \"15.673877551020407\", \"offsetgroup\": \"15.673877551020407\", \"orientation\": \"v\", \"showlegend\": true, \"type\": \"histogram\", \"x\": [0.006318491489627668], \"xaxis\": \"x\", \"yaxis\": \"y\"}, {\"alignmentgroup\": \"True\", \"bingroup\": \"x\", \"hovertemplate\": \"E=16.32692244897959<br>Beta2=%{x}<br>count=%{y}<extra></extra>\", \"legendgroup\": \"16.32692244897959\", \"marker\": {\"color\": \"#FFA15A\"}, \"name\": \"16.32692244897959\", \"offsetgroup\": \"16.32692244897959\", \"orientation\": \"v\", \"showlegend\": true, \"type\": \"histogram\", \"x\": [0.006065764213619362], \"xaxis\": \"x\", \"yaxis\": \"y\"}, {\"alignmentgroup\": \"True\", \"bingroup\": \"x\", \"hovertemplate\": \"E=16.979967346938775<br>Beta2=%{x}<br>count=%{y}<extra></extra>\", \"legendgroup\": \"16.979967346938775\", \"marker\": {\"color\": \"#19d3f3\"}, \"name\": \"16.979967346938775\", \"offsetgroup\": \"16.979967346938775\", \"orientation\": \"v\", \"showlegend\": true, \"type\": \"histogram\", \"x\": [0.00583247658143012], \"xaxis\": \"x\", \"yaxis\": \"y\"}, {\"alignmentgroup\": \"True\", \"bingroup\": \"x\", \"hovertemplate\": \"E=17.63301224489796<br>Beta2=%{x}<br>count=%{y}<extra></extra>\", \"legendgroup\": \"17.63301224489796\", \"marker\": {\"color\": \"#FF6692\"}, \"name\": \"17.63301224489796\", \"offsetgroup\": \"17.63301224489796\", \"orientation\": \"v\", \"showlegend\": true, \"type\": \"histogram\", \"x\": [0.005616468730637243], \"xaxis\": \"x\", \"yaxis\": \"y\"}, {\"alignmentgroup\": \"True\", \"bingroup\": \"x\", \"hovertemplate\": \"E=18.286057142857143<br>Beta2=%{x}<br>count=%{y}<extra></extra>\", \"legendgroup\": \"18.286057142857143\", \"marker\": {\"color\": \"#B6E880\"}, \"name\": \"18.286057142857143\", \"offsetgroup\": \"18.286057142857143\", \"orientation\": \"v\", \"showlegend\": true, \"type\": \"histogram\", \"x\": [0.0054158893369942755], \"xaxis\": \"x\", \"yaxis\": \"y\"}, {\"alignmentgroup\": \"True\", \"bingroup\": \"x\", \"hovertemplate\": \"E=18.939102040816326<br>Beta2=%{x}<br>count=%{y}<extra></extra>\", \"legendgroup\": \"18.939102040816326\", \"marker\": {\"color\": \"#FF97FF\"}, \"name\": \"18.939102040816326\", \"offsetgroup\": \"18.939102040816326\", \"orientation\": \"v\", \"showlegend\": true, \"type\": \"histogram\", \"x\": [0.00522914242077755], \"xaxis\": \"x\", \"yaxis\": \"y\"}, {\"alignmentgroup\": \"True\", \"bingroup\": \"x\", \"hovertemplate\": \"E=19.59214693877551<br>Beta2=%{x}<br>count=%{y}<extra></extra>\", \"legendgroup\": \"19.59214693877551\", \"marker\": {\"color\": \"#FECB52\"}, \"name\": \"19.59214693877551\", \"offsetgroup\": \"19.59214693877551\", \"orientation\": \"v\", \"showlegend\": true, \"type\": \"histogram\", \"x\": [0.005054844790552984], \"xaxis\": \"x\", \"yaxis\": \"y\"}, {\"alignmentgroup\": \"True\", \"bingroup\": \"x\", \"hovertemplate\": \"E=20.245191836734694<br>Beta2=%{x}<br>count=%{y}<extra></extra>\", \"legendgroup\": \"20.245191836734694\", \"marker\": {\"color\": \"#636efa\"}, \"name\": \"20.245191836734694\", \"offsetgroup\": \"20.245191836734694\", \"orientation\": \"v\", \"showlegend\": true, \"type\": \"histogram\", \"x\": [0.004891791724398562], \"xaxis\": \"x\", \"yaxis\": \"y\"}, {\"alignmentgroup\": \"True\", \"bingroup\": \"x\", \"hovertemplate\": \"E=20.898236734693878<br>Beta2=%{x}<br>count=%{y}<extra></extra>\", \"legendgroup\": \"20.898236734693878\", \"marker\": {\"color\": \"#EF553B\"}, \"name\": \"20.898236734693878\", \"offsetgroup\": \"20.898236734693878\", \"orientation\": \"v\", \"showlegend\": true, \"type\": \"histogram\", \"x\": [0.0047389290848576454], \"xaxis\": \"x\", \"yaxis\": \"y\"}, {\"alignmentgroup\": \"True\", \"bingroup\": \"x\", \"hovertemplate\": \"E=21.551281632653062<br>Beta2=%{x}<br>count=%{y}<extra></extra>\", \"legendgroup\": \"21.551281632653062\", \"marker\": {\"color\": \"#00cc96\"}, \"name\": \"21.551281632653062\", \"offsetgroup\": \"21.551281632653062\", \"orientation\": \"v\", \"showlegend\": true, \"type\": \"histogram\", \"x\": [0.00459533050376093], \"xaxis\": \"x\", \"yaxis\": \"y\"}, {\"alignmentgroup\": \"True\", \"bingroup\": \"x\", \"hovertemplate\": \"E=22.204326530612246<br>Beta2=%{x}<br>count=%{y}<extra></extra>\", \"legendgroup\": \"22.204326530612246\", \"marker\": {\"color\": \"#ab63fa\"}, \"name\": \"22.204326530612246\", \"offsetgroup\": \"22.204326530612246\", \"orientation\": \"v\", \"showlegend\": true, \"type\": \"histogram\", \"x\": [0.0044601785936704145], \"xaxis\": \"x\", \"yaxis\": \"y\"}, {\"alignmentgroup\": \"True\", \"bingroup\": \"x\", \"hovertemplate\": \"E=22.85737142857143<br>Beta2=%{x}<br>count=%{y}<extra></extra>\", \"legendgroup\": \"22.85737142857143\", \"marker\": {\"color\": \"#FFA15A\"}, \"name\": \"22.85737142857143\", \"offsetgroup\": \"22.85737142857143\", \"orientation\": \"v\", \"showlegend\": true, \"type\": \"histogram\", \"x\": [0.004332749379592583], \"xaxis\": \"x\", \"yaxis\": \"y\"}, {\"alignmentgroup\": \"True\", \"bingroup\": \"x\", \"hovertemplate\": \"E=23.510416326530613<br>Beta2=%{x}<br>count=%{y}<extra></extra>\", \"legendgroup\": \"23.510416326530613\", \"marker\": {\"color\": \"#19d3f3\"}, \"name\": \"23.510416326530613\", \"offsetgroup\": \"23.510416326530613\", \"orientation\": \"v\", \"showlegend\": true, \"type\": \"histogram\", \"x\": [0.004212399325484196], \"xaxis\": \"x\", \"yaxis\": \"y\"}, {\"alignmentgroup\": \"True\", \"bingroup\": \"x\", \"hovertemplate\": \"E=24.163461224489797<br>Beta2=%{x}<br>count=%{y}<extra></extra>\", \"legendgroup\": \"24.163461224489797\", \"marker\": {\"color\": \"#FF6692\"}, \"name\": \"24.163461224489797\", \"offsetgroup\": \"24.163461224489797\", \"orientation\": \"v\", \"showlegend\": true, \"type\": \"histogram\", \"x\": [0.0040985544642373395], \"xaxis\": \"x\", \"yaxis\": \"y\"}, {\"alignmentgroup\": \"True\", \"bingroup\": \"x\", \"hovertemplate\": \"E=24.81650612244898<br>Beta2=%{x}<br>count=%{y}<extra></extra>\", \"legendgroup\": \"24.81650612244898\", \"marker\": {\"color\": \"#B6E880\"}, \"name\": \"24.81650612244898\", \"offsetgroup\": \"24.81650612244898\", \"orientation\": \"v\", \"showlegend\": true, \"type\": \"histogram\", \"x\": [0.003990701244663505], \"xaxis\": \"x\", \"yaxis\": \"y\"}, {\"alignmentgroup\": \"True\", \"bingroup\": \"x\", \"hovertemplate\": \"E=25.469551020408165<br>Beta2=%{x}<br>count=%{y}<extra></extra>\", \"legendgroup\": \"25.469551020408165\", \"marker\": {\"color\": \"#FF97FF\"}, \"name\": \"25.469551020408165\", \"offsetgroup\": \"25.469551020408165\", \"orientation\": \"v\", \"showlegend\": true, \"type\": \"histogram\", \"x\": [0.003888378785664286], \"xaxis\": \"x\", \"yaxis\": \"y\"}, {\"alignmentgroup\": \"True\", \"bingroup\": \"x\", \"hovertemplate\": \"E=26.12259591836735<br>Beta2=%{x}<br>count=%{y}<extra></extra>\", \"legendgroup\": \"26.12259591836735\", \"marker\": {\"color\": \"#FECB52\"}, \"name\": \"26.12259591836735\", \"offsetgroup\": \"26.12259591836735\", \"orientation\": \"v\", \"showlegend\": true, \"type\": \"histogram\", \"x\": [0.0037911722930978036], \"xaxis\": \"x\", \"yaxis\": \"y\"}, {\"alignmentgroup\": \"True\", \"bingroup\": \"x\", \"hovertemplate\": \"E=26.77564081632653<br>Beta2=%{x}<br>count=%{y}<extra></extra>\", \"legendgroup\": \"26.77564081632653\", \"marker\": {\"color\": \"#636efa\"}, \"name\": \"26.77564081632653\", \"offsetgroup\": \"26.77564081632653\", \"orientation\": \"v\", \"showlegend\": true, \"type\": \"histogram\", \"x\": [0.0036987074388085354], \"xaxis\": \"x\", \"yaxis\": \"y\"}, {\"alignmentgroup\": \"True\", \"bingroup\": \"x\", \"hovertemplate\": \"E=27.428685714285713<br>Beta2=%{x}<br>count=%{y}<extra></extra>\", \"legendgroup\": \"27.428685714285713\", \"marker\": {\"color\": \"#EF553B\"}, \"name\": \"27.428685714285713\", \"offsetgroup\": \"27.428685714285713\", \"orientation\": \"v\", \"showlegend\": true, \"type\": \"histogram\", \"x\": [0.0036106455445674146], \"xaxis\": \"x\", \"yaxis\": \"y\"}, {\"alignmentgroup\": \"True\", \"bingroup\": \"x\", \"hovertemplate\": \"E=28.081730612244897<br>Beta2=%{x}<br>count=%{y}<extra></extra>\", \"legendgroup\": \"28.081730612244897\", \"marker\": {\"color\": \"#00cc96\"}, \"name\": \"28.081730612244897\", \"offsetgroup\": \"28.081730612244897\", \"orientation\": \"v\", \"showlegend\": true, \"type\": \"histogram\", \"x\": [0.0035266794355375453], \"xaxis\": \"x\", \"yaxis\": \"y\"}, {\"alignmentgroup\": \"True\", \"bingroup\": \"x\", \"hovertemplate\": \"E=28.73477551020408<br>Beta2=%{x}<br>count=%{y}<extra></extra>\", \"legendgroup\": \"28.73477551020408\", \"marker\": {\"color\": \"#ab63fa\"}, \"name\": \"28.73477551020408\", \"offsetgroup\": \"28.73477551020408\", \"orientation\": \"v\", \"showlegend\": true, \"type\": \"histogram\", \"x\": [0.0034465298616028015], \"xaxis\": \"x\", \"yaxis\": \"y\"}, {\"alignmentgroup\": \"True\", \"bingroup\": \"x\", \"hovertemplate\": \"E=29.387820408163265<br>Beta2=%{x}<br>count=%{y}<extra></extra>\", \"legendgroup\": \"29.387820408163265\", \"marker\": {\"color\": \"#FFA15A\"}, \"name\": \"29.387820408163265\", \"offsetgroup\": \"29.387820408163265\", \"orientation\": \"v\", \"showlegend\": true, \"type\": \"histogram\", \"x\": [0.00336994239406957], \"xaxis\": \"x\", \"yaxis\": \"y\"}, {\"alignmentgroup\": \"True\", \"bingroup\": \"x\", \"hovertemplate\": \"E=30.04086530612245<br>Beta2=%{x}<br>count=%{y}<extra></extra>\", \"legendgroup\": \"30.04086530612245\", \"marker\": {\"color\": \"#19d3f3\"}, \"name\": \"30.04086530612245\", \"offsetgroup\": \"30.04086530612245\", \"orientation\": \"v\", \"showlegend\": true, \"type\": \"histogram\", \"x\": [0.003296684727692307], \"xaxis\": \"x\", \"yaxis\": \"y\"}, {\"alignmentgroup\": \"True\", \"bingroup\": \"x\", \"hovertemplate\": \"E=30.693910204081632<br>Beta2=%{x}<br>count=%{y}<extra></extra>\", \"legendgroup\": \"30.693910204081632\", \"marker\": {\"color\": \"#FF6692\"}, \"name\": \"30.693910204081632\", \"offsetgroup\": \"30.693910204081632\", \"orientation\": \"v\", \"showlegend\": true, \"type\": \"histogram\", \"x\": [0.0032265443276582287], \"xaxis\": \"x\", \"yaxis\": \"y\"}, {\"alignmentgroup\": \"True\", \"bingroup\": \"x\", \"hovertemplate\": \"E=31.346955102040816<br>Beta2=%{x}<br>count=%{y}<extra></extra>\", \"legendgroup\": \"31.346955102040816\", \"marker\": {\"color\": \"#B6E880\"}, \"name\": \"31.346955102040816\", \"offsetgroup\": \"31.346955102040816\", \"orientation\": \"v\", \"showlegend\": true, \"type\": \"histogram\", \"x\": [0.0031593263695929735], \"xaxis\": \"x\", \"yaxis\": \"y\"}, {\"alignmentgroup\": \"True\", \"bingroup\": \"x\", \"hovertemplate\": \"E=32.0<br>Beta2=%{x}<br>count=%{y}<extra></extra>\", \"legendgroup\": \"32.0\", \"marker\": {\"color\": \"#FF97FF\"}, \"name\": \"32.0\", \"offsetgroup\": \"32.0\", \"orientation\": \"v\", \"showlegend\": true, \"type\": \"histogram\", \"x\": [0.0030948519331158234], \"xaxis\": \"x\", \"yaxis\": \"y\"}],                        {\"barmode\": \"relative\", \"legend\": {\"title\": {\"text\": \"E\"}, \"tracegroupgap\": 0}, \"margin\": {\"t\": 60}, \"shapes\": [{\"line\": {\"color\": \"orange\"}, \"type\": \"line\", \"x0\": 0.3490658503988659, \"x1\": 0.3490658503988659, \"xref\": \"x\", \"y0\": 0, \"y1\": 1, \"yref\": \"y domain\"}], \"template\": {\"data\": {\"bar\": [{\"error_x\": {\"color\": \"#2a3f5f\"}, \"error_y\": {\"color\": \"#2a3f5f\"}, \"marker\": {\"line\": {\"color\": \"#E5ECF6\", \"width\": 0.5}}, \"type\": \"bar\"}], \"barpolar\": [{\"marker\": {\"line\": {\"color\": \"#E5ECF6\", \"width\": 0.5}}, \"type\": \"barpolar\"}], \"carpet\": [{\"aaxis\": {\"endlinecolor\": \"#2a3f5f\", \"gridcolor\": \"white\", \"linecolor\": \"white\", \"minorgridcolor\": \"white\", \"startlinecolor\": \"#2a3f5f\"}, \"baxis\": {\"endlinecolor\": \"#2a3f5f\", \"gridcolor\": \"white\", \"linecolor\": \"white\", \"minorgridcolor\": \"white\", \"startlinecolor\": \"#2a3f5f\"}, \"type\": \"carpet\"}], \"choropleth\": [{\"colorbar\": {\"outlinewidth\": 0, \"ticks\": \"\"}, \"type\": \"choropleth\"}], \"contour\": [{\"colorbar\": {\"outlinewidth\": 0, \"ticks\": \"\"}, \"colorscale\": [[0.0, \"#0d0887\"], [0.1111111111111111, \"#46039f\"], [0.2222222222222222, \"#7201a8\"], [0.3333333333333333, \"#9c179e\"], [0.4444444444444444, \"#bd3786\"], [0.5555555555555556, \"#d8576b\"], [0.6666666666666666, \"#ed7953\"], [0.7777777777777778, \"#fb9f3a\"], [0.8888888888888888, \"#fdca26\"], [1.0, \"#f0f921\"]], \"type\": \"contour\"}], \"contourcarpet\": [{\"colorbar\": {\"outlinewidth\": 0, \"ticks\": \"\"}, \"type\": \"contourcarpet\"}], \"heatmap\": [{\"colorbar\": {\"outlinewidth\": 0, \"ticks\": \"\"}, \"colorscale\": [[0.0, \"#0d0887\"], [0.1111111111111111, \"#46039f\"], [0.2222222222222222, \"#7201a8\"], [0.3333333333333333, \"#9c179e\"], [0.4444444444444444, \"#bd3786\"], [0.5555555555555556, \"#d8576b\"], [0.6666666666666666, \"#ed7953\"], [0.7777777777777778, \"#fb9f3a\"], [0.8888888888888888, \"#fdca26\"], [1.0, \"#f0f921\"]], \"type\": \"heatmap\"}], \"heatmapgl\": [{\"colorbar\": {\"outlinewidth\": 0, \"ticks\": \"\"}, \"colorscale\": [[0.0, \"#0d0887\"], [0.1111111111111111, \"#46039f\"], [0.2222222222222222, \"#7201a8\"], [0.3333333333333333, \"#9c179e\"], [0.4444444444444444, \"#bd3786\"], [0.5555555555555556, \"#d8576b\"], [0.6666666666666666, \"#ed7953\"], [0.7777777777777778, \"#fb9f3a\"], [0.8888888888888888, \"#fdca26\"], [1.0, \"#f0f921\"]], \"type\": \"heatmapgl\"}], \"histogram\": [{\"marker\": {\"colorbar\": {\"outlinewidth\": 0, \"ticks\": \"\"}}, \"type\": \"histogram\"}], \"histogram2d\": [{\"colorbar\": {\"outlinewidth\": 0, \"ticks\": \"\"}, \"colorscale\": [[0.0, \"#0d0887\"], [0.1111111111111111, \"#46039f\"], [0.2222222222222222, \"#7201a8\"], [0.3333333333333333, \"#9c179e\"], [0.4444444444444444, \"#bd3786\"], [0.5555555555555556, \"#d8576b\"], [0.6666666666666666, \"#ed7953\"], [0.7777777777777778, \"#fb9f3a\"], [0.8888888888888888, \"#fdca26\"], [1.0, \"#f0f921\"]], \"type\": \"histogram2d\"}], \"histogram2dcontour\": [{\"colorbar\": {\"outlinewidth\": 0, \"ticks\": \"\"}, \"colorscale\": [[0.0, \"#0d0887\"], [0.1111111111111111, \"#46039f\"], [0.2222222222222222, \"#7201a8\"], [0.3333333333333333, \"#9c179e\"], [0.4444444444444444, \"#bd3786\"], [0.5555555555555556, \"#d8576b\"], [0.6666666666666666, \"#ed7953\"], [0.7777777777777778, \"#fb9f3a\"], [0.8888888888888888, \"#fdca26\"], [1.0, \"#f0f921\"]], \"type\": \"histogram2dcontour\"}], \"mesh3d\": [{\"colorbar\": {\"outlinewidth\": 0, \"ticks\": \"\"}, \"type\": \"mesh3d\"}], \"parcoords\": [{\"line\": {\"colorbar\": {\"outlinewidth\": 0, \"ticks\": \"\"}}, \"type\": \"parcoords\"}], \"pie\": [{\"automargin\": true, \"type\": \"pie\"}], \"scatter\": [{\"marker\": {\"colorbar\": {\"outlinewidth\": 0, \"ticks\": \"\"}}, \"type\": \"scatter\"}], \"scatter3d\": [{\"line\": {\"colorbar\": {\"outlinewidth\": 0, \"ticks\": \"\"}}, \"marker\": {\"colorbar\": {\"outlinewidth\": 0, \"ticks\": \"\"}}, \"type\": \"scatter3d\"}], \"scattercarpet\": [{\"marker\": {\"colorbar\": {\"outlinewidth\": 0, \"ticks\": \"\"}}, \"type\": \"scattercarpet\"}], \"scattergeo\": [{\"marker\": {\"colorbar\": {\"outlinewidth\": 0, \"ticks\": \"\"}}, \"type\": \"scattergeo\"}], \"scattergl\": [{\"marker\": {\"colorbar\": {\"outlinewidth\": 0, \"ticks\": \"\"}}, \"type\": \"scattergl\"}], \"scattermapbox\": [{\"marker\": {\"colorbar\": {\"outlinewidth\": 0, \"ticks\": \"\"}}, \"type\": \"scattermapbox\"}], \"scatterpolar\": [{\"marker\": {\"colorbar\": {\"outlinewidth\": 0, \"ticks\": \"\"}}, \"type\": \"scatterpolar\"}], \"scatterpolargl\": [{\"marker\": {\"colorbar\": {\"outlinewidth\": 0, \"ticks\": \"\"}}, \"type\": \"scatterpolargl\"}], \"scatterternary\": [{\"marker\": {\"colorbar\": {\"outlinewidth\": 0, \"ticks\": \"\"}}, \"type\": \"scatterternary\"}], \"surface\": [{\"colorbar\": {\"outlinewidth\": 0, \"ticks\": \"\"}, \"colorscale\": [[0.0, \"#0d0887\"], [0.1111111111111111, \"#46039f\"], [0.2222222222222222, \"#7201a8\"], [0.3333333333333333, \"#9c179e\"], [0.4444444444444444, \"#bd3786\"], [0.5555555555555556, \"#d8576b\"], [0.6666666666666666, \"#ed7953\"], [0.7777777777777778, \"#fb9f3a\"], [0.8888888888888888, \"#fdca26\"], [1.0, \"#f0f921\"]], \"type\": \"surface\"}], \"table\": [{\"cells\": {\"fill\": {\"color\": \"#EBF0F8\"}, \"line\": {\"color\": \"white\"}}, \"header\": {\"fill\": {\"color\": \"#C8D4E3\"}, \"line\": {\"color\": \"white\"}}, \"type\": \"table\"}]}, \"layout\": {\"annotationdefaults\": {\"arrowcolor\": \"#2a3f5f\", \"arrowhead\": 0, \"arrowwidth\": 1}, \"autotypenumbers\": \"strict\", \"coloraxis\": {\"colorbar\": {\"outlinewidth\": 0, \"ticks\": \"\"}}, \"colorscale\": {\"diverging\": [[0, \"#8e0152\"], [0.1, \"#c51b7d\"], [0.2, \"#de77ae\"], [0.3, \"#f1b6da\"], [0.4, \"#fde0ef\"], [0.5, \"#f7f7f7\"], [0.6, \"#e6f5d0\"], [0.7, \"#b8e186\"], [0.8, \"#7fbc41\"], [0.9, \"#4d9221\"], [1, \"#276419\"]], \"sequential\": [[0.0, \"#0d0887\"], [0.1111111111111111, \"#46039f\"], [0.2222222222222222, \"#7201a8\"], [0.3333333333333333, \"#9c179e\"], [0.4444444444444444, \"#bd3786\"], [0.5555555555555556, \"#d8576b\"], [0.6666666666666666, \"#ed7953\"], [0.7777777777777778, \"#fb9f3a\"], [0.8888888888888888, \"#fdca26\"], [1.0, \"#f0f921\"]], \"sequentialminus\": [[0.0, \"#0d0887\"], [0.1111111111111111, \"#46039f\"], [0.2222222222222222, \"#7201a8\"], [0.3333333333333333, \"#9c179e\"], [0.4444444444444444, \"#bd3786\"], [0.5555555555555556, \"#d8576b\"], [0.6666666666666666, \"#ed7953\"], [0.7777777777777778, \"#fb9f3a\"], [0.8888888888888888, \"#fdca26\"], [1.0, \"#f0f921\"]]}, \"colorway\": [\"#636efa\", \"#EF553B\", \"#00cc96\", \"#ab63fa\", \"#FFA15A\", \"#19d3f3\", \"#FF6692\", \"#B6E880\", \"#FF97FF\", \"#FECB52\"], \"font\": {\"color\": \"#2a3f5f\"}, \"geo\": {\"bgcolor\": \"white\", \"lakecolor\": \"white\", \"landcolor\": \"#E5ECF6\", \"showlakes\": true, \"showland\": true, \"subunitcolor\": \"white\"}, \"hoverlabel\": {\"align\": \"left\"}, \"hovermode\": \"closest\", \"mapbox\": {\"style\": \"light\"}, \"paper_bgcolor\": \"white\", \"plot_bgcolor\": \"#E5ECF6\", \"polar\": {\"angularaxis\": {\"gridcolor\": \"white\", \"linecolor\": \"white\", \"ticks\": \"\"}, \"bgcolor\": \"#E5ECF6\", \"radialaxis\": {\"gridcolor\": \"white\", \"linecolor\": \"white\", \"ticks\": \"\"}}, \"scene\": {\"xaxis\": {\"backgroundcolor\": \"#E5ECF6\", \"gridcolor\": \"white\", \"gridwidth\": 2, \"linecolor\": \"white\", \"showbackground\": true, \"ticks\": \"\", \"zerolinecolor\": \"white\"}, \"yaxis\": {\"backgroundcolor\": \"#E5ECF6\", \"gridcolor\": \"white\", \"gridwidth\": 2, \"linecolor\": \"white\", \"showbackground\": true, \"ticks\": \"\", \"zerolinecolor\": \"white\"}, \"zaxis\": {\"backgroundcolor\": \"#E5ECF6\", \"gridcolor\": \"white\", \"gridwidth\": 2, \"linecolor\": \"white\", \"showbackground\": true, \"ticks\": \"\", \"zerolinecolor\": \"white\"}}, \"shapedefaults\": {\"line\": {\"color\": \"#2a3f5f\"}}, \"ternary\": {\"aaxis\": {\"gridcolor\": \"white\", \"linecolor\": \"white\", \"ticks\": \"\"}, \"baxis\": {\"gridcolor\": \"white\", \"linecolor\": \"white\", \"ticks\": \"\"}, \"bgcolor\": \"#E5ECF6\", \"caxis\": {\"gridcolor\": \"white\", \"linecolor\": \"white\", \"ticks\": \"\"}}, \"title\": {\"x\": 0.05}, \"xaxis\": {\"automargin\": true, \"gridcolor\": \"white\", \"linecolor\": \"white\", \"ticks\": \"\", \"title\": {\"standoff\": 15}, \"zerolinecolor\": \"white\", \"zerolinewidth\": 2}, \"yaxis\": {\"automargin\": true, \"gridcolor\": \"white\", \"linecolor\": \"white\", \"ticks\": \"\", \"title\": {\"standoff\": 15}, \"zerolinecolor\": \"white\", \"zerolinewidth\": 2}}}, \"xaxis\": {\"anchor\": \"y\", \"domain\": [0.0, 1.0], \"title\": {\"text\": \"Beta2\"}}, \"yaxis\": {\"anchor\": \"x\", \"domain\": [0.0, 1.0], \"title\": {\"text\": \"count\"}}},                        {\"responsive\": true}                    ).then(function(){\n",
       "                            \n",
       "var gd = document.getElementById('eb9e065d-868a-4ce3-be99-ca2ecf698062');\n",
       "var x = new MutationObserver(function (mutations, observer) {{\n",
       "        var display = window.getComputedStyle(gd).display;\n",
       "        if (!display || display === 'none') {{\n",
       "            console.log([gd, 'removed!']);\n",
       "            Plotly.purge(gd);\n",
       "            observer.disconnect();\n",
       "        }}\n",
       "}});\n",
       "\n",
       "// Listen for the removal of the full notebook cells\n",
       "var notebookContainer = gd.closest('#notebook-container');\n",
       "if (notebookContainer) {{\n",
       "    x.observe(notebookContainer, {childList: true});\n",
       "}}\n",
       "\n",
       "// Listen for the clearing of the current output cell\n",
       "var outputEl = gd.closest('.output');\n",
       "if (outputEl) {{\n",
       "    x.observe(outputEl, {childList: true});\n",
       "}}\n",
       "\n",
       "                        })                };                });            </script>        </div>"
      ]
     },
     "metadata": {},
     "output_type": "display_data"
    },
    {
     "name": "stdout",
     "output_type": "stream",
     "text": [
      "x-axis in rad\n"
     ]
    }
   ],
   "source": [
    "fig = px.histogram(masterDF, x='Beta2',color = 'E')\n",
    "print ('{0}/{1} hits'.format(len(masterDF),len(dataDFSph2)*numE))\n",
    "# fig.add_vline(x=10*np.pi/180, line_color = 'red')\n",
    "fig.add_vline(x=20*np.pi/180, line_color = 'orange')\n",
    "# fig.add_vline(x=30*np.pi/180, line_color = 'yellow')\n",
    "# fig.add_vline(x=40*np.pi/180, line_color = 'green')\n",
    "fig.show()\n",
    "print ('x-axis in rad')"
   ]
  },
  {
   "cell_type": "code",
   "execution_count": 14,
   "metadata": {
    "ExecuteTime": {
     "end_time": "2022-05-18T17:15:21.808830Z",
     "start_time": "2022-05-18T17:15:21.327842Z"
    },
    "hidden": true
   },
   "outputs": [
    {
     "data": {
      "image/png": "[encoded data removed]",
      "text/plain": [
       "<Figure size 576x576 with 1 Axes>"
      ]
     },
     "metadata": {
      "needs_background": "light"
     },
     "output_type": "display_data"
    }
   ],
   "source": [
    "BetaArray = (masterDF.Beta2)#*180/np.pi\n",
    "figB = plt.figure(figsize = (8,8))\n",
    "plt.xlabel(r'$\\phi$ [rad]',size = 16)\n",
    "plt.ylabel('count',size = 16)\n",
    "plt.hist(BetaArray)\n",
    "plt.axvline(x=(20*np.pi/180),c = 'red')\n",
    "plt.axvline(x=(35*np.pi/180),c = 'orange')\n",
    "plt.grid()"
   ]
  },
  {
   "cell_type": "code",
   "execution_count": 15,
   "metadata": {
    "ExecuteTime": {
     "end_time": "2022-05-18T17:15:27.142741Z",
     "start_time": "2022-05-18T17:15:26.716254Z"
    },
    "hidden": true
   },
   "outputs": [
    {
     "data": {
      "image/png": "[encoded data removed]",
      "text/plain": [
       "<Figure size 576x576 with 1 Axes>"
      ]
     },
     "metadata": {
      "needs_background": "light"
     },
     "output_type": "display_data"
    }
   ],
   "source": [
    "figy = plt.figure(figsize = (8,8))\n",
    "plt.plot(masterDF.Beta2,masterDF.E,'.')\n",
    "plt.xlabel('Beta')\n",
    "plt.ylabel('Energy')\n",
    "plt.grid()\n",
    "plt.show()"
   ]
  },
  {
   "cell_type": "markdown",
   "metadata": {
    "heading_collapsed": true,
    "hidden": true
   },
   "source": [
    "## Single Energy Testing"
   ]
  },
  {
   "cell_type": "code",
   "execution_count": 16,
   "metadata": {
    "ExecuteTime": {
     "end_time": "2022-04-22T16:18:07.902081Z",
     "start_time": "2022-04-22T16:18:07.874982Z"
    },
    "hidden": true
   },
   "outputs": [],
   "source": [
    "def Bfield(x,y,z):\n",
    "    '''\n",
    "    Returns cartesian components of the B-field measured in MeV^2 at location x,y,z.\n",
    "    \n",
    "    x,y,z must be in cartesian coordinates measured in Au\n",
    "    '''\n",
    "    assert x**2 + y**2 > 0, 'Bfield function, both x & y zero simultaneously'\n",
    "#  T = 1 kg⋅s−2⋅A−1 = N s / C m = kg / C s \n",
    "#    = [mass] / [charge] [time]\n",
    "\n",
    "    # 3.3 in nT\n",
    "    BrSun     = 0\n",
    "#     BthetaSun = 3.3e-9/np.sqrt(2) * 1/rFunction(x,y,z)\n",
    "    BthetaSun = 0\n",
    "    BphiSun   = 3.3e-9/np.sqrt(2) * 1/rFunction(x,y,z)\n",
    "#     BphiSun = 0\n",
    "\n",
    "    # Spherical unit vector decompositions\n",
    "    # Schematically, we decompose rhat = Axhat + Byhat + Czhat and read off the ABC from wiki\n",
    "    # The arguments of the ABCs are the cartesian location where we are evaluating the B field\n",
    "    def A(x,y,z):\n",
    "        return x/np.sqrt(x**2 +y**2 +z**2)\n",
    "\n",
    "    def B(x,y,z):\n",
    "        return y/np.sqrt(x**2 +y**2 +z**2)\n",
    "\n",
    "    def C(x,y,z):\n",
    "        return z/np.sqrt(x**2 +y**2 +z**2)\n",
    "\n",
    "    def D(x,y,z):\n",
    "        return x*z / (np.sqrt(x**2 +y**2 +z**2) * np.sqrt(x**2+y**2))\n",
    "\n",
    "    def E(x,y,z):\n",
    "        return y*z / (np.sqrt(x**2 +y**2 +z**2) * np.sqrt(x**2+y**2))\n",
    "        \n",
    "    def F(x,y,z): \n",
    "        return -(x**2 + y**2) / (np.sqrt(x**2 +y**2 +z**2) * np.sqrt(x**2+y**2)) \n",
    "\n",
    "    def G(x,y,z):\n",
    "        return -y / np.sqrt(x**2 + y**2)\n",
    "\n",
    "    def H(x,y,z):\n",
    "        return x / np.sqrt(x**2 + y**2)\n",
    "\n",
    "    def I(x,y,z):\n",
    "        return 0\n",
    "\n",
    "#     BxSun = BrSun * A(x,y,z) + BthetaSun * D(x,y,z) + BphiSun * G(x,y,z)\n",
    "#     BySun = BrSun * B(x,y,z) + BthetaSun * E(x,y,z) + BphiSun * H(x,y,z)\n",
    "#     BzSun = BrSun * C(x,y,z) + BthetaSun * F(x,y,z) + BphiSun * I(x,y,z)\n",
    "\n",
    "    # Earth Magnetic field is 25-65 nanoTesla at the Surface\n",
    "    mu0 = 4e-7*np.pi\n",
    "    rOrbit = 1\n",
    "    \n",
    "    BxEarth = 0\n",
    "    ByEarth = 0\n",
    "#     BzEarth = 45e-6/(rFunction(x,y,z)-rOrbit)\n",
    "    BzEarth = 0\n",
    "    \n",
    "    BxSun = 0\n",
    "    BySun = 0\n",
    "    BzSun = 1e-13\n",
    "\n",
    "    BxTotal, ByTotal, BzTotal = BxSun+BxEarth, BySun+ByEarth, BzSun+BzEarth\n",
    "    return (tesla2MeV2(BxTotal), tesla2MeV2(ByTotal), tesla2MeV2(BzTotal))\n",
    "#     return ((BxTotal), (ByTotal), (BzTotal))"
   ]
  },
  {
   "cell_type": "code",
   "execution_count": 23,
   "metadata": {
    "ExecuteTime": {
     "end_time": "2022-04-22T16:38:33.347281Z",
     "start_time": "2022-04-22T16:38:33.306745Z"
    },
    "hidden": true
   },
   "outputs": [
    {
     "name": "stdout",
     "output_type": "stream",
     "text": [
      "Complete\n"
     ]
    }
   ],
   "source": [
    "def trajectorySolver(initialConditions, q_e, E_MeV, dt1):\n",
    "    '''\n",
    "    xi = gB-L/q_e\n",
    "\n",
    "    Inputs:\n",
    "        initialConditions: array of [r0,v0] in cartesian coordinates\n",
    "                           in units of au and \"c\" respectively\n",
    "        q : the electric charge in units of \"e\"\n",
    "        m : the mass/energy of the particle in MeV.\n",
    "        dt: the time increment between each step in Au/c\n",
    "\n",
    "    Returns:\n",
    "        trajectory: the 3-vector (x,y,z), the position of the neutrino at each step\n",
    "        velocity  : the 3-vector (vX,vY,vZ), the velocity of the neutrino at each step\n",
    "    '''\n",
    "#     print ('trajSolver|initialConditions:',initialConditions)\n",
    "    r0 = initialConditions[0:3] # In units of au\n",
    "#     print ('trajSolver|r0',r0)\n",
    "    v0 = initialConditions[3:6] # In units of c\n",
    "#     assert ((r0[0] != 0) or (r0[1] !=0)), \"X and Y initial positions cannot be simultaneously zero. See Jacobian tranformation in the definition of Bfield.\"\n",
    "#     assert ((r0[0] != 0) and (r0[1] !=0)), \"X and Y initial positions cannot be simultaneously zero. See Jacobian tranformation in the definition of Bfield.\"\n",
    "\n",
    "#     q_coulombs  = q_e * 1.60217662e-19  # units of Coulombs\n",
    "#     m_kg  = E_MeV * 1.78e-30 * (2e-3)**2 # units of kilograms\n",
    "#     q_by_E  = q_coulombs/m_kg\n",
    "    q_by_E = q_e/E_MeV\n",
    "#     print ('q/E',q_by_E)\n",
    "\n",
    "    # pos = np.array([r0[0],r0[1],r0[2]])\n",
    "    # vel = np.array([v0[0],v0[1],v0[2]]) \n",
    "    pos = np.asarray(r0)\n",
    "#     print ('trajSolver|pos',pos)\n",
    "    vel = np.asarray(v0)\n",
    "#     print ('trajSolver|vel',vel)\n",
    "#     acc = q_by_E * acceleration_normed(vel, pos)\n",
    "#     print ('x,y,z,vx,vy,vz|BEFORE',xPoints,yPoints,zPoints,vxPoints,vyPoints,vzPoints)\n",
    "    xPoints=[] # record of x-values\n",
    "    yPoints=[] # record of y-values\n",
    "    zPoints=[] # record of z-values\n",
    "    vxPoints=[] # record of x-velocities\n",
    "    vyPoints=[] # record of y-velocities\n",
    "    vzPoints=[] # record of z-velocities\n",
    "#     print ('x,y,z,vx,vy,vz|AFTER',xPoints,yPoints,zPoints,vxPoints,vyPoints,vzPoints)\n",
    "\n",
    "    \n",
    "    \n",
    "    def dvdt(pos,vel,dt,q_by_E):\n",
    "        x,y,z = pos[0],pos[1],pos[2]\n",
    "        return q_by_E*np.cross(vel,Bfield(x,y,z))\n",
    "\n",
    "    def drdt(pos,vel,dt,q_by_E):\n",
    "        return vel\n",
    "    \n",
    "    dt = sec2geVInv(auOverc2min(dt1)*60)*10**-3\n",
    "    \n",
    "    # Initialize half values\n",
    "    x_half = pos[0] + 0.5*dt1*drdt(pos,vel,dt1,q_by_E)[0]\n",
    "    y_half = pos[1] + 0.5*dt1*drdt(pos,vel,dt1,q_by_E)[1]\n",
    "    z_half = pos[2] + 0.5*dt1*drdt(pos,vel,dt1,q_by_E)[2]\n",
    "    \n",
    "    vx_half = vel[0] + 0.5*dt*dvdt(pos,vel,dt,q_by_E)[0]\n",
    "    vy_half = vel[1] + 0.5*dt*dvdt(pos,vel,dt,q_by_E)[1]\n",
    "    vz_half = vel[2] + 0.5*dt*dvdt(pos,vel,dt,q_by_E)[2]\n",
    "\n",
    "    posHalf = [x_half,y_half,z_half]\n",
    "    velHalf = [vx_half,vy_half,vz_half]\n",
    "\n",
    "    \n",
    "#     print ('trajSolver,above distance',pos)\n",
    "    distance = np.sqrt(pos[0]**2 + pos[1]**2 + pos[2]**2)\n",
    "#     print ('trajSolver|distance:',distance)\n",
    "    assert distance < 1, 'trajectorySolver: Distance larger than 1'\n",
    "    \n",
    "    earthDist = 1.0\n",
    "#     print ('trajSolver|StartLoop|IC',initialConditions)\n",
    "    \n",
    "    print ('Initial Pos   : {0}'.format(pos))\n",
    "    print ('Initial Vel   : {0}'.format(vel))\n",
    "    print ('Initial 1/2Pos: {0}'.format(posHalf))\n",
    "    print ('Initial 1/2Vel: {0}'.format(velHalf))\n",
    "\n",
    "    i = 0\n",
    "    while distance < earthDist:\n",
    "#     for i in range(0,4):\n",
    "#         print ('trajSolver|EndLoop|FLOAT',initialConditions)\n",
    "        # Append Points\n",
    "        xPoints.append(pos[0])\n",
    "        yPoints.append(pos[1])\n",
    "        zPoints.append(pos[2])\n",
    "#         print ('x,y,z',xPoints[-1],yPoints[-1],zPoints[-1])\n",
    "\n",
    "        ######### Normalize Velocity #########\n",
    "#         velPrecision = 1e-5\n",
    "#         velNorm = np.sqrt(vel[0]**2 + vel[1]**2 + vel[2]**2)\n",
    "#         vel[0] = vel[0]/velNorm\n",
    "#         vel[1] = vel[1]/velNorm\n",
    "#         vel[2] = vel[2]/velNorm\n",
    "#         if (np.abs(1-velNorm) >= velPrecision ):\n",
    "#             print ('Velocity normalization outside precision {0}'.format(velPrecision))\n",
    "#         print ('VelNorm', velNorm)\n",
    "\n",
    "        vxPoints.append(vel[0])\n",
    "        vyPoints.append(vel[1])\n",
    "        vzPoints.append(vel[2])\n",
    "        \n",
    "        # We put the distance update specifically here so that \n",
    "        # we record the last distance that is larger than 1\n",
    "        newDistance = np.sqrt(pos[0]**2 + pos[1]**2 + pos[2]**2)\n",
    "        assert newDistance>=distance, 'Step {0}, Particle never hits Earth.'.format(i)\n",
    "#         print ('distance',distance)\n",
    "        distance = newDistance\n",
    "        # Leapfrog\n",
    "        # I actually don't know which of these should come first...\n",
    "        #     Do we need to update the half positions first    \n",
    "\n",
    "        pos[0] += dt1*drdt(posHalf,velHalf,dt1,q_by_E)[0]\n",
    "        pos[1] += dt1*drdt(posHalf,velHalf,dt1,q_by_E)[1]\n",
    "        pos[2] += dt1*drdt(posHalf,velHalf,dt1,q_by_E)[2]\n",
    "        vel[0] += dt*dvdt(posHalf,velHalf,dt,q_by_E)[0]\n",
    "        vel[1] += dt*dvdt(posHalf,velHalf,dt,q_by_E)[1]\n",
    "        vel[2] += dt*dvdt(posHalf,velHalf,dt,q_by_E)[2] \n",
    "        \n",
    "        posHalf[0] += dt1*drdt(pos,vel,dt1,q_by_E)[0]\n",
    "        posHalf[1] += dt1*drdt(pos,vel,dt1,q_by_E)[1]\n",
    "        posHalf[2] += dt1*drdt(pos,vel,dt1,q_by_E)[2]\n",
    "        velHalf[0] += dt*dvdt(pos,vel,dt,q_by_E)[0]\n",
    "        velHalf[1] += dt*dvdt(pos,vel,dt,q_by_E)[1]\n",
    "        velHalf[2] += dt*dvdt(pos,vel,dt,q_by_E)[2]\n",
    "        \n",
    "        i += 1\n",
    "        print ('\\n-----------------')\n",
    "        print ('i     :', i)\n",
    "        print ('pos   : {0}'.format(pos))\n",
    "        print ('vel   : {0}'.format(vel))\n",
    "        print ('1/2pos: {0}'.format(posHalf))\n",
    "        print ('1/2vel: {0}'.format(velHalf))\n",
    "\n",
    "        \n",
    "#         print ('end single dt')\n",
    "#     print ('pos,vel|END',pos,vel)\n",
    "#     print ('x,y,z,vx,vy,vz|ENDLOOP|Start',xPoints[0],yPoints[0],zPoints[0],vxPoints[0],vyPoints[0],vzPoints[0])\n",
    "#     print ('x,y,z,vx,vy,vz|ENDLOOP|End',xPoints[-1],yPoints[-1],zPoints[-1],vxPoints[-1],vyPoints[-1],vzPoints[-1])\n",
    "    trajectory = [xPoints,yPoints,zPoints]\n",
    "    velocity   = [vxPoints,vyPoints,vzPoints]\n",
    "    trajTime = auOverc2min(len(trajectory[0])*dt)\n",
    "#     assert(trajTime > auOverc2min(lightTime)), \"Trajectory Time: {0} min. Neutrino is moving faster than light.\".format(trajTime)\n",
    "#     if (trajTime < auOverc2min(lightTime)):\n",
    "#         print ('WARNING: neutrino moving faster than light. Change dt')\n",
    "#         print ('Current dt: ',dt)\n",
    "#     if (len(trajectory[0]) <= 2):\n",
    "#         print ('WARNING: only two data points in the trajectory. Decrease dt')\n",
    "#         print ('Current dt: ',dt)\n",
    "    return (trajectory,velocity)\n",
    "\n",
    "print ('Complete')"
   ]
  },
  {
   "cell_type": "code",
   "execution_count": 20,
   "metadata": {
    "ExecuteTime": {
     "end_time": "2022-04-22T16:23:48.714451Z",
     "start_time": "2022-04-22T16:23:48.707376Z"
    },
    "hidden": true
   },
   "outputs": [
    {
     "name": "stdout",
     "output_type": "stream",
     "text": [
      "7.5848727168e+23\n",
      "0.002325235\n",
      "5.848e-11\n"
     ]
    }
   ],
   "source": [
    "print (sec2geVInv(auOverc2min(1)*60)*10**-3)\n",
    "print (rHalf)\n",
    "print (tesla2MeV2(1))"
   ]
  },
  {
   "cell_type": "code",
   "execution_count": 24,
   "metadata": {
    "ExecuteTime": {
     "end_time": "2022-04-22T16:38:34.203664Z",
     "start_time": "2022-04-22T16:38:33.889321Z"
    },
    "hidden": true
   },
   "outputs": [
    {
     "name": "stdout",
     "output_type": "stream",
     "text": [
      "Initial Pos   : [0.00232524 0.         0.        ]\n",
      "Initial Vel   : [1. 0. 0.]\n",
      "Initial 1/2Pos: [0.007325235, 0.0, 0.0]\n",
      "Initial 1/2Vel: [1.0, -0.006653450347176961, 0.0]\n",
      "\n",
      "-----------------\n",
      "i     : 1\n",
      "pos   : [ 1.23252350e-02 -6.65345035e-05  0.00000000e+00]\n",
      "vel   : [ 0.99991146 -0.0133069   0.        ]\n",
      "1/2pos: [0.017324349631969552, -0.00013306900694353923, 0.0]\n",
      "1/2vel: [0.9998229263939106, -0.019959172891084967, 0.0]\n",
      "\n",
      "-----------------\n",
      "i     : 2\n",
      "pos   : [ 0.02232346 -0.00026613  0.        ]\n",
      "vel   : [ 0.99964587 -0.02661145  0.        ]\n",
      "1/2pos: [0.027320808316623077, -0.0003991834578216994, 0.0]\n",
      "1/2vel: [0.9994688105367937, -0.03326136119227459, 0.0]\n",
      "\n",
      "-----------------\n",
      "i     : 3\n",
      "pos   : [ 0.03231815 -0.00059874  0.        ]\n",
      "vel   : [ 0.99920326 -0.03991128  0.        ]\n",
      "1/2pos: [0.037312840944973155, -0.0007982962307890311, 0.0]\n",
      "1/2vel: [0.9989377151332213, -0.04655765978429445, 0.0]\n",
      "\n",
      "-----------------\n",
      "i     : 4\n",
      "pos   : [ 0.04230753 -0.00106432  0.        ]\n",
      "vel   : [ 0.99858372 -0.05320404  0.        ]\n",
      "1/2pos: [0.047298678191770124, -0.0013303366535075884, 0.0]\n",
      "1/2vel: [0.9982297342261715, -0.05984571424360523, 0.0]\n",
      "\n",
      "-----------------\n",
      "i     : 5\n",
      "pos   : [ 0.05228983 -0.00166277  0.        ]\n",
      "vel   : [ 0.99778736 -0.06648739  0.        ]\n",
      "1/2pos: [0.05727655182880287, -0.0019952105156611356, 0.0]\n",
      "1/2vel: [0.9973449931803766, -0.07312317160648589, 0.0]\n",
      "\n",
      "-----------------\n",
      "i     : 6\n",
      "pos   : [ 0.06226328 -0.00239401  0.        ]\n",
      "vel   : [ 0.99681432 -0.07975896  0.        ]\n",
      "1/2pos: [0.06724469503800537, -0.0027928000856373065, 0.0]\n",
      "1/2vel: [0.9962836486601241, -0.0863876807856815, 0.0]\n",
      "\n",
      "-----------------\n",
      "i     : 7\n",
      "pos   : [ 0.07222611 -0.00325788  0.        ]\n",
      "vel   : [ 0.99566477 -0.0930164   0.        ]\n",
      "1/2pos: [0.07720134272431357, -0.0037229641313747657, 0.0]\n",
      "1/2vel: [0.9950458886015154, -0.0996368929867187, 0.0]\n",
      "\n",
      "-----------------\n",
      "i     : 8\n",
      "pos   : [ 0.08217657 -0.00425425  0.        ]\n",
      "vel   : [ 0.99433891 -0.10625738  0.        ]\n",
      "1/2pos: [0.0871447318282171, -0.0047855379453716805, 0.0]\n",
      "1/2vel: [0.9936319321791877, -0.11286846212381518, 0.0]\n",
      "\n",
      "-----------------\n",
      "i     : 9\n",
      "pos   : [ 0.09211289 -0.00538294  0.        ]\n",
      "vel   : [ 0.99283698 -0.11947954  0.        ]\n",
      "1/2pos: [0.09707310163795055, -0.00598033337385107, 0.0]\n",
      "1/2vel: [0.9920420297675033, -0.12608004523530963, 0.0]\n",
      "\n",
      "-----------------\n",
      "i     : 10\n",
      "pos   : [ 0.10203331 -0.00664374  0.        ]\n",
      "vel   : [ 0.99115925 -0.13268055  0.        ]\n",
      "1/2pos: [0.10698469410126915, -0.007307138850077874, 0.0]\n",
      "1/2vel: [0.9902764628962158, -0.13926930289853837, 0.0]\n",
      "\n",
      "-----------------\n",
      "i     : 11\n",
      "pos   : [ 0.11193608 -0.00803643  0.        ]\n",
      "vel   : [ 0.989306   -0.14585806  0.        ]\n",
      "1/2pos: [0.11687775413675332, -0.008765719431821839, 0.0]\n",
      "1/2vel: [0.9883355442006179, -0.1524338996440853, 0.0]\n",
      "\n",
      "-----------------\n",
      "i     : 12\n",
      "pos   : [ 0.12181943 -0.00956077  0.        ]\n",
      "vel   : [ 0.98727758 -0.15900974  0.        ]\n",
      "1/2pos: [0.12675052994458733, -0.010355816842959581, 0.0]\n",
      "1/2vel: [0.9862196173661819, -0.165571504369332, 0.0]\n",
      "\n",
      "-----------------\n",
      "i     : 13\n",
      "pos   : [ 0.13168163 -0.01121648  0.        ]\n",
      "vel   : [ 0.98507434 -0.17213327  0.        ]\n",
      "1/2pos: [0.13660127331675675, -0.012077149519208479, 0.0]\n",
      "1/2vel: [0.9839290570677028, -0.17867979075123436, 0.0]\n",
      "\n",
      "-----------------\n",
      "i     : 14\n",
      "pos   : [ 0.14152092 -0.01300328  0.        ]\n",
      "vel   : [ 0.98269666 -0.18522631  0.        ]\n",
      "1/2pos: [0.14642823994661003, -0.013929412657984268, 0.0]\n",
      "1/2vel: [0.9814642689029527, -0.1917564376582531, 0.0]\n",
      "\n",
      "-----------------\n",
      "i     : 15\n",
      "pos   : [ 0.15133556 -0.01492085  0.        ]\n",
      "vel   : [ 0.98014498 -0.19828656  0.        ]\n",
      "1/2pos: [0.1562296897377291, -0.015912278272373542, 0.0]\n",
      "1/2vel: [0.97882568932086, -0.20479912956136484, 0.0]\n",
      "\n",
      "-----------------\n",
      "i     : 16\n",
      "pos   : [ 0.16112382 -0.01696884  0.        ]\n",
      "vel   : [ 0.97741974 -0.2113117   0.        ]\n",
      "1/2pos: [0.16600388711205455, -0.018025395249211568, 0.0]\n",
      "1/2vel: [0.9760137855442264, -0.21780555694408119, 0.0]\n",
      "\n",
      "-----------------\n",
      "i     : 17\n",
      "pos   : [ 0.17088396 -0.01914689  0.        ]\n",
      "vel   : [ 0.97452142 -0.22429942  0.        ]\n",
      "1/2pos: [0.17574910131721064, -0.020268389411255167, 0.0]\n",
      "1/2vel: [0.9730290554869934, -0.2307734167114031, 0.0]\n",
      "\n",
      "-----------------\n",
      "i     : 18\n",
      "pos   : [ 0.18061425 -0.02145463  0.        ]\n",
      "vel   : [ 0.97145054 -0.23724742  0.        ]\n",
      "1/2pos: [0.185463606732976, -0.02264086358343963, 0.0]\n",
      "1/2vel: [0.9698720276660755, -0.2437004125976384, 0.0]\n",
      "\n",
      "-----------------\n",
      "i     : 19\n",
      "pos   : [ 0.19031297 -0.02389163  0.        ]\n",
      "vel   : [ 0.96820764 -0.25015341  0.        ]\n",
      "1/2pos: [0.19514568317684522, -0.025142397663207937, 0.0]\n",
      "1/2vel: [0.9665432611077737, -0.2565842555730095, 0.0]\n",
      "\n",
      "-----------------\n",
      "i     : 20\n",
      "pos   : [ 0.1999784  -0.02645747  0.        ]\n",
      "vel   : [ 0.9647933 -0.2630151  0.       ]\n",
      "1/2pos: [0.20479361620862802, -0.027772548694899823, 0.0]\n",
      "1/2vel: [0.963043345248786, -0.2694226642489806, 0.0]\n",
      "\n",
      "-----------------\n",
      "i     : 21\n",
      "pos   : [ 0.20960883 -0.0291517   0.        ]\n",
      "vel   : [ 0.96120812 -0.27583023  0.        ]\n",
      "1/2pos: [0.21440569743403112, -0.030530850948187548, 0.0]\n",
      "1/2vel: [0.9593728998318347, -0.2822133652822309, 0.0]\n",
      "\n",
      "-----------------\n",
      "i     : 22\n",
      "pos   : [ 0.21920256 -0.03197383  0.        ]\n",
      "vel   : [ 0.95745274 -0.28859651  0.        ]\n",
      "1/2pos: [0.22398022480716992, -0.03341681600054444, 0.0]\n",
      "1/2vel: [0.9555325747959258, -0.29495409377720405, 0.0]\n",
      "\n",
      "-----------------\n",
      "i     : 23\n",
      "pos   : [ 0.22875789 -0.03492337  0.        ]\n",
      "vel   : [ 0.95352781 -0.30131168  0.        ]\n",
      "1/2pos: [0.23351550293195586, -0.03642993282373163, 0.0]\n",
      "1/2vel: [0.9515230501612619, -0.30764259368716124, 0.0]\n",
      "\n",
      "-----------------\n",
      "i     : 24\n",
      "pos   : [ 0.23827312 -0.0379998   0.        ]\n",
      "vel   : [ 0.94943404 -0.31397351  0.        ]\n",
      "1/2pos: [0.2430098433623063, -0.039569667874287666, 0.0]\n",
      "1/2vel: [0.9473450359088288, -0.32027661821366754, 0.0]\n",
      "\n",
      "-----------------\n",
      "i     : 25\n",
      "pos   : [ 0.24774657 -0.04120257  0.        ]\n",
      "vel   : [ 0.94517215 -0.32657973  0.        ]\n",
      "1/2pos: [0.2524615649011238, -0.04283546518800498, 0.0]\n",
      "1/2vel: [0.9429992718546764, -0.33285393020444065, 0.0]\n",
      "\n",
      "-----------------\n",
      "i     : 26\n",
      "pos   : [ 0.25717656 -0.04453111  0.        ]\n",
      "vel   : [ 0.9407429  -0.33912813  0.        ]\n",
      "1/2pos: [0.2618689938979918, -0.046226746478376476, 0.0]\n",
      "1/2vel: [0.9384865275189169, -0.3453723025494914, 0.0]\n",
      "\n",
      "-----------------\n",
      "i     : 27\n",
      "pos   : [ 0.26656143 -0.04798483  0.        ]\n",
      "vel   : [ 0.93614706 -0.35161648  0.        ]\n",
      "1/2pos: [0.2712304645455337, -0.049742911238994804, 0.0]\n",
      "1/2vel: [0.9338076019894634, -0.35782951857548634, 0.0]\n",
      "\n",
      "-----------------\n",
      "i     : 28\n",
      "pos   : [ 0.2758995  -0.05156312  0.        ]\n",
      "vel   : [ 0.93138546 -0.36404256  0.        ]\n",
      "1/2pos: [0.28054431917438366, -0.0533833368498862, 0.0]\n",
      "1/2vel: [0.928963323780532, -0.37022337243826187, 0.0]\n",
      "\n",
      "-----------------\n",
      "i     : 29\n",
      "pos   : [ 0.28518914 -0.05526536  0.        ]\n",
      "vel   : [ 0.92645894 -0.37640418  0.        ]\n",
      "1/2pos: [0.289808908546716, -0.05714737868776004, 0.0]\n",
      "1/2vel: [0.923954550685934, -0.3825516695134212, 0.0]\n",
      "\n",
      "-----------------\n",
      "i     : 30\n",
      "pos   : [ 0.29442868 -0.05909087  0.        ]\n",
      "vel   : [ 0.92136836 -0.38869916  0.        ]\n",
      "1/2pos: [0.2990225921482816, -0.06103437024015462, 0.0]\n",
      "1/2vel: [0.9187821696271833, -0.3948122267849442, 0.0]\n",
      "\n",
      "-----------------\n",
      "i     : 31\n",
      "pos   : [ 0.3036165 -0.063039   0.       ]\n",
      "vel   : [ 0.91611463 -0.4009253   0.        ]\n",
      "1/2pos: [0.30818373847889974, -0.06504362322345893, 0.0]\n",
      "1/2vel: [0.9134470964964461, -0.4070028732317423, 0.0]\n",
      "\n",
      "-----------------\n",
      "i     : 32\n",
      "pos   : [ 0.31275097 -0.06710903  0.        ]\n",
      "vel   : [ 0.91069869 -0.41308045  0.        ]\n",
      "1/2pos: [0.3172907253413538, -0.06917442770478947, 0.0]\n",
      "1/2vel: [0.9079502759943603, -0.4191214502120884, 0.0]\n",
      "\n",
      "-----------------\n",
      "i     : 33\n",
      "pos   : [ 0.32183048 -0.07130024  0.        ]\n",
      "vel   : [ 0.90512148 -0.42516245  0.        ]\n",
      "1/2pos: [0.3263419401286394, -0.0734260522277007, 0.0]\n",
      "1/2vel: [0.9022926814627543, -0.4311658118458561, 0.0]\n",
      "\n",
      "-----------------\n",
      "i     : 34\n",
      "pos   : [ 0.3308534 -0.0756119  0.       ]\n",
      "vel   : [ 0.899384   -0.43716917  0.        ]\n",
      "1/2pos: [0.3353357801095146, -0.07779774394170659, 0.0]\n",
      "1/2vel: [0.8964753147122937, -0.4431338253944978, 0.0]\n",
      "\n",
      "-----------------\n",
      "i     : 35\n",
      "pos   : [ 0.33981816 -0.08004324  0.        ]\n",
      "vel   : [ 0.89348726 -0.44909848  0.        ]\n",
      "1/2pos: [0.3442706527123015, -0.08228872873559065, 0.0]\n",
      "1/2vel: [0.8904992058450868, -0.45502337163869666, 0.0]\n",
      "\n",
      "-----------------\n",
      "i     : 36\n",
      "pos   : [ 0.34872315 -0.08459347  0.        ]\n",
      "vel   : [ 0.88743231 -0.46094826  0.        ]\n",
      "1/2pos: [0.35314497580688836, -0.08689821137448052, 0.0]\n",
      "1/2vel: [0.8843654130722812, -0.46683234525362455, 0.0]\n",
      "\n",
      "-----------------\n",
      "i     : 37\n",
      "pos   : [ 0.3575668  -0.08926179  0.        ]\n",
      "vel   : [ 0.88122022 -0.47271643  0.        ]\n",
      "1/2pos: [0.3619571779848832, -0.09162537564066313, 0.0]\n",
      "1/2vel: [0.8780750225266821, -0.4785586551817392, 0.0]\n",
      "\n",
      "-----------------\n",
      "i     : 38\n",
      "pos   : [ 0.36634755 -0.09404738  0.        ]\n",
      "vel   : [ 0.87485209 -0.48440088  0.        ]\n",
      "1/2pos: [0.37070569883786875, -0.09646938447811529, 0.0]\n",
      "1/2vel: [0.8716291480704272, -0.4902002250030555, 0.0]\n",
      "\n",
      "-----------------\n",
      "i     : 39\n",
      "pos   : [ 0.37506384 -0.09894938  0.        ]\n",
      "vel   : [ 0.86832904 -0.49599957  0.        ]\n",
      "1/2pos: [0.3793889892337096, -0.10142938014072422, 0.0]\n",
      "1/2vel: [0.8650289310977509, -0.5017549933028247, 0.0]\n",
      "\n",
      "-----------------\n",
      "i     : 40\n",
      "pos   : [ 0.38371413 -0.10396693  0.        ]\n",
      "vel   : [ 0.86165224 -0.50751042  0.        ]\n",
      "1/2pos: [0.3880055115908627, -0.10650448434417177, 0.0]\n",
      "1/2vel: [0.8582755403328735, -0.5132209140365563, 0.0]\n",
      "\n",
      "-----------------\n",
      "i     : 41\n",
      "pos   : [ 0.39229689 -0.10909914  0.        ]\n",
      "vel   : [ 0.85482286 -0.51893141  0.        ]\n",
      "1/2pos: [0.3965537401506423, -0.11169379842145535, 0.0]\n",
      "1/2vel: [0.851370171623051, -0.5245959568923191, 0.0]\n",
      "\n",
      "-----------------\n",
      "i     : 42\n",
      "pos   : [ 0.40081059 -0.1143451   0.        ]\n",
      "vel   : [ 0.84784211 -0.53026051  0.        ]\n",
      "1/2pos: [0.40503216124739166, -0.11699640348201816, 0.0]\n",
      "1/2vel: [0.8443140477268222, -0.535878107650255, 0.0]\n",
      "\n",
      "-----------------\n",
      "i     : 43\n",
      "pos   : [ 0.40925373 -0.11970388  0.        ]\n",
      "vel   : [ 0.84071123 -0.54149571  0.        ]\n",
      "1/2pos: [0.4134392735765132, -0.12241136057446045, 0.0]\n",
      "1/2vel: [0.8371084180974905, -0.5470653685392449, 0.0]\n",
      "\n",
      "-----------------\n",
      "i     : 44\n",
      "pos   : [ 0.41762482 -0.12517454  0.        ]\n",
      "vel   : [ 0.83343149 -0.55263503  0.        ]\n",
      "1/2pos: [0.42177358846031004, -0.12793771085280306, 0.0]\n",
      "1/2vel: [0.8297545586618784, -0.5581557585906609, 0.0]\n",
      "\n",
      "-----------------\n",
      "i     : 45\n",
      "pos   : [ 0.42592236 -0.13075609  0.        ]\n",
      "vel   : [ 0.82600417 -0.56367649  0.        ]\n",
      "1/2pos: [0.4300336301115914, -0.13357447574627368, 0.0]\n",
      "1/2vel: [0.822253771594395, -0.5691473139891438, 0.0]\n",
      "\n",
      "-----------------\n",
      "i     : 46\n",
      "pos   : [ 0.4341449  -0.13644757  0.        ]\n",
      "vel   : [ 0.81843058 -0.57461814  0.        ]\n",
      "1/2pos: [0.43821793589499564, -0.13932065713258593, 0.0]\n",
      "1/2vel: [0.8146073850864548, -0.5800380884203424, 0.0]\n",
      "\n",
      "-----------------\n",
      "i     : 47\n",
      "pos   : [ 0.44229097 -0.14224795  0.        ]\n",
      "vel   : [ 0.81071207 -0.58545804  0.        ]\n",
      "1/2pos: [0.44632505658598437, -0.1451752375146805, 0.0]\n",
      "1/2vel: [0.8068167531112903, -0.5908261534155553, 0.0]\n",
      "\n",
      "-----------------\n",
      "i     : 48\n",
      "pos   : [ 0.45035914 -0.14815621  0.        ]\n",
      "vel   : [ 0.80285    -0.59619427  0.        ]\n",
      "1/2pos: [0.4543535566274618, -0.15113718020089703, 0.0]\n",
      "1/2vel: [0.798883255184199, -0.601509598693211, 0.0]\n",
      "\n",
      "-----------------\n",
      "i     : 49\n",
      "pos   : [ 0.45834797 -0.1541713   0.        ]\n",
      "vel   : [ 0.79484578 -0.60682493  0.        ]\n",
      "1/2pos: [0.4623020143839741, -0.15720542948854474, 0.0]\n",
      "1/2vel: [0.7908082961182679, -0.6120865324971286, 0.0]\n",
      "\n",
      "-----------------\n",
      "i     : 50\n",
      "pos   : [ 0.46625606 -0.16029217  0.        ]\n",
      "vel   : [ 0.7867008  -0.61734814  0.        ]\n",
      "1/2pos: [0.47016902239344355, -0.1633789108508396, 0.0]\n",
      "1/2vel: [0.7825933057756176, -0.6225550819314983, 0.0]\n",
      "\n",
      "-----------------\n",
      "i     : 51\n",
      "pos   : [ 0.47408199 -0.16651772  0.        ]\n",
      "vel   : [ 0.77841652 -0.62776203  0.        ]\n",
      "1/2pos: [0.4779531876163927, -0.16965653112717471, 0.0]\n",
      "1/2vel: [0.7742397388142123, -0.632913393292521, 0.0]\n",
      "\n",
      "-----------------\n",
      "i     : 52\n",
      "pos   : [ 0.48182439 -0.17284685  0.        ]\n",
      "vel   : [ 0.76999441 -0.63806476  0.        ]\n",
      "1/2pos: [0.48565313168261515, -0.17603717871669003, 0.0]\n",
      "1/2vel: [0.7657490744302774, -0.6431596323966512, 0.0]\n",
      "\n",
      "-----------------\n",
      "i     : 53\n",
      "pos   : [ 0.48948188 -0.17927845  0.        ]\n",
      "vel   : [ 0.76143595 -0.64825451  0.        ]\n",
      "1/2pos: [0.49326749113524837, -0.18251972377510772, 0.0]\n",
      "1/2vel: [0.7571228160963734, -0.6532919849053818, 0.0]\n",
      "\n",
      "-----------------\n",
      "i     : 54\n",
      "pos   : [ 0.49705311 -0.18581137  0.        ]\n",
      "vel   : [ 0.75274265 -0.65832946  0.        ]\n",
      "1/2pos: [0.5007949176722061, -0.18910301841479765, 0.0]\n",
      "1/2vel: [0.7483624912951707, -0.6633086566465158, 0.0]\n",
      "\n",
      "-----------------\n",
      "i     : 55\n",
      "pos   : [ 0.50453673 -0.19244446  0.        ]\n",
      "vel   : [ 0.74391607 -0.66828785  0.        ]\n",
      "1/2pos: [0.5082340783849267, -0.19578589690803802, 0.0]\n",
      "1/2vel: [0.7394696512489725, -0.6732078739318672, 0.0]\n",
      "\n",
      "-----------------\n",
      "i     : 56\n",
      "pos   : [ 0.51193143 -0.19917654  0.        ]\n",
      "vel   : [ 0.73495776 -0.6781279   0.        ]\n",
      "1/2pos: [0.5155836559943968, -0.20256717589343498, 0.0]\n",
      "1/2vel: [0.7304458706450339, -0.6829878838713337, 0.0]\n",
      "\n",
      "-----------------\n",
      "i     : 57\n",
      "pos   : [ 0.51923589 -0.20600642  0.        ]\n",
      "vel   : [ 0.72586931 -0.68784787  0.        ]\n",
      "1/2pos: [0.5228423490844056, -0.20944565458546469, 0.0]\n",
      "1/2vel: [0.721292747356727, -0.6926469546832877, 0.0]\n",
      "\n",
      "-----------------\n",
      "i     : 58\n",
      "pos   : [ 0.52644881 -0.21293288  0.        ]\n",
      "vel   : [ 0.71665232 -0.69744604  0.        ]\n",
      "1/2pos: [0.5300088723319922, -0.21642011498710073, 0.0]\n",
      "1/2vel: [0.7120119021605995, -0.7021833760012292, 0.0]\n",
      "\n",
      "-----------------\n",
      "i     : 59\n",
      "pos   : [ 0.53356893 -0.21995472  0.        ]\n",
      "vel   : [ 0.70730844 -0.70692071  0.        ]\n",
      "1/2pos: [0.5370819567350421, -0.22348932210548927, 0.0]\n",
      "1/2vel: [0.7026049784493779, -0.711595459176646, 0.0]\n",
      "\n",
      "-----------------\n",
      "i     : 60\n",
      "pos   : [ 0.54059498 -0.22707067  0.        ]\n",
      "vel   : [ 0.69783931 -0.71627021  0.        ]\n",
      "1/2pos: [0.5440603498369938, -0.23065202417063366, 0.0]\n",
      "1/2vel: [0.6930736419409659, -0.7208815375780296, 0.0]\n",
      "\n",
      "-----------------\n",
      "i     : 61\n",
      "pos   : [ 0.54752572 -0.23427949  0.        ]\n",
      "vel   : [ 0.68824661 -0.72549287  0.        ]\n",
      "1/2pos: [0.550942815948616, -0.23790695285704985, 0.0]\n",
      "1/2vel: [0.6834195803834899, -0.730039966885991, 0.0]\n",
      "\n",
      "-----------------\n",
      "i     : 62\n",
      "pos   : [ 0.55435991 -0.24157989  0.        ]\n",
      "vel   : [ 0.67853204 -0.73458707  0.        ]\n",
      "1/2pos: [0.5577281363668157, -0.24525282350835345, 0.0]\n",
      "1/2vel: [0.6736445032564433, -0.7390691253844265, 0.0]\n",
      "\n",
      "-----------------\n",
      "i     : 63\n",
      "pos   : [ 0.56109636 -0.24897058  0.        ]\n",
      "vel   : [ 0.66869732 -0.74355119  0.        ]\n",
      "1/2pos: [0.5644151095904378, -0.2526883353647384, 0.0]\n",
      "1/2vel: [0.6637501414679828, -0.7479674142476809, 0.0]\n",
      "\n",
      "-----------------\n",
      "i     : 64\n",
      "pos   : [ 0.56773386 -0.25645025  0.        ]\n",
      "vel   : [ 0.65874419 -0.75238364  0.        ]\n",
      "1/2pos: [0.5710025515330199, -0.2602121717933071, 0.0]\n",
      "1/2vel: [0.6537382470484302, -0.756733257823657, 0.0]\n",
      "\n",
      "-----------------\n",
      "i     : 65\n",
      "pos   : [ 0.57427124 -0.26401759  0.        ]\n",
      "vel   : [ 0.64867442 -0.76108287  0.        ]\n",
      "1/2pos: [0.5774892957324622, -0.2678230005212115, 0.0]\n",
      "1/2vel: [0.6436105928400342, -0.7653651039128225, 0.0]\n",
      "\n",
      "-----------------\n",
      "i     : 66\n",
      "pos   : [ 0.58070735 -0.27167124  0.        ]\n",
      "vel   : [ 0.63848978 -0.76964734  0.        ]\n",
      "1/2pos: [0.5838741935575776, -0.2755194738715635, 0.0]\n",
      "1/2vel: [0.6333689721830467, -0.7738614240430632, 0.0]\n",
      "\n",
      "-----------------\n",
      "i     : 67\n",
      "pos   : [ 0.58704104 -0.27940985  0.        ]\n",
      "vel   : [ 0.62819209 -0.77807551  0.        ]\n",
      "1/2pos: [0.5901561144114837, -0.28330022900207275, 0.0]\n",
      "1/2vel: [0.6230151985981696, -0.7822207137403352, 0.0]\n",
      "\n",
      "-----------------\n",
      "i     : 68\n",
      "pos   : [ 0.59327119 -0.28723206  0.        ]\n",
      "vel   : [ 0.61778315 -0.78636591  0.        ]\n",
      "1/2pos: [0.5963339459318018, -0.2911638881463702, 0.0]\n",
      "1/2vel: [0.6125511054654281, -0.7904414927950673, 0.0]\n",
      "\n",
      "-----------------\n",
      "i     : 69\n",
      "pos   : [ 0.5993967  -0.29513647  0.        ]\n",
      "vel   : [ 0.60726483 -0.79451707  0.        ]\n",
      "1/2pos: [0.6024065941876265, -0.29910905885797406, 0.0]\n",
      "1/2vel: [0.6019785456995279, -0.7985223055242674, 0.0]\n",
      "\n",
      "-----------------\n",
      "i     : 70\n",
      "pos   : [ 0.60541649 -0.3031217   0.        ]\n",
      "vel   : [ 0.59663897 -0.80252754  0.        ]\n",
      "1/2pos: [0.6083729838732329, -0.3071343342568555, 0.0]\n",
      "1/2vel: [0.5912993914217523, -0.8064617210292856, 0.0]\n",
      "\n",
      "-----------------\n",
      "i     : 71\n",
      "pos   : [ 0.61132948 -0.31118631  0.        ]\n",
      "vel   : [ 0.58590746 -0.8103959   0.        ]\n",
      "1/2pos: [0.614232058498484, -0.31523829327855973, 0.0]\n",
      "1/2vel: [0.5805155336284591, -0.8142583334491881, 0.0]\n",
      "\n",
      "-----------------\n",
      "i     : 72\n",
      "pos   : [ 0.61713464 -0.3193289   0.        ]\n",
      "vel   : [ 0.57507221 -0.81812076  0.        ]\n",
      "1/2pos: [0.6199827805759074, -0.3234195009258392, 0.0]\n",
      "1/2vel: [0.5696288818562354, -0.8219107622096984, 0.0]\n",
      "\n",
      "-----------------\n",
      "i     : 73\n",
      "pos   : [ 0.62283092 -0.327548    0.        ]\n",
      "vel   : [ 0.56413512 -0.82570076  0.        ]\n",
      "1/2pos: [0.6256241318044075, -0.33167650852275365, 0.0]\n",
      "1/2vel: [0.5586413638437687, -0.8294176522676605, 0.0]\n",
      "\n",
      "-----------------\n",
      "i     : 74\n",
      "pos   : [ 0.62841734 -0.33584218  0.        ]\n",
      "vel   : [ 0.55309814 -0.83313454  0.        ]\n",
      "1/2pos: [0.6311551132495787, -0.3400078539711924, 0.0]\n",
      "1/2vel: [0.5475549251904955, -0.8367776743509814, 0.0]\n",
      "\n",
      "-----------------\n",
      "i     : 75\n",
      "pos   : [ 0.63389289 -0.34420996  0.        ]\n",
      "vel   : [ 0.54196323 -0.8404208   0.        ]\n",
      "1/2pos: [0.6365747455205917, -0.34841206200977326, 0.0]\n",
      "1/2vel: [0.5363715290120868, -0.8439895251940098, 0.0]\n",
      "\n",
      "-----------------\n",
      "i     : 76\n",
      "pos   : [ 0.6392566  -0.35264985  0.        ]\n",
      "vel   : [ 0.53073234 -0.84755825  0.        ]\n",
      "1/2pos: [0.6418820689436162, -0.3568876444750726, 0.0]\n",
      "1/2vel: [0.5250931555928323, -0.8510519277683105, 0.0]\n",
      "\n",
      "-----------------\n",
      "i     : 77\n",
      "pos   : [ 0.64450753 -0.36116037  0.        ]\n",
      "vel   : [ 0.51940748 -0.85454561  0.        ]\n",
      "1/2pos: [0.6470761437317553, -0.3654331005651395, 0.0]\n",
      "1/2vel: [0.5137218020349841, -0.857963631508792, 0.0]\n",
      "\n",
      "-----------------\n",
      "i     : 78\n",
      "pos   : [ 0.64964475 -0.36974001  0.        ]\n",
      "vel   : [ 0.50799064 -0.86138165  0.        ]\n",
      "1/2pos: [0.6521560501514558, -0.37404691710524846, 0.0]\n",
      "1/2vel: [0.5022594819051228, -0.8647234125351485, 0.0]\n",
      "\n",
      "-----------------\n",
      "i     : 79\n",
      "pos   : [ 0.65466735 -0.37838724  0.        ]\n",
      "vel   : [ 0.49648385 -0.86806517  0.        ]\n",
      "1/2pos: [0.6571208886853694, -0.38272756881584247, 0.0]\n",
      "1/2vel: [0.490708224877608, -0.8713300738685775, 0.0]\n",
      "\n",
      "-----------------\n",
      "i     : 80\n",
      "pos   : [ 0.65957443 -0.38710054  0.        ]\n",
      "vel   : [ 0.48488915 -0.87459498  0.        ]\n",
      "1/2pos: [0.6619697801916333, -0.39147351858262, 0.0]\n",
      "1/2vel: [0.4790700763751764, -0.8777824456437325, 0.0]\n",
      "\n",
      "-----------------\n",
      "i     : 81\n",
      "pos   : [ 0.66436513 -0.39587837  0.        ]\n",
      "vel   : [ 0.47320859 -0.88096991  0.        ]\n",
      "1/2pos: [0.666701866059543, -0.4002832177287171, 0.0]\n",
      "1/2vel: [0.4673470972067515, -0.8840793853158755, 0.0]\n",
      "\n",
      "-----------------\n",
      "i     : 82\n",
      "pos   : [ 0.6690386  -0.40471916  0.        ]\n",
      "vel   : [ 0.46144423 -0.88718886  0.        ]\n",
      "1/2pos: [0.6713163083615894, -0.4091551062889375, 0.0]\n",
      "1/2vel: [0.4555413632025288, -0.8902197778631912, 0.0]\n",
      "\n",
      "-----------------\n",
      "i     : 83\n",
      "pos   : [ 0.67359402 -0.41362136  0.        ]\n",
      "vel   : [ 0.44959816 -0.8932507   0.        ]\n",
      "1/2pos: [0.6758122900018341, -0.41808761328598093, 0.0]\n",
      "1/2vel: [0.44365496484640093, -0.8962025359842286, 0.0]\n",
      "\n",
      "-----------------\n",
      "i     : 84\n",
      "pos   : [ 0.67803056 -0.42258339  0.        ]\n",
      "vel   : [ 0.43767249 -0.89915437  0.        ]\n",
      "1/2pos: [0.680189014860595, -0.42707915700862203, 0.0]\n",
      "1/2vel: [0.43169000690578824, -0.9020266002904328, 0.0]\n",
      "\n",
      "-----------------\n",
      "i     : 85\n",
      "pos   : [ 0.68234746 -0.43160365  0.        ]\n",
      "vel   : [ 0.42566931 -0.90489883  0.        ]\n",
      "1/2pos: [0.6844457079354187, -0.43612814529178956, 0.0]\n",
      "1/2vel: [0.41964860805894, -0.907690939493735, 0.0]\n",
      "\n",
      "-----------------\n",
      "i     : 86\n",
      "pos   : [ 0.68654395 -0.44068056  0.        ]\n",
      "vel   : [ 0.41359075 -0.91048305  0.        ]\n",
      "1/2pos: [0.6885816154783122, -0.44523297579849674, 0.0]\n",
      "1/2vel: [0.40753290051977237, -0.9131945505891664, 0.0]\n",
      "\n",
      "-----------------\n",
      "i     : 87\n",
      "pos   : [ 0.69061928 -0.44981251  0.        ]\n",
      "vel   : [ 0.40143897 -0.91590605  0.        ]\n",
      "1/2pos: [0.6925960051292126, -0.4543920363035729, 0.0]\n",
      "1/2vel: [0.3953450296603096, -0.9185364590324638, 0.0]\n",
      "\n",
      "-----------------\n",
      "i     : 88\n",
      "pos   : [ 0.69457273 -0.45899787  0.        ]\n",
      "vel   : [ 0.38921609 -0.92116687  0.        ]\n",
      "1/2pos: [0.6964881660456681, -0.463603704979146, 0.0]\n",
      "1/2vel: [0.3830871536307954, -0.9237157189126357, 0.0]\n",
      "\n",
      "-----------------\n",
      "i     : 89\n",
      "pos   : [ 0.6984036  -0.46823503  0.        ]\n",
      "vel   : [ 0.3769243  -0.92626457  0.        ]\n",
      "1/2pos: [0.7002574090287098, -0.4728663506818256, 0.0]\n",
      "1/2vel: [0.3707614429775412, -0.9287314131194583, 0.0]\n",
      "\n",
      "-----------------\n",
      "i     : 90\n",
      "pos   : [ 0.70211122 -0.47752234  0.        ]\n",
      "vel   : [ 0.36456576 -0.93119826  0.        ]\n",
      "1/2pos: [0.7039030666448904, -0.48217833324153514, 0.0]\n",
      "1/2vel: [0.35837008025858014, -0.9335826535058713, 0.0]\n",
      "\n",
      "-----------------\n",
      "i     : 91\n",
      "pos   : [ 0.70569492 -0.48685817  0.        ]\n",
      "vel   : [ 0.35214267 -0.93596705  0.        ]\n",
      "1/2pos: [0.7074244933444693, -0.491538003751943, 0.0]\n",
      "1/2vel: [0.3459152596571931, -0.9382685810452456, 0.0]\n",
      "\n",
      "-----------------\n",
      "i     : 92\n",
      "pos   : [ 0.70915407 -0.49624085  0.        ]\n",
      "vel   : [ 0.33965722 -0.94057011  0.        ]\n",
      "1/2pos: [0.7108210655757222, -0.5009437048624401, 0.0]\n",
      "1/2vel: [0.33339918659337725, -0.9427883659834938, 0.0]\n",
      "\n",
      "-----------------\n",
      "i     : 93\n",
      "pos   : [ 0.71248806 -0.50566874  0.        ]\n",
      "vel   : [ 0.32711163 -0.94500662  0.        ]\n",
      "1/2pos: [0.7140921818953557, -0.5103937710716129, 0.0]\n",
      "1/2vel: [0.320824077333324, -0.9471412079859981, 0.0]\n",
      "\n",
      "-----------------\n",
      "i     : 94\n",
      "pos   : [ 0.7156963  -0.51514015  0.        ]\n",
      "vel   : [ 0.31450812 -0.9492758   0.        ]\n",
      "1/2pos: [0.7172372630750072, -0.51988652902216, 0.0]\n",
      "1/2vel: [0.3081921585969771, -0.9513263362793285, 0.0]\n",
      "\n",
      "-----------------\n",
      "i     : 95\n",
      "pos   : [ 0.71877822 -0.52465341  0.        ]\n",
      "vel   : [ 0.30184891 -0.95337688  0.        ]\n",
      "1/2pos: [0.7202557522038108, -0.5294202977971995, 0.0]\n",
      "1/2vel: [0.2955056671637389, -0.9553430097877261, 0.0]\n",
      "\n",
      "-----------------\n",
      "i     : 96\n",
      "pos   : [ 0.72173328 -0.53420684  0.        ]\n",
      "vel   : [ 0.28913626 -0.95730914  0.        ]\n",
      "1/2pos: [0.7231471147870114, -0.5389933892179145, 0.0]\n",
      "1/2vel: [0.2827668494763962, -0.9591905172643284, 0.0]\n",
      "\n",
      "-----------------\n",
      "i     : 97\n",
      "pos   : [ 0.72456095 -0.54379875  0.        ]\n",
      "vel   : [ 0.27637241 -0.96107189  0.        ]\n",
      "1/2pos: [0.72591083884061, -0.548604108142486, 0.0]\n",
      "1/2vel: [0.2699779612433341, -0.9628681774171118, 0.0]\n",
      "\n",
      "-----------------\n",
      "i     : 98\n",
      "pos   : [ 0.72726073 -0.55342743  0.        ]\n",
      "vel   : [ 0.26355961 -0.96466446  0.        ]\n",
      "1/2pos: [0.7285464349820222, -0.5582507527662567, 0.0]\n",
      "1/2vel: [0.25714126703911006, -0.9663753390295313, 0.0]\n",
      "\n",
      "-----------------\n",
      "i     : 99\n",
      "pos   : [ 0.72983214 -0.56309118  0.        ]\n",
      "vel   : [ 0.25070015 -0.96808622  0.        ]\n",
      "1/2pos: [0.731053436516735, -0.5679316149230765, 0.0]\n",
      "1/2vel: [0.244259039903457, -0.969711381075833, 0.0]\n",
      "\n",
      "-----------------\n",
      "i     : 100\n",
      "pos   : [ 0.73227473 -0.5727883   0.        ]\n",
      "vel   : [ 0.2377963  -0.97133655  0.        ]\n",
      "1/2pos: [0.7334313995209463, -0.5776449803877733, 0.0]\n",
      "1/2vel: [0.23133356093878826, -0.9728757128310216, 0.0]\n",
      "\n",
      "-----------------\n",
      "i     : 101\n",
      "pos   : [ 0.73458807 -0.58251705  0.        ]\n",
      "vel   : [ 0.22485034 -0.97441488  0.        ]\n",
      "1/2pos: [0.7356799029201716, -0.587389129179697, 0.0]\n",
      "1/2vel: [0.2183671189062746, -0.9758677739754624, 0.0]\n",
      "\n",
      "-----------------\n",
      "i     : 102\n",
      "pos   : [ 0.73677174 -0.59227573  0.        ]\n",
      "vel   : [ 0.21186456 -0.97732067  0.        ]\n",
      "1/2pos: [0.7377985485638058, -0.5971623358672826, 0.0]\n",
      "1/2vel: [0.20536200982056488, -0.978687034694099, 0.0]\n",
      "\n",
      "-----------------\n",
      "i     : 103\n",
      "pos   : [ 0.73882536 -0.6020626   0.        ]\n",
      "vel   : [ 0.19884127 -0.9800534   0.        ]\n",
      "1/2pos: [0.7397869612956247, -0.606962869873579, 0.0]\n",
      "1/2vel: [0.19232053654322245, -0.9813329957702693, 0.0]\n",
      "\n",
      "-----------------\n",
      "i     : 104\n",
      "pos   : [ 0.74074856 -0.61187593  0.        ]\n",
      "vel   : [ 0.18578277 -0.98261259  0.        ]\n",
      "1/2pos: [0.7416447890202156, -0.616788995782688, 0.0]\n",
      "1/2vel: [0.17924500837494928, -0.9838051886741042, 0.0]\n",
      "\n",
      "-----------------\n",
      "i     : 105\n",
      "pos   : [ 0.74254101 -0.62171398  0.        ]\n",
      "vel   : [ 0.17269137 -0.98499779  0.        ]\n",
      "1/2pos: [0.7433717027653237, -0.626638973647061, 0.0]\n",
      "1/2vel: [0.1661377406466696, -0.986103175645491, 0.0]\n",
      "\n",
      "-----------------\n",
      "i     : 106\n",
      "pos   : [ 0.74420239 -0.63157502  0.        ]\n",
      "vel   : [ 0.1595694  -0.98720856  0.        ]\n",
      "1/2pos: [0.7449673967401048, -0.6365110592955978, 0.0]\n",
      "1/2vel: [0.1530010543095461, -0.9882265497715901, 0.0]\n",
      "\n",
      "-----------------\n",
      "i     : 107\n",
      "pos   : [ 0.7457324  -0.64145728  0.        ]\n",
      "vel   : [ 0.14641916 -0.98924453  0.        ]\n",
      "1/2pos: [0.7464315883892726, -0.6464035046424929, 0.0]\n",
      "1/2vel: [0.13983727552400052, -0.9901749350588878, 0.0]\n",
      "\n",
      "-----------------\n",
      "i     : 108\n",
      "pos   : [ 0.74713077 -0.65135903  0.        ]\n",
      "vel   : [ 0.13324301 -0.99110534  0.        ]\n",
      "1/2pos: [0.7477640184431317, -0.6563145579967755, 0.0]\n",
      "1/2vel: [0.12664873524781217, -0.9919479864997752, 0.0]\n",
      "\n",
      "-----------------\n",
      "i     : 109\n",
      "pos   : [ 0.74839726 -0.66127851  0.        ]\n",
      "vel   : [ 0.12004325 -0.99279064  0.        ]\n",
      "1/2pos: [0.7489644509634875, -0.6662424643724884, 0.0]\n",
      "1/2vel: [0.11343776882336684, -0.9935453901336401, 0.0]\n",
      "\n",
      "-----------------\n",
      "i     : 110\n",
      "pos   : [ 0.74953164 -0.67121397  0.        ]\n",
      "vel   : [ 0.10682224 -0.99430014  0.        ]\n",
      "1/2pos: [0.750032673385425, -0.6761854657994484, 0.0]\n",
      "1/2vel: [0.10020671556412923, -0.9949668631024605, 0.0]\n",
      "\n",
      "-----------------\n",
      "i     : 111\n",
      "pos   : [ 0.75053371 -0.68116363  0.        ]\n",
      "vel   : [ 0.09358232 -0.99563358  0.        ]\n",
      "1/2pos: [0.7509684965549477, -0.6861418016345375, 0.0]\n",
      "1/2vel: [0.0869579183404123, -0.9962121537008919, 0.0]\n",
      "phi1: -0.23134263823554263 rad \n",
      "phi2: 0.2313426382355426 rad\n",
      "estimate: 0.7261815207628268 rad\n"
     ]
    },
    {
     "data": {
      "image/png": "[encoded data removed]",
      "text/plain": [
       "<Figure size 576x576 with 1 Axes>"
      ]
     },
     "metadata": {
      "needs_background": "light"
     },
     "output_type": "display_data"
    }
   ],
   "source": [
    "q = 0.3\n",
    "E = 1\n",
    "dt = 1e-2\n",
    "\n",
    "sphCon = [rHalf,np.pi/2,0,1,0,0]\n",
    "carCon = conditionSph2Car(sphCon)\n",
    "output = trajectorySolver(carCon,q,E,dt)\n",
    "phia,phib = phiFunc(output)\n",
    "print ('phi1: {0} rad \\nphi2: {1} rad'.format(phia/np.pi,phib/np.pi))\n",
    "print ('estimate: {0} rad'.format(angleEstimate(1e-13,1)))\n",
    "pos = output[0]\n",
    "x,y,z = pos[0],pos[1],pos[2]\n",
    "\n",
    "fig4 = plt.figure(figsize = (8,8))\n",
    "plt.plot(x,y,'.')\n",
    "# plt.axis('square')\n",
    "plt.grid()\n",
    "\n",
    "pos = output[0]\n",
    "x,y,z = pos[0],pos[1],pos[2]\n",
    "# print ('rHalf: {0}'.format(rHalf))\n",
    "# print ('r0: ({0},{1},{2})'.format(x[0],y[0],z[0]))\n",
    "# print ('r1: ({0},{1},{2})'.format(x[1],y[1],z[1]))"
   ]
  },
  {
   "cell_type": "markdown",
   "metadata": {
    "hidden": true
   },
   "source": [
    "### Magnetic Field Plots"
   ]
  },
  {
   "cell_type": "code",
   "execution_count": 85,
   "metadata": {
    "ExecuteTime": {
     "end_time": "2022-04-21T19:46:27.076522Z",
     "start_time": "2022-04-21T19:46:27.045695Z"
    },
    "hidden": true,
    "scrolled": false
   },
   "outputs": [
    {
     "name": "stdout",
     "output_type": "stream",
     "text": [
      "Complete\n"
     ]
    }
   ],
   "source": [
    "num       = 50\n",
    "theta     = np.pi/2\n",
    "phi       = 0\n",
    "rList     = np.linspace(rHalf,0.9999999,num)\n",
    "thetaList = np.full(len(rList),theta)\n",
    "phiList   = np.full(len(rList),phi)\n",
    "\n",
    "rList     = [rList,thetaList,phiList]\n",
    "points    = np.transpose(rList)\n",
    "\n",
    "xList,yList,zList = [],[],[]\n",
    "for p in points:\n",
    "    xList.append(sph2Cartesian(p)[0])\n",
    "    yList.append(sph2Cartesian(p)[1])\n",
    "    zList.append(sph2Cartesian(p)[2])\n",
    "\n",
    "carPoints = np.transpose([xList,yList,zList])\n",
    "# print (carPoints)\n",
    "\n",
    "BfieldFunc = np.vectorize(Bfield)\n",
    "BVect = BfieldFunc(xList,yList,zList)\n",
    "Bx = BVect[0]\n",
    "By = BVect[1]\n",
    "Bz = BVect[2]\n",
    "\n",
    "\n",
    "print ('Complete')"
   ]
  },
  {
   "cell_type": "code",
   "execution_count": 422,
   "metadata": {
    "ExecuteTime": {
     "end_time": "2022-04-20T23:46:11.864715Z",
     "start_time": "2022-04-20T23:46:11.396752Z"
    },
    "hidden": true,
    "scrolled": false
   },
   "outputs": [
    {
     "data": {
      "image/png": "[encoded data removed]",
      "text/plain": [
       "<Figure size 576x576 with 1 Axes>"
      ]
     },
     "metadata": {
      "needs_background": "light"
     },
     "output_type": "display_data"
    }
   ],
   "source": [
    "fige = plt.figure(figsize = (8,8))\n",
    "plt.quiver(xList,zList,Bx,Bz)\n",
    "plt.grid()\n",
    "plt.show()"
   ]
  },
  {
   "cell_type": "code",
   "execution_count": null,
   "metadata": {
    "hidden": true
   },
   "outputs": [],
   "source": [
    "fig1 = go.Figure(data=go.Cone(\n",
    "x=xList, \n",
    "y=yList, \n",
    "z=zList, \n",
    "u=Bx, \n",
    "v=By, \n",
    "w=Bz,\n",
    "sizemode = 'absolute',\n",
    "sizeref = 0.1,\n",
    "))\n",
    "\n",
    "# Add the location of the sun\n",
    "# fig1.add_trace(\n",
    "# go.Scatter3d(\n",
    "#     x=[0],\n",
    "#     y=[0],\n",
    "#     z=[0],\n",
    "#     mode = 'markers',\n",
    "#     marker = dict(\n",
    "#         size = 6,\n",
    "#         color = 'orange')\n",
    "#             )\n",
    "#         )\n",
    "fig1.show()"
   ]
  },
  {
   "cell_type": "markdown",
   "metadata": {
    "heading_collapsed": true
   },
   "source": [
    "# Field Strength Estimation"
   ]
  },
  {
   "cell_type": "code",
   "execution_count": 3,
   "metadata": {
    "ExecuteTime": {
     "end_time": "2022-05-23T22:11:29.666021Z",
     "start_time": "2022-05-23T22:11:29.628113Z"
    },
    "hidden": true
   },
   "outputs": [
    {
     "name": "stdout",
     "output_type": "stream",
     "text": [
      "Complete\n"
     ]
    }
   ],
   "source": [
    "def epsilonFunc(BTesla,EMeV):\n",
    "    c = 1\n",
    "    q = 0.3\n",
    "    \n",
    "    BMeV2 = tesla2MeV2(BTesla)\n",
    "    rSync = EMeV / (c*q*BMeV2) # In MeV^-1\n",
    "    rOrbit = km2geVInv(au2km(1))/1000 # In MeV^-1\n",
    "    ep = rOrbit/rSync\n",
    "#     if 0<=ep.any()<=2:\n",
    "#     print ('From the derivation, we have ...ArcCos(1-1/2 ep^2)')\n",
    "#     print ('Epsilon outside physical range')\n",
    "    return ep\n",
    "\n",
    "    \n",
    "def angleEstimate(BTesla,EMeV):\n",
    "    c = 1\n",
    "    e = 0.3\n",
    "    \n",
    "    omegaS = e*tesla2MeV2(BTesla)/(EMeV) # In MeV\n",
    "    omegaO = sec2geVInv(2*np.pi/(365*24*3600))/1000 # In MeV\n",
    "    \n",
    "    \n",
    "    ep = epsilonFunc(BTesla,EMeV)\n",
    "    \n",
    "    # alpha is the rHat direction\n",
    "    # beta is the direction of the trajectory\n",
    "    tStar = np.arccos(1-0.5*ep**2)/omegaS    \n",
    "    alpha = np.arctan(1/np.tan(np.arccos(1-0.5*ep**2)))\n",
    "    beta = np.arctan(np.sin(np.arccos(1-0.5*ep**2)) / (1/2*ep**2) )    \n",
    "    \n",
    "    phi = -(alpha-beta)\n",
    "    phiDeg = phi*180/np.pi\n",
    "#     return (phiDeg%90)\n",
    "    return (phi)\n",
    "\n",
    "epsilonFunc = np.vectorize(epsilonFunc)\n",
    "angleEstimate = np.vectorize(angleEstimate)\n",
    "\n",
    "\n",
    "def BFunc(EMeV,epsilon):\n",
    "    '''\n",
    "    Given epsilon = R_orbit/R_Synch ~ B/E, this function computes\n",
    "    the value of B for a given E and epsilon.\n",
    "    '''\n",
    "    auMeVInv = km2geVInv(au2km(1))/1000 #in MeV^-1\n",
    "    q = 0.3\n",
    "    c = 1\n",
    "    slope = epsilon / (auMeVInv*q*c)\n",
    "    return slope*MeV22tesla(EMeV)\n",
    "#     return epsilon * 0\n",
    "\n",
    "print ('Complete')"
   ]
  },
  {
   "cell_type": "code",
   "execution_count": 4,
   "metadata": {
    "ExecuteTime": {
     "end_time": "2022-05-23T22:11:33.659629Z",
     "start_time": "2022-05-23T22:11:30.651471Z"
    },
    "hidden": true
   },
   "outputs": [
    {
     "data": {
      "image/png": "[encoded data removed]",
      "text/plain": [
       "<Figure size 648x576 with 2 Axes>"
      ]
     },
     "metadata": {
      "needs_background": "light"
     },
     "output_type": "display_data"
    }
   ],
   "source": [
    "eMin = 0.1\n",
    "eMax = 100\n",
    "ep = 2\n",
    "nPoints = 100\n",
    "EList = np.logspace(np.log10(eMin),np.log10(eMax),nPoints)\n",
    "BList = np.logspace(np.log10(BFunc(eMin,ep)),np.log10(BFunc(eMax,ep)),nPoints)\n",
    "# BList = np.logspace(-12,-8,nPoints)\n",
    "# BList = np.linspace(1e-17,1e-14,100)\n",
    "\n",
    "XX,YY = np.meshgrid(BList,EList)\n",
    "ZZ = epsilonFunc(XX,YY)\n",
    "fig = plt.figure(figsize = (9,8))\n",
    "# plt.contourf(np.log10(YY),np.log10(XX),ZZ,cmap = 'viridis')\n",
    "plt.contourf((YY),(XX),ZZ,[0.001,0.01,0.1,0.5,1,2,4],cmap = 'viridis')\n",
    "# plt.contourf((YY),(XX),ZZ,cmap = 'viridis')\n",
    "\n",
    "plt.suptitle(r'$\\varepsilon = \\frac{r_\\oplus}{r_{synch}}$ parameter space', size = 20)\n",
    "plt.ylabel(r'$|\\vec{B}|$ [Tesla]',size = 16)\n",
    "plt.xlabel('Energy [MeV]',size = 16)\n",
    "plt.xscale('log')\n",
    "plt.yscale('log')\n",
    "plt.colorbar().set_label(r'$\\varepsilon$',size = 16)\n",
    "plt.grid()\n",
    "# plt.plot(BList,phiList)\n"
   ]
  },
  {
   "cell_type": "code",
   "execution_count": 5,
   "metadata": {
    "ExecuteTime": {
     "end_time": "2022-05-23T22:11:37.449324Z",
     "start_time": "2022-05-23T22:11:33.873227Z"
    },
    "hidden": true
   },
   "outputs": [
    {
     "name": "stderr",
     "output_type": "stream",
     "text": [
      "<ipython-input-3-6c80aca07b3f>:27: RuntimeWarning:\n",
      "\n",
      "invalid value encountered in arccos\n",
      "\n",
      "<ipython-input-3-6c80aca07b3f>:28: RuntimeWarning:\n",
      "\n",
      "invalid value encountered in arccos\n",
      "\n",
      "<ipython-input-3-6c80aca07b3f>:29: RuntimeWarning:\n",
      "\n",
      "invalid value encountered in arccos\n",
      "\n"
     ]
    },
    {
     "data": {
      "image/png": "[encoded data removed]",
      "text/plain": [
       "<Figure size 648x576 with 2 Axes>"
      ]
     },
     "metadata": {
      "needs_background": "light"
     },
     "output_type": "display_data"
    }
   ],
   "source": [
    "nPoints = 100\n",
    "eMin = 0.1\n",
    "eMax = 100\n",
    "ep = 2\n",
    "# EList = np.linspace(eMin,eMax,nPoints)\n",
    "# BList = np.linspace((BFunc(eMin,ep)),BFunc(eMax,ep),nPoints)\n",
    "\n",
    "BList = np.logspace(np.log10(BFunc(eMin,ep)),np.log10(BFunc(eMax,ep)),nPoints)\n",
    "EList = np.logspace(np.log10(eMin),np.log10(eMax),nPoints)\n",
    "XX,YY = np.meshgrid(BList,EList)\n",
    "\n",
    "fig3 = plt.figure(figsize = (9,8))\n",
    "angles = angleEstimate(XX,YY)\n",
    "# angles = phi2(XX,YY)\n",
    "# angles = phiFunc(XX,YY)[0]\n",
    "# angles = phiFunc(XX,YY)[1]\n",
    "plt.contourf((YY),(XX), angles) # plot B vertically and E horizontally\n",
    "plt.ylabel('Magnetic Field [Tesla]', size = 16)\n",
    "plt.xlabel('Energy [MeV]',size = 16)\n",
    "plt.xscale('log')\n",
    "plt.yscale('log')\n",
    "plt.grid()\n",
    "plt.colorbar().set_label(r'Angle Difference [Rad]',size = 16)\n"
   ]
  },
  {
   "cell_type": "markdown",
   "metadata": {},
   "source": [
    "# Importing the Neutrino Spectra"
   ]
  },
  {
   "cell_type": "markdown",
   "metadata": {},
   "source": [
    "To make the interpolation of $\\frac{d\\phi}{dE}$ easier, we choose a minimim and maximum energy just beyond the extent of the spectrum. We choose\n",
    "    \n",
    "    eMin = 0.0001 MeV\n",
    "    eMax = 50 MeV\n",
    "    \n",
    "Using the geometic argument that $\\varepsilon \\leq 2$, this corresponds to a maximal magnetic field value of $B \\leq 1.2\\times10^{-16}$ tesla."
   ]
  },
  {
   "cell_type": "markdown",
   "metadata": {},
   "source": [
    "We import the normalized probablity distribution for each spectrum. To obtain the flux, multiply by the total flux factor for each species.\n",
    "\n",
    "The first set of flux factors is given in Table 2 of [this paper](https://iopscience.iop.org/article/10.1086/428929/pdf) and should match figure 2.\n",
    "\n",
    "The second of flux factors is given in table 2 of [this paper](https://www.nature.com/articles/s41586-018-0624-y.pdf) and should match figure 1. (Borexino)\n",
    "\n",
    "The third set of flux factors come from table 1 of [this review paper](https://arxiv.org/abs/2107.08613) (2021). This I believe is the most recent flux data"
   ]
  },
  {
   "cell_type": "code",
   "execution_count": 3,
   "metadata": {
    "ExecuteTime": {
     "end_time": "2022-07-13T18:53:05.215590Z",
     "start_time": "2022-07-13T18:53:04.011732Z"
    },
    "scrolled": false
   },
   "outputs": [
    {
     "data": {
      "image/png": "[encoded data removed]",
      "text/plain": [
       "<Figure size 576x576 with 1 Axes>"
      ]
     },
     "metadata": {
      "needs_background": "light"
     },
     "output_type": "display_data"
    }
   ],
   "source": [
    "ppSpectra = pd.read_csv('Data/ppSpectrum2.csv')\n",
    "ppE = ppSpectra.q_MeV\n",
    "ppS = ppSpectra.spectrum\n",
    "\n",
    "# b8Spectra = pd.read_csv('Data/ppSpectrum5.csv')\n",
    "b8Spectra = pd.read_csv('Data/b8Spectrum2.csv')\n",
    "b8E = b8Spectra.q_MeV\n",
    "b8S = b8Spectra.spectrum\n",
    "\n",
    "hepSpectra = pd.read_csv('Data/hepSpectrum2.csv')\n",
    "hepE = hepSpectra.q_MeV\n",
    "hepS = hepSpectra.spectrum\n",
    "\n",
    "# Normalizations from astro-ph/0412440 (2005)\n",
    "# ppFF  = 5.99E10\n",
    "# b8FF  = 5.69e6\n",
    "# hepFF = 7.93e3\n",
    "\n",
    "# Normalizations from https://www.nature.com/articles/s41586-018-0624-y (2018)\n",
    "# ppFF  = 6.1e10\n",
    "# b8FF  = 5.68e6\n",
    "# hepFF = 2.2e5\n",
    "\n",
    "# Normalizations from table 1 of 2107.08613 (2021) Solar (Global) subject to luminoscity constraint\n",
    "# ppFF  = 5.971e10\n",
    "# b8FF  = 5.16e6\n",
    "# hepFF = 19e3\n",
    "\n",
    "ppFF  = 1\n",
    "b8FF  = 1\n",
    "hepFF = 1\n",
    "\n",
    "\n",
    "figS = plt.figure(figsize = (8,8))\n",
    "plt.plot(ppE,np.multiply(ppS,ppFF),label = 'pp')\n",
    "plt.plot(b8E,np.multiply(b8S,b8FF),label = '$^8B$')\n",
    "plt.plot(hepE,np.multiply(hepS,hepFF),label = 'hep')\n",
    "\n",
    "# Plot bounds to match fig 2 \n",
    "# plt.xlim([0.9E-1,30])\n",
    "# plt.ylim([0.9e1,5e11])\n",
    "\n",
    "plt.legend(loc = 'upper right')\n",
    "plt.grid()\n",
    "plt.xlabel('Energy [MeV]')\n",
    "plt.ylabel('Flux ')\n",
    "plt.xscale('log')\n",
    "plt.yscale('log')\n"
   ]
  },
  {
   "cell_type": "markdown",
   "metadata": {
    "heading_collapsed": true
   },
   "source": [
    "## \"L1\" Normalization Check"
   ]
  },
  {
   "cell_type": "markdown",
   "metadata": {
    "hidden": true
   },
   "source": [
    "An \"L1\" normalization just means $\\int \\ [...] \\ dx = 1$\n",
    "\n",
    "Here, we ensure that i) the data is properly normalized and ii) the `L1Norm` function works correctly."
   ]
  },
  {
   "cell_type": "code",
   "execution_count": 14,
   "metadata": {
    "ExecuteTime": {
     "end_time": "2022-06-07T21:38:59.946691Z",
     "start_time": "2022-06-07T21:38:58.302506Z"
    },
    "hidden": true
   },
   "outputs": [
    {
     "name": "stdout",
     "output_type": "stream",
     "text": [
      "pp normalization :  -176773.79415220246\n",
      "b8 normalization :  130.44571749349797\n",
      "hep normalization:  -6.4445502892653135\n",
      "-------------\n",
      "pp Raw Data/ L1 Data:  0.9998820719999999\n",
      "b8 Raw Data/ L1 Data:  0.0009948455193525259\n",
      "hep Raw Data/ L1 Data:  0.9998003009501399\n"
     ]
    },
    {
     "data": {
      "image/png": "[encoded data removed]",
      "text/plain": [
       "<Figure size 576x576 with 1 Axes>"
      ]
     },
     "metadata": {
      "needs_background": "light"
     },
     "output_type": "display_data"
    }
   ],
   "source": [
    "ppInt  = integrate.simps(y=ppS,x=ppE)\n",
    "b8Int  = integrate.simps(y=b8S, x=b8E)\n",
    "hepInt = integrate.simps(y=hepS,x=hepE)\n",
    "\n",
    "ppNormed  = L1Norm(ppS,ppSpectra.step_MeV[0])\n",
    "b8Normed  = L1Norm(b8S,b8Spectra.step_MeV[0])\n",
    "hepNormed = L1Norm(hepS,hepSpectra.step_MeV[0])\n",
    "\n",
    "print('pp normalization : ',ppInt)\n",
    "print('b8 normalization : ',b8Int)\n",
    "print('hep normalization: ',hepInt)\n",
    "print ('-------------')\n",
    "print('pp Raw Data/ L1 Data: ',ppS.iloc[3]/ppNormed[3])\n",
    "print('b8 Raw Data/ L1 Data: ',b8S.iloc[3]/b8Normed[3])\n",
    "print('hep Raw Data/ L1 Data: ',hepS.iloc[3]/hepNormed[3])\n",
    "\n",
    "\n",
    "\n",
    "figNorm = plt.figure(figsize = (8,8))\n",
    "ppNormed = L1Norm(ppS,ppSpectra.step_MeV[0])\n",
    "plt.plot(ppE,ppS,'.',label = 'Raw Data')\n",
    "plt.plot(ppE,ppNormed,'.', label = 'L1-Normed Data')\n",
    "plt.yscale('log')\n",
    "plt.xscale('log')\n",
    "plt.legend(loc = 'upper left')\n",
    "plt.grid()"
   ]
  },
  {
   "cell_type": "markdown",
   "metadata": {
    "heading_collapsed": true
   },
   "source": [
    "## Min/Max Check"
   ]
  },
  {
   "cell_type": "code",
   "execution_count": 5,
   "metadata": {
    "ExecuteTime": {
     "end_time": "2022-05-23T22:02:59.631998Z",
     "start_time": "2022-05-23T22:02:59.602083Z"
    },
    "hidden": true
   },
   "outputs": [
    {
     "name": "stdout",
     "output_type": "stream",
     "text": [
      "0.00504 0.01 0.01878\n",
      "0.42341000000000006 16.56 18.784000000000002\n"
     ]
    }
   ],
   "source": [
    "print (min(ppE),min(b8E),min(hepE))\n",
    "print (max(ppE),max(b8E),max(hepE))"
   ]
  },
  {
   "cell_type": "markdown",
   "metadata": {
    "heading_collapsed": true
   },
   "source": [
    "## Interpolations Comparisons (Not Used)"
   ]
  },
  {
   "cell_type": "markdown",
   "metadata": {
    "hidden": true
   },
   "source": [
    "We interpolate the data and determine how many interpolation points are required to adquately capture the spectra."
   ]
  },
  {
   "cell_type": "code",
   "execution_count": 60,
   "metadata": {
    "ExecuteTime": {
     "end_time": "2022-05-20T19:13:23.600352Z",
     "start_time": "2022-05-20T19:13:23.124464Z"
    },
    "hidden": true
   },
   "outputs": [
    {
     "ename": "ValueError",
     "evalue": "A value in x_new is below the interpolation range.",
     "output_type": "error",
     "traceback": [
      "\u001b[1;31m---------------------------------------------------------------------------\u001b[0m",
      "\u001b[1;31mValueError\u001b[0m                                Traceback (most recent call last)",
      "\u001b[1;32m<ipython-input-60-cd8685d567f7>\u001b[0m in \u001b[0;36m<module>\u001b[1;34m\u001b[0m\n\u001b[0;32m     11\u001b[0m \u001b[0mplt\u001b[0m\u001b[1;33m.\u001b[0m\u001b[0mplot\u001b[0m\u001b[1;33m(\u001b[0m\u001b[0meRange\u001b[0m\u001b[1;33m,\u001b[0m\u001b[0mb8Func\u001b[0m\u001b[1;33m(\u001b[0m\u001b[0meRange\u001b[0m\u001b[1;33m)\u001b[0m\u001b[1;33m,\u001b[0m\u001b[0mcolor\u001b[0m \u001b[1;33m=\u001b[0m \u001b[1;34m'C1'\u001b[0m\u001b[1;33m,\u001b[0m \u001b[0mlabel\u001b[0m \u001b[1;33m=\u001b[0m \u001b[1;34m'B8 interp'\u001b[0m\u001b[1;33m)\u001b[0m\u001b[1;33m\u001b[0m\u001b[1;33m\u001b[0m\u001b[0m\n\u001b[0;32m     12\u001b[0m \u001b[0mplt\u001b[0m\u001b[1;33m.\u001b[0m\u001b[0mplot\u001b[0m\u001b[1;33m(\u001b[0m\u001b[0mb8E\u001b[0m\u001b[1;33m,\u001b[0m\u001b[0mb8S\u001b[0m\u001b[1;33m,\u001b[0m\u001b[1;34m'.'\u001b[0m\u001b[1;33m,\u001b[0m\u001b[0mcolor\u001b[0m \u001b[1;33m=\u001b[0m \u001b[1;34m'C1'\u001b[0m\u001b[1;33m,\u001b[0m\u001b[0mlabel\u001b[0m \u001b[1;33m=\u001b[0m \u001b[1;34m'B8 data'\u001b[0m\u001b[1;33m)\u001b[0m\u001b[1;33m\u001b[0m\u001b[1;33m\u001b[0m\u001b[0m\n\u001b[1;32m---> 13\u001b[1;33m \u001b[0mplt\u001b[0m\u001b[1;33m.\u001b[0m\u001b[0mplot\u001b[0m\u001b[1;33m(\u001b[0m\u001b[0meRange\u001b[0m\u001b[1;33m,\u001b[0m\u001b[0mhepFunc\u001b[0m\u001b[1;33m(\u001b[0m\u001b[0meRange\u001b[0m\u001b[1;33m)\u001b[0m\u001b[1;33m,\u001b[0m\u001b[0mcolor\u001b[0m \u001b[1;33m=\u001b[0m \u001b[1;34m'C2'\u001b[0m\u001b[1;33m,\u001b[0m\u001b[0mlabel\u001b[0m \u001b[1;33m=\u001b[0m \u001b[1;34m'hep interp'\u001b[0m\u001b[1;33m)\u001b[0m\u001b[1;33m\u001b[0m\u001b[1;33m\u001b[0m\u001b[0m\n\u001b[0m\u001b[0;32m     14\u001b[0m \u001b[0mplt\u001b[0m\u001b[1;33m.\u001b[0m\u001b[0mplot\u001b[0m\u001b[1;33m(\u001b[0m\u001b[0mhepE\u001b[0m\u001b[1;33m,\u001b[0m\u001b[0mhepS\u001b[0m\u001b[1;33m,\u001b[0m\u001b[1;34m'.'\u001b[0m\u001b[1;33m,\u001b[0m\u001b[0mcolor\u001b[0m \u001b[1;33m=\u001b[0m \u001b[1;34m'C2'\u001b[0m\u001b[1;33m,\u001b[0m\u001b[0mlabel\u001b[0m \u001b[1;33m=\u001b[0m \u001b[1;34m'hep data'\u001b[0m\u001b[1;33m)\u001b[0m\u001b[1;33m\u001b[0m\u001b[1;33m\u001b[0m\u001b[0m\n\u001b[0;32m     15\u001b[0m \u001b[0mplt\u001b[0m\u001b[1;33m.\u001b[0m\u001b[0mtitle\u001b[0m\u001b[1;33m(\u001b[0m\u001b[1;34m'{0} Interpolation points'\u001b[0m\u001b[1;33m.\u001b[0m\u001b[0mformat\u001b[0m\u001b[1;33m(\u001b[0m\u001b[0minterpNum\u001b[0m\u001b[1;33m)\u001b[0m\u001b[1;33m)\u001b[0m\u001b[1;33m\u001b[0m\u001b[1;33m\u001b[0m\u001b[0m\n",
      "\u001b[1;32m~\\anaconda3\\lib\\site-packages\\scipy\\interpolate\\polyint.py\u001b[0m in \u001b[0;36m__call__\u001b[1;34m(self, x)\u001b[0m\n\u001b[0;32m     72\u001b[0m         \"\"\"\n\u001b[0;32m     73\u001b[0m         \u001b[0mx\u001b[0m\u001b[1;33m,\u001b[0m \u001b[0mx_shape\u001b[0m \u001b[1;33m=\u001b[0m \u001b[0mself\u001b[0m\u001b[1;33m.\u001b[0m\u001b[0m_prepare_x\u001b[0m\u001b[1;33m(\u001b[0m\u001b[0mx\u001b[0m\u001b[1;33m)\u001b[0m\u001b[1;33m\u001b[0m\u001b[1;33m\u001b[0m\u001b[0m\n\u001b[1;32m---> 74\u001b[1;33m         \u001b[0my\u001b[0m \u001b[1;33m=\u001b[0m \u001b[0mself\u001b[0m\u001b[1;33m.\u001b[0m\u001b[0m_evaluate\u001b[0m\u001b[1;33m(\u001b[0m\u001b[0mx\u001b[0m\u001b[1;33m)\u001b[0m\u001b[1;33m\u001b[0m\u001b[1;33m\u001b[0m\u001b[0m\n\u001b[0m\u001b[0;32m     75\u001b[0m         \u001b[1;32mreturn\u001b[0m \u001b[0mself\u001b[0m\u001b[1;33m.\u001b[0m\u001b[0m_finish_y\u001b[0m\u001b[1;33m(\u001b[0m\u001b[0my\u001b[0m\u001b[1;33m,\u001b[0m \u001b[0mx_shape\u001b[0m\u001b[1;33m)\u001b[0m\u001b[1;33m\u001b[0m\u001b[1;33m\u001b[0m\u001b[0m\n\u001b[0;32m     76\u001b[0m \u001b[1;33m\u001b[0m\u001b[0m\n",
      "\u001b[1;32m~\\anaconda3\\lib\\site-packages\\scipy\\interpolate\\interpolate.py\u001b[0m in \u001b[0;36m_evaluate\u001b[1;34m(self, x_new)\u001b[0m\n\u001b[0;32m    657\u001b[0m         \u001b[0my_new\u001b[0m \u001b[1;33m=\u001b[0m \u001b[0mself\u001b[0m\u001b[1;33m.\u001b[0m\u001b[0m_call\u001b[0m\u001b[1;33m(\u001b[0m\u001b[0mself\u001b[0m\u001b[1;33m,\u001b[0m \u001b[0mx_new\u001b[0m\u001b[1;33m)\u001b[0m\u001b[1;33m\u001b[0m\u001b[1;33m\u001b[0m\u001b[0m\n\u001b[0;32m    658\u001b[0m         \u001b[1;32mif\u001b[0m \u001b[1;32mnot\u001b[0m \u001b[0mself\u001b[0m\u001b[1;33m.\u001b[0m\u001b[0m_extrapolate\u001b[0m\u001b[1;33m:\u001b[0m\u001b[1;33m\u001b[0m\u001b[1;33m\u001b[0m\u001b[0m\n\u001b[1;32m--> 659\u001b[1;33m             \u001b[0mbelow_bounds\u001b[0m\u001b[1;33m,\u001b[0m \u001b[0mabove_bounds\u001b[0m \u001b[1;33m=\u001b[0m \u001b[0mself\u001b[0m\u001b[1;33m.\u001b[0m\u001b[0m_check_bounds\u001b[0m\u001b[1;33m(\u001b[0m\u001b[0mx_new\u001b[0m\u001b[1;33m)\u001b[0m\u001b[1;33m\u001b[0m\u001b[1;33m\u001b[0m\u001b[0m\n\u001b[0m\u001b[0;32m    660\u001b[0m             \u001b[1;32mif\u001b[0m \u001b[0mlen\u001b[0m\u001b[1;33m(\u001b[0m\u001b[0my_new\u001b[0m\u001b[1;33m)\u001b[0m \u001b[1;33m>\u001b[0m \u001b[1;36m0\u001b[0m\u001b[1;33m:\u001b[0m\u001b[1;33m\u001b[0m\u001b[1;33m\u001b[0m\u001b[0m\n\u001b[0;32m    661\u001b[0m                 \u001b[1;31m# Note fill_value must be broadcast up to the proper size\u001b[0m\u001b[1;33m\u001b[0m\u001b[1;33m\u001b[0m\u001b[1;33m\u001b[0m\u001b[0m\n",
      "\u001b[1;32m~\\anaconda3\\lib\\site-packages\\scipy\\interpolate\\interpolate.py\u001b[0m in \u001b[0;36m_check_bounds\u001b[1;34m(self, x_new)\u001b[0m\n\u001b[0;32m    686\u001b[0m         \u001b[1;31m# !! Could provide more information about which values are out of bounds\u001b[0m\u001b[1;33m\u001b[0m\u001b[1;33m\u001b[0m\u001b[1;33m\u001b[0m\u001b[0m\n\u001b[0;32m    687\u001b[0m         \u001b[1;32mif\u001b[0m \u001b[0mself\u001b[0m\u001b[1;33m.\u001b[0m\u001b[0mbounds_error\u001b[0m \u001b[1;32mand\u001b[0m \u001b[0mbelow_bounds\u001b[0m\u001b[1;33m.\u001b[0m\u001b[0many\u001b[0m\u001b[1;33m(\u001b[0m\u001b[1;33m)\u001b[0m\u001b[1;33m:\u001b[0m\u001b[1;33m\u001b[0m\u001b[1;33m\u001b[0m\u001b[0m\n\u001b[1;32m--> 688\u001b[1;33m             raise ValueError(\"A value in x_new is below the interpolation \"\n\u001b[0m\u001b[0;32m    689\u001b[0m                              \"range.\")\n\u001b[0;32m    690\u001b[0m         \u001b[1;32mif\u001b[0m \u001b[0mself\u001b[0m\u001b[1;33m.\u001b[0m\u001b[0mbounds_error\u001b[0m \u001b[1;32mand\u001b[0m \u001b[0mabove_bounds\u001b[0m\u001b[1;33m.\u001b[0m\u001b[0many\u001b[0m\u001b[1;33m(\u001b[0m\u001b[1;33m)\u001b[0m\u001b[1;33m:\u001b[0m\u001b[1;33m\u001b[0m\u001b[1;33m\u001b[0m\u001b[0m\n",
      "\u001b[1;31mValueError\u001b[0m: A value in x_new is below the interpolation range."
     ]
    },
    {
     "data": {
      "image/png": "[encoded data removed]",
      "text/plain": [
       "<Figure size 576x576 with 1 Axes>"
      ]
     },
     "metadata": {
      "needs_background": "light"
     },
     "output_type": "display_data"
    }
   ],
   "source": [
    "ppFunc  = interpolate.interp1d(ppE,ppS)\n",
    "b8Func  = interpolate.interp1d(b8E,b8S)\n",
    "hepFunc = interpolate.interp1d(hepE,hepS)\n",
    "\n",
    "interpNum = 7000\n",
    "eRange = np.linspace(min(ppE),max(ppE),interpNum)\n",
    "\n",
    "figInterp = plt.figure(figsize = (8,8))\n",
    "plt.plot(eRange,ppFunc(eRange),color = 'C0',label = 'pp interp')\n",
    "plt.plot(ppE,ppS,'.',color = 'C0', label = 'pp data')\n",
    "plt.plot(eRange,b8Func(eRange),color = 'C1', label = 'B8 interp')\n",
    "plt.plot(b8E,b8S,'.',color = 'C1',label = 'B8 data')\n",
    "plt.plot(eRange,hepFunc(eRange),color = 'C2',label = 'hep interp')\n",
    "plt.plot(hepE,hepS,'.',color = 'C2',label = 'hep data')\n",
    "plt.title('{0} Interpolation points'.format(interpNum))\n",
    "plt.legend(loc = 'upper left')\n",
    "plt.xscale('log')\n",
    "plt.yscale('log')\n",
    "plt.grid()"
   ]
  },
  {
   "cell_type": "markdown",
   "metadata": {
    "heading_collapsed": true
   },
   "source": [
    "## Matching the energy spacing for each spectrum (Not Used)"
   ]
  },
  {
   "cell_type": "code",
   "execution_count": 48,
   "metadata": {
    "ExecuteTime": {
     "end_time": "2022-05-20T22:39:30.082278Z",
     "start_time": "2022-05-20T22:39:30.062318Z"
    },
    "hidden": true
   },
   "outputs": [
    {
     "name": "stdout",
     "output_type": "stream",
     "text": [
      "84 1000 828\n"
     ]
    }
   ],
   "source": [
    "ppSpacing  = ppSpectra.step_MeV[0]\n",
    "hepSpacing = hepSpectra.step_MeV[0]\n",
    "b8Spacing  = b8Spectra.step_MeV[0]\n",
    "\n",
    "ppRange  = np.arange(min(ppE),max(ppE),ppSpacing)\n",
    "hepRange = np.arange(min(hepE),max(hepE),hepSpacing)\n",
    "b8Range  = np.arange(min(b8E),max(b8E),b8Spacing)\n",
    "\n",
    "print (len(ppRange),len(hepRange),len(b8Range))"
   ]
  },
  {
   "cell_type": "markdown",
   "metadata": {},
   "source": [
    "# Getting $\\phi(E)$ and $\\frac{d\\phi}{dE}$"
   ]
  },
  {
   "cell_type": "markdown",
   "metadata": {},
   "source": [
    "## Constructing $\\phi \\equiv \\phi(E)$"
   ]
  },
  {
   "cell_type": "markdown",
   "metadata": {},
   "source": [
    "We make a single trajectory with nominal values"
   ]
  },
  {
   "cell_type": "code",
   "execution_count": 5,
   "metadata": {
    "ExecuteTime": {
     "end_time": "2022-07-13T18:53:38.333600Z",
     "start_time": "2022-07-13T18:53:38.291679Z"
    }
   },
   "outputs": [
    {
     "name": "stdout",
     "output_type": "stream",
     "text": [
      "   ConNo         r     theta       phi   vr  vTheta  vPhi   L  cosBeta\n",
      "0    0.0  0.002325  1.570796  1.812685  1.0     0.0   0.0 NaN      NaN\n",
      "Complete\n"
     ]
    }
   ],
   "source": [
    "IICDF = makeInitialConditions(1)\n",
    "radialVelocity = True\n",
    "\n",
    "columns = np.asarray(IICDF.columns)\n",
    "IICDF2 = pd.DataFrame(columns=columns)\n",
    "v1 = [1,0,0]\n",
    "\n",
    "# margin = 1e-7\n",
    "margin = 1/2\n",
    "# deltaTheta = (margin*(np.pi/2))\n",
    "deltaTheta = 0\n",
    "deltaPhi = margin*2*np.pi/2\n",
    "# deltaPhi = 0\n",
    " \n",
    "\n",
    "for row in IICDF.ConNo:\n",
    "#     phi = float(minLossCondition.phi)\n",
    "    phi = np.pi/2\n",
    "#     theta = float(minLossCondition.theta)\n",
    "    theta = np.pi/2\n",
    "    \n",
    "    randTheta = np.random.uniform( (theta-deltaTheta), (theta+deltaTheta) )\n",
    "    randPhi   = np.random.uniform( (phi-deltaPhi), (phi+deltaPhi) )\n",
    "    p1 = [rHalf,randTheta,randPhi]\n",
    "\n",
    "    if radialVelocity:\n",
    "        r      = p1[0]\n",
    "        theta  = p1[1]\n",
    "        phi    = p1[2]\n",
    "        vr     = v1[0]\n",
    "        vtheta = v1[1]\n",
    "        vphi   = v1[2]\n",
    "        \n",
    "    else: \n",
    "        r      = p1[0]\n",
    "        theta  = p1[1]\n",
    "        phi    = p1[2]\n",
    "        vtheta = 0\n",
    "        vphi   = np.random.uniform(-1,1)\n",
    "        vr     = np.sqrt(1-vphi**2)\n",
    "\n",
    "\n",
    "    appendThis = ({'ConNo':row,'r':r,'theta':theta,'phi':phi,'vr':vr,'vTheta':vtheta,'vPhi':vphi})\n",
    "#     appendThis = ({'r':r,'theta':theta,'phi':phi,'vr':vr,'vTheta':vtheta,'vPhi':vphi})\n",
    "\n",
    "    IICDF2 = IICDF2.append(appendThis,ignore_index=True)\n",
    "    \n",
    "# dataDFSph2 = computeLossAndBeta(dataDFSph2,q,m,dt)\n",
    "print (IICDF2.head(5))\n",
    "print ('Complete')"
   ]
  },
  {
   "cell_type": "markdown",
   "metadata": {},
   "source": [
    "We intentionally scan over energies that extend  beyond the limits of any spectra. This is to ensure that dphi/dE is defined over the entire domain of each spectrum.\n",
    "\n",
    "Further, we want to choose $E$ such that $\\phi(E) \\rightarrow [0,\\pi/2]$ \n",
    "\n",
    "Arbitrarily for the construction of $\\phi(E)$, we choose\n",
    "\n",
    "    eMin = 0.0001 MeV\n",
    "    eMax = 50    MeV\n",
    "\n",
    "To guarentee that all energies intersect Earth, we use the geometric argument that $\\varepsilon \\leq 2$, which corresponds to $|B| \\sim 1.5 \\times 10^{-17}$ Tesla.\n",
    "\n",
    "\n",
    "Make an interpolation using `numE` data points.\n",
    "\n",
    "**B Field Strengths**\n",
    "\n",
    "For the given energy range above, we list the corresponding maximal magnetic field strengths that result in the lowest energy neutrinos hitting Earth.\n",
    "$$\\vec{B} \\equiv \\vec{B}_{Sun} \\equiv B_z = 1.5\\times 10^{-17} \\\\\n",
    "  \\vec{B} \\equiv \\vec{B}_{Sun} \\equiv B_z = \\frac{3.5\\times 10^{-20}}{r} \\\\\n",
    "  \\vec{B} \\equiv \\vec{B}_{Earth} \\equiv B_z = 1.5\\times 10^{-17} \\\\\n",
    "  \\vec{B} \\equiv \\vec{B}_{Earth} \\equiv B_z = \\frac{3.5\\times 10^{-20}}{r-1Au} \\\\\n",
    "  \\vec{B} \\equiv \\vec{B}_{Sun}+\\vec{B}_{Earth} \\equiv 3.5\\times 10^{-20} \\left( \\frac{1}{r} + \\frac{1}{r-1Au}\\right)$$"
   ]
  },
  {
   "cell_type": "code",
   "execution_count": 6,
   "metadata": {
    "ExecuteTime": {
     "end_time": "2022-07-13T18:58:50.324978Z",
     "start_time": "2022-07-13T18:58:50.289416Z"
    }
   },
   "outputs": [],
   "source": [
    "def bField(x,y,z,mA,epsilon):\n",
    "    '''\n",
    "    Returns cartesian components of the B-L field in MeV^2 at location x,y,z.\n",
    "    \n",
    "    x,y,z must be in cartesian coordinates measured in Au\n",
    "    mA must be in MeV\n",
    "    epsilon is defined to be epsilon = B-L / B_EM, the ratio of the field strengths\n",
    "    '''\n",
    "#     print ('x,y,z',x,y,z)\n",
    "    \n",
    "    assert x**2 + y**2 > 0, 'Bfield function, both x & y zero simultaneously'\n",
    "\n",
    "    ep2 = epsilon**2\n",
    "\n",
    "    if mA == 0:\n",
    "        yu = 1\n",
    "        \n",
    "    if mA !=0:\n",
    "        rNat =  km2geVInv(au2km(rFunction(x,y,z)))/1000\n",
    "#         print (r)\n",
    "#         alpha = 1/km2geVInv(au2km(1))\n",
    "        yu = np.exp(-mA*rNat)\n",
    "#         print ('yukawa:',yu)\n",
    "\n",
    "    # 3.3 in nT\n",
    "    BrSun     = 0\n",
    "#     BthetaSun = 1.5e-17/np.sqrt(2) * 1/rFunction(x,y,z)\n",
    "    BthetaSun = 0\n",
    "#     BphiSun   = 3.3e-9/np.sqrt(2) * 1/rFunction(x,y,z)\n",
    "    BphiSun = 0\n",
    "\n",
    "    # Spherical unit vector decompositions\n",
    "    # Schematically, we decompose rhat = Axhat + Byhat + Czhat and read off the ABC from wiki\n",
    "    # The arguments of the ABCs are the cartesian location where we are evaluating the B field\n",
    "    def A(x,y,z):\n",
    "        return x/np.sqrt(x**2 +y**2 +z**2)\n",
    "\n",
    "    def B(x,y,z):\n",
    "        return y/np.sqrt(x**2 +y**2 +z**2)\n",
    "\n",
    "    def C(x,y,z):\n",
    "        return z/np.sqrt(x**2 +y**2 +z**2)\n",
    "\n",
    "    def D(x,y,z):\n",
    "        return x*z / (np.sqrt(x**2 +y**2 +z**2) * np.sqrt(x**2+y**2))\n",
    "\n",
    "    def E(x,y,z):\n",
    "        return y*z / (np.sqrt(x**2 +y**2 +z**2) * np.sqrt(x**2+y**2))\n",
    "        \n",
    "    def F(x,y,z): \n",
    "        return -(x**2 + y**2) / (np.sqrt(x**2 +y**2 +z**2) * np.sqrt(x**2+y**2)) \n",
    "\n",
    "    def G(x,y,z):\n",
    "        return -y / np.sqrt(x**2 + y**2)\n",
    "\n",
    "    def H(x,y,z):\n",
    "        return x / np.sqrt(x**2 + y**2)\n",
    "\n",
    "    def I(x,y,z):\n",
    "        return 0\n",
    "\n",
    "    BxSun = BrSun * A(x,y,z) + BthetaSun * D(x,y,z) + BphiSun * G(x,y,z)\n",
    "    BySun = BrSun * B(x,y,z) + BthetaSun * E(x,y,z) + BphiSun * H(x,y,z)\n",
    "    BzSun = BrSun * C(x,y,z) + BthetaSun * F(x,y,z) + BphiSun * I(x,y,z)\n",
    "\n",
    "    # Earth Magnetic field is 25-65 nanoTesla at the Surface\n",
    "    mu0 = 4e-7*np.pi\n",
    "    rOrbit = 1\n",
    "    \n",
    "    BxEarth = 0\n",
    "    ByEarth = 0\n",
    "#     BzEarth = 45e-6/(rFunction(x,y,z)-rOrbit)\n",
    "#     BzEarth = 1.5e-17\n",
    "#     BzEarth = (3.5e-20)/(rOrbit - rFunction(x,y,z))\n",
    "    BzEarth = 0\n",
    "    \n",
    "    BxSun = 0\n",
    "    BySun = 0\n",
    "#     BzSun = 0\n",
    "    BzSun = 1.5e-17 # We choose 1.5e-17 Tesla for the energy range for phi(E)\n",
    "#     BzSun = (3.5e-20)/rFunction(x,y,z)\n",
    "    \n",
    "    BxTotal, ByTotal, BzTotal = ep2*yu*(BxSun+BxEarth),ep2*yu*(BySun+ByEarth), ep2*yu*(BzSun+BzEarth)\n",
    "    return (tesla2MeV2(BxTotal), tesla2MeV2(ByTotal), tesla2MeV2(BzTotal))\n"
   ]
  },
  {
   "cell_type": "code",
   "execution_count": 67,
   "metadata": {
    "ExecuteTime": {
     "end_time": "2022-07-13T21:25:50.345505Z",
     "start_time": "2022-07-13T21:24:44.301428Z"
    },
    "scrolled": true
   },
   "outputs": [
    {
     "name": "stdout",
     "output_type": "stream",
     "text": [
      "Velocity normalization outside precision 1e-05\n",
      "Velocity normalization outside precision 1e-05\n",
      "Velocity normalization outside precision 1e-05\n",
      "Velocity normalization outside precision 1e-05\n",
      "Velocity normalization outside precision 1e-05\n",
      "Velocity normalization outside precision 1e-05\n",
      "137/250 hits\n",
      "Complete\n"
     ]
    }
   ],
   "source": [
    "masterDFColumns = ['ConNo','E','Beta1','Beta2']\n",
    "masterDF = pd.DataFrame(columns = masterDFColumns)\n",
    "\n",
    "\n",
    "numE = 250\n",
    "# eMin is chosen to be below the smallest energy in any spectrum\n",
    "# eMax is chosen to be above the largest energy in any spectrum\n",
    "interpEMIN = 0.0001\n",
    "interpEMAX = 50\n",
    "\n",
    "eRange = np.logspace(np.log10(interpEMIN),np.log10(interpEMAX),numE)\n",
    "\n",
    "\n",
    "q = 0.3\n",
    "c = 1\n",
    "dt = 0.01\n",
    "# dt = 0.001\n",
    "\n",
    "mA = 1/(km2geVInv(au2km(rHalf))/1000)\n",
    "ep = 10**1.5\n",
    "# mA = 1e-6\n",
    "# print (mA)\n",
    "# mA = 1e-26\n",
    "\n",
    "for row in range(0,len(IICDF2)):\n",
    "    ConNo = IICDF2.ConNo[row]\n",
    "    for E in eRange:\n",
    "        ICSph = IICDF2.loc[row]['r':'vPhi']\n",
    "        BetaOutput = (computeBeta(ICSph,q,E,dt,mA,ep,True))\n",
    "        hit = 'Y'\n",
    "        \n",
    "        if BetaOutput == 'F':\n",
    "#             print ('Skip calculation for {0} MeV'.format(E))\n",
    "            hit = 'N'\n",
    "            continue\n",
    "            \n",
    "        beta1 = BetaOutput[0]\n",
    "        beta2 = BetaOutput[1]\n",
    "         \n",
    "        appendThis = ({'ConNo':ConNo,'E':E,'Beta1':beta1,'Beta2':beta2,'Hit':hit})\n",
    "        masterDF = masterDF.append(appendThis,ignore_index=True)\n",
    "        \n",
    "print ('{0}/{1} hits'.format(len(masterDF.E), numE))\n",
    "print ('Complete')"
   ]
  },
  {
   "cell_type": "code",
   "execution_count": 54,
   "metadata": {
    "ExecuteTime": {
     "end_time": "2022-07-13T20:50:28.504390Z",
     "start_time": "2022-07-13T20:50:28.464859Z"
    }
   },
   "outputs": [
    {
     "name": "stdout",
     "output_type": "stream",
     "text": [
      "0 :\n",
      "distance: [0.00232524 0.00232524 0.00232524] au\n",
      "yuKawa  : [0.36787944 0.36787944 0.36787944]\n",
      "-------------\n",
      "1 :\n",
      "distance: [0.00332524 0.01232524 0.10232524] au\n",
      "yuKawa  : [2.39293593e-01 4.98839741e-03 7.73144714e-20]\n",
      "-------------\n",
      "2 :\n",
      "distance: [0.00432524 0.02232523 0.20232524] au\n",
      "yuKawa  : [1.55652687e-01 6.76420206e-05 1.62486043e-38]\n",
      "-------------\n",
      "3 :\n",
      "distance: [0.00532524 0.03232524 0.30232524] au\n",
      "yuKawa  : [1.01247003e-01 9.17217009e-07 3.41484768e-57]\n",
      "-------------\n"
     ]
    }
   ],
   "source": [
    "dtPrime = [0.001,0.01,0.1]\n",
    "i=0\n",
    "mA = 1/(km2geVInv(au2km(rHalf))/1000)\n",
    "for i in range(0,4):\n",
    "    newDist = np.add(rHalf, np.multiply(i,dtPrime))\n",
    "    print ('{0} :'.format(i))\n",
    "    print ('distance:',newDist,'au')\n",
    "    print ('yuKawa  :',np.exp(np.multiply(-mA,(km2geVInv(au2km(newDist))/1000))))\n",
    "    print ('-------------')\n",
    "    \n",
    "    i+=1\n",
    "    "
   ]
  },
  {
   "cell_type": "code",
   "execution_count": 68,
   "metadata": {
    "ExecuteTime": {
     "end_time": "2022-07-13T21:27:10.510502Z",
     "start_time": "2022-07-13T21:27:08.007085Z"
    },
    "scrolled": false
   },
   "outputs": [
    {
     "name": "stdout",
     "output_type": "stream",
     "text": [
      "137/250 hits\n"
     ]
    },
    {
     "data": {
      "image/png": "[encoded data removed]",
      "text/plain": [
       "<Figure size 576x576 with 1 Axes>"
      ]
     },
     "metadata": {
      "needs_background": "light"
     },
     "output_type": "display_data"
    },
    {
     "name": "stdout",
     "output_type": "stream",
     "text": [
      "phiMax:  2.5333819077398096e-05 ,  1.5707963267948966\n",
      "phiMin:  0.0\n"
     ]
    }
   ],
   "source": [
    "print ('{0}/{1} hits'.format(len(masterDF.E), numE))\n",
    "figy = plt.figure(figsize = (8,8))\n",
    "plt.plot(masterDF.E,np.multiply(masterDF.Beta2,1),'.',label = 'phi(E)')\n",
    "plt.suptitle(r'$\\phi(E)$',size = 20)\n",
    "# plt.title(r'$B_z = 3.5\\times 10^{-20} \\left(\\frac{1}{r}+ \\frac{1}{1-r} \\right)$ Tesla',size = 16,loc = 'right')\n",
    "plt.xlabel('Energy [MeV]', size = 16)\n",
    "plt.ylabel('Phi [Rad]', size = 16)\n",
    "# plt.axhline(y=np.pi*20/180,color = 'orange', label = '20 Degree deflection')\n",
    "plt.xscale('log')\n",
    "plt.yscale('log')\n",
    "plt.legend(loc = 'upper right')\n",
    "plt.grid()\n",
    "plt.show()\n",
    "\n",
    "print ('phiMax: ',max(masterDF.Beta2),', ',np.pi/2)\n",
    "print ('phiMin: ',min(masterDF.Beta2))"
   ]
  },
  {
   "cell_type": "code",
   "execution_count": 72,
   "metadata": {
    "ExecuteTime": {
     "end_time": "2022-07-06T22:30:25.974165Z",
     "start_time": "2022-07-06T22:29:53.727226Z"
    }
   },
   "outputs": [
    {
     "name": "stdout",
     "output_type": "stream",
     "text": [
      "Filename: 6phiEdt1em3.png\n",
      "Complete\n"
     ]
    }
   ],
   "source": [
    "filename = input('Filename: ')\n",
    "figy.savefig('figures/phiE, SolarEarth function/'+filename,dpi = 700)\n",
    "print ('Complete')"
   ]
  },
  {
   "cell_type": "markdown",
   "metadata": {},
   "source": [
    "## Constructing $\\frac{d\\phi}{dE}$"
   ]
  },
  {
   "cell_type": "markdown",
   "metadata": {},
   "source": [
    "Construct $\\frac{d\\phi}{dE}$ using the forward derivative. The derivative interpolation is defined everywhere **except** the first and last points of the energy domain.\n",
    "\n",
    "The domain of all spectra must be contained within the domain of $\\frac{d\\phi}{dE}$."
   ]
  },
  {
   "cell_type": "code",
   "execution_count": 69,
   "metadata": {
    "ExecuteTime": {
     "end_time": "2022-07-13T21:27:19.681027Z",
     "start_time": "2022-07-13T21:27:16.397424Z"
    }
   },
   "outputs": [
    {
     "data": {
      "image/png": "[encoded data removed]",
      "text/plain": [
       "<Figure size 432x432 with 1 Axes>"
      ]
     },
     "metadata": {
      "needs_background": "light"
     },
     "output_type": "display_data"
    },
    {
     "name": "stdout",
     "output_type": "stream",
     "text": [
      "$\\frac{d\\phi}{dE}$ points:  136\n"
     ]
    }
   ],
   "source": [
    "phiEInterp = interpolate.interp1d(masterDF.E,masterDF.Beta2) # the function phi(E)\n",
    "EPhiInterp = interpolate.interp1d(masterDF.Beta2,masterDF.E) # The function E(phi)\n",
    "\n",
    "phiEDer = []\n",
    "for e in masterDF.E[:-1]:\n",
    "    phiEDer.append(derivative(phiEInterp,e,h = masterDF.E[3]-masterDF.E[2],method = 'forward'))\n",
    "\n",
    "    \n",
    "dPhidEInterp = interpolate.interp1d(masterDF.E[:-1],phiEDer,kind = 'linear')\n",
    "    \n",
    "# print (masterDF.E)\n",
    "# print (masterDF.E[:-1])\n",
    "    \n",
    "# figDeriv = plt.figure(figsize = (6,6))\n",
    "# plt.plot(masterDF.E,masterDF.Beta2,'.', color = 'C0', label = 'phi(E)')\n",
    "# plt.plot(masterDF.E,phiEInterp(masterDF.E),color = 'C1')\n",
    "# plt.suptitle('phi(E)')\n",
    "# plt.xscale('log')\n",
    "# plt.yscale('linear')\n",
    "# plt.grid()\n",
    "# plt.show()\n",
    "# print (r'$\\phi(E)$ points: ', len(masterDF.Beta2))\n",
    "\n",
    "figDeriv = plt.figure(figsize = (6,6))\n",
    "# plt.plot(masterDF.E[:-1],phiEDer,'.', label = 'dphi/dE',color = 'C0')\n",
    "plt.plot(masterDF.E[:-1],np.abs(dPhidEInterp(masterDF.E[:-1])),color = 'C1')\n",
    "plt.suptitle('dphi/dE')\n",
    "plt.xscale('log')\n",
    "plt.yscale('log')\n",
    "plt.grid()\n",
    "plt.show()\n",
    "print (r'$\\frac{d\\phi}{dE}$ points: ', len(phiEDer))\n",
    "\n"
   ]
  },
  {
   "cell_type": "markdown",
   "metadata": {},
   "source": [
    "# Domain checks"
   ]
  },
  {
   "cell_type": "markdown",
   "metadata": {},
   "source": [
    "Here we plot all spectra, phi(E) and dphidE(E) on the same plot to ensure that dphide has support overall spectra.\n",
    "\n",
    "There may be cases where B is strong enough to completely deflect neutrinos from every hitting Earth. In such cases, these neutrinos never actually hit earth, and they are ignored for the rest of the calcultion. The neutrinos that do hit Earth lie in the overlap between the spectra and dPhi/dE.\n"
   ]
  },
  {
   "cell_type": "code",
   "execution_count": 70,
   "metadata": {
    "ExecuteTime": {
     "end_time": "2022-07-13T21:27:22.763335Z",
     "start_time": "2022-07-13T21:27:20.234070Z"
    }
   },
   "outputs": [
    {
     "data": {
      "image/png": "[encoded data removed]",
      "text/plain": [
       "<Figure size 576x576 with 1 Axes>"
      ]
     },
     "metadata": {
      "needs_background": "light"
     },
     "output_type": "display_data"
    }
   ],
   "source": [
    "figB = plt.figure(figsize = (8,8))\n",
    "plt.plot(ppE,np.multiply(ppS,ppFF),label = 'pp')\n",
    "plt.plot(b8E,np.multiply(b8S,b8FF),label = '$^8B$')\n",
    "plt.plot(hepE,np.multiply(hepS,hepFF),label = 'hep')\n",
    "# plt.plot(masterDF.E,phiEInterp(masterDF.E), label = 'phi(E)')\n",
    "plt.plot(masterDF.E[:-1],np.abs(dPhidEInterp(masterDF.E[:-1])),label = 'ABS(dPhi/dE)')\n",
    "plt.legend(loc = 'upper right')\n",
    "plt.xscale('log')\n",
    "plt.yscale('log')\n",
    "plt.xlabel('Energy [MeV]')\n",
    "plt.ylabel('Meaningless')\n",
    "plt.grid()\n",
    "plt.show()"
   ]
  },
  {
   "cell_type": "code",
   "execution_count": 23,
   "metadata": {
    "ExecuteTime": {
     "end_time": "2022-07-05T19:15:01.229087Z",
     "start_time": "2022-07-05T19:14:45.418660Z"
    }
   },
   "outputs": [
    {
     "name": "stdout",
     "output_type": "stream",
     "text": [
      "Filename: ActualFieldDomainCheck.png\n",
      "Complete\n"
     ]
    }
   ],
   "source": [
    "filename = input('Filename: ')\n",
    "figB.savefig('figures/'+filename,dpi = 700)\n",
    "print ('Complete')"
   ]
  },
  {
   "cell_type": "markdown",
   "metadata": {},
   "source": [
    "# Convolving $\\frac{dN}{dE} \\times \\frac{dE}{d\\phi}$"
   ]
  },
  {
   "cell_type": "markdown",
   "metadata": {},
   "source": [
    "The crux of the problem lies in adjusting the bin sizing dynamically between the neutrino spectrum $\\frac{dN}{dE}$, binned in constant $E$, and the phi distribution $\\frac{d\\phi}{dE}$, also binned in constant $E$.\n",
    "\n",
    "We ultimately want the number of neutrinos for a given range of deflection angles, binned in constant $\\phi$. We can calculate this for each bin as follows:\n",
    "\n",
    "$$\\Delta N_\\phi = \\frac{\\Delta N_E}{\\Delta E} \\ \\frac{dE}{d\\phi}|_{Bin} \\ \\Delta \\phi$$ with $\\Delta \\phi$ a constant spacing between bins in $\\phi$.\n",
    "\n",
    "\n",
    "- $\\Delta N_\\phi$: the number of neutrinos in a bin of constant $\\phi$\n",
    "- $\\Delta N_E$: the number of neutrinos in a bin of constant $E$\n",
    "- $\\Delta E$: the difference between $E_i$ and $E_{i+1}$\n",
    "- $\\frac{dE}{d\\phi}|_{Bin}$: the absolute value of the derivative of $\\phi(E)$ evaluated at \"bin $E_i$\"\n",
    "- $\\Delta \\phi$: the difference between $\\phi(E_i)$ and $\\phi(E_{i+1})$\n"
   ]
  },
  {
   "cell_type": "markdown",
   "metadata": {
    "heading_collapsed": true
   },
   "source": [
    "#### Hide this\n"
   ]
  },
  {
   "cell_type": "code",
   "execution_count": 8,
   "metadata": {
    "ExecuteTime": {
     "end_time": "2022-05-30T16:47:03.611976Z",
     "start_time": "2022-05-30T16:47:02.674715Z"
    },
    "hidden": true,
    "scrolled": true
   },
   "outputs": [
    {
     "name": "stdout",
     "output_type": "stream",
     "text": [
      "loop {0}:  0\n",
      "deltaE:  0.00504\n",
      "ei:  0.00504\n",
      "probi:  0.0035\n",
      "deltaPhi:  0.07853981633974483\n",
      "ABSphiEDer:  -29.933724251267826\n",
      "newProb:  0.0018220766205699485\n",
      "---------------\n",
      "loop {0}:  1\n",
      "deltaE:  0.00504\n",
      "ei:  0.01008\n",
      "probi:  0.0138\n",
      "deltaPhi:  0.07853981633974483\n",
      "ABSphiEDer:  -7.408628100320194\n",
      "newProb:  0.029026898665818524\n",
      "---------------\n",
      "loop {0}:  2\n",
      "deltaE:  0.00504\n",
      "ei:  0.015119999999999998\n",
      "probi:  0.0307\n",
      "deltaPhi:  0.07853981633974483\n",
      "ABSphiEDer:  -3.2901612127982545\n",
      "newProb:  0.14540540224844442\n",
      "---------------\n",
      "loop {0}:  3\n",
      "deltaE:  0.00504\n",
      "ei:  0.02016\n",
      "probi:  0.0538\n",
      "deltaPhi:  0.07853981633974483\n",
      "ABSphiEDer:  -1.8521137748178813\n",
      "newProb:  0.4526619175517058\n",
      "---------------\n",
      "loop {0}:  4\n",
      "deltaE:  0.00504\n",
      "ei:  0.0252\n",
      "probi:  0.083\n",
      "deltaPhi:  0.07853981633974483\n",
      "ABSphiEDer:  -1.1846312467139661\n",
      "newProb:  1.0918280652234396\n",
      "---------------\n",
      "loop {0}:  5\n",
      "deltaE:  0.00504\n",
      "ei:  0.030239999999999996\n",
      "probi:  0.1179\n",
      "deltaPhi:  0.07853981633974483\n",
      "ABSphiEDer:  -0.8226102215968601\n",
      "newProb:  2.2334644712964513\n",
      "---------------\n",
      "loop {0}:  6\n",
      "deltaE:  0.00504\n",
      "ei:  0.03528\n",
      "probi:  0.1582\n",
      "deltaPhi:  0.07853981633974483\n",
      "ABSphiEDer:  -0.6040049404069218\n",
      "newProb:  4.081551993235549\n",
      "---------------\n",
      "loop {0}:  7\n",
      "deltaE:  0.00504\n",
      "ei:  0.04032\n",
      "probi:  0.2038\n",
      "deltaPhi:  0.07853981633974483\n",
      "ABSphiEDer:  -0.4630153897882978\n",
      "newProb:  6.859115219055801\n",
      "---------------\n",
      "loop {0}:  8\n",
      "deltaE:  0.00504\n",
      "ei:  0.04537\n",
      "probi:  0.2543\n",
      "deltaPhi:  0.07853981633974483\n",
      "ABSphiEDer:  -0.36538335698824326\n",
      "newProb:  10.845683920869462\n",
      "---------------\n",
      "loop {0}:  9\n",
      "deltaE:  0.00504\n",
      "ei:  0.05041\n",
      "probi:  0.3094\n",
      "deltaPhi:  0.07853981633974483\n",
      "ABSphiEDer:  -0.29600901387792194\n",
      "newProb:  16.288260939995478\n",
      "---------------\n",
      "loop {0}:  10\n",
      "deltaE:  0.00504\n",
      "ei:  0.05545\n",
      "probi:  0.3691\n",
      "deltaPhi:  0.07853981633974483\n",
      "ABSphiEDer:  -0.24481896804281073\n",
      "newProb:  23.494073719521136\n",
      "---------------\n",
      "loop {0}:  11\n",
      "deltaE:  0.00504\n",
      "ei:  0.060489999999999995\n",
      "probi:  0.4329\n",
      "deltaPhi:  0.07853981633974483\n",
      "ABSphiEDer:  -0.2056040494881783\n",
      "newProb:  32.810682677161076\n",
      "---------------\n",
      "loop {0}:  12\n",
      "deltaE:  0.00504\n",
      "ei:  0.06552999999999999\n",
      "probi:  0.5006\n",
      "deltaPhi:  0.07853981633974483\n",
      "ABSphiEDer:  -0.17522899653269988\n",
      "newProb:  44.51887860399393\n",
      "---------------\n",
      "loop {0}:  13\n",
      "deltaE:  0.00504\n",
      "ei:  0.07057000000000001\n",
      "probi:  0.5721\n",
      "deltaPhi:  0.07853981633974483\n",
      "ABSphiEDer:  -0.15097730127103226\n",
      "newProb:  59.049963652285456\n",
      "---------------\n",
      "loop {0}:  14\n",
      "deltaE:  0.00504\n",
      "ei:  0.07561\n",
      "probi:  0.6469\n",
      "deltaPhi:  0.07853981633974483\n",
      "ABSphiEDer:  -0.13167108138468658\n",
      "newProb:  76.56073493088924\n",
      "---------------\n",
      "loop {0}:  15\n",
      "deltaE:  0.00504\n",
      "ei:  0.08065\n",
      "probi:  0.725\n",
      "deltaPhi:  0.07853981633974483\n",
      "ABSphiEDer:  -0.115720730360178\n",
      "newProb:  97.63065106934866\n",
      "---------------\n",
      "loop {0}:  16\n",
      "deltaE:  0.00504\n",
      "ei:  0.08569\n",
      "probi:  0.8061\n",
      "deltaPhi:  0.07853981633974483\n",
      "ABSphiEDer:  -0.10246057788332098\n",
      "newProb:  122.60028085725037\n",
      "---------------\n",
      "loop {0}:  17\n",
      "deltaE:  0.00504\n",
      "ei:  0.09072999999999999\n",
      "probi:  0.8899\n",
      "deltaPhi:  0.07853981633974483\n",
      "ABSphiEDer:  -0.09135801904514379\n",
      "newProb:  151.79374563776355\n",
      "---------------\n",
      "loop {0}:  18\n",
      "deltaE:  0.00504\n",
      "ei:  0.09577000000000001\n",
      "probi:  0.9761\n",
      "deltaPhi:  0.07853981633974483\n",
      "ABSphiEDer:  -0.08198775724325288\n",
      "newProb:  185.5259444643511\n",
      "---------------\n",
      "loop {0}:  19\n",
      "deltaE:  0.00504\n",
      "ei:  0.10081\n",
      "probi:  1.0647\n",
      "deltaPhi:  0.07853981633974483\n",
      "ABSphiEDer:  -0.07401085066175968\n",
      "newProb:  224.17707746120658\n",
      "---------------\n",
      "loop {0}:  20\n",
      "deltaE:  0.00504\n",
      "ei:  0.10585\n",
      "probi:  1.1553\n",
      "deltaPhi:  0.07853981633974483\n",
      "ABSphiEDer:  -0.06715769553611071\n",
      "newProb:  268.07624586491266\n",
      "---------------\n",
      "loop {0}:  21\n",
      "deltaE:  0.00504\n",
      "ei:  0.11089\n",
      "probi:  1.2477\n",
      "deltaPhi:  0.07853981633974483\n",
      "ABSphiEDer:  -0.06121423131387696\n",
      "newProb:  317.6267857299221\n",
      "---------------\n",
      "loop {0}:  22\n",
      "deltaE:  0.00504\n",
      "ei:  0.11592999999999999\n",
      "probi:  1.3417\n",
      "deltaPhi:  0.07853981633974483\n",
      "ABSphiEDer:  -0.05601077947475575\n",
      "newProb:  373.2872428690597\n",
      "---------------\n",
      "loop {0}:  23\n",
      "deltaE:  0.00504\n",
      "ei:  0.12097000000000001\n",
      "probi:  1.4369999999999998\n",
      "deltaPhi:  0.07853981633974483\n",
      "ABSphiEDer:  -0.05141303164434048\n",
      "newProb:  435.5548956901083\n",
      "---------------\n",
      "loop {0}:  24\n",
      "deltaE:  0.00504\n",
      "ei:  0.12600999999999998\n",
      "probi:  1.5335\n",
      "deltaPhi:  0.07853981633974483\n",
      "ABSphiEDer:  -0.04731478917893235\n",
      "newProb:  505.06376969675466\n",
      "---------------\n",
      "loop {0}:  25\n",
      "deltaE:  0.00504\n",
      "ei:  0.13105999999999998\n",
      "probi:  1.631\n",
      "deltaPhi:  0.07853981633974483\n",
      "ABSphiEDer:  -0.04380419678737532\n",
      "newProb:  580.226532985821\n",
      "---------------\n",
      "loop {0}:  26\n",
      "deltaE:  0.00504\n",
      "ei:  0.1361\n",
      "probi:  1.7291\n",
      "deltaPhi:  0.07853981633974483\n",
      "ABSphiEDer:  -0.0406398449632545\n",
      "newProb:  663.0211970964649\n",
      "---------------\n",
      "loop {0}:  27\n",
      "deltaE:  0.00504\n",
      "ei:  0.14114000000000002\n",
      "probi:  1.8278\n",
      "deltaPhi:  0.07853981633974483\n",
      "ABSphiEDer:  -0.03774822137097773\n",
      "newProb:  754.5560830733782\n",
      "---------------\n",
      "loop {0}:  28\n",
      "deltaE:  0.00504\n",
      "ei:  0.14618\n",
      "probi:  1.9267\n",
      "deltaPhi:  0.07853981633974483\n",
      "ABSphiEDer:  -0.035202774789161395\n",
      "newProb:  852.8969180183637\n",
      "---------------\n",
      "loop {0}:  29\n",
      "deltaE:  0.00504\n",
      "ei:  0.15122\n",
      "probi:  2.0258\n",
      "deltaPhi:  0.07853981633974483\n",
      "ABSphiEDer:  -0.032918518385155915\n",
      "newProb:  958.9934296582074\n",
      "---------------\n",
      "loop {0}:  30\n",
      "deltaE:  0.00504\n",
      "ei:  0.15625999999999998\n",
      "probi:  2.1247\n",
      "deltaPhi:  0.07853981633974483\n",
      "ABSphiEDer:  -0.03077836002133543\n",
      "newProb:  1075.7503286463086\n",
      "---------------\n",
      "loop {0}:  31\n",
      "deltaE:  0.00504\n",
      "ei:  0.1613\n",
      "probi:  2.2233\n",
      "deltaPhi:  0.07853981633974483\n",
      "ABSphiEDer:  -0.028929055599257732\n",
      "newProb:  1197.6313524270624\n",
      "---------------\n",
      "loop {0}:  32\n",
      "deltaE:  0.00504\n",
      "ei:  0.16634000000000002\n",
      "probi:  2.3214\n",
      "deltaPhi:  0.07853981633974483\n",
      "ABSphiEDer:  -0.027189334915030193\n",
      "newProb:  1330.4873223273864\n",
      "---------------\n",
      "loop {0}:  33\n",
      "deltaE:  0.00504\n",
      "ei:  0.17138\n",
      "probi:  2.4187\n",
      "deltaPhi:  0.07853981633974483\n",
      "ABSphiEDer:  -0.02561306487154521\n",
      "newProb:  1471.566186384208\n",
      "---------------\n",
      "loop {0}:  34\n",
      "deltaE:  0.00504\n",
      "ei:  0.17642\n",
      "probi:  2.5151\n",
      "deltaPhi:  0.07853981633974483\n",
      "ABSphiEDer:  -0.024180671488946818\n",
      "newProb:  1620.862763592539\n",
      "---------------\n",
      "loop {0}:  35\n",
      "deltaE:  0.00504\n",
      "ei:  0.18145999999999998\n",
      "probi:  2.6105\n",
      "deltaPhi:  0.07853981633974483\n",
      "ABSphiEDer:  -0.022837124595518846\n",
      "newProb:  1781.3186755855315\n",
      "---------------\n",
      "loop {0}:  36\n",
      "deltaE:  0.00504\n",
      "ei:  0.1865\n",
      "probi:  2.7044\n",
      "deltaPhi:  0.07853981633974483\n",
      "ABSphiEDer:  -0.02163988725311074\n",
      "newProb:  1947.4901890187898\n",
      "---------------\n",
      "loop {0}:  37\n",
      "deltaE:  0.00504\n",
      "ei:  0.19154000000000002\n",
      "probi:  2.7969\n",
      "deltaPhi:  0.07853981633974483\n",
      "ABSphiEDer:  -0.02049470385646322\n",
      "newProb:  2126.643223768543\n",
      "---------------\n",
      "loop {0}:  38\n",
      "deltaE:  0.00504\n",
      "ei:  0.19658\n",
      "probi:  2.8877\n",
      "deltaPhi:  0.07853981633974483\n",
      "ABSphiEDer:  -0.01947701744974124\n",
      "newProb:  2310.409514879559\n",
      "---------------\n",
      "loop {0}:  39\n",
      "deltaE:  0.00504\n",
      "ei:  0.20162\n",
      "probi:  2.9766\n",
      "deltaPhi:  0.07853981633974483\n",
      "ABSphiEDer:  -0.01850091084001714\n",
      "newProb:  2507.186912700396\n",
      "---------------\n",
      "loop {0}:  40\n",
      "deltaE:  0.00504\n",
      "ei:  0.20665999999999998\n",
      "probi:  3.0634\n",
      "deltaPhi:  0.07853981633974483\n",
      "ABSphiEDer:  -0.017620220474372967\n",
      "newProb:  2709.2664232467423\n",
      "---------------\n",
      "loop {0}:  41\n",
      "deltaE:  0.00504\n",
      "ei:  0.21170999999999998\n",
      "probi:  3.1479\n",
      "deltaPhi:  0.07853981633974483\n",
      "ABSphiEDer:  -0.016786577096100184\n",
      "newProb:  2922.255085598235\n",
      "---------------\n",
      "loop {0}:  42\n",
      "deltaE:  0.00504\n",
      "ei:  0.21675\n",
      "probi:  3.23\n",
      "deltaPhi:  0.07853981633974483\n",
      "ABSphiEDer:  -0.01601080288672137\n",
      "newProb:  3143.755458104465\n",
      "---------------\n",
      "loop {0}:  43\n",
      "deltaE:  0.00504\n",
      "ei:  0.22179000000000001\n",
      "probi:  3.3094\n",
      "deltaPhi:  0.07853981633974483\n",
      "ABSphiEDer:  -0.015301647058092645\n",
      "newProb:  3370.3144858369424\n",
      "---------------\n",
      "loop {0}:  44\n",
      "deltaE:  0.00504\n",
      "ei:  0.22683000000000003\n",
      "probi:  3.3859\n",
      "deltaPhi:  0.07853981633974483\n",
      "ABSphiEDer:  -0.014606163910376562\n",
      "newProb:  3612.41221672647\n",
      "---------------\n",
      "loop {0}:  45\n",
      "deltaE:  0.00504\n",
      "ei:  0.23187\n",
      "probi:  3.4594\n",
      "deltaPhi:  0.07853981633974483\n",
      "ABSphiEDer:  -0.014001709032831785\n",
      "newProb:  3850.162658327432\n",
      "---------------\n",
      "loop {0}:  46\n",
      "deltaE:  0.00504\n",
      "ei:  0.23690999999999998\n",
      "probi:  3.5298\n",
      "deltaPhi:  0.07853981633974483\n",
      "ABSphiEDer:  -0.013397254155287006\n",
      "newProb:  4105.760832380808\n",
      "---------------\n",
      "loop {0}:  47\n",
      "deltaE:  0.00504\n",
      "ei:  0.24195\n",
      "probi:  3.5966\n",
      "deltaPhi:  0.07853981633974483\n",
      "ABSphiEDer:  -0.012853148262857389\n",
      "newProb:  4360.5569980570735\n",
      "---------------\n",
      "loop {0}:  48\n",
      "deltaE:  0.00504\n",
      "ei:  0.24699000000000002\n",
      "probi:  3.6599\n"
     ]
    },
    {
     "name": "stdout",
     "output_type": "stream",
     "text": [
      "deltaPhi:  0.07853981633974483\n",
      "ABSphiEDer:  -0.012337936109836608\n",
      "newProb:  4622.5971499813395\n",
      "---------------\n",
      "loop {0}:  49\n",
      "deltaE:  0.00504\n",
      "ei:  0.25203000000000003\n",
      "probi:  3.7194\n",
      "deltaPhi:  0.07853981633974483\n",
      "ABSphiEDer:  -0.011829390857392229\n",
      "newProb:  4899.704064380019\n",
      "---------------\n",
      "loop {0}:  50\n",
      "deltaE:  0.00504\n",
      "ei:  0.25706999999999997\n",
      "probi:  3.7749\n",
      "deltaPhi:  0.07853981633974483\n",
      "ABSphiEDer:  -0.011390245489359085\n",
      "newProb:  5164.540790241154\n",
      "---------------\n",
      "loop {0}:  51\n",
      "deltaE:  0.00504\n",
      "ei:  0.26211\n",
      "probi:  3.8262\n",
      "deltaPhi:  0.07853981633974483\n",
      "ABSphiEDer:  -0.01095110012132593\n",
      "newProb:  5444.6411694423505\n",
      "---------------\n",
      "loop {0}:  52\n",
      "deltaE:  0.00504\n",
      "ei:  0.26715\n",
      "probi:  3.8731\n",
      "deltaPhi:  0.07853981633974483\n",
      "ABSphiEDer:  -0.01053513235653917\n",
      "newProb:  5728.989931300299\n",
      "---------------\n",
      "loop {0}:  53\n",
      "deltaE:  0.00504\n",
      "ei:  0.27219\n",
      "probi:  3.9154\n",
      "deltaPhi:  0.07853981633974483\n",
      "ABSphiEDer:  -0.010160823138285731\n",
      "newProb:  6004.911198994519\n",
      "---------------\n",
      "loop {0}:  54\n",
      "deltaE:  0.00504\n",
      "ei:  0.27723000000000003\n",
      "probi:  3.9529\n",
      "deltaPhi:  0.07853981633974483\n",
      "ABSphiEDer:  -0.009786513920032287\n",
      "newProb:  6294.295884205071\n",
      "---------------\n",
      "loop {0}:  55\n",
      "deltaE:  0.00504\n",
      "ei:  0.28226999999999997\n",
      "probi:  3.9854\n",
      "deltaPhi:  0.07853981633974483\n",
      "ABSphiEDer:  -0.009438620380892404\n",
      "newProb:  6579.952252589598\n",
      "---------------\n",
      "loop {0}:  56\n",
      "deltaE:  0.00504\n",
      "ei:  0.28731\n",
      "probi:  4.0127\n",
      "deltaPhi:  0.07853981633974483\n",
      "ABSphiEDer:  -0.009119574800713277\n",
      "newProb:  6856.799446052451\n",
      "---------------\n",
      "loop {0}:  57\n",
      "deltaE:  0.00504\n",
      "ei:  0.29235\n",
      "probi:  4.0344\n",
      "deltaPhi:  0.07853981633974483\n",
      "ABSphiEDer:  -0.008800529220534155\n",
      "newProb:  7143.803674629773\n",
      "---------------\n",
      "loop {0}:  58\n",
      "deltaE:  0.00504\n",
      "ei:  0.2974\n",
      "probi:  4.0505\n",
      "deltaPhi:  0.07853981633974483\n",
      "ABSphiEDer:  -0.008501718128899133\n",
      "newProb:  7424.398587122538\n",
      "---------------\n",
      "loop {0}:  59\n",
      "deltaE:  0.00504\n",
      "ei:  0.30244\n",
      "probi:  4.0605\n",
      "deltaPhi:  0.07853981633974483\n",
      "ABSphiEDer:  -0.00822977697446639\n",
      "newProb:  7688.6624302894415\n",
      "---------------\n",
      "loop {0}:  60\n",
      "deltaE:  0.00504\n",
      "ei:  0.30748000000000003\n",
      "probi:  4.0644\n",
      "deltaPhi:  0.07853981633974483\n",
      "ABSphiEDer:  -0.007957835820033647\n",
      "newProb:  7959.04229786623\n",
      "---------------\n",
      "loop {0}:  61\n",
      "deltaE:  0.00504\n",
      "ei:  0.31251999999999996\n",
      "probi:  4.0617\n",
      "deltaPhi:  0.07853981633974483\n",
      "ABSphiEDer:  -0.007695527924610967\n",
      "newProb:  8224.864831831786\n",
      "---------------\n",
      "loop {0}:  62\n",
      "deltaE:  0.00504\n",
      "ei:  0.31756\n",
      "probi:  4.0522\n",
      "deltaPhi:  0.07853981633974483\n",
      "ABSphiEDer:  -0.007463736609224106\n",
      "newProb:  8460.458745421212\n",
      "---------------\n",
      "loop {0}:  63\n",
      "deltaE:  0.00504\n",
      "ei:  0.3226\n",
      "probi:  4.0356\n",
      "deltaPhi:  0.07853981633974483\n",
      "ABSphiEDer:  -0.007231945293837247\n",
      "newProb:  8695.855732509532\n",
      "---------------\n",
      "loop {0}:  64\n",
      "deltaE:  0.00504\n",
      "ei:  0.32764\n",
      "probi:  4.0114\n",
      "deltaPhi:  0.07853981633974483\n",
      "ABSphiEDer:  -0.007000153978450389\n",
      "newProb:  8929.923162867619\n",
      "---------------\n",
      "loop {0}:  65\n",
      "deltaE:  0.00504\n",
      "ei:  0.33268000000000003\n",
      "probi:  3.9794\n",
      "deltaPhi:  0.07853981633974483\n",
      "ABSphiEDer:  -0.006797850970486672\n",
      "newProb:  9122.319969129107\n",
      "---------------\n",
      "loop {0}:  66\n",
      "deltaE:  0.00504\n",
      "ei:  0.33771999999999996\n",
      "probi:  3.9391\n",
      "deltaPhi:  0.07853981633974483\n",
      "ABSphiEDer:  -0.006600281716846589\n",
      "newProb:  9300.234054218761\n",
      "---------------\n",
      "loop {0}:  67\n",
      "deltaE:  0.00504\n",
      "ei:  0.34276\n",
      "probi:  3.89\n",
      "deltaPhi:  0.07853981633974483\n",
      "ABSphiEDer:  -0.006402712463206502\n",
      "newProb:  9467.710015304841\n",
      "---------------\n",
      "loop {0}:  68\n",
      "deltaE:  0.00504\n",
      "ei:  0.3478\n",
      "probi:  3.8316\n",
      "deltaPhi:  0.07853981633974483\n",
      "ABSphiEDer:  -0.006213854727681433\n",
      "newProb:  9609.004875586552\n",
      "---------------\n",
      "loop {0}:  69\n",
      "deltaE:  0.00504\n",
      "ei:  0.35284\n",
      "probi:  3.7632\n",
      "deltaPhi:  0.07853981633974483\n",
      "ABSphiEDer:  -0.006045454926027801\n",
      "newProb:  9700.355653059381\n",
      "---------------\n",
      "loop {0}:  70\n",
      "deltaE:  0.00504\n",
      "ei:  0.35788000000000003\n",
      "probi:  3.6842\n",
      "deltaPhi:  0.07853981633974483\n",
      "ABSphiEDer:  -0.005877055124374167\n",
      "newProb:  9768.835104910031\n",
      "---------------\n",
      "loop {0}:  71\n",
      "deltaE:  0.00504\n",
      "ei:  0.36291999999999996\n",
      "probi:  3.5937\n",
      "deltaPhi:  0.07853981633974483\n",
      "ABSphiEDer:  -0.005708655322720538\n",
      "newProb:  9809.962395310704\n",
      "---------------\n",
      "loop {0}:  72\n",
      "deltaE:  0.00504\n",
      "ei:  0.36796\n",
      "probi:  3.4907\n",
      "deltaPhi:  0.07853981633974483\n",
      "ABSphiEDer:  -0.005553700281554212\n",
      "newProb:  9794.661524027491\n",
      "---------------\n",
      "loop {0}:  73\n",
      "deltaE:  0.00504\n",
      "ei:  0.373\n",
      "probi:  3.3739999999999997\n",
      "deltaPhi:  0.07853981633974483\n",
      "ABSphiEDer:  -0.005410163304334016\n",
      "newProb:  9718.383856215492\n",
      "---------------\n",
      "loop {0}:  74\n",
      "deltaE:  0.00504\n",
      "ei:  0.37804\n",
      "probi:  3.2422\n",
      "deltaPhi:  0.07853981633974483\n",
      "ABSphiEDer:  -0.005266626327113821\n",
      "newProb:  9593.269400137064\n",
      "---------------\n",
      "loop {0}:  75\n",
      "deltaE:  0.00504\n",
      "ei:  0.38309\n",
      "probi:  3.0932\n",
      "deltaPhi:  0.07853981633974483\n",
      "ABSphiEDer:  -0.005122804554303903\n",
      "newProb:  9409.348617122661\n",
      "---------------\n",
      "loop {0}:  76\n",
      "deltaE:  0.00504\n",
      "ei:  0.38813000000000003\n",
      "probi:  2.9246\n",
      "deltaPhi:  0.07853981633974483\n",
      "ABSphiEDer:  -0.004991544507351914\n",
      "newProb:  9130.422462541574\n",
      "---------------\n",
      "loop {0}:  77\n",
      "deltaE:  0.00504\n",
      "ei:  0.39316999999999996\n",
      "probi:  2.733\n",
      "deltaPhi:  0.07853981633974483\n",
      "ABSphiEDer:  -0.00486919957530306\n",
      "newProb:  8746.643005568209\n",
      "---------------\n",
      "loop {0}:  78\n",
      "deltaE:  0.00504\n",
      "ei:  0.39821\n",
      "probi:  2.5136\n",
      "deltaPhi:  0.07853981633974483\n",
      "ABSphiEDer:  -0.004746854643254204\n",
      "newProb:  8251.816837371145\n",
      "---------------\n",
      "loop {0}:  79\n",
      "deltaE:  0.00504\n",
      "ei:  0.40325\n",
      "probi:  2.2589\n",
      "deltaPhi:  0.07853981633974483\n",
      "ABSphiEDer:  -0.0046245097112053496\n",
      "newProb:  7611.857591274403\n",
      "---------------\n",
      "loop {0}:  80\n",
      "deltaE:  0.00504\n",
      "ei:  0.40829\n",
      "probi:  1.9567\n",
      "deltaPhi:  0.07853981633974483\n",
      "ABSphiEDer:  -0.0045093742335368114\n",
      "newProb:  6761.877691007034\n",
      "---------------\n",
      "loop {0}:  81\n",
      "deltaE:  0.00504\n",
      "ei:  0.41333000000000003\n",
      "probi:  1.5832\n",
      "deltaPhi:  0.07853981633974483\n",
      "ABSphiEDer:  -0.004405092505995636\n",
      "newProb:  5600.671406357909\n",
      "---------------\n",
      "loop {0}:  82\n",
      "deltaE:  0.00504\n",
      "ei:  0.41836999999999996\n",
      "probi:  1.0783\n",
      "deltaPhi:  0.07853981633974483\n",
      "ABSphiEDer:  -0.004300810778454464\n",
      "newProb:  3907.046811659951\n",
      "---------------\n",
      "83\n"
     ]
    }
   ],
   "source": [
    "nBins = 20\n",
    "deltaPhi = (np.pi/2) * (1/nBins)\n",
    "\n",
    "\n",
    "def convolution(spectrumDF, density = True):\n",
    "    '''\n",
    "    This function re-scales the bins in the spectrum (dN/dE) from constant E to bins of constant phi.\n",
    "    For each bin, compute the following quantity\n",
    "        \n",
    "        dN/dPhi = dN/dE x (deltaPhi / deltaE) x (1/ dPhi/dE)\n",
    "    \n",
    "    spectrumDF: Dataframe with columns containing: q_MeV (Energy values), Spectra (dN/dE), step_MeV\n",
    "                q_MeV is assumed to be evenly spaced and Spectra is assumed to be L1 normalized.  \n",
    "    '''\n",
    "    deltaE = spectrumDF.step_MeV[0]\n",
    "    fluxFactor = 1\n",
    "\n",
    "    \n",
    "    if not density:\n",
    "        fluxFactor = spectrumDF.total_flux[0]\n",
    "    probVector = []\n",
    "    for i in range(0,len(spectrumDF)-1):\n",
    "        ei = spectrumDF.q_MeV[i]\n",
    "        eiplus1 = spectrumDF.q_MeV[i+1]\n",
    "        probi = fluxFactor * spectrumDF.spectrum[i]\n",
    "#         deltaPhi = np.abs(phiInterp(eiplus1) - phiInterp(ei))\n",
    "        newProb = probi * (1/np.abs(phiEDerInterp(ei))) * (np.abs(deltaPhi)/deltaE)\n",
    "        print ('loop {0}: ', i)\n",
    "        print ('deltaE: ', deltaE)\n",
    "        print ('ei: ', ei)\n",
    "        print ('probi: ', probi)\n",
    "        print ('deltaPhi: ',deltaPhi)\n",
    "        print ('ABSphiEDer: ', phiEDerInterp(ei))\n",
    "        print ('newProb: ',newProb)\n",
    "        print ('---------------')\n",
    "        probVector.append(newProb)\n",
    "    return probVector\n",
    "\n",
    "def convolution2(spectrumDF, deltaPhi, density = True):\n",
    "    '''\n",
    "    This function re-scales the bins in the spectrum (dN/dE) from constant E to bins of constant phi.\n",
    "    For each bin, compute the following quantity\n",
    "        \n",
    "        dN/dPhi = dN/dE x (deltaPhi / deltaE) x (1/ dPhi/dE)\n",
    "    \n",
    "    spectrumDF: Dataframe with columns containing: q_MeV (Energy values), Spectra (dN/dE), step_MeV\n",
    "                q_MeV is assumed to be evenly spaced and Spectra is assumed to be L1 normalized.  \n",
    "    '''\n",
    "    deltaE = spectrumDF.step_MeV[0]\n",
    "    fluxFactor = 1\n",
    "    \n",
    "    def testDer(x):\n",
    "        return -1/2\n",
    "    \n",
    "    def ePhi(x):\n",
    "        return -1/2 * x\n",
    "    \n",
    "    if not density:\n",
    "        fluxFactor = spectrumDF.total_flux[0]\n",
    "    probVector = []\n",
    "    for i in range(0,len(spectrumDF)-1):\n",
    "        \n",
    "        \n",
    "        ei = spectrumDF.q_MeV[i]\n",
    "        eiplus1 = spectrumDF.q_MeV[i+1]\n",
    "        probi = fluxFactor * spectrumDF.spectrum[i]\n",
    "#         deltaPhiPrime = np.abs(phiInterp(eiplus1) - phiInterp(ei))\n",
    "        deltaPhiPrime = np.abs(testDer(eiplus1) - testDer(ei))\n",
    "\n",
    "        newProb = probi * (1/np.abs(phiEDerInterp(ei))) * (deltaPhiPrime/deltaPhi)\n",
    "        probVector.append(newProb)\n",
    "    return probVector\n",
    "\n",
    "histData  = (convolution(ppSpectra,density = True))\n",
    "histData2 =  (convolution2(ppSpectra,deltaPhi, density = True))\n",
    "print (len(histData))\n",
    "\n",
    "\n",
    "\n",
    "\n",
    "\n",
    "# print (np.multiply(histData1,ppFF))"
   ]
  },
  {
   "cell_type": "code",
   "execution_count": 9,
   "metadata": {
    "ExecuteTime": {
     "end_time": "2022-05-30T16:47:13.436241Z",
     "start_time": "2022-05-30T16:47:10.120679Z"
    },
    "hidden": true
   },
   "outputs": [
    {
     "ename": "NameError",
     "evalue": "name 'scipy' is not defined",
     "output_type": "error",
     "traceback": [
      "\u001b[1;31m---------------------------------------------------------------------------\u001b[0m",
      "\u001b[1;31mNameError\u001b[0m                                 Traceback (most recent call last)",
      "\u001b[1;32m<ipython-input-9-7525237afff2>\u001b[0m in \u001b[0;36m<module>\u001b[1;34m\u001b[0m\n\u001b[0;32m      3\u001b[0m \u001b[0mspectrumInterp\u001b[0m \u001b[1;33m=\u001b[0m \u001b[0minterpolate\u001b[0m\u001b[1;33m.\u001b[0m\u001b[0minterp1d\u001b[0m\u001b[1;33m(\u001b[0m\u001b[0meSpacing\u001b[0m\u001b[1;33m,\u001b[0m\u001b[0mspectrum\u001b[0m\u001b[1;33m)\u001b[0m\u001b[1;33m\u001b[0m\u001b[1;33m\u001b[0m\u001b[0m\n\u001b[0;32m      4\u001b[0m \u001b[1;31m# spectrumHist = np.histogram(spectrum, bins=4)\u001b[0m\u001b[1;33m\u001b[0m\u001b[1;33m\u001b[0m\u001b[1;33m\u001b[0m\u001b[0m\n\u001b[1;32m----> 5\u001b[1;33m \u001b[0mhist_dist\u001b[0m \u001b[1;33m=\u001b[0m \u001b[0mscipy\u001b[0m\u001b[1;33m.\u001b[0m\u001b[0mstats\u001b[0m\u001b[1;33m.\u001b[0m\u001b[0mrv_histogram\u001b[0m\u001b[1;33m(\u001b[0m\u001b[0mspectrumHist\u001b[0m\u001b[1;33m)\u001b[0m\u001b[1;33m\u001b[0m\u001b[1;33m\u001b[0m\u001b[0m\n\u001b[0m\u001b[0;32m      6\u001b[0m \u001b[1;33m\u001b[0m\u001b[0m\n\u001b[0;32m      7\u001b[0m \u001b[1;32mdef\u001b[0m \u001b[0mtestEPhi\u001b[0m\u001b[1;33m(\u001b[0m\u001b[0mx\u001b[0m\u001b[1;33m)\u001b[0m\u001b[1;33m:\u001b[0m\u001b[1;33m\u001b[0m\u001b[1;33m\u001b[0m\u001b[0m\n",
      "\u001b[1;31mNameError\u001b[0m: name 'scipy' is not defined"
     ]
    }
   ],
   "source": [
    "\n",
    "spectrum = [0,10,0,0,0]\n",
    "eSpacing = [0,1,2,3,4]\n",
    "spectrumInterp = interpolate.interp1d(eSpacing,spectrum)\n",
    "# spectrumHist = np.histogram(spectrum, bins=4)\n",
    "hist_dist = scipy.stats.rv_histogram(spectrumHist)\n",
    "\n",
    "def testEPhi(x):\n",
    "    return -4*x\n",
    "\n",
    "def testdEdPhi(x):\n",
    "    return -4\n",
    "\n",
    "deltaPhi = 1\n",
    "phiMax = 4\n",
    "nPhiBins = int(np.floor((phiMax) * (1/deltaPhi)))\n",
    "print ('nPhiBins: ',nPhiBins)\n",
    "phiBinsArray = np.linspace(testEPhi(min(eSpacing)),phiMax,nPhiBins+1)\n",
    "print ('phibins: ',phiBinsArray)\n",
    "\n",
    "eBinsArray   = np.abs(testEPhi(phiBinsArray))\n",
    "print ('eBins: ',eBinsArray)\n",
    "\n",
    "dEdPhiArray  = testdEdPhi(eBinsArray)\n",
    "print ('dEdPhiBins: ', dEdPhiArray)\n",
    "\n",
    "eventArray   = spectrumInterp(eBinsArray)\n",
    "\n",
    "print ('eventArray: ', eventArray)\n",
    "\n",
    "plt.plot(eSpacing,spectrumInterp(eSpacing),label= 'spectrum')\n",
    "plt.grid()\n",
    "for value in eBinsArray:\n",
    "    plt.axvline(x = value, color = 'C1',label = 'eBins')\n",
    "plt.legend(loc = 'upper right')\n",
    "\n",
    "\n",
    "newCounts = []\n",
    "for i in range(0,nPhiBins):\n",
    "    deltaE = eBinsArray[i]-eBinsArray[i+1]\n",
    "    tempCounts = (eventArray[i]/(deltaE)) * dEdPhiArray[i] * deltaPhi\n",
    "    newCounts.append(tempCounts)\n",
    "    \n",
    "# newSpectrumHist = np.histogram(newCounts, bins=nPhiBins)\n",
    "# newHist_dist = scipy.stats.rv_histogram(newSpectrumHist)\n",
    "print ('NewCounts: ', newCounts)\n",
    "# plt.plot(phiBinsArray[:-1],newCounts,color = 'C2')"
   ]
  },
  {
   "cell_type": "markdown",
   "metadata": {},
   "source": [
    "### Working Here"
   ]
  },
  {
   "cell_type": "markdown",
   "metadata": {
    "ExecuteTime": {
     "end_time": "2022-05-30T18:01:36.715256Z",
     "start_time": "2022-05-30T18:01:36.701971Z"
    }
   },
   "source": [
    "The dNdE spectra have the same shapes (roughly the same slope in log-log space, and a similar turnover rate after the apex). This determines the shape of the dNdphi spectrum. The higher energy spectra yield a smaller deflection angle, hence the lower values for their dNdphi spectra.\n",
    "\n",
    "The limits of the phi bins are generated as follows:\n",
    "    Pick the highest and lowest energies of a spectrum. Determine the corresponding deflection angles using \\phi(E).\n",
    "    \n",
    "PhiMax is determined from \\phi(E) function, which depends on the form of the magnetic field of the sun and Earth. Same thing goes for phiMin. The bins are determined by divinging up the range between phiMax and phiMin. We construct \\phi(E) to have support over all spectrum energies."
   ]
  },
  {
   "cell_type": "code",
   "execution_count": 21,
   "metadata": {
    "ExecuteTime": {
     "end_time": "2022-07-11T19:15:18.934134Z",
     "start_time": "2022-07-11T19:15:17.821538Z"
    },
    "scrolled": false
   },
   "outputs": [
    {
     "name": "stdout",
     "output_type": "stream",
     "text": [
      "5 bins\n",
      "5 bins\n",
      "5 bins\n"
     ]
    },
    {
     "data": {
      "image/png": "[encoded data removed]",
      "text/plain": [
       "<Figure size 576x576 with 1 Axes>"
      ]
     },
     "metadata": {
      "needs_background": "light"
     },
     "output_type": "display_data"
    }
   ],
   "source": [
    "# deltaPhi = 0.001\n",
    "# deltaPhi = 0.005\n",
    "\n",
    "# deltaPhi = 0.01\n",
    "deltaPhi = 0.25\n",
    "newppCounts = (convolution(ppSpectra,deltaPhi,False))\n",
    "newhepCounts = (convolution(hepSpectra,deltaPhi,False))\n",
    "newb8Counts = (convolution(b8Spectra,deltaPhi,False))\n",
    "\n",
    "# print (newppCounts[0])\n",
    "# print (newppCounts[1])\n",
    "\n",
    "ppFF = ppSpectra.total_flux[0]\n",
    "hepFF = hepSpectra.total_flux[0]\n",
    "b8FF = b8Spectra.total_flux[0]\n",
    "\n",
    "# ppFF = 1\n",
    "# hepFF = 1\n",
    "# b8FF = 1\n",
    "\n",
    "dNdPhiHist = plt.figure(figsize = (8,8))\n",
    "# plt.scatter(np.multiply(newppCounts[0][:-1],1),np.multiply(newppCounts[1],ppFF), label = 'pp')\n",
    "plt.scatter(np.multiply(newppCounts[0],1),np.multiply(newppCounts[1],ppFF), label = 'pp')\n",
    "plt.scatter(np.multiply(newhepCounts[0],1),np.multiply(newhepCounts[1],hepFF), label = 'hep')\n",
    "plt.scatter(np.multiply(newb8Counts[0],1),np.multiply(newb8Counts[1],b8FF), label = 'b8')\n",
    "# plt.axvline(x = 20*np.pi/180,color = 'C3',label = '20 degrees')\n",
    "# plt.axvline(x = 20,color = 'C3',label = '20 degrees')\n",
    "lines = newppCounts[2]\n",
    "for line in lines:\n",
    "    plt.axvline(x=line,ymin = 0,ymax = 0.05,color ='k')\n",
    "\n",
    "\n",
    "plt.legend(loc = 'upper right')\n",
    "plt.suptitle('Deflection Angles for Neutrino Spectra',size = 20)\n",
    "# plt.title(r'Solar and Terrestrial ~ 3.5E-20/r', loc = 'right')\n",
    "plt.xlabel(r'$\\phi$', size = 18)\n",
    "plt.ylabel(r'$\\frac{dN}{d\\phi}$',size = 18)\n",
    "plt.xscale('linear')\n",
    "plt.yscale('log')\n",
    "\n",
    "# plt.axis([-0.1,np.pi/2+(0.1*np.pi/2),10**-8.5,10**1])\n",
    "# plt.axis([-0.1,np.pi/2+(0.1*np.pi/2),10**-1,10**6])\n",
    "\n",
    "\n",
    "\n",
    "plt.grid()\n",
    "plt.show()\n",
    "\n",
    "\n",
    "# plt.hist(newppCounts[0][:-1],bins = newppCounts[0], weights = newppCounts[1])\n",
    "# plt.hist(newhepCounts[0][:-1],bins = newhepCounts[0], weights = newhepCounts[1])\n",
    "# plt.show()\n",
    "# plt.hist(newppCounts[0][:-1],bins = newppCounts[0][:-1])"
   ]
  },
  {
   "cell_type": "code",
   "execution_count": 33,
   "metadata": {
    "ExecuteTime": {
     "end_time": "2022-07-05T19:22:35.465444Z",
     "start_time": "2022-07-05T19:22:23.021639Z"
    }
   },
   "outputs": [
    {
     "name": "stdout",
     "output_type": "stream",
     "text": [
      "Filename: dNdPhiFull.png\n",
      "Complete\n"
     ]
    }
   ],
   "source": [
    "filename = input('Filename: ')\n",
    "dNdPhiHist.savefig('figures/'+filename,dpi = 700)\n",
    "print ('Complete')"
   ]
  },
  {
   "cell_type": "markdown",
   "metadata": {
    "ExecuteTime": {
     "end_time": "2022-05-30T19:33:33.331750Z",
     "start_time": "2022-05-30T19:33:33.325324Z"
    },
    "heading_collapsed": true
   },
   "source": [
    "## Checking the L1 normalization of the $\\frac{dN}{d\\phi}$ spectrum"
   ]
  },
  {
   "cell_type": "code",
   "execution_count": 231,
   "metadata": {
    "ExecuteTime": {
     "end_time": "2022-06-14T22:08:58.195883Z",
     "start_time": "2022-06-14T22:08:58.180317Z"
    },
    "hidden": true
   },
   "outputs": [],
   "source": [
    "def L1Norm(vector, binSpacing):\n",
    "    '''\n",
    "    This function normalizes a vector according to \n",
    "        Sum(vector * bin) = Normalization\n",
    "    and return vector/Normalization\n",
    "    \n",
    "    vector: vector to be normalized\n",
    "    binSpacing: constant width of each bin\n",
    "    '''\n",
    "    totalSum = 0\n",
    "    i = 0\n",
    "    for val in vector:\n",
    "#         print ('val',val)\n",
    "#         print ('binSpacing',binSpacing)\n",
    "\n",
    "#         print ('val',val)\n",
    "#         print ('binSpacing',binSpacing)\n",
    "        totalSum += val*binSpacing\n",
    "    normedVector = np.multiply(vector,(1/totalSum))\n",
    "    return normedVector"
   ]
  },
  {
   "cell_type": "code",
   "execution_count": 232,
   "metadata": {
    "ExecuteTime": {
     "end_time": "2022-06-14T22:08:58.849473Z",
     "start_time": "2022-06-14T22:08:58.517764Z"
    },
    "hidden": true
   },
   "outputs": [
    {
     "name": "stdout",
     "output_type": "stream",
     "text": [
      "(array([2.08786486e-06, 2.99875939e-01, 5.99749790e-01, 8.99623641e-01,\n",
      "       1.19949749e+00, 1.49937134e+00]), [0.0, 0.0004262168232413536, 0.00018337128088002976, 0.0001176288136067136, 0.0001243722129392254])\n",
      "[0.         2.00198339 0.86131339 0.5525144  0.58418882]\n"
     ]
    },
    {
     "data": {
      "image/png": "[encoded data removed]",
      "text/plain": [
       "<Figure size 432x288 with 1 Axes>"
      ]
     },
     "metadata": {
      "needs_background": "light"
     },
     "output_type": "display_data"
    }
   ],
   "source": [
    "l1Normedpp  = (L1Norm(newppCounts[1],deltaPhi))\n",
    "l1Normedhep = (L1Norm(newhepCounts[1],deltaPhi))\n",
    "l1Normedb8  = (L1Norm(newb8Counts[1],deltaPhi))\n",
    "\n",
    "print (newppCounts)\n",
    "print (l1Normedpp)\n",
    "\n",
    "# print (l1Normedpp)\n",
    "# print (l1Normedhep)\n",
    "# print (l1Normedb8)\n",
    "\n",
    "# print (l1Normedpp)\n",
    "# print (l1Normedhep)\n",
    "\n",
    "# plt.plot(newppCounts[0][:-1],newppCounts[1],'.',label = 'L1 normalized')\n",
    "# plt.plot(newhepCounts[0][:-1],newhepCounts[1],'.',label = 'L1 normalized')\n",
    "# plt.plot(newb8Counts[0][:-1],newb8Counts[1],'.',label = 'L1 normalized')\n",
    "\n",
    "plt.plot(newppCounts[0][:-1],l1Normedpp,'.',label = 'pp L1 normalized')\n",
    "plt.plot(newhepCounts[0][:-1],l1Normedhep,'.',label = 'hep L1 normalized')\n",
    "plt.plot(newb8Counts[0][:-1],l1Normedb8,'.',label = 'b8 L1 normalized')\n",
    "\n",
    "plt.legend(loc = 'upper right')\n",
    "# plt.yscale('log')\n",
    "plt.grid()"
   ]
  },
  {
   "cell_type": "code",
   "execution_count": null,
   "metadata": {
    "hidden": true
   },
   "outputs": [],
   "source": []
  },
  {
   "cell_type": "code",
   "execution_count": null,
   "metadata": {
    "hidden": true
   },
   "outputs": [],
   "source": []
  },
  {
   "cell_type": "markdown",
   "metadata": {},
   "source": [
    "# Exclusion Plot"
   ]
  },
  {
   "cell_type": "markdown",
   "metadata": {},
   "source": [
    "Ultimately, we want an exclusion plot of $\\varepsilon^2 \\equiv \\frac{B_{B-L}}{B_{EM}}$ vs. $m_A$.\n",
    "\n",
    "I think the algorithm for this will be:\n",
    "\n",
    "1. Load in a spectrum. For the first go, this should be a monochromatic spectrum\n",
    "2. Choose a mediator mass. (Functionally, this is choosing whether or not we have Yukawa suppression)\n",
    "\n",
    "3. Choose epsilon. This is basically choosing the strength of the magnetic field.\n",
    "4. Compute $\\phi(E)$ given epsilon,mediator mass, and the spectrum\n",
    "5. If phi is less than some critical angle, increase epsilon.\n",
    "\n",
    "________\n",
    "I also think we will do this from scratch from here."
   ]
  },
  {
   "cell_type": "markdown",
   "metadata": {},
   "source": [
    "## Load Spectra"
   ]
  },
  {
   "cell_type": "code",
   "execution_count": 3,
   "metadata": {
    "ExecuteTime": {
     "end_time": "2022-07-15T20:21:42.018229Z",
     "start_time": "2022-07-15T20:21:38.397330Z"
    }
   },
   "outputs": [
    {
     "data": {
      "image/png": "[encoded data removed]",
      "text/plain": [
       "<Figure size 576x576 with 1 Axes>"
      ]
     },
     "metadata": {
      "needs_background": "light"
     },
     "output_type": "display_data"
    }
   ],
   "source": [
    "ppSpectra = pd.read_csv('Data/ppSpectrum2.csv')\n",
    "ppE = ppSpectra.q_MeV\n",
    "ppS = ppSpectra.spectrum\n",
    "\n",
    "# b8Spectra = pd.read_csv('Data/ppSpectrum5.csv')\n",
    "b8Spectra = pd.read_csv('Data/b8Spectrum2.csv')\n",
    "b8E = b8Spectra.q_MeV\n",
    "b8S = b8Spectra.spectrum\n",
    "\n",
    "hepSpectra = pd.read_csv('Data/hepSpectrum2.csv')\n",
    "hepE = hepSpectra.q_MeV\n",
    "hepS = hepSpectra.spectrum\n",
    "\n",
    "# Normalizations from astro-ph/0412440 (2005)\n",
    "# ppFF  = 5.99E10\n",
    "# b8FF  = 5.69e6\n",
    "# hepFF = 7.93e3\n",
    "\n",
    "# Normalizations from https://www.nature.com/articles/s41586-018-0624-y (2018)\n",
    "# ppFF  = 6.1e10\n",
    "# b8FF  = 5.68e6\n",
    "# hepFF = 2.2e5\n",
    "\n",
    "# Normalizations from table 1 of 2107.08613 (2021) Solar (Global) subject to luminoscity constraint\n",
    "# ppFF  = 5.971e10\n",
    "# b8FF  = 5.16e6\n",
    "# hepFF = 19e3\n",
    "\n",
    "ppFF  = 1\n",
    "b8FF  = 1\n",
    "hepFF = 1\n",
    "\n",
    "\n",
    "figS = plt.figure(figsize = (8,8))\n",
    "plt.plot(ppE,np.multiply(ppS,ppFF),label = 'pp')\n",
    "plt.plot(b8E,np.multiply(b8S,b8FF),label = '$^8B$')\n",
    "plt.plot(hepE,np.multiply(hepS,hepFF),label = 'hep')\n",
    "\n",
    "# Plot bounds to match fig 2 \n",
    "# plt.xlim([0.9E-1,30])\n",
    "# plt.ylim([0.9e1,5e11])\n",
    "\n",
    "plt.legend(loc = 'upper right')\n",
    "plt.grid()\n",
    "plt.xlabel('Energy [MeV]')\n",
    "plt.ylabel('Flux ')\n",
    "plt.xscale('log')\n",
    "plt.yscale('log')\n"
   ]
  },
  {
   "cell_type": "markdown",
   "metadata": {},
   "source": [
    "## Define parameters and compute $\\phi(E)$ and $E(\\phi)$"
   ]
  },
  {
   "cell_type": "code",
   "execution_count": 103,
   "metadata": {
    "ExecuteTime": {
     "end_time": "2022-07-15T21:58:48.241949Z",
     "start_time": "2022-07-15T21:58:48.193884Z"
    }
   },
   "outputs": [],
   "source": [
    "def bField(x,y,z,mA,epsilon):\n",
    "    '''\n",
    "    Returns cartesian components of the B-L field in MeV^2 at location x,y,z.\n",
    "    \n",
    "    x,y,z must be in cartesian coordinates measured in Au\n",
    "    mA must be in MeV\n",
    "    epsilon is defined to be epsilon = B-L / B_EM, the ratio of the field strengths\n",
    "    '''\n",
    "#     print ('x,y,z',x,y,z)\n",
    "    \n",
    "    assert x**2 + y**2 > 0, 'Bfield function, both x & y zero simultaneously'\n",
    "\n",
    "    ep2 = epsilon**2\n",
    "\n",
    "    if mA == 0:\n",
    "        yu = 1\n",
    "        \n",
    "    if mA !=0:\n",
    "        rNat =  km2geVInv(au2km(rFunction(x,y,z)))/1000\n",
    "#         print (r)\n",
    "#         alpha = 1/km2geVInv(au2km(1))\n",
    "        yu = np.exp(-mA*rNat)\n",
    "#         print ('yukawa:',yu)\n",
    "\n",
    "    # 3.3 in nT\n",
    "    BrSun     = 0\n",
    "#     BthetaSun = 1.5e-17/np.sqrt(2) * 1/rFunction(x,y,z)\n",
    "    BthetaSun = 0\n",
    "#     BphiSun   = 3.3e-9/np.sqrt(2) * 1/rFunction(x,y,z)\n",
    "    BphiSun = 0\n",
    "\n",
    "    # Spherical unit vector decompositions\n",
    "    # Schematically, we decompose rhat = Axhat + Byhat + Czhat and read off the ABC from wiki\n",
    "    # The arguments of the ABCs are the cartesian location where we are evaluating the B field\n",
    "    def A(x,y,z):\n",
    "        return x/np.sqrt(x**2 +y**2 +z**2)\n",
    "\n",
    "    def B(x,y,z):\n",
    "        return y/np.sqrt(x**2 +y**2 +z**2)\n",
    "\n",
    "    def C(x,y,z):\n",
    "        return z/np.sqrt(x**2 +y**2 +z**2)\n",
    "\n",
    "    def D(x,y,z):\n",
    "        return x*z / (np.sqrt(x**2 +y**2 +z**2) * np.sqrt(x**2+y**2))\n",
    "\n",
    "    def E(x,y,z):\n",
    "        return y*z / (np.sqrt(x**2 +y**2 +z**2) * np.sqrt(x**2+y**2))\n",
    "        \n",
    "    def F(x,y,z): \n",
    "        return -(x**2 + y**2) / (np.sqrt(x**2 +y**2 +z**2) * np.sqrt(x**2+y**2)) \n",
    "\n",
    "    def G(x,y,z):\n",
    "        return -y / np.sqrt(x**2 + y**2)\n",
    "\n",
    "    def H(x,y,z):\n",
    "        return x / np.sqrt(x**2 + y**2)\n",
    "\n",
    "    def I(x,y,z):\n",
    "        return 0\n",
    "\n",
    "    BxSun = BrSun * A(x,y,z) + BthetaSun * D(x,y,z) + BphiSun * G(x,y,z)\n",
    "    BySun = BrSun * B(x,y,z) + BthetaSun * E(x,y,z) + BphiSun * H(x,y,z)\n",
    "    BzSun = BrSun * C(x,y,z) + BthetaSun * F(x,y,z) + BphiSun * I(x,y,z)\n",
    "\n",
    "    # Earth Magnetic field is 25-65 nanoTesla at the Surface\n",
    "    mu0 = 4e-7*np.pi\n",
    "    rOrbit = 1\n",
    "    \n",
    "    BxEarth = 0\n",
    "    ByEarth = 0\n",
    "#     BzEarth = 45e-6/(rFunction(x,y,z)-rOrbit)\n",
    "#     BzEarth = 1.5e-17\n",
    "#     BzEarth = (3.5e-20)/(rOrbit - rFunction(x,y,z))\n",
    "    BzEarth = 0\n",
    "    \n",
    "    BxSun = 0\n",
    "    BySun = 0\n",
    "#     BzSun = 0\n",
    "#     BzSun = 1.5e-17 # We choose 1.5e-17 Tesla for the energy range for phi(E)\n",
    "#     BzSun = (3.5e-20)/rFunction(x,y,z)\n",
    "    BzSun = 3.3e-9\n",
    "#     bzSun = 3.3e-9/rFunction(x,y,z)\n",
    "    \n",
    "    BxTotal, ByTotal, BzTotal = ep2*yu*(BxSun+BxEarth),ep2*yu*(BySun+ByEarth), ep2*yu*(BzSun+BzEarth)\n",
    "    return (tesla2MeV2(BxTotal), tesla2MeV2(ByTotal), tesla2MeV2(BzTotal))\n"
   ]
  },
  {
   "cell_type": "code",
   "execution_count": 108,
   "metadata": {
    "ExecuteTime": {
     "end_time": "2022-07-15T22:01:55.319702Z",
     "start_time": "2022-07-15T22:01:55.304813Z"
    }
   },
   "outputs": [
    {
     "name": "stdout",
     "output_type": "stream",
     "text": [
      "3.3824075999999996\n"
     ]
    }
   ],
   "source": [
    "print (geVInv2au(1))"
   ]
  },
  {
   "cell_type": "code",
   "execution_count": 104,
   "metadata": {
    "ExecuteTime": {
     "end_time": "2022-07-15T21:58:54.419932Z",
     "start_time": "2022-07-15T21:58:54.342439Z"
    }
   },
   "outputs": [
    {
     "name": "stdout",
     "output_type": "stream",
     "text": [
      "5.681343372067876e-22 1.3210458455750248e-24\n",
      "yukawa 0.36787944117144233\n",
      "yukawa 0.9976774662648051\n",
      "0\n",
      "YukawaFactor 1.0\n",
      "epsilon 1\n",
      "   ConNo         r     theta       phi   vr  vTheta  vPhi   L  cosBeta\n",
      "0    0.0  0.002325  1.570796  1.694179  1.0     0.0   0.0 NaN      NaN\n",
      "Complete\n"
     ]
    }
   ],
   "source": [
    "mAHigh = 1/(km2geVInv(au2km(rHalf))/1000)\n",
    "mALow = 1/(km2geVInv(au2km(1))/1000)\n",
    "massRange = [mAHigh,mALow]\n",
    "print (mAHigh,mALow)\n",
    "mA = 0\n",
    "# mA = 1e-25\n",
    "\n",
    "yukawaFactor = (np.exp(-mA*km2geVInv(au2km(rHalf))/1000))\n",
    "for mass in massRange:\n",
    "    print ('yukawa',(np.exp(-mass*km2geVInv(au2km(rHalf))/1000)))\n",
    "# ep = 10**-2.66\n",
    "# ep = 10**-2.6\n",
    "\n",
    "ep = 1\n",
    "print (mA)\n",
    "print ('YukawaFactor',yukawaFactor)\n",
    "print ('epsilon',ep)\n",
    "\n",
    "\n",
    "phiCritDeg = 20\n",
    "phiCritRad = phiCritDeg*np.pi/180\n",
    "\n",
    "###################################################\n",
    "\n",
    "IICDF = makeInitialConditions(1)\n",
    "radialVelocity = True\n",
    "\n",
    "columns = np.asarray(IICDF.columns)\n",
    "IICDF2 = pd.DataFrame(columns=columns)\n",
    "v1 = [1,0,0]\n",
    "\n",
    "# margin = 1e-7\n",
    "margin = 1/2\n",
    "# deltaTheta = (margin*(np.pi/2))\n",
    "deltaTheta = 0\n",
    "deltaPhi = margin*2*np.pi/2\n",
    "# deltaPhi = 0\n",
    " \n",
    "\n",
    "for row in IICDF.ConNo:\n",
    "#     phi = float(minLossCondition.phi)\n",
    "    phi = np.pi/2\n",
    "#     theta = float(minLossCondition.theta)\n",
    "    theta = np.pi/2\n",
    "    \n",
    "    randTheta = np.random.uniform( (theta-deltaTheta), (theta+deltaTheta) )\n",
    "    randPhi   = np.random.uniform( (phi-deltaPhi), (phi+deltaPhi) )\n",
    "    p1 = [rHalf,randTheta,randPhi]\n",
    "\n",
    "    if radialVelocity:\n",
    "        r      = p1[0]\n",
    "        theta  = p1[1]\n",
    "        phi    = p1[2]\n",
    "        vr     = v1[0]\n",
    "        vtheta = v1[1]\n",
    "        vphi   = v1[2]\n",
    "        \n",
    "    else: \n",
    "        r      = p1[0]\n",
    "        theta  = p1[1]\n",
    "        phi    = p1[2]\n",
    "        vtheta = 0\n",
    "        vphi   = np.random.uniform(-1,1)\n",
    "        vr     = np.sqrt(1-vphi**2)\n",
    "\n",
    "\n",
    "    appendThis = ({'ConNo':row,'r':r,'theta':theta,'phi':phi,'vr':vr,'vTheta':vtheta,'vPhi':vphi})\n",
    "#     appendThis = ({'r':r,'theta':theta,'phi':phi,'vr':vr,'vTheta':vtheta,'vPhi':vphi})\n",
    "\n",
    "    IICDF2 = IICDF2.append(appendThis,ignore_index=True)\n",
    "    \n",
    "# dataDFSph2 = computeLossAndBeta(dataDFSph2,q,m,dt)\n",
    "print (IICDF2.head(5))\n",
    "print ('Complete')"
   ]
  },
  {
   "cell_type": "code",
   "execution_count": 105,
   "metadata": {
    "ExecuteTime": {
     "end_time": "2022-07-15T21:58:55.510706Z",
     "start_time": "2022-07-15T21:58:55.392552Z"
    }
   },
   "outputs": [
    {
     "name": "stdout",
     "output_type": "stream",
     "text": [
      "0/50 hits\n",
      "Complete\n"
     ]
    }
   ],
   "source": [
    "masterDFColumns = ['ConNo','E','Beta1','Beta2']\n",
    "masterDF = pd.DataFrame(columns = masterDFColumns)\n",
    "\n",
    "\n",
    "# numE = 250\n",
    "numE = 50\n",
    "# eMin is chosen to be below the smallest energy in any spectrum\n",
    "# eMax is chosen to be above the largest energy in any spectrum\n",
    "interpEMIN = 0.0001\n",
    "interpEMAX = 50\n",
    "\n",
    "eRange = np.logspace(np.log10(interpEMIN),np.log10(interpEMAX),numE)\n",
    "\n",
    "\n",
    "q = 0.3\n",
    "c = 1\n",
    "# dt = 0.1\n",
    "dt = 0.01\n",
    "# dt = 0.001\n",
    "\n",
    "for row in range(0,len(IICDF2)):\n",
    "    ConNo = IICDF2.ConNo[row]\n",
    "    for E in eRange:\n",
    "        ICSph = IICDF2.loc[row]['r':'vPhi']\n",
    "        BetaOutput = (computeBeta(ICSph,q,E,dt,mA,ep,True))\n",
    "        hit = 'Y'\n",
    "        \n",
    "        if BetaOutput == 'F':\n",
    "#             print ('Skip calculation for {0} MeV'.format(E))\n",
    "            hit = 'N'\n",
    "            continue\n",
    "        \n",
    "        beta1 = np.abs(BetaOutput[0])\n",
    "        beta2 = np.abs(BetaOutput[1])\n",
    "         \n",
    "        appendThis = ({'ConNo':ConNo,'E':E,'Beta1':beta1,'Beta2':beta2,'Hit':hit})\n",
    "        masterDF = masterDF.append(appendThis,ignore_index=True)\n",
    "        \n",
    "        \n",
    "print ('{0}/{1} hits'.format(len(masterDF.E), numE))\n",
    "print ('Complete')"
   ]
  },
  {
   "cell_type": "markdown",
   "metadata": {},
   "source": [
    "## Compare $E(\\phi_{crit})$ to mean value of spectrum"
   ]
  },
  {
   "cell_type": "code",
   "execution_count": 97,
   "metadata": {
    "ExecuteTime": {
     "end_time": "2022-07-15T21:37:43.419173Z",
     "start_time": "2022-07-15T21:37:42.120580Z"
    }
   },
   "outputs": [
    {
     "name": "stdout",
     "output_type": "stream",
     "text": [
      "0.26663848113672\n",
      "22/50 hits\n"
     ]
    },
    {
     "data": {
      "image/png": "[encoded data removed]",
      "text/plain": [
       "<Figure size 576x576 with 1 Axes>"
      ]
     },
     "metadata": {
      "needs_background": "light"
     },
     "output_type": "display_data"
    },
    {
     "name": "stdout",
     "output_type": "stream",
     "text": [
      "7.56976e+23\n",
      "5.848e-20\n",
      "0.00465047\n",
      "phiMax:  0.8689219127959871 ,  1.5707963267948966\n",
      "phiMin:  0.0027494291365814634\n"
     ]
    }
   ],
   "source": [
    "spectrumMean = np.dot(ppSpectra.q_MeV,ppSpectra.spectrum)*ppSpectra.step_MeV[0]\n",
    "print (spectrumMean)\n",
    "# print (phiEInterp(spectrumMean))\n",
    "\n",
    "print ('{0}/{1} hits'.format(len(masterDF.E), numE))\n",
    "figy = plt.figure(figsize = (8,8))\n",
    "plt.plot(masterDF.E,np.multiply(masterDF.Beta2,1),'.',label = 'phi(E)')\n",
    "plt.axhline(y=phiCritRad,label = '{0} deg'.format(phiCritDeg),color = 'C1')\n",
    "plt.axvline(x=spectrumMean,label = 'PP Spectrum Mean',color = 'C2')\n",
    "\n",
    "plt.suptitle(r'$\\phi(E)$',size = 20)\n",
    "# plt.title(r'$B_z = 3.5\\times 10^{-20} \\left(\\frac{1}{r}+ \\frac{1}{1-r} \\right)$ Tesla',size = 16,loc = 'right')\n",
    "plt.xlabel('Energy [MeV]', size = 16)\n",
    "plt.ylabel('Phi [Rad]', size = 16)\n",
    "# plt.axhline(y=np.pi*20/180,color = 'orange', label = '20 Degree deflection')\n",
    "# plt.axhline(y=20,color = 'orange', label = '20 Degree deflection')\n",
    "plt.xscale('log')\n",
    "plt.yscale('log')\n",
    "plt.legend(loc = 'upper right')\n",
    "plt.xticks(fontsize = 16)\n",
    "plt.yticks(fontsize = 16)\n",
    "plt.grid()\n",
    "plt.show()\n",
    "\n",
    "\n",
    "print (km2geVInv(au2km(1))/1000)\n",
    "print (tesla2MeV2(1e-9))\n",
    "print (rHalf*2)\n",
    "\n",
    "print ('phiMax: ',max(masterDF.Beta2),', ',np.pi/2)\n",
    "print ('phiMin: ',min(masterDF.Beta2))"
   ]
  },
  {
   "cell_type": "markdown",
   "metadata": {},
   "source": [
    "## Domain Check"
   ]
  },
  {
   "cell_type": "code",
   "execution_count": 86,
   "metadata": {
    "ExecuteTime": {
     "end_time": "2022-07-12T20:24:28.449209Z",
     "start_time": "2022-07-12T20:24:27.924987Z"
    }
   },
   "outputs": [
    {
     "data": {
      "image/png": "[encoded data removed]",
      "text/plain": [
       "<Figure size 576x576 with 1 Axes>"
      ]
     },
     "metadata": {
      "needs_background": "light"
     },
     "output_type": "display_data"
    }
   ],
   "source": [
    "phiEInterp = interpolate.interp1d(masterDF.E,masterDF.Beta2) # the function phi(E)\n",
    "EPhiInterp = interpolate.interp1d(masterDF.Beta2,masterDF.E) # The function E(phi)\n",
    "\n",
    "figB = plt.figure(figsize = (8,8))\n",
    "plt.plot(ppE,np.multiply(ppS,ppFF),label = 'pp')\n",
    "plt.plot(b8E,np.multiply(b8S,b8FF),label = '$^8B$')\n",
    "plt.plot(hepE,np.multiply(hepS,hepFF),label = 'hep')\n",
    "# plt.plot(masterDF.E,phiEInterp(masterDF.E), label = 'phi(E)')\n",
    "plt.plot(masterDF.E[:-1],np.abs(phiEInterp(masterDF.E[:-1])),label = 'Phi(E)')\n",
    "plt.legend(loc = 'upper right')\n",
    "plt.xscale('log')\n",
    "plt.yscale('log')\n",
    "plt.xlabel('Energy [MeV]')\n",
    "plt.ylabel('Meaningless')\n",
    "plt.grid()\n",
    "plt.show()"
   ]
  },
  {
   "cell_type": "markdown",
   "metadata": {},
   "source": [
    "## Generate $\\frac{dN}{d\\phi}$ and $\\langle \\phi \\rangle$"
   ]
  },
  {
   "cell_type": "code",
   "execution_count": 51,
   "metadata": {
    "ExecuteTime": {
     "end_time": "2022-07-12T20:12:28.741497Z",
     "start_time": "2022-07-12T20:12:28.203275Z"
    }
   },
   "outputs": [
    {
     "data": {
      "image/png": "[encoded data removed]",
      "text/plain": [
       "<Figure size 432x432 with 1 Axes>"
      ]
     },
     "metadata": {
      "needs_background": "light"
     },
     "output_type": "display_data"
    },
    {
     "name": "stdout",
     "output_type": "stream",
     "text": [
      "$\\frac{d\\phi}{dE}$ points:  120\n"
     ]
    }
   ],
   "source": [
    "\n",
    "phiEDer = []\n",
    "for e in masterDF.E[:-1]:\n",
    "    phiEDer.append(derivative(phiEInterp,e,h = masterDF.E[3]-masterDF.E[2],method = 'forward'))\n",
    "\n",
    "    \n",
    "dPhidEInterp = interpolate.interp1d(masterDF.E[:-1],phiEDer,kind = 'linear')\n",
    "    \n",
    "# print (masterDF.E)\n",
    "# print (masterDF.E[:-1])\n",
    "    \n",
    "# figDeriv = plt.figure(figsize = (6,6))\n",
    "# plt.plot(masterDF.E,masterDF.Beta2,'.', color = 'C0', label = 'phi(E)')\n",
    "# plt.plot(masterDF.E,phiEInterp(masterDF.E),color = 'C1')\n",
    "# plt.suptitle('phi(E)')\n",
    "# plt.xscale('log')\n",
    "# plt.yscale('linear')\n",
    "# plt.grid()\n",
    "# plt.show()\n",
    "# print (r'$\\phi(E)$ points: ', len(masterDF.Beta2))\n",
    "\n",
    "figDeriv = plt.figure(figsize = (6,6))\n",
    "# plt.plot(masterDF.E[:-1],phiEDer,'.', label = 'dphi/dE',color = 'C0')\n",
    "plt.plot(masterDF.E[:-1],np.abs(dPhidEInterp(masterDF.E[:-1])),color = 'C1')\n",
    "plt.suptitle('dphi/dE')\n",
    "plt.xscale('log')\n",
    "plt.yscale('log')\n",
    "plt.grid()\n",
    "plt.show()\n",
    "print (r'$\\frac{d\\phi}{dE}$ points: ', len(phiEDer))\n"
   ]
  },
  {
   "cell_type": "code",
   "execution_count": 52,
   "metadata": {
    "ExecuteTime": {
     "end_time": "2022-07-12T20:12:34.946712Z",
     "start_time": "2022-07-12T20:12:34.552192Z"
    }
   },
   "outputs": [
    {
     "name": "stdout",
     "output_type": "stream",
     "text": [
      "5 bins\n",
      "5 bins\n",
      "5 bins\n"
     ]
    },
    {
     "data": {
      "image/png": "[encoded data removed]",
      "text/plain": [
       "<Figure size 576x576 with 1 Axes>"
      ]
     },
     "metadata": {
      "needs_background": "light"
     },
     "output_type": "display_data"
    },
    {
     "name": "stdout",
     "output_type": "stream",
     "text": [
      "avgPhiPP 0.6783660822187945\n"
     ]
    }
   ],
   "source": [
    "# deltaPhi = 0.001\n",
    "# deltaPhi = 0.005\n",
    "\n",
    "# deltaPhi = 0.01\n",
    "deltaPhi = 0.25\n",
    "newppCounts = (convolution(ppSpectra,deltaPhi,False))\n",
    "newhepCounts = (convolution(hepSpectra,deltaPhi,False))\n",
    "newb8Counts = (convolution(b8Spectra,deltaPhi,False))\n",
    "\n",
    "ppNormed = L1Norm(newppCounts[1],deltaPhi)\n",
    "hepNormed = L1Norm(newhepCounts[1],deltaPhi)\n",
    "b8Normed = L1Norm(newb8Counts[1],deltaPhi)\n",
    "\n",
    "avgPhiPP  = np.dot(ppNormed,newppCounts[0])*deltaPhi\n",
    "avgPhiHep = np.dot(hepNormed,newhepCounts[0])*deltaPhi\n",
    "avgPhiB8  = np.dot(b8Normed,newb8Counts[0])*deltaPhi\n",
    "\n",
    "\n",
    "ppFF = ppSpectra.total_flux[0]\n",
    "hepFF = hepSpectra.total_flux[0]\n",
    "b8FF = b8Spectra.total_flux[0]\n",
    "\n",
    "# ppFF = 1\n",
    "# hepFF = 1\n",
    "# b8FF = 1\n",
    "\n",
    "dNdPhiHist = plt.figure(figsize = (8,8))\n",
    "# plt.scatter(np.multiply(newppCounts[0][:-1],1),np.multiply(newppCounts[1],ppFF), label = 'pp')\n",
    "plt.scatter(np.multiply(newppCounts[0],1),np.multiply(newppCounts[1],ppFF), label = 'pp',color = 'C0')\n",
    "plt.scatter(np.multiply(newhepCounts[0],1),np.multiply(newhepCounts[1],hepFF), label = 'hep',color = 'C1')\n",
    "plt.scatter(np.multiply(newb8Counts[0],1),np.multiply(newb8Counts[1],b8FF), label = 'b8',color = 'C2')\n",
    "# plt.axvline(x = 20*np.pi/180,color = 'C3',label = '20 degrees')\n",
    "# plt.axvline(x = 20,color = 'C3',label = '20 degrees')\n",
    "lines = newppCounts[2]\n",
    "for line in lines:\n",
    "    plt.axvline(x=line,ymin = 0,ymax = 0.05,color ='k')\n",
    "\n",
    "plt.axvline(x=avgPhiPP,color = 'C0')\n",
    "plt.axvline(x=avgPhiHep,color = 'C1')\n",
    "plt.axvline(x=avgPhiB8,color = 'C2')\n",
    "\n",
    "    \n",
    "plt.legend(loc = 'upper right')\n",
    "plt.suptitle('Deflection Angles for Neutrino Spectra',size = 20)\n",
    "# plt.title(r'Solar and Terrestrial ~ 3.5E-20/r', loc = 'right')\n",
    "plt.xlabel(r'$\\phi$', size = 18)\n",
    "plt.ylabel(r'$\\frac{dN}{d\\phi}$',size = 18)\n",
    "plt.xscale('linear')\n",
    "plt.yscale('log')\n",
    "\n",
    "# plt.axis([-0.1,np.pi/2+(0.1*np.pi/2),10**-8.5,10**1])\n",
    "# plt.axis([-0.1,np.pi/2+(0.1*np.pi/2),10**-1,10**6])\n",
    "\n",
    "\n",
    "\n",
    "plt.grid()\n",
    "plt.show()\n",
    "\n",
    "# avgPhiHep = \n",
    "# avgPhiB8  = \n",
    "\n",
    "print ('avgPhiPP', avgPhiPP)"
   ]
  },
  {
   "cell_type": "code",
   "execution_count": null,
   "metadata": {},
   "outputs": [],
   "source": []
  },
  {
   "cell_type": "markdown",
   "metadata": {},
   "source": [
    "## Raw Data for Constant Bz ~ nanoTesla"
   ]
  },
  {
   "cell_type": "code",
   "execution_count": null,
   "metadata": {},
   "outputs": [],
   "source": [
    "mAList = [0,(1/km2geVInv(au2km(1))/1000)*10**-10,]\n",
    "epList = [10**-2.7,10**-2.7,"
   ]
  }
 ],
 "metadata": {
  "kernelspec": {
   "display_name": "Python 3",
   "language": "python",
   "name": "python3"
  },
  "language_info": {
   "codemirror_mode": {
    "name": "ipython",
    "version": 3
   },
   "file_extension": ".py",
   "mimetype": "text/x-python",
   "name": "python",
   "nbconvert_exporter": "python",
   "pygments_lexer": "ipython3",
   "version": "3.8.3"
  },
  "latex_envs": {
   "LaTeX_envs_menu_present": true,
   "autoclose": false,
   "autocomplete": true,
   "bibliofile": "biblio.bib",
   "cite_by": "apalike",
   "current_citInitial": 1,
   "eqLabelWithNumbers": true,
   "eqNumInitial": 1,
   "hotkeys": {
    "equation": "Ctrl-E",
    "itemize": "Ctrl-I"
   },
   "labels_anchors": false,
   "latex_user_defs": false,
   "report_style_numbering": false,
   "user_envs_cfg": false
  },
  "toc": {
   "base_numbering": 1,
   "nav_menu": {},
   "number_sections": true,
   "sideBar": true,
   "skip_h1_title": false,
   "title_cell": "Table of Contents",
   "title_sidebar": "Contents",
   "toc_cell": false,
   "toc_position": {},
   "toc_section_display": true,
   "toc_window_display": false
  },
  "varInspector": {
   "cols": {
    "lenName": 16,
    "lenType": 16,
    "lenVar": 40
   },
   "kernels_config": {
    "python": {
     "delete_cmd_postfix": "",
     "delete_cmd_prefix": "del ",
     "library": "var_list.py",
     "varRefreshCmd": "print(var_dic_list())"
    },
    "r": {
     "delete_cmd_postfix": ") ",
     "delete_cmd_prefix": "rm(",
     "library": "var_list.r",
     "varRefreshCmd": "cat(var_dic_list()) "
    }
   },
   "types_to_exclude": [
    "module",
    "function",
    "builtin_function_or_method",
    "instance",
    "_Feature"
   ],
   "window_display": false
  }
 },
 "nbformat": 4,
 "nbformat_minor": 4
}
